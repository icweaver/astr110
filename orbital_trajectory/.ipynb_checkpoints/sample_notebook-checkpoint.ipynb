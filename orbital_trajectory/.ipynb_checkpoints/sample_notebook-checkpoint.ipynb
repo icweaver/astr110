{
 "cells": [
  {
   "cell_type": "markdown",
   "metadata": {},
   "source": [
    "# Orbital Trajectory Integrator"
   ]
  },
  {
   "cell_type": "markdown",
   "metadata": {},
   "source": [
    "##### This notebook sets up and runs a simple orbital simulation in 2D using a Runge-Kutta 4th Order integration scheme with adaptive timestepping. The simulation assumes an inertial Cartesian coordinate system with a solar mass object at the origin and massless test particle placed on the negative-x axis (horizontal axis). Here is some brief info of what you can do:\n",
    "\n",
    "* The initial conditions defined in ```orb_plot ``` can be adjusted in real time under  **Simulation Viewer ** . \n",
    "* The position and velocity are tabulated and saved in real time in a dat file named ```orb.dat``` in the same directory as this notebook and can be viewed in **Taking a look at the data **. A few diagnostic plots are generated from the data as well.\n",
    "* A movie of the evolution of the orbit can also be made under **Movie Maker**."
   ]
  },
  {
   "cell_type": "code",
   "execution_count": 1,
   "metadata": {
    "collapsed": true
   },
   "outputs": [],
   "source": [
    "import matplotlib.pylab as plt\n",
    "import numpy as np\n",
    "import seaborn as sns\n",
    "\n",
    "from astropy import units as u\n",
    "from astropy import constants as c\n",
    "from astropy.io import ascii\n",
    "from matplotlib.ticker import FormatStrFormatter\n",
    "\n",
    "import ipywidgets as widgets\n",
    "\n",
    "%matplotlib inline"
   ]
  },
  {
   "cell_type": "code",
   "execution_count": 2,
   "metadata": {
    "collapsed": true
   },
   "outputs": [],
   "source": [
    "# some plotting preferences for a dark themed notebook\n",
    "dark_style = {'axes.labelcolor': 'white',\n",
    "                'xtick.color': 'white',\n",
    "                'ytick.color': 'white',\n",
    "                'axes.facecolor': '#384151',\n",
    "                'axes.edgecolor': 'white'}\n",
    "\n",
    "sns.set_style(dark_style)\n",
    "sns.set_color_codes('deep')\n",
    "sns.set_palette('deep')"
   ]
  },
  {
   "cell_type": "code",
   "execution_count": 3,
   "metadata": {
    "collapsed": true
   },
   "outputs": [],
   "source": [
    "# system constants\n",
    "G = (1 * c.G).cgs.value\n",
    "M = (1 * u.solMass).cgs.value\n",
    "au = (1 * u.AU).cgs.value"
   ]
  },
  {
   "cell_type": "code",
   "execution_count": 14,
   "metadata": {
    "collapsed": true
   },
   "outputs": [],
   "source": [
    "def sho_func(t, uin): # calculates derivatives for RK4\n",
    "    # position and velocity\n",
    "    r = uin[:2]\n",
    "    v = uin[2:]\n",
    "    \n",
    "    # distance of point mass from each M\n",
    "    d = np.linalg.norm(0 - r)\n",
    "\n",
    "    # calulating accelerations\n",
    "    g = (G*M/d**3) * (0 - r)\n",
    "    \n",
    "    derivs = np.ndarray(4)\n",
    "    derivs[:2] = v\n",
    "    derivs[2:] = g\n",
    "    \n",
    "    return derivs"
   ]
  },
  {
   "cell_type": "code",
   "execution_count": 15,
   "metadata": {
    "collapsed": true
   },
   "outputs": [],
   "source": [
    "def sho_RK4(t, u_old, dt):\n",
    "    K1 = sho_func(t, u_old)\n",
    "    K2 = sho_func(t + dt/2, u_old + K1*dt/2)\n",
    "    K3 = sho_func(t + dt/2, u_old + K2*dt/2)\n",
    "    K4 = sho_func(t + dt, u_old + K3*dt)\n",
    "    \n",
    "    u_new = u_old + (dt/6)*(K1 + 2*(K2 + K3) + K4)\n",
    "    return u_new"
   ]
  },
  {
   "cell_type": "code",
   "execution_count": 16,
   "metadata": {},
   "outputs": [],
   "source": [
    "def orb_plot(x_pos, x_vel, y_vel, T, f):\n",
    "    # Initial conditions\n",
    "    x = -x_pos*au\n",
    "    y = 0\n",
    "    a0 = np.sqrt(x**2 + y**2)\n",
    "    v_circ = np.sqrt(G * M / a0)\n",
    "\n",
    "    vx = x_vel*v_circ\n",
    "    vy = -y_vel*v_circ\n",
    "    T0 = (1 * u.year).cgs.value\n",
    "\n",
    "    tmax  =  T*T0\n",
    "    \n",
    "    pos_0 = np.array([x, y])\n",
    "    vel_0 = np.array([vx, vy])\n",
    "\n",
    "    uold = np.zeros(4)\n",
    "    uold[:2] = pos_0\n",
    "    uold[2:] = vel_0\n",
    "\n",
    "    x = []\n",
    "    y = []\n",
    "    vx = []\n",
    "    vy = []\n",
    "    \n",
    "    x.append(uold[0])\n",
    "    y.append(uold[1])\n",
    "    vx.append(uold[2])\n",
    "    vy.append(uold[3])\n",
    "    \n",
    "    # graphically show initial velocity vector\n",
    "    fig, ax = plt.subplots(figsize=(6,6))\n",
    "    ax.arrow(x[0]/au, y[0]/au, vx[0]/v_circ, vy[0]/v_circ, color='w', head_width=0.05, lw=2)\n",
    "\n",
    "    # Integrate orbit\n",
    "    t = 0\n",
    "    while (t <= tmax):\n",
    "        # v0 based on speed at beginning of current timestep\n",
    "        v0 = np.sqrt(uold[2]**2 + uold[3]**2) \n",
    "        dt = 10**(f) * np.abs(x[0]) / v0\n",
    "    #for t in np.arange(0, tmax+dt, dt):\n",
    "        unew = sho_RK4(t, uold, dt)\n",
    "\n",
    "        x.append(unew[0])\n",
    "        y.append(unew[1])\n",
    "        vx.append(unew[2])\n",
    "        vy.append(unew[3])\n",
    "\n",
    "        uold = unew # step forward\n",
    "        \n",
    "        t += dt\n",
    "\n",
    "    # write to file\n",
    "    ascii.write([x,y,vx,vy], './orb.dat', names=['x', 'y', 'vx', 'vy'],\n",
    "               overwrite=True)\n",
    "    \n",
    "    x = np.array(x) / au\n",
    "    y = np.array(y) / au\n",
    "\n",
    "    ax.set_aspect(aspect='equal')\n",
    "    lim = 2.5\n",
    "    ax.set_xlim(-lim, lim)\n",
    "    ax.set_ylim(-lim, lim)\n",
    "\n",
    "    #ax.xaxis.set_major_formatter(FormatStrFormatter('%.2f'))\n",
    "    #ax.yaxis.set_major_formatter(FormatStrFormatter('%.2f'))\n",
    "\n",
    "    # plot trajectory\n",
    "    ax.plot(x, y, color='orange')\n",
    "    \n",
    "    # overplot circular orbit\n",
    "    theta = np.linspace(0, 2*np.pi, 100)\n",
    "    ax.plot(np.cos(theta), np.sin(theta), ls='--', color='cyan')\n",
    "    \n",
    "    # plot starting and ending points\n",
    "    ax.plot(x[0], y[0], 'go', ms=10)\n",
    "    ax.plot(x[-1], y[-1], 'ro', ms=10)\n",
    "    \n",
    "    fig.tight_layout()\n",
    "    plt.show() # to update live plot"
   ]
  },
  {
   "cell_type": "markdown",
   "metadata": {},
   "source": [
    "## Simulation Viewer"
   ]
  },
  {
   "cell_type": "code",
   "execution_count": 17,
   "metadata": {},
   "outputs": [
    {
     "data": {
      "application/vnd.jupyter.widget-view+json": {
       "model_id": "f106e9e1d9a545708099006584d8e4d1"
      }
     },
     "metadata": {},
     "output_type": "display_data"
    }
   ],
   "source": [
    "box_layout = widgets.Layout(\n",
    "    display='inline-flex',\n",
    "    flex_flow='row wrap',\n",
    "    justify_content='flex-start'\n",
    ")\n",
    "\n",
    "items = [\n",
    "    widgets.FloatSlider(value=1, min=0.1, max=2, step=0.01, \n",
    "                        description='$-r_x / 1$ $AU$'),\n",
    "    widgets.FloatSlider(value=0, min=-2, max=2, step=0.01, \n",
    "                        description='$v_x / v_c$'),\n",
    "    widgets.FloatSlider(value=1, min=-2, max=2, step=0.01, \n",
    "                        description='$-v_y / v_c$'),\n",
    "    widgets.FloatSlider(value=1, min=0.1, max=5, step=0.01, \n",
    "                        description='$T$ / $1\\ year$'),\n",
    "    widgets.FloatSlider(value=-2, min=-3, max=2, step=1, \n",
    "                        description=r'$f\\ \\left(dt = 10^f \\cdot x_0 / v\\right)$')\n",
    "        ]\n",
    "\n",
    "w = widgets.interactive(orb_plot, x_pos=items[0], x_vel=items[1], \n",
    "                        y_vel=items[2], T = items[3], f = items[4])\n",
    "\n",
    "w.layout = box_layout\n",
    "\n",
    "# show the widgets\n",
    "w"
   ]
  },
  {
   "cell_type": "markdown",
   "metadata": {},
   "source": [
    "Quick summary of the sliders \n",
    "* $-r_x / 1\\ AU$: how far along the x-axis, in AU, the test particle starts. This sets $x_0$.\n",
    "* $v_x/v_c$: initial x component of the test particle velocity in units of the circular speed $v_c = \\sqrt{GM/x_0}$\n",
    "* $-v_y/v_c$: initial y component of the test particle velocity in units of $v_c$, with down defined as negative.\n",
    "* $T/1\\ year$: How long the simulation runs for, in units of 1 year.\n",
    "* $f\\ \\left(dt = 10^f \\cdot x_0 / v\\right)$: defines the characterisic lengthscale used for cell crossing time in adaptive timestep procedure. $f$ scales the power of ten multiplied by the intitial distance of the test particle from the central mass. $v$ is the total speed of the test particle at the beginning of the current timestep."
   ]
  },
  {
   "cell_type": "markdown",
   "metadata": {},
   "source": [
    "# Taking a look at the data"
   ]
  },
  {
   "cell_type": "markdown",
   "metadata": {},
   "source": [
    "From the position and velocity information stored in ```orb.dat``` we can derive different physical quantities like the specific energy and angular momentum of our test particle. Plotting how these quantites vary over time is a nice way to check if our integrator is doing a good job of conserving these quantites. \n",
    "\n",
    "Since the test particle is \"massless\" $(m\\to 0)$, the specific energy $E$ and specific angular momentum $L$ is used because it already divides through regular energy and angular momentum by $m$:\n",
    "$$\\begin{aligned} \n",
    "    E &= \\frac{1}{2}v^2 - \\frac{GM}{r} \\\\ \n",
    "    L &= r \\times v \\quad.\n",
    "\\end{aligned}$$\n",
    "\n",
    "Typically, adaptive time stepping is a handy way to improve how well the RK4 integrator conserves these quantities. The naive prescription I used just scales the timesteps by how fast the test particle is crossing a given length scale $(\\Delta t = 10^f r_0 / v)$. Feel free to play around with the \"fudge factor\" $f$ on the interactive slider or create your own adaptive time stepping prescription!"
   ]
  },
  {
   "cell_type": "code",
   "execution_count": 27,
   "metadata": {
    "scrolled": false
   },
   "outputs": [
    {
     "data": {
      "text/html": [
       "&lt;Table length=200&gt;\n",
       "<table id=\"table4698297120\" class=\"table-striped table-bordered table-condensed\">\n",
       "<thead><tr><th>x</th><th>y</th><th>vx</th><th>vy</th></tr></thead>\n",
       "<thead><tr><th>float64</th><th>float64</th><th>float64</th><th>float64</th></tr></thead>\n",
       "<tr><td>-1.495978707e+13</td><td>0.0</td><td>1250957.05685</td><td>-1250957.05685</td></tr>\n",
       "<tr><td>-1.36785864967e+13</td><td>-1.05219874859e+12</td><td>1794867.98627</td><td>-1230060.55214</td></tr>\n",
       "<tr><td>-1.22681723851e+13</td><td>-1.87994509971e+12</td><td>2325141.12895</td><td>-1169115.17392</td></tr>\n",
       "<tr><td>-1.07811739839e+13</td><td>-2.52499219804e+12</td><td>2868117.77483</td><td>-1064083.12994</td></tr>\n",
       "<tr><td>-9.24278901063e+12</td><td>-3.00957556089e+12</td><td>3446675.55254</td><td>-902433.739225</td></tr>\n",
       "<tr><td>-7.66758132566e+12</td><td>-3.34236379292e+12</td><td>4084816.69454</td><td>-660062.546625</td></tr>\n",
       "<tr><td>-6.06597269897e+12</td><td>-3.52105043323e+12</td><td>4811205.23193</td><td>-292370.885816</td></tr>\n",
       "<tr><td>-4.44813019773e+12</td><td>-3.53156900746e+12</td><td>5660745.23231</td><td>287163.936625</td></tr>\n",
       "<tr><td>-2.82896702238e+12</td><td>-3.34319191442e+12</td><td>6664736.59015</td><td>1261114.47498</td></tr>\n",
       "<tr><td>-1.24085782572e+12</td><td>-2.89640737669e+12</td><td>7768421.32539</td><td>3052119.2252</td></tr>\n",
       "<tr><td>...</td><td>...</td><td>...</td><td>...</td></tr>\n",
       "<tr><td>-4.00451105352e+12</td><td>75709338429.8</td><td>410260.578934</td><td>-4170366.19015</td></tr>\n",
       "<tr><td>-3.30823100784e+12</td><td>-1.35005969459e+12</td><td>3568764.188</td><td>-3581484.00396</td></tr>\n",
       "<tr><td>-1.80778918948e+12</td><td>-2.14328914665e+12</td><td>6644042.27643</td><td>-1340361.81726</td></tr>\n",
       "<tr><td>-101583377076.0</td><td>-2.00088483442e+12</td><td>8495498.7605</td><td>3391037.47746</td></tr>\n",
       "<tr><td>1.15320817383e+12</td><td>-921526199209.0</td><td>5504648.98092</td><td>10006217.8674</td></tr>\n",
       "<tr><td>1.36073123315e+12</td><td>543010870250.0</td><td>-2555379.56149</td><td>11099649.0444</td></tr>\n",
       "<tr><td>668684828280.0</td><td>1.71254239456e+12</td><td>-7056395.01486</td><td>6467303.5266</td></tr>\n",
       "<tr><td>-500133508976.0</td><td>2.3292834891e+12</td><td>-7420778.37089</td><td>1805833.19171</td></tr>\n",
       "<tr><td>-1.81561680287e+12</td><td>2.32502324411e+12</td><td>-5880036.32043</td><td>-1487375.58021</td></tr>\n",
       "<tr><td>-2.96887071637e+12</td><td>1.66896660704e+12</td><td>-3459627.43663</td><td>-3567635.12376</td></tr>\n",
       "</table>"
      ],
      "text/plain": [
       "<Table length=200>\n",
       "        x                  y                vx             vy      \n",
       "     float64            float64          float64        float64    \n",
       "------------------ ------------------ -------------- --------------\n",
       "  -1.495978707e+13                0.0  1250957.05685 -1250957.05685\n",
       "-1.36785864967e+13 -1.05219874859e+12  1794867.98627 -1230060.55214\n",
       "-1.22681723851e+13 -1.87994509971e+12  2325141.12895 -1169115.17392\n",
       "-1.07811739839e+13 -2.52499219804e+12  2868117.77483 -1064083.12994\n",
       "-9.24278901063e+12 -3.00957556089e+12  3446675.55254 -902433.739225\n",
       "-7.66758132566e+12 -3.34236379292e+12  4084816.69454 -660062.546625\n",
       "-6.06597269897e+12 -3.52105043323e+12  4811205.23193 -292370.885816\n",
       "-4.44813019773e+12 -3.53156900746e+12  5660745.23231  287163.936625\n",
       "-2.82896702238e+12 -3.34319191442e+12  6664736.59015  1261114.47498\n",
       "-1.24085782572e+12 -2.89640737669e+12  7768421.32539   3052119.2252\n",
       "               ...                ...            ...            ...\n",
       "-4.00451105352e+12      75709338429.8  410260.578934 -4170366.19015\n",
       "-3.30823100784e+12 -1.35005969459e+12    3568764.188 -3581484.00396\n",
       "-1.80778918948e+12 -2.14328914665e+12  6644042.27643 -1340361.81726\n",
       "   -101583377076.0 -2.00088483442e+12   8495498.7605  3391037.47746\n",
       " 1.15320817383e+12    -921526199209.0  5504648.98092  10006217.8674\n",
       " 1.36073123315e+12     543010870250.0 -2555379.56149  11099649.0444\n",
       "    668684828280.0  1.71254239456e+12 -7056395.01486   6467303.5266\n",
       "   -500133508976.0   2.3292834891e+12 -7420778.37089  1805833.19171\n",
       "-1.81561680287e+12  2.32502324411e+12 -5880036.32043 -1487375.58021\n",
       "-2.96887071637e+12  1.66896660704e+12 -3459627.43663 -3567635.12376"
      ]
     },
     "execution_count": 27,
     "metadata": {},
     "output_type": "execute_result"
    }
   ],
   "source": [
    "t = ascii.read('./orb.dat')\n",
    "t"
   ]
  },
  {
   "cell_type": "code",
   "execution_count": 28,
   "metadata": {},
   "outputs": [],
   "source": [
    "dist = np.sqrt(t['x']**2 + t['y']**2) # distance\n",
    "\n",
    "speed = np.sqrt(t['vx']**2 + t['vy']**2) # speed\n",
    "speed_0 = np.sqrt(t['vx'][0]**2 + t['vy'][0]**2)\n",
    "\n",
    "spec_E = 0.5*speed**2 - G*M/dist # specific energy\n",
    "spec_E0 = 0.5*speed[0]**2 - G*M/dist[0]\n",
    "\n",
    "spec_L = []\n",
    "for i in range(len(t['x'])):\n",
    "    r = np.array([t['x'][i], t['y'][i], 0])\n",
    "    v = np.array([t['vx'][i], t['vy'][i], 0])\n",
    "    spec_L_i = np.linalg.norm(np.cross(r, v))\n",
    "    spec_L.append(spec_L_i)\n",
    "r0 = np.array([t['x'][0], t['y'][0], 0])\n",
    "v0 = np.array([t['vx'][0], t['vy'][0], 0])\n",
    "spec_L0 = np.linalg.norm(np.cross(r0, v0))"
   ]
  },
  {
   "cell_type": "code",
   "execution_count": 29,
   "metadata": {},
   "outputs": [
    {
     "data": {
      "image/png": "[encoded data removed]",
      "text/plain": [
       "<matplotlib.figure.Figure at 0x118f811d0>"
      ]
     },
     "metadata": {},
     "output_type": "display_data"
    }
   ],
   "source": [
    "dark_style = {'axes.labelcolor': 'white',\n",
    "                'xtick.color': 'white',\n",
    "                'ytick.color': 'white',\n",
    "                'axes.facecolor': '#384151',\n",
    "                'grid.color' : 'grey'\n",
    "              }\n",
    "\n",
    "sns.set_style(dark_style)\n",
    "fig, ax = plt.subplots(1, 3, figsize=(10,3))\n",
    "\n",
    "# speed\n",
    "ax[0].plot(speed / speed_0, 'r')\n",
    "ax[0].set_xlabel('step')\n",
    "ax[0].set_ylabel('$v/v_0$')\n",
    "ax[0].set_title('speed', color='w')\n",
    "\n",
    "# specific energy\n",
    "ax[1].plot((spec_E - spec_E0) / spec_E0, 'g')\n",
    "ax[1].set_xlabel('step')\n",
    "ax[1].set_ylabel('$\\Delta E/E_0$')\n",
    "ax[1].set_title('energy', color='w')\n",
    "\n",
    "# specific angular momentum\n",
    "ax[2].plot((spec_L - spec_L0) / spec_L0, 'y')\n",
    "ax[2].set_xlabel('step')\n",
    "ax[2].set_ylabel('$\\Delta L/L_0$')\n",
    "ax[2].set_title('angular momentum', color='w')\n",
    "#ax[2].yaxis.set_major_formatter(mtick.FormatStrFormatter('%.1e'))\n",
    "\n",
    "\n",
    "fig.tight_layout()"
   ]
  },
  {
   "cell_type": "markdown",
   "metadata": {},
   "source": [
    "# Movie Maker"
   ]
  },
  {
   "cell_type": "markdown",
   "metadata": {},
   "source": [
    "### We can also use the data in ``` orb.dat ``` to create an animation of the interactive plot from earlier."
   ]
  },
  {
   "cell_type": "code",
   "execution_count": 24,
   "metadata": {
    "collapsed": true
   },
   "outputs": [],
   "source": [
    "from matplotlib import animation, rc\n",
    "from IPython.display import HTML"
   ]
  },
  {
   "cell_type": "code",
   "execution_count": 30,
   "metadata": {},
   "outputs": [],
   "source": [
    "fig, ax = plt.subplots()\n",
    "plt.close()\n",
    "lim = 2.5\n",
    "ax.set_xlim(( -lim, lim))\n",
    "ax.set_ylim((-lim, lim))\n",
    "\n",
    "line, = ax.plot([], [], lw=2)\n",
    "line2, = ax.plot([], [], lw=2)\n",
    "line3, = ax.plot([], [], lw=2)\n",
    "line = [line, line2, line3]\n",
    "\n",
    "# initialization function: plot the background of each frame\n",
    "def init():\n",
    "    line[0].set_data([], [])\n",
    "    line[1].set_data([], [])\n",
    "    line[2].set_data([], [])\n",
    "    return line\n",
    "\n",
    "# animation function. This is called sequentially\n",
    "def animate(i):\n",
    "   # plot the trajectory\n",
    "    line[0].set_data(t['x'][:i+1] / au, t['y'][:i+1] / au) \n",
    "    # the +1 makes it inclusive\n",
    "    line[0].set_color('orange')\n",
    "    \n",
    "    # add a point at the beginning\n",
    "    line[1].set_data(t['x'][0] / au, t['y'][0] / au)\n",
    "    line[1].set_marker('o')\n",
    "    line[1].set_color('g')\n",
    "    \n",
    "    # add a point at the end\n",
    "    line[2].set_data(t['x'][i] / au, t['y'][i] / au)\n",
    "    line[2].set_marker('o')\n",
    "    line[2].set_color('r')\n",
    "    \n",
    "    return line"
   ]
  },
  {
   "cell_type": "markdown",
   "metadata": {},
   "source": [
    "Here is where we actually display the movie. ``` frames ``` is the number of still images that will be sown together by ``` ffmpeg ``` and ``` interval ``` is the delay in milliseconds before showing the next frame of the movie. Feel free to play around with both to achieve a desired frame rate."
   ]
  },
  {
   "cell_type": "code",
   "execution_count": 32,
   "metadata": {},
   "outputs": [
    {
     "data": {
      "text/html": [
       "<video width=\"432\" height=\"288\" controls autoplay loop>\n",
       "  <source type=\"video/mp4\" src=\"data:video/mp4;base64,AAAAHGZ0eXBNNFYgAAACAGlzb21pc28yYXZjMQAAAAhmcmVlAABr321kYXQAAAKgBgX//5zcRem9\n",
       "5tlIt5Ys2CDZI+7veDI2NCAtIGNvcmUgMTM4IC0gSC4yNjQvTVBFRy00IEFWQyBjb2RlYyAtIENv\n",
       "cHlsZWZ0IDIwMDMtMjAxMyAtIGh0dHA6Ly93d3cudmlkZW9sYW4ub3JnL3gyNjQuaHRtbCAtIG9w\n",
       "dGlvbnM6IGNhYmFjPTEgcmVmPTMgZGVibG9jaz0xOjA6MCBhbmFseXNlPTB4MzoweDExMyBtZT1o\n",
       "ZXggc3VibWU9NyBwc3k9MSBwc3lfcmQ9MS4wMDowLjAwIG1peGVkX3JlZj0xIG1lX3JhbmdlPTE2\n",
       "IGNocm9tYV9tZT0xIHRyZWxsaXM9MSA4eDhkY3Q9MSBjcW09MCBkZWFkem9uZT0yMSwxMSBmYXN0\n",
       "X3Bza2lwPTEgY2hyb21hX3FwX29mZnNldD0tMiB0aHJlYWRzPTEyIGxvb2thaGVhZF90aHJlYWRz\n",
       "PTIgc2xpY2VkX3RocmVhZHM9MCBucj0wIGRlY2ltYXRlPTEgaW50ZXJsYWNlZD0wIGJsdXJheV9j\n",
       "b21wYXQ9MCBjb25zdHJhaW5lZF9pbnRyYT0wIGJmcmFtZXM9MyBiX3B5cmFtaWQ9MiBiX2FkYXB0\n",
       "PTEgYl9iaWFzPTAgZGlyZWN0PTEgd2VpZ2h0Yj0xIG9wZW5fZ29wPTAgd2VpZ2h0cD0yIGtleWlu\n",
       "dD0yNTAga2V5aW50X21pbj01IHNjZW5lY3V0PTQwIGludHJhX3JlZnJlc2g9MCByY19sb29rYWhl\n",
       "YWQ9NDAgcmM9Y3JmIG1idHJlZT0xIGNyZj0yMy4wIHFjb21wPTAuNjAgcXBtaW49MCBxcG1heD02\n",
       "OSBxcHN0ZXA9NCBpcF9yYXRpbz0xLjQwIGFxPTE6MS4wMACAAAAFjmWIhAAQ//7yI35llZRwn3Eo\n",
       "95NfaLz+kq+M5uv8mkHpj1ttTKsBzDlj+kJNHZz3qLNl0Q7bpsAP+in0J5RMtn2A3EdiDPwe7wTR\n",
       "m8MT7ks19+fHkiMvwpaZaee+REImLTFqIcomoaMSHCRoVuXeqKrHZ6O4ap9joTqCLT4v4uJWYPVa\n",
       "L0dLkhi8u+9RsgsffdRQQapBWrO/AShGf6pdzBtBr0XuMPCpV7k+4Ys8wGJWeGAruWc6JQY2ZEF0\n",
       "IC7JQUg+cZVYpbROBkkhkpBoyZ5MaOoK/KZ+oqKHFRg8uGKR+UC03hxnAhEKqsNEMec5zBlyZY+j\n",
       "HHFATbsmyGfTNZn4WP8+G4Rt9jGbeI7MvUtx+YnZEEiy9iZcf9KEgz798rldp/2RaRXF0aLQJUEN\n",
       "CxRf8FVHwAEMsanPJR3Gk8Z9z2z27EqVCcVZLVqW8WPdBt9BLYCdZoWqbKTRpFXXgEU6cGOY7NEv\n",
       "tBn5Nm/it/Y2kaQHy7XXjRjh4vzajwCYLjDapRa97v2ekN64Weu163GWVpG0RuttJEseZ4E9WZ+P\n",
       "sB6seA8/G7hbBTi3tydTkJydq8MXuoyt5Dz6cMKxR0te/JNdxcqLvVB+TW0CV/6XEakpT9rpAXbA\n",
       "N8DztH25N6Vc7/3S60PDpLa6SvQYFSfFB4vP1i2p2irxSJWu8IYTlAKuDhFKRHgFnmz4G90SYtlf\n",
       "d9j1DSa0Nhc3zlSjh9x1YTkkbu+GznX1LHNKfuKLR59wZATZGS7qKQUz3+fSWudkdtyD2PulqT6Z\n",
       "Mjw+FH65oyWFto1KcGz0UfCctShNxBb9LmIvxi8I/t0eQK2bKI79B1drXlY84h30O/RxQWo/CXPb\n",
       "G6BIh9KvIDWrg1hJsPbtEO744zo4UmGdDO20O7JEScO/rwwgFTQk/wg6nHV/7tbsquv/+AVaLabp\n",
       "zNtzGZl5VCI5abqHVY0s0iv0RBzY2tr0H2BOqhsP7fuRNHGGOTU96XB7Q2bNzCYMYANWUOiZiRpC\n",
       "gOuKjzflFSKW+iRIaCYIaXXQ+Js6N+W/TAWVwVC2f09CruxkfcrA1PwEPUoMEuGGuLjq/IB9NlcS\n",
       "lI0TR90Kd1aohfwge65uJ4Ei6p4PFTZ1wcpSlArEn8YiU5kbR25cSaIx0Fh3iXXS2pVYnOpIL9yr\n",
       "jtfrVfWMqpEX2pdw9/b3qEsukF9nA+nVuOu7zPXCD1tAltvBHg5/84VfYTd6i7VNiIyJNOMbcNwk\n",
       "aewf5j/9HLC2+oAHPsuGiHFozyP+0gvQevAUlfikHCx8GjMfH3QTyWvh34IbOLHRuHyIQ7bIn/+E\n",
       "D1CX9Fk+yo0nOi6H+LjacfTI7uNugOo1/Sw5FRMTSOp9OnomEO0JfZ7HG9oIgZDwORFDeoYfGtEL\n",
       "OTQM8fR7iVNtr0AhEEBItU3KQ0MsT2tEnGz8IV+hRqprdkeCnCmrhm6BU/6v7fjfvgCFNrvOwAud\n",
       "uR2SVom9arXT/fW9CwPkusUizT/uACBf5SXzeHtQBaVGmn4YAduqIZluBjMxBZp6SWS5at2DPBYb\n",
       "7jVCobrMjjHUVSmSvDAQs1OlUBe8p915gDxuVASaME3NHE7lVzx+IH3PlZqS1wGGpxPVP4k4LxcK\n",
       "2dNDnw1ChTXa0KzJVjIreeuojeoL10G1Wl69szD9eQDw61/1BLhtQLWePPTm/0CqFOjJ6Jq/RSdS\n",
       "EGC9D74GOsHlgruKCg4NJIZSTn52BzqgJwX9xMbaMB8K+VAsSSZq55nydgUOVIKEtLjUF+c7xL4A\n",
       "NOI996RqQoEVxQQ3CWrx5P/m5roQfbSW/623nAGdG1B9y29WwjI8lGjSghWCz4jBfanxMHkRUiIs\n",
       "/gtfGyf+Zbe4mwruUsgKEwjT3VUWpZP1nFR/fwHPwsK1GxHv1wAAAZVBmiRsQ//+qZYAAyl5m5GE\n",
       "riGr2S/z3utffVbSLJhMR8T+Trqneu91j85Q78pDyWvh7a5DzvVSqkIXm43oOUIRcXYTk/9M4AME\n",
       "MjR6OE1der+Rc48yZ6B0qoxO7KR8O8dz1G53SM2NkAXJckZqPaBbp/qwWZ6+k4UikjfL//DaciIO\n",
       "gvXEN95QQ7RS2hDURgEfhPJs+XuAuRtvfmUQETc/n7XZBeQSZMi37wOnZq7+x9Us2XVFIcTnFzW3\n",
       "5NAmdrgEzo0tFEUY7qCA+cKEnoWU6RKN2NtNUOJgMXMk7Hp7gU13wu1yuPwkZOHdzGVXLlSLCh81\n",
       "kIiqRhgJBJusXE4pxq1IEwIzXS18xUo+UJ+HrgVr/7RTawe+RlZKkDG+ZB0pBtBATpzdrPryq0BQ\n",
       "5/saeClwaOj890EzRkMW48umdwedPbtkAyxJnpzvXOkTrvwCIc5F5ICcj2/UGUT+YU7np11WfnRC\n",
       "CRtyBMGfijjZv0X8MmjyLiR27uu637ZROYM0OQQb4+FQpS1K+5Da3KemSMSiaUkAAABYQZ5CeId/\n",
       "AAGU2lt1cUpCoixdADj3JJLZPDc3JvBqVGZ6zDV3YN6f23rQ1SUQFAppvrSGUh9X3lLqMVqMIVJa\n",
       "4bQGg3sA7PEq/L4SigJcn602/dTtinqxMQAAAEwBnmF0Qz8AAsR4AgxZ2l8IcAbk+2yS5gQTmJJj\n",
       "fAfK6RSg9vV/a35cdj9SsSmL+GXVT6XyLliUy26EcyLgGnb0t8QQrOz/wQv/hn5AAAAARgGeY2pD\n",
       "PwABWU7t05oAqrQfu9yB2PTZ25zJHbP9IKxfSeTO7bFxZMof3wRfKQgurqqDQtm1884gMTp5iYsz\n",
       "5sy1SETkk3EAAABrQZplSahBaJlMCH///qmWABxzQekNdu18E1MhiqwmVA1mQBBBGFQ/Uxpp4ZAa\n",
       "3upteQWJ/NHHSsHFvc12Fmqi4D0rPG3v1+gpBZ6LA7qdARPYZqg4LxocvpiviX/Kb/xF5BpuHVhD\n",
       "2AmMDnEAAABcQZqGSeEKUmUwIIf//qpVAABgG2sRaSX3gKpmnO689XIIZevMalLlG0Lv4uwgO2qH\n",
       "JGAO+Wd/8Z+0fQTHHx5lIj8+ikJtJkZWz9ejWYmSBZ7mXPoyPtGVANdc/w8AAABXQZqnSeEOiZTA\n",
       "gh/+qlUAAF2w+qZJkEuLABzuFPQyzARw/n06aOis0+9fGrt1UeB8ZjeW/oDIWNkhpr/dJLYOR16X\n",
       "pnd3cWJrBYrLeAv+EB/dcAJBp5GBAAABdEGay0nhDyZTAgh//qpVAABdzrlMqQLk4JCSvzebnT+9\n",
       "73eqgMTk8EOn6294aMnHDvkzMQRL3371fSyBsjZLiACGb3vQG/EiRpSzMH7alkFCvwJ8I81FY7pl\n",
       "Tq0yORXp3QJqm5zlyquYipBCKhGOP48inkk6zU0ccQCEf/trSKD0s2TnNOsC5tvsSL/AriX7uZnd\n",
       "cDPa8/Vp6opgi4l6u+lSgvfiDfRCgSaPIEAqBylgeFOE+jXLy/rIbLlabLwylfRDSUpnArlLu5lq\n",
       "gGEaffak3X3EYmtLhp22oUcw+2r8CcWTRDkxll1ZpKnRKQtlGpb91WHskn+Lke6d7mHzurXYegQ4\n",
       "8nI48S+kDL9UCmqFTjFaiDD+1VArlOonOefevm2wXsl2PSG+X4BKEJgpDwd7ogkGVx+8N5m+y9SR\n",
       "dlAxccUZdgLnd4bKxjv6GCh7IxG8AA3Nzy4onQDYnRhr4WjD4WIk0/CSQ8Yt7QoeMBPsWk8HBgAA\n",
       "AE1BnulFETw7/wAAtxinQAADemkcOGsDETCk8ndc177yaLAC31nXqgEneWRZKLGGam38fSSJGHdF\n",
       "B2cq7iWPozSolDox0Yx5+IVvzGQB4AAAADABnwh0Qz8AAT467kWXFCZ5txiWAKvTxuU+bqMzczsH\n",
       "qDh7kYcG86ua3MdxsZQZO9EAAABTAZ8KakM/AAE1iS4RsAX+vWKra1uHnhPrNmQGlnyt8CWMQjb2\n",
       "M9Puuw3XNduocZicCFyU0+BoTU+FHzbnoeM7MJyWNXJcp3RV95l4Au/gmQ9Q70AAAAFiQZsPSahB\n",
       "aJlMCH///qmWAAV3hUgd3rggB8WqmQ7q4dz4A0AHZcYkPhpwWpy1HGRffX9IoEt3GOgccduIynEy\n",
       "G8nEY8KcVwuCCSlt9YGwp5iF508ZpRorU+jFCYqU7Ump8pI4/pEldGKiSRflilY3Rj0bGxqmKosO\n",
       "FDjOrk8SGEPUxUAI0z5JIIFpl9FVuG355xqheI2f14IG7CCxjBc26da6bj/xWsDqyJOVpnX+8ius\n",
       "yKbLcNr0M27K/d0OmWfNTMPc+4SXNWiKmwPAGhpgAcxhQaLcMV7Zrsl+IJhBD9oACLyqJPtSVu8G\n",
       "N+KuoC4mZqaPrf5dr9asZeBFFDoel6a7ZCxKHDsvPna1jJEQXXM5jEN1R8wQQBrC38UYKNfO1vLH\n",
       "JeKkB73D4qOWc+3xRgDDuB3RKiAxo9ZDwRoKBINphASupedsbsLIJIB3IBfPtkrgOcLjwiQcxFpZ\n",
       "Fu3TytI4AAAAYUGfLUURLDv/AAK4q/hJx8likekActBuOAcD2yRZNV6VFm/ODuslm1Kq/6HhJeJw\n",
       "bUEF2FMLGkiR++KdYghm+ntFu2lhBq7pdcte2H49uBUJytZvOSQd7go3vsKO+VVcKRkAAABCAZ9M\n",
       "dEM/AAJVg+fchgwBA99/f6RBDrND4z5fWW3V326OyteWTL3PtzK+JRd5xv5ZcNvmO5zkUiezcAHk\n",
       "u8+kUpgxAAAASwGfTmpDPwAEtuKlCxDG1AGbkZltQIc3DsgQh9rJaeUkdg1wyAcMXeVyRVQwi9+M\n",
       "2EeojFcfhI7gqYPxzzuj+eKRCmbnl2EHT8tiiwAAAL1Bm1BJqEFsmUwIf//+qZYABZjq2Q8fgCz8\n",
       "Nkkz9X0gTvHW6XAtRU+MZvMKrRs4pwlCH77+2Z2OMFONe0kmp/BF93ZVurFWhLr01rgf5s05JtfP\n",
       "naSijxyXzBzazN+DZoFKoguPFPNrKHnMAEv+g6tjFrgL7rWtvc7Je/ShOyprl3aM4rvOz0GcH95m\n",
       "0ZDYF7iNqcTNPY3PYd6IrevQsYvOFeZ0If5lQEzSoOg/Uy30FcbW7dsN3iZ2CNpuRRUAAACTQZtx\n",
       "SeEKUmUwIf/+qZYABZK7UWm6wYbU2BVEQld3L15nnXl+6XX1zRx917KM6GOi7Hk87i5pRHQ/tGUF\n",
       "y27qnEykb/Gj6Lka6Y4BkRtnXi92/cGLStdT1rNU1b1ngee8BdULPf9oCy+4xnzdN6+JuCjMApLC\n",
       "95LhnoAwv/1nJ4LeoExlJuQiKW4rxFGqb2AIwvUsAAAAUUGbkknhDomUwIf//qmWAAW9YFbvLake\n",
       "1JEkn7bAEnHi3pNqtQOQUOXKn3fY38U4Kl/M6EmmYl5/bTqYHxxckAtoBmAGlo/CoAPaMD3OezsB\n",
       "6QAAAF1Bm7NJ4Q8mUwIf//6plgAFtrf2oysvjiOTABKuCXTH9z8Ib1PA9uWbG36L/XYOTD80xmBL\n",
       "wDcVMC6MFdmNiPwgsDa9pVcGhefEWaFk/r8+F9mj1w7pds6yJXLAekAAAABOQZvUSeEPJlMCH//+\n",
       "qZYABdwRz1LwMD0Iw7o4dmgVEt0+9ny8uLTFwNCE8B7MMF2Iap0HI4rINleppdDGdAMwHLIkdKL1\n",
       "SRtju6+ryLGfAAAAWkGb9UnhDyZTAgh//qpVAAGBCSujUYu+ALUjSMS4uKtd1mciwIL0+bZRzUfq\n",
       "9mjz+gomG2v/+5AD3vWJ7djtQkSQexrAuKn2EXX869uaVqnTvrlB35I6ilwxYQAAAGFBmhZJ4Q8m\n",
       "UwII//61KoAAymtXoQpT1Ff3izllywNEpeHcnmz3j5CKMfj3R0WPwezDgzlwW9V8lzKMvk9zb4Ml\n",
       "Oi99MzuwZUt1FNkhkjfWDSilussHEH2HYwAurWmO3I+kAAABiEGaOknhDyZTAgj//rUqgADLXdP+\n",
       "Bj+BE0XxMnMblSAgpWFLtdsJMZkKE3Vjx9p+jY7VKgsDbCgTl115017tro4XLk3CwY9I/5Zib3ka\n",
       "yfGn6RlSD80Ysb+WI7YjMCEqOapRO46IOBC9ckyegLqa+RBOVNylCk6DmZU8pbZmWOMiyaiy5kCJ\n",
       "4HLN/nWLnysBNW+6b+5lrJvb8BbOSkGi3lzbGXgQ1PdPaZcDoPfk7bvTBJTNlWNNtM+aPJWqZ0Bv\n",
       "BcFEz5Vq+BOzkFn0zq7O9WK+A/rBoiWc3Phr4UIsFpMQvnr2/1+njt0Nd1J1wRb7NexoZua99Z/D\n",
       "ONf4TjONly5U5x+tj617NLJ87HPzqbMi5cBDS5DH/pJlJu1Adv7qj5eoPglp2MUHh74HEwrZpxn3\n",
       "O+2qwLRlbrZCI/EntUo+QPQlbnj0n6ygrfwynMDcklQslkvIM9FKNeAUAIz8nAOvBQSgucOOVq2L\n",
       "UTBw3c3NIDlCw+WBJ9aMBk/oPJqL1tPHQUYMHx7RAAAAZEGeWEURPDv/AAMSSPxZoAR72zY11utw\n",
       "bM0U7rOLsWJT/myJt1BIUh2iMoa1CoaDhOucZDNVqA+drTTMWU1tykroyySzBsWf65WVI4lFoFGD\n",
       "IIyP1u8b0gcSZUxcyba7+MtuvWEAAAAvAZ53dEM/AAVmSToSHgxBHXSANn4HNU9u0gFEru//ETHp\n",
       "nPTcVZ0qsQDABWz7S8AAAAAuAZ55akM/AAVlQX6yZo73FZ4BQBeatfwejO8vO0LyEmT4bsqPmNFM\n",
       "tfUDlvtLwQAAAeNBmn5JqEFomUwII//+tSqAAGUhp/62mJYFFCexKSDQbMjLbee+aJmzHHKZi/TQ\n",
       "qJiCmfnOzO8pNa30lN6T8kKtDoW1qkitBs1nGfK6C9zKuFoHfbNafF3bWcgFVUbBBNPUaNHRu5oA\n",
       "kHwTsoHgg3XAo2UPxN4Vf2XFKWeRdQdoaz//6qWREp1NUlEw1Hovx0fj02Erumvw2ZSgOzS3JWyN\n",
       "DE0chH5239He7cAlZAGzRmWkelSgsFZxUOQ5Ub3CU6puAQrTWhhRIcSMzBcf0O+spTTegaNWdFRG\n",
       "GJo0nHn66LPz/FTsUUsucu23sazMHAZi61A62wttci823SzePWIwSutUiTJ2M12NcSxsDGOLqXiL\n",
       "bUhdDp1/jQU0rCq6jPXgDKoumZUhV6FnF+NxEXY4Xr35sEGFY1wHwyYDVIUUiEE00+iERISn0bfe\n",
       "yO+UGoKFgBlBJPK05ku9b1uHe1DamiWmikGcYJ7txs9rUZcEcy+5tQ98p0hYPlOtgtHPYbas1seO\n",
       "s6nAvVVY22MrZ/lIC0xdPJdM2KfHLXXyrS0AO0kW8nQkWwu3XY7LKiB31SqR259NxXKflfzKsgGF\n",
       "PjZvCL7o4x+Z4Ok/4uul525gG46q1Z1EXjR33dTC8hGLyIidqmAAAABBQZ6cRREsO/8AAYraW7w1\n",
       "6PYk0H4AAz5m/QE4nzaUehBP5Q5MeDGryzKdrsILtcd7Ql6bvzfA76OFyvT7t19OybkAAABhAZ67\n",
       "dEM/AAKyf2OAK1MCiykQ/8WeC7sFZxvWFxcsMkRp55gcivN7q4v90s5ZCHT3pRD4A2i41KwjqI1o\n",
       "DPjYy/fSu+b7Aw2dXysl7W3bqy+KNn3HuwOJOS3N/nxOFanOzQAAAEEBnr1qQz8AAn0BwQD9I8AR\n",
       "2cDO5ZNGq9kuspTsZheDh/Kar8XFX7RzK7jkwKh3N6iJAgmRgocSMJypdKxeJytNoAAAASpBmqJJ\n",
       "qEFsmUwII//+tSqAADASmxqApCRu3AEX8lKkzwTyn/HoDk+44gwFOgAf4YMM5eo2NXHlHiYwpqUf\n",
       "KDeBbuwD3sgnG8uDOw9Nkae92YM51W2VnCKqOqfPImyH2eQm8CT/3/5USswXIXZckgAd6UaGVz1l\n",
       "Wvg29VoDnQ5Lhg72B5bV/r/n9TPpo2l5BXS9hO9nVb4LYr4Ca9sDtTqiMrjb62rRSu1OQpjlVtsT\n",
       "QTpD1EAvWTEwKXu0jd45WoXpDYvX8IToDhtuiMX+nTi/37W7HfZdKMZWQ+nfA3cUFd6iin4K4nVb\n",
       "nW3/alhWz8WIyMJYwpPhZHOw8mRbOvmz7u3s+SNxyaFQaLP++8euMVkL8ymeV77LlVgzzyh12+uy\n",
       "yVt5Sry/iRDjAAAAZUGewEUVLDv/AAFucMIwXniwwA4QrlYlhSDqTlx5lvPG2HT0UdyRD8/fHPlv\n",
       "MGRd4/vCN7F/awu+DpbVKoY78pA//6sovvq83RGd8KsCxqH5aEPCpJFqliVOn7SpD2yO+wASxMSt\n",
       "AAAATgGe/3RDPwACfHjZmyYgAUYkZEXWqBM7N4Uhnv0SrsqrxHQlFekmPjvaOMzxgp3NJYnmdalU\n",
       "zF924VUq/pT1a5kJA53l04xy4b++k5uGwAAAAGgBnuFqQz8AAn0BpkOkAVbMsaft7odeubBiLfdT\n",
       "amUJ6zgCP+LFGrBjKeQbCIyuweU+YOtpbphmuXYhYV7eW5IPxz48cb9EtBX4SWQ1JI1Vjz0d/1at\n",
       "9pqTmNTc0SWKOOqVc+qKSBP97wAAASRBmuZJqEFsmUwII//+tSqAAFlJ+kANjaxceCTCd9pb7rHa\n",
       "zQ5Cs4e3i7holcnqjaad2JLPWx1iq2vQg32rBRaL/43Wvbzq25/dESXdUgLJYUrKOPRu5ZU/YfWe\n",
       "N4j8kltQGNhkLiDXKQ83b9UeyxZWC8uCY6/72APlqahKfrtlI+RIDftW8V73wNCcsBoWXFUKO3w4\n",
       "hfND3UboVDX75ERysLR/lgiVS9ahGV8scGmEXWygeBCGTORy6U9tGEMe6DO2YqUU3BOcQcLk3wQJ\n",
       "d7ScWrOQwOsXU0I/Dgk4BOCDhOFuZzJyji49hd3IWE0S7cvR0LRAHWjCkQcibdxctVQvMGfadrpB\n",
       "GhUOb4cAfzR48fW4GCE2mwu9C3On1flDEmXm86zcAAAAT0GfBEUVLDv/AAFucM0Yol2wSsQNIAcW\n",
       "rN6bkvT6xF0b79IRe1SKvDN1aYrz/53UPpLp3jUQkhZDW9jnM/07ylFceCqtYyXwfSKRpzlXvFMA\n",
       "AABGAZ8jdEM/AAJ8eNfGG5DiSJAFISXeCrIL2zLVHJ0pGK33qYn904zB9odYJzyAu5xu3fsQchsj\n",
       "WW5vEgyr1PHBvyRkKGJU2QAAAFsBnyVqQz8AAn0CQ/k9AFb66QXSqWyNmO2awoRC7ZWskBfxy7pM\n",
       "1VWaBlIr2MMfBW+Lg46HZmL1btt3OcmONv8uxCBuzXpy7G03L/92cpFpPKvTXGTWOZ7Ebp2hAAAB\n",
       "RUGbKkmoQWyZTAgh//6qVQABbl4IdAPIIzTPzgVGoes9GpJA7xMv7+YVIZv0dSe9HxspXnyPVJYZ\n",
       "+h2Oiw+yefnlMm0Lfm2e8lObtz0MO+l8T2q7v83PgPavxwTW9UYQ9AOCkGplYtjlE0AoxpThmUrU\n",
       "/L62KAtVpB0wksQdxfWufaAGTv+3VQKOIuTFNck9dzu9TzE7BiYIlTJUkd8mZBCMfKvAHome/Sq5\n",
       "bLhuwKMFcbCWMOkjf2neSIfT2RtxRHqs8wnBSVodktoCXiCNm6kYFdw9hDGu7jZUh4Y4XnvxUk26\n",
       "7el9xfZB4DogsGvPg5tsntXkANOHSuwMVVSR/8W4szpcBX2yKMk0RSdfxjjy4Ev0rgvwE8YnU6qn\n",
       "3qkPGSLwh918Q+mSx3yHl0wZDceilvEWNP8V3S16Gc5PhJ1YC50NFtEAAABSQZ9IRRUsO/8AAsqr\n",
       "16xUA0mOfbwAOCi2OjUXa7hmcaicYWQdjS2FNr8vBUx1/SAP/99vsCUBO21WP7N1LgjR5cAtGxzw\n",
       "3TM5Nbcuq/G2xYAZ0wAAAEoBn2d0Qz8AAnx5aBWKWDc4ngCD/SFhh7NI6TE5ytWhq0/1/tJOfJUm\n",
       "KshTZ0bNDryIxuX64LJIgooOR1IkscP/pPzE7AUoX9xNmAAAAFoBn2lqQz8ABNbqI4A5h9UUA9i/\n",
       "WK7NYbWQM+8krMg4hyHDGuBWLauBqUAua2F4UlztttM1ScpbRFL56t3YH/e38zBuQxffSpkT80MQ\n",
       "3vpWv4B+48vVzQ8h4TsAAAESQZtuSahBbJlMCCH//qpVAAGAi1xAF6NYK+uqbdNAFLupU6RAnDDb\n",
       "Vcr5mf5o7yPbsm0rUdllA528k0U3kxex5+/SmF3Z1ESy0fqE/r++X3S+e+i+lvUXHsd9P9cseLeF\n",
       "mOpg1tL2W+WIM+i1aprshvr4Rs+vMEkY0hhBR7I/9gvSqtMcUpUuFljD4YyySJqUpkPn/wdSOdvU\n",
       "KwSM5F794aYJI8yDLN2Bsm2uZiIBLBpGb+4ryaBGw+ri6kKLsAUOtYnBTfH6uEG98lAi2gLd2Rze\n",
       "h2R6rQ86hBPqWAS7tYkdeuDGaPGUQOH8Lljw7O4UDmt4RNSZfa6FguqhNmotFfj19at8XwL0gSZo\n",
       "hynXEXz5gAAAAEpBn4xFFSw7/wAC7qsZ73EkANzgEOm9aoiwn/twuJrZRpoyNcfZjiZ2wsncF0CY\n",
       "quQOXnkZ7JqSGt93pn+Bkr3r4N5NKhoMC1tQMAAAAEABn6t0Qz8ABPpdxwBzCiHRF8BMxE1L7FLN\n",
       "l17QyHAG/iapXXEWSQJANDJU1z9PYIFUoZCDsMkHRBw5yl1o/mPTAAAAOAGfrWpDPwAFHgyHADi4\n",
       "nHqyQa7kouMtVB35shBpl3jJa2o/kqnOyr8utccQqTiOaFQel8/18ruBAAAAqkGbr0moQWyZTAgj\n",
       "//61KoAAwVkf/7cQC8NolYbTIkR5HFV/fDVdAXJIzWtIVichkYNIu5hx90FPxCbEdV7pmBGeKF8i\n",
       "/qet6WjctMus18zLHKY2BKGhDsH816jBoZyQyf6Wzf3lh/7HYUMRiWgv/4swcdgt24FYRQi1kdFZ\n",
       "3Ku6mlb4cGObmExXTC6fzRgRLl27n0LZbMrtChjTFcnfYw9yaYDba8IOdl9JAAABhkGb00nhClJl\n",
       "MCCP//61KoAAxWv0gGLcMXDHncDhHXEyLoRW9kKLR6A8+j2ZPVu3QYfw561pndvJNpSdRx8/u6Oq\n",
       "De2MjSLC/SRAtMuNpOz9pPMsIiN13ADPKeGNrKAjBJ08uPyfmaHeJqu6zBMPBSx3E3pfGC+Gh7Zd\n",
       "KB8RSRAXw+VwblJ8mRIZsTN8Tl7V/M6taB0IG2/zUYn8lnNUHM/lmQlgqpp8DWVwESIjwGRy443f\n",
       "Xz+E5DsxjFaLExseKa2d91QT4Cr+DBWwaVeSfOAsxwgArtkpzhhyXcRsP0L876VYztlx46m5DHey\n",
       "ZT3jJE4HcpGBXkHowkUfcwLliK/jj69Uku9s4Gjc+NJtddp/bimfl4FLBbNptz88ndnik4uaHFwS\n",
       "9dAJQ80xM8zsnERz9KAJ/j2moZBINSZJLgGy0kp3bBVi5NdRbQoQ1N6wX/W/CXIxnbBDs26GNd0v\n",
       "L/OyLbdosJFA+iy5GQc0ioJpnFlhobO36F/nSqPjm1MrQ3fPsFGM1AAAAE9Bn/FFNEw7/wADAbRd\n",
       "1nXbWdzJOWfAEbxeIZzn0UzF8+irjHFIkxBV5ummqJCJTkNhvIbeAifHvlz8w8MJfmWqwwgP2tPV\n",
       "WWXxn08eilj4AAAAKQGeEHRDPwAFRMtgCO1SwX4xv6IR7kF17eyvD5qxcjWLyAPr5zVbViRhAAAA\n",
       "LgGeEmpDPwACnuvoWFD9wByjccovdz1G8CfNkwJ/neX8/yst4olrNmIr+JCzLyAAAAFfQZoXSahB\n",
       "aJlMCCP//rUqgADATSR7Ky7Wjn3AB/3pk0R5/S8Zt+gqrSVSiaXZeYAuKNDO10/v31S1I1KgQ/vj\n",
       "OT+ISW7IBdHulPOEnAXvtI/WR+68v3SiDd4+0O8cdEha3bkRruz5tZEEZ/pWTlrYp01ZB/s7YDGX\n",
       "Nf6dyBcdVaZ7acTExfrSp4FOd/w9dtN8ELom6eQ3Wvf/gHry4oAxAUEcA5V8akuPvyJaeklmPsWi\n",
       "Qq5/eUV0yjbAg+hCmsPiv/voiqsjZYu8j/3JwYhVLLQODD7f+LdwBvGblGN9U+GwcAe1/+cHTP4b\n",
       "gBgJ+EVjE0BnZnByz3p6MaP54O/vJ/Hh633oWRtwn3zpnuh/XRqao8CUtx96LeolgqfC7weN7/9E\n",
       "11IgZaCbQak82t5LBastbCqsUV1Eft7AFQsuRTizWEY8SCMtMRXh51aOlwAC/tbCkZ5OGN+Y6d1T\n",
       "wp0SAAAAVUGeNUURLDv/AAGA2sBhGghQQAHFrKDXw2JygTlk/jYnPaxAoVygHL2Xe6XbFeC13yzj\n",
       "Itla8cX16OHUjvssglootNDwoF1et4QuUM+oQ7i5fIvmkkEAAABKAZ5UdEM/AAKgeKxiHqkAKkv9\n",
       "ByGLjplQm5kgjxMmf6wwgoPs0I6mREGXuKAtEx7MVhck6mN4Rna40tRzNZcRTtWqVRHL648NptAA\n",
       "AABPAZ5WakM/AAFHWfAAFh9RsUxp8SMYVw4L7qedH1ZN194KT6hGfXabpVl2mS/p4DwBj8xRlzCZ\n",
       "pDx7FBiE2OEo4Ldw7V1RLro0d6h06+tJIQAAARdBmltJqEFsmUwII//+tSqAAC7ebFXeSATtJnUV\n",
       "ZViwWQEDDcf5xa3lcH01ztFYrdd9Wz3I5f71JuZYmio2xILznpXs7hfENQohoKrvOzKmANnT76Ul\n",
       "v/YYW9bM97hC+x1zEr94DljxCX3iPHNNsNDv4k2BusXrQU1z1NANJRoUIRZnwaSDgnlwGdsGbyNI\n",
       "YL90ANUuJTbp+QM0vwUdiQ4mfCWARWNAIZaAZr9c/21/dvvJZPU/HMVC73Jug/UKKsoB70VT5EJl\n",
       "TB4uiBwjx2cFfd8Q3NMe8mJ3zyaDwsWVsXJmQ4iaYCoyD8N0OtVpmFVR00J+8rVPh6/7U19kNdIt\n",
       "a/oJHYvrM9dnvK2E3OIKkxGPXjXDoYEAAABBQZ55RRUsO/8AALcYG12EAqIAW0g8pHL7HpSehDrD\n",
       "nBU9d2UQi9TI2abNHkvmmeKz4rScG5sW5kxTwE6lPANru0kAAABFAZ6YdEM/AAE+P7HAFPXBbe3q\n",
       "T7Uu86YETsQrWdXrxOgWj5pAssIFjBW9yZw+kTYqfzb/IN/2pl1uvBn7UafmzTElD6gRAAAAQQGe\n",
       "mmpDPwABNYkRwiNykwyRAApuXt0WR+blAk+J7T59KoQe10TmW0vLDeiE5yqt4oCpmsioam3bqz5R\n",
       "7ioFmpsuAAAA1EGan0moQWyZTAgj//61KoAAspMzBCRvjJ4r68BFYbqOSC7klB0xwGW0VX6RsBlV\n",
       "gs2cFeI0pLPI8SxMZEjUsKHQt/7CkF91j0d9tDSyY1p7XuSyhY12pTbErjuTa7n/4l7TSSRykAf0\n",
       "Uo0MdnGOjSQTGdaYdfEIVEifTQaEq727mTOAsa8LcYJ/Ds9PL3ufRhg7VxR5vZNY113hiWbBksqv\n",
       "bEz6DjLAk8sFYpD/6e/LHK2vzKnV6YivWGMjoB8s9zh+9X252U8aURsJv8mehzAnzFlxAAAAYUGe\n",
       "vUUVLDv/AAFcVlFACLQvK2x5ditxT9kWBHEjsKH1iVmmvkHf+T9atETARJShgBm/WDGAXSuamgBL\n",
       "lpH+07xrxemsbJS9uNG8erRI51S1GEP1pYC6Fj3tFA1+pGSCdbEAAABiAZ7cdEM/AAJblKOAK35K\n",
       "9jyHSi7IELMsAfpw9/g7yjbigHuk0Awr6NLF3L/vBUI29bgrNX6BErgMo2SYA6y4CSsJ91mjh3CG\n",
       "XXBg6c8FnwaM7xWX63zkYRhdxfBtDdGWk4AAAABJAZ7eakM/AAJTIOv9F6gACwPoxZ57wLwR1fKz\n",
       "B3itsJ/WHjeGHCE3ABhtoElpdrjv229nhGqMYrLbmWNVlJg+P3K/c0mQKnTAJwAAAQVBmsNJqEFs\n",
       "mUwII//+tSqAALuUjkAGykhw78h8+3F5Cvt54ITRi+A5xBzrsDVQo0f+ws9inwlf6nwpzMn4ZTdH\n",
       "RiZq9H6VE4YxD20T163Op3kmTVcrJBIlKVZHzW4wcB1NzNuf1yhsbC7dEgsjc0Vnie8S3K68y19m\n",
       "1YGaY8jMYimKAtfLRMpQ76ywKGO3WBK4Y1SfPpnSh8H+sIJ2ebuhP3Ey4n927LleU27MnjZpamKn\n",
       "IMXwDADlXS+UXSG6FiNfrn+xZv2tiseV4AHM5iHBXB6ZzM1BSzZjfitCI01hcn1WwtvqO4FVQYAr\n",
       "hKJp61ogR2bVoQuVYDluwrW6tlIP+C9mccEAAABgQZ7hRRUsO/8AAtyr2AHQAtpC098LCzWyP/tR\n",
       "qypp5J+6b3aV+cM8B01NSxJsv3CrykItgFcIqxsGVg9rS4nlkBFXbRk0gtKiZrkIIwqTus4oKhdw\n",
       "77GuKnHLcceiSzPgAAAASAGfAHRDPwAE1ylHAFb0bTZfWHkWi05diR9O0IBaizyOwta2P3dVEI0F\n",
       "+loRzovNtwtunqnw6euKbdsSYb7YPsCSikN3wTGx8wAAAF4BnwJqQz8ABPoMhwArnEcdlLAhR68k\n",
       "98FHWdStk4WDD2LBAiYbfIL+r+dCEO7yhGkblNxAC4KrUZT7r2GMAMnXumqSsfooS2P3BBa6qe/6\n",
       "bepkqSqznQ9A8m8Mii4gAAABVkGbB0moQWyZTAgj//61KoAAwGyOQGb9Fx/mbnpAK0XiXjjm1ygX\n",
       "XVxUiOKJzojHSHxFTuqbD17n3gSwOliOrSTgo1miSf79ng34v6ol3eHQgYeEq9g+Y1+Z+rKX+fmN\n",
       "eCe4BlQlG+7QvGLzpasq+1zrjelOyiOFvJOolCad+7PKhFoC2C69F6LK/ZnavxhOoa6BYWuebf//\n",
       "oSwl566UfBgTf91ZeseuvD3/X7Jap//gshnOM1J5e8vN+yLWXg5Zj2+E0prB6s1E8vSkp+7W91AY\n",
       "ip/4H2zaOAJDGHf0BKJ+h7CZ5BYa+/x8klZ6b0ahGSZcYBVwitbq0RbzDHIN3j672jOKFe6V0WLs\n",
       "2gT63MnqrJFMtkK/aCD/p+jFkgFz2rtUs3Fq8T0879t9wyzEt5efXk+z6l7tNgtcdbzxMWPSbd+w\n",
       "+NfpdoZWvEE7TAQlWWi4m/gz4QAAAGFBnyVFFSw7/wAC8AegA43vMvii6iTm9HYDCQhi1fkfsiMY\n",
       "Q6lbPV7ZFNXhhIxUUkf9Sl0AgmxCAobmYH9afdsT/aIet304JzXaSrHiPKPeZpZYVWx88rLvW6az\n",
       "yW3X9kLBAAAAZAGfRHRDPwAFHl3HAFW4HIdOjNiGf5+itaRaDCe4fYVFKm/Vwuyzrjf4j1EgQ/lk\n",
       "4PjnHiPet2N0NPCKz9S5f1TOWQeo01tXmAGRLj9lC6/AHSlyQ2a4DEbb8kTtoEWQqQcrHdEAAAAq\n",
       "AZ9GakM/AAUdYaWAI6opZOlYFy5TjE4hhzsG++YCo+QmOD2wJ9CqyikhAAABrkGbS0moQWyZTAgj\n",
       "//61KoAAYrasIDMrZO1PX91iIHgk34uXrvd7WKZ1KA0CiIiJrqIOPpg8UI3n/xMbP3TuzXMC8X5e\n",
       "+vP1+naH2FSW31dOjbjTzCozt+pkI7VLxIFDTVhp90k/E6aiKYNI73p2AYiEu4KX0y5dHAlIL6Iw\n",
       "wB8Fb8ksrbrhU1RzrEldEO/S4wMAava8NP2vajIbi++zd2XwrZv0E8qZ4dis1/45dz0wr2apTgFg\n",
       "OEJCWdpLZAzSeNEqfAvzTsaJMyrmaCUtJ+34MUsUI+XkgpWFaFG9daYA60N65A4k4fQQStj6iQwW\n",
       "jeZo4iBwY6E3i8RML0qLsz7sQ+p15nknJ80wjp0blqDop2W37jFuD+gwPbZcgKxM+xVJ0kXlZVfe\n",
       "+J4EZ8QP9nwL5txjg0AZdikGBzNOb9eHlhYXnMhvMQXyv6+P66ECKIS0hvmCrKtu5c2XiZmYmxuR\n",
       "jD67hRFh3AopoWuRtKqgjKPSMTypnsJnZA0w51PqMdsK5SfdQCjdJ0bBjuuFJ6glZbuXBxWlatoi\n",
       "QTNPT/E613bqcyxr81XXp4RpWVMAAABQQZ9pRRUsO/8AAYDaNW4hcAcq9/TKATKKThHp8csZREPi\n",
       "wn34+wPjM+6Z0mG36KYJeWuwuPb0Fr5KBUvKjtc2cw45d0vus9w2i4ERWT6jNCwAAABDAZ+IdEM/\n",
       "AAKdv1tJAE5lNWEGedqjYLkT4dQO1++g0T/3fZO14zPTadAI7EtqIhKvquLKuR/2Q5144L7Wenun\n",
       "OkqbQQAAAE0Bn4pqQz8AAo6gv7mlEa8ACPeOZVU+973UE1hX8Ym7qu/++/lyFQ8YXbzI7pk3/Pgq\n",
       "lMnt0XzaabM8FgF/4RVCaw8ASwxllaOzEtnLwAAAAR5Bm49JqEFsmUwII//+tSqAADAa/SAKIYvi\n",
       "RY83bCdqh+DEw9f1F/n5sfAjyuCTT+YhS9JKf9VTMFRriTwGVBg7zi2ICidgo79DLxwBrCY7XGfE\n",
       "5rzFN7tUyYIo7RQaLsMgffW5zNg/UkqBJHX09iKOxbzFeZvfcL8Lw2sLHzFfBXhxTU5PRg9bu8Dy\n",
       "X4TPCq/1DIweFFDnzC0DOvLqJlEbsS3okoN82CA9wEo0HEWFca/qpG01DncnrQXqBryYoNwr3ICr\n",
       "JOeuYIl9My4ehEhjIHOsien/VmnB8c/mUqF2Lvt8bgF6L70TtV8uz0/xhKpb8G2pn33DH6J60O5p\n",
       "4z+XVb+iXQUWJe6fhd7gFkE/x/7NUPnlNBL5Knl68LOAAAAAPEGfrUUVLDv/AAC7mKaQd7bTEfCA\n",
       "GXGkqyu2fMT9XiujlnU93xwwQcyw5miBzMSMCYcbwD5UtpE9ILcsoQAAADQBn8x0Qz8AAUc68qG8\n",
       "m/IB6AIjIeII3Xz77mTH4NHsYo2Tn2NvZX8LUXAeJFi+cuBX5EGhAAAATgGfzmpDPwABNXNQSAKP\n",
       "aOjvd12ypw20NEMLxcQB/V7i5LuAkmPjvaOMz9xTCCOgiZuASaIbUoA0zC7lAhUU3C0ctP+I4CSP\n",
       "+dYFblInYQAAAO5Bm9NJqEFsmUwII//+tSqAAFk2I9e1ABLUYF+0HBTenAcj56ZvVjMdCfJ0kr5J\n",
       "+PhIYEz3tHxkmPDDgZrLuuOa7t7EvXo1T2jMs2daaA9axIGHzDb9c/2yf0YOU8v3wGdGEbHYTdtW\n",
       "5kp53XNlMQcQIF6ttN1/NmKwKxHGDwrjVQWaJzmnWgU/EyMpbw3qP1ucX8gCfy9mJEw+yWTFc2fx\n",
       "XcL7zEkWVQKnr5iDZx2jp1o+I1c4Q2sn2pUYJYbXrRO0sH75dVm6Jyw8DZbwZUaGC4Gi3D0OL36h\n",
       "GyXNWN72mDdmh7iMUheX/Sdm2Kk3AAAAZUGf8UUVLDv/AAFcVlFACMrMfrDzAB6/GCNeU4QRGE3z\n",
       "v2EXpNv914j2rM1A8wBbSt2aTQvoe2Ip9PxsiH/SF6FGRqfvHu4p+810ot5jFaChJdH5eiVh+JS/\n",
       "hrE1Hm3WOBuk9QwYAAAAVwGeEHRDPwACW4yQFEU09V6/AApPhilCMM9GU27KWX/1Sch3GtNCCeSC\n",
       "0gxchB7xICIS23jl99d0Y3UVEU5x1GEdk0NRP2IhrEtfN4EAsO40oDwcNnrP8QAAAF0BnhJqQz8A\n",
       "AlMgab/7AEeXtIkhUbytOcfSoKEUxAbuOR1zbsK7awZq7UA1+Ld4u+BkCCSPaA0KURvZVFx9hm1O\n",
       "ZaSOfPPchIwBSykF158ZTD7VysiHqbCXJfzIpgwAAAEEQZoXSahBbJlMCCP//rUqgAC7k/SABxbg\n",
       "cTsgObc4CPl9OKWyYDG8noQYTYqoVs8rByAEVq4a1hTWtk+4idkaR7fRppwmFtJ8F4MsKQi6TYQv\n",
       "4jXPouzy49gFZNT5RZjeRj2gzbCwKkzD4PFa8qvElWlnVB9NZLudixJa4ELkB560ltZxMgn0ewNA\n",
       "yJT+z6c8xjpMsghWmKob+Ah0rxsfEDF5ul46SoYvMY8q0gVStiSZJvi4QATwqA1zQ1Cf9Z0VL1RQ\n",
       "4w0r/vhRa87ckjm1De7kfLLd3y9adckM9yRXvvXVP1uNkoClFqSlna9YNaykcEk/NTAb1nbqQGY7\n",
       "2yXAOwaI2YAAAABXQZ41RRUsO/8AAtyr18xAAtg9yw+98WIx+v3hwZWZu/v9AZC0MKkzBRCuTv6Q\n",
       "rbdNy9eCm96WMveIzAO4ZEKbXIqQX90MwT1nWv9Q3mmYM8CFhq0RCWZ9AAAAQAGeVHRDPwAE1xqy\n",
       "Kni0pqeIMwACgkMyVd38YS/GRjDb3Jbfn+9CoOlWXYR5NQcpRxnf3iy7L0kOf0AyTM7XOOAAAAAw\n",
       "AZ5WakM/AAT6ATHI+kAVqikmLakwEcT7RukmGLuMKOMre8fvmQz4cqj6MU1o4ouJAAABOEGaW0mo\n",
       "QWyZTAgj//61KoAAvHEf2RWxKwAOhtZ9rk1GEOTDRKOurDSNOQFqKH2FdiSjXZSZTR7m1mbjjtwn\n",
       "V/blg2SkHtwrPAtpgqF8NrloXWJ33ShTJrSAI0l//34+tyLYUxMZUw2dChb6rryxpHvZ+zNSAFwf\n",
       "lx18SakA4LeSxAQNBCEfAec0dw5qKt8J7xB3ll8UBaASenDM/P8xmRX/16WR4ijlbXgmvKS6yFXU\n",
       "yjq9gu+GGlnFDg599SLfmfLRpVMPFn+6F3Otsmi214BtUpmasPr4nWx2uRhE+GyfxPyI4FWGpyT8\n",
       "Nr7Fnr0f10iJ4/ozbEYofxqAPCNf6xY7iN13pzw+GuxENJam7dWUMmAlZOVgYGeaDp6q4v1cDpbJ\n",
       "Ev/A7JRD3zDm25kfSB67tASBaKQKCQAAAENBnnlFFSw7/wAC3GNawprzmgCHD6LIIrR/mrHCqZAh\n",
       "Ix3gZDt4tTXKSmJznxjNSOqmC6bASTvElZ48iuv5RmfgIqIWAAAAOgGemHRDPwAE+QSjAESGwlE9\n",
       "CKg9S8NtSAm3OaKccs3fnIWtm/iwmO7akuFw40oVhcIaasp5a8mdmQsAAABFAZ6aakM/AAKMJcyE\n",
       "vvuAI1ccxmKlFsX/LB7spTYHM6D5yrlB3my0bAsWsnIggWipAxv337saZgTHvOiri10V9Wsxd0Wc\n",
       "AAABS0Gan0moQWyZTAgj//61KoAAYDg8GgBP8/QX5xp18BwuDnLGyPBvHCkaqI1A79pqFq2cfm+J\n",
       "KKo0plrnOMM2Rc4AvcVx1gtinRK8e09p2pZ6vvaDHXBPftAj9/mEs6iY7Qhf9D9vUKacw2ugBpPf\n",
       "Dh+yq1WgoC0RUQZjo7ydv0fChwgL79N7EF8Tk3BHRkM6y/rDj3uA2v+oynk7rSE94+bKCWHUNNK2\n",
       "1ohby2tmMudW7iLJ7+Xni7sujmV8MjmsZ8hex9AL98YCaxc+K1XFjKtLWX/GdXHVU0JfxO542W5C\n",
       "sO/e5lFv4fGI+L0RRpkTQHHXwC8W38WNaxfmLvYVZ4P/XHF/K0QVsuAlNGCScnBH+1hHAszyPRQT\n",
       "AvL83D0nVJOY2kfCH/KEOU3WwHg+e6v0wvt+clFv6R8XaEdfZuEmWsoCs6iQo4b42oEAAABMQZ69\n",
       "RRUsO/8AAXcxn2TwABnz72VGjyfsEfyUJqblsbTYmCDsPaAAsd6TnhDTT6LUOEjO1H/xbzjBMdfW\n",
       "rIIb41VmfX6Gc/kv4AWaJwAAAFEBntx0Qz8AAo6CUYArUwR6y7TtfaI1jjsrMCDWEUSnZbzbF+Sx\n",
       "ueNnRK8q5EVZRej33JV7pUB9SKtMAdSSrOgnILwsmAm7RXC31YZnPQhK6YAAAABDAZ7eakM/AAFH\n",
       "TsZUroZA6jdgCN0ANsJ/sJP/s8VST7bvC1e8q745mfeSsMX2UiJ16nCLQETdftjhNmBfNVJbkfpc\n",
       "QAAAAORBmsNJqEFsmUwII//+tSqAADAa1egIAvrdeQQMgY1f5lr/sBHb+yNT+TTgDR0Woe8z7on+\n",
       "Fs8y071dAjangSq7io6vCJZ6VoZr1AGKA8j9bI0vmf/pPPJl6XlT54NLeBBdsuTpgMi/caeMxyxs\n",
       "STsCaANT+bRMY75wz72VCjtUlcf2U5ofBIyEDLXVWjBLMZZdx7TL20bI9Ap+YyEeI3EUC85mH0Id\n",
       "NUoHXNcMiOcFSxb/hr1jcNfiJIaQjPOh2O+tTXj1KdImE7XicNwg++5IYUkJ2WPlzkNNJlF2vudb\n",
       "M21Nl4EAAABQQZ7hRRUsO/8AALcYp0AAA4RevTXyaLxjkpc+vJRVH7YvRzwXWcsxExVgo78sw6dQ\n",
       "vmx8EswTfV60QD0gncAInwobRgmO7aovbAkzI/GLctoAAABIAZ8AdEM/AAE+OxF6tAEEsMUdq3pX\n",
       "grlw8w7xhwSQAjJlIslgkx6ehN3+fSVyLP368R0bn0OZDDtLUkhVc7HGJHFYj8ifEGrBAAAAUgGf\n",
       "AmpDPwABNYkS2eURV2AI8g/8BhbYVCy0o0jydz3j3k7Fzv3gFAsk1NnAJSoAXCFCa/cJdVX0kryl\n",
       "nEM3HyX7XnFjEQUVxepN+attGfM9RQwAAADiQZsHSahBbJlMCCP//rUqgAC3E/SAPn3NfCAjfZqV\n",
       "1Ozjl4bCVRitXXASFqe+mbQdcItjPrfEo/r4pP98wGD+tNxPhUJueSgQOZzD8ziiBuAp5dO+KX1b\n",
       "QdKv8qX7FdCzeNYvAyxcUuQydP804K9q2QYtz5+jeHMQ/1ZiCtnCsYASF5DjVH5qfbdt2hmp3AqE\n",
       "/BqE5HO6VJhZlo90ovv9gYMK1cb33FwK37S/ELR+j0ehCbwJfQWxh6PwNpAMEZXFyTLs/a4poyUp\n",
       "z01bnC2zLHJQMJ14ldlugEz5MW+aqoIAYQAAAGNBnyVFFSw7/wACuKwIxX8tpoo/ACnoZOuhlTlJ\n",
       "fp4I8a1ZRwRd8KGalwwXMFx4zuUMLpiWJ07f/9Fw34T+QjMp36N8yTSNti7j4mNrptbfMMvUvL5O\n",
       "a9lec1xKuXIVJq49bM0AAABMAZ9EdEM/AAJblKOAKthr081DPWBV7rnnNHI4NMOPpTkAo4iu30fo\n",
       "V/KKA4V7Fy2fNqOUitIwlTHGmm4PRr6kir35UKWGa3Eyw9CmDQAAAEYBn0ZqQz8ABLdd7NcE/e2x\n",
       "OW2AAqWFTE/VX+ElG1/2Z08fVvW8EaUTFFHbqObS3N0vpLhGTZn9/j3QZk4IR5fl2wHKrnTBAAAA\n",
       "4UGbS0moQWyZTAgj//61KoAAu5MzAM05sqgcyD73i9JmXWF20MErryyVuOgDF7D8StJOBEqlnJdv\n",
       "2cGVt4enoqvfykOZxNwel2LIs17NJSdJp9+kUcBuXyGSxzHdQ83IXmyyWrDYbav/5MDCpxXys/uY\n",
       "/fXs4Rk0kfekQxEV9qV6ebhxspeh0RI0y0RPV2/zbG7jm9ALgPDE/Mbost9zMQRQ9mkcnP8xdmmS\n",
       "S3Y2JEyWBRY5Yu0v5OVY9GxnPydKTxe+Lux8L1sVsgU8mBg3b3rn9pzB3qCpbGywbtvXFhxgQAAA\n",
       "AFlBn2lFFSw7/wACysbqeAFsGorKqvmXYXF+GDKZ8F1i5KXfnwqotgbePEUCHUDWXhhq8pCA6zBa\n",
       "AbJmcbINfhz9IeK/7qdW3Om8MAMiIzwfMrxIWpQjXY+yNgAAAEgBn4h0Qz8ABNaQIYAWH1xqytvI\n",
       "qGFc3/bFgnowlEiTOaCR7mpUlHQOwmcJDQ0oVWIcJ5AMpu2z/WaqkX3dMUxisuGf1C0pZx0AAABB\n",
       "AZ+KakM/AAT8y2AHFk/KPc48oS9M1otSICpWhQMH2rd06Qtf6Onq85VlF6+Y92Zx2bpaQJJLtxJw\n",
       "f81gqkhFFxAAAAFAQZuPSahBbJlMCCP//rUqgABgNrVICqRWMJ3xPlqPA3n4UQ8npm2J6bZYnEAv\n",
       "hQ2ODhumbmcHN5PAcH59m4U7mqMv6TlfZ+zyHe4NcKNLc3y2XErQ5Kih7ogHD0OFmwJZfNqr3//j\n",
       "qM7fqnZntSSqwTU4xRrOV0//88UxjoaHtmXPX8VW/Nvph793BEZYpC8xMwHs2dQDY/bH/TJiMSHQ\n",
       "JTLxsBXwqPbw10sX5ZmEryg9Zq7ciBXjvhG1hbMlE5ewD9eL3sCCX+PNBrSt6a3e01iKOl12YCIT\n",
       "olGU4RP44JN4dlahiQuCgQwN9yT76tuYTVS3zwBpv2xatDWqjxPhUcEOge+fuzEmONZiLu/JevZJ\n",
       "fh6B+D2AI10xRbQ+yG0KBMpuafEXKeREzhkm7UwudWqkuyTr17zB6Z6pdNgsTUgAAAA7QZ+tRRUs\n",
       "O/8AAXLprzi0piQAzOCiFfyza+qFXEuptO2k9zcb7Z2Vu//wwPhsX21BDk6arUbmffXFYy8AAABE\n",
       "AZ/MdEM/AAKFt5dgACwUakU6ixYlDnu2ijGxWvUcIpwefLxXzxUrPvgH+wtGhtvCHu+2ndAE+ShQ\n",
       "AVD+UJXFfZV9FnEAAABFAZ/OakM/AAKOqbkAVt/uzR4g3h2rP+JkYPV+Ofr+q1Lw1p2fFINc48NI\n",
       "p+gn+o2am0huKq3FntW+7y9iDSOvUrUkKKWdAAABAUGb00moQWyZTAgj//61KoAAMVNAQAOiZ/M7\n",
       "oihq3lStpAeeNfqrY/JEQkqSs8CMZzxWJoOlOHOIBc+PzSOdsJ08CJYtORxgrDL3ihirJ3e+lTbQ\n",
       "Uic0gRiNOXP0bhFo+Vt7Q6DLZGOy4P3fb9fxyTMdAeL4oatOYuSufuuxhRsW7n/ltRFyBmKs8pp/\n",
       "FjNMNdKeQsgwDCzR7xasq20+iJL8LF7mLSqVCOeX1wYc4jZHjqv404Aa51aEFLZ47bDXTHH5673O\n",
       "h1DL5wOwJ/IXVHKAn9a1wh+YoQx10BNcvfqyUd8VE7UKeOFAd6e+C3HE7WUCBZ1Iith5trLHIJ+V\n",
       "tNh4AAAASkGf8UUVLDv/AAC3GCQMaAFhO9pQj0yVe3UfcNEz688go5+1OKXmIYrVeI739Vy8UPWV\n",
       "GFH9W3O8CuwXHrZyuC3iPSjUBteaDFE7AAAAPAGeEHRDPwABPkLiAAQuZkoOsX/DBlb8xrP5cCyt\n",
       "K5zAnrweWKkO0qTzXM8R9Ahltg673XBksApgTVfAMQAAAFYBnhJqQz8AATWUMAAWH1JOPACcs31j\n",
       "mev+56FMzku4JCubaTa4snByXGMm4RFb2cZvL/XJdWdFAbQ0ehCs9m+CH1ZX0Xib9EGwI1GktnI8\n",
       "qhHuZP9aWwAAAMhBmhdJqEFsmUwIIf/+qlUAALMf4RADY1sj34gzZgr2L2gfsm+GP3cRC1t3+GuP\n",
       "TS9UK5iUSO87XkMPg4/8fRJ3W6JrgJdIhPJsOvgKKHeSB93NZqes5fbchBSsz9nkxPZW+0fuPsS8\n",
       "m0f6oQvVmpGOo86euiu2wXIKwDyz2NEizsKOQVgNoBs+NVQyn2ZlQzJ8P2XYuOUQ5bIxwQq5vdpl\n",
       "wV/BK5I3zWm+6KcppvJHxCAxWVc1lCCTgLnefSeurfauBZoHtcCq2gAAAGpBnjVFFSw7/wABXFZR\n",
       "QAi0BICtgnIDuaj6ENVq7YPYbFIH3mRMns3aVXmoWvT/K0khxLiLrwFOk/ZJwY5qWWNiLkz4Bso/\n",
       "mkl5s5OrQcCMt4ftvqo9Vw7x4K7Xdyhh9y3ehUJI6jQLVDBhAAAATAGeVHRDPwACW4yQOPfwAFc5\n",
       "i3yh7GUe6JHMiOtM3afpY0yR+qDQfKYu17j0hMRNqfPntUuRKXIxmpxdceQSxn2LQyGmf5pBXtQm\n",
       "UwYAAABbAZ5WakM/AAJaixaRwBWH8oYDSMmFSBThP7ntcHTn+7972ujka6KrcHAFIrG3bgfEBH3d\n",
       "2lxq80qFaCHXyDRjBwLL8LXcZLnD5O5Rupv0g7t9keFyvq7dTRTBgQAAAMNBmltJqEFsmUwIIf/+\n",
       "qlUAALuxFrstTAAq3jEavLv6A0xomCI21KLFt3FabdeMga3WfNGJLNE3Ouxznbsg/mV9rjiO8kK1\n",
       "F6E56HxEIeyAJBpnwfQzhIqSglHNflH6PeGCCd9/YjrQHzTTjm52bYaZjQ5h7YIWlpWItTB0xC7t\n",
       "HDw8PjrThb3XGwNRTJbBTXGmcZCG6sz9G6xcP2Yj0/wOYA6dw9qNGEOusEDReBgvDWws/XrxBphG\n",
       "+1P6EQmHpT3UmNEAAABXQZ55RRUsO/8AAsu8oAOKpiPao+IhQBpca/mu2jlET/tYFP05rnPUXv98\n",
       "6XAmWiUbx5K5NoryWL2SUw+vJ4D2P1peF2B9GR9efopqGqVrzZGDIbSnycWUAAAAPAGemHRDPwAE\n",
       "1xpIrWxXVSAFNEct+WZy8f70E9IYmBu18S1vK7x1RUcYeQ3s/I9/WscOu50ImOdLE8jCdwAAAEAB\n",
       "nppqQz8ABNZKpYAjqenagplCOTpqXHif2dgC0phaYflnhe3wehz8f89mOoLpkKNRhPutlckvQY+6\n",
       "EcYXC0VsAAAAZkGanEmoQWyZTAgj//61KoAAYCaL6TlFe4a+jnnyABt2Pg4h6NLS6kuampDsf+WK\n",
       "1/WLWvJiBARwY/X1P0HyWHcgEXb5EIXA6WOzGDcSNCOV747KpPIpT8mDvXwh1cOEhVaHd0kZUQAA\n",
       "AS1BmqBJ4QpSZTAgj//+tSqAAGA1+kAeq1dS2L3m3+mAH9mHbqQq1mTDtXlpDu2r2nr7MuvU4wtN\n",
       "TfjdqkoKKpLSF2nIGis6LMUsytO53/+RYK1Odgy9nDJsB4TRAFeBGPsG92TT6s2RoSlXuAhbT5OM\n",
       "fANl+YnNp4hnLtzz3YgZr1AfFRqPkyL9hOwvZ/cJ84VzrK0I8P8/33apPVwyK3GwKi7x7RS1RUT2\n",
       "9SgmP2m8xV04juzl4Dhperw78AeQVnOubHMs51v63Az0jTCpeKqIgO0dt6I20sFocwRNUMuqKwFq\n",
       "LeujMu925DoAHpwpH//ws1j3yS9uLOhfha/lpoZEzdHJkIXEUninV4IKLKvbBs1m9hP75Dim++SA\n",
       "AYoG8rCo1pb9GqWIyW5ogfJvAAAAZEGe3kU0TDv/AAF3M3MABAao38chXHXZeJ/ZnoQ7TWDYe1a7\n",
       "07+pCJUolUPh+iIxz/BLQdUF97509EPrkHU3aJ5ZqNe2Q/wm5fRi8QGXRPf/0eBEdqq1GieNkzGk\n",
       "y+xcwcBLZUAAAAA9AZ79dEM/AAKO0rjgCrSpsx5MztOVvYWGEGCYBeJa9qCvnewfVzrOx1gKc/mM\n",
       "3gHkPO6XJzjDVa8WY2/fuAAAAFYBnv9qQz8AAnyh/u58WsuYO7QArnCKFi0XZTEqvpDbO6Qp5k2W\n",
       "jgKcCIIR6lUwu9bmoXY6ZMKKwFHOqLFAHYtwAnxPXuIBWoWwkaFgEIsoQZl6c1S6YQAAAP5BmuRJ\n",
       "qEFomUwII//+tSqAAFlJ+kAKDeetTZNyF/4gSKWv92YalTvjfdKqgOgQiTF9QJzJbvSaxELNeilR\n",
       "9VxFoYgzx9TOET/2i5AjlStgbG6QXtw+8LX1x/qhcS8TqsCQY+R2rWLdXmv8JGPjERdHht4g3ls6\n",
       "NaXxqbl8C2SgQqpsjVJ62rT8VwQStarDBmtitEycUeLU7zJ8Nm5iboc9ZVR+hBUcQmlK1DAxCuEo\n",
       "X1DV8ff6HlCk0sivSgD0HIdcMBg4bpQdUUQ4kvue9BxxdYgYeMM0K1wDcgjuMrVXO4sUu3V5Vo3u\n",
       "I98AJ5Lzdb945/nN7iEpEfit921qQAAAAE9BnwJFESw7/wABXFXr1kOih7T9oAcWsR1BZ/fxYWHP\n",
       "7mgr3NgcRbC45PjV6elXXfm8BQ2rtRy+KZy/OHmpp9oH7lW4vs++f95M/bD75TwPAAAARAGfIXRD\n",
       "PwABPjsGn7kAUCtFgHwg/cH7zkX9xOgumqSeZSacuc6QRe/NgWaXOZ+ynUrUZaqFdBpbAViRy3S3\n",
       "z49J8QasAAAATAGfI2pDPwACW3EA7n+4YAFL8IfgjoXKta5ZH7VcaMKmzwT4TKibMDw1WQWEQo7b\n",
       "uhsmSQYLXZ8pDF8B54LZH+Z3U2gkW7L05Tob7P8AAAC3QZsoSahBbJlMCCP//rUqgABbiJVeIAU/\n",
       "Rv0AotYdVHKA76i+G/mrv5cPzbgd2kA+VKc5nEIis08wrTX81x71hDrK/6lMFAGl+Ddxw0PFJ8sW\n",
       "+Q5gTSNMFeSkUA9+c3+UwHvScnXE+jaxKg56hI0YYlBqVSdSnPUR9xuPROsRVP56SdXL/csoa1r2\n",
       "V7ttvnBG0lM2DRfhndjf+lzgePOHC4mhVWGBnbqI+PrMcUa1T0oTYSbflFdNAAAAUUGfRkUVLDv/\n",
       "AAFlVdl1coAWvgBrvqkBhqyYVRlPOOtC+RTrEiNJt8jwFZPlZpxfpc3yeeqASAHDD6QzUV3mYcYr\n",
       "VNpZOabmMwnio3BkoopFIwAAAFMBn2V0Qz8AAluUo4Aq3Nu41YK/zPGxMjiTaqalu4CSJmpcv/NA\n",
       "jS1CNYEkW4safs7oaEPCxga7ocnXeEUX4oOyJ/tlDvQg5UQrgE1pbQDMUNymDQAAADwBn2dqQz8A\n",
       "AmtviYBOCCKUATgPuEOHN4Oi0kQdh2ZMvS9LTq2KvkBiXQYE8MNCDDHhNmwHS7sPFU9EJ2AAAADT\n",
       "QZtsSahBbJlMCCP//rUqgABd9ldAGfwCEfRU2mQQP/7E6IRtz/q8q4/WeiV4qbppaC9MxL9qbdo1\n",
       "8Yo6GOdIhUHazmvqZTKWBsPM+tzcA2U/5wNihlzcrWtvS78i04ZLNvGPDe7MM32EjD/hLW8ppXLz\n",
       "dIXYMqwEz6kewze0vFhnQsRn3zdKHmUTnMDrHJV+w/l8J4v2iLchosOJcrtEkGqD3iAjQr09hg8U\n",
       "mTOsRNbgvE/03HOWM+XstGKdmhX9dVKsL98BKd5G+JQZ/Sw7oqKTGgAAAExBn4pFFSw7/wABblhC\n",
       "JACn2TKe6+Zuts5zoiSPM8u0n/+rouxipdmID/yGogDwR9n3Sx9mSndokn4h8PGg/w4g7aA2xoFP\n",
       "cYeG4B8xAAAALQGfqXRDPwACfSJmHV1xuGOWAIlQVxMuHDGYeApqDtkt2zu5kvZahgg5eR6hOwAA\n",
       "AEoBn6tqQz8AAnOilXACUcAR71P20bsnQfbbHMf7afFcqqVtWnr+3JjwG+8DZjE5e27noZZSP+lG\n",
       "+4mn98wOlq49HVOMLCkMLGD0gAAAATpBm7BJqEFsmUwII//+tSqAAF3KgM0AW2Wc1rlQreusplaU\n",
       "FK8h6o1h6Vuw804JTQUkuceqv9iCvk4krCjzVJqtvpRdu/kOPpGX9PZABHtSiM/WGt/rVErDde3A\n",
       "oGLm/aVgdl2S0SCpAiLonrybq3x50ZAQbKQ/h+yBp0z6JDk60FXASqMbQvvqi9D+iNtFLHjsQroZ\n",
       "4IiJbyNhpNyAh3xp81qrXxHbaWbJP2nnuqR35PM7AYU4G4SFb3GH0WSb/pU40IKtUixfcl9qoBDl\n",
       "4hHx8s5usi9Yi5P4mruipw2ZyKBXeNN+PpGe8q8oCkOHvwbLKDwIGORZUF0qjhFQvAXBFNpUzEiz\n",
       "BbB6aHmvHoGJfAyb4fx722XsxowRIInqlqN/vpzmhOI0N4xn423ubSV28KDIhBVP5q0saQAAAEdB\n",
       "n85FFSw7/wABbjGfY+wAcWuPXVNwMkXSapw0ZQFAo/hcqlRa7wbGHfevu8OkGxoobhMbdAv3zX1a\n",
       "39OjfD7zbPyWQCzRsQAAAEIBn+10Qz8AAnyDNcAOOEaRJCphiGqNWNd1ry8hL+faGr3EDEMP7ReP\n",
       "Nj6QSnw1sxYxU57xEaosSu20Johiyw/dpl0AAABIAZ/vakM/AAE+Tu5H8ACw6X5vcLUOem/0Gc6w\n",
       "uF1keX7rfNnEFX2ubwYSH//7SHECNFbRKablu4kl8qqWmKgUnKI5bu9m6TaAAAAAx0Gb9EmoQWyZ\n",
       "TAgj//61KoAAWUqsIBB7hlzC/X/fqDGdw0nbn2j8r3vK6JzH3sG8yT4Jlx1k8drdb7yFKjn0um08\n",
       "MvHyMHpDTPbxBgL6W2SQO+jo4LW7ubaoRIDdS5+pr4lhsRpyOfKw8dlDuzjkQHne8IdYcKFWkqEO\n",
       "6zCKtchm/NIJUZfu6i0qkb+1kUNiYINEyxrxHv9qR62lfd7BMAQA97RcltzhMivaEbFDX/qz2aLy\n",
       "pB/W5vWd6mDyMO21e0S5n/6SakAAAABaQZ4SRRUsO/8AAVxV69YqALhvADhD25Q2kfsMwj70Dkbp\n",
       "CRx81HBtRdjgpE7ENKcVsH2BXOzs6sRQESjha/cXpzANcDg8+69HED3gG7+9cp4OdhdPp1eZTOZh\n",
       "AAAAVAGeMXRDPwABNXjiyJn7Q/ACwoPhkNJ3W6UgYRExCH/4/DedaOlUNb0bmlP+ZjTawxEW1ttd\n",
       "urhjFYihu/u2GoU+XzGkqaTZ60ql4PuUz0ZNq4/TBgAAAEYBnjNqQz8AAlt1EcAQ+Ip0q8+XTwXn\n",
       "TfWoueMpteJuwvNq/kAQRWzMsJkO9esd1zTWnOtPwnf7jplhb5R4PXkV4EBibZ/gAAAAw0GaOEmo\n",
       "QWyZTAgj//61KoAAXcrl4AEWl6MfBhD5/OL/QBEO8lD8FHWBHTjnFchQgJPgv/hQraEzPdwA77u9\n",
       "G4t9Fjeb3J42JjROnNha8Eq8mchcuvtOMt9H21aGkc6n/tscLQ0L1oG+rH0X51duqBVcy6HxPAhK\n",
       "EC4pUVgZEZ1qCuVBCuGMccXdfHVz5I2vcKH3buksYR51uCZ2SJDRS0YB41eYBLLWRG48DDiMV9nz\n",
       "Zu4CQrTAusWHcDL9b+eg80mDAwAAAE5BnlZFFSw7/wABblXsN3AASp54+G8vwrUyoxHebY4X5wzl\n",
       "yOAskK/Xf3fF/DdZa09R15FN1ifTb685Ftr3NqDVTQxjK+oC/lLGOVSwtJAAAABRAZ51dEM/AAJr\n",
       "i+qI/kAK5wbSBtqL3Caip/xixGI3jLrMOZ19dlY77phm5kK3EP6Va7Kni0Lr+GjIfaICcPHlZ9WS\n",
       "DnW7S6Nk8C90kqXwiBtRAAAARwGed2pDPwACfQDZTIMgBXOYV8PPsaSPgquq9VVU2FGm+vdlXpMk\n",
       "ht1iLi2kyn+khFPeAr1HnaXHqUh+4rytC2oYmc+EQNWBAAABAEGafEmoQWyZTAgj//61KoAAXbO9\n",
       "Kc1IFEpgBiuG5RdkxFA8fDiBByhPDsqU4Y2QBwFAEUaTCtVE6j8rhjhtIAAkjA8ATwadjou7aosA\n",
       "irEf3hYZZpSLzbRfbdThubTW71aSZgX/cSc4NPTSPkBIgVy48Ics1kbeCKp/rURfLgLA+n99pi8E\n",
       "YI0wmkwjppOkJhnKelXQCUvQay11RnKKK/o1cE19o4fhP0GNu5XmG7jFBf62rjtcHXijjnGytimb\n",
       "EpqnXYq8Hk2QIecwgwSg16aS0k0pXUtYXBjGn5+l3P6DUGnYqzK4vI+VV6BzMCL2CZo0G9+Sp7mC\n",
       "p6qbOIjW0XAAAABSQZ6aRRUsO/8AAW4z+4AWx6BhYkFEI0ZcIBbh+/SZCHK4o340fv4LW5jU6/jF\n",
       "i203JCfsOqgLJ3qBfocEEAYL/4TuDR0cmGOKnIbtMRJ44hqMAwAAAD8Bnrl0Qz8AAnr8iHAFalJp\n",
       "4Qim0GEyVxw7/sb+1ImksiqZslEb8KYkrzKdyTNmd316ugLBMxHfsruL8F3j1xsAAABDAZ67akM/\n",
       "AAJ8oY7o+5EACjUyG8srkReDfCDAyzh/RpvppVEHm70QQANyZfUemBH1ogXnVHFvl34ES8JqXRPb\n",
       "/NhiZwAAAQ9BmqBJqEFsmUwII//+tSqAAFlJ+kANwjVgo6lUOa33uc6mhrd2nwG7zGbUvN+l2Etm\n",
       "XZZgRpc2eL1+hdmT9WPQSpdiBdPmV0pRNbp+SFkWsxYYxevvocCSbIDZn6hCS2MkwwcTobo+hQtG\n",
       "gucbD9R3KtuDxVjG1GCgw/Kj787aiaRtxIK3YcxfYVJcAswP1MsE0CJyeYPGD4Jy33VwltrXyUFM\n",
       "XhY0cu2gQn8gltvVy+A1Bw64CLgb/MgxGSL6vB7S3l2UPCGtpf5vm3LnY+pzgBQl5nW0ZrEW/M1q\n",
       "gX9DBU2xrc0A3PWmhEI2VqJkTK1wLXMrqLHTCWhJvBZX1qabnuncpCU/tO9aaP4+ovxZAAAAVUGe\n",
       "3kUVLDv/AAFcVevWQ6J/7A4QAOLXTmyl6FysylrD4J+WDeI15scl53fm/xTNebS3X/aKLNfuGoyc\n",
       "c0ca8J1QK6XGkc7onjuG3xmoRY+e9YSloBgAAABCAZ79dEM/AAE+PANNgAWCirFMYdVBCCbth4vp\n",
       "S0CijQERvOh+q/SrYmSnB9t5s15/Scy7YY5jZsi9dr10lYqMDA+YAAAAUwGe/2pDPwACW3EA7RBK\n",
       "XjBYAFL6ekeKot7d6SWLFaw2F9iRfXVKHjXn/rABMGVyTpxYLXZLynlHrpS0mbrSpXvEjokbFBSD\n",
       "gs5VyZqJJ43qbmKLAAAAsEGa5EmoQWyZTAgj//61KoAAW4wJCAF1Xn02TPNztMpnDf6Rq8qy+uP4\n",
       "Av/GRUzTjZT7pg+hn6azlSk97ZZRvxSSwMmBCm4Mw7LZh11XSAc0A2WmjmwhV8xmKlMhWv6+HFid\n",
       "4exCfdi0JljKHyBjKXeV7V/0fPuaUcLlx0W/FCAsbjcQXnC4k+SkdBpgRcwCib3QEYnElFM+01LE\n",
       "9JUZPSfn2DQr8Saaw11VPr+bvlJAAAAAWEGfAkUVLDv/AAFlVdgS0wAcb4XnZfZAUDYVfrUWRd9j\n",
       "slCDiuscoBQaBh9UaO3DjNN8eOFMAoyr7dTOaOeln59FtFO80oHvr+CNI2J844hNlwlu7enq9bEA\n",
       "AABVAZ8hdEM/AAJblKOAIRgHT0ZyXPpFj00NV/gOAMhA5S0aarS3st8Waljsaqe3q3N7VkQo7ID4\n",
       "Yc+XDxoA+E0MOpupazbU7yRI0szhR5d/S+UhXmwyigAAAEIBnyNqQz8AAmqAySXgAcbs/yBAKa+v\n",
       "aCbE3HsVUOVg0rFEF5Vx173jJ1bFL5MCDAm32ZqpvFFN8BrCuFftzQs6yasAAAEzQZsoSahBbJlM\n",
       "CCP//rUqgABdyqwgIVefSyjzWorpDZaZ0xOS67gu94kO3Vf8ekDgL1nSMW6/DfsXoD2EXXiN4gmv\n",
       "J9bRvOzCPQXTPp73Nb+IRxKcDeUpYGpUB8MWjbgcGELNemH8pDkA7bhK6FZeuTlD2WL+rLQPk13x\n",
       "BjPSAXClFON39LsmY3SawbMfo31dTdkdTVqqHfnod3IWtd2P6nuWaQurIz7jVP9R9btyKQxzL9tP\n",
       "PtofWCEk6O9vm+kGWAQdy9jvtpNJu+I3wDJIE5usLZd0oJWnEaboz3GGIShTfRK6SbJd0XnhDWQG\n",
       "MMNvFi0pkdTJ+ZPy1+TpV7rDK9hGWfrk2zEHoVVXjzQo+KciFiU5Rnen0kMwechSrHBcES0Cy4OW\n",
       "JWwc2pt0PiVULAaJswAAAFBBn0ZFFSw7/wABaems5BbAA43vSLs/tCWE4d7at0HNGm0jc+B6mckT\n",
       "X992IskLhbey/6x+jVxZdi8XQR+LKE01orcIXxm+7OH4WerTL42JmQAAAB0Bn2V0Qz8AAn0kz7xZ\n",
       "BXqgBGRH/puKgqkDNtk0IQAAAEkBn2dqQz8AAnyrBwAsFKlQmSdJwhmjfB7SSELaRZIHv+oeA9Gg\n",
       "Qzxj/CxCRlpZ6JRBTwffOdHxbj3ug4kpxeVywP6SsXJ4fZMwAAABCUGbbEmoQWyZTAgj//61KoAA\n",
       "WUn6QAoN585NomlQajago0I2OEomyYx3nns8wtQGnY5EIQtbAFe8+i/efyDLtQVjEYW9ffb4O0z6\n",
       "wljnYCbsJ56emEV0d1/8Q85OS3i3cPG7mQD9RNbqJIBMxAK0fnxIyzDnMvQaUCVEfBPWLMpBnnT0\n",
       "+Bq6PaWnR77BiB0fzEg9ECUUSbFbtXPx/3V6H+4gr0q8M+QPmBwLUXZzvF3drzapdYBupBMpL4Df\n",
       "IN0YJN8m87BEGOEdm+eoIyZ1A8GJiwrUTOv4HZho1LD9UxhaIhtUHH6ZMgCHUxJdq//YUzpHpwoE\n",
       "eHyyJhxfvXSX2B4Rz2PRNDoA0s4AAABSQZ+KRRUsO/8AAVxV69ZDoRkf6AFtIW8xBcUjvxh+zVrC\n",
       "CRGjvitk4y6fRfd7lzF7T0DUm6RUiFhX6NjtDYSf5ty/GS3w+Shyx+GxGDnNVdoBgQAAAEUBn6l0\n",
       "Qz8AAT468kiVPq2AHHL8GEXKzXR/dsQe5Eep4mOApXGj5pb9/euiNQpuICEdUIzK1uqHyxjPp9NR\n",
       "R7AQ+/4/S8gAAABaAZ+rakM/AAJLcW3HVT23fzYTQAVvyY6cCFvHxyVFi1ClZ+gNROtNn9cbIh/W\n",
       "H/MdM+uL6fTBtqSH+tYGhPa01OcJNCIkaw0TcqbDblR+U4M4VZ5QvnNIO2AwAAAApkGbsEmoQWyZ\n",
       "TAgj//61KoAAW3f8wv6gCqAY3ynWO0obSugrF9r++TvS45dgPvfrLYel6XyVNxO6W897bgZwFJ58\n",
       "UedYztoLFROkuxOp90C1hC7p3YuGSh3QTgCdOUnOz9s8fw+8F99nt7vmXjEnZJg6MeJIrw0Ex3mf\n",
       "DIEhyefE+PL/vgmKcGAb+NoMSOq7BFtD4XYDfz2202u/dwhEHbl1yL1zFl0AAABSQZ/ORRUsO/8A\n",
       "AWVV7+NcAF0nftA4fPkCw5yeSp+XkzGG3gqxOeyg8mdr+SxzdK7kD5Rk5Q7R58P0GtPIRQCJASOM\n",
       "CAzRR8pFlaVh6AMXGVetgQAAAGEBn+10Qz8AAluUo4Ah7slqJSWWrUe6En5iKXcBJEzOaq3lv5oQ\n",
       "Mb/wSXNue4x8NqIb9w85nkPA05OszR87IxBJxDXfCkfjd4bcAeisvheAOi0XGzVYSLiqXLh6tWki\n",
       "+1xBAAAARgGf72pDPwACa3C1cbdgBtaQtJucbVJ9J3oDHEg74krRUotQs5k+DvuqwTCoWOHqpaYu\n",
       "u13bG6Z13H6U7XCod0RvAasloG4AAAESQZv0SahBbJlMCCP//rUqgABdyfpAFEMXq/NLswCYhCrZ\n",
       "xa+G7w82MtvgH8Ly+txEtNLNCpXCwNSoreVFS0BGdLgWyDQLFC2ZtI0dZebLatOuwxjT9paEPw4v\n",
       "yYNGTzkHPz+roS5dj2T2CeZR53FaMeVl4Dpc/TfdTc5NRxgYFg5D5xEdjYRMX1WpZaPaB0evdywX\n",
       "4M2OAw8IZPfvOybIBexA108SR/DEmtFMAPNYZlkzMZaCNlliqFL3lWB9HXZm2v135wPiKV57qmSS\n",
       "WiynzT6PKzpnOSTkgMxRYXVp+pApZi0nmeO6+gJnFh/79OrqS0LicvPBbNeN1uWCyy9sEqxbEcLH\n",
       "kKQH1/hDUJ3r5ImFtAAAAF1BnhJFFSw7/wABbzdgAjK5LQEqApbACzK13gMDr4O8sHkat2JEkTEI\n",
       "IQA490RjfToUmYHBthq22A7w3i5Hgpwf9mShijYrC846onUn4ALOXSYQm32W7+NTB2WHK0MAAABK\n",
       "AZ4xdEM/AAJ9JNrWNgBxjEa2gmCE2buwTiVvdNbZU/1zGGOQrl1EuCIel09Nu0PZMgucZDUtg6ln\n",
       "uqEFU7PGDyxZVrH5DgG7AbgAAABWAZ4zakM/AAJ8qwcALBL+CRo1/5NdpMIksyo1fcAEe8Qa0myM\n",
       "R1l5bOl207NmHIhrDWX/YJ6ccIHtGpn7HSyXIDabT5uRJ9Q8xOpgpdART6UrhwyPUCAAAADeQZo4\n",
       "SahBbJlMCCP//rUqgABZOpywArfkeVfpXA/gopNvWOwIkIoh+tA2n5i9ByDTTw/PBGK5SvS92Hhz\n",
       "cOPhfct58HStQIANBOhz0AKL9rBLD480MMGcKVmdnYqpHRwmR3xld1iOeIqno3OqYCudWZYSKSEf\n",
       "IfJwOGWj1elHNAwg1Rb7c5QwUuerrHRLHy/I0NloAL4cVbbIYh7bOOwb4L7u7GGLhBEj+yDuJbcD\n",
       "D21BQVmkmidrkTafyer0+noGEkutR8Xe4V9MTwIGCFkZUli0hLDW8iDh/kQwBpZxAAAAVkGeVkUV\n",
       "LDv/AAFcVevWKfXFXFyHPIwAtaR7Zp/tumWY9IgtriKXkrwr95+Sd/gjenve1rff3ye271PdIFW4\n",
       "hWaWbY82an4kZp4tM/hbYTIfuT+uvfUIAAAAOAGedXRDPwABNCQ/9gBxiibvWaKnkapO3xGXsW11\n",
       "Ei2J5W3hgxJ0XD0klBpVuCCr/VQcM+muyy1ZAAAAVgGed2pDPwACW3EA7n+4YAFL6ekeKot7d6Sf\n",
       "Pc6fNmuI+nI97Fz+PiuRtGtN23cbhMbbpHHmDtco+uCxjVTbvrQ+5UFSZ7qDHeNwo4TI5PG53BKI\n",
       "+NelAAAAzEGafEmoQWyZTAgh//6qVQAAtt/uUlWTuIgAjK85ZeknoIgNPWsJLBn5p2vhBQaiM4ni\n",
       "PiK50B+2tN4ODbUByDrarMCe2d8TgjL5CZxY9J/A6fZU1NK4PXMpktBoHNsufP/ZW5lVZl3plZ5S\n",
       "57LKXCcj5M+KgMa5Tj2L+WFsxuyr+3Xj66hIcDnivHBfHhDYncFSiEK94FroL6flYvx0IdlJP5G/\n",
       "vA8Jf/0dEoTRocCMhirVCh+Qgjy165JwoRfuO4Tf++Xdgdco4tbS8AAAAE1BnppFFSw7/wABZVXY\n",
       "EtMAF1XAdGMc4fsX5kypwboNLd/2WlfE5MNpmc/dtAJJPYQpLDwQiVX83aXb8+zvNnk3S+a/viaV\n",
       "2DlsrZ1nxwAAAF0Bnrl0Qz8AAllMX/YAccI0iSFP79zhN89xwE/Fywm56UBaS7JG25yy3rm1CGJi\n",
       "fXr163IyreRM0F9V3qnphRajEF6A7E9WS3Yiq5f5cdKdQbmsICfQPZh1tDu9riAAAABQAZ67akM/\n",
       "AAJreLHAEPiKdK8gh+ew0Qvlriz7PrdbtWrOQodFySjH8cT3hHuIUZ0rqXntY3oCfjYl+bfTkWps\n",
       "cNS5k8SyNUKaoqTgGrYQBuEAAAC5QZqgSahBbJlMCCH//qpVAAC24lVpBbOB9XLyYAL/d5CFpA+6\n",
       "IVGwRnYrMy3QhZJ+HPXcqWho7YVIEfN65jSNZ41uJ8A2YwmvrB/C8T6Z+89T+e0V2AuggHgRriY7\n",
       "u4Lmzcp6fywGTfEgn2jdgri4YcrYKpr4GJk4+8BSceyhakLTcBHoeF9NGGKGstebAnng1mpgmkv2\n",
       "QdfoV8EfSSiYrPB3ZRn3VMTVxYa253ZsFXh95y4FwQfwtIEAAABiQZ7eRRUsO/8AAW7eUAHG9EUA\n",
       "QiA/azAqLIFpM7z2/LtnYLlsjEwZOP5oJAJm6ojRzgjaFFi50kdxNC7io5YuCLsgibKba39W4C7T\n",
       "RO3eMLamdeZiVb3uE6Ynm2A914ooVD4AAAAwAZ79dEM/AAJ9JM+0ZNT4QAEViHiE44IYrujd6yjH\n",
       "+h51HMf2xRuWaMj6/HddMlUCAAAARAGe/2pDPwACfKC/jcWbGQBsVibFccAQeVuCuThxbtzl4w9A\n",
       "wkAM3VVP++O66P05tLvSqchrLW5cpUEpkF3Q+B+jPuWVAAAAfUGa5EmoQWyZTAh///6plgACt9n/\n",
       "AC2EBm99BmccBRKx5Pw+et2T0Vgkfb1FTbMv3AHdgqnU3RxiIgpx2FG/bXNBvVoGl8sLvRbh754j\n",
       "FVC+IPvDXZqn7nOFdkOz6ZlDx9FrUwYanTN5MK+wzBOcGQWJ/kP+8/hdMIGH35DwAAAAWEGfAkUV\n",
       "LDv/AAFcVgQ+T1L6A3EAHCHQUlwKo+mppHpRzrOcQgBtRdjgpEzgsi5pgFvHZkP3dJ+yiDO6ruCu\n",
       "K9Yt4fkGSvcGrGYN4PSlL9JSsKR5CCaZzMEAAABWAZ8hdEM/AAE1eOLImftD8ALD6xTKcvugFMRE\n",
       "r+bLDwHIE3cVPdaMk+Pwkw4I2PQkDkXFywUr9fg/iWExyWj5tHI2n9bcIQsJcyGLLlQlqsPytugA\n",
       "HSQAAABRAZ8jakM/AAJbdRHAEPiHYOFrSQ3VmCYpmdj70dtrRmOXnjsKPohXpqFTxMHwLf4bgICL\n",
       "uur3IeZw9jxMt4rszetCV5RwKNNWXqJ2DcGCjXpBAAAAZ0GbJ0moQWyZTAhn//6eEAAVh1jIj7L3\n",
       "AETHqtFTQgg4zVgM/a4Y/HuBTJiK2kcmHenvpVizn8mRX4nnJpRHdzd3ZX5D8g2M2kfhk8rMJgsA\n",
       "sGUxzO7sP4KyTDXTxUAImk1/GX65MUEAAABOQZ9GQhn/AAJreLHAESFM3zrG2wjrd+mJna6sPjr9\n",
       "u6GyRdp4oRa83+2k5SBmnQ/jw2JnqXq1kVnlkVt5SFifQZoXjbemuSyN/6m4IBuBAAAARAGfZWkQ\n",
       "zwACa3CiB/bADi/XNufQntZ//cEujSW1WFVE5DUq9PMYWQMmJMBmKTvs0qSiOGd4C3s+PVLvBXQ1\n",
       "mzQHBaDxAAAMTm1vb3YAAABsbXZoZAAAAAAAAAAAAAAAAAAAA+gAAJxAAAEAAAEAAAAAAAAAAAAA\n",
       "AAABAAAAAAAAAAAAAAAAAAAAAQAAAAAAAAAAAAAAAAAAQAAAAAAAAAAAAAAAAAAAAAAAAAAAAAAA\n",
       "AAAAAAAAAAIAAAt4dHJhawAAAFx0a2hkAAAAAwAAAAAAAAAAAAAAAQAAAAAAAJxAAAAAAAAAAAAA\n",
       "AAAAAAAAAAABAAAAAAAAAAAAAAAAAAAAAQAAAAAAAAAAAAAAAAAAQAAAAAGwAAABIAAAAAAAJGVk\n",
       "dHMAAAAcZWxzdAAAAAAAAAABAACcQAAAEAAAAQAAAAAK8G1kaWEAAAAgbWRoZAAAAAAAAAAAAAAA\n",
       "AAAAKAAABkAAVcQAAAAAAC1oZGxyAAAAAAAAAAB2aWRlAAAAAAAAAAAAAAAAVmlkZW9IYW5kbGVy\n",
       "AAAACpttaW5mAAAAFHZtaGQAAAABAAAAAAAAAAAAAAAkZGluZgAAABxkcmVmAAAAAAAAAAEAAAAM\n",
       "dXJsIAAAAAEAAApbc3RibAAAALNzdHNkAAAAAAAAAAEAAACjYXZjMQAAAAAAAAABAAAAAAAAAAAA\n",
       "AAAAAAAAAAGwASAASAAAAEgAAAAAAAAAAQAAAAAAAAAAAAAAAAAAAAAAAAAAAAAAAAAAAAAAAAAA\n",
       "ABj//wAAADFhdmNDAWQAFf/hABhnZAAVrNlBsJaEAAADAAQAAAMAKDxYtlgBAAZo6+PLIsAAAAAc\n",
       "dXVpZGtoQPJfJE/FujmlG88DI/MAAAAAAAAAGHN0dHMAAAAAAAAAAQAAAMgAAAgAAAAAFHN0c3MA\n",
       "AAAAAAAAAQAAAAEAAAYQY3R0cwAAAAAAAADAAAAAAQAAEAAAAAABAAAoAAAAAAEAABAAAAAAAQAA\n",
       "AAAAAAABAAAIAAAAAAMAABAAAAAAAQAAKAAAAAABAAAQAAAAAAEAAAAAAAAAAQAACAAAAAABAAAo\n",
       "AAAAAAEAABAAAAAAAQAAAAAAAAABAAAIAAAAAAcAABAAAAAAAQAAKAAAAAABAAAQAAAAAAEAAAAA\n",
       "AAAAAQAACAAAAAABAAAoAAAAAAEAABAAAAAAAQAAAAAAAAABAAAIAAAAAAEAACgAAAAAAQAAEAAA\n",
       "AAABAAAAAAAAAAEAAAgAAAAAAQAAKAAAAAABAAAQAAAAAAEAAAAAAAAAAQAACAAAAAABAAAoAAAA\n",
       "AAEAABAAAAAAAQAAAAAAAAABAAAIAAAAAAEAACgAAAAAAQAAEAAAAAABAAAAAAAAAAEAAAgAAAAA\n",
       "AQAAEAAAAAABAAAoAAAAAAEAABAAAAAAAQAAAAAAAAABAAAIAAAAAAEAACgAAAAAAQAAEAAAAAAB\n",
       "AAAAAAAAAAEAAAgAAAAAAQAAKAAAAAABAAAQAAAAAAEAAAAAAAAAAQAACAAAAAABAAAoAAAAAAEA\n",
       "ABAAAAAAAQAAAAAAAAABAAAIAAAAAAEAACgAAAAAAQAAEAAAAAABAAAAAAAAAAEAAAgAAAAAAQAA\n",
       "KAAAAAABAAAQAAAAAAEAAAAAAAAAAQAACAAAAAABAAAoAAAAAAEAABAAAAAAAQAAAAAAAAABAAAI\n",
       "AAAAAAEAACgAAAAAAQAAEAAAAAABAAAAAAAAAAEAAAgAAAAAAQAAKAAAAAABAAAQAAAAAAEAAAAA\n",
       "AAAAAQAACAAAAAABAAAoAAAAAAEAABAAAAAAAQAAAAAAAAABAAAIAAAAAAEAACgAAAAAAQAAEAAA\n",
       "AAABAAAAAAAAAAEAAAgAAAAAAQAAKAAAAAABAAAQAAAAAAEAAAAAAAAAAQAACAAAAAABAAAoAAAA\n",
       "AAEAABAAAAAAAQAAAAAAAAABAAAIAAAAAAEAACgAAAAAAQAAEAAAAAABAAAAAAAAAAEAAAgAAAAA\n",
       "AQAAKAAAAAABAAAQAAAAAAEAAAAAAAAAAQAACAAAAAABAAAoAAAAAAEAABAAAAAAAQAAAAAAAAAB\n",
       "AAAIAAAAAAEAACgAAAAAAQAAEAAAAAABAAAAAAAAAAEAAAgAAAAAAQAAKAAAAAABAAAQAAAAAAEA\n",
       "AAAAAAAAAQAACAAAAAABAAAoAAAAAAEAABAAAAAAAQAAAAAAAAABAAAIAAAAAAEAABAAAAAAAQAA\n",
       "KAAAAAABAAAQAAAAAAEAAAAAAAAAAQAACAAAAAABAAAoAAAAAAEAABAAAAAAAQAAAAAAAAABAAAI\n",
       "AAAAAAEAACgAAAAAAQAAEAAAAAABAAAAAAAAAAEAAAgAAAAAAQAAKAAAAAABAAAQAAAAAAEAAAAA\n",
       "AAAAAQAACAAAAAABAAAoAAAAAAEAABAAAAAAAQAAAAAAAAABAAAIAAAAAAEAACgAAAAAAQAAEAAA\n",
       "AAABAAAAAAAAAAEAAAgAAAAAAQAAKAAAAAABAAAQAAAAAAEAAAAAAAAAAQAACAAAAAABAAAoAAAA\n",
       "AAEAABAAAAAAAQAAAAAAAAABAAAIAAAAAAEAACgAAAAAAQAAEAAAAAABAAAAAAAAAAEAAAgAAAAA\n",
       "AQAAKAAAAAABAAAQAAAAAAEAAAAAAAAAAQAACAAAAAABAAAoAAAAAAEAABAAAAAAAQAAAAAAAAAB\n",
       "AAAIAAAAAAEAACgAAAAAAQAAEAAAAAABAAAAAAAAAAEAAAgAAAAAAQAAKAAAAAABAAAQAAAAAAEA\n",
       "AAAAAAAAAQAACAAAAAABAAAoAAAAAAEAABAAAAAAAQAAAAAAAAABAAAIAAAAAAEAACgAAAAAAQAA\n",
       "EAAAAAABAAAAAAAAAAEAAAgAAAAAAQAAKAAAAAABAAAQAAAAAAEAAAAAAAAAAQAACAAAAAABAAAo\n",
       "AAAAAAEAABAAAAAAAQAAAAAAAAABAAAIAAAAAAEAACgAAAAAAQAAEAAAAAABAAAAAAAAAAEAAAgA\n",
       "AAAAAQAAIAAAAAABAAAQAAAAAAEAAAAAAAAAHHN0c2MAAAAAAAAAAQAAAAEAAADIAAAAAQAAAzRz\n",
       "dHN6AAAAAAAAAAAAAADIAAAINgAAAZkAAABcAAAAUAAAAEoAAABvAAAAYAAAAFsAAAF4AAAAUQAA\n",
       "ADQAAABXAAABZgAAAGUAAABGAAAATwAAAMEAAACXAAAAVQAAAGEAAABSAAAAXgAAAGUAAAGMAAAA\n",
       "aAAAADMAAAAyAAAB5wAAAEUAAABlAAAARQAAAS4AAABpAAAAUgAAAGwAAAEoAAAAUwAAAEoAAABf\n",
       "AAABSQAAAFYAAABOAAAAXgAAARYAAABOAAAARAAAADwAAACuAAABigAAAFMAAAAtAAAAMgAAAWMA\n",
       "AABZAAAATgAAAFMAAAEbAAAARQAAAEkAAABFAAAA2AAAAGUAAABmAAAATQAAAQkAAABkAAAATAAA\n",
       "AGIAAAFaAAAAZQAAAGgAAAAuAAABsgAAAFQAAABHAAAAUQAAASIAAABAAAAAOAAAAFIAAADyAAAA\n",
       "aQAAAFsAAABhAAABCAAAAFsAAABEAAAANAAAATwAAABHAAAAPgAAAEkAAAFPAAAAUAAAAFUAAABH\n",
       "AAAA6AAAAFQAAABMAAAAVgAAAOYAAABnAAAAUAAAAEoAAADlAAAAXQAAAEwAAABFAAABRAAAAD8A\n",
       "AABIAAAASQAAAQUAAABOAAAAQAAAAFoAAADMAAAAbgAAAFAAAABfAAAAxwAAAFsAAABAAAAARAAA\n",
       "AGoAAAExAAAAaAAAAEEAAABaAAABAgAAAFMAAABIAAAAUAAAALsAAABVAAAAVwAAAEAAAADXAAAA\n",
       "UAAAADEAAABOAAABPgAAAEsAAABGAAAATAAAAMsAAABeAAAAWAAAAEoAAADHAAAAUgAAAFUAAABL\n",
       "AAABBAAAAFYAAABDAAAARwAAARMAAABZAAAARgAAAFcAAAC0AAAAXAAAAFkAAABGAAABNwAAAFQA\n",
       "AAAhAAAATQAAAQ0AAABWAAAASQAAAF4AAACqAAAAVgAAAGUAAABKAAABFgAAAGEAAABOAAAAWgAA\n",
       "AOIAAABaAAAAPAAAAFoAAADQAAAAUQAAAGEAAABUAAAAvQAAAGYAAAA0AAAASAAAAIEAAABcAAAA\n",
       "WgAAAFUAAABrAAAAUgAAAEgAAAAUc3RjbwAAAAAAAAABAAAALAAAAGJ1ZHRhAAAAWm1ldGEAAAAA\n",
       "AAAAIWhkbHIAAAAAAAAAAG1kaXJhcHBsAAAAAAAAAAAAAAAALWlsc3QAAAAlqXRvbwAAAB1kYXRh\n",
       "AAAAAQAAAABMYXZmNTcuNTYuMTAx\n",
       "\">\n",
       "  Your browser does not support the video tag.\n",
       "</video>"
      ],
      "text/plain": [
       "<IPython.core.display.HTML object>"
      ]
     },
     "execution_count": 32,
     "metadata": {},
     "output_type": "execute_result"
    }
   ],
   "source": [
    "# call the animator. blit=True re-draws just the parts that have \n",
    "# changed to make things a bit faster\n",
    "\n",
    "# remove white margin\n",
    "fig.subplots_adjust(left=0, bottom=0, right=1, top=1, \n",
    "                    wspace=None, hspace=None)\n",
    "N = len(t['x'])\n",
    "anim = animation.FuncAnimation(fig, animate, init_func=init, frames=N, interval=200, blit=True)\n",
    "HTML(anim.to_html5_video())"
   ]
  }
 ],
 "metadata": {
  "kernelspec": {
   "display_name": "Python 3",
   "language": "python",
   "name": "python3"
  },
  "language_info": {
   "codemirror_mode": {
    "name": "ipython",
    "version": 3
   },
   "file_extension": ".py",
   "mimetype": "text/x-python",
   "name": "python",
   "nbconvert_exporter": "python",
   "pygments_lexer": "ipython3",
   "version": "3.6.1"
  },
  "toc": {
   "colors": {
    "hover_highlight": "#ffffff",
    "navigate_num": "#000000",
    "navigate_text": "#ffffff",
    "running_highlight": "#4dff05",
    "selected_highlight": "#FFD700",
    "sidebar_border": "#EEEEEE",
    "wrapper_background": "#000000"
   },
   "moveMenuLeft": true,
   "nav_menu": {
    "height": "4px",
    "width": "254px"
   },
   "navigate_menu": true,
   "number_sections": false,
   "sideBar": true,
   "threshold": 4,
   "toc_cell": false,
   "toc_section_display": "block",
   "toc_window_display": false,
   "widenNotebook": false
  },
  "widgets": {
   "application/vnd.jupyter.widget-state+json": {
    "state": {
     "003edfcfd28c44578e9adbb06bbe702e": {
      "model_module": "jupyter-js-widgets",
      "model_module_version": "~2.1.4",
      "model_name": "FloatSliderModel",
      "state": {
       "_model_module_version": "~2.1.4",
       "_view_module_version": "~2.1.4",
       "description": "$-v_y / v_c$",
       "layout": "IPY_MODEL_311352910d6d437f835a977eff565606",
       "max": 2,
       "min": -2,
       "step": 0.01,
       "value": 1
      }
     },
     "00fdfd1ddaf444209fd10102541e9961": {
      "model_module": "jupyter-js-widgets",
      "model_module_version": "~2.1.4",
      "model_name": "LayoutModel",
      "state": {
       "_model_module_version": "~2.1.4",
       "_view_module_version": "~2.1.4"
      }
     },
     "01822ad9f18049d894dcbadc6d73e615": {
      "model_module": "jupyter-js-widgets",
      "model_module_version": "~2.1.4",
      "model_name": "FloatSliderModel",
      "state": {
       "_model_module_version": "~2.1.4",
       "_view_module_version": "~2.1.4",
       "description": "$-r_x / 1$ $AU$",
       "layout": "IPY_MODEL_29461613518743ebac153548828033f7",
       "max": 2,
       "min": 0.1,
       "step": 0.01,
       "value": 1
      }
     },
     "01915560a13a45f8905ba6fa28bf5fd7": {
      "model_module": "jupyter-js-widgets",
      "model_module_version": "~2.1.4",
      "model_name": "FloatSliderModel",
      "state": {
       "_model_module_version": "~2.1.4",
       "_view_module_version": "~2.1.4",
       "description": "$-r_x / 1$ $AU$",
       "layout": "IPY_MODEL_f48b162868954f689f1feba68778f741",
       "max": 2,
       "min": 0.1,
       "step": 0.01,
       "value": 0.75
      }
     },
     "01995ccd8d2e47e4a9ed9160e49d1a71": {
      "model_module": "jupyter-js-widgets",
      "model_module_version": "~2.1.4",
      "model_name": "LayoutModel",
      "state": {
       "_model_module_version": "~2.1.4",
       "_view_module_version": "~2.1.4",
       "display": "inline-flex",
       "flex_flow": "row wrap",
       "justify_content": "flex-start"
      }
     },
     "01b1773d32d749d8a544be0be6d6e624": {
      "model_module": "jupyter-js-widgets",
      "model_module_version": "~2.1.4",
      "model_name": "LayoutModel",
      "state": {
       "_model_module_version": "~2.1.4",
       "_view_module_version": "~2.1.4",
       "display": "inline-flex",
       "flex_flow": "row wrap",
       "justify_content": "flex-start"
      }
     },
     "01cea76961734fbcb58483ba122848f1": {
      "model_module": "jupyter-js-widgets",
      "model_module_version": "~2.1.4",
      "model_name": "VBoxModel",
      "state": {
       "_dom_classes": [
        "widget-interact"
       ],
       "_model_module_version": "~2.1.4",
       "_view_module_version": "~2.1.4",
       "children": [
        "IPY_MODEL_29623f3a34a443e5a95add58ef11564c",
        "IPY_MODEL_177ca4c524e34c138259f44ec6d7ab4c",
        "IPY_MODEL_77659305bfed42079908814c63b24bac",
        "IPY_MODEL_ba5cb4c657bb40f9b7fb3c50fafd5bd1",
        "IPY_MODEL_1643a7667d1a4d32b654e477be764f84",
        "IPY_MODEL_e392c78b63284d37be7cff6f6f44b157"
       ],
       "layout": "IPY_MODEL_6414e51e15e2459b8a33c29c7245ef32"
      }
     },
     "01e0dee90ba94dc7aaaf21d456cc8486": {
      "model_module": "jupyter-js-widgets",
      "model_module_version": "~2.1.4",
      "model_name": "FloatSliderModel",
      "state": {
       "_model_module_version": "~2.1.4",
       "_view_module_version": "~2.1.4",
       "description": "$-v_y / v_c$",
       "layout": "IPY_MODEL_b42ee0b5fc764e859b9a39156c911140",
       "max": 2,
       "min": -2,
       "step": 0.01,
       "value": 1
      }
     },
     "01ec51484a884adcb98ffe434defd569": {
      "model_module": "jupyter-js-widgets",
      "model_module_version": "~2.1.4",
      "model_name": "LayoutModel",
      "state": {
       "_model_module_version": "~2.1.4",
       "_view_module_version": "~2.1.4"
      }
     },
     "0277090c10d94c769cf5554409c4cf26": {
      "model_module": "jupyter-js-widgets",
      "model_module_version": "~2.1.4",
      "model_name": "LayoutModel",
      "state": {
       "_model_module_version": "~2.1.4",
       "_view_module_version": "~2.1.4"
      }
     },
     "038128f88ef64ffe99aa11da4a61a772": {
      "model_module": "jupyter-js-widgets",
      "model_module_version": "~2.1.4",
      "model_name": "LayoutModel",
      "state": {
       "_model_module_version": "~2.1.4",
       "_view_module_version": "~2.1.4"
      }
     },
     "03e1826fe81e427aa467eb2796427f6c": {
      "model_module": "jupyter-js-widgets",
      "model_module_version": "~2.1.4",
      "model_name": "FloatSliderModel",
      "state": {
       "_model_module_version": "~2.1.4",
       "_view_module_version": "~2.1.4",
       "description": "$v_x / v_c$",
       "layout": "IPY_MODEL_ceb071156fe945c9ad54999399c4dbe3",
       "max": 2,
       "min": -2,
       "step": 0.01,
       "value": 0.42
      }
     },
     "04e0fe0c54f241a4824e137e78b8a2f7": {
      "model_module": "jupyter-js-widgets",
      "model_module_version": "~2.1.4",
      "model_name": "OutputModel",
      "state": {
       "_dom_classes": [],
       "_model_module": "jupyter-js-widgets",
       "_model_module_version": "~2.1.4",
       "_view_module": "jupyter-js-widgets",
       "_view_module_version": "~2.1.4",
       "layout": "IPY_MODEL_fb6d1ca915344f5da46cbf499d22a3d6",
       "msg_throttle": 1
      }
     },
     "0552eae71ca14ebaa64b904a2db70802": {
      "model_module": "jupyter-js-widgets",
      "model_module_version": "~2.1.4",
      "model_name": "FloatSliderModel",
      "state": {
       "_model_module_version": "~2.1.4",
       "_view_module_version": "~2.1.4",
       "description": "$-v_y / v_c$",
       "layout": "IPY_MODEL_97b4949fa2524b83accde7eb76f2c87e",
       "max": 2,
       "min": -2,
       "step": 0.01,
       "value": 1
      }
     },
     "0558269abec445708d579f5b16fbb287": {
      "model_module": "jupyter-js-widgets",
      "model_module_version": "~2.1.4",
      "model_name": "FloatSliderModel",
      "state": {
       "_model_module_version": "~2.1.4",
       "_view_module_version": "~2.1.4",
       "description": "$-v_y / v_c$",
       "layout": "IPY_MODEL_c5870e3983554f03be2b65afdfd75273",
       "max": 2,
       "min": -2,
       "step": 0.01,
       "value": 1
      }
     },
     "055e8fec03714b3db2fc814401a8946b": {
      "model_module": "jupyter-js-widgets",
      "model_module_version": "~2.1.4",
      "model_name": "LayoutModel",
      "state": {
       "_model_module_version": "~2.1.4",
       "_view_module_version": "~2.1.4",
       "display": "inline-flex",
       "flex_flow": "row wrap",
       "justify_content": "flex-start"
      }
     },
     "05843fdaca1f4eaeace9c299d462d27b": {
      "model_module": "jupyter-js-widgets",
      "model_module_version": "~2.1.4",
      "model_name": "LayoutModel",
      "state": {
       "_model_module_version": "~2.1.4",
       "_view_module_version": "~2.1.4"
      }
     },
     "05d065bc6fc44e809119bce984c84728": {
      "model_module": "jupyter-js-widgets",
      "model_module_version": "~2.1.4",
      "model_name": "FloatSliderModel",
      "state": {
       "_model_module_version": "~2.1.4",
       "_view_module_version": "~2.1.4",
       "description": "$-r_x / 1$ $AU$",
       "layout": "IPY_MODEL_1391c0da989f43a5a4d0bb7fb401b9c5",
       "max": 2,
       "min": 0.1,
       "step": 0.01,
       "value": 1
      }
     },
     "0672887186f4495dae14c1037475d21f": {
      "model_module": "jupyter-js-widgets",
      "model_module_version": "~2.1.4",
      "model_name": "OutputModel",
      "state": {
       "_dom_classes": [],
       "_model_module": "jupyter-js-widgets",
       "_model_module_version": "~2.1.4",
       "_view_module": "jupyter-js-widgets",
       "_view_module_version": "~2.1.4",
       "layout": "IPY_MODEL_5e40d840ffc64472b548eca6919b8eee",
       "msg_throttle": 1
      }
     },
     "074f1346c9dd4f89beab94ecd4aefd0c": {
      "model_module": "jupyter-js-widgets",
      "model_module_version": "~2.1.4",
      "model_name": "VBoxModel",
      "state": {
       "_dom_classes": [
        "widget-interact"
       ],
       "_model_module_version": "~2.1.4",
       "_view_module_version": "~2.1.4",
       "children": [
        "IPY_MODEL_fa2cb5ec373a47e1b514cf10edd76788",
        "IPY_MODEL_83621bb1b3dc4d4aa184229f2422d8bb",
        "IPY_MODEL_01e0dee90ba94dc7aaaf21d456cc8486",
        "IPY_MODEL_5a87971c4402453dac1d007ae6bdf2c9",
        "IPY_MODEL_d407368a1e8f4c6bbacd300c59cbd931",
        "IPY_MODEL_0821d5fab10b42a8b59eea813ed4c2a9"
       ],
       "layout": "IPY_MODEL_cb2b6e9518424ce4a9f44005c4624854"
      }
     },
     "07a1a69cee704944a240ed2bc36affce": {
      "model_module": "jupyter-js-widgets",
      "model_module_version": "~2.1.4",
      "model_name": "FloatSliderModel",
      "state": {
       "_model_module_version": "~2.1.4",
       "_view_module_version": "~2.1.4",
       "description": "$-r_x / 1$ $AU$",
       "layout": "IPY_MODEL_0b7b96301832424092b4b82693c27fdf",
       "max": 2,
       "min": 0.1,
       "step": 0.01,
       "value": 1
      }
     },
     "07e437d00f0a4dfa972d855cb3e29ce3": {
      "model_module": "jupyter-js-widgets",
      "model_module_version": "~2.1.4",
      "model_name": "LayoutModel",
      "state": {
       "_model_module_version": "~2.1.4",
       "_view_module_version": "~2.1.4"
      }
     },
     "0804d5f071d548ecb777b62ce863554e": {
      "model_module": "jupyter-js-widgets",
      "model_module_version": "~2.1.4",
      "model_name": "LayoutModel",
      "state": {
       "_model_module_version": "~2.1.4",
       "_view_module_version": "~2.1.4"
      }
     },
     "0821d5fab10b42a8b59eea813ed4c2a9": {
      "model_module": "jupyter-js-widgets",
      "model_module_version": "~2.1.4",
      "model_name": "OutputModel",
      "state": {
       "_dom_classes": [],
       "_model_module": "jupyter-js-widgets",
       "_model_module_version": "~2.1.4",
       "_view_module": "jupyter-js-widgets",
       "_view_module_version": "~2.1.4",
       "layout": "IPY_MODEL_f5b77fefd5484c50b06485b35bcb83c0",
       "msg_throttle": 1
      }
     },
     "08c00d9a0e1d49b5964d9911f9af16ce": {
      "model_module": "jupyter-js-widgets",
      "model_module_version": "~2.1.4",
      "model_name": "LayoutModel",
      "state": {
       "_model_module_version": "~2.1.4",
       "_view_module_version": "~2.1.4"
      }
     },
     "09001ad688084d8b85b7ea80edbd0e56": {
      "model_module": "jupyter-js-widgets",
      "model_module_version": "~2.1.4",
      "model_name": "FloatSliderModel",
      "state": {
       "_model_module_version": "~2.1.4",
       "_view_module_version": "~2.1.4",
       "description": "$T$ / $1\\ year$",
       "layout": "IPY_MODEL_609702ad83944d76b25c822a3999469a",
       "max": 5,
       "min": 0.1,
       "step": 0.01,
       "value": 1
      }
     },
     "0991457ba73345d5b121912013c2b468": {
      "model_module": "jupyter-js-widgets",
      "model_module_version": "~2.1.4",
      "model_name": "FloatSliderModel",
      "state": {
       "_model_module_version": "~2.1.4",
       "_view_module_version": "~2.1.4",
       "description": "$T$ / $1\\ year$",
       "layout": "IPY_MODEL_9a419a6c33a8471c8a06c84e0ae1085a",
       "max": 5,
       "min": 0.1,
       "step": 0.01,
       "value": 1
      }
     },
     "09a233cabde54a07a6548b5767eb79d8": {
      "model_module": "jupyter-js-widgets",
      "model_module_version": "~2.1.4",
      "model_name": "FloatSliderModel",
      "state": {
       "_model_module_version": "~2.1.4",
       "_view_module_version": "~2.1.4",
       "description": "$T$ / $1\\ year$",
       "layout": "IPY_MODEL_cf9635010aba4b8eb641e98c8273e6cd",
       "max": 5,
       "min": 0.1,
       "step": 0.01,
       "value": 1
      }
     },
     "09a64ef04c41443ea09732b326232b8f": {
      "model_module": "jupyter-js-widgets",
      "model_module_version": "~2.1.4",
      "model_name": "OutputModel",
      "state": {
       "_dom_classes": [],
       "_model_module": "jupyter-js-widgets",
       "_model_module_version": "~2.1.4",
       "_view_module": "jupyter-js-widgets",
       "_view_module_version": "~2.1.4",
       "layout": "IPY_MODEL_34f6d1afe9e74c489556498d9226d9c3",
       "msg_throttle": 1
      }
     },
     "09a71b4ae34f4075851ffc90cb82e1aa": {
      "model_module": "jupyter-js-widgets",
      "model_module_version": "~2.1.4",
      "model_name": "VBoxModel",
      "state": {
       "_dom_classes": [
        "widget-interact"
       ],
       "_model_module_version": "~2.1.4",
       "_view_module_version": "~2.1.4",
       "children": [
        "IPY_MODEL_1144f46bdbe34f7fa7e477fc0acc9882",
        "IPY_MODEL_22eeb96534544944b84e5cbdd2e25714",
        "IPY_MODEL_8a5b7511c220495eb315b7e292e4041f",
        "IPY_MODEL_5335ae0aee834ac68fd7b071352b6256",
        "IPY_MODEL_370edc2f0a1449ac9c0eb2ac7cad2a79",
        "IPY_MODEL_3a6df8d114bb402ebba07b34074f7a91"
       ],
       "layout": "IPY_MODEL_66b0770ac90945518059bdd6f608229d"
      }
     },
     "0a1f7ed9335948a3a8548f653fde58b5": {
      "model_module": "jupyter-js-widgets",
      "model_module_version": "~2.1.4",
      "model_name": "FloatSliderModel",
      "state": {
       "_model_module_version": "~2.1.4",
       "_view_module_version": "~2.1.4",
       "description": "$f\\ \\left(dt = 10^f \\cdot r_0 / v\\right)$",
       "layout": "IPY_MODEL_63ed6f6f8a4d43ba99b545ac33412530",
       "max": 2,
       "min": -3,
       "value": -2
      }
     },
     "0b7b96301832424092b4b82693c27fdf": {
      "model_module": "jupyter-js-widgets",
      "model_module_version": "~2.1.4",
      "model_name": "LayoutModel",
      "state": {
       "_model_module_version": "~2.1.4",
       "_view_module_version": "~2.1.4"
      }
     },
     "0c078f3ce1f54c449cae7c2a234eb518": {
      "model_module": "jupyter-js-widgets",
      "model_module_version": "~2.1.4",
      "model_name": "FloatSliderModel",
      "state": {
       "_model_module_version": "~2.1.4",
       "_view_module_version": "~2.1.4",
       "description": "$T$ / $1\\ year$",
       "layout": "IPY_MODEL_1247f1ef69ca4069a74c66473dab15b9",
       "max": 5,
       "min": 0.1,
       "step": 0.01,
       "value": 0.83
      }
     },
     "0c4d7368dda54ee4a6f55002b4ddedd0": {
      "model_module": "jupyter-js-widgets",
      "model_module_version": "~2.1.4",
      "model_name": "LayoutModel",
      "state": {
       "_model_module_version": "~2.1.4",
       "_view_module_version": "~2.1.4"
      }
     },
     "0d2ea3e7c066424bbbdd9e3e13de123a": {
      "model_module": "jupyter-js-widgets",
      "model_module_version": "~2.1.4",
      "model_name": "FloatSliderModel",
      "state": {
       "_model_module_version": "~2.1.4",
       "_view_module_version": "~2.1.4",
       "description": "$T$ / $1\\ year$",
       "layout": "IPY_MODEL_540e3362a46248fc843a246d6a386161",
       "max": 5,
       "min": 0.1,
       "step": 0.01,
       "value": 1
      }
     },
     "0d330abbde1e42e7bf758100cb2d559b": {
      "model_module": "jupyter-js-widgets",
      "model_module_version": "~2.1.4",
      "model_name": "LayoutModel",
      "state": {
       "_model_module_version": "~2.1.4",
       "_view_module_version": "~2.1.4"
      }
     },
     "0da51c446baf43b488dcee03a5f02ae5": {
      "model_module": "jupyter-js-widgets",
      "model_module_version": "~2.1.4",
      "model_name": "LayoutModel",
      "state": {
       "_model_module_version": "~2.1.4",
       "_view_module_version": "~2.1.4"
      }
     },
     "0e1b0c13cd9d4fa3994517c1e8a25452": {
      "model_module": "jupyter-js-widgets",
      "model_module_version": "~2.1.4",
      "model_name": "LayoutModel",
      "state": {
       "_model_module_version": "~2.1.4",
       "_view_module_version": "~2.1.4",
       "display": "inline-flex",
       "flex_flow": "row wrap",
       "justify_content": "flex-start"
      }
     },
     "0e41ba8e74d041a48828c76fc95f0726": {
      "model_module": "jupyter-js-widgets",
      "model_module_version": "~2.1.4",
      "model_name": "LayoutModel",
      "state": {
       "_model_module_version": "~2.1.4",
       "_view_module_version": "~2.1.4"
      }
     },
     "0e6df5fc81304652b8e931e8bd1da92a": {
      "model_module": "jupyter-js-widgets",
      "model_module_version": "~2.1.4",
      "model_name": "FloatSliderModel",
      "state": {
       "_model_module_version": "~2.1.4",
       "_view_module_version": "~2.1.4",
       "description": "$T$ / $1\\ year$",
       "layout": "IPY_MODEL_6f08443b8d5d4041b2eda825fd47b1a1",
       "max": 5,
       "min": 0.1,
       "step": 0.01,
       "value": 1
      }
     },
     "0e971255c5df46c4819e5e4da0dd9bef": {
      "model_module": "jupyter-js-widgets",
      "model_module_version": "~2.1.4",
      "model_name": "LayoutModel",
      "state": {
       "_model_module_version": "~2.1.4",
       "_view_module_version": "~2.1.4"
      }
     },
     "0f0424541f934042bdc8f07c5e352cdd": {
      "model_module": "jupyter-js-widgets",
      "model_module_version": "~2.1.4",
      "model_name": "LayoutModel",
      "state": {
       "_model_module_version": "~2.1.4",
       "_view_module_version": "~2.1.4",
       "display": "inline-flex",
       "flex_flow": "row wrap",
       "justify_content": "flex-start"
      }
     },
     "0f1ed8b08ab64d5b888700fca0b7f422": {
      "model_module": "jupyter-js-widgets",
      "model_module_version": "~2.1.4",
      "model_name": "LayoutModel",
      "state": {
       "_model_module_version": "~2.1.4",
       "_view_module_version": "~2.1.4"
      }
     },
     "0f442812050249178901d6a81a2f4d1d": {
      "model_module": "jupyter-js-widgets",
      "model_module_version": "~2.1.4",
      "model_name": "VBoxModel",
      "state": {
       "_dom_classes": [
        "widget-interact"
       ],
       "_model_module_version": "~2.1.4",
       "_view_module_version": "~2.1.4",
       "children": [
        "IPY_MODEL_494f6a9e47aa4f52ab9b3628c9d9fa4c",
        "IPY_MODEL_a7d8604be511490f92f8347452bd8a3a",
        "IPY_MODEL_7eaa4f71ffb3440780ea0822e218f55a",
        "IPY_MODEL_0c078f3ce1f54c449cae7c2a234eb518",
        "IPY_MODEL_f79dc74358524af098044a883f588c0d",
        "IPY_MODEL_724a73121a364c2e8b0d2276f05e4e8e"
       ],
       "layout": "IPY_MODEL_798499895a494c7fb88c700a9da2d1e2"
      }
     },
     "102ae5e51e1e4f1f8164c6975d70d498": {
      "model_module": "jupyter-js-widgets",
      "model_module_version": "~2.1.4",
      "model_name": "OutputModel",
      "state": {
       "_dom_classes": [],
       "_model_module": "jupyter-js-widgets",
       "_model_module_version": "~2.1.4",
       "_view_module": "jupyter-js-widgets",
       "_view_module_version": "~2.1.4",
       "layout": "IPY_MODEL_1816ca8e8aa24270ab28752f053ffd6e",
       "msg_throttle": 1
      }
     },
     "1136d3bb257d47cb99919f822d4944f2": {
      "model_module": "jupyter-js-widgets",
      "model_module_version": "~2.1.4",
      "model_name": "LayoutModel",
      "state": {
       "_model_module_version": "~2.1.4",
       "_view_module_version": "~2.1.4"
      }
     },
     "11376b15e24649149563dc2f60f9e664": {
      "model_module": "jupyter-js-widgets",
      "model_module_version": "~2.1.4",
      "model_name": "LayoutModel",
      "state": {
       "_model_module_version": "~2.1.4",
       "_view_module_version": "~2.1.4"
      }
     },
     "1144f46bdbe34f7fa7e477fc0acc9882": {
      "model_module": "jupyter-js-widgets",
      "model_module_version": "~2.1.4",
      "model_name": "FloatSliderModel",
      "state": {
       "_model_module_version": "~2.1.4",
       "_view_module_version": "~2.1.4",
       "description": "$-r_x / 1$ $AU$",
       "layout": "IPY_MODEL_6247f90217fa4ed4bc36589467cc5400",
       "max": 2,
       "min": 0.1,
       "step": 0.01,
       "value": 1
      }
     },
     "11c3df5fabf34232b6d9e7356c71257e": {
      "model_module": "jupyter-js-widgets",
      "model_module_version": "~2.1.4",
      "model_name": "LayoutModel",
      "state": {
       "_model_module_version": "~2.1.4",
       "_view_module_version": "~2.1.4"
      }
     },
     "120cc2e997c644a9ae5841bc91a6a594": {
      "model_module": "jupyter-js-widgets",
      "model_module_version": "~2.1.4",
      "model_name": "LayoutModel",
      "state": {
       "_model_module_version": "~2.1.4",
       "_view_module_version": "~2.1.4"
      }
     },
     "122fdd93f3074fb2888803a78b8246e8": {
      "model_module": "jupyter-js-widgets",
      "model_module_version": "~2.1.4",
      "model_name": "LayoutModel",
      "state": {
       "_model_module_version": "~2.1.4",
       "_view_module_version": "~2.1.4",
       "display": "inline-flex",
       "flex_flow": "row wrap",
       "justify_content": "flex-start"
      }
     },
     "1247f1ef69ca4069a74c66473dab15b9": {
      "model_module": "jupyter-js-widgets",
      "model_module_version": "~2.1.4",
      "model_name": "LayoutModel",
      "state": {
       "_model_module_version": "~2.1.4",
       "_view_module_version": "~2.1.4"
      }
     },
     "1391c0da989f43a5a4d0bb7fb401b9c5": {
      "model_module": "jupyter-js-widgets",
      "model_module_version": "~2.1.4",
      "model_name": "LayoutModel",
      "state": {
       "_model_module_version": "~2.1.4",
       "_view_module_version": "~2.1.4"
      }
     },
     "13e15a0862184eba8a25acb8968033c5": {
      "model_module": "jupyter-js-widgets",
      "model_module_version": "~2.1.4",
      "model_name": "LayoutModel",
      "state": {
       "_model_module_version": "~2.1.4",
       "_view_module_version": "~2.1.4"
      }
     },
     "13e38dcd971e4d62846a576641df5521": {
      "model_module": "jupyter-js-widgets",
      "model_module_version": "~2.1.4",
      "model_name": "FloatSliderModel",
      "state": {
       "_model_module_version": "~2.1.4",
       "_view_module_version": "~2.1.4",
       "description": "$-v_y / v_c$",
       "layout": "IPY_MODEL_1ddc64baa50d4e538e6ae581723de412",
       "max": 2,
       "min": -2,
       "step": 0.01,
       "value": 1
      }
     },
     "140932a9569b4fe3b798aa68567db87f": {
      "model_module": "jupyter-js-widgets",
      "model_module_version": "~2.1.4",
      "model_name": "LayoutModel",
      "state": {
       "_model_module_version": "~2.1.4",
       "_view_module_version": "~2.1.4"
      }
     },
     "141308e5b7d446ab81dd070088932b6a": {
      "model_module": "jupyter-js-widgets",
      "model_module_version": "~2.1.4",
      "model_name": "FloatSliderModel",
      "state": {
       "_model_module_version": "~2.1.4",
       "_view_module_version": "~2.1.4",
       "description": "$-v_y / v_c$",
       "layout": "IPY_MODEL_e5bb0b5591c64d0b8d20473026633938",
       "max": 2,
       "min": -2,
       "step": 0.01,
       "value": 1
      }
     },
     "142d938f26e34bbb9adb837d39ba4824": {
      "model_module": "jupyter-js-widgets",
      "model_module_version": "~2.1.4",
      "model_name": "FloatSliderModel",
      "state": {
       "_model_module_version": "~2.1.4",
       "_view_module_version": "~2.1.4",
       "description": "$-v_y / v_c$",
       "layout": "IPY_MODEL_11c3df5fabf34232b6d9e7356c71257e",
       "max": 2,
       "min": -2,
       "step": 0.01,
       "value": -0.14
      }
     },
     "143bd5218a354ddea6c51a618795f0e4": {
      "model_module": "jupyter-js-widgets",
      "model_module_version": "~2.1.4",
      "model_name": "LayoutModel",
      "state": {
       "_model_module_version": "~2.1.4",
       "_view_module_version": "~2.1.4"
      }
     },
     "1643a7667d1a4d32b654e477be764f84": {
      "model_module": "jupyter-js-widgets",
      "model_module_version": "~2.1.4",
      "model_name": "FloatSliderModel",
      "state": {
       "_model_module_version": "~2.1.4",
       "_view_module_version": "~2.1.4",
       "description": "$f\\ \\left(dt = 10^f \\cdot r_0 / v\\right)$",
       "layout": "IPY_MODEL_75d72b6bfe184bb38083811dc2c41239",
       "max": 2,
       "min": -3,
       "value": -2
      }
     },
     "164b49d3258547fd9e4ddf8bd6e212f4": {
      "model_module": "jupyter-js-widgets",
      "model_module_version": "~2.1.4",
      "model_name": "FloatSliderModel",
      "state": {
       "_model_module_version": "~2.1.4",
       "_view_module_version": "~2.1.4",
       "description": "$v_x / v_c$",
       "layout": "IPY_MODEL_95d674b3f42f46ba886d6ff58861aea8",
       "max": 2,
       "min": -2,
       "step": 0.01
      }
     },
     "16659364b3ef4ac8937f9523d56ff209": {
      "model_module": "jupyter-js-widgets",
      "model_module_version": "~2.1.4",
      "model_name": "LayoutModel",
      "state": {
       "_model_module_version": "~2.1.4",
       "_view_module_version": "~2.1.4"
      }
     },
     "177ca4c524e34c138259f44ec6d7ab4c": {
      "model_module": "jupyter-js-widgets",
      "model_module_version": "~2.1.4",
      "model_name": "FloatSliderModel",
      "state": {
       "_model_module_version": "~2.1.4",
       "_view_module_version": "~2.1.4",
       "description": "$v_x / v_c$",
       "layout": "IPY_MODEL_698c38027017413b833f91f7d1a83b19",
       "max": 2,
       "min": -2,
       "step": 0.01
      }
     },
     "17fc145a2e1843f781e54871cfb7f4e0": {
      "model_module": "jupyter-js-widgets",
      "model_module_version": "~2.1.4",
      "model_name": "FloatSliderModel",
      "state": {
       "_model_module_version": "~2.1.4",
       "_view_module_version": "~2.1.4",
       "description": "$-r_x / 1$ $AU$",
       "layout": "IPY_MODEL_61f0a78fe27341f8a87ee5593f814e58",
       "max": 2,
       "min": 0.1,
       "step": 0.01,
       "value": 1
      }
     },
     "1816ca8e8aa24270ab28752f053ffd6e": {
      "model_module": "jupyter-js-widgets",
      "model_module_version": "~2.1.4",
      "model_name": "LayoutModel",
      "state": {
       "_model_module_version": "~2.1.4",
       "_view_module_version": "~2.1.4"
      }
     },
     "1839f14130cb4c8b9c687e58583ee56a": {
      "model_module": "jupyter-js-widgets",
      "model_module_version": "~2.1.4",
      "model_name": "LayoutModel",
      "state": {
       "_model_module_version": "~2.1.4",
       "_view_module_version": "~2.1.4"
      }
     },
     "1882a60d84304271aee6be5bfcfead7f": {
      "model_module": "jupyter-js-widgets",
      "model_module_version": "~2.1.4",
      "model_name": "FloatSliderModel",
      "state": {
       "_model_module_version": "~2.1.4",
       "_view_module_version": "~2.1.4",
       "description": "$-r_x / 1$ $AU$",
       "layout": "IPY_MODEL_826a03d7e4294a008fd880c0588fb440",
       "max": 2,
       "min": 0.1,
       "step": 0.01,
       "value": 1
      }
     },
     "18a42571a372455e8ee8004575423aa5": {
      "model_module": "jupyter-js-widgets",
      "model_module_version": "~2.1.4",
      "model_name": "FloatSliderModel",
      "state": {
       "_model_module_version": "~2.1.4",
       "_view_module_version": "~2.1.4",
       "description": "$v_x / v_c$",
       "layout": "IPY_MODEL_ea4733b9c7cb472d8c72e3a62a1e0804",
       "max": 2,
       "min": -2,
       "step": 0.01,
       "value": 0.39
      }
     },
     "19434c9479fc48339b954cbb64b70035": {
      "model_module": "jupyter-js-widgets",
      "model_module_version": "~2.1.4",
      "model_name": "LayoutModel",
      "state": {
       "_model_module_version": "~2.1.4",
       "_view_module_version": "~2.1.4"
      }
     },
     "19aab5aca54c4f079b13bb183499fbff": {
      "model_module": "jupyter-js-widgets",
      "model_module_version": "~2.1.4",
      "model_name": "LayoutModel",
      "state": {
       "_model_module_version": "~2.1.4",
       "_view_module_version": "~2.1.4"
      }
     },
     "1a217c4e44dd4c06b3965ff551669b8d": {
      "model_module": "jupyter-js-widgets",
      "model_module_version": "~2.1.4",
      "model_name": "FloatSliderModel",
      "state": {
       "_model_module_version": "~2.1.4",
       "_view_module_version": "~2.1.4",
       "description": "$T$ / $1\\ year$",
       "layout": "IPY_MODEL_1f0ff810e3e74c85bfd76442cfb5951b",
       "max": 5,
       "min": 0.1,
       "step": 0.01,
       "value": 1
      }
     },
     "1a71dcfe595c4e38945ca232b51ae234": {
      "model_module": "jupyter-js-widgets",
      "model_module_version": "~2.1.4",
      "model_name": "VBoxModel",
      "state": {
       "_dom_classes": [
        "widget-interact"
       ],
       "_model_module_version": "~2.1.4",
       "_view_module_version": "~2.1.4",
       "children": [
        "IPY_MODEL_b9dbad2150ba4a7897baeb5cc70d5602",
        "IPY_MODEL_5830ca6f2c954604a4a8e36e54ad6de7",
        "IPY_MODEL_d876b29fce4c44d4bbb2e144d6314b6d",
        "IPY_MODEL_e88761f7a3724348b47c8bd77cf987ae",
        "IPY_MODEL_9967d9b827ee4ec89c25c3bdd0c68481",
        "IPY_MODEL_38ea4fc825764f259c0502e67d193840"
       ],
       "layout": "IPY_MODEL_cd26bada379041c08f57a2c1eedf8493"
      }
     },
     "1aa70a08527b4a738d25f992e540929f": {
      "model_module": "jupyter-js-widgets",
      "model_module_version": "~2.1.4",
      "model_name": "LayoutModel",
      "state": {
       "_model_module_version": "~2.1.4",
       "_view_module_version": "~2.1.4"
      }
     },
     "1b3f9d2b6d784d759b412f6934be0d1e": {
      "model_module": "jupyter-js-widgets",
      "model_module_version": "~2.1.4",
      "model_name": "LayoutModel",
      "state": {
       "_model_module_version": "~2.1.4",
       "_view_module_version": "~2.1.4"
      }
     },
     "1be8220192824987a293da74219d11dd": {
      "model_module": "jupyter-js-widgets",
      "model_module_version": "~2.1.4",
      "model_name": "LayoutModel",
      "state": {
       "_model_module_version": "~2.1.4",
       "_view_module_version": "~2.1.4"
      }
     },
     "1c350460f3ff4f50a1bd1dfd0627c470": {
      "model_module": "jupyter-js-widgets",
      "model_module_version": "~2.1.4",
      "model_name": "LayoutModel",
      "state": {
       "_model_module_version": "~2.1.4",
       "_view_module_version": "~2.1.4"
      }
     },
     "1c668f2e317749cb9a52a0d3469bef46": {
      "model_module": "jupyter-js-widgets",
      "model_module_version": "~2.1.4",
      "model_name": "LayoutModel",
      "state": {
       "_model_module_version": "~2.1.4",
       "_view_module_version": "~2.1.4"
      }
     },
     "1d7445e811b14dcd9a4b693067b517f0": {
      "model_module": "jupyter-js-widgets",
      "model_module_version": "~2.1.4",
      "model_name": "LayoutModel",
      "state": {
       "_model_module_version": "~2.1.4",
       "_view_module_version": "~2.1.4"
      }
     },
     "1daf5cabb5b64a4fbd9f124e2f777541": {
      "model_module": "jupyter-js-widgets",
      "model_module_version": "~2.1.4",
      "model_name": "LayoutModel",
      "state": {
       "_model_module_version": "~2.1.4",
       "_view_module_version": "~2.1.4"
      }
     },
     "1dceeb519e6146ef9a02b45748589523": {
      "model_module": "jupyter-js-widgets",
      "model_module_version": "~2.1.4",
      "model_name": "FloatSliderModel",
      "state": {
       "_model_module_version": "~2.1.4",
       "_view_module_version": "~2.1.4",
       "description": "$v_x / v_c$",
       "layout": "IPY_MODEL_cf93a3dbd9764c60b820bdf42bc90ee1",
       "max": 2,
       "min": -2,
       "step": 0.01
      }
     },
     "1ddc64baa50d4e538e6ae581723de412": {
      "model_module": "jupyter-js-widgets",
      "model_module_version": "~2.1.4",
      "model_name": "LayoutModel",
      "state": {
       "_model_module_version": "~2.1.4",
       "_view_module_version": "~2.1.4"
      }
     },
     "1ef79da825a4471b9a0e22a6f33059cd": {
      "model_module": "jupyter-js-widgets",
      "model_module_version": "~2.1.4",
      "model_name": "LayoutModel",
      "state": {
       "_model_module_version": "~2.1.4",
       "_view_module_version": "~2.1.4"
      }
     },
     "1f0e64b5bc85473592dd1840fee91fb2": {
      "model_module": "jupyter-js-widgets",
      "model_module_version": "~2.1.4",
      "model_name": "LayoutModel",
      "state": {
       "_model_module_version": "~2.1.4",
       "_view_module_version": "~2.1.4",
       "display": "inline-flex",
       "flex_flow": "row wrap",
       "justify_content": "flex-start"
      }
     },
     "1f0ff810e3e74c85bfd76442cfb5951b": {
      "model_module": "jupyter-js-widgets",
      "model_module_version": "~2.1.4",
      "model_name": "LayoutModel",
      "state": {
       "_model_module_version": "~2.1.4",
       "_view_module_version": "~2.1.4"
      }
     },
     "1f772a82b1ab4f86a8eed63243daaeb2": {
      "model_module": "jupyter-js-widgets",
      "model_module_version": "~2.1.4",
      "model_name": "LayoutModel",
      "state": {
       "_model_module_version": "~2.1.4",
       "_view_module_version": "~2.1.4"
      }
     },
     "1f778f0966844874a95e1c105164227d": {
      "model_module": "jupyter-js-widgets",
      "model_module_version": "~2.1.4",
      "model_name": "OutputModel",
      "state": {
       "_dom_classes": [],
       "_model_module": "jupyter-js-widgets",
       "_model_module_version": "~2.1.4",
       "_view_module": "jupyter-js-widgets",
       "_view_module_version": "~2.1.4",
       "layout": "IPY_MODEL_143bd5218a354ddea6c51a618795f0e4",
       "msg_throttle": 1
      }
     },
     "20568285163148e6965fa4ff3be45012": {
      "model_module": "jupyter-js-widgets",
      "model_module_version": "~2.1.4",
      "model_name": "LayoutModel",
      "state": {
       "_model_module_version": "~2.1.4",
       "_view_module_version": "~2.1.4"
      }
     },
     "2061b5b970734a15a77f017ba2440467": {
      "model_module": "jupyter-js-widgets",
      "model_module_version": "~2.1.4",
      "model_name": "VBoxModel",
      "state": {
       "_dom_classes": [
        "widget-interact"
       ],
       "_model_module_version": "~2.1.4",
       "_view_module_version": "~2.1.4",
       "children": [
        "IPY_MODEL_b4740fa3d0a242c4bdbf5493740f9372",
        "IPY_MODEL_25812efcce044aa1bc63f00caa2b2757",
        "IPY_MODEL_aeb58c3b248044c796740e7377195ab7",
        "IPY_MODEL_b4d3c1957f98499a882a6d87fe1ce2c9",
        "IPY_MODEL_71fc51dedf054970af61e766fc6fa71b",
        "IPY_MODEL_aff78c1dbfa444b690339c26fca9ee74"
       ],
       "layout": "IPY_MODEL_b899bee510a34e6fade9bbe71377f963"
      }
     },
     "207cea7524fa464898010bf54576ae97": {
      "model_module": "jupyter-js-widgets",
      "model_module_version": "~2.1.4",
      "model_name": "LayoutModel",
      "state": {
       "_model_module_version": "~2.1.4",
       "_view_module_version": "~2.1.4"
      }
     },
     "21260cf0ce6048d4982942d7debba91b": {
      "model_module": "jupyter-js-widgets",
      "model_module_version": "~2.1.4",
      "model_name": "OutputModel",
      "state": {
       "_dom_classes": [],
       "_model_module": "jupyter-js-widgets",
       "_model_module_version": "~2.1.4",
       "_view_module": "jupyter-js-widgets",
       "_view_module_version": "~2.1.4",
       "layout": "IPY_MODEL_96158478ffdd491fa2b7317d8d6e12ff",
       "msg_throttle": 1
      }
     },
     "21541234497843f5922879b80feba389": {
      "model_module": "jupyter-js-widgets",
      "model_module_version": "~2.1.4",
      "model_name": "VBoxModel",
      "state": {
       "_dom_classes": [
        "widget-interact"
       ],
       "_model_module_version": "~2.1.4",
       "_view_module_version": "~2.1.4",
       "children": [
        "IPY_MODEL_97dfbd6119864ddd88b488973e634f90",
        "IPY_MODEL_4fc60063f0254485af67b66946b25bab",
        "IPY_MODEL_4edf3237821842aa9bac78ab0c57ae51",
        "IPY_MODEL_6dd40f79afee4850ba8ccd84c1920bba",
        "IPY_MODEL_5efd5af4854b4130830db47520dc74c3",
        "IPY_MODEL_6dedc1c2791f4f429142f7946e0c2a74"
       ],
       "layout": "IPY_MODEL_4dffa57aeb7348ffa7ef315fe9fc631b"
      }
     },
     "2233fc7222bc406b9627e2da1d90adcc": {
      "model_module": "jupyter-js-widgets",
      "model_module_version": "~2.1.4",
      "model_name": "VBoxModel",
      "state": {
       "_dom_classes": [
        "widget-interact"
       ],
       "_model_module_version": "~2.1.4",
       "_view_module_version": "~2.1.4",
       "children": [
        "IPY_MODEL_db07ffd42c7f4f5eb5ad21b0702d79e4",
        "IPY_MODEL_8ed64ddf01804f08ad3a79da8410f41c",
        "IPY_MODEL_30b5869a3d694205885351f508025b25",
        "IPY_MODEL_c0e99ceca08e403eab18597e6ca535d9",
        "IPY_MODEL_d29c67d467a948c1ae548f57360d2f86",
        "IPY_MODEL_64b48ec6901042dbb4c4cb3799588ebf"
       ],
       "layout": "IPY_MODEL_88036ec46fff461e88f1e14f99182a14"
      }
     },
     "22592f28193347aca7811d59f96cbefd": {
      "model_module": "jupyter-js-widgets",
      "model_module_version": "~2.1.4",
      "model_name": "LayoutModel",
      "state": {
       "_model_module_version": "~2.1.4",
       "_view_module_version": "~2.1.4"
      }
     },
     "22eeb96534544944b84e5cbdd2e25714": {
      "model_module": "jupyter-js-widgets",
      "model_module_version": "~2.1.4",
      "model_name": "FloatSliderModel",
      "state": {
       "_model_module_version": "~2.1.4",
       "_view_module_version": "~2.1.4",
       "description": "$v_x / v_c$",
       "layout": "IPY_MODEL_22592f28193347aca7811d59f96cbefd",
       "max": 2,
       "min": -2,
       "step": 0.01
      }
     },
     "2418d54b758a4e37ac5d3128932b25af": {
      "model_module": "jupyter-js-widgets",
      "model_module_version": "~2.1.4",
      "model_name": "LayoutModel",
      "state": {
       "_model_module_version": "~2.1.4",
       "_view_module_version": "~2.1.4"
      }
     },
     "24260ed243d443528c458f59b2b01bbe": {
      "model_module": "jupyter-js-widgets",
      "model_module_version": "~2.1.4",
      "model_name": "LayoutModel",
      "state": {
       "_model_module_version": "~2.1.4",
       "_view_module_version": "~2.1.4",
       "display": "inline-flex",
       "flex_flow": "row wrap",
       "justify_content": "flex-start"
      }
     },
     "24b06fd53b374cf2bd2713308baa74cb": {
      "model_module": "jupyter-js-widgets",
      "model_module_version": "~2.1.4",
      "model_name": "LayoutModel",
      "state": {
       "_model_module_version": "~2.1.4",
       "_view_module_version": "~2.1.4"
      }
     },
     "25812efcce044aa1bc63f00caa2b2757": {
      "model_module": "jupyter-js-widgets",
      "model_module_version": "~2.1.4",
      "model_name": "FloatSliderModel",
      "state": {
       "_model_module_version": "~2.1.4",
       "_view_module_version": "~2.1.4",
       "description": "$v_x / v_c$",
       "layout": "IPY_MODEL_82d8ef000cf44068b351083fd42839da",
       "max": 2,
       "min": -2,
       "step": 0.01
      }
     },
     "25cc8a1b9ce44eeebab5d0f3b52054cb": {
      "model_module": "jupyter-js-widgets",
      "model_module_version": "~2.1.4",
      "model_name": "FloatSliderModel",
      "state": {
       "_model_module_version": "~2.1.4",
       "_view_module_version": "~2.1.4",
       "description": "$-v_y / v_c$",
       "layout": "IPY_MODEL_9966ec6798bb4167a937be54e59e5192",
       "max": 2,
       "min": -2,
       "step": 0.01,
       "value": 0.42
      }
     },
     "262dc26a53044c27adeac35a30112c21": {
      "model_module": "jupyter-js-widgets",
      "model_module_version": "~2.1.4",
      "model_name": "FloatSliderModel",
      "state": {
       "_model_module_version": "~2.1.4",
       "_view_module_version": "~2.1.4",
       "description": "$T$ / $1\\ year$",
       "layout": "IPY_MODEL_f2e30a7b4db540bb89ff44430e273f8a",
       "max": 5,
       "min": 0.1,
       "step": 0.01,
       "value": 1
      }
     },
     "266c3f90944c48e6bb2af50cdf6244de": {
      "model_module": "jupyter-js-widgets",
      "model_module_version": "~2.1.4",
      "model_name": "LayoutModel",
      "state": {
       "_model_module_version": "~2.1.4",
       "_view_module_version": "~2.1.4"
      }
     },
     "26ec2e1566cc4d8a9b672a13367ef6bb": {
      "model_module": "jupyter-js-widgets",
      "model_module_version": "~2.1.4",
      "model_name": "LayoutModel",
      "state": {
       "_model_module_version": "~2.1.4",
       "_view_module_version": "~2.1.4"
      }
     },
     "28750fa4735d4c0b83bdf501edb6b062": {
      "model_module": "jupyter-js-widgets",
      "model_module_version": "~2.1.4",
      "model_name": "FloatSliderModel",
      "state": {
       "_model_module_version": "~2.1.4",
       "_view_module_version": "~2.1.4",
       "description": "$f\\ \\left(dt = 10^f \\cdot r_0 / v\\right)$",
       "layout": "IPY_MODEL_657a587b4b604792a028cb5d97797553",
       "max": 2,
       "min": -3,
       "value": -2
      }
     },
     "29253c89b3c5423bb4921bdaa6a04d02": {
      "model_module": "jupyter-js-widgets",
      "model_module_version": "~2.1.4",
      "model_name": "FloatSliderModel",
      "state": {
       "_model_module_version": "~2.1.4",
       "_view_module_version": "~2.1.4",
       "description": "$v_x / v_c$",
       "layout": "IPY_MODEL_2a5b630e4b1845229c529850dc65b504",
       "max": 2,
       "min": -2,
       "step": 0.01
      }
     },
     "29461613518743ebac153548828033f7": {
      "model_module": "jupyter-js-widgets",
      "model_module_version": "~2.1.4",
      "model_name": "LayoutModel",
      "state": {
       "_model_module_version": "~2.1.4",
       "_view_module_version": "~2.1.4"
      }
     },
     "29623f3a34a443e5a95add58ef11564c": {
      "model_module": "jupyter-js-widgets",
      "model_module_version": "~2.1.4",
      "model_name": "FloatSliderModel",
      "state": {
       "_model_module_version": "~2.1.4",
       "_view_module_version": "~2.1.4",
       "description": "$-r_x / 1$ $AU$",
       "layout": "IPY_MODEL_79260389c4dc40b88e3145c057f8422b",
       "max": 2,
       "min": 0.1,
       "step": 0.01,
       "value": 1
      }
     },
     "2a5b630e4b1845229c529850dc65b504": {
      "model_module": "jupyter-js-widgets",
      "model_module_version": "~2.1.4",
      "model_name": "LayoutModel",
      "state": {
       "_model_module_version": "~2.1.4",
       "_view_module_version": "~2.1.4"
      }
     },
     "2a8ada88d8d9441fa49be1019c4d1543": {
      "model_module": "jupyter-js-widgets",
      "model_module_version": "~2.1.4",
      "model_name": "FloatSliderModel",
      "state": {
       "_model_module_version": "~2.1.4",
       "_view_module_version": "~2.1.4",
       "description": "$v_x / v_c$",
       "layout": "IPY_MODEL_ad785cc986694f49900981bae573a444",
       "max": 2,
       "min": -2,
       "step": 0.01,
       "value": 0.17
      }
     },
     "2b0d448681ed47ecab918df261857114": {
      "model_module": "jupyter-js-widgets",
      "model_module_version": "~2.1.4",
      "model_name": "LayoutModel",
      "state": {
       "_model_module_version": "~2.1.4",
       "_view_module_version": "~2.1.4"
      }
     },
     "2c2e683c3a36439188d07520a4891a15": {
      "model_module": "jupyter-js-widgets",
      "model_module_version": "~2.1.4",
      "model_name": "LayoutModel",
      "state": {
       "_model_module_version": "~2.1.4",
       "_view_module_version": "~2.1.4"
      }
     },
     "2d1e45ece4c04be3af7bc33dfb9af053": {
      "model_module": "jupyter-js-widgets",
      "model_module_version": "~2.1.4",
      "model_name": "FloatSliderModel",
      "state": {
       "_model_module_version": "~2.1.4",
       "_view_module_version": "~2.1.4",
       "description": "$T$ / $1\\ year$",
       "layout": "IPY_MODEL_1daf5cabb5b64a4fbd9f124e2f777541",
       "max": 5,
       "min": 0.1,
       "step": 0.01,
       "value": 1
      }
     },
     "2f47b13c3a004cc18c6612bc6b0914b0": {
      "model_module": "jupyter-js-widgets",
      "model_module_version": "~2.1.4",
      "model_name": "LayoutModel",
      "state": {
       "_model_module_version": "~2.1.4",
       "_view_module_version": "~2.1.4"
      }
     },
     "3007b351490d4327b331d1e50bbf3a83": {
      "model_module": "jupyter-js-widgets",
      "model_module_version": "~2.1.4",
      "model_name": "LayoutModel",
      "state": {
       "_model_module_version": "~2.1.4",
       "_view_module_version": "~2.1.4"
      }
     },
     "305db6948e3b4296afc7398aacff383b": {
      "model_module": "jupyter-js-widgets",
      "model_module_version": "~2.1.4",
      "model_name": "FloatSliderModel",
      "state": {
       "_model_module_version": "~2.1.4",
       "_view_module_version": "~2.1.4",
       "description": "$f\\ \\left(dt = 10^f \\cdot r_0 / v\\right)$",
       "layout": "IPY_MODEL_57fe69a6d23748f98ac5a10881c7c79a",
       "max": 2,
       "min": -3,
       "value": -2
      }
     },
     "30940b5f0b3c47219bba2af03bc53aa0": {
      "model_module": "jupyter-js-widgets",
      "model_module_version": "~2.1.4",
      "model_name": "FloatSliderModel",
      "state": {
       "_model_module_version": "~2.1.4",
       "_view_module_version": "~2.1.4",
       "description": "$f\\ \\left(dt = 10^f \\cdot r_0 / v\\right)$",
       "layout": "IPY_MODEL_6c3441a7a33c4ad88ca04ba0397ce8ee",
       "max": 2,
       "min": -3,
       "value": -1
      }
     },
     "30b5869a3d694205885351f508025b25": {
      "model_module": "jupyter-js-widgets",
      "model_module_version": "~2.1.4",
      "model_name": "FloatSliderModel",
      "state": {
       "_model_module_version": "~2.1.4",
       "_view_module_version": "~2.1.4",
       "description": "$-v_y / v_c$",
       "layout": "IPY_MODEL_c23d369b8e2e4fe581095a4b808131a8",
       "max": 2,
       "min": -2,
       "step": 0.01,
       "value": 1
      }
     },
     "30e6447851ef4129a7495b21111c4ee1": {
      "model_module": "jupyter-js-widgets",
      "model_module_version": "~2.1.4",
      "model_name": "FloatSliderModel",
      "state": {
       "_model_module_version": "~2.1.4",
       "_view_module_version": "~2.1.4",
       "description": "$v_x / v_c$",
       "layout": "IPY_MODEL_6cebdfee190d43938775d0b92d3596d2",
       "max": 2,
       "min": -2,
       "step": 0.01,
       "value": 0.37
      }
     },
     "311352910d6d437f835a977eff565606": {
      "model_module": "jupyter-js-widgets",
      "model_module_version": "~2.1.4",
      "model_name": "LayoutModel",
      "state": {
       "_model_module_version": "~2.1.4",
       "_view_module_version": "~2.1.4"
      }
     },
     "319a50a777fb46248e1720b0949595fa": {
      "model_module": "jupyter-js-widgets",
      "model_module_version": "~2.1.4",
      "model_name": "LayoutModel",
      "state": {
       "_model_module_version": "~2.1.4",
       "_view_module_version": "~2.1.4"
      }
     },
     "31e2960eb33a455b839e6cfc8cb7cb7b": {
      "model_module": "jupyter-js-widgets",
      "model_module_version": "~2.1.4",
      "model_name": "LayoutModel",
      "state": {
       "_model_module_version": "~2.1.4",
       "_view_module_version": "~2.1.4"
      }
     },
     "31ee87e394bc4fc79bcd301a536b401e": {
      "model_module": "jupyter-js-widgets",
      "model_module_version": "~2.1.4",
      "model_name": "OutputModel",
      "state": {
       "_dom_classes": [],
       "_model_module": "jupyter-js-widgets",
       "_model_module_version": "~2.1.4",
       "_view_module": "jupyter-js-widgets",
       "_view_module_version": "~2.1.4",
       "layout": "IPY_MODEL_87ce987b266e4a4fad11ea94d34680b7",
       "msg_throttle": 1
      }
     },
     "32ec856e1d59492d8689362925065176": {
      "model_module": "jupyter-js-widgets",
      "model_module_version": "~2.1.4",
      "model_name": "LayoutModel",
      "state": {
       "_model_module_version": "~2.1.4",
       "_view_module_version": "~2.1.4"
      }
     },
     "3335a919ca834806ad27e3debb612563": {
      "model_module": "jupyter-js-widgets",
      "model_module_version": "~2.1.4",
      "model_name": "LayoutModel",
      "state": {
       "_model_module_version": "~2.1.4",
       "_view_module_version": "~2.1.4"
      }
     },
     "3367b469aae94007868cf65a70f69f14": {
      "model_module": "jupyter-js-widgets",
      "model_module_version": "~2.1.4",
      "model_name": "LayoutModel",
      "state": {
       "_model_module_version": "~2.1.4",
       "_view_module_version": "~2.1.4",
       "display": "inline-flex",
       "flex_flow": "row wrap",
       "justify_content": "flex-start"
      }
     },
     "33689ff7de2b427296cbf70e1c1fff0c": {
      "model_module": "jupyter-js-widgets",
      "model_module_version": "~2.1.4",
      "model_name": "LayoutModel",
      "state": {
       "_model_module_version": "~2.1.4",
       "_view_module_version": "~2.1.4"
      }
     },
     "34418abdeb4c49cf8e8865629bcd048f": {
      "model_module": "jupyter-js-widgets",
      "model_module_version": "~2.1.4",
      "model_name": "LayoutModel",
      "state": {
       "_model_module_version": "~2.1.4",
       "_view_module_version": "~2.1.4"
      }
     },
     "34f6d1afe9e74c489556498d9226d9c3": {
      "model_module": "jupyter-js-widgets",
      "model_module_version": "~2.1.4",
      "model_name": "LayoutModel",
      "state": {
       "_model_module_version": "~2.1.4",
       "_view_module_version": "~2.1.4"
      }
     },
     "3514e7ebcbdd41548a26347766ecfe3f": {
      "model_module": "jupyter-js-widgets",
      "model_module_version": "~2.1.4",
      "model_name": "LayoutModel",
      "state": {
       "_model_module_version": "~2.1.4",
       "_view_module_version": "~2.1.4"
      }
     },
     "358ac6c02fb44dacac4b18aaf2ae077f": {
      "model_module": "jupyter-js-widgets",
      "model_module_version": "~2.1.4",
      "model_name": "VBoxModel",
      "state": {
       "_dom_classes": [
        "widget-interact"
       ],
       "_model_module_version": "~2.1.4",
       "_view_module_version": "~2.1.4",
       "children": [
        "IPY_MODEL_a54cfa61a54d4e7c83a8b604808cb601",
        "IPY_MODEL_30e6447851ef4129a7495b21111c4ee1",
        "IPY_MODEL_3e8c232743dc459a844947490de38a5a",
        "IPY_MODEL_688899a021be4ffeb7409e042320277d",
        "IPY_MODEL_60e6b6626852440b9768ad404054c655",
        "IPY_MODEL_f35b2e5a2df247eb8aaf8a730c93d2fb"
       ],
       "layout": "IPY_MODEL_d602147e6b754574ba6fa3deb5cc21f1"
      }
     },
     "359371894628439d92c18969901c9305": {
      "model_module": "jupyter-js-widgets",
      "model_module_version": "~2.1.4",
      "model_name": "VBoxModel",
      "state": {
       "_dom_classes": [
        "widget-interact"
       ],
       "_model_module_version": "~2.1.4",
       "_view_module_version": "~2.1.4",
       "children": [
        "IPY_MODEL_92a2c8dd4be448f1a40346012d6ca0a4",
        "IPY_MODEL_29253c89b3c5423bb4921bdaa6a04d02",
        "IPY_MODEL_6e045622100242ed9571bb9c47b999ed",
        "IPY_MODEL_09a233cabde54a07a6548b5767eb79d8",
        "IPY_MODEL_c8bf3ca0d47844829b2da5019077f475",
        "IPY_MODEL_04e0fe0c54f241a4824e137e78b8a2f7"
       ],
       "layout": "IPY_MODEL_c153e4f3bc5e48c9b17e46d6723f92bf"
      }
     },
     "36c605fbaa3b4228a4632c5bc949c98f": {
      "model_module": "jupyter-js-widgets",
      "model_module_version": "~2.1.4",
      "model_name": "LayoutModel",
      "state": {
       "_model_module_version": "~2.1.4",
       "_view_module_version": "~2.1.4"
      }
     },
     "370edc2f0a1449ac9c0eb2ac7cad2a79": {
      "model_module": "jupyter-js-widgets",
      "model_module_version": "~2.1.4",
      "model_name": "FloatSliderModel",
      "state": {
       "_model_module_version": "~2.1.4",
       "_view_module_version": "~2.1.4",
       "description": "$f\\ \\left(dt = 10^f \\cdot r_0 / v\\right)$",
       "layout": "IPY_MODEL_681f4570c24f40fab51fb4b1d55fca3b",
       "max": 2,
       "min": -3,
       "value": -2
      }
     },
     "379da2e42e8443559098ffdf3ab99378": {
      "model_module": "jupyter-js-widgets",
      "model_module_version": "~2.1.4",
      "model_name": "LayoutModel",
      "state": {
       "_model_module_version": "~2.1.4",
       "_view_module_version": "~2.1.4"
      }
     },
     "381a4dcb61e746e181fe841ae8916893": {
      "model_module": "jupyter-js-widgets",
      "model_module_version": "~2.1.4",
      "model_name": "LayoutModel",
      "state": {
       "_model_module_version": "~2.1.4",
       "_view_module_version": "~2.1.4"
      }
     },
     "381c3faaff404d399d0bd442966ff288": {
      "model_module": "jupyter-js-widgets",
      "model_module_version": "~2.1.4",
      "model_name": "LayoutModel",
      "state": {
       "_model_module_version": "~2.1.4",
       "_view_module_version": "~2.1.4"
      }
     },
     "3860bb6819db4791ba6fcb1dde286721": {
      "model_module": "jupyter-js-widgets",
      "model_module_version": "~2.1.4",
      "model_name": "FloatSliderModel",
      "state": {
       "_model_module_version": "~2.1.4",
       "_view_module_version": "~2.1.4",
       "description": "$-v_y / v_c$",
       "layout": "IPY_MODEL_379da2e42e8443559098ffdf3ab99378",
       "max": 2,
       "min": -2,
       "step": 0.01,
       "value": 1
      }
     },
     "3870588e339a4de2a05bad789b5ebde8": {
      "model_module": "jupyter-js-widgets",
      "model_module_version": "~2.1.4",
      "model_name": "VBoxModel",
      "state": {
       "_dom_classes": [
        "widget-interact"
       ],
       "_model_module_version": "~2.1.4",
       "_view_module_version": "~2.1.4",
       "children": [
        "IPY_MODEL_606a4728296c4ae5afc700a67acdb593",
        "IPY_MODEL_ba8b9d67e87f40668858fbd953a46259",
        "IPY_MODEL_a7c40abd5f03473a84da5d0e5b5b406d",
        "IPY_MODEL_0991457ba73345d5b121912013c2b468",
        "IPY_MODEL_521a8dd4b7124158b736a35490564dbf",
        "IPY_MODEL_102ae5e51e1e4f1f8164c6975d70d498"
       ],
       "layout": "IPY_MODEL_f3c8c97d66c34da7bfd125cd3b6bf63b"
      }
     },
     "38e66f1aa47e4821956127bdb6b74ae4": {
      "model_module": "jupyter-js-widgets",
      "model_module_version": "~2.1.4",
      "model_name": "OutputModel",
      "state": {
       "_dom_classes": [],
       "_model_module": "jupyter-js-widgets",
       "_model_module_version": "~2.1.4",
       "_view_module": "jupyter-js-widgets",
       "_view_module_version": "~2.1.4",
       "layout": "IPY_MODEL_19434c9479fc48339b954cbb64b70035",
       "msg_throttle": 1
      }
     },
     "38ea4fc825764f259c0502e67d193840": {
      "model_module": "jupyter-js-widgets",
      "model_module_version": "~2.1.4",
      "model_name": "OutputModel",
      "state": {
       "_dom_classes": [],
       "_model_module": "jupyter-js-widgets",
       "_model_module_version": "~2.1.4",
       "_view_module": "jupyter-js-widgets",
       "_view_module_version": "~2.1.4",
       "layout": "IPY_MODEL_90d829cd6d214e0bbfa2898d66063abe",
       "msg_throttle": 1
      }
     },
     "38fbee86f77348c997806c83199198c6": {
      "model_module": "jupyter-js-widgets",
      "model_module_version": "~2.1.4",
      "model_name": "OutputModel",
      "state": {
       "_dom_classes": [],
       "_model_module": "jupyter-js-widgets",
       "_model_module_version": "~2.1.4",
       "_view_module": "jupyter-js-widgets",
       "_view_module_version": "~2.1.4",
       "layout": "IPY_MODEL_a9c0aad0a91d4232bc4dadd10c4c8dc0",
       "msg_throttle": 1
      }
     },
     "38fe71493dab4f64b8bcf5eabaf086a4": {
      "model_module": "jupyter-js-widgets",
      "model_module_version": "~2.1.4",
      "model_name": "LayoutModel",
      "state": {
       "_model_module_version": "~2.1.4",
       "_view_module_version": "~2.1.4"
      }
     },
     "394c7a26a5d34d7d96dc338cbc0d06f6": {
      "model_module": "jupyter-js-widgets",
      "model_module_version": "~2.1.4",
      "model_name": "LayoutModel",
      "state": {
       "_model_module_version": "~2.1.4",
       "_view_module_version": "~2.1.4"
      }
     },
     "3950a553b433406db17db96993223832": {
      "model_module": "jupyter-js-widgets",
      "model_module_version": "~2.1.4",
      "model_name": "VBoxModel",
      "state": {
       "_dom_classes": [
        "widget-interact"
       ],
       "_model_module_version": "~2.1.4",
       "_view_module_version": "~2.1.4",
       "children": [
        "IPY_MODEL_a84bc5b143c54ac98fc871d0bb6253c0",
        "IPY_MODEL_68fc08c2f002493a8d0755f8b5b94668",
        "IPY_MODEL_ad4d5154a8ec42b2935af24882a8a664",
        "IPY_MODEL_e69e75379dbb47779993a5a07dc76a85",
        "IPY_MODEL_4ff1a3a427344c0baf4565ce0bc883af",
        "IPY_MODEL_d4292a9e70ea468ab8ed79ddbdf9b98d"
       ],
       "layout": "IPY_MODEL_c6e6b64f87fe4ac7b37bb8ee9c681ac1"
      }
     },
     "39c00e1123764133b0004d1da557f828": {
      "model_module": "jupyter-js-widgets",
      "model_module_version": "~2.1.4",
      "model_name": "FloatSliderModel",
      "state": {
       "_model_module_version": "~2.1.4",
       "_view_module_version": "~2.1.4",
       "description": "$T$ / $1\\ year$",
       "layout": "IPY_MODEL_6333c46f053345289b4a22191988e492",
       "max": 5,
       "min": 0.1,
       "step": 0.01,
       "value": 1
      }
     },
     "39c1855c7b6b49e3b5c0ca1ceb49b188": {
      "model_module": "jupyter-js-widgets",
      "model_module_version": "~2.1.4",
      "model_name": "LayoutModel",
      "state": {
       "_model_module_version": "~2.1.4",
       "_view_module_version": "~2.1.4"
      }
     },
     "3a1a1ae490394390a3a6426adc4338f9": {
      "model_module": "jupyter-js-widgets",
      "model_module_version": "~2.1.4",
      "model_name": "FloatSliderModel",
      "state": {
       "_model_module_version": "~2.1.4",
       "_view_module_version": "~2.1.4",
       "description": "$v_x / v_c$",
       "layout": "IPY_MODEL_3e66eeb5df7741b19bde737c9b1eae71",
       "max": 2,
       "min": -2,
       "step": 0.01
      }
     },
     "3a6df8d114bb402ebba07b34074f7a91": {
      "model_module": "jupyter-js-widgets",
      "model_module_version": "~2.1.4",
      "model_name": "OutputModel",
      "state": {
       "_dom_classes": [],
       "_model_module": "jupyter-js-widgets",
       "_model_module_version": "~2.1.4",
       "_view_module": "jupyter-js-widgets",
       "_view_module_version": "~2.1.4",
       "layout": "IPY_MODEL_947a6798247046df8540e2195c7ec50e",
       "msg_throttle": 1
      }
     },
     "3b2ea62fbf9343bf8b2c819bbdcd1f88": {
      "model_module": "jupyter-js-widgets",
      "model_module_version": "~2.1.4",
      "model_name": "FloatSliderModel",
      "state": {
       "_model_module_version": "~2.1.4",
       "_view_module_version": "~2.1.4",
       "description": "$-v_y / v_c$",
       "layout": "IPY_MODEL_140932a9569b4fe3b798aa68567db87f",
       "max": 2,
       "min": -2,
       "step": 0.01,
       "value": -0.38
      }
     },
     "3b372500ca4145bb8fdae627a856cb83": {
      "model_module": "jupyter-js-widgets",
      "model_module_version": "~2.1.4",
      "model_name": "FloatSliderModel",
      "state": {
       "_model_module_version": "~2.1.4",
       "_view_module_version": "~2.1.4",
       "description": "$f\\ \\left(dt = 10^f \\cdot r_0 / v\\right)$",
       "layout": "IPY_MODEL_19aab5aca54c4f079b13bb183499fbff",
       "max": 2,
       "min": -3,
       "value": -2
      }
     },
     "3c0c64614cd74ba8a5354793f26c4e66": {
      "model_module": "jupyter-js-widgets",
      "model_module_version": "~2.1.4",
      "model_name": "VBoxModel",
      "state": {
       "_dom_classes": [
        "widget-interact"
       ],
       "_model_module_version": "~2.1.4",
       "_view_module_version": "~2.1.4",
       "children": [
        "IPY_MODEL_f096066103ee4de9b0140e73a85e0bae",
        "IPY_MODEL_5a5b8786e7164c25a4fbcc2a244ebd9d",
        "IPY_MODEL_c8a68cce9b904b648451e6b486eed6b7",
        "IPY_MODEL_2d1e45ece4c04be3af7bc33dfb9af053",
        "IPY_MODEL_305db6948e3b4296afc7398aacff383b",
        "IPY_MODEL_d2984839c46f4c81b0f1682bcb18c946"
       ],
       "layout": "IPY_MODEL_0e1b0c13cd9d4fa3994517c1e8a25452"
      }
     },
     "3c16a7544691473fbedb46828cd09282": {
      "model_module": "jupyter-js-widgets",
      "model_module_version": "~2.1.4",
      "model_name": "LayoutModel",
      "state": {
       "_model_module_version": "~2.1.4",
       "_view_module_version": "~2.1.4"
      }
     },
     "3d01f2dddd1049ba86475e4f3e75c1ff": {
      "model_module": "jupyter-js-widgets",
      "model_module_version": "~2.1.4",
      "model_name": "OutputModel",
      "state": {
       "_dom_classes": [],
       "_model_module": "jupyter-js-widgets",
       "_model_module_version": "~2.1.4",
       "_view_module": "jupyter-js-widgets",
       "_view_module_version": "~2.1.4",
       "layout": "IPY_MODEL_a18285931b9d4b94a5844581f54871e3",
       "msg_throttle": 1
      }
     },
     "3db7da391cbc4e3dbbb36e2ec5ea80fe": {
      "model_module": "jupyter-js-widgets",
      "model_module_version": "~2.1.4",
      "model_name": "LayoutModel",
      "state": {
       "_model_module_version": "~2.1.4",
       "_view_module_version": "~2.1.4",
       "display": "inline-flex",
       "flex_flow": "row wrap",
       "justify_content": "flex-start"
      }
     },
     "3e3920aee77e40128fed6f8efca9414b": {
      "model_module": "jupyter-js-widgets",
      "model_module_version": "~2.1.4",
      "model_name": "LayoutModel",
      "state": {
       "_model_module_version": "~2.1.4",
       "_view_module_version": "~2.1.4"
      }
     },
     "3e66eeb5df7741b19bde737c9b1eae71": {
      "model_module": "jupyter-js-widgets",
      "model_module_version": "~2.1.4",
      "model_name": "LayoutModel",
      "state": {
       "_model_module_version": "~2.1.4",
       "_view_module_version": "~2.1.4"
      }
     },
     "3e8c232743dc459a844947490de38a5a": {
      "model_module": "jupyter-js-widgets",
      "model_module_version": "~2.1.4",
      "model_name": "FloatSliderModel",
      "state": {
       "_model_module_version": "~2.1.4",
       "_view_module_version": "~2.1.4",
       "description": "$-v_y / v_c$",
       "layout": "IPY_MODEL_b9d2112f40b04d5e83453bda595673fa",
       "max": 2,
       "min": -2,
       "step": 0.01,
       "value": 1
      }
     },
     "3ed8e3fdba244c28968ab9db56196156": {
      "model_module": "jupyter-js-widgets",
      "model_module_version": "~2.1.4",
      "model_name": "FloatSliderModel",
      "state": {
       "_model_module_version": "~2.1.4",
       "_view_module_version": "~2.1.4",
       "description": "$-r_x / 1$ $AU$",
       "layout": "IPY_MODEL_42f395c07067485385467fb3f0c46865",
       "max": 2,
       "min": 0.1,
       "step": 0.01,
       "value": 1
      }
     },
     "3f04a6cfaed44b57a71d377ac7f58af5": {
      "model_module": "jupyter-js-widgets",
      "model_module_version": "~2.1.4",
      "model_name": "LayoutModel",
      "state": {
       "_model_module_version": "~2.1.4",
       "_view_module_version": "~2.1.4"
      }
     },
     "411af46441164bbd8c0f9801a507d7fb": {
      "model_module": "jupyter-js-widgets",
      "model_module_version": "~2.1.4",
      "model_name": "LayoutModel",
      "state": {
       "_model_module_version": "~2.1.4",
       "_view_module_version": "~2.1.4"
      }
     },
     "416894707293454eab8284915fa9771c": {
      "model_module": "jupyter-js-widgets",
      "model_module_version": "~2.1.4",
      "model_name": "FloatSliderModel",
      "state": {
       "_model_module_version": "~2.1.4",
       "_view_module_version": "~2.1.4",
       "description": "$f\\ \\left(dt = 10^f \\cdot r_0 / v\\right)$",
       "layout": "IPY_MODEL_47a7be8535cb4c0b9e1c6f81de45e6e3",
       "max": 2,
       "min": -3,
       "value": -2
      }
     },
     "41bd0e78108c432285a55ba3ed73fcd6": {
      "model_module": "jupyter-js-widgets",
      "model_module_version": "~2.1.4",
      "model_name": "FloatSliderModel",
      "state": {
       "_model_module_version": "~2.1.4",
       "_view_module_version": "~2.1.4",
       "description": "$-r_x / 1$ $AU$",
       "layout": "IPY_MODEL_e8a7a63a1494442e8240a69f7f8da322",
       "max": 2,
       "min": 0.1,
       "step": 0.01,
       "value": 1
      }
     },
     "4234c14040a34bf7b89239311817c494": {
      "model_module": "jupyter-js-widgets",
      "model_module_version": "~2.1.4",
      "model_name": "VBoxModel",
      "state": {
       "_dom_classes": [
        "widget-interact"
       ],
       "_model_module_version": "~2.1.4",
       "_view_module_version": "~2.1.4",
       "children": [
        "IPY_MODEL_1882a60d84304271aee6be5bfcfead7f",
        "IPY_MODEL_f7df60d9ddfa4829b2f8a46e18c698e6",
        "IPY_MODEL_773d219d9a7b49dab91017886d9b60ef",
        "IPY_MODEL_62dec5f6a1bf4cb9aa01af8bb7cb1e30",
        "IPY_MODEL_4937d0ee52504622addc310817dbf797",
        "IPY_MODEL_3d01f2dddd1049ba86475e4f3e75c1ff"
       ],
       "layout": "IPY_MODEL_122fdd93f3074fb2888803a78b8246e8"
      }
     },
     "42f395c07067485385467fb3f0c46865": {
      "model_module": "jupyter-js-widgets",
      "model_module_version": "~2.1.4",
      "model_name": "LayoutModel",
      "state": {
       "_model_module_version": "~2.1.4",
       "_view_module_version": "~2.1.4"
      }
     },
     "4373c4673f7c43bf906d870bb624ab38": {
      "model_module": "jupyter-js-widgets",
      "model_module_version": "~2.1.4",
      "model_name": "LayoutModel",
      "state": {
       "_model_module_version": "~2.1.4",
       "_view_module_version": "~2.1.4"
      }
     },
     "43a71598e7444426b03e6561da9fef0a": {
      "model_module": "jupyter-js-widgets",
      "model_module_version": "~2.1.4",
      "model_name": "LayoutModel",
      "state": {
       "_model_module_version": "~2.1.4",
       "_view_module_version": "~2.1.4"
      }
     },
     "45d1911a9e2b40a2a92e1ac533bff31b": {
      "model_module": "jupyter-js-widgets",
      "model_module_version": "~2.1.4",
      "model_name": "FloatSliderModel",
      "state": {
       "_model_module_version": "~2.1.4",
       "_view_module_version": "~2.1.4",
       "description": "$-r_x / 1$ $AU$",
       "layout": "IPY_MODEL_eb1f3dcf0c5c4fca96c2e80ca791398a",
       "max": 2,
       "min": 0.1,
       "step": 0.01,
       "value": 1
      }
     },
     "45fe4e18864e43c3a9ef4c6d004dfa65": {
      "model_module": "jupyter-js-widgets",
      "model_module_version": "~2.1.4",
      "model_name": "VBoxModel",
      "state": {
       "_dom_classes": [
        "widget-interact"
       ],
       "_model_module_version": "~2.1.4",
       "_view_module_version": "~2.1.4",
       "children": [
        "IPY_MODEL_d04072ca8ee243af84d943fe71d22b11",
        "IPY_MODEL_6458381c021f40a1bb31d70c20aaf486",
        "IPY_MODEL_58af958a300948f8864c2ed7dc72cbce",
        "IPY_MODEL_09001ad688084d8b85b7ea80edbd0e56",
        "IPY_MODEL_0a1f7ed9335948a3a8548f653fde58b5",
        "IPY_MODEL_31ee87e394bc4fc79bcd301a536b401e"
       ],
       "layout": "IPY_MODEL_3367b469aae94007868cf65a70f69f14"
      }
     },
     "465ebf43e40a463fb34a45b2dd0eb3f7": {
      "model_module": "jupyter-js-widgets",
      "model_module_version": "~2.1.4",
      "model_name": "LayoutModel",
      "state": {
       "_model_module_version": "~2.1.4",
       "_view_module_version": "~2.1.4"
      }
     },
     "46c15434cc514cb190d6be1f6547c5f3": {
      "model_module": "jupyter-js-widgets",
      "model_module_version": "~2.1.4",
      "model_name": "FloatSliderModel",
      "state": {
       "_model_module_version": "~2.1.4",
       "_view_module_version": "~2.1.4",
       "description": "$-r_x / 1$ $AU$",
       "layout": "IPY_MODEL_a83793ae63d9416c824f9920ff64e3c0",
       "max": 2,
       "min": 0.1,
       "step": 0.01,
       "value": 1
      }
     },
     "47742c1363cb4aaab33b950f8e0068fe": {
      "model_module": "jupyter-js-widgets",
      "model_module_version": "~2.1.4",
      "model_name": "LayoutModel",
      "state": {
       "_model_module_version": "~2.1.4",
       "_view_module_version": "~2.1.4"
      }
     },
     "47a7be8535cb4c0b9e1c6f81de45e6e3": {
      "model_module": "jupyter-js-widgets",
      "model_module_version": "~2.1.4",
      "model_name": "LayoutModel",
      "state": {
       "_model_module_version": "~2.1.4",
       "_view_module_version": "~2.1.4"
      }
     },
     "48e9ab2857a6407fbb4069181f2e5881": {
      "model_module": "jupyter-js-widgets",
      "model_module_version": "~2.1.4",
      "model_name": "FloatSliderModel",
      "state": {
       "_model_module_version": "~2.1.4",
       "_view_module_version": "~2.1.4",
       "description": "$f\\ \\left(dt = 10^f \\cdot r_0 / v\\right)$",
       "layout": "IPY_MODEL_95cd0c8557f842b5a7023de1a9d8fad2",
       "max": 2,
       "min": -3,
       "value": -2
      }
     },
     "4937d0ee52504622addc310817dbf797": {
      "model_module": "jupyter-js-widgets",
      "model_module_version": "~2.1.4",
      "model_name": "FloatSliderModel",
      "state": {
       "_model_module_version": "~2.1.4",
       "_view_module_version": "~2.1.4",
       "description": "$f\\ \\left(dt = 10^f \\cdot r_0 / v\\right)$",
       "layout": "IPY_MODEL_32ec856e1d59492d8689362925065176",
       "max": 2,
       "min": -3,
       "value": -2
      }
     },
     "494f6a9e47aa4f52ab9b3628c9d9fa4c": {
      "model_module": "jupyter-js-widgets",
      "model_module_version": "~2.1.4",
      "model_name": "FloatSliderModel",
      "state": {
       "_model_module_version": "~2.1.4",
       "_view_module_version": "~2.1.4",
       "description": "$-r_x / 1$ $AU$",
       "layout": "IPY_MODEL_bda13c2fd3454f32be363f552664e33a",
       "max": 2,
       "min": 0.1,
       "step": 0.01,
       "value": 0.87
      }
     },
     "49548f2da53842899838a2013ef4d19c": {
      "model_module": "jupyter-js-widgets",
      "model_module_version": "~2.1.4",
      "model_name": "LayoutModel",
      "state": {
       "_model_module_version": "~2.1.4",
       "_view_module_version": "~2.1.4"
      }
     },
     "4acba0aac026438c99e44c7a9820ca1c": {
      "model_module": "jupyter-js-widgets",
      "model_module_version": "~2.1.4",
      "model_name": "FloatSliderModel",
      "state": {
       "_model_module_version": "~2.1.4",
       "_view_module_version": "~2.1.4",
       "description": "$v_x / v_c$",
       "layout": "IPY_MODEL_fdf9ad677594461ea3a181a331243989",
       "max": 2,
       "min": -2,
       "step": 0.01
      }
     },
     "4b4621ccb0b1485ebb652612cd739781": {
      "model_module": "jupyter-js-widgets",
      "model_module_version": "~2.1.4",
      "model_name": "VBoxModel",
      "state": {
       "_dom_classes": [
        "widget-interact"
       ],
       "_model_module_version": "~2.1.4",
       "_view_module_version": "~2.1.4",
       "children": [
        "IPY_MODEL_6ecdea35559841eeaf5f252ca6868f6c",
        "IPY_MODEL_5652320332ef46f79cf340430a7f84c7",
        "IPY_MODEL_f9036a1a10544f418178e1413d606508",
        "IPY_MODEL_e559af30748e488fa9a82f3ae02a059a",
        "IPY_MODEL_d5d5ca51f46e4482b668c3f78d6378d1",
        "IPY_MODEL_b378c75b25754862aad459c1802702b8"
       ],
       "layout": "IPY_MODEL_cb680920a0a44a9e849dc9bf3385e084"
      }
     },
     "4b65ac5f4e8a4cb5966b7a11436311ca": {
      "model_module": "jupyter-js-widgets",
      "model_module_version": "~2.1.4",
      "model_name": "FloatSliderModel",
      "state": {
       "_model_module_version": "~2.1.4",
       "_view_module_version": "~2.1.4",
       "description": "$-v_y / v_c$",
       "layout": "IPY_MODEL_c7251307491f4e738a64f8e95bcae47d",
       "max": 2,
       "min": -2,
       "step": 0.01,
       "value": 1
      }
     },
     "4b683c460fca495ab52a017cd87fd05f": {
      "model_module": "jupyter-js-widgets",
      "model_module_version": "~2.1.4",
      "model_name": "FloatSliderModel",
      "state": {
       "_model_module_version": "~2.1.4",
       "_view_module_version": "~2.1.4",
       "description": "$-v_y / v_c$",
       "layout": "IPY_MODEL_9d3e77fb240e4d65ae0962589e378b12",
       "max": 2,
       "min": -2,
       "step": 0.01,
       "value": 1
      }
     },
     "4c921c45d7cb4a02a03686e16834a415": {
      "model_module": "jupyter-js-widgets",
      "model_module_version": "~2.1.4",
      "model_name": "VBoxModel",
      "state": {
       "_dom_classes": [
        "widget-interact"
       ],
       "_model_module_version": "~2.1.4",
       "_view_module_version": "~2.1.4",
       "children": [
        "IPY_MODEL_46c15434cc514cb190d6be1f6547c5f3",
        "IPY_MODEL_8c320c0755a347c6b24421eb7f2e968b",
        "IPY_MODEL_eb33841437fe4c679c6a68fe2782a1e1",
        "IPY_MODEL_86726aeb2e5542cfbd0dad6372a6ee63",
        "IPY_MODEL_e98c0d2cec354647af939868e91bc190",
        "IPY_MODEL_6182a04fea7b440fad2594e580c29444"
       ],
       "layout": "IPY_MODEL_8cd10a8c9b944df38aa5f8d16326f631"
      }
     },
     "4cc69bf32ec4492c810fd4588835ac39": {
      "model_module": "jupyter-js-widgets",
      "model_module_version": "~2.1.4",
      "model_name": "LayoutModel",
      "state": {
       "_model_module_version": "~2.1.4",
       "_view_module_version": "~2.1.4"
      }
     },
     "4dffa57aeb7348ffa7ef315fe9fc631b": {
      "model_module": "jupyter-js-widgets",
      "model_module_version": "~2.1.4",
      "model_name": "LayoutModel",
      "state": {
       "_model_module_version": "~2.1.4",
       "_view_module_version": "~2.1.4",
       "display": "inline-flex",
       "flex_flow": "row wrap",
       "justify_content": "flex-start"
      }
     },
     "4e530c59aaec441ba118485327ad548c": {
      "model_module": "jupyter-js-widgets",
      "model_module_version": "~2.1.4",
      "model_name": "FloatSliderModel",
      "state": {
       "_model_module_version": "~2.1.4",
       "_view_module_version": "~2.1.4",
       "description": "$-v_y / v_c$",
       "layout": "IPY_MODEL_411af46441164bbd8c0f9801a507d7fb",
       "max": 2,
       "min": -2,
       "step": 0.01,
       "value": 0.97
      }
     },
     "4edf3237821842aa9bac78ab0c57ae51": {
      "model_module": "jupyter-js-widgets",
      "model_module_version": "~2.1.4",
      "model_name": "FloatSliderModel",
      "state": {
       "_model_module_version": "~2.1.4",
       "_view_module_version": "~2.1.4",
       "description": "$-v_y / v_c$",
       "layout": "IPY_MODEL_381a4dcb61e746e181fe841ae8916893",
       "max": 2,
       "min": -2,
       "step": 0.01,
       "value": 1.03
      }
     },
     "4fc60063f0254485af67b66946b25bab": {
      "model_module": "jupyter-js-widgets",
      "model_module_version": "~2.1.4",
      "model_name": "FloatSliderModel",
      "state": {
       "_model_module_version": "~2.1.4",
       "_view_module_version": "~2.1.4",
       "description": "$v_x / v_c$",
       "layout": "IPY_MODEL_a50222c105354c84b870f34449aa6364",
       "max": 2,
       "min": -2,
       "step": 0.01,
       "value": 0.29
      }
     },
     "4ff1a3a427344c0baf4565ce0bc883af": {
      "model_module": "jupyter-js-widgets",
      "model_module_version": "~2.1.4",
      "model_name": "FloatSliderModel",
      "state": {
       "_model_module_version": "~2.1.4",
       "_view_module_version": "~2.1.4",
       "description": "$f\\ \\left(dt = 10^f \\cdot r_0 / v\\right)$",
       "layout": "IPY_MODEL_7c3b4221f6d64ce5bd81bcb4bf653d78",
       "max": 2,
       "min": -3
      }
     },
     "50334d40b9da436fb679892660d6bc1f": {
      "model_module": "jupyter-js-widgets",
      "model_module_version": "~2.1.4",
      "model_name": "VBoxModel",
      "state": {
       "_dom_classes": [
        "widget-interact"
       ],
       "_model_module_version": "~2.1.4",
       "_view_module_version": "~2.1.4",
       "children": [
        "IPY_MODEL_85e711ee7c7c4a9c8feb9d011068129b",
        "IPY_MODEL_4acba0aac026438c99e44c7a9820ca1c",
        "IPY_MODEL_3860bb6819db4791ba6fcb1dde286721",
        "IPY_MODEL_8aec087e849446d98455ad39a9a50a1e",
        "IPY_MODEL_950cd3b210d9464a84af3cdeeb724fc2",
        "IPY_MODEL_f853a2e0756c4319a2bd5383981c6bed"
       ],
       "layout": "IPY_MODEL_01995ccd8d2e47e4a9ed9160e49d1a71"
      }
     },
     "50a6d533ca534e9ba810fe7b95e7680e": {
      "model_module": "jupyter-js-widgets",
      "model_module_version": "~2.1.4",
      "model_name": "FloatSliderModel",
      "state": {
       "_model_module_version": "~2.1.4",
       "_view_module_version": "~2.1.4",
       "description": "$f\\ \\left(dt = 10^f \\cdot x_0 / v\\right)$",
       "layout": "IPY_MODEL_7c696291136d48c6ad3c44d7147c92ac",
       "max": 2,
       "min": -3,
       "value": -2
      }
     },
     "513af6753ada44c387c2f24220039924": {
      "model_module": "jupyter-js-widgets",
      "model_module_version": "~2.1.4",
      "model_name": "FloatSliderModel",
      "state": {
       "_model_module_version": "~2.1.4",
       "_view_module_version": "~2.1.4",
       "description": "$-r_x / 1$ $AU$",
       "layout": "IPY_MODEL_207cea7524fa464898010bf54576ae97",
       "max": 2,
       "min": 0.1,
       "step": 0.01,
       "value": 1
      }
     },
     "51ea436f2beb4b97a1ea2b865be2bdce": {
      "model_module": "jupyter-js-widgets",
      "model_module_version": "~2.1.4",
      "model_name": "LayoutModel",
      "state": {
       "_model_module_version": "~2.1.4",
       "_view_module_version": "~2.1.4"
      }
     },
     "521a8dd4b7124158b736a35490564dbf": {
      "model_module": "jupyter-js-widgets",
      "model_module_version": "~2.1.4",
      "model_name": "FloatSliderModel",
      "state": {
       "_model_module_version": "~2.1.4",
       "_view_module_version": "~2.1.4",
       "description": "$f\\ \\left(dt = 10^f \\cdot x_0 / v\\right)$",
       "layout": "IPY_MODEL_fa87c2447b5c4d71aaeb1a53e7b75e0f",
       "max": 2,
       "min": -3,
       "value": -1
      }
     },
     "52866efed1c94f6e9bf92c3cbe62a51f": {
      "model_module": "jupyter-js-widgets",
      "model_module_version": "~2.1.4",
      "model_name": "LayoutModel",
      "state": {
       "_model_module_version": "~2.1.4",
       "_view_module_version": "~2.1.4"
      }
     },
     "52eab43b5a9f4378ad2b632535e0cda4": {
      "model_module": "jupyter-js-widgets",
      "model_module_version": "~2.1.4",
      "model_name": "LayoutModel",
      "state": {
       "_model_module_version": "~2.1.4",
       "_view_module_version": "~2.1.4"
      }
     },
     "5335ae0aee834ac68fd7b071352b6256": {
      "model_module": "jupyter-js-widgets",
      "model_module_version": "~2.1.4",
      "model_name": "FloatSliderModel",
      "state": {
       "_model_module_version": "~2.1.4",
       "_view_module_version": "~2.1.4",
       "description": "$T$ / $1\\ year$",
       "layout": "IPY_MODEL_e001da65749c4df68ede83586a809498",
       "max": 5,
       "min": 0.1,
       "step": 0.01,
       "value": 1
      }
     },
     "540e3362a46248fc843a246d6a386161": {
      "model_module": "jupyter-js-widgets",
      "model_module_version": "~2.1.4",
      "model_name": "LayoutModel",
      "state": {
       "_model_module_version": "~2.1.4",
       "_view_module_version": "~2.1.4"
      }
     },
     "55ccd611ab084bbd8d9cb11211d42b3a": {
      "model_module": "jupyter-js-widgets",
      "model_module_version": "~2.1.4",
      "model_name": "LayoutModel",
      "state": {
       "_model_module_version": "~2.1.4",
       "_view_module_version": "~2.1.4"
      }
     },
     "5652320332ef46f79cf340430a7f84c7": {
      "model_module": "jupyter-js-widgets",
      "model_module_version": "~2.1.4",
      "model_name": "FloatSliderModel",
      "state": {
       "_model_module_version": "~2.1.4",
       "_view_module_version": "~2.1.4",
       "description": "$v_x / v_c$",
       "layout": "IPY_MODEL_5d9ebeb655ed46928b0d0456e0a7f34a",
       "max": 2,
       "min": -2,
       "step": 0.01
      }
     },
     "566c66dd322c463d94452526c603aa1a": {
      "model_module": "jupyter-js-widgets",
      "model_module_version": "~2.1.4",
      "model_name": "LayoutModel",
      "state": {
       "_model_module_version": "~2.1.4",
       "_view_module_version": "~2.1.4"
      }
     },
     "56d4e7c156f443e7acc1a0631def0167": {
      "model_module": "jupyter-js-widgets",
      "model_module_version": "~2.1.4",
      "model_name": "LayoutModel",
      "state": {
       "_model_module_version": "~2.1.4",
       "_view_module_version": "~2.1.4"
      }
     },
     "5737b901c5604dcfbef822f8c723d736": {
      "model_module": "jupyter-js-widgets",
      "model_module_version": "~2.1.4",
      "model_name": "LayoutModel",
      "state": {
       "_model_module_version": "~2.1.4",
       "_view_module_version": "~2.1.4"
      }
     },
     "57ce37a04cf844beaebfa23f51a6b682": {
      "model_module": "jupyter-js-widgets",
      "model_module_version": "~2.1.4",
      "model_name": "FloatSliderModel",
      "state": {
       "_model_module_version": "~2.1.4",
       "_view_module_version": "~2.1.4",
       "description": "$v_x / v_c$",
       "layout": "IPY_MODEL_f1040412c84f4f299678b48c79a0ce30",
       "max": 2,
       "min": -2,
       "step": 0.01,
       "value": 0.42
      }
     },
     "57fe69a6d23748f98ac5a10881c7c79a": {
      "model_module": "jupyter-js-widgets",
      "model_module_version": "~2.1.4",
      "model_name": "LayoutModel",
      "state": {
       "_model_module_version": "~2.1.4",
       "_view_module_version": "~2.1.4"
      }
     },
     "5830ca6f2c954604a4a8e36e54ad6de7": {
      "model_module": "jupyter-js-widgets",
      "model_module_version": "~2.1.4",
      "model_name": "FloatSliderModel",
      "state": {
       "_model_module_version": "~2.1.4",
       "_view_module_version": "~2.1.4",
       "description": "$v_x / v_c$",
       "layout": "IPY_MODEL_b8b6623c556b4bc29316395838c8f964",
       "max": 2,
       "min": -2,
       "step": 0.01
      }
     },
     "5847f6baff1849c3a7a22761340520f9": {
      "model_module": "jupyter-js-widgets",
      "model_module_version": "~2.1.4",
      "model_name": "LayoutModel",
      "state": {
       "_model_module_version": "~2.1.4",
       "_view_module_version": "~2.1.4"
      }
     },
     "58af958a300948f8864c2ed7dc72cbce": {
      "model_module": "jupyter-js-widgets",
      "model_module_version": "~2.1.4",
      "model_name": "FloatSliderModel",
      "state": {
       "_model_module_version": "~2.1.4",
       "_view_module_version": "~2.1.4",
       "description": "$-v_y / v_c$",
       "layout": "IPY_MODEL_7e8887085ce841d183e371b769ea85d4",
       "max": 2,
       "min": -2,
       "step": 0.01,
       "value": 1
      }
     },
     "58fcfda40df048638ffef6f7ee8ca160": {
      "model_module": "jupyter-js-widgets",
      "model_module_version": "~2.1.4",
      "model_name": "LayoutModel",
      "state": {
       "_model_module_version": "~2.1.4",
       "_view_module_version": "~2.1.4"
      }
     },
     "59ef189b04fc45c49a636e136a120008": {
      "model_module": "jupyter-js-widgets",
      "model_module_version": "~2.1.4",
      "model_name": "FloatSliderModel",
      "state": {
       "_model_module_version": "~2.1.4",
       "_view_module_version": "~2.1.4",
       "description": "$v_x / v_c$",
       "layout": "IPY_MODEL_d14559d2deb64a4eb1621236df932f57",
       "max": 2,
       "min": -2,
       "step": 0.01,
       "value": 0.22
      }
     },
     "5a5b8786e7164c25a4fbcc2a244ebd9d": {
      "model_module": "jupyter-js-widgets",
      "model_module_version": "~2.1.4",
      "model_name": "FloatSliderModel",
      "state": {
       "_model_module_version": "~2.1.4",
       "_view_module_version": "~2.1.4",
       "description": "$v_x / v_c$",
       "layout": "IPY_MODEL_d2f8aa49bb124ef199541c1ebaf4b584",
       "max": 2,
       "min": -2,
       "step": 0.01,
       "value": 0.36
      }
     },
     "5a72032d044747c3bdcc4f78c505102c": {
      "model_module": "jupyter-js-widgets",
      "model_module_version": "~2.1.4",
      "model_name": "FloatSliderModel",
      "state": {
       "_model_module_version": "~2.1.4",
       "_view_module_version": "~2.1.4",
       "description": "$-v_y / v_c$",
       "layout": "IPY_MODEL_3c16a7544691473fbedb46828cd09282",
       "max": 2,
       "min": -2,
       "step": 0.01,
       "value": 1
      }
     },
     "5a87971c4402453dac1d007ae6bdf2c9": {
      "model_module": "jupyter-js-widgets",
      "model_module_version": "~2.1.4",
      "model_name": "FloatSliderModel",
      "state": {
       "_model_module_version": "~2.1.4",
       "_view_module_version": "~2.1.4",
       "description": "$T$ / $1\\ year$",
       "layout": "IPY_MODEL_8f3f678f3d094658a84bd5c5c71b5f53",
       "max": 5,
       "min": 0.1,
       "step": 0.01,
       "value": 1
      }
     },
     "5c8c4eb0ebf84185b111df94d2cdebf1": {
      "model_module": "jupyter-js-widgets",
      "model_module_version": "~2.1.4",
      "model_name": "LayoutModel",
      "state": {
       "_model_module_version": "~2.1.4",
       "_view_module_version": "~2.1.4"
      }
     },
     "5d9ebeb655ed46928b0d0456e0a7f34a": {
      "model_module": "jupyter-js-widgets",
      "model_module_version": "~2.1.4",
      "model_name": "LayoutModel",
      "state": {
       "_model_module_version": "~2.1.4",
       "_view_module_version": "~2.1.4"
      }
     },
     "5df743e0dfe948b78d1595c319f342d2": {
      "model_module": "jupyter-js-widgets",
      "model_module_version": "~2.1.4",
      "model_name": "VBoxModel",
      "state": {
       "_dom_classes": [
        "widget-interact"
       ],
       "_model_module_version": "~2.1.4",
       "_view_module_version": "~2.1.4",
       "children": [
        "IPY_MODEL_01915560a13a45f8905ba6fa28bf5fd7",
        "IPY_MODEL_efffe583b33342b6a928ed9d1e408124",
        "IPY_MODEL_e9a09c17abb34f2393c3c0f6cc9b9de3",
        "IPY_MODEL_feba41dea2a34c5bbfaa7a9771791534",
        "IPY_MODEL_e2acd18c07b447c7b68da1f4951772f5",
        "IPY_MODEL_38fbee86f77348c997806c83199198c6"
       ],
       "layout": "IPY_MODEL_e592daeb6bc34d4cae7f4f4b6b353777"
      }
     },
     "5e28489ff9af49b7a1cefbad222434ec": {
      "model_module": "jupyter-js-widgets",
      "model_module_version": "~2.1.4",
      "model_name": "LayoutModel",
      "state": {
       "_model_module_version": "~2.1.4",
       "_view_module_version": "~2.1.4"
      }
     },
     "5e40d840ffc64472b548eca6919b8eee": {
      "model_module": "jupyter-js-widgets",
      "model_module_version": "~2.1.4",
      "model_name": "LayoutModel",
      "state": {
       "_model_module_version": "~2.1.4",
       "_view_module_version": "~2.1.4"
      }
     },
     "5e5adabc287042a8b7f07b2fc565b154": {
      "model_module": "jupyter-js-widgets",
      "model_module_version": "~2.1.4",
      "model_name": "FloatSliderModel",
      "state": {
       "_model_module_version": "~2.1.4",
       "_view_module_version": "~2.1.4",
       "description": "$T$ / $1\\ year$",
       "layout": "IPY_MODEL_2b0d448681ed47ecab918df261857114",
       "max": 5,
       "min": 0.1,
       "step": 0.01,
       "value": 1
      }
     },
     "5efd5af4854b4130830db47520dc74c3": {
      "model_module": "jupyter-js-widgets",
      "model_module_version": "~2.1.4",
      "model_name": "FloatSliderModel",
      "state": {
       "_model_module_version": "~2.1.4",
       "_view_module_version": "~2.1.4",
       "description": "$f\\ \\left(dt = 10^f \\cdot r_0 / v\\right)$",
       "layout": "IPY_MODEL_bb13d3895fdf49e79e44b394f4fada4d",
       "max": 2,
       "min": -3,
       "value": -2
      }
     },
     "5f9c987f131e4088ab62382441e79875": {
      "model_module": "jupyter-js-widgets",
      "model_module_version": "~2.1.4",
      "model_name": "FloatSliderModel",
      "state": {
       "_model_module_version": "~2.1.4",
       "_view_module_version": "~2.1.4",
       "description": "$-r_x / 1$ $AU$",
       "layout": "IPY_MODEL_05843fdaca1f4eaeace9c299d462d27b",
       "max": 2,
       "min": 0.1,
       "step": 0.01,
       "value": 1
      }
     },
     "60124596f93f4aaf89b7a045b46a8d09": {
      "model_module": "jupyter-js-widgets",
      "model_module_version": "~2.1.4",
      "model_name": "FloatSliderModel",
      "state": {
       "_model_module_version": "~2.1.4",
       "_view_module_version": "~2.1.4",
       "description": "$f\\ \\left(dt = 10^f \\cdot r_0 / v\\right)$",
       "layout": "IPY_MODEL_dac0c1e00fa542e989d7985d50b5dc70",
       "max": 2,
       "min": -3,
       "value": -2
      }
     },
     "601cd926926344e19dc4ab7e4d5fdb02": {
      "model_module": "jupyter-js-widgets",
      "model_module_version": "~2.1.4",
      "model_name": "LayoutModel",
      "state": {
       "_model_module_version": "~2.1.4",
       "_view_module_version": "~2.1.4"
      }
     },
     "606a4728296c4ae5afc700a67acdb593": {
      "model_module": "jupyter-js-widgets",
      "model_module_version": "~2.1.4",
      "model_name": "FloatSliderModel",
      "state": {
       "_model_module_version": "~2.1.4",
       "_view_module_version": "~2.1.4",
       "description": "$-r_x / 1$ $AU$",
       "layout": "IPY_MODEL_0d330abbde1e42e7bf758100cb2d559b",
       "max": 2,
       "min": 0.1,
       "step": 0.01,
       "value": 1
      }
     },
     "609702ad83944d76b25c822a3999469a": {
      "model_module": "jupyter-js-widgets",
      "model_module_version": "~2.1.4",
      "model_name": "LayoutModel",
      "state": {
       "_model_module_version": "~2.1.4",
       "_view_module_version": "~2.1.4"
      }
     },
     "60cb4a60825e4e7ba1ef531d13a3716b": {
      "model_module": "jupyter-js-widgets",
      "model_module_version": "~2.1.4",
      "model_name": "FloatSliderModel",
      "state": {
       "_model_module_version": "~2.1.4",
       "_view_module_version": "~2.1.4",
       "description": "$v_x / v_c$",
       "layout": "IPY_MODEL_9657dc6294cd4a1f8673cebcce434573",
       "max": 2,
       "min": -2,
       "step": 0.01
      }
     },
     "60e6b6626852440b9768ad404054c655": {
      "model_module": "jupyter-js-widgets",
      "model_module_version": "~2.1.4",
      "model_name": "FloatSliderModel",
      "state": {
       "_model_module_version": "~2.1.4",
       "_view_module_version": "~2.1.4",
       "description": "$f\\ \\left(dt = 10^f \\cdot r_0 / v\\right)$",
       "layout": "IPY_MODEL_5c8c4eb0ebf84185b111df94d2cdebf1",
       "max": 2,
       "min": -3,
       "value": -2
      }
     },
     "61419cbfa92e469eac6d0175f6832089": {
      "model_module": "jupyter-js-widgets",
      "model_module_version": "~2.1.4",
      "model_name": "LayoutModel",
      "state": {
       "_model_module_version": "~2.1.4",
       "_view_module_version": "~2.1.4"
      }
     },
     "61463b1996cd40ca8b1dfff32813b26b": {
      "model_module": "jupyter-js-widgets",
      "model_module_version": "~2.1.4",
      "model_name": "LayoutModel",
      "state": {
       "_model_module_version": "~2.1.4",
       "_view_module_version": "~2.1.4"
      }
     },
     "616689ff296643a6a868f99e200b56c1": {
      "model_module": "jupyter-js-widgets",
      "model_module_version": "~2.1.4",
      "model_name": "LayoutModel",
      "state": {
       "_model_module_version": "~2.1.4",
       "_view_module_version": "~2.1.4"
      }
     },
     "6167427b9b5d4a948cf31740eb3a138e": {
      "model_module": "jupyter-js-widgets",
      "model_module_version": "~2.1.4",
      "model_name": "FloatSliderModel",
      "state": {
       "_model_module_version": "~2.1.4",
       "_view_module_version": "~2.1.4",
       "description": "$-r_x / 1$ $AU$",
       "layout": "IPY_MODEL_d64a9fe7a44640af896aac5b7e5bf1a8",
       "max": 2,
       "min": 0.1,
       "step": 0.01,
       "value": 1.65
      }
     },
     "6182a04fea7b440fad2594e580c29444": {
      "model_module": "jupyter-js-widgets",
      "model_module_version": "~2.1.4",
      "model_name": "OutputModel",
      "state": {
       "_dom_classes": [],
       "_model_module": "jupyter-js-widgets",
       "_model_module_version": "~2.1.4",
       "_view_module": "jupyter-js-widgets",
       "_view_module_version": "~2.1.4",
       "layout": "IPY_MODEL_9d135f9ec72d40c7a78bec012e6f30b7",
       "msg_throttle": 1
      }
     },
     "61c7473bb70e451a9897f6a70a4a39ed": {
      "model_module": "jupyter-js-widgets",
      "model_module_version": "~2.1.4",
      "model_name": "FloatSliderModel",
      "state": {
       "_model_module_version": "~2.1.4",
       "_view_module_version": "~2.1.4",
       "description": "$v_x / v_c$",
       "layout": "IPY_MODEL_120cc2e997c644a9ae5841bc91a6a594",
       "max": 2,
       "min": -2,
       "step": 0.01,
       "value": 0.62
      }
     },
     "61f0a78fe27341f8a87ee5593f814e58": {
      "model_module": "jupyter-js-widgets",
      "model_module_version": "~2.1.4",
      "model_name": "LayoutModel",
      "state": {
       "_model_module_version": "~2.1.4",
       "_view_module_version": "~2.1.4"
      }
     },
     "6247f90217fa4ed4bc36589467cc5400": {
      "model_module": "jupyter-js-widgets",
      "model_module_version": "~2.1.4",
      "model_name": "LayoutModel",
      "state": {
       "_model_module_version": "~2.1.4",
       "_view_module_version": "~2.1.4"
      }
     },
     "62dec5f6a1bf4cb9aa01af8bb7cb1e30": {
      "model_module": "jupyter-js-widgets",
      "model_module_version": "~2.1.4",
      "model_name": "FloatSliderModel",
      "state": {
       "_model_module_version": "~2.1.4",
       "_view_module_version": "~2.1.4",
       "description": "$T$ / $1\\ year$",
       "layout": "IPY_MODEL_8c02f318d9254355b77daf4ed8eef997",
       "max": 5,
       "min": 0.1,
       "step": 0.01,
       "value": 1
      }
     },
     "630789b00b3a4332912bc96a79d553e7": {
      "model_module": "jupyter-js-widgets",
      "model_module_version": "~2.1.4",
      "model_name": "LayoutModel",
      "state": {
       "_model_module_version": "~2.1.4",
       "_view_module_version": "~2.1.4"
      }
     },
     "6333c46f053345289b4a22191988e492": {
      "model_module": "jupyter-js-widgets",
      "model_module_version": "~2.1.4",
      "model_name": "LayoutModel",
      "state": {
       "_model_module_version": "~2.1.4",
       "_view_module_version": "~2.1.4"
      }
     },
     "63ed6f6f8a4d43ba99b545ac33412530": {
      "model_module": "jupyter-js-widgets",
      "model_module_version": "~2.1.4",
      "model_name": "LayoutModel",
      "state": {
       "_model_module_version": "~2.1.4",
       "_view_module_version": "~2.1.4"
      }
     },
     "6414e51e15e2459b8a33c29c7245ef32": {
      "model_module": "jupyter-js-widgets",
      "model_module_version": "~2.1.4",
      "model_name": "LayoutModel",
      "state": {
       "_model_module_version": "~2.1.4",
       "_view_module_version": "~2.1.4",
       "display": "inline-flex",
       "flex_flow": "row wrap",
       "justify_content": "flex-start"
      }
     },
     "6458381c021f40a1bb31d70c20aaf486": {
      "model_module": "jupyter-js-widgets",
      "model_module_version": "~2.1.4",
      "model_name": "FloatSliderModel",
      "state": {
       "_model_module_version": "~2.1.4",
       "_view_module_version": "~2.1.4",
       "description": "$v_x / v_c$",
       "layout": "IPY_MODEL_8171b7cd896443fea856f889919b908a",
       "max": 2,
       "min": -2,
       "step": 0.01,
       "value": 0.43
      }
     },
     "64b48ec6901042dbb4c4cb3799588ebf": {
      "model_module": "jupyter-js-widgets",
      "model_module_version": "~2.1.4",
      "model_name": "OutputModel",
      "state": {
       "_dom_classes": [],
       "_model_module": "jupyter-js-widgets",
       "_model_module_version": "~2.1.4",
       "_view_module": "jupyter-js-widgets",
       "_view_module_version": "~2.1.4",
       "layout": "IPY_MODEL_630789b00b3a4332912bc96a79d553e7",
       "msg_throttle": 1
      }
     },
     "657a587b4b604792a028cb5d97797553": {
      "model_module": "jupyter-js-widgets",
      "model_module_version": "~2.1.4",
      "model_name": "LayoutModel",
      "state": {
       "_model_module_version": "~2.1.4",
       "_view_module_version": "~2.1.4"
      }
     },
     "6592d08f5834408bafcf71b0e44bba73": {
      "model_module": "jupyter-js-widgets",
      "model_module_version": "~2.1.4",
      "model_name": "LayoutModel",
      "state": {
       "_model_module_version": "~2.1.4",
       "_view_module_version": "~2.1.4"
      }
     },
     "6599ee1ddf224561adc7cd25ec637312": {
      "model_module": "jupyter-js-widgets",
      "model_module_version": "~2.1.4",
      "model_name": "LayoutModel",
      "state": {
       "_model_module_version": "~2.1.4",
       "_view_module_version": "~2.1.4"
      }
     },
     "66947ed58b3446fe81a5838e5e6209c7": {
      "model_module": "jupyter-js-widgets",
      "model_module_version": "~2.1.4",
      "model_name": "LayoutModel",
      "state": {
       "_model_module_version": "~2.1.4",
       "_view_module_version": "~2.1.4"
      }
     },
     "66b0770ac90945518059bdd6f608229d": {
      "model_module": "jupyter-js-widgets",
      "model_module_version": "~2.1.4",
      "model_name": "LayoutModel",
      "state": {
       "_model_module_version": "~2.1.4",
       "_view_module_version": "~2.1.4",
       "display": "inline-flex",
       "flex_flow": "row wrap",
       "justify_content": "flex-start"
      }
     },
     "681f4570c24f40fab51fb4b1d55fca3b": {
      "model_module": "jupyter-js-widgets",
      "model_module_version": "~2.1.4",
      "model_name": "LayoutModel",
      "state": {
       "_model_module_version": "~2.1.4",
       "_view_module_version": "~2.1.4"
      }
     },
     "685e511092594a31917fa639225032ab": {
      "model_module": "jupyter-js-widgets",
      "model_module_version": "~2.1.4",
      "model_name": "OutputModel",
      "state": {
       "_dom_classes": [],
       "_model_module": "jupyter-js-widgets",
       "_model_module_version": "~2.1.4",
       "_view_module": "jupyter-js-widgets",
       "_view_module_version": "~2.1.4",
       "layout": "IPY_MODEL_7a6dd1ae7c1c415691a3e3f5587c3512",
       "msg_throttle": 1
      }
     },
     "688899a021be4ffeb7409e042320277d": {
      "model_module": "jupyter-js-widgets",
      "model_module_version": "~2.1.4",
      "model_name": "FloatSliderModel",
      "state": {
       "_model_module_version": "~2.1.4",
       "_view_module_version": "~2.1.4",
       "description": "$T$ / $1\\ year$",
       "layout": "IPY_MODEL_cd3abe6b33cc4295a6511723c208416f",
       "max": 5,
       "min": 0.1,
       "step": 0.01,
       "value": 1
      }
     },
     "68eada21dc464db8ba8de6acbd23fa3a": {
      "model_module": "jupyter-js-widgets",
      "model_module_version": "~2.1.4",
      "model_name": "VBoxModel",
      "state": {
       "_dom_classes": [
        "widget-interact"
       ],
       "_model_module_version": "~2.1.4",
       "_view_module_version": "~2.1.4",
       "children": [
        "IPY_MODEL_90ec152c0c604b15a01cedf390e72ba3",
        "IPY_MODEL_fe3039e7f9ac42a481ec4fd1a7fb5979",
        "IPY_MODEL_feec0057f9b2410ab5d775a7a420012d",
        "IPY_MODEL_262dc26a53044c27adeac35a30112c21",
        "IPY_MODEL_30940b5f0b3c47219bba2af03bc53aa0",
        "IPY_MODEL_685e511092594a31917fa639225032ab"
       ],
       "layout": "IPY_MODEL_d5f8e78c5a1742a38ff03406b830d0a4"
      }
     },
     "68fc08c2f002493a8d0755f8b5b94668": {
      "model_module": "jupyter-js-widgets",
      "model_module_version": "~2.1.4",
      "model_name": "FloatSliderModel",
      "state": {
       "_model_module_version": "~2.1.4",
       "_view_module_version": "~2.1.4",
       "description": "$v_x / v_c$",
       "layout": "IPY_MODEL_fb3e030f77ae45c098277494ed825b3d",
       "max": 2,
       "min": -2,
       "step": 0.01,
       "value": 0.32
      }
     },
     "698c38027017413b833f91f7d1a83b19": {
      "model_module": "jupyter-js-widgets",
      "model_module_version": "~2.1.4",
      "model_name": "LayoutModel",
      "state": {
       "_model_module_version": "~2.1.4",
       "_view_module_version": "~2.1.4"
      }
     },
     "69cd7a71ab994d9490174b8b85f1fd4d": {
      "model_module": "jupyter-js-widgets",
      "model_module_version": "~2.1.4",
      "model_name": "VBoxModel",
      "state": {
       "_dom_classes": [
        "widget-interact"
       ],
       "_model_module_version": "~2.1.4",
       "_view_module_version": "~2.1.4",
       "children": [
        "IPY_MODEL_6167427b9b5d4a948cf31740eb3a138e",
        "IPY_MODEL_2a8ada88d8d9441fa49be1019c4d1543",
        "IPY_MODEL_3b2ea62fbf9343bf8b2c819bbdcd1f88",
        "IPY_MODEL_c58f67b849c44a94a80c490c048d9825",
        "IPY_MODEL_9fe38584174f4125a47b5ad3afb224f9",
        "IPY_MODEL_a35e07a82a3b4e66a1b4ebda813a26e2"
       ],
       "layout": "IPY_MODEL_a39e59583f1f4f99b134c51ac9535407"
      }
     },
     "6acd7d81c0804d20bc17ab3f3a678591": {
      "model_module": "jupyter-js-widgets",
      "model_module_version": "~2.1.4",
      "model_name": "FloatSliderModel",
      "state": {
       "_model_module_version": "~2.1.4",
       "_view_module_version": "~2.1.4",
       "description": "$T$ / $1\\ year$",
       "layout": "IPY_MODEL_ce6e8783c502459e9b62c6d810b496b8",
       "max": 5,
       "min": 0.1,
       "step": 0.01,
       "value": 1
      }
     },
     "6b6559b07f294f1eb774d0ae77256748": {
      "model_module": "jupyter-js-widgets",
      "model_module_version": "~2.1.4",
      "model_name": "LayoutModel",
      "state": {
       "_model_module_version": "~2.1.4",
       "_view_module_version": "~2.1.4"
      }
     },
     "6bd786f4f6704a9c98f0dede99c4ae13": {
      "model_module": "jupyter-js-widgets",
      "model_module_version": "~2.1.4",
      "model_name": "LayoutModel",
      "state": {
       "_model_module_version": "~2.1.4",
       "_view_module_version": "~2.1.4"
      }
     },
     "6beeec4d6f7346d8862f9f30437823bd": {
      "model_module": "jupyter-js-widgets",
      "model_module_version": "~2.1.4",
      "model_name": "LayoutModel",
      "state": {
       "_model_module_version": "~2.1.4",
       "_view_module_version": "~2.1.4"
      }
     },
     "6c3441a7a33c4ad88ca04ba0397ce8ee": {
      "model_module": "jupyter-js-widgets",
      "model_module_version": "~2.1.4",
      "model_name": "LayoutModel",
      "state": {
       "_model_module_version": "~2.1.4",
       "_view_module_version": "~2.1.4"
      }
     },
     "6cebdfee190d43938775d0b92d3596d2": {
      "model_module": "jupyter-js-widgets",
      "model_module_version": "~2.1.4",
      "model_name": "LayoutModel",
      "state": {
       "_model_module_version": "~2.1.4",
       "_view_module_version": "~2.1.4"
      }
     },
     "6db425857df84d87baa43c002e33edbf": {
      "model_module": "jupyter-js-widgets",
      "model_module_version": "~2.1.4",
      "model_name": "FloatSliderModel",
      "state": {
       "_model_module_version": "~2.1.4",
       "_view_module_version": "~2.1.4",
       "description": "$T$ / $1\\ year$",
       "layout": "IPY_MODEL_1b3f9d2b6d784d759b412f6934be0d1e",
       "max": 5,
       "min": 0.1,
       "step": 0.01,
       "value": 1
      }
     },
     "6dd40f79afee4850ba8ccd84c1920bba": {
      "model_module": "jupyter-js-widgets",
      "model_module_version": "~2.1.4",
      "model_name": "FloatSliderModel",
      "state": {
       "_model_module_version": "~2.1.4",
       "_view_module_version": "~2.1.4",
       "description": "$T$ / $1\\ year$",
       "layout": "IPY_MODEL_c5e651b3b5cd4bfb8774a595a06d8330",
       "max": 5,
       "min": 0.1,
       "step": 0.01,
       "value": 1
      }
     },
     "6dedc1c2791f4f429142f7946e0c2a74": {
      "model_module": "jupyter-js-widgets",
      "model_module_version": "~2.1.4",
      "model_name": "OutputModel",
      "state": {
       "_dom_classes": [],
       "_model_module": "jupyter-js-widgets",
       "_model_module_version": "~2.1.4",
       "_view_module": "jupyter-js-widgets",
       "_view_module_version": "~2.1.4",
       "layout": "IPY_MODEL_13e15a0862184eba8a25acb8968033c5",
       "msg_throttle": 1
      }
     },
     "6e045622100242ed9571bb9c47b999ed": {
      "model_module": "jupyter-js-widgets",
      "model_module_version": "~2.1.4",
      "model_name": "FloatSliderModel",
      "state": {
       "_model_module_version": "~2.1.4",
       "_view_module_version": "~2.1.4",
       "description": "$-v_y / v_c$",
       "layout": "IPY_MODEL_c268aa5dd48a463faa06672fb3e49491",
       "max": 2,
       "min": -2,
       "step": 0.01,
       "value": 1
      }
     },
     "6ecdea35559841eeaf5f252ca6868f6c": {
      "model_module": "jupyter-js-widgets",
      "model_module_version": "~2.1.4",
      "model_name": "FloatSliderModel",
      "state": {
       "_model_module_version": "~2.1.4",
       "_view_module_version": "~2.1.4",
       "description": "$-r_x / 1$ $AU$",
       "layout": "IPY_MODEL_00fdfd1ddaf444209fd10102541e9961",
       "max": 2,
       "min": 0.1,
       "step": 0.01,
       "value": 1
      }
     },
     "6f08443b8d5d4041b2eda825fd47b1a1": {
      "model_module": "jupyter-js-widgets",
      "model_module_version": "~2.1.4",
      "model_name": "LayoutModel",
      "state": {
       "_model_module_version": "~2.1.4",
       "_view_module_version": "~2.1.4"
      }
     },
     "6fc1ac66015f47ee80fdd82dd0acf0e8": {
      "model_module": "jupyter-js-widgets",
      "model_module_version": "~2.1.4",
      "model_name": "LayoutModel",
      "state": {
       "_model_module_version": "~2.1.4",
       "_view_module_version": "~2.1.4"
      }
     },
     "704be43d39b54f5185ba44544f2c291d": {
      "model_module": "jupyter-js-widgets",
      "model_module_version": "~2.1.4",
      "model_name": "OutputModel",
      "state": {
       "_dom_classes": [],
       "_model_module": "jupyter-js-widgets",
       "_model_module_version": "~2.1.4",
       "_view_module": "jupyter-js-widgets",
       "_view_module_version": "~2.1.4",
       "layout": "IPY_MODEL_31e2960eb33a455b839e6cfc8cb7cb7b",
       "msg_throttle": 1
      }
     },
     "7149b9de3039462486151351133db59c": {
      "model_module": "jupyter-js-widgets",
      "model_module_version": "~2.1.4",
      "model_name": "LayoutModel",
      "state": {
       "_model_module_version": "~2.1.4",
       "_view_module_version": "~2.1.4"
      }
     },
     "71fc51dedf054970af61e766fc6fa71b": {
      "model_module": "jupyter-js-widgets",
      "model_module_version": "~2.1.4",
      "model_name": "FloatSliderModel",
      "state": {
       "_model_module_version": "~2.1.4",
       "_view_module_version": "~2.1.4",
       "description": "$f\\ \\left(dt = 10^f \\cdot x_0 / v\\right)$",
       "layout": "IPY_MODEL_f58e8236d52a4a019ececfad35c45d55",
       "max": 2,
       "min": -3,
       "value": -2
      }
     },
     "724a73121a364c2e8b0d2276f05e4e8e": {
      "model_module": "jupyter-js-widgets",
      "model_module_version": "~2.1.4",
      "model_name": "OutputModel",
      "state": {
       "_dom_classes": [],
       "_model_module": "jupyter-js-widgets",
       "_model_module_version": "~2.1.4",
       "_view_module": "jupyter-js-widgets",
       "_view_module_version": "~2.1.4",
       "layout": "IPY_MODEL_fc97adc281b94c64b6463d022615f5ef",
       "msg_throttle": 1
      }
     },
     "7328d6cf9b5046d6bce3ebfa57ae114f": {
      "model_module": "jupyter-js-widgets",
      "model_module_version": "~2.1.4",
      "model_name": "VBoxModel",
      "state": {
       "_dom_classes": [
        "widget-interact"
       ],
       "_model_module_version": "~2.1.4",
       "_view_module_version": "~2.1.4",
       "children": [
        "IPY_MODEL_05d065bc6fc44e809119bce984c84728",
        "IPY_MODEL_d87eda43e7954d039a5321b3062a7f09",
        "IPY_MODEL_5a72032d044747c3bdcc4f78c505102c",
        "IPY_MODEL_6db425857df84d87baa43c002e33edbf",
        "IPY_MODEL_416894707293454eab8284915fa9771c",
        "IPY_MODEL_09a64ef04c41443ea09732b326232b8f"
       ],
       "layout": "IPY_MODEL_3db7da391cbc4e3dbbb36e2ec5ea80fe"
      }
     },
     "73b0f970f29a4b2f800fa000586b754d": {
      "model_module": "jupyter-js-widgets",
      "model_module_version": "~2.1.4",
      "model_name": "LayoutModel",
      "state": {
       "_model_module_version": "~2.1.4",
       "_view_module_version": "~2.1.4"
      }
     },
     "74a380a61f134ebc9d16768ea859ae38": {
      "model_module": "jupyter-js-widgets",
      "model_module_version": "~2.1.4",
      "model_name": "LayoutModel",
      "state": {
       "_model_module_version": "~2.1.4",
       "_view_module_version": "~2.1.4",
       "display": "inline-flex",
       "flex_flow": "row wrap",
       "justify_content": "flex-start"
      }
     },
     "7548959e10c04de191b468b2db1b0759": {
      "model_module": "jupyter-js-widgets",
      "model_module_version": "~2.1.4",
      "model_name": "FloatSliderModel",
      "state": {
       "_model_module_version": "~2.1.4",
       "_view_module_version": "~2.1.4",
       "description": "$f\\ \\left(dt = 10^f \\cdot r_0 / v\\right)$",
       "layout": "IPY_MODEL_20568285163148e6965fa4ff3be45012",
       "max": 2,
       "min": -3,
       "value": -2
      }
     },
     "757b570e33bd4324b3497f10d9488355": {
      "model_module": "jupyter-js-widgets",
      "model_module_version": "~2.1.4",
      "model_name": "LayoutModel",
      "state": {
       "_model_module_version": "~2.1.4",
       "_view_module_version": "~2.1.4"
      }
     },
     "75d72b6bfe184bb38083811dc2c41239": {
      "model_module": "jupyter-js-widgets",
      "model_module_version": "~2.1.4",
      "model_name": "LayoutModel",
      "state": {
       "_model_module_version": "~2.1.4",
       "_view_module_version": "~2.1.4"
      }
     },
     "75f5152926da466da33d7a2a50477793": {
      "model_module": "jupyter-js-widgets",
      "model_module_version": "~2.1.4",
      "model_name": "LayoutModel",
      "state": {
       "_model_module_version": "~2.1.4",
       "_view_module_version": "~2.1.4"
      }
     },
     "76174eaddf7c4588997d2b04e57de490": {
      "model_module": "jupyter-js-widgets",
      "model_module_version": "~2.1.4",
      "model_name": "LayoutModel",
      "state": {
       "_model_module_version": "~2.1.4",
       "_view_module_version": "~2.1.4"
      }
     },
     "76634647b7334fc8b57601fb759263d0": {
      "model_module": "jupyter-js-widgets",
      "model_module_version": "~2.1.4",
      "model_name": "LayoutModel",
      "state": {
       "_model_module_version": "~2.1.4",
       "_view_module_version": "~2.1.4"
      }
     },
     "76718267f63848b8ac939c9a465857c0": {
      "model_module": "jupyter-js-widgets",
      "model_module_version": "~2.1.4",
      "model_name": "FloatSliderModel",
      "state": {
       "_model_module_version": "~2.1.4",
       "_view_module_version": "~2.1.4",
       "description": "$-v_y / v_c$",
       "layout": "IPY_MODEL_f90376a44371492992c93cfb05db5dd3",
       "max": 2,
       "min": -2,
       "step": 0.01,
       "value": 1
      }
     },
     "773d219d9a7b49dab91017886d9b60ef": {
      "model_module": "jupyter-js-widgets",
      "model_module_version": "~2.1.4",
      "model_name": "FloatSliderModel",
      "state": {
       "_model_module_version": "~2.1.4",
       "_view_module_version": "~2.1.4",
       "description": "$-v_y / v_c$",
       "layout": "IPY_MODEL_26ec2e1566cc4d8a9b672a13367ef6bb",
       "max": 2,
       "min": -2,
       "step": 0.01,
       "value": 1
      }
     },
     "77659305bfed42079908814c63b24bac": {
      "model_module": "jupyter-js-widgets",
      "model_module_version": "~2.1.4",
      "model_name": "FloatSliderModel",
      "state": {
       "_model_module_version": "~2.1.4",
       "_view_module_version": "~2.1.4",
       "description": "$-v_y / v_c$",
       "layout": "IPY_MODEL_a0981997d78d4a05949569e1aee4453a",
       "max": 2,
       "min": -2,
       "step": 0.01,
       "value": 1
      }
     },
     "77ba3ed95b644160af18bba46c9d6501": {
      "model_module": "jupyter-js-widgets",
      "model_module_version": "~2.1.4",
      "model_name": "LayoutModel",
      "state": {
       "_model_module_version": "~2.1.4",
       "_view_module_version": "~2.1.4"
      }
     },
     "77c7e417bfbb4d4194fac15576fbfad9": {
      "model_module": "jupyter-js-widgets",
      "model_module_version": "~2.1.4",
      "model_name": "LayoutModel",
      "state": {
       "_model_module_version": "~2.1.4",
       "_view_module_version": "~2.1.4"
      }
     },
     "78e89b17428641899dc5e1d218c967ff": {
      "model_module": "jupyter-js-widgets",
      "model_module_version": "~2.1.4",
      "model_name": "LayoutModel",
      "state": {
       "_model_module_version": "~2.1.4",
       "_view_module_version": "~2.1.4"
      }
     },
     "79260389c4dc40b88e3145c057f8422b": {
      "model_module": "jupyter-js-widgets",
      "model_module_version": "~2.1.4",
      "model_name": "LayoutModel",
      "state": {
       "_model_module_version": "~2.1.4",
       "_view_module_version": "~2.1.4"
      }
     },
     "795cfc0f288244f88352a48df10f6ee6": {
      "model_module": "jupyter-js-widgets",
      "model_module_version": "~2.1.4",
      "model_name": "LayoutModel",
      "state": {
       "_model_module_version": "~2.1.4",
       "_view_module_version": "~2.1.4"
      }
     },
     "798499895a494c7fb88c700a9da2d1e2": {
      "model_module": "jupyter-js-widgets",
      "model_module_version": "~2.1.4",
      "model_name": "LayoutModel",
      "state": {
       "_model_module_version": "~2.1.4",
       "_view_module_version": "~2.1.4",
       "display": "inline-flex",
       "flex_flow": "row wrap",
       "justify_content": "flex-start"
      }
     },
     "7998486ee1b742d09cf84bf37232f7c0": {
      "model_module": "jupyter-js-widgets",
      "model_module_version": "~2.1.4",
      "model_name": "FloatSliderModel",
      "state": {
       "_model_module_version": "~2.1.4",
       "_view_module_version": "~2.1.4",
       "description": "$f\\ \\left(dt = 10^f \\cdot r_0 / v\\right)$",
       "layout": "IPY_MODEL_7f10e3742db94227b4790b4d5975d0e4",
       "max": 2,
       "min": -3,
       "value": -2
      }
     },
     "7a6dd1ae7c1c415691a3e3f5587c3512": {
      "model_module": "jupyter-js-widgets",
      "model_module_version": "~2.1.4",
      "model_name": "LayoutModel",
      "state": {
       "_model_module_version": "~2.1.4",
       "_view_module_version": "~2.1.4"
      }
     },
     "7b5d0e30bd2c4d729951084106315fa7": {
      "model_module": "jupyter-js-widgets",
      "model_module_version": "~2.1.4",
      "model_name": "LayoutModel",
      "state": {
       "_model_module_version": "~2.1.4",
       "_view_module_version": "~2.1.4"
      }
     },
     "7b696d0b042f497584a3c7f97dfd5445": {
      "model_module": "jupyter-js-widgets",
      "model_module_version": "~2.1.4",
      "model_name": "FloatSliderModel",
      "state": {
       "_model_module_version": "~2.1.4",
       "_view_module_version": "~2.1.4",
       "description": "$f\\ \\left(dt = 10^f \\cdot r_0 / v\\right)$",
       "layout": "IPY_MODEL_be4fb56df6ef4cb4acfd7681afa2bf30",
       "max": 2,
       "min": -3,
       "value": -2
      }
     },
     "7c3b4221f6d64ce5bd81bcb4bf653d78": {
      "model_module": "jupyter-js-widgets",
      "model_module_version": "~2.1.4",
      "model_name": "LayoutModel",
      "state": {
       "_model_module_version": "~2.1.4",
       "_view_module_version": "~2.1.4"
      }
     },
     "7c6151c84ca640f1ac730a5dd2ec3e64": {
      "model_module": "jupyter-js-widgets",
      "model_module_version": "~2.1.4",
      "model_name": "VBoxModel",
      "state": {
       "_dom_classes": [
        "widget-interact"
       ],
       "_model_module_version": "~2.1.4",
       "_view_module_version": "~2.1.4",
       "children": [
        "IPY_MODEL_aef82d52c3d4415290740e9b28746950",
        "IPY_MODEL_84de4251fb924f98ab7b26cd8a5182ed",
        "IPY_MODEL_13e38dcd971e4d62846a576641df5521",
        "IPY_MODEL_c1cf1298919c4650b34fe6c1484cc470",
        "IPY_MODEL_f75be5578e4c4adb98d374dacc1f1233",
        "IPY_MODEL_9a4b18b8b87b465292b24aa8dbfa340b"
       ],
       "layout": "IPY_MODEL_d8ff755fe1a54be082cd5004aab67a85"
      }
     },
     "7c696291136d48c6ad3c44d7147c92ac": {
      "model_module": "jupyter-js-widgets",
      "model_module_version": "~2.1.4",
      "model_name": "LayoutModel",
      "state": {
       "_model_module_version": "~2.1.4",
       "_view_module_version": "~2.1.4"
      }
     },
     "7d8a001e75a640aebfd629b1f813a38c": {
      "model_module": "jupyter-js-widgets",
      "model_module_version": "~2.1.4",
      "model_name": "FloatSliderModel",
      "state": {
       "_model_module_version": "~2.1.4",
       "_view_module_version": "~2.1.4",
       "description": "$v_x / v_c$",
       "layout": "IPY_MODEL_6beeec4d6f7346d8862f9f30437823bd",
       "max": 2,
       "min": -2,
       "step": 0.01,
       "value": 0.12
      }
     },
     "7e64c86de0494a1c999de08ded19ee6b": {
      "model_module": "jupyter-js-widgets",
      "model_module_version": "~2.1.4",
      "model_name": "LayoutModel",
      "state": {
       "_model_module_version": "~2.1.4",
       "_view_module_version": "~2.1.4"
      }
     },
     "7e8887085ce841d183e371b769ea85d4": {
      "model_module": "jupyter-js-widgets",
      "model_module_version": "~2.1.4",
      "model_name": "LayoutModel",
      "state": {
       "_model_module_version": "~2.1.4",
       "_view_module_version": "~2.1.4"
      }
     },
     "7eaa4f71ffb3440780ea0822e218f55a": {
      "model_module": "jupyter-js-widgets",
      "model_module_version": "~2.1.4",
      "model_name": "FloatSliderModel",
      "state": {
       "_model_module_version": "~2.1.4",
       "_view_module_version": "~2.1.4",
       "description": "$-v_y / v_c$",
       "layout": "IPY_MODEL_795cfc0f288244f88352a48df10f6ee6",
       "max": 2,
       "min": -2,
       "step": 0.01,
       "value": 0.84
      }
     },
     "7eda509d3ad145688e311949359e61cc": {
      "model_module": "jupyter-js-widgets",
      "model_module_version": "~2.1.4",
      "model_name": "LayoutModel",
      "state": {
       "_model_module_version": "~2.1.4",
       "_view_module_version": "~2.1.4"
      }
     },
     "7f10e3742db94227b4790b4d5975d0e4": {
      "model_module": "jupyter-js-widgets",
      "model_module_version": "~2.1.4",
      "model_name": "LayoutModel",
      "state": {
       "_model_module_version": "~2.1.4",
       "_view_module_version": "~2.1.4"
      }
     },
     "7f6effe96e384407a14867d08d55ca50": {
      "model_module": "jupyter-js-widgets",
      "model_module_version": "~2.1.4",
      "model_name": "FloatSliderModel",
      "state": {
       "_model_module_version": "~2.1.4",
       "_view_module_version": "~2.1.4",
       "description": "$T$ / $1\\ year$",
       "layout": "IPY_MODEL_b1bdef3ed5f643f999cf4d48501d812e",
       "max": 5,
       "min": 0.1,
       "step": 0.01,
       "value": 1
      }
     },
     "7feaecc82a644ed1932ba0f6d5769545": {
      "model_module": "jupyter-js-widgets",
      "model_module_version": "~2.1.4",
      "model_name": "LayoutModel",
      "state": {
       "_model_module_version": "~2.1.4",
       "_view_module_version": "~2.1.4"
      }
     },
     "80a6bce18d7c4b48b4dd077c32a379c3": {
      "model_module": "jupyter-js-widgets",
      "model_module_version": "~2.1.4",
      "model_name": "LayoutModel",
      "state": {
       "_model_module_version": "~2.1.4",
       "_view_module_version": "~2.1.4"
      }
     },
     "8171b7cd896443fea856f889919b908a": {
      "model_module": "jupyter-js-widgets",
      "model_module_version": "~2.1.4",
      "model_name": "LayoutModel",
      "state": {
       "_model_module_version": "~2.1.4",
       "_view_module_version": "~2.1.4"
      }
     },
     "826a03d7e4294a008fd880c0588fb440": {
      "model_module": "jupyter-js-widgets",
      "model_module_version": "~2.1.4",
      "model_name": "LayoutModel",
      "state": {
       "_model_module_version": "~2.1.4",
       "_view_module_version": "~2.1.4"
      }
     },
     "8287d98bb1c1432e8b757b47f6994bfc": {
      "model_module": "jupyter-js-widgets",
      "model_module_version": "~2.1.4",
      "model_name": "FloatSliderModel",
      "state": {
       "_model_module_version": "~2.1.4",
       "_view_module_version": "~2.1.4",
       "description": "$T$ / $1\\ year$",
       "layout": "IPY_MODEL_36c605fbaa3b4228a4632c5bc949c98f",
       "max": 5,
       "min": 0.1,
       "step": 0.01,
       "value": 1
      }
     },
     "828db9b38b5f4c40889b4e4c61fbd867": {
      "model_module": "jupyter-js-widgets",
      "model_module_version": "~2.1.4",
      "model_name": "FloatSliderModel",
      "state": {
       "_model_module_version": "~2.1.4",
       "_view_module_version": "~2.1.4",
       "description": "$-r_x / 1$ $AU$",
       "layout": "IPY_MODEL_94fd62ca8b694a1fbdd6ad77c1f8c6bf",
       "max": 2,
       "min": 0.1,
       "step": 0.01,
       "value": 1
      }
     },
     "828f2aef28aa4b58879c25394a9b84ac": {
      "model_module": "jupyter-js-widgets",
      "model_module_version": "~2.1.4",
      "model_name": "LayoutModel",
      "state": {
       "_model_module_version": "~2.1.4",
       "_view_module_version": "~2.1.4"
      }
     },
     "82d8ef000cf44068b351083fd42839da": {
      "model_module": "jupyter-js-widgets",
      "model_module_version": "~2.1.4",
      "model_name": "LayoutModel",
      "state": {
       "_model_module_version": "~2.1.4",
       "_view_module_version": "~2.1.4"
      }
     },
     "82f4adc8fefe445598d86d1dfea30695": {
      "model_module": "jupyter-js-widgets",
      "model_module_version": "~2.1.4",
      "model_name": "LayoutModel",
      "state": {
       "_model_module_version": "~2.1.4",
       "_view_module_version": "~2.1.4",
       "display": "inline-flex",
       "flex_flow": "row wrap",
       "justify_content": "flex-start"
      }
     },
     "834b187a28a84fcfbad57cf25d0de88e": {
      "model_module": "jupyter-js-widgets",
      "model_module_version": "~2.1.4",
      "model_name": "LayoutModel",
      "state": {
       "_model_module_version": "~2.1.4",
       "_view_module_version": "~2.1.4"
      }
     },
     "83621bb1b3dc4d4aa184229f2422d8bb": {
      "model_module": "jupyter-js-widgets",
      "model_module_version": "~2.1.4",
      "model_name": "FloatSliderModel",
      "state": {
       "_model_module_version": "~2.1.4",
       "_view_module_version": "~2.1.4",
       "description": "$v_x / v_c$",
       "layout": "IPY_MODEL_f1980b2826d74cd281289309ce2d2d88",
       "max": 2,
       "min": -2,
       "step": 0.01
      }
     },
     "846e72eb3ea34cb99c5299a90e220890": {
      "model_module": "jupyter-js-widgets",
      "model_module_version": "~2.1.4",
      "model_name": "LayoutModel",
      "state": {
       "_model_module_version": "~2.1.4",
       "_view_module_version": "~2.1.4"
      }
     },
     "84de4251fb924f98ab7b26cd8a5182ed": {
      "model_module": "jupyter-js-widgets",
      "model_module_version": "~2.1.4",
      "model_name": "FloatSliderModel",
      "state": {
       "_model_module_version": "~2.1.4",
       "_view_module_version": "~2.1.4",
       "description": "$v_x / v_c$",
       "layout": "IPY_MODEL_3e3920aee77e40128fed6f8efca9414b",
       "max": 2,
       "min": -2,
       "step": 0.01
      }
     },
     "850df3dbb2cf49819920d151c9d5b872": {
      "model_module": "jupyter-js-widgets",
      "model_module_version": "~2.1.4",
      "model_name": "OutputModel",
      "state": {
       "_dom_classes": [],
       "_model_module": "jupyter-js-widgets",
       "_model_module_version": "~2.1.4",
       "_view_module": "jupyter-js-widgets",
       "_view_module_version": "~2.1.4",
       "layout": "IPY_MODEL_828f2aef28aa4b58879c25394a9b84ac",
       "msg_throttle": 1
      }
     },
     "8558c76747a946a694ba51a39a58df3a": {
      "model_module": "jupyter-js-widgets",
      "model_module_version": "~2.1.4",
      "model_name": "LayoutModel",
      "state": {
       "_model_module_version": "~2.1.4",
       "_view_module_version": "~2.1.4"
      }
     },
     "85e711ee7c7c4a9c8feb9d011068129b": {
      "model_module": "jupyter-js-widgets",
      "model_module_version": "~2.1.4",
      "model_name": "FloatSliderModel",
      "state": {
       "_model_module_version": "~2.1.4",
       "_view_module_version": "~2.1.4",
       "description": "$-r_x / 1$ $AU$",
       "layout": "IPY_MODEL_8a65e155b0494507862903a3861eccf6",
       "max": 2,
       "min": 0.1,
       "step": 0.01,
       "value": 1
      }
     },
     "86726aeb2e5542cfbd0dad6372a6ee63": {
      "model_module": "jupyter-js-widgets",
      "model_module_version": "~2.1.4",
      "model_name": "FloatSliderModel",
      "state": {
       "_model_module_version": "~2.1.4",
       "_view_module_version": "~2.1.4",
       "description": "$T$ / $1\\ year$",
       "layout": "IPY_MODEL_77ba3ed95b644160af18bba46c9d6501",
       "max": 5,
       "min": 0.1,
       "step": 0.01,
       "value": 1
      }
     },
     "8730e9d0962d4c92a91348541ef3fef2": {
      "model_module": "jupyter-js-widgets",
      "model_module_version": "~2.1.4",
      "model_name": "FloatSliderModel",
      "state": {
       "_model_module_version": "~2.1.4",
       "_view_module_version": "~2.1.4",
       "description": "$v_x / v_c$",
       "layout": "IPY_MODEL_d7d42b29da614eec9ad6ad8471b5c037",
       "max": 2,
       "min": -2,
       "step": 0.01
      }
     },
     "87ce987b266e4a4fad11ea94d34680b7": {
      "model_module": "jupyter-js-widgets",
      "model_module_version": "~2.1.4",
      "model_name": "LayoutModel",
      "state": {
       "_model_module_version": "~2.1.4",
       "_view_module_version": "~2.1.4"
      }
     },
     "88036ec46fff461e88f1e14f99182a14": {
      "model_module": "jupyter-js-widgets",
      "model_module_version": "~2.1.4",
      "model_name": "LayoutModel",
      "state": {
       "_model_module_version": "~2.1.4",
       "_view_module_version": "~2.1.4",
       "display": "inline-flex",
       "flex_flow": "row wrap",
       "justify_content": "flex-start"
      }
     },
     "8846bd75a3aa48eb8299597831317605": {
      "model_module": "jupyter-js-widgets",
      "model_module_version": "~2.1.4",
      "model_name": "LayoutModel",
      "state": {
       "_model_module_version": "~2.1.4",
       "_view_module_version": "~2.1.4"
      }
     },
     "88aeb5a55a0543ca9ffde6602f4cddfe": {
      "model_module": "jupyter-js-widgets",
      "model_module_version": "~2.1.4",
      "model_name": "OutputModel",
      "state": {
       "_dom_classes": [],
       "_model_module": "jupyter-js-widgets",
       "_model_module_version": "~2.1.4",
       "_view_module": "jupyter-js-widgets",
       "_view_module_version": "~2.1.4",
       "layout": "IPY_MODEL_3335a919ca834806ad27e3debb612563",
       "msg_throttle": 1
      }
     },
     "88f5c2f73ef4430bb12363d47b3893bb": {
      "model_module": "jupyter-js-widgets",
      "model_module_version": "~2.1.4",
      "model_name": "LayoutModel",
      "state": {
       "_model_module_version": "~2.1.4",
       "_view_module_version": "~2.1.4"
      }
     },
     "8a2c61688cea45d0bf8b6c9e918b17a6": {
      "model_module": "jupyter-js-widgets",
      "model_module_version": "~2.1.4",
      "model_name": "FloatSliderModel",
      "state": {
       "_model_module_version": "~2.1.4",
       "_view_module_version": "~2.1.4",
       "description": "$-r_x / 1$ $AU$",
       "layout": "IPY_MODEL_a8eebfc036644072b576fcccf45da997",
       "max": 2,
       "min": 0.1,
       "step": 0.01,
       "value": 1
      }
     },
     "8a5b7511c220495eb315b7e292e4041f": {
      "model_module": "jupyter-js-widgets",
      "model_module_version": "~2.1.4",
      "model_name": "FloatSliderModel",
      "state": {
       "_model_module_version": "~2.1.4",
       "_view_module_version": "~2.1.4",
       "description": "$-v_y / v_c$",
       "layout": "IPY_MODEL_0e971255c5df46c4819e5e4da0dd9bef",
       "max": 2,
       "min": -2,
       "step": 0.01,
       "value": 1
      }
     },
     "8a65e155b0494507862903a3861eccf6": {
      "model_module": "jupyter-js-widgets",
      "model_module_version": "~2.1.4",
      "model_name": "LayoutModel",
      "state": {
       "_model_module_version": "~2.1.4",
       "_view_module_version": "~2.1.4"
      }
     },
     "8aec087e849446d98455ad39a9a50a1e": {
      "model_module": "jupyter-js-widgets",
      "model_module_version": "~2.1.4",
      "model_name": "FloatSliderModel",
      "state": {
       "_model_module_version": "~2.1.4",
       "_view_module_version": "~2.1.4",
       "description": "$T$ / $1\\ year$",
       "layout": "IPY_MODEL_c8cea670e3dc442e8e099dd7661d7c0a",
       "max": 5,
       "min": 0.1,
       "step": 0.01,
       "value": 1
      }
     },
     "8b8ee1f566504bdb96e6a2cdba925e84": {
      "model_module": "jupyter-js-widgets",
      "model_module_version": "~2.1.4",
      "model_name": "FloatSliderModel",
      "state": {
       "_model_module_version": "~2.1.4",
       "_view_module_version": "~2.1.4",
       "description": "$f\\ \\left(dt = 10^f \\cdot r_0 / v\\right)$",
       "layout": "IPY_MODEL_6599ee1ddf224561adc7cd25ec637312",
       "max": 2,
       "min": -3
      }
     },
     "8c02f318d9254355b77daf4ed8eef997": {
      "model_module": "jupyter-js-widgets",
      "model_module_version": "~2.1.4",
      "model_name": "LayoutModel",
      "state": {
       "_model_module_version": "~2.1.4",
       "_view_module_version": "~2.1.4"
      }
     },
     "8c320c0755a347c6b24421eb7f2e968b": {
      "model_module": "jupyter-js-widgets",
      "model_module_version": "~2.1.4",
      "model_name": "FloatSliderModel",
      "state": {
       "_model_module_version": "~2.1.4",
       "_view_module_version": "~2.1.4",
       "description": "$v_x / v_c$",
       "layout": "IPY_MODEL_77c7e417bfbb4d4194fac15576fbfad9",
       "max": 2,
       "min": -2,
       "step": 0.01,
       "value": 0.43
      }
     },
     "8c7b608428c4496e85085b08791687d7": {
      "model_module": "jupyter-js-widgets",
      "model_module_version": "~2.1.4",
      "model_name": "LayoutModel",
      "state": {
       "_model_module_version": "~2.1.4",
       "_view_module_version": "~2.1.4"
      }
     },
     "8cd10a8c9b944df38aa5f8d16326f631": {
      "model_module": "jupyter-js-widgets",
      "model_module_version": "~2.1.4",
      "model_name": "LayoutModel",
      "state": {
       "_model_module_version": "~2.1.4",
       "_view_module_version": "~2.1.4",
       "display": "inline-flex",
       "flex_flow": "row wrap",
       "justify_content": "flex-start"
      }
     },
     "8d20679ba42141049d2e71df3e20f259": {
      "model_module": "jupyter-js-widgets",
      "model_module_version": "~2.1.4",
      "model_name": "VBoxModel",
      "state": {
       "_dom_classes": [
        "widget-interact"
       ],
       "_model_module_version": "~2.1.4",
       "_view_module_version": "~2.1.4",
       "children": [
        "IPY_MODEL_45d1911a9e2b40a2a92e1ac533bff31b",
        "IPY_MODEL_aa9b56f860e041f78d0f41745f15f411",
        "IPY_MODEL_91db79808bdf451ba0e86f199f6f6be6",
        "IPY_MODEL_acbc43e359e140989a7f17dc657dd980",
        "IPY_MODEL_d3b22afedbfc4c89974267a15c49ba53",
        "IPY_MODEL_a9e43bf70f644082aab1a594209fadfa"
       ],
       "layout": "IPY_MODEL_e15f52efdeeb441bbcfdc6013c8d9304"
      }
     },
     "8d4907942a2b4373b386ea47b098a4d6": {
      "model_module": "jupyter-js-widgets",
      "model_module_version": "~2.1.4",
      "model_name": "LayoutModel",
      "state": {
       "_model_module_version": "~2.1.4",
       "_view_module_version": "~2.1.4"
      }
     },
     "8e8bb3fbf3de4d3db3f52811f38f9fc0": {
      "model_module": "jupyter-js-widgets",
      "model_module_version": "~2.1.4",
      "model_name": "VBoxModel",
      "state": {
       "_dom_classes": [
        "widget-interact"
       ],
       "_model_module_version": "~2.1.4",
       "_view_module_version": "~2.1.4",
       "children": [
        "IPY_MODEL_fdf42c51d512433ebb8f22b02b2d8cde",
        "IPY_MODEL_164b49d3258547fd9e4ddf8bd6e212f4",
        "IPY_MODEL_a754c8ed282945518c312a507b45e5f9",
        "IPY_MODEL_edff28acc1194125bff9afb2c11b291f",
        "IPY_MODEL_3b372500ca4145bb8fdae627a856cb83",
        "IPY_MODEL_f44e7cd8cbdc4db38388abcec7b140e2"
       ],
       "layout": "IPY_MODEL_0f0424541f934042bdc8f07c5e352cdd"
      }
     },
     "8ed64ddf01804f08ad3a79da8410f41c": {
      "model_module": "jupyter-js-widgets",
      "model_module_version": "~2.1.4",
      "model_name": "FloatSliderModel",
      "state": {
       "_model_module_version": "~2.1.4",
       "_view_module_version": "~2.1.4",
       "description": "$v_x / v_c$",
       "layout": "IPY_MODEL_55ccd611ab084bbd8d9cb11211d42b3a",
       "max": 2,
       "min": -2,
       "step": 0.01
      }
     },
     "8eef67f3ac55492a90af3bae89f88a2b": {
      "model_module": "jupyter-js-widgets",
      "model_module_version": "~2.1.4",
      "model_name": "OutputModel",
      "state": {
       "_dom_classes": [],
       "_model_module": "jupyter-js-widgets",
       "_model_module_version": "~2.1.4",
       "_view_module": "jupyter-js-widgets",
       "_view_module_version": "~2.1.4",
       "layout": "IPY_MODEL_0277090c10d94c769cf5554409c4cf26",
       "msg_throttle": 1
      }
     },
     "8f3f678f3d094658a84bd5c5c71b5f53": {
      "model_module": "jupyter-js-widgets",
      "model_module_version": "~2.1.4",
      "model_name": "LayoutModel",
      "state": {
       "_model_module_version": "~2.1.4",
       "_view_module_version": "~2.1.4"
      }
     },
     "901a46adde0b43c8bb76de8259ebc22b": {
      "model_module": "jupyter-js-widgets",
      "model_module_version": "~2.1.4",
      "model_name": "FloatSliderModel",
      "state": {
       "_model_module_version": "~2.1.4",
       "_view_module_version": "~2.1.4",
       "description": "$T$ / $1\\ year$",
       "layout": "IPY_MODEL_76174eaddf7c4588997d2b04e57de490",
       "max": 5,
       "min": 0.1,
       "step": 0.01,
       "value": 2.28
      }
     },
     "90a23acdb9a94947b15283baf371f25c": {
      "model_module": "jupyter-js-widgets",
      "model_module_version": "~2.1.4",
      "model_name": "LayoutModel",
      "state": {
       "_model_module_version": "~2.1.4",
       "_view_module_version": "~2.1.4"
      }
     },
     "90ab63938737478abe0fe6360d5da1e9": {
      "model_module": "jupyter-js-widgets",
      "model_module_version": "~2.1.4",
      "model_name": "LayoutModel",
      "state": {
       "_model_module_version": "~2.1.4",
       "_view_module_version": "~2.1.4"
      }
     },
     "90d829cd6d214e0bbfa2898d66063abe": {
      "model_module": "jupyter-js-widgets",
      "model_module_version": "~2.1.4",
      "model_name": "LayoutModel",
      "state": {
       "_model_module_version": "~2.1.4",
       "_view_module_version": "~2.1.4"
      }
     },
     "90ec152c0c604b15a01cedf390e72ba3": {
      "model_module": "jupyter-js-widgets",
      "model_module_version": "~2.1.4",
      "model_name": "FloatSliderModel",
      "state": {
       "_model_module_version": "~2.1.4",
       "_view_module_version": "~2.1.4",
       "description": "$-r_x / 1$ $AU$",
       "layout": "IPY_MODEL_4cc69bf32ec4492c810fd4588835ac39",
       "max": 2,
       "min": 0.1,
       "step": 0.01,
       "value": 1
      }
     },
     "91db79808bdf451ba0e86f199f6f6be6": {
      "model_module": "jupyter-js-widgets",
      "model_module_version": "~2.1.4",
      "model_name": "FloatSliderModel",
      "state": {
       "_model_module_version": "~2.1.4",
       "_view_module_version": "~2.1.4",
       "description": "$-v_y / v_c$",
       "layout": "IPY_MODEL_d44ac5e2a60a43d9b66bbbb602da94e6",
       "max": 2,
       "min": -2,
       "step": 0.01,
       "value": 1
      }
     },
     "91f88d22955743e4ad463d62a309bd00": {
      "model_module": "jupyter-js-widgets",
      "model_module_version": "~2.1.4",
      "model_name": "LayoutModel",
      "state": {
       "_model_module_version": "~2.1.4",
       "_view_module_version": "~2.1.4"
      }
     },
     "926a8684151344d7bf23341a578e4ce1": {
      "model_module": "jupyter-js-widgets",
      "model_module_version": "~2.1.4",
      "model_name": "FloatSliderModel",
      "state": {
       "_model_module_version": "~2.1.4",
       "_view_module_version": "~2.1.4",
       "description": "$-r_x / 1$ $AU$",
       "layout": "IPY_MODEL_bb44561505414ea0a761361293914a2f",
       "max": 2,
       "min": 0.1,
       "step": 0.01,
       "value": 1
      }
     },
     "92a2c8dd4be448f1a40346012d6ca0a4": {
      "model_module": "jupyter-js-widgets",
      "model_module_version": "~2.1.4",
      "model_name": "FloatSliderModel",
      "state": {
       "_model_module_version": "~2.1.4",
       "_view_module_version": "~2.1.4",
       "description": "$-r_x / 1$ $AU$",
       "layout": "IPY_MODEL_f606f9eaa9a645f68514f3a47decff77",
       "max": 2,
       "min": 0.1,
       "step": 0.01,
       "value": 1
      }
     },
     "94423b0ebc224ce38ad1f5419a3ad168": {
      "model_module": "jupyter-js-widgets",
      "model_module_version": "~2.1.4",
      "model_name": "OutputModel",
      "state": {
       "_dom_classes": [],
       "_model_module": "jupyter-js-widgets",
       "_model_module_version": "~2.1.4",
       "_view_module": "jupyter-js-widgets",
       "_view_module_version": "~2.1.4",
       "layout": "IPY_MODEL_babd389a615b4171af210f75f576fb7c",
       "msg_throttle": 1
      }
     },
     "947a6798247046df8540e2195c7ec50e": {
      "model_module": "jupyter-js-widgets",
      "model_module_version": "~2.1.4",
      "model_name": "LayoutModel",
      "state": {
       "_model_module_version": "~2.1.4",
       "_view_module_version": "~2.1.4"
      }
     },
     "94bb5bbfea1c41a9b19660b788449e21": {
      "model_module": "jupyter-js-widgets",
      "model_module_version": "~2.1.4",
      "model_name": "VBoxModel",
      "state": {
       "_dom_classes": [
        "widget-interact"
       ],
       "_model_module_version": "~2.1.4",
       "_view_module_version": "~2.1.4",
       "children": [
        "IPY_MODEL_926a8684151344d7bf23341a578e4ce1",
        "IPY_MODEL_9df5bc8f12cb4cfe8e39ec59170379b6",
        "IPY_MODEL_96d32fdccf464afb92501545a095951f",
        "IPY_MODEL_7f6effe96e384407a14867d08d55ca50",
        "IPY_MODEL_950acb08a51244eabfe51853d3d99086",
        "IPY_MODEL_a632b76ea7e84a8aaa67eb28523ba418"
       ],
       "layout": "IPY_MODEL_055e8fec03714b3db2fc814401a8946b"
      }
     },
     "94fd62ca8b694a1fbdd6ad77c1f8c6bf": {
      "model_module": "jupyter-js-widgets",
      "model_module_version": "~2.1.4",
      "model_name": "LayoutModel",
      "state": {
       "_model_module_version": "~2.1.4",
       "_view_module_version": "~2.1.4"
      }
     },
     "950acb08a51244eabfe51853d3d99086": {
      "model_module": "jupyter-js-widgets",
      "model_module_version": "~2.1.4",
      "model_name": "FloatSliderModel",
      "state": {
       "_model_module_version": "~2.1.4",
       "_view_module_version": "~2.1.4",
       "description": "$f\\ \\left(dt = 10^f \\cdot x_0 / v\\right)$",
       "layout": "IPY_MODEL_47742c1363cb4aaab33b950f8e0068fe",
       "max": 2,
       "min": -3,
       "value": -2
      }
     },
     "950cd3b210d9464a84af3cdeeb724fc2": {
      "model_module": "jupyter-js-widgets",
      "model_module_version": "~2.1.4",
      "model_name": "FloatSliderModel",
      "state": {
       "_model_module_version": "~2.1.4",
       "_view_module_version": "~2.1.4",
       "description": "$f\\ \\left(dt = 10^f \\cdot r_0 / v\\right)$",
       "layout": "IPY_MODEL_5847f6baff1849c3a7a22761340520f9",
       "max": 2,
       "min": -3,
       "value": -2
      }
     },
     "957a5e5ae5204f91b39d6f19ecc9aac1": {
      "model_module": "jupyter-js-widgets",
      "model_module_version": "~2.1.4",
      "model_name": "FloatSliderModel",
      "state": {
       "_model_module_version": "~2.1.4",
       "_view_module_version": "~2.1.4",
       "description": "$T$ / $1\\ year$",
       "layout": "IPY_MODEL_33689ff7de2b427296cbf70e1c1fff0c",
       "max": 5,
       "min": 0.1,
       "step": 0.01,
       "value": 2.12
      }
     },
     "95cd0c8557f842b5a7023de1a9d8fad2": {
      "model_module": "jupyter-js-widgets",
      "model_module_version": "~2.1.4",
      "model_name": "LayoutModel",
      "state": {
       "_model_module_version": "~2.1.4",
       "_view_module_version": "~2.1.4"
      }
     },
     "95d674b3f42f46ba886d6ff58861aea8": {
      "model_module": "jupyter-js-widgets",
      "model_module_version": "~2.1.4",
      "model_name": "LayoutModel",
      "state": {
       "_model_module_version": "~2.1.4",
       "_view_module_version": "~2.1.4"
      }
     },
     "96158478ffdd491fa2b7317d8d6e12ff": {
      "model_module": "jupyter-js-widgets",
      "model_module_version": "~2.1.4",
      "model_name": "LayoutModel",
      "state": {
       "_model_module_version": "~2.1.4",
       "_view_module_version": "~2.1.4"
      }
     },
     "9657dc6294cd4a1f8673cebcce434573": {
      "model_module": "jupyter-js-widgets",
      "model_module_version": "~2.1.4",
      "model_name": "LayoutModel",
      "state": {
       "_model_module_version": "~2.1.4",
       "_view_module_version": "~2.1.4"
      }
     },
     "96d32fdccf464afb92501545a095951f": {
      "model_module": "jupyter-js-widgets",
      "model_module_version": "~2.1.4",
      "model_name": "FloatSliderModel",
      "state": {
       "_model_module_version": "~2.1.4",
       "_view_module_version": "~2.1.4",
       "description": "$-v_y / v_c$",
       "layout": "IPY_MODEL_c7c56b8509584bd2b665a1a5a1567e72",
       "max": 2,
       "min": -2,
       "step": 0.01,
       "value": 1
      }
     },
     "97b4949fa2524b83accde7eb76f2c87e": {
      "model_module": "jupyter-js-widgets",
      "model_module_version": "~2.1.4",
      "model_name": "LayoutModel",
      "state": {
       "_model_module_version": "~2.1.4",
       "_view_module_version": "~2.1.4"
      }
     },
     "97dfbd6119864ddd88b488973e634f90": {
      "model_module": "jupyter-js-widgets",
      "model_module_version": "~2.1.4",
      "model_name": "FloatSliderModel",
      "state": {
       "_model_module_version": "~2.1.4",
       "_view_module_version": "~2.1.4",
       "description": "$-r_x / 1$ $AU$",
       "layout": "IPY_MODEL_39c1855c7b6b49e3b5c0ca1ceb49b188",
       "max": 2,
       "min": 0.1,
       "step": 0.01,
       "value": 1
      }
     },
     "994f2c5d8dbd41ee81b86c2f609e9525": {
      "model_module": "jupyter-js-widgets",
      "model_module_version": "~2.1.4",
      "model_name": "FloatSliderModel",
      "state": {
       "_model_module_version": "~2.1.4",
       "_view_module_version": "~2.1.4",
       "description": "$f\\ \\left(dt = 10^f \\cdot x_0 / v\\right)$",
       "layout": "IPY_MODEL_11376b15e24649149563dc2f60f9e664",
       "max": 2,
       "min": -3,
       "value": -1
      }
     },
     "9966ec6798bb4167a937be54e59e5192": {
      "model_module": "jupyter-js-widgets",
      "model_module_version": "~2.1.4",
      "model_name": "LayoutModel",
      "state": {
       "_model_module_version": "~2.1.4",
       "_view_module_version": "~2.1.4"
      }
     },
     "9967d9b827ee4ec89c25c3bdd0c68481": {
      "model_module": "jupyter-js-widgets",
      "model_module_version": "~2.1.4",
      "model_name": "FloatSliderModel",
      "state": {
       "_model_module_version": "~2.1.4",
       "_view_module_version": "~2.1.4",
       "description": "$f\\ \\left(dt = 10^f \\cdot r_0 / v\\right)$",
       "layout": "IPY_MODEL_2418d54b758a4e37ac5d3128932b25af",
       "max": 2,
       "min": -3,
       "value": -2
      }
     },
     "99f6cdf21a4e4da2ae06356ea9eb0bb1": {
      "model_module": "jupyter-js-widgets",
      "model_module_version": "~2.1.4",
      "model_name": "FloatSliderModel",
      "state": {
       "_model_module_version": "~2.1.4",
       "_view_module_version": "~2.1.4",
       "description": "$-v_y / v_c$",
       "layout": "IPY_MODEL_61463b1996cd40ca8b1dfff32813b26b",
       "max": 2,
       "min": -2,
       "step": 0.01,
       "value": 1
      }
     },
     "9a419a6c33a8471c8a06c84e0ae1085a": {
      "model_module": "jupyter-js-widgets",
      "model_module_version": "~2.1.4",
      "model_name": "LayoutModel",
      "state": {
       "_model_module_version": "~2.1.4",
       "_view_module_version": "~2.1.4"
      }
     },
     "9a4b18b8b87b465292b24aa8dbfa340b": {
      "model_module": "jupyter-js-widgets",
      "model_module_version": "~2.1.4",
      "model_name": "OutputModel",
      "state": {
       "_dom_classes": [],
       "_model_module": "jupyter-js-widgets",
       "_model_module_version": "~2.1.4",
       "_view_module": "jupyter-js-widgets",
       "_view_module_version": "~2.1.4",
       "layout": "IPY_MODEL_88f5c2f73ef4430bb12363d47b3893bb",
       "msg_throttle": 1
      }
     },
     "9ad04e5cbdc7432ab37a9777fe6b035b": {
      "model_module": "jupyter-js-widgets",
      "model_module_version": "~2.1.4",
      "model_name": "LayoutModel",
      "state": {
       "_model_module_version": "~2.1.4",
       "_view_module_version": "~2.1.4"
      }
     },
     "9cff98bec6e34513a472521d1ab720bd": {
      "model_module": "jupyter-js-widgets",
      "model_module_version": "~2.1.4",
      "model_name": "LayoutModel",
      "state": {
       "_model_module_version": "~2.1.4",
       "_view_module_version": "~2.1.4"
      }
     },
     "9d135f9ec72d40c7a78bec012e6f30b7": {
      "model_module": "jupyter-js-widgets",
      "model_module_version": "~2.1.4",
      "model_name": "LayoutModel",
      "state": {
       "_model_module_version": "~2.1.4",
       "_view_module_version": "~2.1.4"
      }
     },
     "9d3e77fb240e4d65ae0962589e378b12": {
      "model_module": "jupyter-js-widgets",
      "model_module_version": "~2.1.4",
      "model_name": "LayoutModel",
      "state": {
       "_model_module_version": "~2.1.4",
       "_view_module_version": "~2.1.4"
      }
     },
     "9dd6090b641f4d51972a216ac4da3800": {
      "model_module": "jupyter-js-widgets",
      "model_module_version": "~2.1.4",
      "model_name": "FloatSliderModel",
      "state": {
       "_model_module_version": "~2.1.4",
       "_view_module_version": "~2.1.4",
       "description": "$f\\ \\left(dt = 10^f \\cdot r_0 / v\\right)$",
       "layout": "IPY_MODEL_90a23acdb9a94947b15283baf371f25c",
       "max": 2,
       "min": -3,
       "value": -2
      }
     },
     "9df5bc8f12cb4cfe8e39ec59170379b6": {
      "model_module": "jupyter-js-widgets",
      "model_module_version": "~2.1.4",
      "model_name": "FloatSliderModel",
      "state": {
       "_model_module_version": "~2.1.4",
       "_view_module_version": "~2.1.4",
       "description": "$v_x / v_c$",
       "layout": "IPY_MODEL_d7d36d1edf604af0acb6f49699d7a008",
       "max": 2,
       "min": -2,
       "step": 0.01
      }
     },
     "9fe38584174f4125a47b5ad3afb224f9": {
      "model_module": "jupyter-js-widgets",
      "model_module_version": "~2.1.4",
      "model_name": "FloatSliderModel",
      "state": {
       "_model_module_version": "~2.1.4",
       "_view_module_version": "~2.1.4",
       "description": "$f\\ \\left(dt = 10^f \\cdot r_0 / v\\right)$",
       "layout": "IPY_MODEL_1f772a82b1ab4f86a8eed63243daaeb2",
       "max": 2,
       "min": -3,
       "value": -1
      }
     },
     "a0981997d78d4a05949569e1aee4453a": {
      "model_module": "jupyter-js-widgets",
      "model_module_version": "~2.1.4",
      "model_name": "LayoutModel",
      "state": {
       "_model_module_version": "~2.1.4",
       "_view_module_version": "~2.1.4"
      }
     },
     "a169c3393bab4141ba201e2d84aa430a": {
      "model_module": "jupyter-js-widgets",
      "model_module_version": "~2.1.4",
      "model_name": "LayoutModel",
      "state": {
       "_model_module_version": "~2.1.4",
       "_view_module_version": "~2.1.4"
      }
     },
     "a18285931b9d4b94a5844581f54871e3": {
      "model_module": "jupyter-js-widgets",
      "model_module_version": "~2.1.4",
      "model_name": "LayoutModel",
      "state": {
       "_model_module_version": "~2.1.4",
       "_view_module_version": "~2.1.4"
      }
     },
     "a23d9278e37840a4b4642a417bf925bc": {
      "model_module": "jupyter-js-widgets",
      "model_module_version": "~2.1.4",
      "model_name": "FloatSliderModel",
      "state": {
       "_model_module_version": "~2.1.4",
       "_view_module_version": "~2.1.4",
       "description": "$-v_y / v_c$",
       "layout": "IPY_MODEL_6592d08f5834408bafcf71b0e44bba73",
       "max": 2,
       "min": -2,
       "step": 0.01,
       "value": 1
      }
     },
     "a35e07a82a3b4e66a1b4ebda813a26e2": {
      "model_module": "jupyter-js-widgets",
      "model_module_version": "~2.1.4",
      "model_name": "OutputModel",
      "state": {
       "_dom_classes": [],
       "_model_module": "jupyter-js-widgets",
       "_model_module_version": "~2.1.4",
       "_view_module": "jupyter-js-widgets",
       "_view_module_version": "~2.1.4",
       "layout": "IPY_MODEL_16659364b3ef4ac8937f9523d56ff209",
       "msg_throttle": 1
      }
     },
     "a39e59583f1f4f99b134c51ac9535407": {
      "model_module": "jupyter-js-widgets",
      "model_module_version": "~2.1.4",
      "model_name": "LayoutModel",
      "state": {
       "_model_module_version": "~2.1.4",
       "_view_module_version": "~2.1.4",
       "display": "inline-flex",
       "flex_flow": "row wrap",
       "justify_content": "flex-start"
      }
     },
     "a50222c105354c84b870f34449aa6364": {
      "model_module": "jupyter-js-widgets",
      "model_module_version": "~2.1.4",
      "model_name": "LayoutModel",
      "state": {
       "_model_module_version": "~2.1.4",
       "_view_module_version": "~2.1.4"
      }
     },
     "a54cfa61a54d4e7c83a8b604808cb601": {
      "model_module": "jupyter-js-widgets",
      "model_module_version": "~2.1.4",
      "model_name": "FloatSliderModel",
      "state": {
       "_model_module_version": "~2.1.4",
       "_view_module_version": "~2.1.4",
       "description": "$-r_x / 1$ $AU$",
       "layout": "IPY_MODEL_616689ff296643a6a868f99e200b56c1",
       "max": 2,
       "min": 0.1,
       "step": 0.01,
       "value": 1
      }
     },
     "a632b76ea7e84a8aaa67eb28523ba418": {
      "model_module": "jupyter-js-widgets",
      "model_module_version": "~2.1.4",
      "model_name": "OutputModel",
      "state": {
       "_dom_classes": [],
       "_model_module": "jupyter-js-widgets",
       "_model_module_version": "~2.1.4",
       "_view_module": "jupyter-js-widgets",
       "_view_module_version": "~2.1.4",
       "layout": "IPY_MODEL_fd0d6a50751147c396a4d148a9255689",
       "msg_throttle": 1
      }
     },
     "a6d904fc3ac04d31829b3536e7562be4": {
      "model_module": "jupyter-js-widgets",
      "model_module_version": "~2.1.4",
      "model_name": "LayoutModel",
      "state": {
       "_model_module_version": "~2.1.4",
       "_view_module_version": "~2.1.4"
      }
     },
     "a6eebca21fa44741b73ab4fdc5cb1e93": {
      "model_module": "jupyter-js-widgets",
      "model_module_version": "~2.1.4",
      "model_name": "VBoxModel",
      "state": {
       "_dom_classes": [
        "widget-interact"
       ],
       "_model_module_version": "~2.1.4",
       "_view_module_version": "~2.1.4",
       "children": [
        "IPY_MODEL_e86ca36a68c0457088979f23cd81868e",
        "IPY_MODEL_60cb4a60825e4e7ba1ef531d13a3716b",
        "IPY_MODEL_0552eae71ca14ebaa64b904a2db70802",
        "IPY_MODEL_8287d98bb1c1432e8b757b47f6994bfc",
        "IPY_MODEL_9dd6090b641f4d51972a216ac4da3800",
        "IPY_MODEL_1f778f0966844874a95e1c105164227d"
       ],
       "layout": "IPY_MODEL_af7437663f104649bea9c8f1506ed04b"
      }
     },
     "a754c8ed282945518c312a507b45e5f9": {
      "model_module": "jupyter-js-widgets",
      "model_module_version": "~2.1.4",
      "model_name": "FloatSliderModel",
      "state": {
       "_model_module_version": "~2.1.4",
       "_view_module_version": "~2.1.4",
       "description": "$-v_y / v_c$",
       "layout": "IPY_MODEL_2c2e683c3a36439188d07520a4891a15",
       "max": 2,
       "min": -2,
       "step": 0.01,
       "value": 1
      }
     },
     "a7c40abd5f03473a84da5d0e5b5b406d": {
      "model_module": "jupyter-js-widgets",
      "model_module_version": "~2.1.4",
      "model_name": "FloatSliderModel",
      "state": {
       "_model_module_version": "~2.1.4",
       "_view_module_version": "~2.1.4",
       "description": "$-v_y / v_c$",
       "layout": "IPY_MODEL_1136d3bb257d47cb99919f822d4944f2",
       "max": 2,
       "min": -2,
       "step": 0.01,
       "value": 1
      }
     },
     "a7d8604be511490f92f8347452bd8a3a": {
      "model_module": "jupyter-js-widgets",
      "model_module_version": "~2.1.4",
      "model_name": "FloatSliderModel",
      "state": {
       "_model_module_version": "~2.1.4",
       "_view_module_version": "~2.1.4",
       "description": "$v_x / v_c$",
       "layout": "IPY_MODEL_b516b775d0964fd48bf95667babc89af",
       "max": 2,
       "min": -2,
       "step": 0.01,
       "value": 0.11
      }
     },
     "a8090c2346fd44a6a93652cc58382ad6": {
      "model_module": "jupyter-js-widgets",
      "model_module_version": "~2.1.4",
      "model_name": "LayoutModel",
      "state": {
       "_model_module_version": "~2.1.4",
       "_view_module_version": "~2.1.4"
      }
     },
     "a83793ae63d9416c824f9920ff64e3c0": {
      "model_module": "jupyter-js-widgets",
      "model_module_version": "~2.1.4",
      "model_name": "LayoutModel",
      "state": {
       "_model_module_version": "~2.1.4",
       "_view_module_version": "~2.1.4"
      }
     },
     "a84bc5b143c54ac98fc871d0bb6253c0": {
      "model_module": "jupyter-js-widgets",
      "model_module_version": "~2.1.4",
      "model_name": "FloatSliderModel",
      "state": {
       "_model_module_version": "~2.1.4",
       "_view_module_version": "~2.1.4",
       "description": "$-r_x / 1$ $AU$",
       "layout": "IPY_MODEL_cd65ec9d27374f188e3bc042d55dc995",
       "max": 2,
       "min": 0.1,
       "step": 0.01,
       "value": 0.64
      }
     },
     "a8a0e64f53d842488782dcb201e3ff96": {
      "model_module": "jupyter-js-widgets",
      "model_module_version": "~2.1.4",
      "model_name": "LayoutModel",
      "state": {
       "_model_module_version": "~2.1.4",
       "_view_module_version": "~2.1.4"
      }
     },
     "a8eebfc036644072b576fcccf45da997": {
      "model_module": "jupyter-js-widgets",
      "model_module_version": "~2.1.4",
      "model_name": "LayoutModel",
      "state": {
       "_model_module_version": "~2.1.4",
       "_view_module_version": "~2.1.4"
      }
     },
     "a9746f91725b4ed68ae9136be921310a": {
      "model_module": "jupyter-js-widgets",
      "model_module_version": "~2.1.4",
      "model_name": "LayoutModel",
      "state": {
       "_model_module_version": "~2.1.4",
       "_view_module_version": "~2.1.4"
      }
     },
     "a9c0aad0a91d4232bc4dadd10c4c8dc0": {
      "model_module": "jupyter-js-widgets",
      "model_module_version": "~2.1.4",
      "model_name": "LayoutModel",
      "state": {
       "_model_module_version": "~2.1.4",
       "_view_module_version": "~2.1.4"
      }
     },
     "a9e43bf70f644082aab1a594209fadfa": {
      "model_module": "jupyter-js-widgets",
      "model_module_version": "~2.1.4",
      "model_name": "OutputModel",
      "state": {
       "_dom_classes": [],
       "_model_module": "jupyter-js-widgets",
       "_model_module_version": "~2.1.4",
       "_view_module": "jupyter-js-widgets",
       "_view_module_version": "~2.1.4",
       "layout": "IPY_MODEL_58fcfda40df048638ffef6f7ee8ca160",
       "msg_id": "10B19A44896A407284455AE3D9715026",
       "msg_throttle": 1
      }
     },
     "aa9b56f860e041f78d0f41745f15f411": {
      "model_module": "jupyter-js-widgets",
      "model_module_version": "~2.1.4",
      "model_name": "FloatSliderModel",
      "state": {
       "_model_module_version": "~2.1.4",
       "_view_module_version": "~2.1.4",
       "description": "$v_x / v_c$",
       "layout": "IPY_MODEL_34418abdeb4c49cf8e8865629bcd048f",
       "max": 2,
       "min": -2,
       "step": 0.01
      }
     },
     "ac08a476f1694d17a1af37c556fe4736": {
      "model_module": "jupyter-js-widgets",
      "model_module_version": "~2.1.4",
      "model_name": "LayoutModel",
      "state": {
       "_model_module_version": "~2.1.4",
       "_view_module_version": "~2.1.4"
      }
     },
     "acbc43e359e140989a7f17dc657dd980": {
      "model_module": "jupyter-js-widgets",
      "model_module_version": "~2.1.4",
      "model_name": "FloatSliderModel",
      "state": {
       "_model_module_version": "~2.1.4",
       "_view_module_version": "~2.1.4",
       "description": "$T$ / $1\\ year$",
       "layout": "IPY_MODEL_c9cd46e283bf45f7af88ac5daf459da1",
       "max": 5,
       "min": 0.1,
       "step": 0.01,
       "value": 1
      }
     },
     "acd10f7e99564c6fa1187dd947d6a798": {
      "model_module": "jupyter-js-widgets",
      "model_module_version": "~2.1.4",
      "model_name": "FloatSliderModel",
      "state": {
       "_model_module_version": "~2.1.4",
       "_view_module_version": "~2.1.4",
       "description": "$-r_x / 1$ $AU$",
       "layout": "IPY_MODEL_52866efed1c94f6e9bf92c3cbe62a51f",
       "max": 2,
       "min": 0.1,
       "step": 0.01,
       "value": 1
      }
     },
     "ad4d5154a8ec42b2935af24882a8a664": {
      "model_module": "jupyter-js-widgets",
      "model_module_version": "~2.1.4",
      "model_name": "FloatSliderModel",
      "state": {
       "_model_module_version": "~2.1.4",
       "_view_module_version": "~2.1.4",
       "description": "$-v_y / v_c$",
       "layout": "IPY_MODEL_834b187a28a84fcfbad57cf25d0de88e",
       "max": 2,
       "min": -2,
       "step": 0.01,
       "value": -1.06
      }
     },
     "ad785cc986694f49900981bae573a444": {
      "model_module": "jupyter-js-widgets",
      "model_module_version": "~2.1.4",
      "model_name": "LayoutModel",
      "state": {
       "_model_module_version": "~2.1.4",
       "_view_module_version": "~2.1.4"
      }
     },
     "ad8095b8304e4819b8257d05a4264db0": {
      "model_module": "jupyter-js-widgets",
      "model_module_version": "~2.1.4",
      "model_name": "LayoutModel",
      "state": {
       "_model_module_version": "~2.1.4",
       "_view_module_version": "~2.1.4"
      }
     },
     "aeb58c3b248044c796740e7377195ab7": {
      "model_module": "jupyter-js-widgets",
      "model_module_version": "~2.1.4",
      "model_name": "FloatSliderModel",
      "state": {
       "_model_module_version": "~2.1.4",
       "_view_module_version": "~2.1.4",
       "description": "$-v_y / v_c$",
       "layout": "IPY_MODEL_757b570e33bd4324b3497f10d9488355",
       "max": 2,
       "min": -2,
       "step": 0.01,
       "value": 1
      }
     },
     "aef82d52c3d4415290740e9b28746950": {
      "model_module": "jupyter-js-widgets",
      "model_module_version": "~2.1.4",
      "model_name": "FloatSliderModel",
      "state": {
       "_model_module_version": "~2.1.4",
       "_view_module_version": "~2.1.4",
       "description": "$-r_x / 1$ $AU$",
       "layout": "IPY_MODEL_3007b351490d4327b331d1e50bbf3a83",
       "max": 2,
       "min": 0.1,
       "step": 0.01,
       "value": 1
      }
     },
     "af682254f5f64530b2abeaa84749e6b6": {
      "model_module": "jupyter-js-widgets",
      "model_module_version": "~2.1.4",
      "model_name": "LayoutModel",
      "state": {
       "_model_module_version": "~2.1.4",
       "_view_module_version": "~2.1.4"
      }
     },
     "af7437663f104649bea9c8f1506ed04b": {
      "model_module": "jupyter-js-widgets",
      "model_module_version": "~2.1.4",
      "model_name": "LayoutModel",
      "state": {
       "_model_module_version": "~2.1.4",
       "_view_module_version": "~2.1.4",
       "display": "inline-flex",
       "flex_flow": "row wrap",
       "justify_content": "flex-start"
      }
     },
     "af9f3eb1a25743e0a80d0a034634bdf4": {
      "model_module": "jupyter-js-widgets",
      "model_module_version": "~2.1.4",
      "model_name": "FloatSliderModel",
      "state": {
       "_model_module_version": "~2.1.4",
       "_view_module_version": "~2.1.4",
       "description": "$-r_x / 1$ $AU$",
       "layout": "IPY_MODEL_b62b1a10797742ecae2c022031759d7a",
       "max": 2,
       "min": 0.1,
       "step": 0.01,
       "value": 1.02
      }
     },
     "aff78c1dbfa444b690339c26fca9ee74": {
      "model_module": "jupyter-js-widgets",
      "model_module_version": "~2.1.4",
      "model_name": "OutputModel",
      "state": {
       "_dom_classes": [],
       "_model_module": "jupyter-js-widgets",
       "_model_module_version": "~2.1.4",
       "_view_module": "jupyter-js-widgets",
       "_view_module_version": "~2.1.4",
       "layout": "IPY_MODEL_38fe71493dab4f64b8bcf5eabaf086a4",
       "msg_throttle": 1
      }
     },
     "b08fa8286dad4ce69a2753f3368ba0e3": {
      "model_module": "jupyter-js-widgets",
      "model_module_version": "~2.1.4",
      "model_name": "LayoutModel",
      "state": {
       "_model_module_version": "~2.1.4",
       "_view_module_version": "~2.1.4"
      }
     },
     "b1bdef3ed5f643f999cf4d48501d812e": {
      "model_module": "jupyter-js-widgets",
      "model_module_version": "~2.1.4",
      "model_name": "LayoutModel",
      "state": {
       "_model_module_version": "~2.1.4",
       "_view_module_version": "~2.1.4"
      }
     },
     "b275588735f74c51a7c5739c6ceeed07": {
      "model_module": "jupyter-js-widgets",
      "model_module_version": "~2.1.4",
      "model_name": "LayoutModel",
      "state": {
       "_model_module_version": "~2.1.4",
       "_view_module_version": "~2.1.4",
       "display": "inline-flex",
       "flex_flow": "row wrap",
       "justify_content": "flex-start"
      }
     },
     "b2f5dd7f5b3949369b4e91650431e364": {
      "model_module": "jupyter-js-widgets",
      "model_module_version": "~2.1.4",
      "model_name": "LayoutModel",
      "state": {
       "_model_module_version": "~2.1.4",
       "_view_module_version": "~2.1.4"
      }
     },
     "b34f0cf298054e3bb1e7383d7450915e": {
      "model_module": "jupyter-js-widgets",
      "model_module_version": "~2.1.4",
      "model_name": "VBoxModel",
      "state": {
       "_dom_classes": [
        "widget-interact"
       ],
       "_model_module_version": "~2.1.4",
       "_view_module_version": "~2.1.4",
       "children": [
        "IPY_MODEL_01822ad9f18049d894dcbadc6d73e615",
        "IPY_MODEL_18a42571a372455e8ee8004575423aa5",
        "IPY_MODEL_4e530c59aaec441ba118485327ad548c",
        "IPY_MODEL_39c00e1123764133b0004d1da557f828",
        "IPY_MODEL_d24e17c5382c4bd380e6fd7696dcb3b5",
        "IPY_MODEL_ccafa2c5f6da43afb83d0c61f4213f4c"
       ],
       "layout": "IPY_MODEL_1f0e64b5bc85473592dd1840fee91fb2"
      }
     },
     "b378c75b25754862aad459c1802702b8": {
      "model_module": "jupyter-js-widgets",
      "model_module_version": "~2.1.4",
      "model_name": "OutputModel",
      "state": {
       "_dom_classes": [],
       "_model_module": "jupyter-js-widgets",
       "_model_module_version": "~2.1.4",
       "_view_module": "jupyter-js-widgets",
       "_view_module_version": "~2.1.4",
       "layout": "IPY_MODEL_7eda509d3ad145688e311949359e61cc",
       "msg_throttle": 1
      }
     },
     "b42ee0b5fc764e859b9a39156c911140": {
      "model_module": "jupyter-js-widgets",
      "model_module_version": "~2.1.4",
      "model_name": "LayoutModel",
      "state": {
       "_model_module_version": "~2.1.4",
       "_view_module_version": "~2.1.4"
      }
     },
     "b431f3927f60418d8f0aa77d8be059aa": {
      "model_module": "jupyter-js-widgets",
      "model_module_version": "~2.1.4",
      "model_name": "LayoutModel",
      "state": {
       "_model_module_version": "~2.1.4",
       "_view_module_version": "~2.1.4"
      }
     },
     "b4740fa3d0a242c4bdbf5493740f9372": {
      "model_module": "jupyter-js-widgets",
      "model_module_version": "~2.1.4",
      "model_name": "FloatSliderModel",
      "state": {
       "_model_module_version": "~2.1.4",
       "_view_module_version": "~2.1.4",
       "description": "$-r_x / 1$ $AU$",
       "layout": "IPY_MODEL_e1a3e88596e948aba35e593ef024cead",
       "max": 2,
       "min": 0.1,
       "step": 0.01,
       "value": 1
      }
     },
     "b4d3c1957f98499a882a6d87fe1ce2c9": {
      "model_module": "jupyter-js-widgets",
      "model_module_version": "~2.1.4",
      "model_name": "FloatSliderModel",
      "state": {
       "_model_module_version": "~2.1.4",
       "_view_module_version": "~2.1.4",
       "description": "$T$ / $1\\ year$",
       "layout": "IPY_MODEL_0e41ba8e74d041a48828c76fc95f0726",
       "max": 5,
       "min": 0.1,
       "step": 0.01,
       "value": 1
      }
     },
     "b50221f2d9914e14a0f6542f49ee56e0": {
      "model_module": "jupyter-js-widgets",
      "model_module_version": "~2.1.4",
      "model_name": "LayoutModel",
      "state": {
       "_model_module_version": "~2.1.4",
       "_view_module_version": "~2.1.4"
      }
     },
     "b516b775d0964fd48bf95667babc89af": {
      "model_module": "jupyter-js-widgets",
      "model_module_version": "~2.1.4",
      "model_name": "LayoutModel",
      "state": {
       "_model_module_version": "~2.1.4",
       "_view_module_version": "~2.1.4"
      }
     },
     "b518b84d12574018909ac2661632188a": {
      "model_module": "jupyter-js-widgets",
      "model_module_version": "~2.1.4",
      "model_name": "FloatSliderModel",
      "state": {
       "_model_module_version": "~2.1.4",
       "_view_module_version": "~2.1.4",
       "description": "$v_x / v_c$",
       "layout": "IPY_MODEL_c3c94bb4ab4a41b3b677ed11509291fc",
       "max": 2,
       "min": -2,
       "step": 0.01
      }
     },
     "b62b1a10797742ecae2c022031759d7a": {
      "model_module": "jupyter-js-widgets",
      "model_module_version": "~2.1.4",
      "model_name": "LayoutModel",
      "state": {
       "_model_module_version": "~2.1.4",
       "_view_module_version": "~2.1.4"
      }
     },
     "b899bee510a34e6fade9bbe71377f963": {
      "model_module": "jupyter-js-widgets",
      "model_module_version": "~2.1.4",
      "model_name": "LayoutModel",
      "state": {
       "_model_module_version": "~2.1.4",
       "_view_module_version": "~2.1.4",
       "display": "inline-flex",
       "flex_flow": "row wrap",
       "justify_content": "flex-start"
      }
     },
     "b8b6623c556b4bc29316395838c8f964": {
      "model_module": "jupyter-js-widgets",
      "model_module_version": "~2.1.4",
      "model_name": "LayoutModel",
      "state": {
       "_model_module_version": "~2.1.4",
       "_view_module_version": "~2.1.4"
      }
     },
     "b8ff9594df7e41fe8dcb0ecef07f5150": {
      "model_module": "jupyter-js-widgets",
      "model_module_version": "~2.1.4",
      "model_name": "VBoxModel",
      "state": {
       "_dom_classes": [
        "widget-interact"
       ],
       "_model_module_version": "~2.1.4",
       "_view_module_version": "~2.1.4",
       "children": [
        "IPY_MODEL_5f9c987f131e4088ab62382441e79875",
        "IPY_MODEL_61c7473bb70e451a9897f6a70a4a39ed",
        "IPY_MODEL_141308e5b7d446ab81dd070088932b6a",
        "IPY_MODEL_5e5adabc287042a8b7f07b2fc565b154",
        "IPY_MODEL_e88a2dba21214a8bbeb46414bc91943f",
        "IPY_MODEL_704be43d39b54f5185ba44544f2c291d"
       ],
       "layout": "IPY_MODEL_82f4adc8fefe445598d86d1dfea30695"
      }
     },
     "b9d2112f40b04d5e83453bda595673fa": {
      "model_module": "jupyter-js-widgets",
      "model_module_version": "~2.1.4",
      "model_name": "LayoutModel",
      "state": {
       "_model_module_version": "~2.1.4",
       "_view_module_version": "~2.1.4"
      }
     },
     "b9dbad2150ba4a7897baeb5cc70d5602": {
      "model_module": "jupyter-js-widgets",
      "model_module_version": "~2.1.4",
      "model_name": "FloatSliderModel",
      "state": {
       "_model_module_version": "~2.1.4",
       "_view_module_version": "~2.1.4",
       "description": "$-r_x / 1$ $AU$",
       "layout": "IPY_MODEL_66947ed58b3446fe81a5838e5e6209c7",
       "max": 2,
       "min": 0.1,
       "step": 0.01,
       "value": 0.75
      }
     },
     "ba5cb4c657bb40f9b7fb3c50fafd5bd1": {
      "model_module": "jupyter-js-widgets",
      "model_module_version": "~2.1.4",
      "model_name": "FloatSliderModel",
      "state": {
       "_model_module_version": "~2.1.4",
       "_view_module_version": "~2.1.4",
       "description": "$T$ / $1\\ year$",
       "layout": "IPY_MODEL_80a6bce18d7c4b48b4dd077c32a379c3",
       "max": 5,
       "min": 0.1,
       "step": 0.01,
       "value": 1
      }
     },
     "ba8b9d67e87f40668858fbd953a46259": {
      "model_module": "jupyter-js-widgets",
      "model_module_version": "~2.1.4",
      "model_name": "FloatSliderModel",
      "state": {
       "_model_module_version": "~2.1.4",
       "_view_module_version": "~2.1.4",
       "description": "$v_x / v_c$",
       "layout": "IPY_MODEL_e2751648ea9e4d68aaf650d84b819b86",
       "max": 2,
       "min": -2,
       "step": 0.01
      }
     },
     "babd389a615b4171af210f75f576fb7c": {
      "model_module": "jupyter-js-widgets",
      "model_module_version": "~2.1.4",
      "model_name": "LayoutModel",
      "state": {
       "_model_module_version": "~2.1.4",
       "_view_module_version": "~2.1.4"
      }
     },
     "baf6c04de64c426da135f75511183a94": {
      "model_module": "jupyter-js-widgets",
      "model_module_version": "~2.1.4",
      "model_name": "LayoutModel",
      "state": {
       "_model_module_version": "~2.1.4",
       "_view_module_version": "~2.1.4"
      }
     },
     "bb13d3895fdf49e79e44b394f4fada4d": {
      "model_module": "jupyter-js-widgets",
      "model_module_version": "~2.1.4",
      "model_name": "LayoutModel",
      "state": {
       "_model_module_version": "~2.1.4",
       "_view_module_version": "~2.1.4"
      }
     },
     "bb44561505414ea0a761361293914a2f": {
      "model_module": "jupyter-js-widgets",
      "model_module_version": "~2.1.4",
      "model_name": "LayoutModel",
      "state": {
       "_model_module_version": "~2.1.4",
       "_view_module_version": "~2.1.4"
      }
     },
     "bc4c006c0380401aa6ae97654121a36a": {
      "model_module": "jupyter-js-widgets",
      "model_module_version": "~2.1.4",
      "model_name": "LayoutModel",
      "state": {
       "_model_module_version": "~2.1.4",
       "_view_module_version": "~2.1.4"
      }
     },
     "bd00094ac4204e80839ea6b0b12ace59": {
      "model_module": "jupyter-js-widgets",
      "model_module_version": "~2.1.4",
      "model_name": "LayoutModel",
      "state": {
       "_model_module_version": "~2.1.4",
       "_view_module_version": "~2.1.4"
      }
     },
     "bd7a5f6ec756421983d921d330f149b7": {
      "model_module": "jupyter-js-widgets",
      "model_module_version": "~2.1.4",
      "model_name": "LayoutModel",
      "state": {
       "_model_module_version": "~2.1.4",
       "_view_module_version": "~2.1.4"
      }
     },
     "bda13c2fd3454f32be363f552664e33a": {
      "model_module": "jupyter-js-widgets",
      "model_module_version": "~2.1.4",
      "model_name": "LayoutModel",
      "state": {
       "_model_module_version": "~2.1.4",
       "_view_module_version": "~2.1.4"
      }
     },
     "be4fb56df6ef4cb4acfd7681afa2bf30": {
      "model_module": "jupyter-js-widgets",
      "model_module_version": "~2.1.4",
      "model_name": "LayoutModel",
      "state": {
       "_model_module_version": "~2.1.4",
       "_view_module_version": "~2.1.4"
      }
     },
     "be6024f89a3848e1ac3bf0f898a174d6": {
      "model_module": "jupyter-js-widgets",
      "model_module_version": "~2.1.4",
      "model_name": "OutputModel",
      "state": {
       "_dom_classes": [],
       "_model_module": "jupyter-js-widgets",
       "_model_module_version": "~2.1.4",
       "_view_module": "jupyter-js-widgets",
       "_view_module_version": "~2.1.4",
       "layout": "IPY_MODEL_8846bd75a3aa48eb8299597831317605",
       "msg_throttle": 1
      }
     },
     "be79ed786aec4828a69b203f66901b48": {
      "model_module": "jupyter-js-widgets",
      "model_module_version": "~2.1.4",
      "model_name": "LayoutModel",
      "state": {
       "_model_module_version": "~2.1.4",
       "_view_module_version": "~2.1.4"
      }
     },
     "bf035584b596447e9e93dee96e409d35": {
      "model_module": "jupyter-js-widgets",
      "model_module_version": "~2.1.4",
      "model_name": "VBoxModel",
      "state": {
       "_dom_classes": [
        "widget-interact"
       ],
       "_model_module_version": "~2.1.4",
       "_view_module_version": "~2.1.4",
       "children": [
        "IPY_MODEL_17fc145a2e1843f781e54871cfb7f4e0",
        "IPY_MODEL_b518b84d12574018909ac2661632188a",
        "IPY_MODEL_76718267f63848b8ac939c9a465857c0",
        "IPY_MODEL_c3df81d56e0841218d0b043650c2bebb",
        "IPY_MODEL_7998486ee1b742d09cf84bf37232f7c0",
        "IPY_MODEL_fbbbf346e3ee42c0a87d4d2f4f4e73ed"
       ],
       "layout": "IPY_MODEL_e9ba675954bd43c990a414e6d2ec3043"
      }
     },
     "c0e99ceca08e403eab18597e6ca535d9": {
      "model_module": "jupyter-js-widgets",
      "model_module_version": "~2.1.4",
      "model_name": "FloatSliderModel",
      "state": {
       "_model_module_version": "~2.1.4",
       "_view_module_version": "~2.1.4",
       "description": "$T$ / $1\\ year$",
       "layout": "IPY_MODEL_9cff98bec6e34513a472521d1ab720bd",
       "max": 5,
       "min": 0.1,
       "step": 0.01,
       "value": 1
      }
     },
     "c153e4f3bc5e48c9b17e46d6723f92bf": {
      "model_module": "jupyter-js-widgets",
      "model_module_version": "~2.1.4",
      "model_name": "LayoutModel",
      "state": {
       "_model_module_version": "~2.1.4",
       "_view_module_version": "~2.1.4",
       "display": "inline-flex",
       "flex_flow": "row wrap",
       "justify_content": "flex-start"
      }
     },
     "c1cf1298919c4650b34fe6c1484cc470": {
      "model_module": "jupyter-js-widgets",
      "model_module_version": "~2.1.4",
      "model_name": "FloatSliderModel",
      "state": {
       "_model_module_version": "~2.1.4",
       "_view_module_version": "~2.1.4",
       "description": "$T$ / $1\\ year$",
       "layout": "IPY_MODEL_319a50a777fb46248e1720b0949595fa",
       "max": 5,
       "min": 0.1,
       "step": 0.01,
       "value": 1
      }
     },
     "c23d369b8e2e4fe581095a4b808131a8": {
      "model_module": "jupyter-js-widgets",
      "model_module_version": "~2.1.4",
      "model_name": "LayoutModel",
      "state": {
       "_model_module_version": "~2.1.4",
       "_view_module_version": "~2.1.4"
      }
     },
     "c268aa5dd48a463faa06672fb3e49491": {
      "model_module": "jupyter-js-widgets",
      "model_module_version": "~2.1.4",
      "model_name": "LayoutModel",
      "state": {
       "_model_module_version": "~2.1.4",
       "_view_module_version": "~2.1.4"
      }
     },
     "c359b098c8e74447ab4840e3bbb077a5": {
      "model_module": "jupyter-js-widgets",
      "model_module_version": "~2.1.4",
      "model_name": "VBoxModel",
      "state": {
       "_dom_classes": [
        "widget-interact"
       ],
       "_model_module_version": "~2.1.4",
       "_view_module_version": "~2.1.4",
       "children": [
        "IPY_MODEL_41bd0e78108c432285a55ba3ed73fcd6",
        "IPY_MODEL_7d8a001e75a640aebfd629b1f813a38c",
        "IPY_MODEL_142d938f26e34bbb9adb837d39ba4824",
        "IPY_MODEL_901a46adde0b43c8bb76de8259ebc22b",
        "IPY_MODEL_8b8ee1f566504bdb96e6a2cdba925e84",
        "IPY_MODEL_38e66f1aa47e4821956127bdb6b74ae4"
       ],
       "layout": "IPY_MODEL_24260ed243d443528c458f59b2b01bbe"
      }
     },
     "c3c94bb4ab4a41b3b677ed11509291fc": {
      "model_module": "jupyter-js-widgets",
      "model_module_version": "~2.1.4",
      "model_name": "LayoutModel",
      "state": {
       "_model_module_version": "~2.1.4",
       "_view_module_version": "~2.1.4"
      }
     },
     "c3df81d56e0841218d0b043650c2bebb": {
      "model_module": "jupyter-js-widgets",
      "model_module_version": "~2.1.4",
      "model_name": "FloatSliderModel",
      "state": {
       "_model_module_version": "~2.1.4",
       "_view_module_version": "~2.1.4",
       "description": "$T$ / $1\\ year$",
       "layout": "IPY_MODEL_bd00094ac4204e80839ea6b0b12ace59",
       "max": 5,
       "min": 0.1,
       "step": 0.01,
       "value": 1
      }
     },
     "c5870e3983554f03be2b65afdfd75273": {
      "model_module": "jupyter-js-widgets",
      "model_module_version": "~2.1.4",
      "model_name": "LayoutModel",
      "state": {
       "_model_module_version": "~2.1.4",
       "_view_module_version": "~2.1.4"
      }
     },
     "c58f67b849c44a94a80c490c048d9825": {
      "model_module": "jupyter-js-widgets",
      "model_module_version": "~2.1.4",
      "model_name": "FloatSliderModel",
      "state": {
       "_model_module_version": "~2.1.4",
       "_view_module_version": "~2.1.4",
       "description": "$T$ / $1\\ year$",
       "layout": "IPY_MODEL_1c350460f3ff4f50a1bd1dfd0627c470",
       "max": 5,
       "min": 0.1,
       "step": 0.01,
       "value": 2.66
      }
     },
     "c59da8a263ab42939d63b94f60185ff0": {
      "model_module": "jupyter-js-widgets",
      "model_module_version": "~2.1.4",
      "model_name": "LayoutModel",
      "state": {
       "_model_module_version": "~2.1.4",
       "_view_module_version": "~2.1.4"
      }
     },
     "c5e651b3b5cd4bfb8774a595a06d8330": {
      "model_module": "jupyter-js-widgets",
      "model_module_version": "~2.1.4",
      "model_name": "LayoutModel",
      "state": {
       "_model_module_version": "~2.1.4",
       "_view_module_version": "~2.1.4"
      }
     },
     "c6e6b64f87fe4ac7b37bb8ee9c681ac1": {
      "model_module": "jupyter-js-widgets",
      "model_module_version": "~2.1.4",
      "model_name": "LayoutModel",
      "state": {
       "_model_module_version": "~2.1.4",
       "_view_module_version": "~2.1.4",
       "display": "inline-flex",
       "flex_flow": "row wrap",
       "justify_content": "flex-start"
      }
     },
     "c7251307491f4e738a64f8e95bcae47d": {
      "model_module": "jupyter-js-widgets",
      "model_module_version": "~2.1.4",
      "model_name": "LayoutModel",
      "state": {
       "_model_module_version": "~2.1.4",
       "_view_module_version": "~2.1.4"
      }
     },
     "c7c56b8509584bd2b665a1a5a1567e72": {
      "model_module": "jupyter-js-widgets",
      "model_module_version": "~2.1.4",
      "model_name": "LayoutModel",
      "state": {
       "_model_module_version": "~2.1.4",
       "_view_module_version": "~2.1.4"
      }
     },
     "c8a68cce9b904b648451e6b486eed6b7": {
      "model_module": "jupyter-js-widgets",
      "model_module_version": "~2.1.4",
      "model_name": "FloatSliderModel",
      "state": {
       "_model_module_version": "~2.1.4",
       "_view_module_version": "~2.1.4",
       "description": "$-v_y / v_c$",
       "layout": "IPY_MODEL_6b6559b07f294f1eb774d0ae77256748",
       "max": 2,
       "min": -2,
       "step": 0.01,
       "value": 1
      }
     },
     "c8bf3ca0d47844829b2da5019077f475": {
      "model_module": "jupyter-js-widgets",
      "model_module_version": "~2.1.4",
      "model_name": "FloatSliderModel",
      "state": {
       "_model_module_version": "~2.1.4",
       "_view_module_version": "~2.1.4",
       "description": "$f\\ \\left(dt = 10^f \\cdot r_0 / v\\right)$",
       "layout": "IPY_MODEL_fd575fcffaf546c2acf74ee79ca751e5",
       "max": 2,
       "min": -3,
       "value": -2
      }
     },
     "c8cea670e3dc442e8e099dd7661d7c0a": {
      "model_module": "jupyter-js-widgets",
      "model_module_version": "~2.1.4",
      "model_name": "LayoutModel",
      "state": {
       "_model_module_version": "~2.1.4",
       "_view_module_version": "~2.1.4"
      }
     },
     "c9cd46e283bf45f7af88ac5daf459da1": {
      "model_module": "jupyter-js-widgets",
      "model_module_version": "~2.1.4",
      "model_name": "LayoutModel",
      "state": {
       "_model_module_version": "~2.1.4",
       "_view_module_version": "~2.1.4"
      }
     },
     "c9e73dcfd1bf48e28c2038b095cbb4e3": {
      "model_module": "jupyter-js-widgets",
      "model_module_version": "~2.1.4",
      "model_name": "VBoxModel",
      "state": {
       "_dom_classes": [
        "widget-interact"
       ],
       "_model_module_version": "~2.1.4",
       "_view_module_version": "~2.1.4",
       "children": [
        "IPY_MODEL_828db9b38b5f4c40889b4e4c61fbd867",
        "IPY_MODEL_8730e9d0962d4c92a91348541ef3fef2",
        "IPY_MODEL_4b65ac5f4e8a4cb5966b7a11436311ca",
        "IPY_MODEL_0d2ea3e7c066424bbbdd9e3e13de123a",
        "IPY_MODEL_50a6d533ca534e9ba810fe7b95e7680e",
        "IPY_MODEL_0672887186f4495dae14c1037475d21f"
       ],
       "layout": "IPY_MODEL_d8371dceccae4f1babc069a07eafa4fd"
      }
     },
     "cb2b6e9518424ce4a9f44005c4624854": {
      "model_module": "jupyter-js-widgets",
      "model_module_version": "~2.1.4",
      "model_name": "LayoutModel",
      "state": {
       "_model_module_version": "~2.1.4",
       "_view_module_version": "~2.1.4",
       "display": "inline-flex",
       "flex_flow": "row wrap",
       "justify_content": "flex-start"
      }
     },
     "cb680920a0a44a9e849dc9bf3385e084": {
      "model_module": "jupyter-js-widgets",
      "model_module_version": "~2.1.4",
      "model_name": "LayoutModel",
      "state": {
       "_model_module_version": "~2.1.4",
       "_view_module_version": "~2.1.4",
       "display": "inline-flex",
       "flex_flow": "row wrap",
       "justify_content": "flex-start"
      }
     },
     "ccafa2c5f6da43afb83d0c61f4213f4c": {
      "model_module": "jupyter-js-widgets",
      "model_module_version": "~2.1.4",
      "model_name": "OutputModel",
      "state": {
       "_dom_classes": [],
       "_model_module": "jupyter-js-widgets",
       "_model_module_version": "~2.1.4",
       "_view_module": "jupyter-js-widgets",
       "_view_module_version": "~2.1.4",
       "layout": "IPY_MODEL_2f47b13c3a004cc18c6612bc6b0914b0",
       "msg_throttle": 1
      }
     },
     "cd26bada379041c08f57a2c1eedf8493": {
      "model_module": "jupyter-js-widgets",
      "model_module_version": "~2.1.4",
      "model_name": "LayoutModel",
      "state": {
       "_model_module_version": "~2.1.4",
       "_view_module_version": "~2.1.4",
       "display": "inline-flex",
       "flex_flow": "row wrap",
       "justify_content": "flex-start"
      }
     },
     "cd2cfe7fe1bd441b87cc8aa51c02fbda": {
      "model_module": "jupyter-js-widgets",
      "model_module_version": "~2.1.4",
      "model_name": "VBoxModel",
      "state": {
       "_dom_classes": [
        "widget-interact"
       ],
       "_model_module_version": "~2.1.4",
       "_view_module_version": "~2.1.4",
       "children": [
        "IPY_MODEL_3ed8e3fdba244c28968ab9db56196156",
        "IPY_MODEL_d34bf10110954e79be61bf70af786729",
        "IPY_MODEL_003edfcfd28c44578e9adbb06bbe702e",
        "IPY_MODEL_1a217c4e44dd4c06b3965ff551669b8d",
        "IPY_MODEL_60124596f93f4aaf89b7a045b46a8d09",
        "IPY_MODEL_94423b0ebc224ce38ad1f5419a3ad168"
       ],
       "layout": "IPY_MODEL_e6c92f77f2264eb39bb03a3ebea2a36f"
      }
     },
     "cd3abe6b33cc4295a6511723c208416f": {
      "model_module": "jupyter-js-widgets",
      "model_module_version": "~2.1.4",
      "model_name": "LayoutModel",
      "state": {
       "_model_module_version": "~2.1.4",
       "_view_module_version": "~2.1.4"
      }
     },
     "cd65ec9d27374f188e3bc042d55dc995": {
      "model_module": "jupyter-js-widgets",
      "model_module_version": "~2.1.4",
      "model_name": "LayoutModel",
      "state": {
       "_model_module_version": "~2.1.4",
       "_view_module_version": "~2.1.4"
      }
     },
     "ce6e8783c502459e9b62c6d810b496b8": {
      "model_module": "jupyter-js-widgets",
      "model_module_version": "~2.1.4",
      "model_name": "LayoutModel",
      "state": {
       "_model_module_version": "~2.1.4",
       "_view_module_version": "~2.1.4"
      }
     },
     "ceb071156fe945c9ad54999399c4dbe3": {
      "model_module": "jupyter-js-widgets",
      "model_module_version": "~2.1.4",
      "model_name": "LayoutModel",
      "state": {
       "_model_module_version": "~2.1.4",
       "_view_module_version": "~2.1.4"
      }
     },
     "cf93a3dbd9764c60b820bdf42bc90ee1": {
      "model_module": "jupyter-js-widgets",
      "model_module_version": "~2.1.4",
      "model_name": "LayoutModel",
      "state": {
       "_model_module_version": "~2.1.4",
       "_view_module_version": "~2.1.4"
      }
     },
     "cf9635010aba4b8eb641e98c8273e6cd": {
      "model_module": "jupyter-js-widgets",
      "model_module_version": "~2.1.4",
      "model_name": "LayoutModel",
      "state": {
       "_model_module_version": "~2.1.4",
       "_view_module_version": "~2.1.4"
      }
     },
     "d0070cd48c934a44a8d7db245d606a6e": {
      "model_module": "jupyter-js-widgets",
      "model_module_version": "~2.1.4",
      "model_name": "LayoutModel",
      "state": {
       "_model_module_version": "~2.1.4",
       "_view_module_version": "~2.1.4"
      }
     },
     "d04072ca8ee243af84d943fe71d22b11": {
      "model_module": "jupyter-js-widgets",
      "model_module_version": "~2.1.4",
      "model_name": "FloatSliderModel",
      "state": {
       "_model_module_version": "~2.1.4",
       "_view_module_version": "~2.1.4",
       "description": "$-r_x / 1$ $AU$",
       "layout": "IPY_MODEL_b50221f2d9914e14a0f6542f49ee56e0",
       "max": 2,
       "min": 0.1,
       "step": 0.01,
       "value": 1
      }
     },
     "d14559d2deb64a4eb1621236df932f57": {
      "model_module": "jupyter-js-widgets",
      "model_module_version": "~2.1.4",
      "model_name": "LayoutModel",
      "state": {
       "_model_module_version": "~2.1.4",
       "_view_module_version": "~2.1.4"
      }
     },
     "d24e17c5382c4bd380e6fd7696dcb3b5": {
      "model_module": "jupyter-js-widgets",
      "model_module_version": "~2.1.4",
      "model_name": "FloatSliderModel",
      "state": {
       "_model_module_version": "~2.1.4",
       "_view_module_version": "~2.1.4",
       "description": "$f\\ \\left(dt = 10^f \\cdot r_0 / v\\right)$",
       "layout": "IPY_MODEL_c59da8a263ab42939d63b94f60185ff0",
       "max": 2,
       "min": -3,
       "value": -2
      }
     },
     "d2984839c46f4c81b0f1682bcb18c946": {
      "model_module": "jupyter-js-widgets",
      "model_module_version": "~2.1.4",
      "model_name": "OutputModel",
      "state": {
       "_dom_classes": [],
       "_model_module": "jupyter-js-widgets",
       "_model_module_version": "~2.1.4",
       "_view_module": "jupyter-js-widgets",
       "_view_module_version": "~2.1.4",
       "layout": "IPY_MODEL_b431f3927f60418d8f0aa77d8be059aa",
       "msg_throttle": 1
      }
     },
     "d29c67d467a948c1ae548f57360d2f86": {
      "model_module": "jupyter-js-widgets",
      "model_module_version": "~2.1.4",
      "model_name": "FloatSliderModel",
      "state": {
       "_model_module_version": "~2.1.4",
       "_view_module_version": "~2.1.4",
       "description": "$f\\ \\left(dt = 10^f \\cdot x_0 / v\\right)$",
       "layout": "IPY_MODEL_3f04a6cfaed44b57a71d377ac7f58af5",
       "max": 2,
       "min": -3,
       "value": -2
      }
     },
     "d2f8aa49bb124ef199541c1ebaf4b584": {
      "model_module": "jupyter-js-widgets",
      "model_module_version": "~2.1.4",
      "model_name": "LayoutModel",
      "state": {
       "_model_module_version": "~2.1.4",
       "_view_module_version": "~2.1.4"
      }
     },
     "d34bf10110954e79be61bf70af786729": {
      "model_module": "jupyter-js-widgets",
      "model_module_version": "~2.1.4",
      "model_name": "FloatSliderModel",
      "state": {
       "_model_module_version": "~2.1.4",
       "_view_module_version": "~2.1.4",
       "description": "$v_x / v_c$",
       "layout": "IPY_MODEL_5e28489ff9af49b7a1cefbad222434ec",
       "max": 2,
       "min": -2,
       "step": 0.01
      }
     },
     "d3b22afedbfc4c89974267a15c49ba53": {
      "model_module": "jupyter-js-widgets",
      "model_module_version": "~2.1.4",
      "model_name": "FloatSliderModel",
      "state": {
       "_model_module_version": "~2.1.4",
       "_view_module_version": "~2.1.4",
       "description": "$f\\ \\left(dt = 10^f \\cdot x_0 / v\\right)$",
       "layout": "IPY_MODEL_846e72eb3ea34cb99c5299a90e220890",
       "max": 2,
       "min": -3,
       "value": -2
      }
     },
     "d407368a1e8f4c6bbacd300c59cbd931": {
      "model_module": "jupyter-js-widgets",
      "model_module_version": "~2.1.4",
      "model_name": "FloatSliderModel",
      "state": {
       "_model_module_version": "~2.1.4",
       "_view_module_version": "~2.1.4",
       "description": "$f\\ \\left(dt = 10^f \\cdot r_0 / v\\right)$",
       "layout": "IPY_MODEL_1839f14130cb4c8b9c687e58583ee56a",
       "max": 2,
       "min": -3,
       "value": -2
      }
     },
     "d4292a9e70ea468ab8ed79ddbdf9b98d": {
      "model_module": "jupyter-js-widgets",
      "model_module_version": "~2.1.4",
      "model_name": "OutputModel",
      "state": {
       "_dom_classes": [],
       "_model_module": "jupyter-js-widgets",
       "_model_module_version": "~2.1.4",
       "_view_module": "jupyter-js-widgets",
       "_view_module_version": "~2.1.4",
       "layout": "IPY_MODEL_a9746f91725b4ed68ae9136be921310a",
       "msg_throttle": 1
      }
     },
     "d44ac5e2a60a43d9b66bbbb602da94e6": {
      "model_module": "jupyter-js-widgets",
      "model_module_version": "~2.1.4",
      "model_name": "LayoutModel",
      "state": {
       "_model_module_version": "~2.1.4",
       "_view_module_version": "~2.1.4"
      }
     },
     "d44e16c95d9546d3835d8ffbff961884": {
      "model_module": "jupyter-js-widgets",
      "model_module_version": "~2.1.4",
      "model_name": "LayoutModel",
      "state": {
       "_model_module_version": "~2.1.4",
       "_view_module_version": "~2.1.4"
      }
     },
     "d465ef7bc60f4b50bb5845b1a6c46ae1": {
      "model_module": "jupyter-js-widgets",
      "model_module_version": "~2.1.4",
      "model_name": "LayoutModel",
      "state": {
       "_model_module_version": "~2.1.4",
       "_view_module_version": "~2.1.4",
       "display": "inline-flex",
       "flex_flow": "row wrap",
       "justify_content": "flex-start"
      }
     },
     "d5d5ca51f46e4482b668c3f78d6378d1": {
      "model_module": "jupyter-js-widgets",
      "model_module_version": "~2.1.4",
      "model_name": "FloatSliderModel",
      "state": {
       "_model_module_version": "~2.1.4",
       "_view_module_version": "~2.1.4",
       "description": "$f\\ \\left(dt = 10^f \\cdot r_0 / v\\right)$",
       "layout": "IPY_MODEL_266c3f90944c48e6bb2af50cdf6244de",
       "max": 2,
       "min": -3,
       "value": -2
      }
     },
     "d5f18e680ca14873bd41d4944525d0d6": {
      "model_module": "jupyter-js-widgets",
      "model_module_version": "~2.1.4",
      "model_name": "LayoutModel",
      "state": {
       "_model_module_version": "~2.1.4",
       "_view_module_version": "~2.1.4"
      }
     },
     "d5f8e78c5a1742a38ff03406b830d0a4": {
      "model_module": "jupyter-js-widgets",
      "model_module_version": "~2.1.4",
      "model_name": "LayoutModel",
      "state": {
       "_model_module_version": "~2.1.4",
       "_view_module_version": "~2.1.4",
       "display": "inline-flex",
       "flex_flow": "row wrap",
       "justify_content": "flex-start"
      }
     },
     "d602147e6b754574ba6fa3deb5cc21f1": {
      "model_module": "jupyter-js-widgets",
      "model_module_version": "~2.1.4",
      "model_name": "LayoutModel",
      "state": {
       "_model_module_version": "~2.1.4",
       "_view_module_version": "~2.1.4",
       "display": "inline-flex",
       "flex_flow": "row wrap",
       "justify_content": "flex-start"
      }
     },
     "d64a9fe7a44640af896aac5b7e5bf1a8": {
      "model_module": "jupyter-js-widgets",
      "model_module_version": "~2.1.4",
      "model_name": "LayoutModel",
      "state": {
       "_model_module_version": "~2.1.4",
       "_view_module_version": "~2.1.4"
      }
     },
     "d7d36d1edf604af0acb6f49699d7a008": {
      "model_module": "jupyter-js-widgets",
      "model_module_version": "~2.1.4",
      "model_name": "LayoutModel",
      "state": {
       "_model_module_version": "~2.1.4",
       "_view_module_version": "~2.1.4"
      }
     },
     "d7d42b29da614eec9ad6ad8471b5c037": {
      "model_module": "jupyter-js-widgets",
      "model_module_version": "~2.1.4",
      "model_name": "LayoutModel",
      "state": {
       "_model_module_version": "~2.1.4",
       "_view_module_version": "~2.1.4"
      }
     },
     "d8371dceccae4f1babc069a07eafa4fd": {
      "model_module": "jupyter-js-widgets",
      "model_module_version": "~2.1.4",
      "model_name": "LayoutModel",
      "state": {
       "_model_module_version": "~2.1.4",
       "_view_module_version": "~2.1.4",
       "display": "inline-flex",
       "flex_flow": "row wrap",
       "justify_content": "flex-start"
      }
     },
     "d876b29fce4c44d4bbb2e144d6314b6d": {
      "model_module": "jupyter-js-widgets",
      "model_module_version": "~2.1.4",
      "model_name": "FloatSliderModel",
      "state": {
       "_model_module_version": "~2.1.4",
       "_view_module_version": "~2.1.4",
       "description": "$-v_y / v_c$",
       "layout": "IPY_MODEL_0f1ed8b08ab64d5b888700fca0b7f422",
       "max": 2,
       "min": -2,
       "step": 0.01,
       "value": 1
      }
     },
     "d87eda43e7954d039a5321b3062a7f09": {
      "model_module": "jupyter-js-widgets",
      "model_module_version": "~2.1.4",
      "model_name": "FloatSliderModel",
      "state": {
       "_model_module_version": "~2.1.4",
       "_view_module_version": "~2.1.4",
       "description": "$v_x / v_c$",
       "layout": "IPY_MODEL_e869c806e9024f85989bf4768915a49e",
       "max": 2,
       "min": -2,
       "step": 0.01
      }
     },
     "d8ff755fe1a54be082cd5004aab67a85": {
      "model_module": "jupyter-js-widgets",
      "model_module_version": "~2.1.4",
      "model_name": "LayoutModel",
      "state": {
       "_model_module_version": "~2.1.4",
       "_view_module_version": "~2.1.4",
       "display": "inline-flex",
       "flex_flow": "row wrap",
       "justify_content": "flex-start"
      }
     },
     "dac0c1e00fa542e989d7985d50b5dc70": {
      "model_module": "jupyter-js-widgets",
      "model_module_version": "~2.1.4",
      "model_name": "LayoutModel",
      "state": {
       "_model_module_version": "~2.1.4",
       "_view_module_version": "~2.1.4"
      }
     },
     "db07ffd42c7f4f5eb5ad21b0702d79e4": {
      "model_module": "jupyter-js-widgets",
      "model_module_version": "~2.1.4",
      "model_name": "FloatSliderModel",
      "state": {
       "_model_module_version": "~2.1.4",
       "_view_module_version": "~2.1.4",
       "description": "$-r_x / 1$ $AU$",
       "layout": "IPY_MODEL_08c00d9a0e1d49b5964d9911f9af16ce",
       "max": 2,
       "min": 0.1,
       "step": 0.01,
       "value": 1
      }
     },
     "ddc4ff5c40204f48996022d368fea416": {
      "model_module": "jupyter-js-widgets",
      "model_module_version": "~2.1.4",
      "model_name": "VBoxModel",
      "state": {
       "_dom_classes": [
        "widget-interact"
       ],
       "_model_module_version": "~2.1.4",
       "_view_module_version": "~2.1.4",
       "children": [
        "IPY_MODEL_8a2c61688cea45d0bf8b6c9e918b17a6",
        "IPY_MODEL_3a1a1ae490394390a3a6426adc4338f9",
        "IPY_MODEL_99f6cdf21a4e4da2ae06356ea9eb0bb1",
        "IPY_MODEL_ec33b4b67523444f9ba61ae8be7d49d6",
        "IPY_MODEL_7548959e10c04de191b468b2db1b0759",
        "IPY_MODEL_be6024f89a3848e1ac3bf0f898a174d6"
       ],
       "layout": "IPY_MODEL_01b1773d32d749d8a544be0be6d6e624"
      }
     },
     "df7a7d118d9542a284fbca605e5f7501": {
      "model_module": "jupyter-js-widgets",
      "model_module_version": "~2.1.4",
      "model_name": "VBoxModel",
      "state": {
       "_dom_classes": [
        "widget-interact"
       ],
       "_model_module_version": "~2.1.4",
       "_view_module_version": "~2.1.4",
       "children": [
        "IPY_MODEL_af9f3eb1a25743e0a80d0a034634bdf4",
        "IPY_MODEL_1dceeb519e6146ef9a02b45748589523",
        "IPY_MODEL_0558269abec445708d579f5b16fbb287",
        "IPY_MODEL_0e6df5fc81304652b8e931e8bd1da92a",
        "IPY_MODEL_28750fa4735d4c0b83bdf501edb6b062",
        "IPY_MODEL_21260cf0ce6048d4982942d7debba91b"
       ],
       "layout": "IPY_MODEL_74a380a61f134ebc9d16768ea859ae38"
      }
     },
     "e001da65749c4df68ede83586a809498": {
      "model_module": "jupyter-js-widgets",
      "model_module_version": "~2.1.4",
      "model_name": "LayoutModel",
      "state": {
       "_model_module_version": "~2.1.4",
       "_view_module_version": "~2.1.4"
      }
     },
     "e1435175d37d48eaa7636bb314dd2a80": {
      "model_module": "jupyter-js-widgets",
      "model_module_version": "~2.1.4",
      "model_name": "LayoutModel",
      "state": {
       "_model_module_version": "~2.1.4",
       "_view_module_version": "~2.1.4"
      }
     },
     "e15f52efdeeb441bbcfdc6013c8d9304": {
      "model_module": "jupyter-js-widgets",
      "model_module_version": "~2.1.4",
      "model_name": "LayoutModel",
      "state": {
       "_model_module_version": "~2.1.4",
       "_view_module_version": "~2.1.4",
       "display": "inline-flex",
       "flex_flow": "row wrap",
       "justify_content": "flex-start"
      }
     },
     "e1a3e88596e948aba35e593ef024cead": {
      "model_module": "jupyter-js-widgets",
      "model_module_version": "~2.1.4",
      "model_name": "LayoutModel",
      "state": {
       "_model_module_version": "~2.1.4",
       "_view_module_version": "~2.1.4"
      }
     },
     "e2751648ea9e4d68aaf650d84b819b86": {
      "model_module": "jupyter-js-widgets",
      "model_module_version": "~2.1.4",
      "model_name": "LayoutModel",
      "state": {
       "_model_module_version": "~2.1.4",
       "_view_module_version": "~2.1.4"
      }
     },
     "e2acd18c07b447c7b68da1f4951772f5": {
      "model_module": "jupyter-js-widgets",
      "model_module_version": "~2.1.4",
      "model_name": "FloatSliderModel",
      "state": {
       "_model_module_version": "~2.1.4",
       "_view_module_version": "~2.1.4",
       "description": "$f\\ \\left(dt = 10^f \\cdot x_0 / v\\right)$",
       "layout": "IPY_MODEL_b2f5dd7f5b3949369b4e91650431e364",
       "max": 2,
       "min": -3,
       "value": -1
      }
     },
     "e33faa89a09b412f9f0a665142f1e8b4": {
      "model_module": "jupyter-js-widgets",
      "model_module_version": "~2.1.4",
      "model_name": "LayoutModel",
      "state": {
       "_model_module_version": "~2.1.4",
       "_view_module_version": "~2.1.4"
      }
     },
     "e392c78b63284d37be7cff6f6f44b157": {
      "model_module": "jupyter-js-widgets",
      "model_module_version": "~2.1.4",
      "model_name": "OutputModel",
      "state": {
       "_dom_classes": [],
       "_model_module": "jupyter-js-widgets",
       "_model_module_version": "~2.1.4",
       "_view_module": "jupyter-js-widgets",
       "_view_module_version": "~2.1.4",
       "layout": "IPY_MODEL_baf6c04de64c426da135f75511183a94",
       "msg_throttle": 1
      }
     },
     "e48507dd23fd4e37bae9899046256863": {
      "model_module": "jupyter-js-widgets",
      "model_module_version": "~2.1.4",
      "model_name": "LayoutModel",
      "state": {
       "_model_module_version": "~2.1.4",
       "_view_module_version": "~2.1.4"
      }
     },
     "e559af30748e488fa9a82f3ae02a059a": {
      "model_module": "jupyter-js-widgets",
      "model_module_version": "~2.1.4",
      "model_name": "FloatSliderModel",
      "state": {
       "_model_module_version": "~2.1.4",
       "_view_module_version": "~2.1.4",
       "description": "$T$ / $1\\ year$",
       "layout": "IPY_MODEL_601cd926926344e19dc4ab7e4d5fdb02",
       "max": 5,
       "min": 0.1,
       "step": 0.01,
       "value": 1
      }
     },
     "e592daeb6bc34d4cae7f4f4b6b353777": {
      "model_module": "jupyter-js-widgets",
      "model_module_version": "~2.1.4",
      "model_name": "LayoutModel",
      "state": {
       "_model_module_version": "~2.1.4",
       "_view_module_version": "~2.1.4",
       "display": "inline-flex",
       "flex_flow": "row wrap",
       "justify_content": "flex-start"
      }
     },
     "e5bb0b5591c64d0b8d20473026633938": {
      "model_module": "jupyter-js-widgets",
      "model_module_version": "~2.1.4",
      "model_name": "LayoutModel",
      "state": {
       "_model_module_version": "~2.1.4",
       "_view_module_version": "~2.1.4"
      }
     },
     "e69e75379dbb47779993a5a07dc76a85": {
      "model_module": "jupyter-js-widgets",
      "model_module_version": "~2.1.4",
      "model_name": "FloatSliderModel",
      "state": {
       "_model_module_version": "~2.1.4",
       "_view_module_version": "~2.1.4",
       "description": "$T$ / $1\\ year$",
       "layout": "IPY_MODEL_fce6668277a74929ab9ec5fbaa00b538",
       "max": 5,
       "min": 0.1,
       "step": 0.01,
       "value": 0.96
      }
     },
     "e6b2f1c9c92844c2ab601e2c5b77e725": {
      "model_module": "jupyter-js-widgets",
      "model_module_version": "~2.1.4",
      "model_name": "LayoutModel",
      "state": {
       "_model_module_version": "~2.1.4",
       "_view_module_version": "~2.1.4"
      }
     },
     "e6c92f77f2264eb39bb03a3ebea2a36f": {
      "model_module": "jupyter-js-widgets",
      "model_module_version": "~2.1.4",
      "model_name": "LayoutModel",
      "state": {
       "_model_module_version": "~2.1.4",
       "_view_module_version": "~2.1.4",
       "display": "inline-flex",
       "flex_flow": "row wrap",
       "justify_content": "flex-start"
      }
     },
     "e703ff07630f4312bfb7c107d901a2eb": {
      "model_module": "jupyter-js-widgets",
      "model_module_version": "~2.1.4",
      "model_name": "LayoutModel",
      "state": {
       "_model_module_version": "~2.1.4",
       "_view_module_version": "~2.1.4"
      }
     },
     "e78a988a74d34a75a9aa9d92e2660809": {
      "model_module": "jupyter-js-widgets",
      "model_module_version": "~2.1.4",
      "model_name": "VBoxModel",
      "state": {
       "_dom_classes": [
        "widget-interact"
       ],
       "_model_module_version": "~2.1.4",
       "_view_module_version": "~2.1.4",
       "children": [
        "IPY_MODEL_513af6753ada44c387c2f24220039924",
        "IPY_MODEL_57ce37a04cf844beaebfa23f51a6b682",
        "IPY_MODEL_a23d9278e37840a4b4642a417bf925bc",
        "IPY_MODEL_6acd7d81c0804d20bc17ab3f3a678591",
        "IPY_MODEL_7b696d0b042f497584a3c7f97dfd5445",
        "IPY_MODEL_850df3dbb2cf49819920d151c9d5b872"
       ],
       "layout": "IPY_MODEL_d465ef7bc60f4b50bb5845b1a6c46ae1"
      }
     },
     "e869c806e9024f85989bf4768915a49e": {
      "model_module": "jupyter-js-widgets",
      "model_module_version": "~2.1.4",
      "model_name": "LayoutModel",
      "state": {
       "_model_module_version": "~2.1.4",
       "_view_module_version": "~2.1.4"
      }
     },
     "e86ca36a68c0457088979f23cd81868e": {
      "model_module": "jupyter-js-widgets",
      "model_module_version": "~2.1.4",
      "model_name": "FloatSliderModel",
      "state": {
       "_model_module_version": "~2.1.4",
       "_view_module_version": "~2.1.4",
       "description": "$-r_x / 1$ $AU$",
       "layout": "IPY_MODEL_0804d5f071d548ecb777b62ce863554e",
       "max": 2,
       "min": 0.1,
       "step": 0.01,
       "value": 1
      }
     },
     "e88761f7a3724348b47c8bd77cf987ae": {
      "model_module": "jupyter-js-widgets",
      "model_module_version": "~2.1.4",
      "model_name": "FloatSliderModel",
      "state": {
       "_model_module_version": "~2.1.4",
       "_view_module_version": "~2.1.4",
       "description": "$T$ / $1\\ year$",
       "layout": "IPY_MODEL_7e64c86de0494a1c999de08ded19ee6b",
       "max": 5,
       "min": 0.1,
       "step": 0.01,
       "value": 1
      }
     },
     "e88a2dba21214a8bbeb46414bc91943f": {
      "model_module": "jupyter-js-widgets",
      "model_module_version": "~2.1.4",
      "model_name": "FloatSliderModel",
      "state": {
       "_model_module_version": "~2.1.4",
       "_view_module_version": "~2.1.4",
       "description": "$f\\ \\left(dt = 10^f \\cdot r_0 / v\\right)$",
       "layout": "IPY_MODEL_be79ed786aec4828a69b203f66901b48",
       "max": 2,
       "min": -3,
       "value": -2
      }
     },
     "e8a7a63a1494442e8240a69f7f8da322": {
      "model_module": "jupyter-js-widgets",
      "model_module_version": "~2.1.4",
      "model_name": "LayoutModel",
      "state": {
       "_model_module_version": "~2.1.4",
       "_view_module_version": "~2.1.4"
      }
     },
     "e98c0d2cec354647af939868e91bc190": {
      "model_module": "jupyter-js-widgets",
      "model_module_version": "~2.1.4",
      "model_name": "FloatSliderModel",
      "state": {
       "_model_module_version": "~2.1.4",
       "_view_module_version": "~2.1.4",
       "description": "$f\\ \\left(dt = 10^f \\cdot r_0 / v\\right)$",
       "layout": "IPY_MODEL_ad8095b8304e4819b8257d05a4264db0",
       "max": 2,
       "min": -3,
       "value": -2
      }
     },
     "e9a09c17abb34f2393c3c0f6cc9b9de3": {
      "model_module": "jupyter-js-widgets",
      "model_module_version": "~2.1.4",
      "model_name": "FloatSliderModel",
      "state": {
       "_model_module_version": "~2.1.4",
       "_view_module_version": "~2.1.4",
       "description": "$-v_y / v_c$",
       "layout": "IPY_MODEL_465ebf43e40a463fb34a45b2dd0eb3f7",
       "max": 2,
       "min": -2,
       "step": 0.01,
       "value": 0.25
      }
     },
     "e9ba675954bd43c990a414e6d2ec3043": {
      "model_module": "jupyter-js-widgets",
      "model_module_version": "~2.1.4",
      "model_name": "LayoutModel",
      "state": {
       "_model_module_version": "~2.1.4",
       "_view_module_version": "~2.1.4",
       "display": "inline-flex",
       "flex_flow": "row wrap",
       "justify_content": "flex-start"
      }
     },
     "ea4733b9c7cb472d8c72e3a62a1e0804": {
      "model_module": "jupyter-js-widgets",
      "model_module_version": "~2.1.4",
      "model_name": "LayoutModel",
      "state": {
       "_model_module_version": "~2.1.4",
       "_view_module_version": "~2.1.4"
      }
     },
     "eb1f3dcf0c5c4fca96c2e80ca791398a": {
      "model_module": "jupyter-js-widgets",
      "model_module_version": "~2.1.4",
      "model_name": "LayoutModel",
      "state": {
       "_model_module_version": "~2.1.4",
       "_view_module_version": "~2.1.4"
      }
     },
     "eb33841437fe4c679c6a68fe2782a1e1": {
      "model_module": "jupyter-js-widgets",
      "model_module_version": "~2.1.4",
      "model_name": "FloatSliderModel",
      "state": {
       "_model_module_version": "~2.1.4",
       "_view_module_version": "~2.1.4",
       "description": "$-v_y / v_c$",
       "layout": "IPY_MODEL_1c668f2e317749cb9a52a0d3469bef46",
       "max": 2,
       "min": -2,
       "step": 0.01,
       "value": 1
      }
     },
     "ec33b4b67523444f9ba61ae8be7d49d6": {
      "model_module": "jupyter-js-widgets",
      "model_module_version": "~2.1.4",
      "model_name": "FloatSliderModel",
      "state": {
       "_model_module_version": "~2.1.4",
       "_view_module_version": "~2.1.4",
       "description": "$T$ / $1\\ year$",
       "layout": "IPY_MODEL_6fc1ac66015f47ee80fdd82dd0acf0e8",
       "max": 5,
       "min": 0.1,
       "step": 0.01,
       "value": 1
      }
     },
     "edff28acc1194125bff9afb2c11b291f": {
      "model_module": "jupyter-js-widgets",
      "model_module_version": "~2.1.4",
      "model_name": "FloatSliderModel",
      "state": {
       "_model_module_version": "~2.1.4",
       "_view_module_version": "~2.1.4",
       "description": "$T$ / $1\\ year$",
       "layout": "IPY_MODEL_01ec51484a884adcb98ffe434defd569",
       "max": 5,
       "min": 0.1,
       "step": 0.01,
       "value": 1
      }
     },
     "efffe583b33342b6a928ed9d1e408124": {
      "model_module": "jupyter-js-widgets",
      "model_module_version": "~2.1.4",
      "model_name": "FloatSliderModel",
      "state": {
       "_model_module_version": "~2.1.4",
       "_view_module_version": "~2.1.4",
       "description": "$v_x / v_c$",
       "layout": "IPY_MODEL_a6d904fc3ac04d31829b3536e7562be4",
       "max": 2,
       "min": -2,
       "step": 0.01,
       "value": 0.49
      }
     },
     "f096066103ee4de9b0140e73a85e0bae": {
      "model_module": "jupyter-js-widgets",
      "model_module_version": "~2.1.4",
      "model_name": "FloatSliderModel",
      "state": {
       "_model_module_version": "~2.1.4",
       "_view_module_version": "~2.1.4",
       "description": "$-r_x / 1$ $AU$",
       "layout": "IPY_MODEL_1be8220192824987a293da74219d11dd",
       "max": 2,
       "min": 0.1,
       "step": 0.01,
       "value": 1
      }
     },
     "f1040412c84f4f299678b48c79a0ce30": {
      "model_module": "jupyter-js-widgets",
      "model_module_version": "~2.1.4",
      "model_name": "LayoutModel",
      "state": {
       "_model_module_version": "~2.1.4",
       "_view_module_version": "~2.1.4"
      }
     },
     "f106e9e1d9a545708099006584d8e4d1": {
      "model_module": "jupyter-js-widgets",
      "model_module_version": "~2.1.4",
      "model_name": "VBoxModel",
      "state": {
       "_dom_classes": [
        "widget-interact"
       ],
       "_model_module_version": "~2.1.4",
       "_view_module_version": "~2.1.4",
       "children": [
        "IPY_MODEL_acd10f7e99564c6fa1187dd947d6a798",
        "IPY_MODEL_03e1826fe81e427aa467eb2796427f6c",
        "IPY_MODEL_25cc8a1b9ce44eeebab5d0f3b52054cb",
        "IPY_MODEL_957a5e5ae5204f91b39d6f19ecc9aac1",
        "IPY_MODEL_994f2c5d8dbd41ee81b86c2f609e9525",
        "IPY_MODEL_88aeb5a55a0543ca9ffde6602f4cddfe"
       ],
       "layout": "IPY_MODEL_f736a5ea48c846188b5ee7198e441f34"
      }
     },
     "f1980b2826d74cd281289309ce2d2d88": {
      "model_module": "jupyter-js-widgets",
      "model_module_version": "~2.1.4",
      "model_name": "LayoutModel",
      "state": {
       "_model_module_version": "~2.1.4",
       "_view_module_version": "~2.1.4"
      }
     },
     "f1e3e442ab0a4ff49a54d1668a79761b": {
      "model_module": "jupyter-js-widgets",
      "model_module_version": "~2.1.4",
      "model_name": "FloatSliderModel",
      "state": {
       "_model_module_version": "~2.1.4",
       "_view_module_version": "~2.1.4",
       "description": "$T$ / $1\\ year$",
       "layout": "IPY_MODEL_3514e7ebcbdd41548a26347766ecfe3f",
       "max": 5,
       "min": 0.1,
       "step": 0.01,
       "value": 1
      }
     },
     "f2e30a7b4db540bb89ff44430e273f8a": {
      "model_module": "jupyter-js-widgets",
      "model_module_version": "~2.1.4",
      "model_name": "LayoutModel",
      "state": {
       "_model_module_version": "~2.1.4",
       "_view_module_version": "~2.1.4"
      }
     },
     "f35b2e5a2df247eb8aaf8a730c93d2fb": {
      "model_module": "jupyter-js-widgets",
      "model_module_version": "~2.1.4",
      "model_name": "OutputModel",
      "state": {
       "_dom_classes": [],
       "_model_module": "jupyter-js-widgets",
       "_model_module_version": "~2.1.4",
       "_view_module": "jupyter-js-widgets",
       "_view_module_version": "~2.1.4",
       "layout": "IPY_MODEL_b08fa8286dad4ce69a2753f3368ba0e3",
       "msg_throttle": 1
      }
     },
     "f3c8c97d66c34da7bfd125cd3b6bf63b": {
      "model_module": "jupyter-js-widgets",
      "model_module_version": "~2.1.4",
      "model_name": "LayoutModel",
      "state": {
       "_model_module_version": "~2.1.4",
       "_view_module_version": "~2.1.4",
       "display": "inline-flex",
       "flex_flow": "row wrap",
       "justify_content": "flex-start"
      }
     },
     "f44e7cd8cbdc4db38388abcec7b140e2": {
      "model_module": "jupyter-js-widgets",
      "model_module_version": "~2.1.4",
      "model_name": "OutputModel",
      "state": {
       "_dom_classes": [],
       "_model_module": "jupyter-js-widgets",
       "_model_module_version": "~2.1.4",
       "_view_module": "jupyter-js-widgets",
       "_view_module_version": "~2.1.4",
       "layout": "IPY_MODEL_49548f2da53842899838a2013ef4d19c",
       "msg_throttle": 1
      }
     },
     "f48b162868954f689f1feba68778f741": {
      "model_module": "jupyter-js-widgets",
      "model_module_version": "~2.1.4",
      "model_name": "LayoutModel",
      "state": {
       "_model_module_version": "~2.1.4",
       "_view_module_version": "~2.1.4"
      }
     },
     "f58e8236d52a4a019ececfad35c45d55": {
      "model_module": "jupyter-js-widgets",
      "model_module_version": "~2.1.4",
      "model_name": "LayoutModel",
      "state": {
       "_model_module_version": "~2.1.4",
       "_view_module_version": "~2.1.4"
      }
     },
     "f5b77fefd5484c50b06485b35bcb83c0": {
      "model_module": "jupyter-js-widgets",
      "model_module_version": "~2.1.4",
      "model_name": "LayoutModel",
      "state": {
       "_model_module_version": "~2.1.4",
       "_view_module_version": "~2.1.4"
      }
     },
     "f606f9eaa9a645f68514f3a47decff77": {
      "model_module": "jupyter-js-widgets",
      "model_module_version": "~2.1.4",
      "model_name": "LayoutModel",
      "state": {
       "_model_module_version": "~2.1.4",
       "_view_module_version": "~2.1.4"
      }
     },
     "f736a5ea48c846188b5ee7198e441f34": {
      "model_module": "jupyter-js-widgets",
      "model_module_version": "~2.1.4",
      "model_name": "LayoutModel",
      "state": {
       "_model_module_version": "~2.1.4",
       "_view_module_version": "~2.1.4",
       "display": "inline-flex",
       "flex_flow": "row wrap",
       "justify_content": "flex-start"
      }
     },
     "f75be5578e4c4adb98d374dacc1f1233": {
      "model_module": "jupyter-js-widgets",
      "model_module_version": "~2.1.4",
      "model_name": "FloatSliderModel",
      "state": {
       "_model_module_version": "~2.1.4",
       "_view_module_version": "~2.1.4",
       "description": "$f\\ \\left(dt = 10^f \\cdot x_0 / v\\right)$",
       "layout": "IPY_MODEL_24b06fd53b374cf2bd2713308baa74cb",
       "max": 2,
       "min": -3,
       "value": -2
      }
     },
     "f79dc74358524af098044a883f588c0d": {
      "model_module": "jupyter-js-widgets",
      "model_module_version": "~2.1.4",
      "model_name": "FloatSliderModel",
      "state": {
       "_model_module_version": "~2.1.4",
       "_view_module_version": "~2.1.4",
       "description": "$f\\ \\left(dt = 10^f \\cdot r_0 / v\\right)$",
       "layout": "IPY_MODEL_73b0f970f29a4b2f800fa000586b754d",
       "max": 2,
       "min": -3,
       "value": -1
      }
     },
     "f7df60d9ddfa4829b2f8a46e18c698e6": {
      "model_module": "jupyter-js-widgets",
      "model_module_version": "~2.1.4",
      "model_name": "FloatSliderModel",
      "state": {
       "_model_module_version": "~2.1.4",
       "_view_module_version": "~2.1.4",
       "description": "$v_x / v_c$",
       "layout": "IPY_MODEL_75f5152926da466da33d7a2a50477793",
       "max": 2,
       "min": -2,
       "step": 0.01,
       "value": 0.62
      }
     },
     "f853a2e0756c4319a2bd5383981c6bed": {
      "model_module": "jupyter-js-widgets",
      "model_module_version": "~2.1.4",
      "model_name": "OutputModel",
      "state": {
       "_dom_classes": [],
       "_model_module": "jupyter-js-widgets",
       "_model_module_version": "~2.1.4",
       "_view_module": "jupyter-js-widgets",
       "_view_module_version": "~2.1.4",
       "layout": "IPY_MODEL_af682254f5f64530b2abeaa84749e6b6",
       "msg_throttle": 1
      }
     },
     "f9036a1a10544f418178e1413d606508": {
      "model_module": "jupyter-js-widgets",
      "model_module_version": "~2.1.4",
      "model_name": "FloatSliderModel",
      "state": {
       "_model_module_version": "~2.1.4",
       "_view_module_version": "~2.1.4",
       "description": "$-v_y / v_c$",
       "layout": "IPY_MODEL_e33faa89a09b412f9f0a665142f1e8b4",
       "max": 2,
       "min": -2,
       "step": 0.01,
       "value": 1
      }
     },
     "f90376a44371492992c93cfb05db5dd3": {
      "model_module": "jupyter-js-widgets",
      "model_module_version": "~2.1.4",
      "model_name": "LayoutModel",
      "state": {
       "_model_module_version": "~2.1.4",
       "_view_module_version": "~2.1.4"
      }
     },
     "fa2cb5ec373a47e1b514cf10edd76788": {
      "model_module": "jupyter-js-widgets",
      "model_module_version": "~2.1.4",
      "model_name": "FloatSliderModel",
      "state": {
       "_model_module_version": "~2.1.4",
       "_view_module_version": "~2.1.4",
       "description": "$-r_x / 1$ $AU$",
       "layout": "IPY_MODEL_566c66dd322c463d94452526c603aa1a",
       "max": 2,
       "min": 0.1,
       "step": 0.01,
       "value": 0.83
      }
     },
     "fa87c2447b5c4d71aaeb1a53e7b75e0f": {
      "model_module": "jupyter-js-widgets",
      "model_module_version": "~2.1.4",
      "model_name": "LayoutModel",
      "state": {
       "_model_module_version": "~2.1.4",
       "_view_module_version": "~2.1.4"
      }
     },
     "fb325d62d43942e7add9e87381d13740": {
      "model_module": "jupyter-js-widgets",
      "model_module_version": "~2.1.4",
      "model_name": "VBoxModel",
      "state": {
       "_dom_classes": [
        "widget-interact"
       ],
       "_model_module_version": "~2.1.4",
       "_view_module_version": "~2.1.4",
       "children": [
        "IPY_MODEL_07a1a69cee704944a240ed2bc36affce",
        "IPY_MODEL_59ef189b04fc45c49a636e136a120008",
        "IPY_MODEL_4b683c460fca495ab52a017cd87fd05f",
        "IPY_MODEL_f1e3e442ab0a4ff49a54d1668a79761b",
        "IPY_MODEL_48e9ab2857a6407fbb4069181f2e5881",
        "IPY_MODEL_8eef67f3ac55492a90af3bae89f88a2b"
       ],
       "layout": "IPY_MODEL_b275588735f74c51a7c5739c6ceeed07"
      }
     },
     "fb3e030f77ae45c098277494ed825b3d": {
      "model_module": "jupyter-js-widgets",
      "model_module_version": "~2.1.4",
      "model_name": "LayoutModel",
      "state": {
       "_model_module_version": "~2.1.4",
       "_view_module_version": "~2.1.4"
      }
     },
     "fb6d1ca915344f5da46cbf499d22a3d6": {
      "model_module": "jupyter-js-widgets",
      "model_module_version": "~2.1.4",
      "model_name": "LayoutModel",
      "state": {
       "_model_module_version": "~2.1.4",
       "_view_module_version": "~2.1.4"
      }
     },
     "fbbbf346e3ee42c0a87d4d2f4f4e73ed": {
      "model_module": "jupyter-js-widgets",
      "model_module_version": "~2.1.4",
      "model_name": "OutputModel",
      "state": {
       "_dom_classes": [],
       "_model_module": "jupyter-js-widgets",
       "_model_module_version": "~2.1.4",
       "_view_module": "jupyter-js-widgets",
       "_view_module_version": "~2.1.4",
       "layout": "IPY_MODEL_d5f18e680ca14873bd41d4944525d0d6",
       "msg_throttle": 1
      }
     },
     "fbdd5fa0fef94e3bbadeea5a40a28628": {
      "model_module": "jupyter-js-widgets",
      "model_module_version": "~2.1.4",
      "model_name": "LayoutModel",
      "state": {
       "_model_module_version": "~2.1.4",
       "_view_module_version": "~2.1.4"
      }
     },
     "fc3c2fe7577d4b96a5fc2a05d90c9941": {
      "model_module": "jupyter-js-widgets",
      "model_module_version": "~2.1.4",
      "model_name": "LayoutModel",
      "state": {
       "_model_module_version": "~2.1.4",
       "_view_module_version": "~2.1.4"
      }
     },
     "fc97adc281b94c64b6463d022615f5ef": {
      "model_module": "jupyter-js-widgets",
      "model_module_version": "~2.1.4",
      "model_name": "LayoutModel",
      "state": {
       "_model_module_version": "~2.1.4",
       "_view_module_version": "~2.1.4"
      }
     },
     "fce6668277a74929ab9ec5fbaa00b538": {
      "model_module": "jupyter-js-widgets",
      "model_module_version": "~2.1.4",
      "model_name": "LayoutModel",
      "state": {
       "_model_module_version": "~2.1.4",
       "_view_module_version": "~2.1.4"
      }
     },
     "fd0d6a50751147c396a4d148a9255689": {
      "model_module": "jupyter-js-widgets",
      "model_module_version": "~2.1.4",
      "model_name": "LayoutModel",
      "state": {
       "_model_module_version": "~2.1.4",
       "_view_module_version": "~2.1.4"
      }
     },
     "fd575fcffaf546c2acf74ee79ca751e5": {
      "model_module": "jupyter-js-widgets",
      "model_module_version": "~2.1.4",
      "model_name": "LayoutModel",
      "state": {
       "_model_module_version": "~2.1.4",
       "_view_module_version": "~2.1.4"
      }
     },
     "fdf42c51d512433ebb8f22b02b2d8cde": {
      "model_module": "jupyter-js-widgets",
      "model_module_version": "~2.1.4",
      "model_name": "FloatSliderModel",
      "state": {
       "_model_module_version": "~2.1.4",
       "_view_module_version": "~2.1.4",
       "description": "$-r_x / 1$ $AU$",
       "layout": "IPY_MODEL_a8a0e64f53d842488782dcb201e3ff96",
       "max": 2,
       "min": 0.1,
       "step": 0.01,
       "value": 1
      }
     },
     "fdf9ad677594461ea3a181a331243989": {
      "model_module": "jupyter-js-widgets",
      "model_module_version": "~2.1.4",
      "model_name": "LayoutModel",
      "state": {
       "_model_module_version": "~2.1.4",
       "_view_module_version": "~2.1.4"
      }
     },
     "fe3039e7f9ac42a481ec4fd1a7fb5979": {
      "model_module": "jupyter-js-widgets",
      "model_module_version": "~2.1.4",
      "model_name": "FloatSliderModel",
      "state": {
       "_model_module_version": "~2.1.4",
       "_view_module_version": "~2.1.4",
       "description": "$v_x / v_c$",
       "layout": "IPY_MODEL_0c4d7368dda54ee4a6f55002b4ddedd0",
       "max": 2,
       "min": -2,
       "step": 0.01
      }
     },
     "feba41dea2a34c5bbfaa7a9771791534": {
      "model_module": "jupyter-js-widgets",
      "model_module_version": "~2.1.4",
      "model_name": "FloatSliderModel",
      "state": {
       "_model_module_version": "~2.1.4",
       "_view_module_version": "~2.1.4",
       "description": "$T$ / $1\\ year$",
       "layout": "IPY_MODEL_fbdd5fa0fef94e3bbadeea5a40a28628",
       "max": 5,
       "min": 0.1,
       "step": 0.01,
       "value": 0.38
      }
     },
     "feec0057f9b2410ab5d775a7a420012d": {
      "model_module": "jupyter-js-widgets",
      "model_module_version": "~2.1.4",
      "model_name": "FloatSliderModel",
      "state": {
       "_model_module_version": "~2.1.4",
       "_view_module_version": "~2.1.4",
       "description": "$-v_y / v_c$",
       "layout": "IPY_MODEL_1ef79da825a4471b9a0e22a6f33059cd",
       "max": 2,
       "min": -2,
       "step": 0.01,
       "value": 1
      }
     }
    },
    "version_major": 1,
    "version_minor": 0
   }
  }
 },
 "nbformat": 4,
 "nbformat_minor": 2
}
