{
 "cells": [
  {
   "cell_type": "markdown",
   "metadata": {},
   "source": [
    "# A quick intro to orbital dynamics"
   ]
  },
  {
   "cell_type": "markdown",
   "metadata": {},
   "source": [
    "## Background"
   ]
  },
  {
   "cell_type": "markdown",
   "metadata": {},
   "source": [
    "### Newton-Raphson"
   ]
  },
  {
   "cell_type": "markdown",
   "metadata": {},
   "source": [
    "This is a very useful method for approximating the roots of a well-behaved function (shown in blue). The idea is the following:\n",
    "* Make a guess next to one of the roots you want \n",
    "* Draw the corresponding tangent line (red) at this guess evaluated on the original function (blue) \n",
    "* Trace this tangent line to where it intercepts the x-axis\n",
    "* Make this intercept your new guess\n",
    "* Rinse and repeat until your latest guess is close enough (your tolerance) to the root you wanted to approximate in the first place"
   ]
  },
  {
   "cell_type": "markdown",
   "metadata": {},
   "source": [
    "<img src=\"https://upload.wikimedia.org/wikipedia/commons/e/e0/NewtonIteration_Ani.gif\">"
   ]
  },
  {
   "cell_type": "markdown",
   "metadata": {},
   "source": [
    "Numerically, this can be thought of as using the slope and rise of a function at step $n$ to predict its run, taking us to step $n+1$.\n",
    "\\begin{align}\n",
    "    \\text{slope} = \\frac{\\text{rise}}{\\text{run}}\\quad\\longrightarrow\\quad f'(x_n) = \\frac{f(x_n)}{x_n - x_{n+1}}\\quad\\longrightarrow\\quad\n",
    "    x_{n+1} = x_n - \\frac{f(x_n)}{f'(x_n)} \\quad .\n",
    "\\end{align}\n",
    "\n",
    "This is a technique that can be employed when solving for the radial velocity of a star with a planet on an eccentric orbit, as per section 2.3 of your textbook."
   ]
  },
  {
   "cell_type": "markdown",
   "metadata": {},
   "source": [
    "### RK4"
   ]
  },
  {
   "cell_type": "markdown",
   "metadata": {},
   "source": [
    "We talked about using slope and rise to predict run. We are now going to flip this on its head to achieve something else instead: integrating orbits given, $$\\vec F = m \\vec a\\quad.$$ \n",
    "\n",
    "A popular way of approaching this is to use the _**Runge Kutta Fourth Order Approximation Scheme (RK4)**_. This is essentialy a slightly more sophisticated version of Euler's Method and the added complexity does not change the overarching theme of using slope and rise to predict run. For this reason, the Euler Method will be discussed in this section to build an intuition for numerical integrators, with the extension to RK4 just touched on lightly. For anyone intersted in the details of this extension, please feel free to come see me during office hours or look at the resources available online for deriving RK4 and its applications.\n",
    "\n",
    "The motivation behind orbital integration is the following: \n",
    "\n",
    "We have some initial conditions, like position and velocity of a planet, and we want to know what kind of orbit this planet will trace out, given that only the force acting on it is gravity. Using the physical insight that the \"slope\" of position over time is velocity, and the \"slope\" of velocity over time is acceleration, we can predict, or integrate, how the quantities will change over time. More explicitly, we can use the acceleration supplied by gravity to predict the velocity of our planet, and then use this velocity to predict its position a timestep $\\Delta t$ later. This gives us a new position and the whole process starts over again. The cyclical determination of these different quantities is generally termed \"orbital integration\" and the type of integration scheme used (Euler, RK4, etc.) affects the accuracy of the integrated solution.\n",
    "\n",
    "Let's focus on the Euler Method. \n",
    "<img src=\"http://jmahaffy.sdsu.edu/courses/f00/math122/lectures/num_method_diff_equations/images/euler_ani.gif\">\n",
    "\n",
    "Note: $h \\equiv \\Delta t$ in the figure above.\n",
    "\n",
    "This plot above could represent anything. It could be how one component of the planet's velocity varies over time, or it could be the position of the end of a spring as it slinks back and forth. The point is that we have some solution curve (black) that we want to approximate (red), given that we only know two things:\n",
    "* where we started $(t_0, y_0)$\n",
    "* the rate of how where we were changes with time $\\left(y'_0 = \\frac{y_1 - y_0}{\\Delta t}\\right)$\n",
    "\n",
    "The beauty of this is that even though we do not explicity know what $y_1$ is, the fact that we are given $y'_0$ from the initial conditions allows us to bootstrap our way around this. Starting with the definition of slope, we can use the timestep $h = \\Delta t$, to find where we will be a timestep later $y_1$:\n",
    "\\begin{align*}\n",
    " y_0' = \\frac{y_1 - y_0}{\\Delta t}\\quad\\longrightarrow\\quad\n",
    " y_1 = y_0 + \\Delta t\\ y_0'\\quad.\n",
    "\\end{align*}\n",
    "\n",
    "Generalizing to any timestep $n$:\n",
    "\\begin{align*}\n",
    "y_{n+1} = y_n + \\Delta t\\ y_n'\n",
    "\\end{align*}\n",
    "\n",
    "Whenever all of the $n+1$ terms are on one side of the equation and the $n$ terms are on the other, we have something called an *explicit numerical method*, which tend to be a bit more straightforward to code. Before hopping in, here is a brief graphical overview of the logic behind RK4.\n",
    "<img src=./rk4.jpg>"
   ]
  },
  {
   "cell_type": "markdown",
   "metadata": {},
   "source": [
    "Instead of taking one slope at $t_n$ to inform where $y_{n+1}$ will be, we do something a bit more interesting by using four slopes. The first slope is taken at the beginning of the timestep, the next is taken at the half-timestep, the third is also taken at the half-timestep, but using the results from the second slope, and the final slope is taken at the end of the timestep. The results are summarized below:\n",
    "\\begin{align*}\n",
    "    \\dot y = f(t, y),\\quad&\n",
    "    y_{n+1} = y_n + \\frac{\\Delta t}{6}\\left(k_1 + 2k_2 + 2k_3 + k_4\\right)\\\\\n",
    "    k_1 &= f(t_n, y_n)\\\\\n",
    "    k_2 &= f\\left(t_n+\\frac{\\Delta t}{2},\\ y_n + \\frac{\\Delta t}{2}k_1\\right)\\\\\n",
    "    k_3 &= f\\left(t_n+\\frac{\\Delta t}{2},\\ y_n + \\frac{\\Delta t}{2}k_2\\right)\\\\\n",
    "    k_4 &= f(t_n + \\Delta t, y_n + h k_3)\\quad.\n",
    "\\end{align*}\n",
    "\n",
    "\n",
    "Essentially, four Euler Methods are used in this scheme, and the results are averaged togther with more weight being given to the half-timesteps. Doing this has been found to produce approximations with much smaller errors than the traditional Euler scheme, making this perfect for simulating all types of different orbits!"
   ]
  },
  {
   "cell_type": "markdown",
   "metadata": {},
   "source": [
    "## Implementation"
   ]
  },
  {
   "cell_type": "markdown",
   "metadata": {},
   "source": [
    "##### This notebook sets up and runs a simple orbital simulation in 2D using a Runge-Kutta 4th Order integration scheme with adaptive timestepping. The simulation assumes an inertial Cartesian coordinate system with a solar mass object at the origin and massless test particle placed on the negative-x axis (horizontal axis). Here is some brief info of what you can do:\n",
    "\n",
    "* The initial conditions defined in ```orb_plot ``` can be adjusted in real time under  **Simulation Viewer ** by using the sliders. \n",
    "* The position and velocity data are tabulated and saved (in cgs) to ```orb.dat``` in the same directory as this notebook and can be viewed in **Taking a look at the data**. A few diagnostic plots are generated from the data as well.\n",
    "* A movie of the evolution of the orbit can also be made under **Movie Maker**."
   ]
  },
  {
   "cell_type": "code",
   "execution_count": 5,
   "metadata": {
    "code_folding": []
   },
   "outputs": [],
   "source": [
    "from astropy import units as u\n",
    "from astropy import constants as c\n",
    "from astropy.io import ascii\n",
    "\n",
    "# System constants\n",
    "G    = (1 * c.G).cgs.value\n",
    "M    = (1 * u.solMass).cgs.value\n",
    "AU   = (1 * u.AU).cgs.value\n",
    "year = (1 * u.yr).cgs.value\n",
    "\n",
    "def sho_func(t, uin):\n",
    "    \"\"\"Calculates derivatives for RK4\n",
    "    \n",
    "    Parameters\n",
    "    ----------\n",
    "    t : float\n",
    "        Current time in simulation\n",
    "    uin: array_like\n",
    "        Vector of 2D position and velocity components: [x, y, vx, vy]\n",
    "        \n",
    "    Returns\n",
    "    -------\n",
    "    derivs : array_like\n",
    "        Vector of time derivates for `uin`\n",
    "        returned in the form [dx/dt, dy/dt, dvx/dt, dvy/dt]\n",
    "    \"\"\"\n",
    "    # Position and velocity\n",
    "    r = uin[:2]\n",
    "    v = uin[2:]\n",
    "    \n",
    "    # Distance of point mass from each M\n",
    "    d = np.linalg.norm(0 - r)\n",
    "\n",
    "    # Calulating accelerations\n",
    "    g = (G*M/d**3) * (0 - r)\n",
    "    \n",
    "    derivs = np.ndarray(4)\n",
    "    derivs[:2] = v\n",
    "    derivs[2:] = g\n",
    "    return derivs\n",
    "\n",
    "def sho_RK4(t, u_old, dt):\n",
    "    \"\"\"\n",
    "    The \"engine\" of the numerical integrator.\n",
    "    Implements Runge Kutta Fourth Order approximation scheme.\n",
    "    \n",
    "    Parameters\n",
    "    ----------\n",
    "    t : float\n",
    "        Current time in simulation\n",
    "    u_old: array_like\n",
    "        Vector of 2D position and velocity components at t_n (step n):\n",
    "        [x_n, y_n, vx_n, vy_n]\n",
    "    dt : float\n",
    "        Timestep to move forward in simulation\n",
    "        \n",
    "    Returns\n",
    "    -------\n",
    "    u_new : array_like\n",
    "        Vector of 2D position and velocity components at t_n+1 (step n+1):\n",
    "        [x_n+1, y_n+1, vx_n+1, vy_n+1]\n",
    "    \"\"\"\n",
    "    K1 = sho_func(t, u_old)\n",
    "    K2 = sho_func(t + dt/2, u_old + K1*dt/2)\n",
    "    K3 = sho_func(t + dt/2, u_old + K2*dt/2)\n",
    "    K4 = sho_func(t + dt, u_old + K3*dt) \n",
    "    \n",
    "    u_new = u_old + (dt/6)*(K1 + 2*(K2 + K3) + K4)\n",
    "    return u_new\n",
    "\n",
    "def orb_sim(x0, vx0, vy0, T, f, integrator=sho_RK4):\n",
    "    \"\"\"\n",
    "    Calculates orbit of massless test particle based on `integrator` specified\n",
    "    \n",
    "    Parameters\n",
    "    ----------\n",
    "    x0 : float\n",
    "        Initial position on x-axis (in units of AU)\n",
    "    vx0 : float\n",
    "        Initial velocity (x-component, in units of circular speed)\n",
    "    vy0 : float\n",
    "        Initial velocity (y-component, in units of circular speed)\n",
    "    T : float\n",
    "        Duration of orbit\n",
    "    f : float\n",
    "        Characterisic lengthscale used for cell crossing time in\n",
    "        adaptive timestep procedure.\n",
    "    integrator : function\n",
    "        Numerical integrator used (the default is `sho_RK4`).\n",
    "    \n",
    "    Returns\n",
    "    -------\n",
    "    u_new : array_like\n",
    "        Vector of 2D position and velocity components at t_n+1 (step n+1):\n",
    "        [x_n+1, y_n+1, vx_n+1, vy_n+1]\n",
    "    \"\"\"\n",
    "    # Initial conditions\n",
    "    n = 0\n",
    "    t = 0\n",
    "    x = -x0*AU\n",
    "    y = 0.0 # Because of circular symmetry, it doesn't matter what we put for y\n",
    "    a0 = np.sqrt(x**2 + y**2)\n",
    "    v_circ = np.sqrt(G * M / a0)\n",
    "\n",
    "    vx = vx0*v_circ\n",
    "    vy = -vy0*v_circ\n",
    "    #T0 = 2*np.pi*np.sqrt(a0**3/(G*M))\n",
    "    T0  = year\n",
    "\n",
    "    tmax  =  T*T0\n",
    "    \n",
    "    pos_0 = np.array([x, y])\n",
    "    vel_0 = np.array([vx, vy])\n",
    "\n",
    "    uold = np.zeros(4)\n",
    "    uold[:2] = pos_0\n",
    "    uold[2:] = vel_0\n",
    "\n",
    "    x      = []\n",
    "    y      = []\n",
    "    vx     = []\n",
    "    vy     = []\n",
    "    time   = []\n",
    "    \n",
    "    # Integrate orbit\n",
    "    v0 = np.sqrt(uold[2]**2 + uold[3]**2) # turn on inside for adaptive\n",
    "    dt = 10**(f) * np.abs(uold[0]) / v0\n",
    "    #for t in np.arange(0, tmax+dt, dt):\n",
    "    while (t <= tmax):\n",
    "        # hold positions and velocities\n",
    "        time.append(t)\n",
    "        x.append(uold[0])\n",
    "        y.append(uold[1])\n",
    "        vx.append(uold[2])\n",
    "        vy.append(uold[3])\n",
    "        # v0 based on speed at beginning of current timestep\n",
    "        v0 = np.sqrt(uold[2]**2 + uold[3]**2) \n",
    "        dt = 10**(f) * np.abs(x[0]) / v0\n",
    "        unew = integrator(t, uold, dt) # integrate the orbit       \n",
    "\n",
    "        uold = unew # step forward\n",
    "        \n",
    "        t += dt\n",
    "        \n",
    "    x = np.array(x)# / AU\n",
    "    y = np.array(y)# / AU\n",
    "    vx = np.array(vx)# / v_circ\n",
    "    vy = np.array(vy)# / v_circ\n",
    "    return time, x, y, vx, vy"
   ]
  },
  {
   "cell_type": "markdown",
   "metadata": {},
   "source": [
    "## Visualization"
   ]
  },
  {
   "cell_type": "code",
   "execution_count": 35,
   "metadata": {},
   "outputs": [],
   "source": [
    "import matplotlib.pylab as plt\n",
    "import mplcyberpunk\n",
    "import numpy as np\n",
    "\n",
    "%config InlineBackend.figure_format = 'retina'\n",
    "plt.style.use(\"cyberpunk\")\n",
    "\n",
    "from ipywidgets import interact"
   ]
  },
  {
   "cell_type": "code",
   "execution_count": 36,
   "metadata": {},
   "outputs": [],
   "source": [
    "%matplotlib notebook"
   ]
  },
  {
   "cell_type": "code",
   "execution_count": 37,
   "metadata": {
    "scrolled": false
   },
   "outputs": [
    {
     "data": {
      "application/javascript": [
       "/* Put everything inside the global mpl namespace */\n",
       "/* global mpl */\n",
       "window.mpl = {};\n",
       "\n",
       "mpl.get_websocket_type = function () {\n",
       "    if (typeof WebSocket !== 'undefined') {\n",
       "        return WebSocket;\n",
       "    } else if (typeof MozWebSocket !== 'undefined') {\n",
       "        return MozWebSocket;\n",
       "    } else {\n",
       "        alert(\n",
       "            'Your browser does not have WebSocket support. ' +\n",
       "                'Please try Chrome, Safari or Firefox ≥ 6. ' +\n",
       "                'Firefox 4 and 5 are also supported but you ' +\n",
       "                'have to enable WebSockets in about:config.'\n",
       "        );\n",
       "    }\n",
       "};\n",
       "\n",
       "mpl.figure = function (figure_id, websocket, ondownload, parent_element) {\n",
       "    this.id = figure_id;\n",
       "\n",
       "    this.ws = websocket;\n",
       "\n",
       "    this.supports_binary = this.ws.binaryType !== undefined;\n",
       "\n",
       "    if (!this.supports_binary) {\n",
       "        var warnings = document.getElementById('mpl-warnings');\n",
       "        if (warnings) {\n",
       "            warnings.style.display = 'block';\n",
       "            warnings.textContent =\n",
       "                'This browser does not support binary websocket messages. ' +\n",
       "                'Performance may be slow.';\n",
       "        }\n",
       "    }\n",
       "\n",
       "    this.imageObj = new Image();\n",
       "\n",
       "    this.context = undefined;\n",
       "    this.message = undefined;\n",
       "    this.canvas = undefined;\n",
       "    this.rubberband_canvas = undefined;\n",
       "    this.rubberband_context = undefined;\n",
       "    this.format_dropdown = undefined;\n",
       "\n",
       "    this.image_mode = 'full';\n",
       "\n",
       "    this.root = document.createElement('div');\n",
       "    this.root.setAttribute('style', 'display: inline-block');\n",
       "    this._root_extra_style(this.root);\n",
       "\n",
       "    parent_element.appendChild(this.root);\n",
       "\n",
       "    this._init_header(this);\n",
       "    this._init_canvas(this);\n",
       "    this._init_toolbar(this);\n",
       "\n",
       "    var fig = this;\n",
       "\n",
       "    this.waiting = false;\n",
       "\n",
       "    this.ws.onopen = function () {\n",
       "        fig.send_message('supports_binary', { value: fig.supports_binary });\n",
       "        fig.send_message('send_image_mode', {});\n",
       "        if (mpl.ratio !== 1) {\n",
       "            fig.send_message('set_dpi_ratio', { dpi_ratio: mpl.ratio });\n",
       "        }\n",
       "        fig.send_message('refresh', {});\n",
       "    };\n",
       "\n",
       "    this.imageObj.onload = function () {\n",
       "        if (fig.image_mode === 'full') {\n",
       "            // Full images could contain transparency (where diff images\n",
       "            // almost always do), so we need to clear the canvas so that\n",
       "            // there is no ghosting.\n",
       "            fig.context.clearRect(0, 0, fig.canvas.width, fig.canvas.height);\n",
       "        }\n",
       "        fig.context.drawImage(fig.imageObj, 0, 0);\n",
       "    };\n",
       "\n",
       "    this.imageObj.onunload = function () {\n",
       "        fig.ws.close();\n",
       "    };\n",
       "\n",
       "    this.ws.onmessage = this._make_on_message_function(this);\n",
       "\n",
       "    this.ondownload = ondownload;\n",
       "};\n",
       "\n",
       "mpl.figure.prototype._init_header = function () {\n",
       "    var titlebar = document.createElement('div');\n",
       "    titlebar.classList =\n",
       "        'ui-dialog-titlebar ui-widget-header ui-corner-all ui-helper-clearfix';\n",
       "    var titletext = document.createElement('div');\n",
       "    titletext.classList = 'ui-dialog-title';\n",
       "    titletext.setAttribute(\n",
       "        'style',\n",
       "        'width: 100%; text-align: center; padding: 3px;'\n",
       "    );\n",
       "    titlebar.appendChild(titletext);\n",
       "    this.root.appendChild(titlebar);\n",
       "    this.header = titletext;\n",
       "};\n",
       "\n",
       "mpl.figure.prototype._canvas_extra_style = function (_canvas_div) {};\n",
       "\n",
       "mpl.figure.prototype._root_extra_style = function (_canvas_div) {};\n",
       "\n",
       "mpl.figure.prototype._init_canvas = function () {\n",
       "    var fig = this;\n",
       "\n",
       "    var canvas_div = (this.canvas_div = document.createElement('div'));\n",
       "    canvas_div.setAttribute(\n",
       "        'style',\n",
       "        'border: 1px solid #ddd;' +\n",
       "            'box-sizing: content-box;' +\n",
       "            'clear: both;' +\n",
       "            'min-height: 1px;' +\n",
       "            'min-width: 1px;' +\n",
       "            'outline: 0;' +\n",
       "            'overflow: hidden;' +\n",
       "            'position: relative;' +\n",
       "            'resize: both;'\n",
       "    );\n",
       "\n",
       "    function on_keyboard_event_closure(name) {\n",
       "        return function (event) {\n",
       "            return fig.key_event(event, name);\n",
       "        };\n",
       "    }\n",
       "\n",
       "    canvas_div.addEventListener(\n",
       "        'keydown',\n",
       "        on_keyboard_event_closure('key_press')\n",
       "    );\n",
       "    canvas_div.addEventListener(\n",
       "        'keyup',\n",
       "        on_keyboard_event_closure('key_release')\n",
       "    );\n",
       "\n",
       "    this._canvas_extra_style(canvas_div);\n",
       "    this.root.appendChild(canvas_div);\n",
       "\n",
       "    var canvas = (this.canvas = document.createElement('canvas'));\n",
       "    canvas.classList.add('mpl-canvas');\n",
       "    canvas.setAttribute('style', 'box-sizing: content-box;');\n",
       "\n",
       "    this.context = canvas.getContext('2d');\n",
       "\n",
       "    var backingStore =\n",
       "        this.context.backingStorePixelRatio ||\n",
       "        this.context.webkitBackingStorePixelRatio ||\n",
       "        this.context.mozBackingStorePixelRatio ||\n",
       "        this.context.msBackingStorePixelRatio ||\n",
       "        this.context.oBackingStorePixelRatio ||\n",
       "        this.context.backingStorePixelRatio ||\n",
       "        1;\n",
       "\n",
       "    mpl.ratio = (window.devicePixelRatio || 1) / backingStore;\n",
       "\n",
       "    var rubberband_canvas = (this.rubberband_canvas = document.createElement(\n",
       "        'canvas'\n",
       "    ));\n",
       "    rubberband_canvas.setAttribute(\n",
       "        'style',\n",
       "        'box-sizing: content-box; position: absolute; left: 0; top: 0; z-index: 1;'\n",
       "    );\n",
       "\n",
       "    var resizeObserver = new ResizeObserver(function (entries) {\n",
       "        var nentries = entries.length;\n",
       "        for (var i = 0; i < nentries; i++) {\n",
       "            var entry = entries[i];\n",
       "            var width, height;\n",
       "            if (entry.contentBoxSize) {\n",
       "                if (entry.contentBoxSize instanceof Array) {\n",
       "                    // Chrome 84 implements new version of spec.\n",
       "                    width = entry.contentBoxSize[0].inlineSize;\n",
       "                    height = entry.contentBoxSize[0].blockSize;\n",
       "                } else {\n",
       "                    // Firefox implements old version of spec.\n",
       "                    width = entry.contentBoxSize.inlineSize;\n",
       "                    height = entry.contentBoxSize.blockSize;\n",
       "                }\n",
       "            } else {\n",
       "                // Chrome <84 implements even older version of spec.\n",
       "                width = entry.contentRect.width;\n",
       "                height = entry.contentRect.height;\n",
       "            }\n",
       "\n",
       "            // Keep the size of the canvas and rubber band canvas in sync with\n",
       "            // the canvas container.\n",
       "            if (entry.devicePixelContentBoxSize) {\n",
       "                // Chrome 84 implements new version of spec.\n",
       "                canvas.setAttribute(\n",
       "                    'width',\n",
       "                    entry.devicePixelContentBoxSize[0].inlineSize\n",
       "                );\n",
       "                canvas.setAttribute(\n",
       "                    'height',\n",
       "                    entry.devicePixelContentBoxSize[0].blockSize\n",
       "                );\n",
       "            } else {\n",
       "                canvas.setAttribute('width', width * mpl.ratio);\n",
       "                canvas.setAttribute('height', height * mpl.ratio);\n",
       "            }\n",
       "            canvas.setAttribute(\n",
       "                'style',\n",
       "                'width: ' + width + 'px; height: ' + height + 'px;'\n",
       "            );\n",
       "\n",
       "            rubberband_canvas.setAttribute('width', width);\n",
       "            rubberband_canvas.setAttribute('height', height);\n",
       "\n",
       "            // And update the size in Python. We ignore the initial 0/0 size\n",
       "            // that occurs as the element is placed into the DOM, which should\n",
       "            // otherwise not happen due to the minimum size styling.\n",
       "            if (width != 0 && height != 0) {\n",
       "                fig.request_resize(width, height);\n",
       "            }\n",
       "        }\n",
       "    });\n",
       "    resizeObserver.observe(canvas_div);\n",
       "\n",
       "    function on_mouse_event_closure(name) {\n",
       "        return function (event) {\n",
       "            return fig.mouse_event(event, name);\n",
       "        };\n",
       "    }\n",
       "\n",
       "    rubberband_canvas.addEventListener(\n",
       "        'mousedown',\n",
       "        on_mouse_event_closure('button_press')\n",
       "    );\n",
       "    rubberband_canvas.addEventListener(\n",
       "        'mouseup',\n",
       "        on_mouse_event_closure('button_release')\n",
       "    );\n",
       "    // Throttle sequential mouse events to 1 every 20ms.\n",
       "    rubberband_canvas.addEventListener(\n",
       "        'mousemove',\n",
       "        on_mouse_event_closure('motion_notify')\n",
       "    );\n",
       "\n",
       "    rubberband_canvas.addEventListener(\n",
       "        'mouseenter',\n",
       "        on_mouse_event_closure('figure_enter')\n",
       "    );\n",
       "    rubberband_canvas.addEventListener(\n",
       "        'mouseleave',\n",
       "        on_mouse_event_closure('figure_leave')\n",
       "    );\n",
       "\n",
       "    canvas_div.addEventListener('wheel', function (event) {\n",
       "        if (event.deltaY < 0) {\n",
       "            event.step = 1;\n",
       "        } else {\n",
       "            event.step = -1;\n",
       "        }\n",
       "        on_mouse_event_closure('scroll')(event);\n",
       "    });\n",
       "\n",
       "    canvas_div.appendChild(canvas);\n",
       "    canvas_div.appendChild(rubberband_canvas);\n",
       "\n",
       "    this.rubberband_context = rubberband_canvas.getContext('2d');\n",
       "    this.rubberband_context.strokeStyle = '#000000';\n",
       "\n",
       "    this._resize_canvas = function (width, height, forward) {\n",
       "        if (forward) {\n",
       "            canvas_div.style.width = width + 'px';\n",
       "            canvas_div.style.height = height + 'px';\n",
       "        }\n",
       "    };\n",
       "\n",
       "    // Disable right mouse context menu.\n",
       "    this.rubberband_canvas.addEventListener('contextmenu', function (_e) {\n",
       "        event.preventDefault();\n",
       "        return false;\n",
       "    });\n",
       "\n",
       "    function set_focus() {\n",
       "        canvas.focus();\n",
       "        canvas_div.focus();\n",
       "    }\n",
       "\n",
       "    window.setTimeout(set_focus, 100);\n",
       "};\n",
       "\n",
       "mpl.figure.prototype._init_toolbar = function () {\n",
       "    var fig = this;\n",
       "\n",
       "    var toolbar = document.createElement('div');\n",
       "    toolbar.classList = 'mpl-toolbar';\n",
       "    this.root.appendChild(toolbar);\n",
       "\n",
       "    function on_click_closure(name) {\n",
       "        return function (_event) {\n",
       "            return fig.toolbar_button_onclick(name);\n",
       "        };\n",
       "    }\n",
       "\n",
       "    function on_mouseover_closure(tooltip) {\n",
       "        return function (event) {\n",
       "            if (!event.currentTarget.disabled) {\n",
       "                return fig.toolbar_button_onmouseover(tooltip);\n",
       "            }\n",
       "        };\n",
       "    }\n",
       "\n",
       "    fig.buttons = {};\n",
       "    var buttonGroup = document.createElement('div');\n",
       "    buttonGroup.classList = 'mpl-button-group';\n",
       "    for (var toolbar_ind in mpl.toolbar_items) {\n",
       "        var name = mpl.toolbar_items[toolbar_ind][0];\n",
       "        var tooltip = mpl.toolbar_items[toolbar_ind][1];\n",
       "        var image = mpl.toolbar_items[toolbar_ind][2];\n",
       "        var method_name = mpl.toolbar_items[toolbar_ind][3];\n",
       "\n",
       "        if (!name) {\n",
       "            /* Instead of a spacer, we start a new button group. */\n",
       "            if (buttonGroup.hasChildNodes()) {\n",
       "                toolbar.appendChild(buttonGroup);\n",
       "            }\n",
       "            buttonGroup = document.createElement('div');\n",
       "            buttonGroup.classList = 'mpl-button-group';\n",
       "            continue;\n",
       "        }\n",
       "\n",
       "        var button = (fig.buttons[name] = document.createElement('button'));\n",
       "        button.classList = 'mpl-widget';\n",
       "        button.setAttribute('role', 'button');\n",
       "        button.setAttribute('aria-disabled', 'false');\n",
       "        button.addEventListener('click', on_click_closure(method_name));\n",
       "        button.addEventListener('mouseover', on_mouseover_closure(tooltip));\n",
       "\n",
       "        var icon_img = document.createElement('img');\n",
       "        icon_img.src = '_images/' + image + '.png';\n",
       "        icon_img.srcset = '_images/' + image + '_large.png 2x';\n",
       "        icon_img.alt = tooltip;\n",
       "        button.appendChild(icon_img);\n",
       "\n",
       "        buttonGroup.appendChild(button);\n",
       "    }\n",
       "\n",
       "    if (buttonGroup.hasChildNodes()) {\n",
       "        toolbar.appendChild(buttonGroup);\n",
       "    }\n",
       "\n",
       "    var fmt_picker = document.createElement('select');\n",
       "    fmt_picker.classList = 'mpl-widget';\n",
       "    toolbar.appendChild(fmt_picker);\n",
       "    this.format_dropdown = fmt_picker;\n",
       "\n",
       "    for (var ind in mpl.extensions) {\n",
       "        var fmt = mpl.extensions[ind];\n",
       "        var option = document.createElement('option');\n",
       "        option.selected = fmt === mpl.default_extension;\n",
       "        option.innerHTML = fmt;\n",
       "        fmt_picker.appendChild(option);\n",
       "    }\n",
       "\n",
       "    var status_bar = document.createElement('span');\n",
       "    status_bar.classList = 'mpl-message';\n",
       "    toolbar.appendChild(status_bar);\n",
       "    this.message = status_bar;\n",
       "};\n",
       "\n",
       "mpl.figure.prototype.request_resize = function (x_pixels, y_pixels) {\n",
       "    // Request matplotlib to resize the figure. Matplotlib will then trigger a resize in the client,\n",
       "    // which will in turn request a refresh of the image.\n",
       "    this.send_message('resize', { width: x_pixels, height: y_pixels });\n",
       "};\n",
       "\n",
       "mpl.figure.prototype.send_message = function (type, properties) {\n",
       "    properties['type'] = type;\n",
       "    properties['figure_id'] = this.id;\n",
       "    this.ws.send(JSON.stringify(properties));\n",
       "};\n",
       "\n",
       "mpl.figure.prototype.send_draw_message = function () {\n",
       "    if (!this.waiting) {\n",
       "        this.waiting = true;\n",
       "        this.ws.send(JSON.stringify({ type: 'draw', figure_id: this.id }));\n",
       "    }\n",
       "};\n",
       "\n",
       "mpl.figure.prototype.handle_save = function (fig, _msg) {\n",
       "    var format_dropdown = fig.format_dropdown;\n",
       "    var format = format_dropdown.options[format_dropdown.selectedIndex].value;\n",
       "    fig.ondownload(fig, format);\n",
       "};\n",
       "\n",
       "mpl.figure.prototype.handle_resize = function (fig, msg) {\n",
       "    var size = msg['size'];\n",
       "    if (size[0] !== fig.canvas.width || size[1] !== fig.canvas.height) {\n",
       "        fig._resize_canvas(size[0], size[1], msg['forward']);\n",
       "        fig.send_message('refresh', {});\n",
       "    }\n",
       "};\n",
       "\n",
       "mpl.figure.prototype.handle_rubberband = function (fig, msg) {\n",
       "    var x0 = msg['x0'] / mpl.ratio;\n",
       "    var y0 = (fig.canvas.height - msg['y0']) / mpl.ratio;\n",
       "    var x1 = msg['x1'] / mpl.ratio;\n",
       "    var y1 = (fig.canvas.height - msg['y1']) / mpl.ratio;\n",
       "    x0 = Math.floor(x0) + 0.5;\n",
       "    y0 = Math.floor(y0) + 0.5;\n",
       "    x1 = Math.floor(x1) + 0.5;\n",
       "    y1 = Math.floor(y1) + 0.5;\n",
       "    var min_x = Math.min(x0, x1);\n",
       "    var min_y = Math.min(y0, y1);\n",
       "    var width = Math.abs(x1 - x0);\n",
       "    var height = Math.abs(y1 - y0);\n",
       "\n",
       "    fig.rubberband_context.clearRect(\n",
       "        0,\n",
       "        0,\n",
       "        fig.canvas.width / mpl.ratio,\n",
       "        fig.canvas.height / mpl.ratio\n",
       "    );\n",
       "\n",
       "    fig.rubberband_context.strokeRect(min_x, min_y, width, height);\n",
       "};\n",
       "\n",
       "mpl.figure.prototype.handle_figure_label = function (fig, msg) {\n",
       "    // Updates the figure title.\n",
       "    fig.header.textContent = msg['label'];\n",
       "};\n",
       "\n",
       "mpl.figure.prototype.handle_cursor = function (fig, msg) {\n",
       "    var cursor = msg['cursor'];\n",
       "    switch (cursor) {\n",
       "        case 0:\n",
       "            cursor = 'pointer';\n",
       "            break;\n",
       "        case 1:\n",
       "            cursor = 'default';\n",
       "            break;\n",
       "        case 2:\n",
       "            cursor = 'crosshair';\n",
       "            break;\n",
       "        case 3:\n",
       "            cursor = 'move';\n",
       "            break;\n",
       "    }\n",
       "    fig.rubberband_canvas.style.cursor = cursor;\n",
       "};\n",
       "\n",
       "mpl.figure.prototype.handle_message = function (fig, msg) {\n",
       "    fig.message.textContent = msg['message'];\n",
       "};\n",
       "\n",
       "mpl.figure.prototype.handle_draw = function (fig, _msg) {\n",
       "    // Request the server to send over a new figure.\n",
       "    fig.send_draw_message();\n",
       "};\n",
       "\n",
       "mpl.figure.prototype.handle_image_mode = function (fig, msg) {\n",
       "    fig.image_mode = msg['mode'];\n",
       "};\n",
       "\n",
       "mpl.figure.prototype.handle_history_buttons = function (fig, msg) {\n",
       "    for (var key in msg) {\n",
       "        if (!(key in fig.buttons)) {\n",
       "            continue;\n",
       "        }\n",
       "        fig.buttons[key].disabled = !msg[key];\n",
       "        fig.buttons[key].setAttribute('aria-disabled', !msg[key]);\n",
       "    }\n",
       "};\n",
       "\n",
       "mpl.figure.prototype.handle_navigate_mode = function (fig, msg) {\n",
       "    if (msg['mode'] === 'PAN') {\n",
       "        fig.buttons['Pan'].classList.add('active');\n",
       "        fig.buttons['Zoom'].classList.remove('active');\n",
       "    } else if (msg['mode'] === 'ZOOM') {\n",
       "        fig.buttons['Pan'].classList.remove('active');\n",
       "        fig.buttons['Zoom'].classList.add('active');\n",
       "    } else {\n",
       "        fig.buttons['Pan'].classList.remove('active');\n",
       "        fig.buttons['Zoom'].classList.remove('active');\n",
       "    }\n",
       "};\n",
       "\n",
       "mpl.figure.prototype.updated_canvas_event = function () {\n",
       "    // Called whenever the canvas gets updated.\n",
       "    this.send_message('ack', {});\n",
       "};\n",
       "\n",
       "// A function to construct a web socket function for onmessage handling.\n",
       "// Called in the figure constructor.\n",
       "mpl.figure.prototype._make_on_message_function = function (fig) {\n",
       "    return function socket_on_message(evt) {\n",
       "        if (evt.data instanceof Blob) {\n",
       "            /* FIXME: We get \"Resource interpreted as Image but\n",
       "             * transferred with MIME type text/plain:\" errors on\n",
       "             * Chrome.  But how to set the MIME type?  It doesn't seem\n",
       "             * to be part of the websocket stream */\n",
       "            evt.data.type = 'image/png';\n",
       "\n",
       "            /* Free the memory for the previous frames */\n",
       "            if (fig.imageObj.src) {\n",
       "                (window.URL || window.webkitURL).revokeObjectURL(\n",
       "                    fig.imageObj.src\n",
       "                );\n",
       "            }\n",
       "\n",
       "            fig.imageObj.src = (window.URL || window.webkitURL).createObjectURL(\n",
       "                evt.data\n",
       "            );\n",
       "            fig.updated_canvas_event();\n",
       "            fig.waiting = false;\n",
       "            return;\n",
       "        } else if (\n",
       "            typeof evt.data === 'string' &&\n",
       "            evt.data.slice(0, 21) === 'data:image/png;base64'\n",
       "        ) {\n",
       "            fig.imageObj.src = evt.data;\n",
       "            fig.updated_canvas_event();\n",
       "            fig.waiting = false;\n",
       "            return;\n",
       "        }\n",
       "\n",
       "        var msg = JSON.parse(evt.data);\n",
       "        var msg_type = msg['type'];\n",
       "\n",
       "        // Call the  \"handle_{type}\" callback, which takes\n",
       "        // the figure and JSON message as its only arguments.\n",
       "        try {\n",
       "            var callback = fig['handle_' + msg_type];\n",
       "        } catch (e) {\n",
       "            console.log(\n",
       "                \"No handler for the '\" + msg_type + \"' message type: \",\n",
       "                msg\n",
       "            );\n",
       "            return;\n",
       "        }\n",
       "\n",
       "        if (callback) {\n",
       "            try {\n",
       "                // console.log(\"Handling '\" + msg_type + \"' message: \", msg);\n",
       "                callback(fig, msg);\n",
       "            } catch (e) {\n",
       "                console.log(\n",
       "                    \"Exception inside the 'handler_\" + msg_type + \"' callback:\",\n",
       "                    e,\n",
       "                    e.stack,\n",
       "                    msg\n",
       "                );\n",
       "            }\n",
       "        }\n",
       "    };\n",
       "};\n",
       "\n",
       "// from http://stackoverflow.com/questions/1114465/getting-mouse-location-in-canvas\n",
       "mpl.findpos = function (e) {\n",
       "    //this section is from http://www.quirksmode.org/js/events_properties.html\n",
       "    var targ;\n",
       "    if (!e) {\n",
       "        e = window.event;\n",
       "    }\n",
       "    if (e.target) {\n",
       "        targ = e.target;\n",
       "    } else if (e.srcElement) {\n",
       "        targ = e.srcElement;\n",
       "    }\n",
       "    if (targ.nodeType === 3) {\n",
       "        // defeat Safari bug\n",
       "        targ = targ.parentNode;\n",
       "    }\n",
       "\n",
       "    // pageX,Y are the mouse positions relative to the document\n",
       "    var boundingRect = targ.getBoundingClientRect();\n",
       "    var x = e.pageX - (boundingRect.left + document.body.scrollLeft);\n",
       "    var y = e.pageY - (boundingRect.top + document.body.scrollTop);\n",
       "\n",
       "    return { x: x, y: y };\n",
       "};\n",
       "\n",
       "/*\n",
       " * return a copy of an object with only non-object keys\n",
       " * we need this to avoid circular references\n",
       " * http://stackoverflow.com/a/24161582/3208463\n",
       " */\n",
       "function simpleKeys(original) {\n",
       "    return Object.keys(original).reduce(function (obj, key) {\n",
       "        if (typeof original[key] !== 'object') {\n",
       "            obj[key] = original[key];\n",
       "        }\n",
       "        return obj;\n",
       "    }, {});\n",
       "}\n",
       "\n",
       "mpl.figure.prototype.mouse_event = function (event, name) {\n",
       "    var canvas_pos = mpl.findpos(event);\n",
       "\n",
       "    if (name === 'button_press') {\n",
       "        this.canvas.focus();\n",
       "        this.canvas_div.focus();\n",
       "    }\n",
       "\n",
       "    var x = canvas_pos.x * mpl.ratio;\n",
       "    var y = canvas_pos.y * mpl.ratio;\n",
       "\n",
       "    this.send_message(name, {\n",
       "        x: x,\n",
       "        y: y,\n",
       "        button: event.button,\n",
       "        step: event.step,\n",
       "        guiEvent: simpleKeys(event),\n",
       "    });\n",
       "\n",
       "    /* This prevents the web browser from automatically changing to\n",
       "     * the text insertion cursor when the button is pressed.  We want\n",
       "     * to control all of the cursor setting manually through the\n",
       "     * 'cursor' event from matplotlib */\n",
       "    event.preventDefault();\n",
       "    return false;\n",
       "};\n",
       "\n",
       "mpl.figure.prototype._key_event_extra = function (_event, _name) {\n",
       "    // Handle any extra behaviour associated with a key event\n",
       "};\n",
       "\n",
       "mpl.figure.prototype.key_event = function (event, name) {\n",
       "    // Prevent repeat events\n",
       "    if (name === 'key_press') {\n",
       "        if (event.which === this._key) {\n",
       "            return;\n",
       "        } else {\n",
       "            this._key = event.which;\n",
       "        }\n",
       "    }\n",
       "    if (name === 'key_release') {\n",
       "        this._key = null;\n",
       "    }\n",
       "\n",
       "    var value = '';\n",
       "    if (event.ctrlKey && event.which !== 17) {\n",
       "        value += 'ctrl+';\n",
       "    }\n",
       "    if (event.altKey && event.which !== 18) {\n",
       "        value += 'alt+';\n",
       "    }\n",
       "    if (event.shiftKey && event.which !== 16) {\n",
       "        value += 'shift+';\n",
       "    }\n",
       "\n",
       "    value += 'k';\n",
       "    value += event.which.toString();\n",
       "\n",
       "    this._key_event_extra(event, name);\n",
       "\n",
       "    this.send_message(name, { key: value, guiEvent: simpleKeys(event) });\n",
       "    return false;\n",
       "};\n",
       "\n",
       "mpl.figure.prototype.toolbar_button_onclick = function (name) {\n",
       "    if (name === 'download') {\n",
       "        this.handle_save(this, null);\n",
       "    } else {\n",
       "        this.send_message('toolbar_button', { name: name });\n",
       "    }\n",
       "};\n",
       "\n",
       "mpl.figure.prototype.toolbar_button_onmouseover = function (tooltip) {\n",
       "    this.message.textContent = tooltip;\n",
       "};\n",
       "mpl.toolbar_items = [[\"Home\", \"Reset original view\", \"fa fa-home icon-home\", \"home\"], [\"Back\", \"Back to previous view\", \"fa fa-arrow-left icon-arrow-left\", \"back\"], [\"Forward\", \"Forward to next view\", \"fa fa-arrow-right icon-arrow-right\", \"forward\"], [\"\", \"\", \"\", \"\"], [\"Pan\", \"Left button pans, Right button zooms\\nx/y fixes axis, CTRL fixes aspect\", \"fa fa-arrows icon-move\", \"pan\"], [\"Zoom\", \"Zoom to rectangle\\nx/y fixes axis, CTRL fixes aspect\", \"fa fa-square-o icon-check-empty\", \"zoom\"], [\"\", \"\", \"\", \"\"], [\"Download\", \"Download plot\", \"fa fa-floppy-o icon-save\", \"download\"]];\n",
       "\n",
       "mpl.extensions = [\"eps\", \"jpeg\", \"pdf\", \"png\", \"ps\", \"raw\", \"svg\", \"tif\"];\n",
       "\n",
       "mpl.default_extension = \"png\";/* global mpl */\n",
       "\n",
       "var comm_websocket_adapter = function (comm) {\n",
       "    // Create a \"websocket\"-like object which calls the given IPython comm\n",
       "    // object with the appropriate methods. Currently this is a non binary\n",
       "    // socket, so there is still some room for performance tuning.\n",
       "    var ws = {};\n",
       "\n",
       "    ws.close = function () {\n",
       "        comm.close();\n",
       "    };\n",
       "    ws.send = function (m) {\n",
       "        //console.log('sending', m);\n",
       "        comm.send(m);\n",
       "    };\n",
       "    // Register the callback with on_msg.\n",
       "    comm.on_msg(function (msg) {\n",
       "        //console.log('receiving', msg['content']['data'], msg);\n",
       "        // Pass the mpl event to the overridden (by mpl) onmessage function.\n",
       "        ws.onmessage(msg['content']['data']);\n",
       "    });\n",
       "    return ws;\n",
       "};\n",
       "\n",
       "mpl.mpl_figure_comm = function (comm, msg) {\n",
       "    // This is the function which gets called when the mpl process\n",
       "    // starts-up an IPython Comm through the \"matplotlib\" channel.\n",
       "\n",
       "    var id = msg.content.data.id;\n",
       "    // Get hold of the div created by the display call when the Comm\n",
       "    // socket was opened in Python.\n",
       "    var element = document.getElementById(id);\n",
       "    var ws_proxy = comm_websocket_adapter(comm);\n",
       "\n",
       "    function ondownload(figure, _format) {\n",
       "        window.open(figure.canvas.toDataURL());\n",
       "    }\n",
       "\n",
       "    var fig = new mpl.figure(id, ws_proxy, ondownload, element);\n",
       "\n",
       "    // Call onopen now - mpl needs it, as it is assuming we've passed it a real\n",
       "    // web socket which is closed, not our websocket->open comm proxy.\n",
       "    ws_proxy.onopen();\n",
       "\n",
       "    fig.parent_element = element;\n",
       "    fig.cell_info = mpl.find_output_cell(\"<div id='\" + id + \"'></div>\");\n",
       "    if (!fig.cell_info) {\n",
       "        console.error('Failed to find cell for figure', id, fig);\n",
       "        return;\n",
       "    }\n",
       "};\n",
       "\n",
       "mpl.figure.prototype.handle_close = function (fig, msg) {\n",
       "    var width = fig.canvas.width / mpl.ratio;\n",
       "    fig.root.removeEventListener('remove', this._remove_fig_handler);\n",
       "\n",
       "    // Update the output cell to use the data from the current canvas.\n",
       "    fig.push_to_output();\n",
       "    var dataURL = fig.canvas.toDataURL();\n",
       "    // Re-enable the keyboard manager in IPython - without this line, in FF,\n",
       "    // the notebook keyboard shortcuts fail.\n",
       "    IPython.keyboard_manager.enable();\n",
       "    fig.parent_element.innerHTML =\n",
       "        '<img src=\"' + dataURL + '\" width=\"' + width + '\">';\n",
       "    fig.close_ws(fig, msg);\n",
       "};\n",
       "\n",
       "mpl.figure.prototype.close_ws = function (fig, msg) {\n",
       "    fig.send_message('closing', msg);\n",
       "    // fig.ws.close()\n",
       "};\n",
       "\n",
       "mpl.figure.prototype.push_to_output = function (_remove_interactive) {\n",
       "    // Turn the data on the canvas into data in the output cell.\n",
       "    var width = this.canvas.width / mpl.ratio;\n",
       "    var dataURL = this.canvas.toDataURL();\n",
       "    this.cell_info[1]['text/html'] =\n",
       "        '<img src=\"' + dataURL + '\" width=\"' + width + '\">';\n",
       "};\n",
       "\n",
       "mpl.figure.prototype.updated_canvas_event = function () {\n",
       "    // Tell IPython that the notebook contents must change.\n",
       "    IPython.notebook.set_dirty(true);\n",
       "    this.send_message('ack', {});\n",
       "    var fig = this;\n",
       "    // Wait a second, then push the new image to the DOM so\n",
       "    // that it is saved nicely (might be nice to debounce this).\n",
       "    setTimeout(function () {\n",
       "        fig.push_to_output();\n",
       "    }, 1000);\n",
       "};\n",
       "\n",
       "mpl.figure.prototype._init_toolbar = function () {\n",
       "    var fig = this;\n",
       "\n",
       "    var toolbar = document.createElement('div');\n",
       "    toolbar.classList = 'btn-toolbar';\n",
       "    this.root.appendChild(toolbar);\n",
       "\n",
       "    function on_click_closure(name) {\n",
       "        return function (_event) {\n",
       "            return fig.toolbar_button_onclick(name);\n",
       "        };\n",
       "    }\n",
       "\n",
       "    function on_mouseover_closure(tooltip) {\n",
       "        return function (event) {\n",
       "            if (!event.currentTarget.disabled) {\n",
       "                return fig.toolbar_button_onmouseover(tooltip);\n",
       "            }\n",
       "        };\n",
       "    }\n",
       "\n",
       "    fig.buttons = {};\n",
       "    var buttonGroup = document.createElement('div');\n",
       "    buttonGroup.classList = 'btn-group';\n",
       "    var button;\n",
       "    for (var toolbar_ind in mpl.toolbar_items) {\n",
       "        var name = mpl.toolbar_items[toolbar_ind][0];\n",
       "        var tooltip = mpl.toolbar_items[toolbar_ind][1];\n",
       "        var image = mpl.toolbar_items[toolbar_ind][2];\n",
       "        var method_name = mpl.toolbar_items[toolbar_ind][3];\n",
       "\n",
       "        if (!name) {\n",
       "            /* Instead of a spacer, we start a new button group. */\n",
       "            if (buttonGroup.hasChildNodes()) {\n",
       "                toolbar.appendChild(buttonGroup);\n",
       "            }\n",
       "            buttonGroup = document.createElement('div');\n",
       "            buttonGroup.classList = 'btn-group';\n",
       "            continue;\n",
       "        }\n",
       "\n",
       "        button = fig.buttons[name] = document.createElement('button');\n",
       "        button.classList = 'btn btn-default';\n",
       "        button.href = '#';\n",
       "        button.title = name;\n",
       "        button.innerHTML = '<i class=\"fa ' + image + ' fa-lg\"></i>';\n",
       "        button.addEventListener('click', on_click_closure(method_name));\n",
       "        button.addEventListener('mouseover', on_mouseover_closure(tooltip));\n",
       "        buttonGroup.appendChild(button);\n",
       "    }\n",
       "\n",
       "    if (buttonGroup.hasChildNodes()) {\n",
       "        toolbar.appendChild(buttonGroup);\n",
       "    }\n",
       "\n",
       "    // Add the status bar.\n",
       "    var status_bar = document.createElement('span');\n",
       "    status_bar.classList = 'mpl-message pull-right';\n",
       "    toolbar.appendChild(status_bar);\n",
       "    this.message = status_bar;\n",
       "\n",
       "    // Add the close button to the window.\n",
       "    var buttongrp = document.createElement('div');\n",
       "    buttongrp.classList = 'btn-group inline pull-right';\n",
       "    button = document.createElement('button');\n",
       "    button.classList = 'btn btn-mini btn-primary';\n",
       "    button.href = '#';\n",
       "    button.title = 'Stop Interaction';\n",
       "    button.innerHTML = '<i class=\"fa fa-power-off icon-remove icon-large\"></i>';\n",
       "    button.addEventListener('click', function (_evt) {\n",
       "        fig.handle_close(fig, {});\n",
       "    });\n",
       "    button.addEventListener(\n",
       "        'mouseover',\n",
       "        on_mouseover_closure('Stop Interaction')\n",
       "    );\n",
       "    buttongrp.appendChild(button);\n",
       "    var titlebar = this.root.querySelector('.ui-dialog-titlebar');\n",
       "    titlebar.insertBefore(buttongrp, titlebar.firstChild);\n",
       "};\n",
       "\n",
       "mpl.figure.prototype._remove_fig_handler = function () {\n",
       "    this.close_ws(this, {});\n",
       "};\n",
       "\n",
       "mpl.figure.prototype._root_extra_style = function (el) {\n",
       "    el.style.boxSizing = 'content-box'; // override notebook setting of border-box.\n",
       "    el.addEventListener('remove', this._remove_fig_handler);\n",
       "};\n",
       "\n",
       "mpl.figure.prototype._canvas_extra_style = function (el) {\n",
       "    // this is important to make the div 'focusable\n",
       "    el.setAttribute('tabindex', 0);\n",
       "    // reach out to IPython and tell the keyboard manager to turn it's self\n",
       "    // off when our div gets focus\n",
       "\n",
       "    // location in version 3\n",
       "    if (IPython.notebook.keyboard_manager) {\n",
       "        IPython.notebook.keyboard_manager.register_events(el);\n",
       "    } else {\n",
       "        // location in version 2\n",
       "        IPython.keyboard_manager.register_events(el);\n",
       "    }\n",
       "};\n",
       "\n",
       "mpl.figure.prototype._key_event_extra = function (event, _name) {\n",
       "    var manager = IPython.notebook.keyboard_manager;\n",
       "    if (!manager) {\n",
       "        manager = IPython.keyboard_manager;\n",
       "    }\n",
       "\n",
       "    // Check for shift+enter\n",
       "    if (event.shiftKey && event.which === 13) {\n",
       "        this.canvas_div.blur();\n",
       "        // select the cell after this one\n",
       "        var index = IPython.notebook.find_cell_index(this.cell_info[0]);\n",
       "        IPython.notebook.select(index + 1);\n",
       "    }\n",
       "};\n",
       "\n",
       "mpl.figure.prototype.handle_save = function (fig, _msg) {\n",
       "    fig.ondownload(fig, null);\n",
       "};\n",
       "\n",
       "mpl.find_output_cell = function (html_output) {\n",
       "    // Return the cell and output element which can be found *uniquely* in the notebook.\n",
       "    // Note - this is a bit hacky, but it is done because the \"notebook_saving.Notebook\"\n",
       "    // IPython event is triggered only after the cells have been serialised, which for\n",
       "    // our purposes (turning an active figure into a static one), is too late.\n",
       "    var cells = IPython.notebook.get_cells();\n",
       "    var ncells = cells.length;\n",
       "    for (var i = 0; i < ncells; i++) {\n",
       "        var cell = cells[i];\n",
       "        if (cell.cell_type === 'code') {\n",
       "            for (var j = 0; j < cell.output_area.outputs.length; j++) {\n",
       "                var data = cell.output_area.outputs[j];\n",
       "                if (data.data) {\n",
       "                    // IPython >= 3 moved mimebundle to data attribute of output\n",
       "                    data = data.data;\n",
       "                }\n",
       "                if (data['text/html'] === html_output) {\n",
       "                    return [cell, data, j];\n",
       "                }\n",
       "            }\n",
       "        }\n",
       "    }\n",
       "};\n",
       "\n",
       "// Register the function which deals with the matplotlib target/channel.\n",
       "// The kernel may be null if the page has been refreshed.\n",
       "if (IPython.notebook.kernel !== null) {\n",
       "    IPython.notebook.kernel.comm_manager.register_target(\n",
       "        'matplotlib',\n",
       "        mpl.mpl_figure_comm\n",
       "    );\n",
       "}\n"
      ],
      "text/plain": [
       "<IPython.core.display.Javascript object>"
      ]
     },
     "metadata": {},
     "output_type": "display_data"
    },
    {
     "data": {
      "text/html": [
       "<img src=\"data:image/png;base64,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\" width=\"504\">"
      ],
      "text/plain": [
       "<IPython.core.display.HTML object>"
      ]
     },
     "metadata": {},
     "output_type": "display_data"
    },
    {
     "data": {
      "application/vnd.jupyter.widget-view+json": {
       "model_id": "8622aae4d3ea41ccb83da7690de45110",
       "version_major": 2,
       "version_minor": 0
      },
      "text/plain": [
       "interactive(children=(FloatSlider(value=1.0, description='x0', max=1.5, min=0.5, step=0.01), FloatSlider(value…"
      ]
     },
     "metadata": {},
     "output_type": "display_data"
    }
   ],
   "source": [
    "plt.close(\"all\")\n",
    "\n",
    "# Initial conditions\n",
    "init = {\n",
    "    \"x0\":1.0,\n",
    "    \"vx0\":0.0,\n",
    "    \"vy0\":1.0,\n",
    "    \"T\":1.0,\n",
    "    \"f\":-1.0, \n",
    "}\n",
    "\n",
    "# Colors\n",
    "COLOR_STAR = \"#ff7f00\"\n",
    "COLOR_CIRC = \"#c44e52\"\n",
    "COLOR_TRAJ = \"#F5D300\"\n",
    "\n",
    "# Run initial simulation\n",
    "t, x, y, vx, vy = orb_sim(**init)\n",
    "\n",
    "fig, ax = plt.subplots(figsize=(7, 7))\n",
    "fig.patch.set_facecolor('#212946')\n",
    "\n",
    "# Star\n",
    "host = plt.Circle((0, 0), 0.3, fc=COLOR_STAR)\n",
    "ax.add_artist(host)\n",
    "\n",
    "# Circular orbit comparison\n",
    "theta = np.linspace(0, 2*np.pi, 100)\n",
    "ax.plot(np.cos(theta), np.sin(theta), ls='--', color=COLOR_CIRC)\n",
    "\n",
    "# Trajectory\n",
    "trajectory, = ax.plot(x/AU, y/AU, color=COLOR_TRAJ)\n",
    "start, = ax.plot(x[0]/AU, y[0]/AU, ms=10, marker='X')\n",
    "end, = ax.plot(x[-1]/AU, y[-1]/AU, ms=10, marker='o')\n",
    "\n",
    "lim = 2.5\n",
    "#ax.set_xlim(-lim, lim)\n",
    "#ax.set_ylim(-lim, lim)\n",
    "ax.set_aspect(aspect='equal')\n",
    "ax.set_xlabel(\"X (AU)\")\n",
    "ax.set_ylabel(\"Y (AU)\")\n",
    "\n",
    "results = None\n",
    "@interact(\n",
    "    x0=(0.5, 1.5, 0.01),\n",
    "    vx0=(-2, 2, 0.01),\n",
    "    vy0=(-2, 2, 0.01),\n",
    "    T=(1, 5, 0.01),\n",
    "    f=(-2, 2, 0.01),\n",
    ")\n",
    "def update(x0=1.0, vx0=0.0, vy0=1.0, T=1.0, f=-1.0):\n",
    "    \"\"\"Remove old lines from plot and plot new one\"\"\"\n",
    "    \n",
    "    # Run sim\n",
    "    global results # Save final results for later analysis\n",
    "    results = t, x, y, vx, vy = orb_sim(x0=x0, vx0=vx0, vy0=vy0, T=T, f=f)\n",
    "    \n",
    "    # Update plot\n",
    "    trajectory.set_data(x/AU, y/AU)\n",
    "    start.set_data(x[0]/AU, y[0]/AU)\n",
    "    end.set_data(x[-1]/AU, y[-1]/AU)"
   ]
  },
  {
   "cell_type": "code",
   "execution_count": 26,
   "metadata": {},
   "outputs": [],
   "source": [
    "# Write final trajectory to file\n",
    "ascii.write(\n",
    "    results,\n",
    "    './orb.dat', \n",
    "    names=['t (s)', 'x (cm)', 'y (cm)', 'vx (cm/s)', 'vy (cm/s)'],\n",
    "    overwrite=True,\n",
    ")"
   ]
  },
  {
   "cell_type": "markdown",
   "metadata": {},
   "source": [
    "## Simulation Viewer"
   ]
  },
  {
   "cell_type": "markdown",
   "metadata": {},
   "source": [
    "The widgets below allow us to dynamically feed different initial conditions to the integrator to see in realtime how it effects the trajectory of Earth. Each of the sliders are created as a ```ipywidgets.FloatSlider``` within  ```ipywidgets```. The sliders are then displayed as an interactive slider within the notebook by sending them to ```ipywidgets.interactive```. The value displayed below each slider widget is sent to ```orb_plot```, the first argument of ```interactive```, and read in as a function argument of ```orb_plot```. The plot of Earth's trajectory is then updated and displayed below based on the user's choices."
   ]
  },
  {
   "cell_type": "markdown",
   "metadata": {},
   "source": [
    "Quick summary of the sliders\n",
    "* $-r_x$: how far along the x-axis, in AU, the test particle starts. This sets $x_0$.\n",
    "* $v_x$: initial x component of the test particle velocity in units of the circular speed $v_c = \\sqrt{GM/x_0}$\n",
    "* $-v_y$: initial y component of the test particle velocity in units of $v_c$, with down defined as negative.\n",
    "* $T$: How long the simulation runs for, in units of 1 year.\n",
    "* $f\\ \\left(dt = 10^f \\cdot x_0 / v\\right)$: defines the characterisic lengthscale used for cell crossing time in adaptive timestep procedure. $f$ scales the power of ten multiplied by the intitial distance of the test particle from the central mass. $v$ is the total speed of the test particle at the beginning of the current timestep. You can think of larger values of $f$ as making the simulation more \"inaccurate\" because of the courser timesteps that are made.\n",
    "\n",
    "\n",
    "Quick summary of the graphical elements\n",
    "* cyan: the reference circular orbit of the Earth\n",
    "* orange: current trajectory of the Earth\n",
    "* white arrow: initial velocity vector\n",
    "* purple X: starting location\n",
    "* green circle: final location of the Earth\n",
    "* dark orange circle: the Sun"
   ]
  },
  {
   "cell_type": "markdown",
   "metadata": {},
   "source": [
    "# Taking a Look at the Data"
   ]
  },
  {
   "cell_type": "markdown",
   "metadata": {},
   "source": [
    "From the position and velocity information stored in ```orb.dat``` we can derive different physical quantities like the specific energy and angular momentum of our test particle. Plotting how these quantites vary over time is a nice way to check if our integrator is doing a good job of conserving these quantites. \n",
    "\n",
    "Since the test particle is \"massless\" $(m\\to 0)$, the specific energy $E$ and specific angular momentum $L$ is used because it already divides through regular energy and angular momentum by $m$:\n",
    "$$\\begin{aligned} \n",
    "    E &= \\frac{1}{2}v^2 - \\frac{GM}{r} \\\\ \n",
    "    L &= r \\times v \\quad.\n",
    "\\end{aligned}$$\n",
    "\n",
    "Typically, adaptive time stepping is a handy way to improve how well the RK4 integrator conserves these quantities. The naive prescription I used just scales the timesteps by how fast the test particle is crossing a given length scale $(\\Delta t = 10^f r_0 / v)$. Feel free to play around with the \"fudge factor\" $f$ on the interactive slider or create your own adaptive time stepping prescription!"
   ]
  },
  {
   "cell_type": "code",
   "execution_count": 27,
   "metadata": {
    "scrolled": true
   },
   "outputs": [
    {
     "data": {
      "text/html": [
       "<i>Table length=67</i>\n",
       "<table id=\"table140352543774128-995839\" class=\"table-striped table-bordered table-condensed\">\n",
       "<thead><tr><th>idx</th><th>t (s)</th><th>x (cm)</th><th>y (cm)</th><th>vx (cm/s)</th><th>vy (cm/s)</th></tr></thead>\n",
       "<tr><td>0</td><td>0.0</td><td>-14959787070000.0</td><td>0.0</td><td>-1548803.9751432005</td><td>-1191387.6731870773</td></tr>\n",
       "<tr><td>1</td><td>765589.8547446904</td><td>-15979946912075.54</td><td>-908948468194.3616</td><td>-1125939.0259132849</td><td>-1179373.3907307794</td></tr>\n",
       "<tr><td>2</td><td>1683064.3242079346</td><td>-16804245820544.133</td><td>-1974884024600.9727</td><td>-679677.8202615033</td><td>-1140496.6094079714</td></tr>\n",
       "<tr><td>3</td><td>2809838.5204148297</td><td>-17287392395247.623</td><td>-3220273614719.2803</td><td>-185180.1472976306</td><td>-1065471.6194162003</td></tr>\n",
       "<tr><td>4</td><td>4193154.247942822</td><td>-17147179880808.555</td><td>-4609537398347.067</td><td>384281.4033464124</td><td>-936102.9470813898</td></tr>\n",
       "<tr><td>5</td><td>5671526.21944475</td><td>-16131928019458.672</td><td>-5859526472546.625</td><td>993352.550943773</td><td>-744008.9248733548</td></tr>\n",
       "<tr><td>6</td><td>6876903.373378528</td><td>-14618068586285.041</td><td>-6632161012792.408</td><td>1527694.0349930502</td><td>-526126.6854791535</td></tr>\n",
       "<tr><td>7</td><td>7802774.181622253</td><td>-12994417089955.041</td><td>-7018580648199.943</td><td>1989890.1310063214</td><td>-296793.72392087366</td></tr>\n",
       "<tr><td>8</td><td>8546338.620986002</td><td>-11359668293924.5</td><td>-7151056592740.37</td><td>2418126.5681948755</td><td>-46718.21184263771</td></tr>\n",
       "<tr><td>9</td><td>9164875.139474731</td><td>-9738202466236.248</td><td>-7096837594336.79</td><td>2836733.034426115</td><td>237104.6360624757</td></tr>\n",
       "<tr><td>10</td><td>9690402.315294571</td><td>-8139194107840.307</td><td>-6889379264189.27</td><td>3262015.532659786</td><td>571359.3763650978</td></tr>\n",
       "<tr><td>11</td><td>10142130.920106646</td><td>-6568635143736.602</td><td>-6544692076214.686</td><td>3706884.9547269633</td><td>980046.587678328</td></tr>\n",
       "<tr><td>12</td><td>10532292.745356878</td><td>-5033027718322.371</td><td>-6067722097211.666</td><td>4182451.1104149176</td><td>1501106.0266166995</td></tr>\n",
       "<tr><td>13</td><td>10868946.501072625</td><td>-3541807277169.635</td><td>-5454142101754.556</td><td>4696258.646244714</td><td>2199792.1265043938</td></tr>\n",
       "<tr><td>14</td><td>11157414.918226602</td><td>-2111007584872.6055</td><td>-4689062305294.209</td><td>5241034.005739016</td><td>3198837.500116225</td></tr>\n",
       "<tr><td>15</td><td>11401055.13882343</td><td>-771906815460.04</td><td>-3742090089421.258</td><td>5743096.561611199</td><td>4752700.914771392</td></tr>\n",
       "<tr><td>16</td><td>11601733.266128667</td><td>402817787143.6509</td><td>-2557548902273.8594</td><td>5799554.877641271</td><td>7419118.905298353</td></tr>\n",
       "<tr><td>17</td><td>11760594.185002556</td><td>1206216013625.201</td><td>-1062700082066.4631</td><td>3339401.073735407</td><td>11821774.424684096</td></tr>\n",
       "<tr><td>18</td><td>11882373.136378929</td><td>1170429364578.4373</td><td>531232351503.3059</td><td>-4716655.1652087215</td><td>13005388.318645211</td></tr>\n",
       "<tr><td>19</td><td>11990508.8718885</td><td>376563241230.8231</td><td>1661642946401.7754</td><td>-8859891.383510271</td><td>7736366.835146651</td></tr>\n",
       "<tr><td>20</td><td>12117694.291127723</td><td>-760513549160.5316</td><td>2359027909406.736</td><td>-8678851.833555102</td><td>3752741.757927309</td></tr>\n",
       "<tr><td>21</td><td>12275907.666898372</td><td>-2044832821144.0952</td><td>2755977519751.0723</td><td>-7558730.40894803</td><td>1571921.6165387519</td></tr>\n",
       "<tr><td>22</td><td>12469676.00588663</td><td>-3394463771515.552</td><td>2927756977413.816</td><td>-6428754.345607568</td><td>354967.99148016376</td></tr>\n",
       "<tr><td>23</td><td>12702023.266347896</td><td>-4767037083207.131</td><td>2916934255012.6206</td><td>-5440225.469099124</td><td>-366682.18071864836</td></tr>\n",
       "<tr><td>24</td><td>12976385.443157172</td><td>-6136626531395.414</td><td>2748239994282.1445</td><td>-4587244.275894644</td><td>-816387.7771541558</td></tr>\n",
       "<tr><td>25</td><td>13297457.500921708</td><td>-7483809706442.565</td><td>2435214487374.667</td><td>-3839125.881706268</td><td>-1104730.7748245846</td></tr>\n",
       "<tr><td>26</td><td>13671928.554852944</td><td>-8790227318993.404</td><td>1983336996410.0818</td><td>-3166117.7893514237</td><td>-1289750.1081458954</td></tr>\n",
       "<tr><td>27</td><td>14109510.930320093</td><td>-10034222330098.37</td><td>1391256216144.9229</td><td>-2542630.1428174553</td><td>-1403119.6954906494</td></tr>\n",
       "<tr><td>28</td><td>14624639.93653529</td><td>-11185206219961.91</td><td>650789615900.315</td><td>-1945570.1711775884</td><td>-1461796.885311791</td></tr>\n",
       "<tr><td>29</td><td>15239374.716325352</td><td>-12193359546718.96</td><td>-253749451093.66455</td><td>-1351238.864345305</td><td>-1472893.8261832679</td></tr>\n",
       "<tr><td>30</td><td>15987807.395665485</td><td>-12967136099505.982</td><td>-1344567776203.5156</td><td>-730989.5486371428</td><td>-1434356.9597586775</td></tr>\n",
       "<tr><td>31</td><td>16917053.827385783</td><td>-13323432107368.135</td><td>-2633866778569.762</td><td>-46975.10534344858</td><td>-1331514.668942412</td></tr>\n",
       "<tr><td>32</td><td>18039871.797664095</td><td>-12938023302663.148</td><td>-4026042866041.0986</td><td>730411.7825350526</td><td>-1134324.769287418</td></tr>\n",
       "<tr><td>33</td><td>19148705.879805412</td><td>-11696632102327.426</td><td>-5131927822330.027</td><td>1518820.2012077468</td><td>-839736.6147720881</td></tr>\n",
       "<tr><td>34</td><td>20010691.297962457</td><td>-10099335491201.645</td><td>-5717778434339.784</td><td>2203567.5232699895</td><td>-496769.5748881706</td></tr>\n",
       "<tr><td>35</td><td>20672960.16223592</td><td>-8441729925687.672</td><td>-5926132299664.23</td><td>2820480.494382552</td><td>-106850.48230662307</td></tr>\n",
       "<tr><td>36</td><td>21202978.492003366</td><td>-6794262721711.954</td><td>-5868101475592.989</td><td>3416227.7214347664</td><td>357689.86276689335</td></tr>\n",
       "<tr><td>37</td><td>21638501.418646824</td><td>-5179786951592.59</td><td>-5594769370521.727</td><td>4020099.46496345</td><td>941161.2098310587</td></tr>\n",
       "<tr><td>38</td><td>22000829.199102376</td><td>-3613652712647.547</td><td>-5124918297676.977</td><td>4648897.0638280455</td><td>1718133.1232074853</td></tr>\n",
       "<tr><td>39</td><td>22302667.17210259</td><td>-2115707376231.3433</td><td>-4455369350354.403</td><td>5297111.526118586</td><td>2828460.319225241</td></tr>\n",
       "<tr><td>40</td><td>22551790.897829182</td><td>-722607511315.9495</td><td>-3560482134786.2</td><td>5873822.675576774</td><td>4563434.25404546</td></tr>\n",
       "<tr><td>41</td><td>22752912.134267066</td><td>479857437605.41943</td><td>-2384417852966.7715</td><td>5867347.928220838</td><td>7552041.398660318</td></tr>\n",
       "<tr><td>42</td><td>22909339.21768949</td><td>1245670721068.2507</td><td>-864043750583.4307</td><td>2751985.393912649</td><td>12216940.411886573</td></tr>\n",
       "<tr><td>43</td><td>23028797.12880476</td><td>1099985189704.78</td><td>691359115234.1912</td><td>-5649090.033231355</td><td>12355939.604658447</td></tr>\n",
       "<tr><td>44</td><td>23138908.297357585</td><td>229639373201.45325</td><td>1746459579556.5703</td><td>-9070110.092023088</td><td>6837545.3457011515</td></tr>\n",
       "<tr><td>45</td><td>23270612.218512494</td><td>-950849287852.2513</td><td>2358555959139.867</td><td>-8578456.891571533</td><td>2982694.9018624933</td></tr>\n",
       "<tr><td>46</td><td>23435327.639064495</td><td>-2257821526298.803</td><td>2652803638235.032</td><td>-7311896.514401351</td><td>886961.6843066369</td></tr>\n",
       "<tr><td>47</td><td>23638433.947492626</td><td>-3610197327336.5996</td><td>2699198044314.7925</td><td>-6069908.314574799</td><td>-279768.0808402428</td></tr>\n",
       "<tr><td>48</td><td>23884630.783377927</td><td>-4962267448974.147</td><td>2536205556665.584</td><td>-4973238.766425575</td><td>-963385.265208537</td></tr>\n",
       "<tr><td>49</td><td>24179946.665758733</td><td>-6281029439911.168</td><td>2183741676182.834</td><td>-4006285.563846429</td><td>-1376360.833431628</td></tr>\n",
       "<tr><td>50</td><td>24533095.188337225</td><td>-7534529681451.654</td><td>1648808325055.6802</td><td>-3131667.3047361136</td><td>-1623205.996676194</td></tr>\n",
       "<tr><td>51</td><td>24957204.59809352</td><td>-8681940491489.52</td><td>927769479907.3937</td><td>-2311240.9594477895</td><td>-1756437.202421173</td></tr>\n",
       "<tr><td>52</td><td>25472541.599979576</td><td>-9658711742541.855</td><td>7421785670.275757</td><td>-1506312.3359419752</td><td>-1799657.6178956965</td></tr>\n",
       "<tr><td>53</td><td>26109980.44197914</td><td>-10345986373369.79</td><td>-1129890761731.8218</td><td>-672055.7788497569</td><td>-1754580.7858232656</td></tr>\n",
       "<tr><td>54</td><td>26906185.579067696</td><td>-10509739491696.82</td><td>-2470896846111.4272</td><td>245866.21946609858</td><td>-1597180.9508102601</td></tr>\n",
       "<tr><td>55</td><td>27831918.31138199</td><td>-9810836358117.645</td><td>-3815316483133.765</td><td>1265082.2297853467</td><td>-1280900.3999577758</td></tr>\n",
       "<tr><td>56</td><td>28662871.56293139</td><td>-8362618233338.377</td><td>-4703765598359.497</td><td>2240198.049876183</td><td>-819836.7227684997</td></tr>\n",
       "<tr><td>57</td><td>29289984.320831373</td><td>-6697355484640.821</td><td>-5056139042254.221</td><td>3096916.9070903426</td><td>-259038.50257741218</td></tr>\n",
       "<tr><td>58</td><td>29771357.531990863</td><td>-5020637214481.664</td><td>-5026925991545.186</td><td>3898306.9972800575</td><td>438833.4995210455</td></tr>\n",
       "<tr><td>59</td><td>30152699.812253434</td><td>-3389101879249.592</td><td>-4698897134852.535</td><td>4688037.873440491</td><td>1367736.1104950523</td></tr>\n",
       "<tr><td>60</td><td>30459034.218473893</td><td>-1837734122513.278</td><td>-4096587128910.8125</td><td>5461060.370782972</td><td>2709131.7836075956</td></tr>\n",
       "<tr><td>61</td><td>30704433.0612487</td><td>-418687567050.48193</td><td>-3203342361154.058</td><td>6062864.581814467</td><td>4846138.485831955</td></tr>\n",
       "<tr><td>62</td><td>30897172.561373655</td><td>745251549722.0151</td><td>-1963173122527.9539</td><td>5613468.246086962</td><td>8544875.372353595</td></tr>\n",
       "<tr><td>63</td><td>31043495.835670672</td><td>1306597881085.2085</td><td>-365021463145.5842</td><td>541699.3475835891</td><td>13129815.281498108</td></tr>\n",
       "<tr><td>64</td><td>31157336.518374298</td><td>890444403810.9062</td><td>1056687396083.105</td><td>-7439480.334530895</td><td>10510902.030455358</td></tr>\n",
       "<tr><td>65</td><td>31273508.260422383</td><td>-127167702643.19897</td><td>1935281940228.648</td><td>-9195106.89126829</td><td>4995064.5575695615</td></tr>\n",
       "<tr><td>66</td><td>31416469.084287222</td><td>-1378203040024.4075</td><td>2372682273299.63</td><td>-8162518.028789859</td><td>1608547.1947954912</td></tr>\n",
       "</table><style>table.dataTable {clear: both; width: auto !important; margin: 0 !important;}\n",
       ".dataTables_info, .dataTables_length, .dataTables_filter, .dataTables_paginate{\n",
       "display: inline-block; margin-right: 1em; }\n",
       ".paginate_button { margin-right: 5px; }\n",
       "</style>\n",
       "<script>\n",
       "\n",
       "var astropy_sort_num = function(a, b) {\n",
       "    var a_num = parseFloat(a);\n",
       "    var b_num = parseFloat(b);\n",
       "\n",
       "    if (isNaN(a_num) && isNaN(b_num))\n",
       "        return ((a < b) ? -1 : ((a > b) ? 1 : 0));\n",
       "    else if (!isNaN(a_num) && !isNaN(b_num))\n",
       "        return ((a_num < b_num) ? -1 : ((a_num > b_num) ? 1 : 0));\n",
       "    else\n",
       "        return isNaN(a_num) ? -1 : 1;\n",
       "}\n",
       "\n",
       "require.config({paths: {\n",
       "    datatables: 'https://cdn.datatables.net/1.10.12/js/jquery.dataTables.min'\n",
       "}});\n",
       "require([\"datatables\"], function(){\n",
       "    console.log(\"$('#table140352543774128-995839').dataTable()\");\n",
       "    \n",
       "jQuery.extend( jQuery.fn.dataTableExt.oSort, {\n",
       "    \"optionalnum-asc\": astropy_sort_num,\n",
       "    \"optionalnum-desc\": function (a,b) { return -astropy_sort_num(a, b); }\n",
       "});\n",
       "\n",
       "    $('#table140352543774128-995839').dataTable({\n",
       "        order: [],\n",
       "        pageLength: 50,\n",
       "        lengthMenu: [[10, 25, 50, 100, 500, 1000, -1], [10, 25, 50, 100, 500, 1000, 'All']],\n",
       "        pagingType: \"full_numbers\",\n",
       "        columnDefs: [{targets: [0, 1, 2, 3, 4, 5], type: \"optionalnum\"}]\n",
       "    });\n",
       "});\n",
       "</script>\n"
      ],
      "text/plain": [
       "<IPython.core.display.HTML object>"
      ]
     },
     "execution_count": 27,
     "metadata": {},
     "output_type": "execute_result"
    }
   ],
   "source": [
    "t = ascii.read('./orb.dat')\n",
    "t.show_in_notebook()"
   ]
  },
  {
   "cell_type": "markdown",
   "metadata": {},
   "source": [
    "### Calculate and Plot Energy and Angular Momentum"
   ]
  },
  {
   "cell_type": "markdown",
   "metadata": {},
   "source": [
    "When making plots are quantities that can potentially get ridiculously large or small over time, it can be helpful to normalize them against an initial quantity. For example, plotting the change it total energy of the Earth normalized by its initial energy is a lot more informative than just plotting the raw value of the total energy without any sort of referene. Similary, plotting the change in angular momentum normalized to the initial angular momentum is more informative about the conservation of this quantity. "
   ]
  },
  {
   "cell_type": "code",
   "execution_count": 40,
   "metadata": {},
   "outputs": [],
   "source": [
    "%matplotlib inline"
   ]
  },
  {
   "cell_type": "code",
   "execution_count": 30,
   "metadata": {},
   "outputs": [
    {
     "data": {
      "image/png": "[encoded data removed]",
      "text/plain": [
       "<Figure size 1008x252 with 3 Axes>"
      ]
     },
     "metadata": {
      "image/png": {
       "height": 246,
       "width": 997
      }
     },
     "output_type": "display_data"
    }
   ],
   "source": [
    "###########\n",
    "# Calculate\n",
    "###########\n",
    "x = t[\"x (cm)\"]\n",
    "y = t[\"y (cm)\"]\n",
    "vx = t[\"vx (cm/s)\"]\n",
    "vy = t[\"vy (cm/s)\"]\n",
    "dist = np.sqrt(x**2 + y**2) # distance\n",
    "\n",
    "speed = np.sqrt(vx**2 + vy**2) # speed\n",
    "speed_0 = np.sqrt(vx[0]**2 + vy[0]**2)\n",
    "\n",
    "spec_E = 0.5*speed**2 - G*M/dist # specific energy\n",
    "spec_E0 = 0.5*speed[0]**2 - G*M/dist[0]\n",
    "\n",
    "spec_L = []\n",
    "for i in range(len(x)):\n",
    "    r = np.array([x[i], y[i], 0])\n",
    "    v = np.array([vx[i], vy[i], 0])\n",
    "    spec_L_i = np.linalg.norm(np.cross(r, v))\n",
    "    spec_L.append(spec_L_i)\n",
    "r0 = np.array([x[0], y[0], 0])\n",
    "v0 = np.array([vx[0], vy[0], 0])\n",
    "spec_L0 = np.linalg.norm(np.cross(r0, v0))\n",
    "\n",
    "######\n",
    "# Plot\n",
    "######\n",
    "fig, ax = plt.subplots(1, 3, figsize=(14,3.5), facecolor=\"#212946\")\n",
    "\n",
    "# speed\n",
    "ax[0].plot((speed - speed_0) / speed_0, lw=2)\n",
    "ax[0].set_xlabel(\"step\")\n",
    "ax[0].set_ylabel(\"$\\Delta v/v_0$\")\n",
    "ax[0].set_title(\"speed\")\n",
    "\n",
    "# specific energy\n",
    "ax[1].plot((spec_E - spec_E0) / spec_E0, lw=2)\n",
    "ax[1].set_xlabel(\"step\")\n",
    "ax[1].set_ylabel(\"$\\Delta E/E_0$\")\n",
    "ax[1].set_title(\"energy\")\n",
    "\n",
    "# specific angular momentum\n",
    "ax[2].plot((spec_L - spec_L0) / spec_L0, lw=2)\n",
    "ax[2].set_xlabel(\"step\")\n",
    "ax[2].set_ylabel(\"$\\Delta L/L_0$\")\n",
    "ax[2].set_title(\"angular momentum\")\n",
    "\n",
    "fig.tight_layout()"
   ]
  },
  {
   "cell_type": "markdown",
   "metadata": {},
   "source": [
    "# Movie Maker"
   ]
  },
  {
   "cell_type": "markdown",
   "metadata": {},
   "source": [
    "We can also use the data in ``` orb.dat ``` to create an animation of the interactive plot from earlier, along with some other information about the orbit."
   ]
  },
  {
   "cell_type": "code",
   "execution_count": 41,
   "metadata": {},
   "outputs": [],
   "source": [
    "%matplotlib inline"
   ]
  },
  {
   "cell_type": "code",
   "execution_count": 44,
   "metadata": {},
   "outputs": [
    {
     "data": {
      "text/html": [
       "<video width=\"720\" height=\"720\" controls autoplay loop>\n",
       "  <source type=\"video/mp4\" src=\"data:video/mp4;base64,AAAAIGZ0eXBNNFYgAAACAE00ViBpc29taXNvMmF2YzEAAAAIZnJlZQAApcdtZGF0AAACsAYF//+s\n",
       "3EXpvebZSLeWLNgg2SPu73gyNjQgLSBjb3JlIDE2MCByMzAxMU0gY2RlOWE5MyAtIEguMjY0L01Q\n",
       "RUctNCBBVkMgY29kZWMgLSBDb3B5bGVmdCAyMDAzLTIwMjAgLSBodHRwOi8vd3d3LnZpZGVvbGFu\n",
       "Lm9yZy94MjY0Lmh0bWwgLSBvcHRpb25zOiBjYWJhYz0xIHJlZj0zIGRlYmxvY2s9MTowOjAgYW5h\n",
       "bHlzZT0weDM6MHgxMTMgbWU9aGV4IHN1Ym1lPTcgcHN5PTEgcHN5X3JkPTEuMDA6MC4wMCBtaXhl\n",
       "ZF9yZWY9MSBtZV9yYW5nZT0xNiBjaHJvbWFfbWU9MSB0cmVsbGlzPTEgOHg4ZGN0PTEgY3FtPTAg\n",
       "ZGVhZHpvbmU9MjEsMTEgZmFzdF9wc2tpcD0xIGNocm9tYV9xcF9vZmZzZXQ9LTIgdGhyZWFkcz0x\n",
       "MiBsb29rYWhlYWRfdGhyZWFkcz0yIHNsaWNlZF90aHJlYWRzPTAgbnI9MCBkZWNpbWF0ZT0xIGlu\n",
       "dGVybGFjZWQ9MCBibHVyYXlfY29tcGF0PTAgY29uc3RyYWluZWRfaW50cmE9MCBiZnJhbWVzPTMg\n",
       "Yl9weXJhbWlkPTIgYl9hZGFwdD0xIGJfYmlhcz0wIGRpcmVjdD0xIHdlaWdodGI9MSBvcGVuX2dv\n",
       "cD0wIHdlaWdodHA9MiBrZXlpbnQ9MjUwIGtleWludF9taW49MjUgc2NlbmVjdXQ9NDAgaW50cmFf\n",
       "cmVmcmVzaD0wIHJjX2xvb2thaGVhZD00MCByYz1jcmYgbWJ0cmVlPTEgY3JmPTIzLjAgcWNvbXA9\n",
       "MC42MCBxcG1pbj0wIHFwbWF4PTY5IHFwc3RlcD00IGlwX3JhdGlvPTEuNDAgYXE9MToxLjAwAIAA\n",
       "AFJLZYiEACP//sdv5lk0HgPruI6m0racu09rQh/CTrz4VaR31vhW1U+/Hmh5KKyqQHrAIFgVKCW4\n",
       "qbh5/vHWcpjEYsr+05SYqKejPwTPeXCv62VOkTnOBlylQXqq19APSJqShkAK77HF7QzmWbzUEruy\n",
       "GUX4wIXc9n0F6nVdHS/9VfLq/ZbIb06z0Gs0myN+IulFAd58W2SMr4E2b6Ur8sxRstwdoehx9foi\n",
       "giKCMcdrLNLfW0Ab/fdOwpDCeFTC7vY/C7wiIzdx2l+2BjasgJobjhdG8rw1G1guc2DAOHH0aSvU\n",
       "xwfo9V/hdOu+I9mNANQDYjfr6ZS2iHq5ViRzPzWxqsuB4NRSZYx7esKFZmVfUwgPKJODVIcp+Kci\n",
       "0u08UmgKl1ldKgv47UN7JjefJ4Z4FtIbPgNcwI7aKJ2hb+Jdt5nZZeX8fPbfnTWsuZQS2KWy8hVv\n",
       "WUj6msskxxCVUe0JOA8St83FwzeAz4d1fdc/bUCiDeprhhqcb005D/jDva2lCJ39+uqsFmf4g4I8\n",
       "NTy0f/6MFLTpHTKsoZQC5z8Azc4AhyE4CUPLIoz0DVmIDk2MuOhp1UlVoQswNECDidiE8E0SfW8V\n",
       "kFJfGoH1tyo5WN2zyb1t+rKB3TbH2nEvH/sYZvD88wo4eSe0Dc+tfc6c90vczSDrs/3T9UCskQjm\n",
       "OOzNnDzIBL9BjFq6aHULsmP/jdMeVUu+G0DebdxP0SGrB6I5WS0YblqklCaWvD5jdra+wEdPpLNi\n",
       "KPNWX9hOhNlL7nc/N8CVQ8YchT5V6ENB4/f2DHbBTLNxvtLvJWUWv8HQAWzW0uJDcduf0Eby1Nir\n",
       "4DNLl8FF/AD5SZr/VY1E1kuXh/oXqKOdF9AaoHdyHLSEnO4NHtCx86jDhU+w/G3Pp+hIKaw+1RZd\n",
       "8ARI91wylimNbM1bh2m14GqD9qf/54+VUfaWUtEjhxlgTLO0EY4bNO38drti742+o/YmMIjvWvfL\n",
       "lOH/RdYbvZ+h24eBFkIUxriT19jc/y1Q0PhMCYp4RDA68qpZWiv5m05M6OtHdotUqKnfiofsCi93\n",
       "cFizufs1Y0XxnZbkoXia+bVc5fDgZ5Qsw4Ky2ej3W8joPIMX6O4PmR//oees46yGO1S9xIcx92WA\n",
       "Q1/v/iPotTd/Mw09fLPgislNwKb/vriyFgWoJcOC0Tmx8TneC/WrlBknvvahiXt/V6I1bjilh/yy\n",
       "UksYP8lX/U1neFQ3aRukivIKzHEgMU7rwD2OZjsk7Jgz33OyffPDR7s1gwPLcHuIEL7bziD6KcrH\n",
       "A8FAofD/+dHgQFwWnLHYkEZNzgahzQuJm0qtHRAnR42DPV6VoDOYL6QGvl4ZpDHRRpCrvvk0HuoD\n",
       "bpTkaRjf2E52NNj8F61ltH0IACcftulhnq+qykoOKSqi/J6o1f9bIJxXnxSgyjKIZmrcfBm9F7+5\n",
       "yH5cNjDdR9cx6w+hq7ESu3jSgSBRK37+ie7sGVXJMLsrUZWsTYABuIjG5bRp36bxhZ4wMWb+Y+FZ\n",
       "qy7/a0Qnu+dVSvBXp7Yd8NOZJ+RyTim2rv24wLh8UyjTREtnp/Se10593/1h9QI14kMU01YeBGFx\n",
       "6YjOCFGxpEGoB2MGqCUmhxgUYOXpaHo9Hb2bpSnSEMLkvzqROf+qjm9w5WVKwiHQTv75P8/qV6ib\n",
       "YhH0NTUlClh0OyJ+8eTW1imiYKsNOgjNWBDH0zbGKIFXQY0P1AU/M27L6B+76HilX9DQX5SrgRkI\n",
       "p2TSvsmtdCv0qOnYanFvNCHi+9b8hlM4dFnEDcar0gj8cnQ19fMo92cKg96N20TZ5Z1c4CeCDLP+\n",
       "YMrbcWU4txEBjekwHFIWuAKOPNG02iMz3P4PcDJ7yCscBAHaV1pXodGZIgE4iiAEQgoal2SpB9xa\n",
       "Ubs5QeyAN/aYwiq+kXjJ0BEj/2Fm0xQn6nytguBIFRFAtNasHeQxSonXAwN3u4ULGhZNVkM1qlPS\n",
       "BbcG+GRxzU4FrXNJwhP2qV04QwDXLt8fm6CFfhfWwPjBvM4yiZ83FObCSGXjCIpwJn4Ow1mqKnNT\n",
       "uJx0XVDa+XVFkT/TIeMjYQvpSYsnG3j4skhqEn93Y7wXO54SbRTRrRD51FHLj8+hQKjHCHLph2k/\n",
       "x6RT/2X5k3RuMKyv6uTX4t5oiWH2e85m9vJRS6qiYdpu0LKsdsMHMU+nCTmptnTzcD9fcNxnS8PD\n",
       "G+IdG0Dd7kNT8yjWzGBtoGS4GEKetTNdIv0VoODcygnQOif//C6icAeZFjfHL0WS+4W//Ndtydrd\n",
       "c0wIQcufVNONl9uBDY/lP5pZqGaIQhgpNQUjGHfKVmGL8XJWOi50eo4ZraTnckEf3+Uhn9GkqyXT\n",
       "ebgCveS+03hZ73kH01x+o3/NjP6+cfyffiC6jTRvtRcRZCrMJRR3MMHojygBfibzE+hjahjjFuP/\n",
       "wZdThqf9D1467m7K/9pzTgmxo/rdDXiI691KWKXhJEmvA8p8xnJ37wBfG0VNtYyHfPslYbPybNL/\n",
       "OW2W52XpGlldQNrqwwz2Ryv6R6NGaPlXPX3vilTAlZ/k/9aV+aK5YZJOooNO5iX8pXENbOjV3z1J\n",
       "/qW8VlFPWM4nYYljoGrT3BzvTdAX8Rs6RNQH1dAjM/mfz7Y+7Jb8j5mdxVbcxUBtqgR9UF/F71Qd\n",
       "xtJiSBIjDPFtYEMHiEfeV/hISsyIBjb5h9RT7WvJcqmlAE89aDfTwoxBwjZTtUQsUF4IIqP5XZJy\n",
       "2iCEuoX3j3JSq5ZtPWHKgjEd1W56KFLesiEa5wIdpdmTNW1xXnT3yDLs4kWIvI9W1WCHsSQP/gI5\n",
       "t0d9+UdwFxCkCd/H57elADQ7+HQZshMb4X9PRkpCQh7L41DpGC1LHYNmG0LVsRFDhb0Cy26W03ml\n",
       "ywVY24aoWRzqGyVbqggw/MWv5M6asOZSt/KABWGY1bQHkgVsNgw/FDoyT2abCkv5EaqawWPB5nxc\n",
       "G7SLpzBvgLshmJIhRlcRyqWz5M2dBHJQ7zb/rW+CQHUyuFSTzfPdZq1NnPrlChvT5wXl6TXDNH+r\n",
       "8COzdPvjeC9itDBxPPQCDMEqL/nN0bE+IlQ84JpubvZCb9d28bAoNhqOJQ/jU6snykYJ0c/88IHm\n",
       "IGa09zJ2obqoqNI7luoCessM57TGBI+iMiWfeSOATa/iESSfSZJSAlBLVfzwk3+fchdBdsIEmgNZ\n",
       "UgwpXi4dD2/7QYmP8C61K4+EjzfP7dofnQUfe9LaoqdguJm7K5M264weMQProCKokSUss/IDXnr5\n",
       "K7zGr0/Odol4LwxSSpfljgZy+XmmuStxW/osL+D6xEZVm6NRUH2LqEpKf4US8qvlPhJCOIN4pmzz\n",
       "0euUm3VuiWyxDGChGsWOhl65vqIe0rtLrE5QQtV5utWPrXBFUeEDdBjpEGLEQee44nQSE+7cdf7J\n",
       "m8ygo34KytW/YoQGJI/oJUTWZL6WnYOAOF8PB3+GsV8tqQKNkZA6UO7rF41ala5Om+QGQlvLb4nE\n",
       "rfbhKDVfwWaR0daNcmm9GFTbknAXRz6yYse98Sy+/VOMTyT3fEFTQywyRuL++A0iA5aB0Tk20DtB\n",
       "cW7WMgL7aWDVe3cjUYpWOuVsA4m7bSQ+dpUx2YlqefAhOzFMCtyx7n7yY9eFPyrSt9opNMPo6DsY\n",
       "hFMMQ53eKj0BrV4RcRen91IhlMNi7jzmp9aaGxOPCmy+dmqVzD57KOB3+5oxdGNYDYXnIfkWD0BD\n",
       "9yEe1m76Zp/STIRKor6TxFqMhPywmVxcaSIoOm/iEtKfhsmA5CEMzMOslRsbd8Kjvc505LG6e7O1\n",
       "cjPUv/MhWq4miLjqVgjiwyBqWy9zqp58+NLsRqxvzUgw6YPbRIafke6w33/hKT6wGceIIM11Cctf\n",
       "tIymxBHyok//vfjc/HxQ3rE/3umsXr0pVQron7IiB89mC6uPTC5DPJoNrcxFmmxnBKc+XO2aUhyY\n",
       "+UeZok++LuMqmOWFYsjocsfv3rcZX0PJo55GJU4i3b0uV4jpFqtnaX5/Sh7IHF2gGjHXh1VFxtIT\n",
       "AGrqV4E0ehykuQbU+MeIEiIwHFYRVIKanrWXyqrDuDPkgGSACtguLgE7B9cOlD84ZaeOzPCXCZDl\n",
       "CkebMzsyhf2yHy8aFCrPhvZAf6wkrCXtZD7biKw1WVUXvGer9OgeEbnWNjYtq4exLmbs2ilT44GY\n",
       "hEZENxZWy0fUY0MnuRRIfB3hRoEkmRKa/hRrYyr/L4h55LYC2FulABReQFrVIz4sKYNPsHVT90/s\n",
       "q+Y3z5lbXuBHeXR1Ert6KNLgljZIdpVNVyqGmCKEVpRANelTscp55dcJh9QFijo6n5RrnX2jftx7\n",
       "bvggIyR9+Jx23Ft0Tfz21tWb8Ecd03nK2TajHwCT4dtzkgdaQLyaz3fCTzT4bszEesB4pEbualTb\n",
       "g4dJL49Pl1GSX/m5Ks/wQclAqeprBn5LbF4fKi4tpV7Nh/Z1RQbAn5p9lCXhOYxdVYf3frslo/Ev\n",
       "PINnCWU0av4/yM2y2Rq1gum1UUhj3zHB4j/mkiC9ZPHj3PYHzF7VUOPfb8RaRxQBSPdCQyvYRpNN\n",
       "T7LIGskzMQYtGIlvHLpaQuOERbdIDd7iYmOAq8peEmHuaVdMOYxEX/uD7c1a7PPS0Rjpjedb1Zh8\n",
       "M1xBYwZLrWMxERO/lmf76RajR26V4HsRPhp+E1cA9ztIzxSjQhkL4ZUOIgMd9fkvCwNqoZNVYito\n",
       "x/fgshv6mMwh7RhpLgnexBNkRxA4AC0EMOVnnN7FPo+kYqDtzncdKy9prfwAhYV0tjb55CeT4w91\n",
       "rIsodppggXJrcQDFUf43J2ZR2bD+TEF4lKItsY0mhL7GbQr/eSS9e7rUTZYxYnqKnYB0XhSc4VuI\n",
       "jM3D2+aG5YohXaZqOm0F2vV0l1FEiTrNvUMiB3HfE0AVsdFTtV2vlPG9RMByQaGOQqmllwRACt8r\n",
       "Lh2oL31V/MY2D+onaVS+yINnmjim+ZJLHc60QJwKh/XfHObrZBAMYkrVnwokKGQzIJqGuH7kf1sn\n",
       "RS5F1nswVX0bLhQ77ZiAEhP1FeHyvuiscXMJpEDMoD40i+S4U5RNW02xkU7KOjMd4MMN4mpu8pOa\n",
       "Lxy+7m/WndigH14Wip1hzObZH0op+/OL/XucKd5TsW15A6mmFXM5EKu+CxEQQJvlVU6BYWkcqKDL\n",
       "W8K/mCtvnrrzZHjr1gHTHFAydskkvg+J4hVWJJFoSJNyT5zOYVn5XQ3jXiHMfiFoM1NHtw17lW4q\n",
       "Z/4i6ufL3M2pMN+VLTEIAp3R8bF5EzOH/6L0ICNXt7MARmqwiRBF7vk+A8dg4ihBdepfU/irOmXU\n",
       "W3CHHMI3RYfnA51HdnB3tVe/QgEt9fnnxxf89loTzcYv/Ln3jnBtFc4Gb349Pi1sUe1yPE7Y9hYn\n",
       "1Qo+tdJhswmhoLfXzTL42PyITYCqD/q0LC1R2HkteYXAjI/GxZKhbuWrmBWu+5zTsIfBEv8sJxh+\n",
       "U0UfsVasq7LcK+AAFgPTR9z4TWhN40ZK2Ac/KAVfGxXTeE7fBiDpFakF6PlO9wE34HHw7ZNi77uk\n",
       "YxLTNW83l0mqfAbN6AAJQg0wZr1JsPVnZD562nIGTjp80DA2qFuCunAU6NQMiQF1On7OG5pnr6Jq\n",
       "FyrPAzpwnsg0XTbeHxMCoZMxR7Xx7+rXqrKZ8HyOdJbPlom8ltSlWEgqJVh9JEFx6tRU9KsO4Jna\n",
       "DI7B0ogwD9xuaPZMsnxkQw18uUgtvKEF1vVZUVMr3qW7foPnkL7CR59wo+Qe26F70xHgBvf3/MdX\n",
       "zvFMpQmMznqKHALGDgVaGzn7E8ge9j0pZQab9WvFgeWH09UV5SnK5oeoWbNfcW43eOJbyz7myAf8\n",
       "1dyeiLcA72ctDML33xtjvg1r3XNVw0C90aIbFwjbi8a0orv9dDK0A3c5kT9IFR0IKFM81BprjSbV\n",
       "wCA+qNxJUGTTvSDBASwkhEAYj9BGNK0vtKUkCVGOk+14U+hd4WN22ibOO0tASHMXarkLJNmharUe\n",
       "wUwFsJ9q1OnxAeqipevrbKxTON3OYyOi9EVL8WqnS3ZbwbCrpBDQbLGA4oZel8NX2JBypRvUlOlv\n",
       "SExDeBjO90mZpetR2ErkdXw0bJujtr7V/7IJff+QxtQXkjZDxRcNM3/4GEQT9uf+272tjihZEhvP\n",
       "ZXwl1ltPti3ZyKKFI/n3QorPtXODoquEgAzVTEo5kQfziWxzrzBYqjpKnsgxhtZo2rfXvVvmOd2y\n",
       "JtXBaW5seRXtELaqG/vrBazXW+3jfjbieF3MF39ojUn26ur3TPZPaJM9pzkYkRB5a03HlkNY1TUK\n",
       "DqPAV9xNVcXHC+qHSSoWDdZfnQohoTmeEeF+FupSCU9Zpb1T+Zv1mT+vdtAwKZQdXpIZ9J4kY4GM\n",
       "sBzdseDpZRJrBVrMBj7hn39jsx7AaU9AxzwjsaOF66FAINgxsTTHvojbQm0hBVMwryc+z4mCr97p\n",
       "A6OViJbzaajQJDCVyp0P+zCjxw4Ai4NnkYKyjGn3iGZgouPNDr1oJ176mhQGjPSenUOA1jMm+hGI\n",
       "FPIF8kEoYJ3JC5JNlaksX5dC+1FaOmkSY7hZJT7gF5DNN2fnPpd3yxaJ/8lHupEu2r5P1CznxDxw\n",
       "N6oG+dz6v/7639ZOaAPjo88rrjPPGzo/bFJc81m1cQWrfu0HPhYlH6pfKhAIBrlKnxAR0d+h+UbE\n",
       "4KT/rlsADXwmcfi4Y+NbwMnw1RmMH5qXMQaunBTLdiPbLp36Cxm93i1QH6GcwN0yVix/Y//PNRxY\n",
       "w9S+YFFhOK6pqMkeuZMSLOp1mUR7OXQzngqqeph2C9Nag70JBKS1aCUsm+JTaOOISSG/XSity+ZC\n",
       "GeiS6dRCvngqhfbJz1RPh5imKTOerMU85hrXceufBKJJJnkXqLxWeErjxgk/KpomOUnP8L0GLB6U\n",
       "dH/y5oTXrw93lQGWxlsl7bH8zhC1H2fUNKLd7tV2hrI4RiqZw6/kRcBn8R8VdEx1r3FRh6+QYolT\n",
       "eHwYi7TTeax/jQHBg/6LSRzsK/NwV4E2tMzxW3hMaXPgPtdEds1ghsVQDbKDkTeXld70Rf8/keED\n",
       "tmhvIGwamWm5m1G2KCLggEn/fIfm7VbslS+n5exbfygrEwP13qiacMaSVAc8/p/qnqJdSFLntHhj\n",
       "yuGrT+t6swvXvvPRbgvpMpMxoHlt4RQfLTzusikBhYNkQUpS3xhF9Fk/4GYU3UfLMTNfZ1jGBv6O\n",
       "cKBpxnfCE40rR+OwU93tz48TUHLck1IqQUXpPfqAXY4Nxu+loVbp6+oU0fGM/OSiAD4VoNdfwJlL\n",
       "gmww6L+yKPzp5Wt/hlHVLpc/mmzB5D6kAAADAAFsgJl4NWScgHPPachVBpTxd62wja8P7t9ylnU/\n",
       "+P18res6Kpe/GKBnahsgBX/0f2PCijEjoz/3C9q+LOM0SncWuBBix30Yn/x5l/6zTl7Ls94Npw3s\n",
       "zezRTNWXx13kpjpujjyN/Zt9VbGh/O60UinOI3IqRQydQSK7r7L01gtXFwn5cyg1huDz4ra8HaFF\n",
       "+P7H66bB82aD9RVEmv/7AP3JPo4GRJEuHaipKZ3loihIK2UGB2xLbXoMm9rl5/BqhCNl5UwArTnE\n",
       "aPH8S5fLypZ6iRsWoDoHnZSNyByWCKZw3byuFc2iQyT33PYw1hlt2rWqq/rUc2bTUO/3l/B24CGu\n",
       "xwvt2qilloBCvBT3Y/zSPTLljNMZyXLW7RkwP7AytUGov7COQvyFF2RS31F4wZ7lflOZmOMkr1Ix\n",
       "LSXy7nvXzOR2ws5pt1oGxkKbTK2HD001X16I1Axta31hVQAAEvLWVs+eSc7hNGv0WXsuL6gK9WgK\n",
       "waDV6ZG6nSYj+ROkaBsXYNfRYphou6oQO4YJQEpd+7FcyjpEqtf21pUCcLdQD9Rv2u/lretCjcaC\n",
       "W6Yv7IvCN0aUZ/2VE5mMRgXWacuxNJkJZB4wUuzcZ7/RxZ3BDEt99t6Me/OT38fAv5nM4Jq/3d/K\n",
       "GaLqgvwJEf+TyRxzvdmyBw3MciOQXi/T1gjXYlRFvF1/PVIejxxISAY+z50XfiU9WIGQ4AA94pS8\n",
       "a6oHaJFZppOWQqivguR5ogyPH7BcXH8zh/acWdvNC/YCLAykyjXfVnoorKjLlfh9DxQOSY0IGMAT\n",
       "iL5KJQNCujjaICwZOGnSx9OF9YH5cY5np4uLRDixNKskL68WIPsArp1FXy41R/hdVNUIgK0BRAGS\n",
       "vv6gE5w4G2AktfWno0LsVdoIgrxDtj5jjUAJyuybzgv2qh0sPrFRvVq5uDxEiEFaSl0odQq8+K6l\n",
       "1qxIp68efDIbssEQzqnpoflcOmR2fV+D6ZIfxJV9+PxaHyeDD2thYvmtP9mYdzz81EZsXNiX32j2\n",
       "t9VPw3e4LPef5sfAY0QYARgNsQ4Zi/8aJKUQOeC8y5jg7SsQzRSQGprF3is1uBYN6wI/r0iB1cH0\n",
       "FbnsMvHJ5C6oLm3/UcNveGd+XrgreqB4xx8KtxQ9Lr/su/e+fF70FofVRVqFzwxSFobJQhKa5n2w\n",
       "KCllKw+L2iM2J8r+RiWR/Lc8OHKQQy+Lfl7KdyIRu9lArIsvqC1lCBcXncF9dV/lrXZvwuGi/jsG\n",
       "LywTEYizPlPSDpvnEOvCYUF1VgNq/yp8LVMENf3NNVmW0NnSNyQ97W81yA5b6fXr8fJ6zohSZ9xh\n",
       "1BL+hCq7UeTX3cTgmXTHyonh0G4Fb07J9O6bEtU9Nj4AnAslO9LAUbw8GUt51jrGatPqo0CcGq5D\n",
       "Q9Cxhr3M63EM3j+L6WfkhIVF1tGeP3eScXdE4pZWv5Vxq4nKOtac/QLt+MC4fDcpN50mcArUNFM6\n",
       "MdLng4CdQ52Az1Ik2AIOtkjX7jhDGfDb4CNngvWAnN8wLJUxvXRqevzS2Ss5o6puyXEKZxvPzWBb\n",
       "dw+NrBf12up47VYqHKsrmzpIP4mwXNcZdFDM7XLf/hWI8BGYxr56r4f0PEqVIrSleJst3839gEe5\n",
       "d7WdSR6iZk0C/1l6I3EPeKtHN+FfG3m3aRH7W6mJfh7FC9DUSYFX4iOhIz7bckQj5YUBIgbnlsRZ\n",
       "qfp2U2jbI296eL2rF4NoIBEYdKcq6bqNNZdiQLkhelTSJQkx7BoAEvZkQU/x1JSr67p1skqAk3bR\n",
       "59aG57YqYarNOMHOSLEBnJFL929s5uRj+hUMNWb3GhSXj7L0ooGOIf3PANGIk8+ZZiouBjQJls2o\n",
       "hvBrV+uISesiK6IghzH9O+qHSfv0I8AFG7cxHPbJQQ1uYH/0wncF1fCcn0ituFpMVOlkqBuLarTB\n",
       "L/NKTEVvNra35MeTiKNdF0ZvWQ+vymr1OuwtmHJjEsX6ayXEezLbRtPxKYB2ZI3gw8iWi/Bf/v6U\n",
       "99J7quTBcHRHNIqHv8G2QZZ3XiBC73iY7xretcD8Ipr/HnO0FMHHkbauWnCeEVhDPb+2O58r2xQX\n",
       "qTbmvUPkXCfxdEpSoLtVUnZud+H3wFoQuBuqqsTP2SIiqhxd2oIgkr1IwKwMrfrSbr+oZVYRA0cJ\n",
       "HYteVOIoeGex8Ksfvx0CSiHHXOIh/2EMPyVJuqKneM+oZ1eFRtWaKBPvaqB9bkP/U1teL4viJX7m\n",
       "FlxotGj1UPOc+HT8khFW9A0hbDwQEhfFj3aLjMLQjbFSeGU4/dMyltfFGhdOVRRr74F+/rYZZu/h\n",
       "7qiGtEV7XiAtJNr9LiUaWXbP2kSa1zM8q77AXZMArb8N4eq4N/0bUxkAklG0mnvqz+moZczltPJ0\n",
       "Sq6CkyMxAO2hnpO1UZETgFvlUpWDqGt2m4qs7XZOLBKfhNN67yGDWuF0NEOZeli9tTQyfI15PP3O\n",
       "M8hX3JjwWkDre5ht+gmFhGmsFY7yGcVtanq0hq53G0lksoK90EAr6J51LbNxCGz4h6XfxqvzuDIS\n",
       "7VLNaqFE/eKmLL79g/Z78Yif1QOOTVaptAhwkqMFjhXCpRvOKXAcK7QCLfgLBy4aSeoAFe3bJQ2E\n",
       "k/wy8OTG/DewpLnnFjj7wcFWIfuLGFUjBOvyLBePxwlp3kqo6/PPuqxnqwbxZ9zNF7jXXvmgO9ks\n",
       "xHw6fwPIj1gv/kD38TBq2+drYMRpeNxwUiTRqBxILrL3yAC1dtzFBc/ti+S4LzE5CnnGegLh6gMQ\n",
       "FfP+8NwOjCIrxLP2rl06jHcIr6IprifTLibI0Gq3zvBr230taSg2Qb2k2EArQ3bXLm5uvxFusZYG\n",
       "17qhhXb1SrLlFfp+HElDeTPfbfvWuO9jksTY6cUKC6Ld5IfNyMhTT/gTkSbc6YVCsnjk26C1lsTD\n",
       "H87hIII2kr4nyZ34+KOdxT3kRmULGj1DX2S+BKR1pA7MsRP2EJHfC6GbUaTfiJ3HgC/ep+h1dHWY\n",
       "gMpNUHWafUXWS9yN8+44tv2NYqVM7frSbWC2c/A0ExRln3wUZlksoKcr5dDymvc22GWERcVOwo0d\n",
       "rWVk/VkPCIaJcyqau5P18AONI/RPDkRWGXmU6lNDxG5zAdts40jwasCTZFjoehwWrXkQJsP+OFwK\n",
       "6Glgrj0Qs47fdH1wke97b7GruLE4Qn/2/C66e8K6qS9n+Fomn1+nhgiRiR0a7HnQ0EmQPbecKwQu\n",
       "3rN5Ngl4gCZ3JhrD33ruVdIBncK3n3PTXdUEp7kjdxXPITPh58Ta0Av4auNURd/SVjmjfHoqOQlw\n",
       "gkQT8LRBuf2xHfxc+yCpSeO9haM6HhtmgVtdTJYphh7StzArBxLTWnOPB9FNpTFQ/fqkgU9+ekwc\n",
       "G4b1vzjsfp6DPSIvbITMlAsXkA8f0R8Z7ZNSRqgppdWgto0lxMTEA7PLchXU2r7/fsXfdq9TAFZF\n",
       "it3W/fin0/fc2H8+vst3AKf6BE8eFCFjygGvDvD9giPREqRgezKUd4AOiM6dOOm35nu1KEmhgxDu\n",
       "Y6xD1JZnDB/x+D+IJJ7arnRG1zwovlLXawCtcHtaYQRaCUUyqNcSVkHboTh9/H5bxLut1Xe/clMV\n",
       "/XbbcUF1kvEDl5k4ZTwjwLTh9n5oYblq71TcCjmrlJylnzUt033iItNLFMPCyOHvfjbY7l3GUQx7\n",
       "GwWE49hmfgZwOsDUjMMLnSYHSDaPa2i3rci/uFzUOQ+4qmb3CqI0+GPpUqSNeRvgwM+S04wNo0sL\n",
       "NSk9L3cVO7vskTnZnepeIljqY6umTVfAVst6SukviSEKPMUEm9wiKOP/UhBZsA3A3M+H8a2zT7yX\n",
       "UTsAhW+5UEsst1F640lZjV72ckkBK7YZN5+ZXSYXqxjMPQas/f+XUNgxsSsNPNUSXIsBbhn0darD\n",
       "wr+TMIhonB9WKiSZljGobRAtFq3Wr3RqUSNX6fkvMPdFBlALZwWKETL9hz0jiP8YlfKDGbuHBpjy\n",
       "eGb5u/wm/1WaCY5KzEccIqISB11imgn0lpnv7SamCksC7NJt5fqTYp0COj2pSm78a1I3z0Yw6+/a\n",
       "rwap1UdoxBez5jkdYkkVVKiDQjJo8mMLC5omx/gdPhJrcmg6JvQMdjXq+0X8sUiR/pxt+eMslYkG\n",
       "KWRApQABP/I14xHjkI2zaFVTCyGOnqDPB4W0bPMepSL8tArOXvlKXb0zc0K4OrTOmMI4um+jdshf\n",
       "w2k2EhPyN9eyZgCGIt5wW9iZQdIopTMAvnuf1lIS9OeSRj1kcMp08uAg0drtd+U2W3irAq26U8yZ\n",
       "olFlSXdYz5oGh2KSbsR0o/bsQULcox0OwGCVlB0uuLWuKFNkFTdv7ot71SNmhLVY/6Nka+BXxld5\n",
       "7TSr9xNq45zJPd/6nLYkQCOjtI0l9GQ/6bd0VkNU/G4lhTAPYhB8eZsCpNO6C8z0USTJl9q21/bP\n",
       "8qny/bl/ZYS7GID6XKfmyGi8+L8P+C9toKX4gqodpxM+/OHeUaCGP/w0jotG8LlIP1U/q+mxvk8N\n",
       "fU0XIt6l2+oO4ot3LcjUDb4ea47YTzd1t67RAIy1eoUaKPvHmrdn3tpTSfK1HHVxPeozxi0asEai\n",
       "gcbmCQX4r68HM9G2TtVdo5ZaKXAB1QvKhtl5ZQ6lnAUtwWACOuTGSWrc9EbIUYPNh5M3fxojL1i+\n",
       "pmfWphbR+Sr4CZ56xdg+qGl+SfFTwPS7yPvLQTcQyMOjszSC4fIeLzINOpilzlxNi5AC0w5ss0Zb\n",
       "cn0tW5JZ+CmrraJjN3FvEroPXUZP94rLQ5f2ogvnaY7X7tc+nT+KGbcFwOVPE18gogRW+EyrG6NE\n",
       "OJ9iImTXwvqKx74FvVUhjVOW0vNOu3cRX/HxnKFgZzqgPxgz+0ufojGod3opRS2a7fkknVdM5+Sm\n",
       "CI4RKOCzYzNTEEVgNhN1oaUILY8mGo3Mbm6jagj4uXtkZmogd74PK6SxQWeX2z95nLB7fp+EQx6A\n",
       "3rgpjAVWlje/lN+gPUzwDy2/SxG/lkBCEAd4IEHmPUcLvEZcU2xKLWd4YPtt/CHD9tALk3PVwEVt\n",
       "qaiGePgaCydzTfXLBzTemW/3CE+MvYxtsRVt313PyNRziFxoBVaMQMEEEIbgAAANXGjG2Q5LwLPl\n",
       "LQhiMHXbuR9Uf7BTNzFAZZAr3/xwZFEwO5AahMhhr+pkXELKMxSLq+dDTTvE3YdWyqwFpK9+kbMj\n",
       "Kb42EprRkBCf/DqV3u6CS5Wqg8Q58+yEHYZfyzMnS8b04WvcmeFSOrk/mrH2phXBJRjUoPYW8e81\n",
       "a+3TnwyFYaRFyXILNhOGqOunCyCGsoKlOSGrtTgEKbWPoym9PHwK24WCADXNsAwh1FVt1gbVsjoF\n",
       "C87ymnY5BFV5Ibor0tcxW2ytJEwkXHRUC1DWPzlrgReCEm9FhYEgT5zBpZ4Z0Wuip4sbKxI2qFEF\n",
       "Rjfh7LO2d6Bhs0SL91ukmrTuYKWF/vAphPa8o9uODxX7+uvXOf+mgvHCnvSvnt8et6xJ8AK8tru2\n",
       "jVDjyjgj5j+kgN3rW6PxY2a17xvTPxHuzD9K6J1FqGxHSpP0SmwDiPQnPApOcWcBoeldeKNbAj+8\n",
       "i8IdZGtOJg9F+Ge1lE3ZWvgMUiquwmYluUaqmfj3Z8/ytTw2XCldhO+xdb2akyB5caGS+a+sF/W+\n",
       "8VsKdbqyrptvpYmdS/OZapFA6FUEcCJh89eJQTRgFJAGTJfJNdJuBAAfayzcfOED1BpP9X2nZ91A\n",
       "r1QWpGfj2phspmkhqdT73EfiGitC8sxNlUo+TeQ2vK3PEBeK5fAfIVptf878V3kO6c61pOf1oNZe\n",
       "L1AqYKCo7Ux66PbMbtvVHTqXgEJa+gal0DWbxg5fZjPZj5EfAtPCvLaZHqpAeiUJSa9vjK3iVv8Z\n",
       "nz47iyIcyYc1MP59Z1CLTT58NyJs+Amqiao6BAna0S5lxHPmkpNrLBnfRDNg4np26lb5E9/xs1K0\n",
       "J8jKrdqej1QPW6OAnv+/wx/zeKWTtaFQn/2Yd2m6eqADXIba0p7/yI825tco2ZqFLgAQRtSh0oGm\n",
       "wSPox/AD/e3W7VhBDIr/9SKYrdIYj60izl9YbCSxE/5kbq9MADxmL9hPJFPPM0C/usmpNF4QWntb\n",
       "83diMyTbM2k037HPmFKZXc8jo9fSeFVMz4zrB2SNwoaFAlrsjPYCbTVno0/pGRTVmzK4bxBm/wom\n",
       "ca6/LsJ8x4bn7Nvrzpd6uaD6dUjw18Mz/Gr1nq+ZYpl8zoKD39FTpCU01TsJgDkF7lY4UaktzhyP\n",
       "BuTU2q4kF1aAFanxjcibPjRGrV83io5M03MMTeEn0nrJUNCg1Fqopmz1L2jL4ikPWZlUaKJqCy3L\n",
       "BgNnQw5wwxHl+Ll4L3kSysVfYxoHfXGj6C65w8aKzDS843TcJDW7ecklSI/KcfXPtLdabXYITblV\n",
       "slHzLzgsMKu2PCx55q6n/amPFaXCkNJ5Y18ZQwId15SUREPaRD8otaBBQnoCXc/9t4WDd0YC+78+\n",
       "i/NavyGdPe//hK4gW4fUtbegaf0TzFi6bAJW9/20k2J7fa0Uj7a4MZ7Vs/+CH02Us8SK5aks4fti\n",
       "PUg4teX6VVFzfVCrIF08zc/PzGTI+SlmEfzNdMzV6W5J9dlxuXv5NDxBrYTTBphZXNWj/6NTz/zp\n",
       "sF+2g8SjZbuTNhgJ3uiR6SYm+EDp/V/vSUCEAEZct4wHpFOLRdAkxz/o1C91LFwIrkrrcKG28hI2\n",
       "nxU3KtanYtVxBEgbq2EJR03Ox3s2nERemyIfEiapkamnQKq7ey3zkkVZFJ6mLV8/YmKqXidUJwKm\n",
       "X92Tlx7U5kxR8MdeQtKALy34ud3kWrQIhCvl7oPmXXnHCRl+70CIiJK01tOAe71pALGal4heUPMw\n",
       "LuGgkXfVVBGX8EMzxX4EIDxbSWUnrjuxw4sWmV5gvJ6QXthB3QZYxqKCg+5TuMkAXJ1HLX9dSUMh\n",
       "7bZv0X4qbexPGWEd44MXpS4x/yT0FAJnG058O5P9JUSWk2NJJ3jVXuz9gUn0mGGF73CQbt/nMKlb\n",
       "hP/BuKaPpzcHIhkeR7agnPCtg9nILxKNTVosUQg0G57lWSF1yISdQcD8Cl0I8YVw2LIbWWhxeG5u\n",
       "rnLkFyVyMActciHS97is+lZjteIH4UH5fcKl13Aejvw9axfTg6TEWDgn1GGbJY1Cn14toTQZJBF6\n",
       "4JTcvvnSVpSqTn6yRtpC3+oR6i1yOTYMaov8JWxTDIXjMCgY63gHToDGrbs5byO7Mh4D3WmOiOB5\n",
       "wseYau7E/NIFD48piZhRCsJQ6MG6ecJ/jSB/A1EfpyljPQHwQXi5U92pWb84BZ4yjNn4D35Y2nx6\n",
       "T3GyalmFbYJLOT0Sl/tyLwrMP1s4au72U9gDPKk7OWbN9RdPlXXJ87L+imVxrjCsuwVjbxqGMRbf\n",
       "qqxcDY73i/uoBxFF8uTMDY/Dkp1ExK19uzVVmYN11RrjuG223Yo5lmMHHNt/sNcZVy3o6+4Uvu2k\n",
       "w85vg2rbJbZHpLGJ/X4Ss9DmgXC4rfUVZuCE6D/0lvXFnbatu0Zkh3UIxHpORGVC3FNhZnU66W1a\n",
       "2FbdWQu4VJy7BlFAaiLY5VQgsgPbPU4FPvwEXtNx932E6j8ZEpEQMG4zdL6OMh7gveXzByuH/Qp+\n",
       "dgFqYV6RnE6BUPHr/7KPj2ucutabC+ZdKYhU8tQO8v3uH/m3OwwR036L1W4tEEyJyl2asqoC+oE0\n",
       "YJTrRa+CUNh8szJzsBPxDzNotR/4iWq1QE1eegUxcz8+4FbIvl952aQ3GEyBOWpDpDNse4EEEysS\n",
       "ivRAH3tKErkSGnh/iaTDGvQmRY7pbisiOqYrDlfB3tDlqhOf8ONNAFA84mt4yhvXZ0wlonZIlhMQ\n",
       "Ayt9AlxfoMcFC6k5TTmLT9YsfJ43SyTmnuvKzPO1FRukFIoASERluajaL4c7Pgz7dkr1nQZtU1hx\n",
       "mYLlojHFAbgroPK+1sc/h7X6FbVaWcBgKZYEo5LxV/K/autPyu46ou8wYUwovvb7uJtSc7EfbE+2\n",
       "fGgoA8nzC+/A9IQNQUvnGs9AHMVqAAADAAl8GyDYZot7EFFRe/vodiaAcL+dZAXZ/nClg49ugx5G\n",
       "HcGhCO4AUBBG0BFhfJBv9SJs5HgFPLpBYznzJRnX0OCAEiGfg9GlVjC6AwtTo2KlVN54oFHrNBkz\n",
       "IxIemP0DwwgQbhVtwdn18ARWR/ikvuM3B52k86NWdFJCGr316kAArI0RMlYXQd9PPmMmXfCiGvny\n",
       "9BHfp9ogu84Dsu18M+h0CsrJE+IM+F0e4Jn6lJfSCAD9Rqzh0TT0EnwhyifPrMJ7DTy96DzK1nie\n",
       "khMgc6YSd78m3zC7CHeHXU3mi5mt+AG/MXy8afyg8kpsVWMTbduSlnCG7iTPxld8tcCt2y3bP3pf\n",
       "zBidDJBcndgNJGHE4EXjz3tFom7SN8bPoBLRN7kru1jlek98zYnM/6hwjv/P6S2Zd/2nPOU6ashz\n",
       "smSw+EZmfLU18ZWJNWZF7SlSxuOC25kkfNVdpD8a/Dd6OU00Bb+sox0jWFdYVyHoetG+RVlreef+\n",
       "Jt4dERxCdvzCuV7Qaux3vcCAaE3T26DV1vUr4PRaGazzfUkJ/Fa0CFoMJ0fZMetJ1GokuvsM4xv6\n",
       "XqgrB44wzAJIrf5VT+TJ8x++XW/n7YKZoRmjpqNpUBJCUSkVQ8C3fXacCzYXfrsD1AlsM7JonQbs\n",
       "qu5Luf+zqXE18akk9zPg5Kpopdm63HKld0dS9h+SS9XhEGrEgkTdY9Ygcxm9JrNzhN5vrihFa078\n",
       "W61cXjrn6TkRbIwVRspS4VtatmEr49DwWBRr1TWvmp7vbCdGXamplBW1hAptji7JDc0FuzqC+2hO\n",
       "hjEazxlWJF/d6NRcCM91qif/xAy0/X/G+Lkikfa87ui9osMlXy+4ikXHbN8sOlpXIseQzAX0NoQc\n",
       "VgCvc/1eaPIVL1U3DK57u5ypihSbO3MucWc/IUvrWckuaIQahBaLLE/Aij9ILfG8H03NZXMQrf+V\n",
       "GlPxGq+hNd9lHxNnou3ubBsMd2pqVBtJxXLr6qpiOySqy+g5Z7eg66mTa+HY21Y38kHIlwfcJfLR\n",
       "YtZ+So1/QZKpkzuwxSNiA6nkkBjTMhzCbgPObJ379L93/88H1SIOIoB8Ek3WyK9d93E1KKMxof3A\n",
       "qC6hWJqgJWEllj0Vlqp+G/eEZbe3UYFc6wkXrgoe4MWgDQY9UK9IVpXb4w1Mux9do40VzP+hf1mg\n",
       "h2s9wutnNU2tGu3hcHR3DqY/JpozBS6OM4NxkF4QXG/yJBJSKX7qenVSrQjq/dJIt8v+2yhD7Q3l\n",
       "8vJtl7tppJz3YxabXTVn3In7hvOsVlUG703/J97SrbjBKtBOsKXfEBmGnyZnK6WM8iI0MxfIA9Yk\n",
       "vcQkMpeOUxX3xeN6S8zLdm15Ayf/vlwz/BnKNGihYgEANwfB6msEy6gNrIifdSHThBRF8/RsR/wj\n",
       "lwINnZAQIfFyt1a6exduZU7sMnFjrjG5dszCnefCOIXMZjqcXvjqu7oqqTPnd1FzH/Su4XVI/WTe\n",
       "r+y6C3HMOTVJalpkz6RlyoF6PopP1REoB2arhhNsfCXQLypmYzzKTKcrSmQgNZREI5AuzG0WIMTA\n",
       "4kGaon3PJpHa/64Bw+IvIWe6kWA46bdAXtIYlljZ4IBrj2o+cmmivk/n5ftRk9m8UO392UGZs96k\n",
       "dqD2vBPJslv5eRP5CHj1fjm01GTXd3QOqSUjN16iWxLFWzfw1as6gfYMs2iYiGC5+ojFT70aVjfD\n",
       "97e5a7feTHFyR14lCYiU7Smp+3tgQ8YanvUNpzlABYHJnnMkqf3zPTlSC5XvmgxGb+lohhOH+aFn\n",
       "nt1NXXv2j2N+p890PqXt2tpNMFfUpBA+pzeF0qWeevNrR/i6OaWceTV9rICCsFT4Es8iWmWIpt1i\n",
       "V8GaNnM+3ZY1jn85cjAYo7EGjprk5Z3aGd/hz1R0cqKbn0rqv7r6PzripnPa8bZwrFzihCM+rEGD\n",
       "UyuKy9yNWxZAznoQ8J26sXenKMQ1Lg0Y+0wqfHgaNyixs3BnEayIXaLyInmPVlRWwREwFrXS1BoJ\n",
       "0bjC7CeI1pyYUfMTua5UR5p8As/USoeyAeQx5FnHmdJR8xJGNuFzyYq8jUeOzfxa5N2Zs6snbHPw\n",
       "oQVzfGwZckPjn+t8C6H8rm4vdZJIPaZHgfGri6VlIFhiJwOTfZU4L46jyUD+jUxPaI6HE6I+cCNL\n",
       "T4e/he+h7hBK0IGf4XtVrBv+BWzn3BtsqLlhgw9TLZ3HJCwQxzlv3i9mEIZA0Qz5jf4ZHGKfwFrc\n",
       "TFh9mHJ7uKFU8fm3YApkKrYgiGZB////9AgBax8KXnaEyMi4pOL53Kz1smrmS/dmJk6HZfonO65c\n",
       "TuGoPCNmcJM5Hy7SXACMRYW7d/e7OCVOmMOisZxEbMWyJoUdprax2loYQx7Xl4/7t/UB90RFmcTH\n",
       "r/J1Oivb11xOjmwCkWRfQBxmBKfB5I4FeX4VrArlvAE4AkUoBLvhPw2gyo2eoVuqZyAqLKPR389/\n",
       "wpCPbjr6CccI5FN7kxnfFo0OcnnwcEvgi+RX2ICT6eK1K1TSalieEAraK9I4I4IeIMfw6LrrAhqf\n",
       "mwy0EyzmxqOwpgpaH88ZgPRmWFWZsiRK5Hxmxa2N1i0srDDpV/inGcJK0wm/DmYIGkEPnCM6/3nY\n",
       "URr+/g+kkogXDJXPk1HBinD22YeNzK4ihAcW6dm0KfioT1paTfUzLp1FNUzRQn3mXAhieFpxSgbs\n",
       "g+CDXQgnb/PmmPuSUm+yDm4MebLrh0gKGue94nBp8PSw2/i9jW8NodGwdtMUIIdEiL4Bli1REutl\n",
       "27a43rgumbiUfeWyI1zklV+6XUeTQHTY2uqYH3HGfw8cP+SRLRzdt/eWCbFtsw5OG1zyG3wAyDIW\n",
       "3OqLhSf5W6i4jckbDK8JjZyftNi2sOo49FLxjZLXX2dCT2P+s16CpLxVExU46q1VJaAzZ5yTMp9t\n",
       "r6VAJ0l34TtKZl1MkaU7c1PyYqHChL+8xF24M43fJ0PF3AFkepxQdvXviHVk0QoX1W2ONFZnp4Fa\n",
       "gMqZFJ5d9cpCaL7IZK/I/iuSZRuzOWsCXcdNH91kU5l5JQDk7anZsB/djgJGIAl3rMJxhBhPW2KO\n",
       "JjpEzK+vL3bcVsrhns9sJvH4gRjGzsGPiuCoCAzCeepTQ47bCAoE7yKqstQ6sTG+mVw6AhieA1lD\n",
       "T4sIPrgH+OIQUBWbUidZ0IS7NH/wnHDxTKn/79kXfy8nG1/IkkXDgqCqkHXkQIaGBva5wziEMaZK\n",
       "NzBpVFykKjeHtiDH4+18TvhP/+0OZ8NPTY3QUcmLs/2iYy+oXGW9X2Uu/isgR3sN1iCbkwFCoZxX\n",
       "LS2+auJ6o1lLKHdDZn1Rn9iYmlsxPEMHd5V6eTa5MFm7hw12o4vQ9hctvmrTC3mVs4Zdv0i7MVgY\n",
       "CJAHGo8syGzE0Can62VoVs10EoSnp5nlcg9esbU8mmLh5Z5mmKpE/brh808qkE07Gmea8qrfwh7t\n",
       "8qp7NjTA910TgmM3AoRlCyxF52u0Y7lCHMGXgcU4psr2xS5Q07luh7b2Xm33yCRwP54tvVnBGOZM\n",
       "f2avmNPelhUYg4b5YmVpB9/IwJY7FXmwVTCn2tUINmdigFdKvp6QF2KKorOMTRbZhFmF8WWfisyG\n",
       "Juy9NzDoOq7O6CBT3PqatzCcaRC/x8FzN7iG0kMUyg/KXKZz179QvRB3oU+J4X4lTb23avr3H5ts\n",
       "J63443uKo9QV1TZ6eJzuKWXinfsCEIe5lCmNhR0lQnhgWmTRgnVTDUzq7nk0VFwumKQxXnSV6yYH\n",
       "KLRZeESRfLrzydTv2EGGDp/9AXORia4lB0BV5L8yr7UyUh/ciuVUeidoG+ZvON4ifxyJdAoJDLKf\n",
       "WYHDlBy2uXR/oL0nWs/77t9bcTcH5z00BHIR4r13kIRHdzl0eNdKTgz4nbBu0r+/KOjm8vdbotGI\n",
       "5Hkmi8kUt/9F5rbVux8bVfPG6oZGlkVUwBv5iSaVIA4v6TR9J0wDw1IhkvZYIFtiumDyJ/3fp6YR\n",
       "KzFb9h9miJrXg20ltxbFcJZ5ckQF9h6+7Sp6gfzEu6OVgTdzKwAG2KcQZI8JjLVWM3UuaJf44N4l\n",
       "k8s3VS52Tf9q5hew36u1P3FzS7Sk901QCSA+xWziDELwZXIjps8xKSA2cHhw9lZPt9Z/OjvcPn0y\n",
       "HVkR338E1vy8gk7vskHCcn4DTEPZ1qHtB9mdnKBb+HPKub3DRBPkkiIKAnGjtacAdMQN9wXscKJM\n",
       "Df2yZooSDWVaOWJR12ocKqLnj1cZUmPv2gkrWKxHIk1kK0wpdRh2BEaqoyLV0QCJdrs9VpiHX1Jp\n",
       "t0iC90HoGmUDxSYxDFiU4n+jJN86YI26LooE4EJs5LYNZWGyW5eQs2U3QfdrqOk7HkvThLaJIzAb\n",
       "MQBEFE3gkdefvgVSc/v0rvSfJHm/TjD7HRnQxA28QG+A3X9QVl0lAHLzQeDKRmLAJfbTxyGsvVrW\n",
       "f7hzMSu+V1MP3eomtH6LFaWLQmnIvv+O/fyH0GV8FbTzJA0GD3Mn4vk5knVvf4bkKfzl5uSpG6U8\n",
       "FMjpygjC6esM2P+2NbtUUp11IAgoJwyjqsnB22H5Q1y4AJN4VZkngIT6DfwXZwQgkpy04crT2JgW\n",
       "ZmOQefgD7NJucgjIqlWDZ/4RWvhKvanZA02Auo6Xa43J8AoUNQD3Sx3w869xKrmFHHVs8qRDy17/\n",
       "/8vv8Q0Nl+l1YgKFb7/+AP4SQuorLiyQtac5Y3TsorjShlelRRYnJq3uenSKrDip/PBlZb7aaxN2\n",
       "5UApCKwjjRvwJBwADNnrr3fGs3bH9eMsNEYXXYJF9yDIftZBBrKie2IlRMS424YvOv8bg7wq5m5r\n",
       "rXEfQ+2rOU37FMWAsbYC9YscsCuOqPoVtofV/3kKQbPc9PVJezSfD1bZ2yPsjfnTRjuROEInAvlA\n",
       "r1xz6Q4ov8ZQLNLFQofZc6Tx7qGn/1UccNCWvxy6qubHKP+g9ZE8FUYDlR+AciRATU2MGfL66FQa\n",
       "311SjBxOyTw06mI4FMgx02hX7Bsv8H3LA0qN6+QLjMdCsWhKzzQFyM2WNrPXY2iMK55Rmmur27A6\n",
       "x6qda+WgphuLhaMqhmG9+Pw1zQb6HJvkq7OII2mHdbZsmPC8TOi1lAbsHm47T8xHRIK6guJNGMCf\n",
       "hhAR/wBzDtRoGIEurPweiCFSI4zBhfPS4JvFaoUhVMZpEVIZ95TW8PnxmGueOXzj0I3VHU2LDtd/\n",
       "SoTr7tNlmZd/JGaVSsgL5URwtBK6vWAiZflSN/oKh6vABUh/z0HYr/dejCy7l3G+UgdynBlDvl62\n",
       "qJA/MujhKrmJDmRqtuv8hcEPBWUQyR7DeUvjxz7vjw5clQHAxiWTIstQ7DaPSryn0Yso2r7mg2wE\n",
       "S2D6W1AhDh6B01fQ8ZmIR3GFg+Yl8ii2/aWjLFz4XjDPjGg/CRbaKhKt9ZDviQW9e18IoPIiPLSC\n",
       "uCyPGbX5tAx85KcoJN4MKn3qhd1ozCHh25dNx3eFV4obZigf8E/g+nJK4Cj5Ex7479O5IMt5PGcD\n",
       "twmQS5eUxb3XJAoYrS0+bV0HObjd0m+UBzF43LqwGqaGGbGaONwP4kKfoRPXvIfCvhCPknwqwonp\n",
       "OuNtbIv/v2/ssR/cTObAy72G0IUSloMZikTXFTcrlqaq+7BlFi0oVLVkwM2q78ws7zXNtHz7AvgD\n",
       "ySikNQTnw+lAEPVYzMchBmpnuev7tFdCV8j9FxJHPA4H55qsPoBckWa2ifLmz1YX+bNBeAhOC7mp\n",
       "lw+gGZrChfRe26Nhl5/UyVVbEFVuOC089lJh5UyNXzUJiBwjbmocb+Q7W4LAI6orz2chpvq/4KFc\n",
       "nxa19tZ7bW/unn/Cmg4iS2tw6SfXcnqZ3eQ8/u3yQPwyNmovHqiTll77vJOysw3ZSOkuWcVo1jOv\n",
       "9JiQOZgviyoBO+ZYWt9+Uuw6ZvNl9yTDiykJWTt7B9c+QtQ7gwkDewMRbtkokS11u4uKYKmjCp2p\n",
       "m8IXUWcRobI20txANwshumqhEy/gIdOMmjqh0bkyWSgDIYWu+O4DU5ljoDe61037S9GPm+ViZIFh\n",
       "taJWNTBhu6K5pDQqpDdE8YyPjNrbnV6M//165r58iy07JdRgNYssGU3ry+Y6UpGpZzimJ2EfZs4X\n",
       "+qMMSsat28ip+Lt12b8GatcTedyJZcuMXzv8aqCoo63SZ6cuOoLXd5Drx002hPLhSquzfMArEi5I\n",
       "Ek7bl3bIYVMQ75kqsKw+OlkLRRbVt3SbkavTu/LjrfNTyoP7TBqe+9QMfyhlvCoJ4/Nbs+LOMUYD\n",
       "cme+VnkqMJtbOk7zxmns2rI6hEX3niGFbPEz7mJyceQ/5zlu2AdcdhI7c//9cTxqGf+ybyRTOY3o\n",
       "cn34qGMv9uolhsiCy7qVDYCSMvycSU4B7PCVz4d20aGQuQpRhcD4LFj3Arv7A5We9S8wJHOhF8mZ\n",
       "zme2qJ5YD3JkqUA9GUhTP6Ve/KGCaniYTCtlgRgwURk8veygUJPUVC/jXm4pv+IDQLJ8Ngn/fmNe\n",
       "BPu+66AP5mrfaunQJurHGDpcUTKM2lrLfSclKW3n9RwLMUYxHIPJuLRcu01+hMN/Ln35CwdTPrxS\n",
       "LBQHVFbVT3HXbg+b9Ge4dKsZWJcwtsLUe4zPl9wtwADTb3jIkj/dHPphD4faxGgLvxLVQ8UnoqFN\n",
       "ifXq5JhrmSYaNa6r8NIS0JWi/jjGrX03hnemsWfE4VlxY+2N8/YnPx14mXjq8KDRE/AA9ggwGEcg\n",
       "WsxQWTr30hu60GpOmxsz87Ta1t0H1ne7eCaUrlyo6U7E63Wok33WuSKWM41MbmZqvx073fbEKuK7\n",
       "WhBxN9rzUrqCQz/Fk+xRVFPmoGxtzElxR4LiWUJwpsYEIDUXLzD3ZctXC6u5XlwW1oQfh5BBrqCp\n",
       "XS7JFVYVmCHbksp6JshV6/g4r6hzyKRjm0I+Dps6xPEKEoOY8StVUCqOvR3ySsSr7mDoZ4/BtZxf\n",
       "7tizetJs927gSiRdxF2Dt41sFkJaL+jHA0gzw9BUQAxIUgBfODEfIunqiCwpYUbucmGs700tgDvs\n",
       "BNXRam7Lsd0DI+IQkaDlBML2vaOrYp1tuL1tkEJIVVeBKwMLCYMDE2V7abxhOjpuj+fy1KyBXLu2\n",
       "DiOPvVxTSIZK0CEhujSiS0Kz+WX0UT45eou53w1CQAp3g56ISWYoU1bz17ZmLTQYjB9DGivvp52u\n",
       "BB+Zz5+ECxkmKB0Naac6VL6e/iU9FuN5KFD7Y0tCflIYg0hloMKh/74Do9BZQvUPC5jBVhW9JqQQ\n",
       "nd1H/XYDrfgISryZUjAZPc2c15sY6bqsYDfl25XWmZMWF94C/lgHwXwlFIokbL2GI/KQMlVdkyzZ\n",
       "oTuYX9F4fU82jPFWDJCkvxUOGeES3xqzjy4MhWrgIj6Kc0cKwNZjoUTA8N180ybCUPScKNIMf72b\n",
       "EPtvB4cRJPhtfmk2DvGz76pIZ52IWsbckhcutx0VYMT2pilhdim0BdQBjznRgCEQliuvU8d4vkHt\n",
       "ZFfg9Pk8qczDmnyL7CF6U4UGWF28AVCLVX6GGJQRBB3whvQZbqMhtxABEoUMKxFokqdYvpkEL/IK\n",
       "0VA1/ebVFnku19s2+jjg4sZdvLgCsDsgJ+BGxV136I/9Apd0WbTHbnr2szhczxZHNWE+afiUq9Sz\n",
       "WxYXeL3iVS3fR09KFNW36q7pwl6G61c9BB1QMcWO/X/5aBlT5Oc8fRh48jHjZecM7Y4/fGyFc4mZ\n",
       "WVBoWCgcqAjiVhXew0+csgQRxpF6UK2UGf0E5JVidEo4gTPYvthslRizQ6d3ZNYktTNIA9Ce9xuC\n",
       "6pOk09vKZwULZjgAFsN3Ymzmi4mIeaFnzAmgwy2GTXlyFfcXC7oDxNAZ2XYgwHbBgBlnbyFIeBOo\n",
       "7lyvmsk8VY67WERijKHCdDDg9EVr+jEQN7HqO7zGTGHycsO/6ZePjbW6JYs70Iwv9MPF64yTZGoY\n",
       "Zfz2txGq2W1tzoXNh46oBJhceTGYPFnjMshG10/pzXguh0tgh3OwQwTQNqdDLeJvPphabI9FySFV\n",
       "zAPAdGvb/vx//+NETkQzkJv0a6J0FMnhjVrf/9OcGGNDAi2Ls4bBGEqq0IKjF6GFHUfd0w38gTCU\n",
       "/XJwndhqT90SbTVntbvR6Wz4TVwb63+oxHzW//y/l5qZizzu0cZoYSamRZJOn/4OOHdBZqgYeZnG\n",
       "R3GW/6ouOf3wDjk/B7KtphF32nb363oIxX0gIYw5jrrXHAxwpplcQlsOTJfBzgCWizXbsTOMtO58\n",
       "NudJbaK+feb2r4eYEzLMvv3XGfRwflb3QQ00n/E327lVew1qNVCVmQYn5/+zBxfb9V8NmBQCn+ES\n",
       "vF2qDrHhx+HkLvTT+BBXGWNfrGl1vHhBLEP+Q88zirkgOJ0raQjoH3YWPJYLK4sT7cbKogLy5GyX\n",
       "IQQRubXwu+m+G8QAI2NrfIEM70NPxs1UZU2BnT5Q1CcxRoXKDyvjHFIaW6aRkLDjWUiHVDmWOZCA\n",
       "/BhOyzEgbpEL5vlXuG9flIFacVKL07DOts57W0SiDWaQqg9l4Uq3lqyvIq4LWoCeIvNmIB/6SNkD\n",
       "T9EQJhB94dtffPD39xwuAuEvGaHTv8whcdKQoJH9QTyg2kFPjuu5VBpKkAfVUgJYkrOjlc6aEHnc\n",
       "qjhNIfCv9YMmqnG+CPQxMDaJs6DzR5ZgpTY7UPkyi6xywlD8SWPavdOjnGuTyiWfHtGmYUtKkPMD\n",
       "JfbCFq0oXuJjJi95wYddnUYzjRMTGEg4mqgTciprsi+FWGWn8Mq54/yNZNsiOjxg9indpKxSiNhN\n",
       "2MjNuDA5yejl58nZfnzrasDSjiuHdlrtDAXSpJKdH2xiY3V/WS0v57q22cXKXJyjPs9kQ4fKmQtK\n",
       "mwViDOG//HiXX1eOYqNqORSvhiWfVY5dceMCctHFbMLP5592YYtMz5KFIegt75mnEkxKzEB2CT/q\n",
       "GKhAp+O71RJa8Laa2OO51FaCKN79blPQHAOWV8Nu0hjSHS+tZCTm+Mbk6iC4t76NizOpaThEZhmH\n",
       "g5xk8enRPWo2uC/g3XpV8N5ELzeiRKyoeYhLC2NKWp42R98UMrQOLYY8GEzBbNKd4kicWkBH14Zz\n",
       "33Mc6plHUS4181pVwR+LHHjhJJiHz9YcIjSn4dtrw1K0kZtMGp3asoe6RISTzlp4Ulf2H+cTsQWm\n",
       "wWCL21YRzskz7pQ6xiimFosyjZtXFBCuUUhFDvEcWtm1onLhe04D43V/0WbpjZMFBA4E1AeGFLad\n",
       "Rpj37VhCVx+zogXFvr+0fTvapJI+nKTbhGWFGyPgkUNodjPmxTibIgWICfe+JduLoGebzdv3o4nS\n",
       "TlBPaaBeNPlqQE/cfcMusE4w+WYZfSdlqC3XV2Jb12fMchgjKOzOP/GS7u5I08Qld9LeOnuU244O\n",
       "t6DOD/037ZNbULwEVyd4at18a4n/XWUyfbL2V91m0MWBqAREOBs/mj0xg5KdLxzpsl+B2cMtm2bw\n",
       "4aPAh5d6iwiuw2FeXOfVfph/xkH8QI16zd739F4dL4/SWnyUy2n7VIB5uwfzsnHUYRP0dzDEBjWM\n",
       "vpyf2/YFtgAVi+uTlO9YoEgN18YAAgSaD1bl+h8rdpA4lAMT0N6EjdtA2NjHgOXX6R5a3vfNTwfQ\n",
       "F+Nry32IBbtsJr697v05RJuCN1blrJ/y63fdIn6vYBFm0gYBVtSnlFtWltzm7buWhVlkzATd2Sq7\n",
       "FHPwso6E53N02zxn7Pv1YEvpUwiye8wnHbzjh9+G5YtOwYgDuP5AZnHATZ/7NhsLSkeJ59JYEYJx\n",
       "GrJ+YyQY7kQwzYYXoJxMJ4JxkhdCGuO95XpAACVAqRTtiZbMDiD2cN97gmngrAcpBxkhw0JiFrca\n",
       "MtuAVV41ehT7hLhQ/EVXSubiGjGgePvo+9dtjtKaPeHpERq/y3oC+jMXU73/p90dGQ3lI4LKlLaI\n",
       "0jQeiK/OZQ5O1WNWSlUPQZMkRiPr4bXLtbDszbGH/AV0SBzZiU4W2XuL+yTks4P+EgkmmdDDMuLN\n",
       "aPLI3B2pBNSpV4zVoiOXT2rDEJ7OH2bLAFGlQvZEfV8zwFjTC8s33DjauN/cs+VHwV0bI0XEK+kw\n",
       "ilt/c8hWYobdoO+X3tq1I0u1EvyQoGzEbH5nMNHn7bXQwYA33hjCBwD19Yx7zMgaG6xe37zqk0xS\n",
       "SaQOvF0WmCztV05FRMFZb7faAzMPwyZD/HjpdFUG0gp0bg+OiWVuNu6yBfk0+sYigss7d24knk16\n",
       "XCHUGpRzKt0L6P/LUMSjq24nd5ueQdoQFOjx3RR7Xg6zyuFEefqr6p28OoRpzyAesZj8nnP3ErZb\n",
       "ppv/e35b13xegsZpq9iSfpAHfG8nuXgTvwa4k+kHvITIq9UYKW/MqdnkETgH0HxyWSssLva5m401\n",
       "fKIqbG6CUHdPHxRGzlRuUZjDR5xtDiZHC0ohCzDOUeUIg8ykYGXonXUT9kpDXaWYvpb0vAffuFkH\n",
       "0HThhlXTJjxDOHL2l8FaPAym3j/QYiWFWIjWu+taxjL9GWP7GcwH57zAsnM4zYXg8c5XwWP2PfFF\n",
       "XjBuXPorbsrr4919/gp26M+7R/j/PBUO6UciX3/SQCAjgGZuZWhJR16JVKz9RNieDhf52sRKUDg8\n",
       "uSZu9xMIfOf4c1XASNLlSKeg9xFFV8KNp8PuaAkjOxHX7QgchoZ9ynA4Z6LLWNypp1Efj5BMqHEP\n",
       "M0meYzCZT/CYmdZP25E3iGwlFsjRoHyl5ao9jqOS/sIZU+kMdjqbzxXtiQvVEnMTI5RvfBp6l8qg\n",
       "HsU92i9ZJxvOZ9Bafsihd9g6+Ubp0Ti0PzQzNdf+mato6m5qHkeijkCMmJ7oXrXHQsE57QQHfdlO\n",
       "Pe0y3qb9XrpnCqP5QhblCGDONuZ29fk3b4KhEHahrUy0BUwTSfIVsAii6rF8hFuFJTTCCA2IZujs\n",
       "80Vy6GOKpB6YZcEhpYSxevfLCWoWmY1dCsUC+SbnENNJ7OyEG4CRWwCvK1YKI2t6xpAVJh+BikvA\n",
       "VSmaO1rB6wYRua4XKwHxYrU9mzqsRVGviUSkSoX40S7Rhb+OdwMMYoUCiQFQjBukl3NnNSn8K6Kq\n",
       "+h5hSK1zJrHI/rPNq7jaL83PfOZujK6RULRSyzr9m8hu2X9YNwkXL1tNCQWJJi05goyS/GCA6ZBN\n",
       "dfyOzQKmj8yPYeRuj0U0eFhlHda0Hlnt3d5jaZI00+fzoWRG2xX6v3sbB03a0lgjOj8a0oywRuF1\n",
       "LpFLzO4cbYCIHRCu5XsCup5QQn61xHHzzy0+UH4YHbGY0e+t4pE62Nu6cL9q1/qr+2sppf8SeMmk\n",
       "DRvfmB4m41AReA0CgOErOXe5Ekew15K41DSmPXUlqSSHjRH1dLldOn427tsybnbK36Vx6ZzVVzsB\n",
       "999nmQavevp887H+qhS2ruK274oxeldNSDg8uhV41LFoUp0Vos4gQb51ITR26k2dMTF6sZAbbmj+\n",
       "YTw9AY8ZdoOhL0rE8MOROe72epblt9+R3d8bRT9DGP0dtiUzwPG0w0dQb1BXvkmsT04k2IUFWWSO\n",
       "rg8VgUMpeMKnqDRAayhKkMgodyZYWfLxDkbjc4NaZ/LAOQkGWzWAMVrJ7jGz/QG/GETpMBo4ZwS2\n",
       "sanjKlwgFPnAmW1Qea0RUaHEj3k9S8SPmdHkw/1y1DojreqxFicjAj8H2CU9LSQzwGl4EVGtOZUI\n",
       "mRY/H8FTY8WdoP/J/YARme59gl8bqNvqaEKJAXrMBipGeBNmyQAudxDgLJlmis2ELakxDijt94rj\n",
       "kbaZu0cJ5N7CkfLeB54zsDBj4W4ZbcGdDMe0mGQ6gWT8agim6DI05ucX/unTPbvjYyyigJ/rQoDP\n",
       "fvtw3lKByszkdXGbud2h/yHsko9nLQx84cdIh6IjLRRUCUdqIbCjIP+42I39UUiKaddtJObYciP+\n",
       "yLreGVFBS8lx3Ve5QE96Wp80hMMSq8v/mQo1bABfjkPB4Sn9gSwK7rxYsw+6RD3+IbQFHL3N5n+I\n",
       "Ws6gE72jM0rjs/DZD4ERynowgS6bpu3feWDgTky1W5/K3tCNeFUyGxj25Z6lUUFNlJSNrlwSohVZ\n",
       "Gc2bey9RLGd5XgnmLkSE2wgzaH7h2IksgFdAHY1mwIL86EXzmIj/ry5BBX/5VYEgXQfqa1QvE/1l\n",
       "422v4PWOhvz+vOpGb4v6yeRTGpbgBjCuD8p6xOWzyqkZasbCqeQu2RtyJcHq6z+yxePxJnN5cJiY\n",
       "moWoYvKjnql4l6AtHI/F0G5UIdEZO1JWMo91jHKWyRnd847L5lEjQc/C2Q5EQ2PvEynecLXQzr7E\n",
       "fq4RTLqTM/Jd2DTMbmQz1x0BcA15MaMDOaUDBH1gyvSKTa2dvPc5SPSakVBYwCLXRl8xTc7kxFG3\n",
       "hPy5cSSrvONl2MZpgsUqRCE8bMq8FWXcxYZYbIqqpN6tvqPjLlKPp/g7V6w5EjH1vKh7cs+rQOZf\n",
       "+PRqgwQ0E+kAVdZnIWbzExAAnKb9bEgesQaduFkXptGQ/3ZDfX9er/Q+IGt+ZvMofXe++5dmwTnN\n",
       "3a4TPiw7Yh/d/WzaTmd5igOKhqB0FWyKsZJuz6g5/bS+2sgBFKOHzNHwAA1BYgOTscIiFrYvP8fD\n",
       "plhu73fPeSdWpubG6eY0zQRoG9yKp112wPcuiQg7dLsNXNNwb6zHNsmmiVLsiU+mXuBx0JHr4xpU\n",
       "bhweyQtjfQWztwFU8gz/+b3C1SBtIWjExim/sXaC905MK2No5QAAAwVBmiFsQj/94QBI5hy2RLAI\n",
       "qEdToV1BOQqwbfparRIaDe2H7BihGdrlaP0LcA1TUhuHKpowNEgCarLWbnAUfTleIEFNV+sTxidL\n",
       "WFTqZ0CxYg7DQW+HqP1rKbIl0aCROu08XnX5qHNBDVFSRHB9tTKIPjA9rvV0fDUy3iPXvHSGVq6w\n",
       "RVTexVcmKqShTeCUtg1duTmnXoQ/ARnJYozp90I7co3jALCDprz1KmQRv5bHFfwKwzl96HapVEFY\n",
       "orX1m5v8hIcC3YVlRM5PrDcKSrPZJ+ussxiCy4dI/dcw8NM2rn6JYYYKFWUneuVZp1BydWqY4Lx1\n",
       "l/YZOVyyhFxBycstmnu/bXhP9CVBdpg51Wt+TyqNDAKpQQnhZUIRf+IGeu6NRDNvR3ivg+36SNcC\n",
       "26wPFoa7SmUXWO/wrSBdJ+rx4oeOyCjb4GKHxljDgozmPp7ytKhGgTrbCNkfHd8DPpnEUaJq5i5i\n",
       "Ix8iHwDhHZ8iDkZ5b5n1zsOYNTOXJzfrgKKx+AwEJ6asK6K/TijrLz+28GhiJUkYBitrVETG6sIG\n",
       "euNGlk9n4zx5kk2v2rAsM2YgSWEj+sQmFjvaPUu5J64xUK1Z1FonOzm7Rf/PXZya+lLWsIt8Nuvy\n",
       "W6afrZscuofkhZx4Bekp8JSRRiOWBT/XPgkyeFk0QvKfqjbR53l3VsW6V67cTZQ/JwpCmZTLB1og\n",
       "DULq9fpQ+mAwUaB/kc+ryLwlrSdGtPURUMZNyAzexps2IR8ZYZRK3Q06bB5LHbB5n0DQ3aDC2CEp\n",
       "dHUU6DI75huEO76vk8hD1Dpfddlho+sceAb8OJlgmEulDi6DN5f2x+13se3EnqkDuZR7cz92G9We\n",
       "wGUYYmC35EXyQw7dN6EYiBPajt2xLxgpIrFMDlea1wSyuG+isig3B6QtrXi51nHr6fPXOCpzBiTo\n",
       "n6QmduKZVJ+oQJY/QEskT1ptMQqgzrgEeNEn8ojnRxXR5qZjAXHU8QBQ/sGdCK0rpPCNvrROmsQ9\n",
       "yyOcCBE8dWArkZT4kpuS0AAAAiVBmkM8IZMphCP//eEASXhmfFIoqiDIN7MKT9tZWHLe/t2XpKgA\n",
       "3PlZvO85BvbW25MN76CqPWH9e8rA5rSTB/ihPXtn1o3UF6rRPnV870RaybKvGhwHuEZdYgDHYRAJ\n",
       "YDrAEcysMqkCtIwBYylNFXi/sBo7b+CiBKeZB7le3byHmLTpbIjI133kGdGLkCvQ1EQg6GCdAj5O\n",
       "fgBvmjObfbvghqkgsz6GT0XVMVU+QdSFL+GClMGtAYoe62gvszC7H/97SUnQp2Ye5ifY3i7WF37g\n",
       "HX+uhwna+c9R5DDsQ89bAggTKrQHNW7RFqq1dM+MZLoDs3S+cdVSfNOYjjTDGfXGzHN90PpGAADk\n",
       "TlEsjAu7okbXow1/XNNh8icA/6Yb4wcuB4xjISZGTLXUHo88f4uh0s2i2sT5ns/HCTCVolKQCv+u\n",
       "h/6LWiBFobSiQrVi62eZOoJEeI9/IvfoMjt1ENkNk8D991kwR1n4SWlT6+j2sOPWByac6wdmCnDJ\n",
       "ehEfupP4DowwZ1RMnYaNbWZxX9Wtl++mMWxcs5N/0u3N8zM3e/8czjQEsyjruTzXtcxUyOJGCY0J\n",
       "glslKNm5vcgh6fFPIIHBa9ywDTsx3ve2LI/+Nlsa8Dvb4q+tNWA1++Q2K8YZ00faPY416O/QP2uA\n",
       "XFudV/PchGxS7sRvqxB/gLU8tM0VPu42Z7Okkmb8Zfl4YcZepfuGOTsKKInjuSo100x/52PdKYEA\n",
       "AACvAZ5iakX/DqafD+qiJCgCcBzX3Zs133589bxHqmPM/K8MAhaN06wSqVrC+4uT6xFe3y/7LUnx\n",
       "V7XmAH3kcHNqFC9ftkCoZFuJSHSGUbLzx0EtuPCYMNO6Bo+o6cRwAsqLyFipSvdVkp3/SsNTCPj/\n",
       "ebD3LWhXbhooapYXXJWA6ZjSIhbv+vIADafq+VsrzFNVwqge1b/b9/L++6nmk9NwNoWALF6fVb1X\n",
       "kSDYxdcTYAAAAblBmmVJ4Q8mUwU8I//94QBG5aZUNT2zi8vNBLweAsypLi+7T2mzRgYL684c/3rS\n",
       "QEKB3N6sgnpmnBvj0FADp/cerBay4iG6ATGKy18TaX4A3XfWHeiFsMaWe+GgmcIwlZg/ZKbVtvoA\n",
       "31CG9/wKbReybUAKctMUBDvK8RkUQ1r5ETsFjBMVVNeljDu0keAle/DwAZNZzixXKoJE6W9Mm3BE\n",
       "k9tCFXU7fLljeRKHXzaXbK6h6myaSftc3BdL3T0SsdORGXrykyHBnTpoYSmHXm0rIGqBVSdFuSil\n",
       "J8O0DrohCLdLhOcXWEUACQfUyNU7TCxQefUxTzQonuqyRePfdcm2ms7nzyW8+x4QdO0FxWDd8cKz\n",
       "c95omL9/zhSE1xaIWf4DZgDePCz4EbtrVPm5YuFRPGyCL5k0i3n+HyYTxu7G6Q71z1aytkRehcy3\n",
       "pGiKslPG0M3l184nj0bD3cJws0GS/fL43cuDOY3AATRzZbyh8NorssmgGeZx9VCP3PBA01HQvwYj\n",
       "dLtmFrznLL+egIbTrEFHNYKPA4vWIgFv3fUOVTj1TjlqAP5/ggknMX0m1bfPgnNB1IMwXsEAAAB1\n",
       "AZ6EakX/A8ooGM9yJLPCIpGIOJ1XbhiGPTiBbYW2mfkYBP22zMA2X5N7+nCsAbfgj6HrMSErcWF7\n",
       "EAlCaYdpHwax4v26QcYspCPg+4wDZur6HbBAnIdGzhk7oSqReB3CMiEwIc6AhCzs3V7EGmK5m5Xj\n",
       "N5ZBAAABREGahknhDyZTAhH//eELXJ1QmJG+zSTTTiFiOL3R+ZVAi5sMMkUnXqb/qyJsTPeb2wJj\n",
       "/xuGL3lY/FIvtcs7UXfzBd5MIVAFyggZCU3pjSObYPLnG+gcZTSZpzIuUb5u7ap0SjdhVf7ZPmgN\n",
       "f8lWo2DKgwpJVtuTjt8MdGJ28joI0kOJ8G1B9LmHrNgKi6+drd6FEBbPrWmbQWMzz36RIBDhH6Ed\n",
       "4qAtGqrgvYj5RgMGIN7FrjhU27xyEiQ5uT0T3FO8RVTgsqwCqfrX8AN8Ge3xiVf2RQfWUDvQIZvx\n",
       "3kPmaNfsos8rQAAAcZ2LaK1HT27lSwXwlzHmpdTjXEdiJd4+nb2j2XqXu8CyY+/NfMnpezadnTVl\n",
       "mCodX/vAWTc01vSEOmar2AmL0htJ2+gUVoZjk7OBPuQAakeVHryrYEywFaFaWQAAARtBmqdJ4Q8m\n",
       "UwIR//3hAEUkJWhuDAFPlKYfwuvAh4NJ9T0nUwGtcBHiLZxUBV9gY/vD7ato8ny39t/U/6yiTJ9l\n",
       "rRJsZH/yz47bg/TQVhZa0Rqx4Rb8DHfvDsR3GPb4JpK8K/zPXSZ5gmSKl0BBSzEm9hc0SC2CLFvz\n",
       "pliEgIABp/upZe2kbDCZo/0K9mkEclBMnoJtUveiNhSaPCKJlbJcPdj+1O/ORiCsjNanCcPzR7oK\n",
       "YdClznGYQtguUMSnwm3AnReD6DqMomzq8AAG5VByEnt25JG0nZETUv1R7uVogmeQG3FFCMloFxA8\n",
       "7ooFvk2Hto771hPiIp8PhyGQf+gj/Ng1vd0B3BETAQLHRmNo16ox410L0p6cS4B1AAABQ0GayEnh\n",
       "DyZTAhH//eEARPSU54XuoYwMHd9CI/W/tYFeKcCqDnJvhHJiX++TZJaGq5MpmjpSz5npWOdN2Urq\n",
       "hCMO4K9HEPyiMdrXgcEEyHOQkq4Eo6yrbnafezsqPrx4kibpj4LQF7DWOboZ/ygLbzsxMT09fwiA\n",
       "uTFlKn8/eytQnbQOP5EReYK1TYzGBXUVc7jLevxa3riADMlsKoRF+qhIADI5Cvd9NRhcV5fyA7S+\n",
       "klqZNM846jWaTH0hXt/lFtqr3ExUs56l0bwUaJXJ1Xqf+pFQkYVS7ZT/tDdFeW1BUyDtlQkOgi7U\n",
       "eraHW6EaZuSdFZovw7cwXxs29Z1kGAlt3XhwxxALyIXDl4YpnOJ2scRM1jcd9OgHSme5ciPVMknC\n",
       "3HabDYepu7skpyz8XwcVwIou7evaOn7IwBNZ3RIp3SPgAAABP0Ga6UnhDyZTAhH//eEARX/Sn+it\n",
       "b2a7cgAkoaNY4Qx6zGE53tQDZUl3eQwzwAG4peM9iC/h4w3BB0OW9sdv7YqDGi4NRWXwtXwOEFYQ\n",
       "XlvcW0BiWHGfYi3JGxFIumyZ86d/nADhZNZyGlQSvmQWGbJ2UJVrn/w/ddHjniqTmpnzZGYbT57w\n",
       "wsuwyWOsq2rua2GaSvtsl8CfwTstxqcb1N9apd2f1tzeOFApUO32CQ7c0Ic0N/CYTgMtm5DF/G9w\n",
       "BWHZv2sEAAA4mQ+mT25kIiKmD0pTOiq8q8q2VP6iB8H+s/oBOh8mHJL/hEmVFKA9T0XO7gYbwzts\n",
       "fMd6IjoMctv2lRlqyONXq4U9M/1BG869t7wnFeRH47OGTP6YuipxTTkIV+EiAf31ElnDa5DFDdgS\n",
       "/a+mOmHTvURph0nCLhEAAAE+QZsKSeEPJlMCE/96wpajMJGNnsBtLFEA77IDavXaqGEyTwCwjEO4\n",
       "YLE34pSGtreoFva5po/pDaVEWkCjyqL6uq+RDAC3ejAPz5xSBGf9JPDJA44GN64AGpRNJoAvd7f0\n",
       "p+fTx4R/Unrj6F6Ifo4BrnlQBkIIXjmkUDv2JS/pnFNf4sg17FA7kI7DZ9T7JQLMjVR4SxGmsNhR\n",
       "Fl143Yzc8AADYQwsNSZsn+zfwSxj4FMABLstDfSMlQw9DCt7ItphgvyNnWK+zR0aRnxySDfauyfb\n",
       "BlktLzACdKVZ/lqEwAAAD3Nmo8MV3PqpS+6ZjAF1+nGArmjmM2UEnoTv2b637hFfvhPfVRusxkpR\n",
       "ElkC7oo60nIswn7I2MaWiqLrVffcuyREdhN9zA0res0DYvj4nbe8rRSHa9rkUjcGhZNJAAABMkGb\n",
       "K0nhDyZTAhX/g2MLuCDTcJlMOrKi7euJSEo5qBP7AC8/884E3u0aLXmxKSteGEpoSp3mXDW0jPaq\n",
       "0aGK77daMtmyQBAFo4gB8ndeNi0nN58IRVcAAxvTtcjAAFlSGo/iP+pOahf9r/oa5PNZA3IJATJr\n",
       "F/H1dO6R/LuHz2gYAY/h/TP52VSVOppbXAAHcN2OBeaent8gQwA+7/oMb7CA95nlkwivytZx88HP\n",
       "W/wlNiVVaFI/8z/a5e79DJY8aOdXVrw3Zy6/hsBHLeguHVSZX9XwHdKF0FhmPe3FdeDGNHRuAAAK\n",
       "Rp9bQDWsUHDfG9vfrnT7oBG0PtVyKQCcGJfqDz4td0HHciSYYT1kpvdK03f90B5JQo63va5765UV\n",
       "NBsR8YPVBblCFVrm/OQK+o7DWgAAAoVBm09J4Q8mUwIT/3rClqMwkY2ewG0sUQDvsgNq9dqoYTJP\n",
       "ALCMQ7hgsTfilIa2tsu2wDTg9FAU2cPzvHjpoUce3yqU4DUOML+DmaZBeQNbmIgX1IyU64dsMnVD\n",
       "jrlT3azwrWhLWRVBZvdZxqG1Gv/FkbcKriZrwIVLAn2+tgwhPKIyN7VOMKTf3mzzEXMVw9MZ4hp8\n",
       "wJKKOnKSyK7vZNr6vD6OmUbFXPuuTcBplnxQXCJ9NJ3LStnc05+43nIbbUxLydh9ksHpY79JRroo\n",
       "bTQR/1I+pZH7Svce4/bLrSYzihZAiu1fMdyff+GURyeChoY7De7CRJP8iXbTXjuHs5T94UVGS1ri\n",
       "FO2lxR/YJ89V+h/Xz3VUoTo/kFQf0ykvlJlj9HLUqeh6IH5YEdnRd8KOCVMvJdiydOVGkFMw2IAT\n",
       "L42mucviruNS2TZgPkTX8dBbrrw2+jd+fO2CQZtzpSwHyWX9fpyqAVZubv++iQJgATQVkk10SsKJ\n",
       "mqhlo3KN4U5Jex/YWZChaoUh9bplNxvKETGJXZErb50TSycCBzgTSHwtGTogf+GJRnpY+kKXsxjN\n",
       "raHoabIF0Hop/9mlDLquu1X5gYo8BaAWgoL/vp/Tf2ZPnaS9X3R1aSoVfdGs6oL7nh2nhrU937s+\n",
       "aA8TGcAZmg2JdZo3dd8MgsvF8xHHlmn+fGVItnJ29SsykDt6r3yRKMlQdG6YqWa0g02jBVmik1aR\n",
       "dVYbVJP/hmyAe4e62/4ek/I/WD4uSpgF6MxI8rykeilRRq3UeOOLmrQbTiWdd2Aw6x9qpBWhsRN2\n",
       "TS2A/aEyWvwalnPbk2Fzb3M0y+JaQ0TWOmCGi2u9lb7wEfd12Nk2yoIAAAEYQZ9tRRE8fwhYUu7n\n",
       "fZQIwAq4zHqMbUVLGNAZ28a7qmh5smPIxU5YlUA7OfT7ZOuNy+Ph2RyQn/+J8pJHt48CUc0P7pNQ\n",
       "H0YIBfqG3l2eED7e+pdzPmOoNDmYRFatCljhqAMMF1L2u2V4ywP1k6Ojxj0N0AAO3OqhQH9VoTv1\n",
       "NTdHd2AprRHNarNAdrgEzE4kQNawP5YoK2jHUruATZLrIZix/ORX+zoHayVhq2clIoUrK6J/Zy9A\n",
       "dJ91T8noioGj3nby+v7oXw2tD6/aOAjkZ/N8wqU4ukYuqVUdI8j2Mv5qZRtjQ5snQ6xEffTGNKgb\n",
       "VWNL4QUWENSZgooyVkMAd+Ks1Q5zLocLJZfckNA7G5H+cOPkozarKQAAAIwBn4x0Rf8DoOCi0mhh\n",
       "ELsEYykEXaPXVsAVh3XK2J5nfZWqc9mqlEdCgR+5kG3qMcCoGVn4AF13Cyg2gSkY59iSHXdaSh0T\n",
       "R96HlZtTQ2vv9r7y/9uX92eWMpqBWDQePAoYn2jRFaN/ZME7ZQB/0Rh0Z/Ksq3OF4YtU37QCXi0s\n",
       "Qur7fBwtBPUC++lZ8QAAAOwBn45qRf8Din2mvXqznEXDzMZOHiYbGA3ZT4NNBWM4pqf7+v6BoOia\n",
       "XHiyvobjI2bjVaN7TLKEzNN83vfdY7H1NUJbcViP9mKBjHCt8g2WYAM6aNoKPicTFRoS6JX0DNfi\n",
       "azpd2nByn2b3Ue0ojD9r6xiuyo6YORBpSs1YET5tpu4QB8bLi9lfSzFHMJ6WZhidfuLZA112NkeG\n",
       "L8k8keAfNkygOnMoA8UUyopIvHW6etzshi3r1KEludqjxhmvxTBdKfJSdYzpBmGxC1i75evyJHZ3\n",
       "fnkaIX0gpZOCbUoOHwGHiiC/CzFm3nmq3QAAAkFBm5NJqEFomUwIT/96wpW78LjljHyB5FF4jjSP\n",
       "APiGhF1WUxEAOXRzwFL6YINpl8mWPhVW6h+GkwDQy2+sA/I8Ku1NbEwaB4OEe3F+zIM7qp0meBV5\n",
       "O3sAAONxsYyLQfQ4o22tHW+ymboiMCaVXQg7xwhKDl0667kaab/OyZmI5c3s/hxVTcto0ejiZj5A\n",
       "iXvbNcaFvgYjC4gQ6Dgb8vDjl2cuDpVN5haUnYM+YBkigNUriMikt7tiUKUO4y7QQEdPLhS3pk07\n",
       "dwjWv4bQ+KU1Ur28lsA9lzne3k2jYSPCJpe5rD4x9WnZ2briVEOhlm3n9MtPxS+9ByueNIbuvf2m\n",
       "wI5fRKDU0h8EUUTlI6rkp34Iy8OnyBOkquIP3uNbk1dZLui9gQBffJ1M4xfPGapoUWvBEyDgB3Hm\n",
       "uqv0U9AuL6+AMu30aB/yX3SUIVFgmgAAPIlNIJVlnaLnImPAAhzUFSC2kJO0j4HVv8NZZ4XqIQn3\n",
       "x3wSEd5l7E2FnBsoOtGVSJFEmdjOw4fiBX/Ez7C6QcvAgQxqddgubbU2r09Kql9DiEI0HoMEkScY\n",
       "agb8VPBnnf8qzcSfeoXhZLOGgwkmWvlyAXaCE009vOKoeLDK/Nz9eqYd7ZZRJYbW8ZmJ3Qry1gVg\n",
       "05y6DGN3/FhnyDZjtnTr4Y7PpmdfTHL4t/JfyanDfdauFVLxI5lOpYzoMTxOYWH5pcnkvEMugSsN\n",
       "lgD/YMJ9uyQGuUUhq+g5GGPEFeDgUnZYa2yWzHOCKxPY7cugAAABJkGfsUURLH8IUznn5Qf0NrgA\n",
       "BHY8vVEj3ARjqgirDgKv7YbQ8B6ScmWFP14+d+HqzD5OQhlzeOSiIQR3ffRYaWKpqWnyihgWKivN\n",
       "y+YgiXOlcGraKNfVndudqzjMmE2WwXV5X9t3vwHT/C5f+1vv9GppBhXNE/EnqQAACPDDTk40Y7N2\n",
       "+j+4MR0iOkO0Xt5N8OU1fgBM+o5lvmcY5PGS+FV2KHn2oAbh8RDwv/8YZpWI7WaMsTV2029rF046\n",
       "5d7gJjmCRPdZCjgJtxHMrDXEQphrnxPDx3L5N8IVA2qKBJ+cgJFmE6RnuLlLv7qTUUq2XXS4vllk\n",
       "xUNsCYgWo0lTw2M+Nyg+1yc83/HNICX4xeJNefClRz8SRQcttwfX7GXYPanqv7qwiAAAARIBn9B0\n",
       "Rf8DfeLajfPUQBmgIgdqYXJd2YC+jdgY2+h6gYGiK28MfenDcUPdECXPgL3U54vk2YVVsHY6VTRa\n",
       "vXxDbJQyZQe2CPvsDveQJsOD/PccA0c5kVO3gABSb9VC+3NCHNOMQP+zpFQJvvVBhTH2wYEbg4gn\n",
       "9GIi0n5nzFJDslrMSU1muBYKtwggFzTFzXIbkmpUvu/yqikvJlxxytMlX4PKxhGclTn9CtImjV//\n",
       "4kX8n+oWP3RDP2lO1Q0QJhH8E/pYy1ZLC210s/cDrMLWdStJlxgiCu87i+M80+uAfW2LYXwhh41Q\n",
       "Gk9jh0ge68RBLmWft5FLCJFFmbUz7dXvhDcI4OuTr1eKpZIh9+hCZR4pAAABIQGf0mpF/wNzrHy3\n",
       "oxgDkiyoQLJ52aN4+d3yGuycQGpxf33AXHdiFMkJpiJAMaxsRf5+MnhtQzVVfV6D4XhVbraOh4cQ\n",
       "sMC/jc9nwcV0UfoY88DTcc1334/iqecCzr+BhO0xkd/js5oiG228SbCYacETRfGf423gEUR3V1uC\n",
       "uutXJGU5PdgAAT2A+crc0Yh26lloZ6nENA+3nx9LKRIFpQNTiLFAeiRHburg0D0DTb8iKzutbYdj\n",
       "H+LRzvvet0iW9wVdjnH/KdIvtlAHGFisVddlil6DgUr8Dr65Hq7/sL5fH8gswChCB7YxQjBzVg26\n",
       "RoT14vqJ7jyT5Si4RE5g2igEZ1mzpM+KbncGd+ZBGzf66jJadztm5LIYDl0QT5ABUR8AAAJaQZvX\n",
       "SahBbJlMCEf//eEAQOAQKAEaqL1G+jeiW9424wqUJ0lM8JVTyArn7Ht7cg+ICjb8pBgzf0EbiyxK\n",
       "gXa02q/alZP/jjUcWpEfE8BgWfF/ESoJ3sm23T6wuQQO1NkwcKA0fRFHczOwRAg8TfUHI4inHlbb\n",
       "b1ayLPqVtaGma/kx2tZA/pW3ST7Hub5EdWsTNo2KI13BVwofXEKcRRuJ9Wte8yeusEdAp+B6K6rw\n",
       "9Dug4hEvzEhUZC4+2j7cKC2QFZvERLxR7fGPMVH7Kcf4gQR+7jTLd6sLjq3uMZ9XHreCBayda+QI\n",
       "e7u7g6lKRdxvKpx6GkQDSaggB7hbY24TK8rKXscRrj6UPLJljWFv3ZwN710t+jIFRUXyonYPVOqe\n",
       "ikOLp3FndakwIHzb6th0veyPW86jbYLqTUne92BGqffcZAShppnIXsJaUnRBBP478CEGLt/NBuNv\n",
       "w5ibvI0oaZt6So+bVobE+TIWCf+ze15wXUwammEqg9YwGBR+wP3u74Zu3uoCePGwy/15tQlXJToa\n",
       "yeQs2ZRkRRhMfQL0eFWDkA/NKImRNESKkF6kQXXp1SI4PVDmSMzmTzq9r14qmykrNqCCfWQqzrX8\n",
       "0GhY521yCb2GYRuxI6fp3ruM+l0yOvsPfkAXPEL6du4pCDbeTS9lzUb19m5jtyiQWULbVkc8XCE3\n",
       "I/TDhA3LfqN7QsYEkTMrBsi1BYU6qhTcz7f+XizFeNrbssXYSmgp1s4rCere+tUd+e1hSfNQrXef\n",
       "VjE7dvvyMOEF5VOjriL5rFL6GfTgIrJMgbskEvAAAAEbQZ/1RRUsfwIMfGfSly3kQFQFePanNAAB\n",
       "x6wLltSJHnZJkntpDRpksJ3gZeFJaVJ74rEzWjPsP2W9Qzf6PjjUOm7wYoKuJCQSzuGipwhr+cH1\n",
       "c2jGben83G1uRo751P2LoJytwdHBEXjIu/aN48iQi0b3vYn+ZwAAc6eoEvaxUxSymSvNPtAWZvoc\n",
       "dP1zMaa9jd+i+HCT8E3jbF44DovE9K25h8TF0CFgp9ZrERxpEe6m6OuNWV4oTsnSZINwXSLs5gSl\n",
       "myPuon0M7ynMLXs6zCLwjJQAYsJxoay3uWyYhBDGQc8pE2I+hdhTWxZuGFeqcE8UtVCcUgBrd3a2\n",
       "Ug4ryv+yIdi+tki3KG5WJUkdcZ3rYnuTQuOga+nlYQAAAQQBnhR0Rf8AAsEr+Yjnagarbh6YABUV\n",
       "H0ctbiFvYtvO/W9VfZ9akaaR1YuuhfIA03S1Yy+k1h/PxhaoatL91f+TS3v4kxkCA7i9L0pvThTY\n",
       "77nH3Yq9h3pfZs6KZwreOJPFhkciCxBQAAAM4dzueLXAK4SI38KD/gtM010hcgZiVzhrw8FDwNQR\n",
       "9B8dDk4uSyAm6lfZZzYKocA7PcE9C0V+4E+XqFhdQXE4VbxUOzp1P6UCoAkZXWUPT0KqG9pPGb7J\n",
       "RDJWFpSWMdvpbKnLrdeOgn3gd33FncYZ2Ut6rEocR2ZIZ8WuksvpcuHu7hNz714sd8voKPLlN6tM\n",
       "LZQifL2+BcgLaAAAARIBnhZqRf8AArAcB3saACwkfzWL0D8UAZLXps/ERE6zZgkAHW3em8oz5S8T\n",
       "1mnlqBjZb91v8IJ7T4Fn1grePRHktKYOWrSWk54MrbxXLZ47TFpzxAJwAAwRS0klG5jd65mlWeNr\n",
       "MA52CXiv7LM5azj4zlrWZaeCemDx7JHHFyPLSxKi2SiTCOYrSc/89d4ATOesLBhlUC06/XJZorKm\n",
       "ENAj9sLwSy60Ojifl6r+bz1oc/PAwQyMTGfnfn+iyHfnyEZP/cWhpKcNYD/+rhPeywUUxuKy0H7+\n",
       "lS9t1X6c27/YW5Nq73sjDe7CA2lJglgQhi2gsilnJz3BdDFCjFKvpytkEhdBgJUkPOXAfsHgieQE\n",
       "SAflAAABeEGaGEmoQWyZTAhH//3hAAAyFzmqsrzXIIczJyt/Vz6hBbw8XV6n7roPfI1KuhPhKlWI\n",
       "m5tlOig5MJlra5y07k45kdLCsOMb4UU5D5YKXj/uELHND3eDRmE1s+KJcJuffSxZ5QvT7euVNvbk\n",
       "RRPaKGkbwZVBsv3zuN4oRVOzdPNL1gR28zZkhu6+TgW0+3ZuHSwSF1VA875sE26io5nUXI0bAh2u\n",
       "v0jAADxx3Xk+PE19cM8WKmGo4fc0mL9QZj9X4EDwU7bw/8FPdgJJZZwK1UQmnb0YtKjNl3KA/esO\n",
       "fhAk8Qc3J5WyOBbg7w70gmgHLSel8BL0xw5BAlKjWsvCMGPeVbnRCeJAVgA7Z/KThJk6G3XnwN5d\n",
       "nEDTMineL0KpuE63pEHrt/jZRfW4J1fiM/3PloPPmVkrmvqbB9vTWZ0UQdGiMusWX38RsgG0/tFj\n",
       "2htEgMPbl4iDRIL/P7MsPBIXmChIUEPrPiOSMWHeWEmjE7NsBJOYMCEAAADVQZo5SeEKUmUwIR/9\n",
       "4QAAMOJKxV8vO8mag7uAK2fkmHoGgl1my3pVaRTpiUJrnoBy+GqEfO8JEv209KLrMeXHO4ZwK9X9\n",
       "fy8vhsopHAnyOBnrr8U0JLSvfCpCUHJbQLecNXDiyWfjwAAX2KLZFiLFjjzuZM70MZ5DDl5P0WE5\n",
       "+cAo3jPoBAjiFg8eg44EiYokZQ9uJbHHAFA5hmcRWuitvWFIMGYK5pqqwOtGwfT92RH9I5a1TfBD\n",
       "Nl/ynZAvaNOw/b8QQrwVGrToVesJN9gDhIw+GEHAAAABVEGaW0nhDomUwU0TCP/94QAAMNZKm+AF\n",
       "VwowB5wL1lHhNp4sDOWaB7VLfqjsIbGBG//5D1SeUAuXcT9c34RqOUcAlipxkjfDpnzMDGLm6XYJ\n",
       "mk6RTd1cCf8qO+w1z+7MsjZMXEpYbncElvgUi4CvjbxAL0rgSqf88erRmAtnyjnVYPUn1Owx3ifx\n",
       "IkM8Mem4mawMo+WZar0F2g8olvBmS7/oTkh/GkG86wgABUjKdc+FB4+F/nCWHu7Zc17xJSu2Wq7i\n",
       "u/yPa2EKrg76J5MvQnpRP4LmwEzCBQe/YPvxTiT5Ipr22rnHBegbnhd1zHG3ov/UcvdrpIFVPou0\n",
       "AAHR+IcV1ZpU8af3Lnr/PfNZ+vlQtbj/A04iK1gOnkrHK1S4wApGkpBICzTJXwTtX2aQy0XmOmfa\n",
       "mbIo7jH6vMdqANQ+mqrSP7Wnr1VTSmEjWA1myEtRhJMAAABpAZ56akX/AAKeHAPkXjL42khS1XMv\n",
       "/UPSgkCtetJAAIb7err5UbkgDk1cIeEwNa66wKLWIImPnBWedgT0XQgGvwwKxi9CWHWZZqNt+4OT\n",
       "h1Oesce3ESRtjWXtsSE5LTaShGwRQvc6/XYiAAAAw0GafEnhDyZTAhH//eEAADE6hvEi2EkHXDl5\n",
       "2Zcd48+N15DSkSps0JjOLcGZey6VoIK5WlnxpymEp5qGmGYjqSy6Jb/Dx+FxVMLo52ri82P2ifX0\n",
       "J33I7DJRAw0+fLD6w9wabE/wAoNtBM9qkw7qakf4AFcp5Ep8bpwGXw+DxqV0y4ibKhVwf8Bzx66+\n",
       "phjNxoJHj5GZkfB/R3uwMtEWpoQAAmr/KA7awoqiGgt0CihazugQS+PzyQjp8mz5v+yHhZ7PgQAA\n",
       "AQdBmp1J4Q8mUwIT/3rClqMwkY2ewG0sUQDvsgNq9dqoYTJPALCMQ7hgsTfilIa2tr5XQzSslu4g\n",
       "1Uhw846Yy6AABw+8J9rZ8ojO0BmuHB81l+VkUgE8Sypsz8Pp7NHGJOfrpuKHyxk9XdGdNR13AJX1\n",
       "V7dAE539jx4WPTuHj/SuyIpLTM4dKiqPldz0LC99Zq6O+3saw6mEKOD2fD4Sbdpj4tCVnBTR2kO0\n",
       "3USAABMBfsagVTNLFG3iah40stsBxXlwQJqS5PAr4z+3xCvwMwpQAAAVi3/Acyi/LgS3QTWoi3/I\n",
       "CAnmKr9+7RoVH5/fgGLvtN8q/58qAkC7i2EilJw2zbUXQI9naQAAAdVBmr9J4Q8mUwURPCf/esKV\n",
       "u/C45Yx8geRReI40jwD4hoRdVlMRADl0c8BS+mCDaZfJIG9wie26VF8gPSQoG1AAAyJrAVv6gFhY\n",
       "6n2tO444RttuqK30lfGrHkPzeWXy3mLxUDeBnUbxQpz1lUTxXRidUYDhFARx+Gybj4LC/nJX/Fns\n",
       "GhUait6iVyIjX+SYXe56gmnsiAvSVvsaymjvbIQOQ1rbO9LSguwRTV28/VWNYJvlJGtj8NC4tkVc\n",
       "YGPJxHEngGHx+aAHlQIWv/8Pp33wmJAQjxYZG8rM9x4xiFxk6mfgioM14KEPGtqI5fLi0ZC+V6Gi\n",
       "3TlkmUqKyKq8feN5FDHhAABDvGMcMej+efFc0SLGc/MOeNI6yXoGhpJNNq9fzw8IyDGS4dqFvuR3\n",
       "4Wz+djWKmv+5PSCuujrRTE/A9i3FOGGdgp/Y0O3Zh1ETwIjrET70jYb5b/f0P3liQe95SfYVvpM6\n",
       "xv4vAcj9RQn1inabuMuMwq0A+WLdVDDN3fAwphAAAsd0P0A4Y5sRQ2O5M+WZWjRJfZOozxwKaadE\n",
       "HtCqgKWmNhiVoWxO4vrWVl6ujb89npeIuIWqU6mkk02J82j+mRR6OpeQYC8H6Z2hEz16952AAAAA\n",
       "uQGe3mpF/wACj16C+Lxly/S1bUqHvdf4Aqf8sD7Ubt8HdZ9AsQxNfO+e2wUaDr4W0Jm9p1sdYFBw\n",
       "CyXUwfVxAxAz1Zaf+1mkN6gEUeGd6i5tOsP5Q0ABOWhXEpkaABOc1vbkj51VVzJfXHjaHwfGPOVr\n",
       "up5X0lGckUwWaXzaAR5VMmu8/PNiArAwBv7FFBuCxvtGqaAoMGsAPbbpNM/RAERFVBo9dM0klEiB\n",
       "t9w7grNsIjhUn/gQ8jKiAAABsEGawUnhDyZTBTwn/3rClqMwkY2ewG0sUQDvsgNq9dqoYTJPALCM\n",
       "Q7hgsTfilIa2tr5XVtSA/rkr7B70PGYQAAkpNurZN2MaSRif5Ru7bzun9/PtFHwdpdyYDkmrdnTr\n",
       "fdidTGcFF0Nt8YpLjxb0R2rkkG0OvsdpVZc7MOJluQfKFMahoIrh+BlrFzmKIeUP/Djow6Ll8meG\n",
       "ynGNNUFuY5jl8r9IXadMQ0zU/qJIkDVujiGSJA4Lq7TaLVbu8JE8J32oYMBJ1yn+sEnY+x2lH0CL\n",
       "4yoUWd/6yV9vUZWCanu4gcIxmK+5Vm7dGgADSFrfxXebsbsUqigy8ZKwdeQPohs6eWlE0Xvr/lHI\n",
       "yVHkoiEV/2IAWIPEPgPMnpszcsMO1duUmF9g0oUX+rM2nbjwUxY5Ko2IKAcyqZ3RYjVAjbhVUXDP\n",
       "7l7tMF4gAAA1TUBScmZ4EnaOUhNT4riDaPi61Hh31X3TGu+wIjYpmusAoiC0uKvjd3ij9uq/jyra\n",
       "so17h9EYO5xLrfWJEJobaT6I5/Fb/m+/58BxS2w6c3+5wvLpbfvqCi+H9DAhDriBQknScQAAAJsB\n",
       "nuBqRf8AAo4vhMd2eanV8nJKfND4nh8/MYALA5RJMRCPJmVz4F0RbjbNJ2sxMP0t9t51F9jIETmP\n",
       "jyd4mqPa/AD6lcVYkPaXxdVPvdsdv3FwR8lpuHybXdX65N09awWmJOr3LFk08blgAUwLBJWj3cUC\n",
       "JXQb/FglobSPyASpl41lGko94zoI6FDEaeBSEUxQ60a5fsNOVSzAjAAAAexBmuNJ4Q8mUwU8J/96\n",
       "wpW78LjljHyB5FF4jjSPAPiGhF1WUxEAOXRzwFL6YINpl8kgZkTIbbpVX+A9JDxmEAAC2WP+F8dw\n",
       "LatgvPbkk+cffiXUNYdyf//+ZK4I7Fk7glf/tKTfVn4euewaO+N/k3TDP5he8AVTL3Ozb/gPqAIb\n",
       "mwXzZUvekRa1QhySH3BXZkTquT3ZA29oheDr5KWh0Qf/GITwTZeWQpaJXBaCesUB66rgVK749LxG\n",
       "PGP5nRCQluxCXIE8LFA/cRfYetTxXiTT48XjcIs9KInnYDEWT7O9yoyUJjm1ETTEKYNHTKPlFbz7\n",
       "yOb+NxTAT//+IkhJF4cJAtWwVN2RQ6yKqZftMFcRZY+FVj0AE1+RXA4MAAAUj8by5rF7xSfg+unA\n",
       "YbNpJH4H1Nqt2jYp0GlL32pgGYSGxXVCi7SzWivT098TOtBh+AcOdZDTJT6gzaRxWswDsNvvri36\n",
       "ZMxaak6FZeOWHwJYABHgVvvlQbFhXcz4gUq45SumBKrqdpNAMsZVqCZFfgRnhOTwEIz1K/eRMlqS\n",
       "4kwcKtC6Qnk6UN4LJWhmLIO3ysrEJcnTYTXpznyt6frYcQtGA/dVrNbQso99WyAerln0seEBEJ54\n",
       "AYSNf9Z5TDc6a5gR+TkAVOhv89y7IW0AAACPAZ8CakX/AAJ+X325EnlfhZB21G6mJXq5x33jJDYF\n",
       "F39qPOz7AKn4NqMoMVStB4hQoQSEoW9lOBVTpEQ2IAGp1hRNkCXV/p+cndNsIpps6Jv0bUQFjyye\n",
       "GpM8ju/JxTSJgAjUafFJt9jFm6chuPt9MK9+AjlytCGBV+ThmH1k+ijBnJW4yyfbzVLUhdHbV6YA\n",
       "AAExQZsESeEPJlMCFf+DYwyIoMTEnS83b56d382AiEaEyG6VwAAABSsAABHAAAfxN1yAULUGwAEr\n",
       "YQ5vXu2qVSz/TLAAHf+UgwSvbgS0CnYh+5N0WwPJzHHEceT9JCS7eVMFVv4xIHfoB2fdYSzj1hW3\n",
       "/4LB7DGpZcUU0t/5NyevIkhy7p75JatDlprOU4nPXc8AP1QdL1F7S8BlU+n3yzKJuvyj5zTlCxI7\n",
       "2oMurYjotPA4g2UpHtHw5sQSOhzEftf1xQQ3rd1FbeHa5dNwAHAsNtawY+iS1Pw9cp5pykhyolv9\n",
       "mdqw7VH7IwDMzW5kVR7lReNnEeuA5YzrfPnIE/wAAQB1VWTA4SpnCGSqUZ3LHJFUeMnf7LTIGhTU\n",
       "5hI2Kp8k199++/qoRghvtihfyhG0l4EAAAIhQZsoSeEPJlMCFf+DYwu4INNwmUw6sqLt64lISjmo\n",
       "E/sALz/zzgTe7RotebEpK14VMheIkAAJF/+onu2qVSz/TLAAHTSnPJzASjUpppqCIYb343lLg9xf\n",
       "X3cwl4dtT7X98nU0bXA6v2ScQ3IZw00lT8HIax9hFa5euvkWg5dtT/6vFr6FXflT6ZcFkPwz1vZt\n",
       "uNGo0xOLOxZ91/nKRWEvhuxMl3vAgaSEVy/iKQLvqIkKhoVq0geqgjiwL1elAtsI9NV7ELi542Xx\n",
       "QtLIWIYQSbDASBYFLDj0s6l9Uz1WGpdhiFWzz3CiWtjKor/Qq+Ohn3zaW67bL32K+pppsSzIM2a7\n",
       "RXPGnpz5pL9WPtwLJBMUlNoLZz9mUp28vgF0PSN/U4vLG3NJDwJnP/oV8tLrimDILqMcexQ1xs/f\n",
       "jwyxoX20ni0Nz1v7FROvcYk46B76Nxd3bce4AAAUuYrr/MLFtDMeH3eWmPpV+12APs/1wQrUbDF2\n",
       "x4fv6AUu2B5qlQgmhTxsojx+TQrrm6+xNXs3My4+/4/vUR/gF+gilvscU/ojSLhl2bSG7WdqZ9O+\n",
       "3clU1sjAsBUNxirXCQ1MAsiUKxa6kFjuadF/l9sNpgIt/tm3Q9xvh0y4i9Vivhdmv+sm/T5xLjf2\n",
       "coFFVdLBl1N6MxGJCVzf6B4eDK6YJgXZKjgISINtxqaZ4asCbmDItlsw17arH8Qcs6dVPjAxkmsu\n",
       "hX0AAAEiQZ9GRRE8fwABiHtj/V74RDQKLSgBsOBy31IdK2m396cYVqA4HEJIQTMwMjcEv9F0WC4d\n",
       "vDFh4pzR05M7Cs3008wJVsuARZOAJuyi3rWbF3yA3cbug/Xo0Zj/qleLZ3hopeCS0gMD68IY5oYD\n",
       "BbGnAo3B6lyQsEgAEPOUoXBixzpcludHuYmoQIG39INwURK9P9b74hpN+Rk4nG5Wf6zV6bs3OF/T\n",
       "Wz0GIvW+9Fxz9fna4/EsfONdTfTuRzeLDqy3o4HTP2AP1KvkwOcg5W2IT3FmvpKYlAdMRLcQmV4Q\n",
       "ZM75g8cr2rWPb1thUgjP75r/8gU9zqAdZObxOaZBXrAOVLw4DHt4HbOsYMeA12bebTOgKD+6wfgi\n",
       "/dzTIBJCGgZtd/EAAADAAZ9ldEX/AAJp+rlYDcGQBvFydBMvQUdNIoYIhvqEJ/gVhcBNz4HLiLH+\n",
       "kqZ+0lcDAPnGyUM3WZcwihz/5HEhRcY/CHZgPZezx3Gt5q0OCmr0lXrsHqwRCjAl9jHnz9QAFqDd\n",
       "bX28RWgRGSDxxTlzyMubCcJHG08IJ257mu3EeAqMXU1pqIb8pre4RfZYQN76wHiGmM9IjpwCrfKR\n",
       "cvrge2wqQ3wA1VXld/goPTbLQLukk39Lwt4hSsDs+fOLcfCvAAAAxAGfZ2pF/wACapjc0KSAFK/P\n",
       "/L9sogHbkNshxEE+7V9C5FbeiqkL7iM8Otg7MFCZE4Jj0Qf0xPjZl9o4k57O9Wm4m5QGyTNKFjVM\n",
       "GAGSuZT39ado2Unoh3/BSX+CzkGwAAv+jlByY5gfB2t7o9Hi/zV21W+A0DbcC1eZ16R3K9v5Pku0\n",
       "GYg3+9m7Lku+KzZ+vgvfcMHkt7A/JmeitqR4J0bULN2hNVglOfU17iy6HlekXQkOcpNJepeQ/JkX\n",
       "iyWCkLLo0RQAAAGgQZtsSahBaJlMCE//esKWozCRjZ7AbSxRAO+yA2r12qhhMk8AsIxDuGCxN+KU\n",
       "hra2vldVRLqW7iDVSHDzjpjLoAAGlzZlVOdwAUZyysKxMJqVjD2XCBtlYZuKgZHXf3/C37Gw0yny\n",
       "Ny4lMO/GDGT5qtQm2SsMWpoNBYlT83GcPYBfnS4RF7PsdC1ZCDavCDO+kNx+bwoDZMvkFyJ+BbmR\n",
       "94LMFLD2yAsJgjW1zgY1A69uAgehnTQOZN45705pNebElVsLVeMh0WhcLxs06DEeZCRa/px/pTQL\n",
       "Qh+T2qY/39yGLz73ftEPX6O40CbyyMrKXmA2sZXKr5mrKUYyyTd74MFZlX8gM8I1/Em9ouAABkDQ\n",
       "gW59AqAe21dGoFEadKd3xVhCPvhdotsiwf87Evw8ENuNvV4uyB7TYUmZ2cGEy2v1CmlORE33vRTT\n",
       "o+zu4EaCZ8UTcrfMjhRDLhBEZK8ywwQj1q9zC5EKoaI+U45Dv2nA8nzcmx3fiMhC/mdSm8Lo4lEN\n",
       "F2ezDefCIC6qRodUkDDIN7EqeXXJxxtMqnrbrHwAAAFBQZ+KRREsfwABfe81c4W0LA7dJtwAcFOE\n",
       "5NUMc1Fe1DbBebySVx0H6UFpeZvfsibJzUpcUKTl5I0NzHQ0taiUe0z/X/JWx52cqHMTH0Qul0Bi\n",
       "So5YdJCRXT7SYwAUBpdzzv3pZFsKH/DnWJXqWyxrI52dh8A7qT9HYrXXKQxFwCLBPRBV4AFYNACD\n",
       "Jvp8aKsuzLddt/TG1Jtts+Zml/Du4dJOEDPoG7U/ctguu61YiTakbrIQno80v7Fc14ilYlnDlO1h\n",
       "IER+mPunV3ecIwKPvoOYXhFrPl6m4xNwPokTxKZeLIOuX9+OC+yIoQd5eV9GNyU2Ooa2ET80gDmO\n",
       "7QNRFU0Udy0e9GjUYNQkt98oyAOhXNHxn3ltiKGrgrTOjfnklZ17sy1dn1j6Ma4i50rPYhQpaBdN\n",
       "05egi61jDk0pVaLPAAAA1gGfqXRF/wACU/DGtMjl5WgEzQz3YyNOF7VNK8jf2G1qB1O7aizhuQmn\n",
       "bGsaZYm5aAvGBfzy2vlaArb005vvtSH1mxoutnj2shhAAAADAYgurvJTAfacPz7Y8od0rQrxuIfd\n",
       "TtOEKY6laS0I9MRBJ9tVN2I7zdx7SoeAJUefDzR4PNIuE8Uv2FfiSTfSm95OlZ/8xwIC4A4fhWKK\n",
       "aQ4rfmOCVVkb9uC9TFmQHCKc+fQW+Hv6wjZnbCHwWc7S7NJ/ZueahsGCvBk6G83+zdnKLRFQSkGc\n",
       "EoQAAAEKAZ+rakX/AAJL6JLnhKy8CiLLyYkePLbtfcRTACoP0XTaaa9BVfGxCiurs1aypxebufxJ\n",
       "IHdJizFDAEHbDwcaw3xGodpH4Hhn/5+/DqmN6j5uEsG+ur4LS9sZytD/a7Z879F/KQB0ZR7+vNxM\n",
       "eCyJqu6YFDnXbdgAEl1vRenqV0hapVXdXtSSCuZDaCDqQ9zDlwv8tCgRANMQy4uDFrxbHUXpHQBE\n",
       "cgdVUqUGAdc9I7y/o+jzDVjjgCbYRp52b89dZsrpPjQdftlBILoAA8Gld4E/9yoSOSuO8+bWFZrd\n",
       "vpl3GuBxtzM1ckdlLfIdl5b1LEiqV3QtpH0fmtj+1o9z5GYyZ728KkGMEqQAAAHmQZuwSahBbJlM\n",
       "CE//esKVu/C45Yx8geRReI40jwD4hoRdVlMRADl0c8BS+mCDaZfJIGZDNKJT696iZTTbjpjLoAAA\n",
       "ZpG20BBI5iyF18hhBHjMr3jtDhiVYga6bjZm/HgXnsFZPnNv5pQQBxUkyuA1AaM/pwsHsU92D6k5\n",
       "xGJh7ikDniqcn1IElGVa4rZU5jlHv+sj61TdFkzsPzGMZSA8kLLg9Tw9gbMo69E5hc2gAtrqHZkb\n",
       "zUIR4U4PXXWjG9Oo9y4cJemdHeFKoptjV+MoQdzRKxltz0pvtD+I4y7lcWSuFSVoVlbspXO7JLAU\n",
       "f0xh6LxCtqAQX6eRQG0hkQfkvPZFW/S57mYtjoMFXaFsJ9ciCI9RSAcKPH2RGCuxuML88DpvxyJL\n",
       "dBaw0AI1KNrAAAWuKKynOk6I0PB5y/jxMFsGOeF57CbsOeRcAqKf57Fjjpp/zJNpkHVNECXlcLpk\n",
       "DWVXrWsL+cE3SEitw/R+/ipYaFAo3GyjDcwlRYXY1uukuywJrLCL7IcicVzoxF9heCEVyItApDoG\n",
       "HupN7Bw9zc1nLc/ehi5ItorZGmeVORY3Y5YoKuBX3J1s+oi0UwJ/qyoRchws0XRcFSwmH7/sdRmo\n",
       "u5rGJsE1/D7oj0yz+9aZQ7olRg45AAABJUGfzkUVLH8AAXDiuapQkJzwmXrUx9ZEATo2wjD4GB/k\n",
       "iHjPl584VhwV0TCRkYnRV0zKwf+q6b53QJ2FnxtUSb+bJHBzGB0ui2I1p2TRyrKw20FYQHILQ85w\n",
       "mRkj/RZ4TN1Bta2kaRFcM9TteC29KXcZ9feC0AGp+FDlP6rEzpiuSKOBYI+o86wEZYz5SSmxn2M9\n",
       "DH+n5brFSupLHPhHAwPVaDRhHN57cXJbPSZmqeOTU77tH8RKMTucDBAaik9lwDqG7h6eoI6d9Qqy\n",
       "1EN3wxl0dMRvP2vNWp+VBHCy7UpMUpwf2dYPkv2g0nHvfPLj8sGy1rcbTZw9lDNKryHnWQlVwV0J\n",
       "krmKUjneDX08slg+dn52aplC69Y/d/x40N3zmOSxgvrBAAABFAGf7XRF/wACSkjIDy4yAKb7AVMk\n",
       "HaN3DmYNaR5IjQTMp8KEeptmOQ1Qrw6nr7QfbUhCs+XjPM00QZ3lA0ySsixKAMw4ggxydPnyVbAp\n",
       "VIKtzMmQfwACTlFRK5tdC+rVRIAArNG52CSfpon9ydC/Kt74lYeUlm1i4DBVgCU+FV3+E10kY6Cz\n",
       "Ocm8eG1aNVJzU93eiSMxRdg8AQWtacyZz/5vJd6WZ0jhsIEkyXtI0TJQVKcTe1zc0DX6OEbFfIlZ\n",
       "0dzPQhBh8npoX/bUoX6Lao2SV/EMm2VMtGyTxZzFsv+2wl8jMJn02IZe323HaaCekslOF8Z2y9ef\n",
       "k8UrTHdFz0dI/mSygqc9cRvAq7LeR0r3B1nosQAAAOYBn+9qRf8AAkvoL+h0IqzNEAAVFW/4N+VS\n",
       "OGq5rlxEoVpkK37/2puaNPBUYKz05kw69l7IjrzBQ02lTJammtaos+a1K5Yy0s+8h7bJAAK5TpNy\n",
       "QOPR8GXKsjqios15z6GZ8lnyWX8OEfiHEGSMU/66sZdcaCqO1BiO7Qvo6CvhaZi1w+MA7uLJKNRB\n",
       "I3lJyUPwIUvd4WASIb6Ys4VGCmsXWTCWQd9scLvAL6LFxsrfFES+IB2GVcTn8VHY+OtLbtX3sago\n",
       "Q0cT7QWmUmgAFUGs40+ePaufh8Fd6fQIXGlC8WotBgn/8AAAAcRBm/NJqEFsmUwIT/96wpajMJGN\n",
       "nsBtLFEA77IDavXaqGEyTwCwjEO4YLE34pSGtra+V1VEupbuINVIcPOOmMugAABm7hW2gM3x8Hkn\n",
       "zKKZfmyILM8v92Yn773af90nIzYinUzI6wte2Ce369nPIXz8k0X8iI2AxvDVLmX9rvow2KdWpCxZ\n",
       "Tyw6LBz7T7A8/l8SJSKIfK0Zdvi0WCdLpIdyj2J8UfDD3GAGAcqIqUzAAO5wB7PnWu6H6PzN7j6G\n",
       "DiB2llDFaP12fQb/rxlI5fIbbAF8ELIDGHyGykCTCUMcCDR9dAyx4uTqr4olkS5k9ejQec9VYQAA\n",
       "SqfW6vs41Ku/tlKKXNrfrQjRrS0iLlXu2oqPk67K8MOO70oQJsOp0+1j6V8DZOyo5mZtDQyg2kDC\n",
       "EHOwhwvjq+s88LSplLggGdgoxXoKf97Dcg42vPqFzlif7gJOAABbNQ5mU1ZsW+GffferqiZwkY8q\n",
       "HygsDE22kHLAOzTVNz5cx0ps55URW0TiG8fe4DP2FSzG/Tbvb/HeuKjN3hae/kCAK+Jk4MGJrrl0\n",
       "uf9z9HRQqLW89ceCmSvix3/SmGKQp37Dr2rWBL4m9gjAgAAAAMpBnhFFFSxvAAHQ+06H+EHnUc3v\n",
       "1ABAr8jPvGClHXaC9yclZSbOkMv43yrGAteHI2RaP4IfU6g9adlbFuTvOYkJjKSAAHFETEieHpj3\n",
       "7kOF8VDiIJ8JGpEsgMjmXYyUO6iUEtB1KFnjj2a9bjrdHPl/sTH0BxEXFQvGBgyl+5usWSzyJTIN\n",
       "qdD4iUm7V+/l1FMeGMHABOMpARHqUCqIYkx0O5WOCNhaMItlPnpBkgFuSzv9EGL3Rm4u/KYPEkMG\n",
       "/VXxTZ8QVU8K78HxAAAAegGeMmpF/wACS+gvwXnc6niQA42YenNezdnYbXK6lQgYuY4CulERJ4Km\n",
       "A2/zLd0WmntTa+jq27BAAjzJVmztz0id3hhPHdADe4U0a2znXRo2pAJiCsgTiDDNsv3gUfaHagVm\n",
       "RXGGwgwQkNtV/HY2beF72f6ut/ICFsBIAAABDEGaNEmoQWyZTAhP/3rClbvwuOWMfIHkUXiONI8A\n",
       "+IaEXVZTEQA5dHPAUvpgg2mXySBmQzSiU+veomU0246Yy6AAACDTY7ufq/EL4rQBfiXgQMn+YSL7\n",
       "T8kI4oM+hi9siKXYp2rraojWvSN//n/LJD66VFHRybrJFlBNXooIp6xAZglhTjV0jU9QlDjZeFah\n",
       "D3W2W/oPRYTus8lbyeDtuNMAAbu9lVT5ckA7Cd2Z0gXVaLUBAGu0a/FtR8xQD3zFfP3Aot2Ibd9C\n",
       "dwE8+JwwxKQ26Fy4vVMS+HQAGQgkY3JzqYpdy6qx3b8sGeMdjyPzA279sQMo28QXp2UeEmv/W/qk\n",
       "DSJaqEgTShnB7bgAAAHUQZpYSeEKUmUwIT96wpajMJGNnsBtLFEA77IDavXaqGEyTwCwjEO4YLE3\n",
       "4pSGtra+V1VEupbuINVIcPOOmMugAAAgrTQjJoBazqeIa5o03Ax0ud58TMb6EzWrN2Ca3/wTQatB\n",
       "2lVbU2/I5L2gPk4iilr4d2au516hhVpIEk15LIJgIOwUvJFQ4fub/GuJ2qK9AgrE6hAUoGj76TSG\n",
       "EbHrZq/BbbdzjVFm2j1tJ3rhdfICPweu6LQAzGv/uRc9IDDC2g+jNR024FAH8hMZHD52K2ZVwUrE\n",
       "nyaUNGColvh+Fiapf5/TWWefAVQJipxc3VqD4NNY7Pgz/n5Iopskk9xSr+i9sF94jez9/4GspPGN\n",
       "vM+FdgaJpwIw+4AZIOdeMT3vB8OUHjddoNvjOHGYA1qruM3OtRd6aO4toc+TGNkcSSrdYAADkPcS\n",
       "dJHLgkDzVcY0paHIi+u/xY8RUsSxhlq9f/qNMUjB7mK+zpMUUQApst7QmdkidvkrxMdrq293EhE7\n",
       "L1lFWL7sPaAAAZ2puIouFnHpCCswgO0NXCZXLKG1hBX+08fa3wK7L8rMDpos1jDXVvde8DF2oZzs\n",
       "h2PvhfNfPzLmOlYRcfYLrOlCXg0jj6cytGEvAAAA2EGedkU0TH8AAXT6KDuN+cXMAAHGEOQVOZyM\n",
       "Z+m5Np8BCNe+l8g+syIqeqVi8CXM3TZMzeBZnfB6WhAUA38+m6wSrMXVjHP+kah0msACVew9KnLu\n",
       "y0YL62Ni0IcMe3ly17o3Trj/FjHDscFgwY1qXWwUw6lnlcT/rDtk8AaRWgJOGyACVugumuawm5iU\n",
       "l2/PsITd1f1A0PBwNr7Q/918h3wFi3QfbLz5+Y53LYBp3IGCAid/XO0bQ8WRtxUbZ9Yb9JiUOAsE\n",
       "KBXZ/0fJS2uaUwxWz8mnIs5tWAAAAIwBnpV0Rf8AAkpItc4CgmciIi1KDoAraRUGFezsVxe6PBLJ\n",
       "KJXqXgyn564WZDghXt+ONVgGqCv+s8/t9PRFgASDkPPgnhDKNJ6lmUXwkrxbIqymYGSda4ikcljQ\n",
       "T29Sbzft0CwAD3zU5ti52YPH3C00ZHjL69IHSooCDT9QyRsJEkSuo0gje826iXABkQAAAKMBnpdq\n",
       "Rf8AAkvoH5UnKNc9n4QSagAV9VXVsCi58RZzcgFnjst+uF1eq4b2ACByWUo4Pj060f2cVXgv7T56\n",
       "/NxPqABJCTuv/jVi6sDPlY932tJlaeonK4aPxh8ldSaZJ4KByRGf1Cpc9ae8ZhK+ABt5DRH70V13\n",
       "KF4qEMX0VEnbg+g640SgBfbg/CdmF0WY0Kb9NrG1IcWklP+Uyaw0Yl1b2c8TAAABtUGamkmoQWiZ\n",
       "TBTwn3rClbvwuOWMfIHkUXiONI8A+IaEXVZTEQA5dHPAUvpgg2mXySBmQzSiU+veomU0246Yy6AA\n",
       "AAp2jJoBXKuQeOe6aXVK/LntOF2OLcMjrvfFf82N0b892OCgiODlVXrUvjo2Ha3qR9YUTVhjtQgc\n",
       "46OgAnJRj1+k8jZ7CIMdo7q4uaiFN0OQU/9ibdBgJXFiwtPi/4UcoVM20oC5sXWOdZ2YN49Jx131\n",
       "gMuebuT/McDTlxWoDHxLijNwBq5ANRaDRN2SzCXJMTvdqOKHhx9VeyjnkOUaGbkOrdrQ83wh7Wjh\n",
       "UWoHJRbGBuq5ZQY4ceY55immvusQfGnA7+37qJoAHfRB+tdLWc/AuRf6ISd5E+gzv8g2+UT/5Aav\n",
       "Lc5asJw+Uac1Yo/8DUFh+OTgqyiQ9Giyew5U0hX4BLmMX8+RETFraZatgZHfJsm4MlxWBQhyZrmC\n",
       "AADuRMuuAN8CXuYSJXXrPm07e4u26Y6iXA0JCiSuNqLVPdJHsFe1i/Y/lYIuIEzFdI6YmAFAFpWr\n",
       "km/wVhuIhN8/xEk4YysriVBZaBBqxibQ687duwVAAAAAsgGeuWpF/wACTK1/L5lvxy8YUK3WACti\n",
       "O9bIPFdRVSskAlePwfjkvc0cY8jbJzI37Y58+XGcNFfBGQpjbXWxfRE9Ye1UDLYdxUqmjL28LE4f\n",
       "JX9G/xAJoD492+A7xHRevSzKdXITKvRY9wRPFfDggpYCM84AlRH8cXeVzrpPBY/cclCZvDJjzSPp\n",
       "ihvOZ/LvvWPmhWwUHB8YwjA3FbXIOH5tdI0E0/RhVHpASojfOj9dZcEAAAF3QZq+SeEKUmUwIR/9\n",
       "4QAAAwDNoByADnvOC+ZaBG104CmO/xHu8/mx8qliihC3oKpMLNd0ZR/UmFrXfblYQYn2Fe3TdPd0\n",
       "N+xRs7i+d+j4mcxS22J7mxBDMQfvIlS5taxeP/Hfb2OD258A67x5H+/Y5jQgZgsHowPJyo555tdc\n",
       "aWVfKbEP47f9OuJoTRDI9B8FxslpaE6KgOMdRFJocBKN5NJPOYlnSUp6CE+3ajl53TCcvyDqdSBA\n",
       "BoBK27b/k82Ez4HQ8FiuwqUg9fwuaIABn3/vfp0cEKqsSlFOSxo5YCnAGyPfCHApBZBaggzYnU1v\n",
       "uVvvnUHDIDB+jySl2UzfcNXmWo78QmJYwvcfe1uUhweksch57cAV5b7LPoxS52T5uObBodtK3MEe\n",
       "smyMkg25C189md7iF9KwMHZMkRCxLDVa7pDtIGn7L8KfnVHNNHuOONJDSapssEApLLF82lfsUICg\n",
       "yDRzE/vPQfpskEDUrwAJJbUsgAOaAAABPkGe3EU0TH8AAXT6KDuN+IlWI3m/ZNqUn9E4AAK/D8JU\n",
       "+GxdzV8OzUvdzOQQ/0nah+cY9hmrR1cBXSabF5ceFklaJVdkSMpjU+RyghtTJHMVa/Gfb9eEkg+o\n",
       "anG2wHWuBPDHopg1tS6OhSOaKmpIZyBU6aEL5FeOTl5ubh8ZaCyPOn+MzouwAB+5IYcJoMc5wLy4\n",
       "x7j+JcEL9SrTjNR4LOIH4SipS8JMRPkX2PX1oAbi8ji/UoNvnuXOofTgeblK5UCVU7bwEn3K9Skb\n",
       "6a44H8ykTNsan9yV/IPwNTJ1GP6TVlH4/bu41fjFyJkOYl9gP+NBYBNsxJ7R65/Ba/T0/DFw7Qjd\n",
       "QijzwCi/3LOaEnps56Ef/uDp1QArXOZ5Bmkq6LTrI893yFHD+pm2IYvYrEoLWuQuqYAToCx0cp2p\n",
       "SwAAAMIBnvt0Rf8AAkpIr8Nhz9ZoPvQlz+6ABWu6vchOmVRVPEHFJeakRbw8mX4SS/oXEEVYg9zc\n",
       "Ihz3IwlnDXdzBAcORG/72rBW5R/MDQCjTAAeoIMUlZtAoG1jnQq3aT9QdX+G+ZUbylI5SlwIHMyr\n",
       "/VaOhyD/9uBDJNw1c1GH3QTo3zgYks4JL+2ZCuXcBK+DqBggcoOLsuhlTU4Dky7Mmf161mdekh4/\n",
       "vGDazyaRXdRNYjE0Mso6Me+j5sPBCfAkFQHEwQAAARgBnv1qRf8AAkvoHxht8BNO8HWNVdD/czoA\n",
       "ib/7rmAqwOaOY3hMocGNpet2FIHtlcGKETv+eMxS9nmb/VM5tud2l1IIBtRLOfAoQi85U+/e4/Eh\n",
       "qUMfUJya1gyJGkAABzca9HHlXaTdRV0xGcVg0TOtR7AYug3e9yOX/tNYo5xA1n6cyZW6BHMMQZ6+\n",
       "BVFfIHOXvfN7Y5feClP1e73fQbK1PHAYf3pPiDKoVcQl42MJdN+3STYyvyXnEragSm9gz7TNenSC\n",
       "wenvPeOhwy0QskIYG8zMgd/5/ngZ9IDqi/307sg3EJc4unMQFeSFoQJs5EHBa+WpP+n9iQAMhlB0\n",
       "kWFe/l+LTTnSYGKgbTn15p6+ym3mfwpYY55jAAABD0Ga4kmoQWiZTAi/+lgAABQF0fgCtiqDFw5t\n",
       "8EB0kQa3dFqmCkrQPO9T0TQmYzvDlsHndm5mtKzyrwqi6pQqUJWxUXnVqzT9NkWt3PCYfzM2f4Py\n",
       "IkqgF53Nx3sQe6+W8Nip/JUSIJ26uEjpKNhpVe+P3P3i7ykG9ZFaMHRbyatMDLMOxUO/7nUMBx83\n",
       "bQSKU9nheYJ6oAbjoiM5XwDIjkazH2LEzsJ8CZL+5gQGnj+xQsBrgeBNBNL2uhxQ+vUfvrC8LdCc\n",
       "ES8MP4CZ+3BzTUUAVzXPubPCUhNXekDPXDcI6Z6bbzNYnhsBgP5LF8oBaEBSj908NueMFaxzuTkb\n",
       "cf0Z1/TxHkWW9xGHyCAAJeAAAAFcQZ8ARREsfwABdSCAd/qKYDmq/y7G6ST94ADY4gN51cQOdmCj\n",
       "RVr1sraBfrtFD5vX/2Z2176pQ3iT1hdnePtPFSBBsjhf5iL9KCiwcOUdqr9pUFxY7sMB+vfwykpj\n",
       "bLshwo7V24kpAvdfNvnYC6mX6H//XN5CwEmdoLz93yT85nsEyDQw04yODfVjP1Yd31Ixx3anfwq/\n",
       "/JpTxPUoCEWnhfzr/EWmhCP60BXNJydBSyoFwRZ0pm168zjUQwoOLFPoeyfwzPHo92hv4CpQqiP4\n",
       "+Ld0U6frKBtdNWRqmGwR+QOifztyAc37b82JQ/fM3swLKcbz4V17VpkD0RYAAmI9+fOp8FBuNbcM\n",
       "yP5BC4YkLWTe49tN/QAcPN4yVgP1O30bpHOoToI/DnFLBN3d5tUAYikbwQIs6os6A11V5zG4GdYX\n",
       "PUQYX8puSsF/P/sipDzr+3sd2IrYxGV1Y7U5AAAA2QGfP3RF/wACSki1IhUP4+gCfSTCkio2LYZj\n",
       "Two5dGiFqcSnWdFPyLSt3T/IS5dEALqqFCxTDG4dL3aoeaWpwI1y/sytWvBP1IJAndEBLzIRmeXb\n",
       "Zcrvumuww1o90l6zGRWcBAUlugTlY3w8K79q4wgu++Jy+NoFnYplvFE/FIqiYimh6tv6zAvqsQan\n",
       "TAVYdR0UO16dC5GVSlI0osDoyP1lboiAFYt1d131yATO0E0Fe6cntJ8Lq5MYjI4QQZjDwll9/4jY\n",
       "Apw0KQWGckPQQfNPc96Q7r9QoYAAAAETAZ8hakX/AAJL6C9K8kKAKjLN8wrN2gy7QSoCEFV7YnAK\n",
       "/R5sOhzb9t78E4R/+QfdY4dr6EuQ2RUgCxJEHJnY3p4Hpjj9CQ2LfHkCiK/Ohn7foRIdDng6gkn9\n",
       "3oDJQJI47GvutAyKWq9MtmWcVlz4LwhbaimnBBDoZuhFfCdWzG99VauO3asSDk5ln6rlgb8VNfOz\n",
       "DZklpj73aC3Njwhj73qW7mWx8lgW7o6eZ42rOcfUR7v2hP+aaWYS8/mi/S2fZ4BrmdAEBfPxjz+d\n",
       "/lfCrM4DTnIG8R+dJsCU8zX8GmKG2WJs4z03T6zYpjdyUkIFMytFL9E2K24mc0J98euGI0BcrD1h\n",
       "aVJvpA0LNK+jieDHqrMAAAYObW9vdgAAAGxtdmhkAAAAAAAAAAAAAAAAAAAD6AAACLoAAQAAAQAA\n",
       "AAAAAAAAAAAAAAEAAAAAAAAAAAAAAAAAAAABAAAAAAAAAAAAAAAAAABAAAAAAAAAAAAAAAAAAAAA\n",
       "AAAAAAAAAAAAAAAAAAAAAgAABTh0cmFrAAAAXHRraGQAAAADAAAAAAAAAAAAAAABAAAAAAAACLoA\n",
       "AAAAAAAAAAAAAAAAAAAAAAEAAAAAAAAAAAAAAAAAAAABAAAAAAAAAAAAAAAAAABAAAAAAtAAAALQ\n",
       "AAAAAAAkZWR0cwAAABxlbHN0AAAAAAAAAAEAAAi6AAAEAAABAAAAAASwbWRpYQAAACBtZGhkAAAA\n",
       "AAAAAAAAAAAAAAA8AAAAhgBVxAAAAAAALWhkbHIAAAAAAAAAAHZpZGUAAAAAAAAAAAAAAABWaWRl\n",
       "b0hhbmRsZXIAAAAEW21pbmYAAAAUdm1oZAAAAAEAAAAAAAAAAAAAACRkaW5mAAAAHGRyZWYAAAAA\n",
       "AAAAAQAAAAx1cmwgAAAAAQAABBtzdGJsAAAAt3N0c2QAAAAAAAAAAQAAAKdhdmMxAAAAAAAAAAEA\n",
       "AAAAAAAAAAAAAAAAAAAAAtAC0ABIAAAASAAAAAAAAAABAAAAAAAAAAAAAAAAAAAAAAAAAAAAAAAA\n",
       "AAAAAAAAAAAAGP//AAAANWF2Y0MBZAAf/+EAGGdkAB+s2UC0FuhAAAADAEAAAA8DxgxlgAEABmjr\n",
       "48siwP34+AAAAAAcdXVpZGtoQPJfJE/FujmlG88DI/MAAAAAAAAAGHN0dHMAAAAAAAAAAQAAAEMA\n",
       "AAIAAAAAFHN0c3MAAAAAAAAAAQAAAAEAAAHgY3R0cwAAAAAAAAA6AAAAAgAABAAAAAABAAAGAAAA\n",
       "AAEAAAIAAAAAAQAABgAAAAABAAACAAAAAAYAAAQAAAAAAQAACgAAAAABAAAEAAAAAAEAAAAAAAAA\n",
       "AQAAAgAAAAABAAAKAAAAAAEAAAQAAAAAAQAAAAAAAAABAAACAAAAAAEAAAoAAAAAAQAABAAAAAAB\n",
       "AAAAAAAAAAEAAAIAAAAAAgAABAAAAAABAAAGAAAAAAEAAAIAAAAAAgAABAAAAAABAAAGAAAAAAEA\n",
       "AAIAAAAAAQAABgAAAAABAAACAAAAAAEAAAYAAAAAAQAAAgAAAAABAAAEAAAAAAEAAAoAAAAAAQAA\n",
       "BAAAAAABAAAAAAAAAAEAAAIAAAAAAQAACgAAAAABAAAEAAAAAAEAAAAAAAAAAQAAAgAAAAABAAAK\n",
       "AAAAAAEAAAQAAAAAAQAAAAAAAAABAAACAAAAAAEAAAgAAAAAAgAAAgAAAAABAAAEAAAAAAEAAAoA\n",
       "AAAAAQAABAAAAAABAAAAAAAAAAEAAAIAAAAAAQAABgAAAAABAAACAAAAAAEAAAoAAAAAAQAABAAA\n",
       "AAABAAAAAAAAAAEAAAIAAAAAAQAACgAAAAABAAAEAAAAAAEAAAAAAAAAAQAAAgAAAAAcc3RzYwAA\n",
       "AAAAAAABAAAAAQAAAEMAAAABAAABIHN0c3oAAAAAAAAAAAAAAEMAAFUDAAADCQAAAikAAACzAAAB\n",
       "vQAAAHkAAAFIAAABHwAAAUcAAAFDAAABQgAAATYAAAKJAAABHAAAAJAAAADwAAACRQAAASoAAAEW\n",
       "AAABJQAAAl4AAAEfAAABCAAAARYAAAF8AAAA2QAAAVgAAABtAAAAxwAAAQsAAAHZAAAAvQAAAbQA\n",
       "AACfAAAB8AAAAJMAAAE1AAACJQAAASYAAADEAAAAyAAAAaQAAAFFAAAA2gAAAQ4AAAHqAAABKQAA\n",
       "ARgAAADqAAAByAAAAM4AAAB+AAABEAAAAdgAAADcAAAAkAAAAKcAAAG5AAAAtgAAAXsAAAFCAAAA\n",
       "xgAAARwAAAETAAABYAAAAN0AAAEXAAAAFHN0Y28AAAAAAAAAAQAAADAAAABidWR0YQAAAFptZXRh\n",
       "AAAAAAAAACFoZGxyAAAAAAAAAABtZGlyYXBwbAAAAAAAAAAAAAAAAC1pbHN0AAAAJal0b28AAAAd\n",
       "ZGF0YQAAAAEAAAAATGF2ZjU4LjQ1LjEwMA==\n",
       "\">\n",
       "  Your browser does not support the video tag.\n",
       "</video>"
      ],
      "text/plain": [
       "<IPython.core.display.HTML object>"
      ]
     },
     "execution_count": 44,
     "metadata": {},
     "output_type": "execute_result"
    }
   ],
   "source": [
    "from matplotlib import animation\n",
    "from IPython.display import HTML\n",
    "    \n",
    "# Load data\n",
    "t = ascii.read(\"./orb.dat\") # in case it wasn't saved in the previous section\n",
    "x = t[\"x (cm)\"]\n",
    "y = t[\"y (cm)\"]\n",
    "vx = t[\"vx (cm/s)\"]\n",
    "vy = t[\"vy (cm/s)\"]\n",
    "n = range(len(x))\n",
    "\n",
    "# Compute energies\n",
    "dist    = np.sqrt(x**2 + y**2) # distance\n",
    "speed   = np.sqrt(vx**2 + vy**2) # speed\n",
    "spec_K  = 0.5*speed**2\n",
    "spec_U  = -G*M / dist\n",
    "spec_E  = spec_K + spec_U\n",
    "plt.close() # hide static image\n",
    "\n",
    "######\n",
    "# Plot\n",
    "######\n",
    "fig, axes = plt.subplots(2, 2, figsize=(10, 10))\n",
    "ax_orbit, ax_E, ax_K, ax_U = axes.flat\n",
    "\n",
    "# Star\n",
    "ax_orbit.add_artist(plt.Circle((0, 0), 0.3, fc=COLOR_STAR))\n",
    "\n",
    "# Circular orbit comparison\n",
    "theta = np.linspace(0, 2*np.pi, 100)\n",
    "ax_orbit.plot(np.cos(theta), np.sin(theta), ls='--', color=COLOR_CIRC)\n",
    "\n",
    "# Trajectory\n",
    "traj, = ax_orbit.plot(x[0]/AU, y[0]/AU, color=COLOR_TRAJ)\n",
    "start, = ax_orbit.plot(x[0]/AU, y[0]/AU, 'X', ms=10)\n",
    "end, = ax_orbit.plot([], [], 'o', ms=10)\n",
    "lim = 2.5\n",
    "ax_orbit.set_xlim(-lim, lim)\n",
    "ax_orbit.set_ylim(-lim, lim)\n",
    "ax_orbit.set_aspect(aspect='equal')\n",
    "ax_orbit.set_xlabel(\"X (AU)\")\n",
    "ax_orbit.set_ylabel(\"Y (AU)\")\n",
    "\n",
    "# Total energy\n",
    "E0 = np.abs(spec_E[0])\n",
    "tot_E, = ax_E.plot(n, spec_E/E0)\n",
    "tot_E_end, = ax_E.plot([], [], 'o', ms=10)\n",
    "ax_E.set_xlabel(\"step\")\n",
    "ax_E.set_ylabel(\"$E / |E_0|$\")\n",
    "\n",
    "# Kinetic energy\n",
    "K0 = spec_K[0]\n",
    "K, = ax_K.plot(n, spec_K/K0)\n",
    "K_end, = ax_K.plot([], [], 'o', ms=10)\n",
    "ax_K.set_xlabel(\"step\")\n",
    "ax_K.set_ylabel(\"$K / K_0$\")\n",
    "\n",
    "# Potential energy\n",
    "U0 = np.abs(spec_U[0])\n",
    "U, = ax_U.plot(n, spec_U/U0)\n",
    "U_end, = ax_U.plot([], [], 'o', ms=10)\n",
    "ax_U.set_xlabel(\"step\")\n",
    "ax_U.set_ylabel(\"$U / |U_0|$\")\n",
    "\n",
    "plt.close() # Hide initial static plot\n",
    "\n",
    "# Animation function. This is called sequentially\n",
    "def run(i):\n",
    "    # Trajectory\n",
    "    traj.set_data(x[:i+1] / AU, y[:i+1] / AU)\n",
    "    end.set_data(x[i]/AU, y[i]/AU)\n",
    "    \n",
    "    # Total Energy\n",
    "    tot_E_end.set_data(n[i], spec_E[i]/E0)\n",
    "    \n",
    "    # Kinetic Energy\n",
    "    K_end.set_data(n[i], spec_K[i]/K0)\n",
    "    \n",
    "    # Potential Energy\n",
    "    U_end.set_data(n[i], spec_U[i]/U0)\n",
    "    \n",
    "    return traj,\n",
    "\n",
    "# call the animator. blit=True re-draws just the parts that have \n",
    "# changed to make things a bit faster\n",
    "\n",
    "# remove white margin\n",
    "#fig.subplots_adjust(left=0, bottom=0, right=1, top=1, \n",
    "#                    wspace=0.05, hspace=0.05)\n",
    "fig.tight_layout()\n",
    "\n",
    "N = len(x)\n",
    "spf = 1/30 # seconds per frame\n",
    "ani = animation.FuncAnimation(\n",
    "    fig,\n",
    "    run,\n",
    "    frames=N, \n",
    "    interval=spf * 1000,\n",
    "    blit=True,\n",
    ")\n",
    "HTML(ani.to_html5_video())"
   ]
  }
 ],
 "metadata": {
  "@webio": {
   "lastCommId": null,
   "lastKernelId": null
  },
  "kernelspec": {
   "display_name": "Python 3",
   "language": "python",
   "name": "python3"
  },
  "language_info": {
   "codemirror_mode": {
    "name": "ipython",
    "version": 3
   },
   "file_extension": ".py",
   "mimetype": "text/x-python",
   "name": "python",
   "nbconvert_exporter": "python",
   "pygments_lexer": "ipython3",
   "version": "3.8.5"
  },
  "toc": {
   "base_numbering": 1,
   "nav_menu": {
    "height": "250px",
    "width": "254px"
   },
   "number_sections": false,
   "sideBar": true,
   "skip_h1_title": false,
   "title_cell": "Table of Contents",
   "title_sidebar": "Contents",
   "toc_cell": false,
   "toc_position": {},
   "toc_section_display": "block",
   "toc_window_display": false
  },
  "widgets": {
   "application/vnd.jupyter.widget-state+json": {
    "state": {
     "003edfcfd28c44578e9adbb06bbe702e": {
      "model_module": "jupyter-js-widgets",
      "model_module_version": "~2.1.4",
      "model_name": "FloatSliderModel",
      "state": {
       "_model_module_version": "~2.1.4",
       "_view_module_version": "~2.1.4",
       "description": "$-v_y / v_c$",
       "layout": "IPY_MODEL_311352910d6d437f835a977eff565606",
       "max": 2,
       "min": -2,
       "step": 0.01,
       "value": 1
      }
     },
     "00fdfd1ddaf444209fd10102541e9961": {
      "model_module": "jupyter-js-widgets",
      "model_module_version": "~2.1.4",
      "model_name": "LayoutModel",
      "state": {
       "_model_module_version": "~2.1.4",
       "_view_module_version": "~2.1.4"
      }
     },
     "01822ad9f18049d894dcbadc6d73e615": {
      "model_module": "jupyter-js-widgets",
      "model_module_version": "~2.1.4",
      "model_name": "FloatSliderModel",
      "state": {
       "_model_module_version": "~2.1.4",
       "_view_module_version": "~2.1.4",
       "description": "$-r_x / 1$ $AU$",
       "layout": "IPY_MODEL_29461613518743ebac153548828033f7",
       "max": 2,
       "min": 0.1,
       "step": 0.01,
       "value": 1
      }
     },
     "01915560a13a45f8905ba6fa28bf5fd7": {
      "model_module": "jupyter-js-widgets",
      "model_module_version": "~2.1.4",
      "model_name": "FloatSliderModel",
      "state": {
       "_model_module_version": "~2.1.4",
       "_view_module_version": "~2.1.4",
       "description": "$-r_x / 1$ $AU$",
       "layout": "IPY_MODEL_f48b162868954f689f1feba68778f741",
       "max": 2,
       "min": 0.1,
       "step": 0.01,
       "value": 0.75
      }
     },
     "01995ccd8d2e47e4a9ed9160e49d1a71": {
      "model_module": "jupyter-js-widgets",
      "model_module_version": "~2.1.4",
      "model_name": "LayoutModel",
      "state": {
       "_model_module_version": "~2.1.4",
       "_view_module_version": "~2.1.4",
       "display": "inline-flex",
       "flex_flow": "row wrap",
       "justify_content": "flex-start"
      }
     },
     "01b1773d32d749d8a544be0be6d6e624": {
      "model_module": "jupyter-js-widgets",
      "model_module_version": "~2.1.4",
      "model_name": "LayoutModel",
      "state": {
       "_model_module_version": "~2.1.4",
       "_view_module_version": "~2.1.4",
       "display": "inline-flex",
       "flex_flow": "row wrap",
       "justify_content": "flex-start"
      }
     },
     "01cea76961734fbcb58483ba122848f1": {
      "model_module": "jupyter-js-widgets",
      "model_module_version": "~2.1.4",
      "model_name": "VBoxModel",
      "state": {
       "_dom_classes": [
        "widget-interact"
       ],
       "_model_module_version": "~2.1.4",
       "_view_module_version": "~2.1.4",
       "children": [
        "IPY_MODEL_29623f3a34a443e5a95add58ef11564c",
        "IPY_MODEL_177ca4c524e34c138259f44ec6d7ab4c",
        "IPY_MODEL_77659305bfed42079908814c63b24bac",
        "IPY_MODEL_ba5cb4c657bb40f9b7fb3c50fafd5bd1",
        "IPY_MODEL_1643a7667d1a4d32b654e477be764f84",
        "IPY_MODEL_e392c78b63284d37be7cff6f6f44b157"
       ],
       "layout": "IPY_MODEL_6414e51e15e2459b8a33c29c7245ef32"
      }
     },
     "01e0dee90ba94dc7aaaf21d456cc8486": {
      "model_module": "jupyter-js-widgets",
      "model_module_version": "~2.1.4",
      "model_name": "FloatSliderModel",
      "state": {
       "_model_module_version": "~2.1.4",
       "_view_module_version": "~2.1.4",
       "description": "$-v_y / v_c$",
       "layout": "IPY_MODEL_b42ee0b5fc764e859b9a39156c911140",
       "max": 2,
       "min": -2,
       "step": 0.01,
       "value": 1
      }
     },
     "01ec51484a884adcb98ffe434defd569": {
      "model_module": "jupyter-js-widgets",
      "model_module_version": "~2.1.4",
      "model_name": "LayoutModel",
      "state": {
       "_model_module_version": "~2.1.4",
       "_view_module_version": "~2.1.4"
      }
     },
     "0277090c10d94c769cf5554409c4cf26": {
      "model_module": "jupyter-js-widgets",
      "model_module_version": "~2.1.4",
      "model_name": "LayoutModel",
      "state": {
       "_model_module_version": "~2.1.4",
       "_view_module_version": "~2.1.4"
      }
     },
     "038128f88ef64ffe99aa11da4a61a772": {
      "model_module": "jupyter-js-widgets",
      "model_module_version": "~2.1.4",
      "model_name": "LayoutModel",
      "state": {
       "_model_module_version": "~2.1.4",
       "_view_module_version": "~2.1.4"
      }
     },
     "03e1826fe81e427aa467eb2796427f6c": {
      "model_module": "jupyter-js-widgets",
      "model_module_version": "~2.1.4",
      "model_name": "FloatSliderModel",
      "state": {
       "_model_module_version": "~2.1.4",
       "_view_module_version": "~2.1.4",
       "description": "$v_x / v_c$",
       "layout": "IPY_MODEL_ceb071156fe945c9ad54999399c4dbe3",
       "max": 2,
       "min": -2,
       "step": 0.01,
       "value": 0.42
      }
     },
     "04e0fe0c54f241a4824e137e78b8a2f7": {
      "model_module": "jupyter-js-widgets",
      "model_module_version": "~2.1.4",
      "model_name": "OutputModel",
      "state": {
       "_dom_classes": [],
       "_model_module": "jupyter-js-widgets",
       "_model_module_version": "~2.1.4",
       "_view_module": "jupyter-js-widgets",
       "_view_module_version": "~2.1.4",
       "layout": "IPY_MODEL_fb6d1ca915344f5da46cbf499d22a3d6",
       "msg_throttle": 1
      }
     },
     "0552eae71ca14ebaa64b904a2db70802": {
      "model_module": "jupyter-js-widgets",
      "model_module_version": "~2.1.4",
      "model_name": "FloatSliderModel",
      "state": {
       "_model_module_version": "~2.1.4",
       "_view_module_version": "~2.1.4",
       "description": "$-v_y / v_c$",
       "layout": "IPY_MODEL_97b4949fa2524b83accde7eb76f2c87e",
       "max": 2,
       "min": -2,
       "step": 0.01,
       "value": 1
      }
     },
     "0558269abec445708d579f5b16fbb287": {
      "model_module": "jupyter-js-widgets",
      "model_module_version": "~2.1.4",
      "model_name": "FloatSliderModel",
      "state": {
       "_model_module_version": "~2.1.4",
       "_view_module_version": "~2.1.4",
       "description": "$-v_y / v_c$",
       "layout": "IPY_MODEL_c5870e3983554f03be2b65afdfd75273",
       "max": 2,
       "min": -2,
       "step": 0.01,
       "value": 1
      }
     },
     "055e8fec03714b3db2fc814401a8946b": {
      "model_module": "jupyter-js-widgets",
      "model_module_version": "~2.1.4",
      "model_name": "LayoutModel",
      "state": {
       "_model_module_version": "~2.1.4",
       "_view_module_version": "~2.1.4",
       "display": "inline-flex",
       "flex_flow": "row wrap",
       "justify_content": "flex-start"
      }
     },
     "05843fdaca1f4eaeace9c299d462d27b": {
      "model_module": "jupyter-js-widgets",
      "model_module_version": "~2.1.4",
      "model_name": "LayoutModel",
      "state": {
       "_model_module_version": "~2.1.4",
       "_view_module_version": "~2.1.4"
      }
     },
     "05d065bc6fc44e809119bce984c84728": {
      "model_module": "jupyter-js-widgets",
      "model_module_version": "~2.1.4",
      "model_name": "FloatSliderModel",
      "state": {
       "_model_module_version": "~2.1.4",
       "_view_module_version": "~2.1.4",
       "description": "$-r_x / 1$ $AU$",
       "layout": "IPY_MODEL_1391c0da989f43a5a4d0bb7fb401b9c5",
       "max": 2,
       "min": 0.1,
       "step": 0.01,
       "value": 1
      }
     },
     "0672887186f4495dae14c1037475d21f": {
      "model_module": "jupyter-js-widgets",
      "model_module_version": "~2.1.4",
      "model_name": "OutputModel",
      "state": {
       "_dom_classes": [],
       "_model_module": "jupyter-js-widgets",
       "_model_module_version": "~2.1.4",
       "_view_module": "jupyter-js-widgets",
       "_view_module_version": "~2.1.4",
       "layout": "IPY_MODEL_5e40d840ffc64472b548eca6919b8eee",
       "msg_throttle": 1
      }
     },
     "074f1346c9dd4f89beab94ecd4aefd0c": {
      "model_module": "jupyter-js-widgets",
      "model_module_version": "~2.1.4",
      "model_name": "VBoxModel",
      "state": {
       "_dom_classes": [
        "widget-interact"
       ],
       "_model_module_version": "~2.1.4",
       "_view_module_version": "~2.1.4",
       "children": [
        "IPY_MODEL_fa2cb5ec373a47e1b514cf10edd76788",
        "IPY_MODEL_83621bb1b3dc4d4aa184229f2422d8bb",
        "IPY_MODEL_01e0dee90ba94dc7aaaf21d456cc8486",
        "IPY_MODEL_5a87971c4402453dac1d007ae6bdf2c9",
        "IPY_MODEL_d407368a1e8f4c6bbacd300c59cbd931",
        "IPY_MODEL_0821d5fab10b42a8b59eea813ed4c2a9"
       ],
       "layout": "IPY_MODEL_cb2b6e9518424ce4a9f44005c4624854"
      }
     },
     "07a1a69cee704944a240ed2bc36affce": {
      "model_module": "jupyter-js-widgets",
      "model_module_version": "~2.1.4",
      "model_name": "FloatSliderModel",
      "state": {
       "_model_module_version": "~2.1.4",
       "_view_module_version": "~2.1.4",
       "description": "$-r_x / 1$ $AU$",
       "layout": "IPY_MODEL_0b7b96301832424092b4b82693c27fdf",
       "max": 2,
       "min": 0.1,
       "step": 0.01,
       "value": 1
      }
     },
     "07e437d00f0a4dfa972d855cb3e29ce3": {
      "model_module": "jupyter-js-widgets",
      "model_module_version": "~2.1.4",
      "model_name": "LayoutModel",
      "state": {
       "_model_module_version": "~2.1.4",
       "_view_module_version": "~2.1.4"
      }
     },
     "0804d5f071d548ecb777b62ce863554e": {
      "model_module": "jupyter-js-widgets",
      "model_module_version": "~2.1.4",
      "model_name": "LayoutModel",
      "state": {
       "_model_module_version": "~2.1.4",
       "_view_module_version": "~2.1.4"
      }
     },
     "0821d5fab10b42a8b59eea813ed4c2a9": {
      "model_module": "jupyter-js-widgets",
      "model_module_version": "~2.1.4",
      "model_name": "OutputModel",
      "state": {
       "_dom_classes": [],
       "_model_module": "jupyter-js-widgets",
       "_model_module_version": "~2.1.4",
       "_view_module": "jupyter-js-widgets",
       "_view_module_version": "~2.1.4",
       "layout": "IPY_MODEL_f5b77fefd5484c50b06485b35bcb83c0",
       "msg_throttle": 1
      }
     },
     "08c00d9a0e1d49b5964d9911f9af16ce": {
      "model_module": "jupyter-js-widgets",
      "model_module_version": "~2.1.4",
      "model_name": "LayoutModel",
      "state": {
       "_model_module_version": "~2.1.4",
       "_view_module_version": "~2.1.4"
      }
     },
     "09001ad688084d8b85b7ea80edbd0e56": {
      "model_module": "jupyter-js-widgets",
      "model_module_version": "~2.1.4",
      "model_name": "FloatSliderModel",
      "state": {
       "_model_module_version": "~2.1.4",
       "_view_module_version": "~2.1.4",
       "description": "$T$ / $1\\ year$",
       "layout": "IPY_MODEL_609702ad83944d76b25c822a3999469a",
       "max": 5,
       "min": 0.1,
       "step": 0.01,
       "value": 1
      }
     },
     "0991457ba73345d5b121912013c2b468": {
      "model_module": "jupyter-js-widgets",
      "model_module_version": "~2.1.4",
      "model_name": "FloatSliderModel",
      "state": {
       "_model_module_version": "~2.1.4",
       "_view_module_version": "~2.1.4",
       "description": "$T$ / $1\\ year$",
       "layout": "IPY_MODEL_9a419a6c33a8471c8a06c84e0ae1085a",
       "max": 5,
       "min": 0.1,
       "step": 0.01,
       "value": 1
      }
     },
     "09a233cabde54a07a6548b5767eb79d8": {
      "model_module": "jupyter-js-widgets",
      "model_module_version": "~2.1.4",
      "model_name": "FloatSliderModel",
      "state": {
       "_model_module_version": "~2.1.4",
       "_view_module_version": "~2.1.4",
       "description": "$T$ / $1\\ year$",
       "layout": "IPY_MODEL_cf9635010aba4b8eb641e98c8273e6cd",
       "max": 5,
       "min": 0.1,
       "step": 0.01,
       "value": 1
      }
     },
     "09a64ef04c41443ea09732b326232b8f": {
      "model_module": "jupyter-js-widgets",
      "model_module_version": "~2.1.4",
      "model_name": "OutputModel",
      "state": {
       "_dom_classes": [],
       "_model_module": "jupyter-js-widgets",
       "_model_module_version": "~2.1.4",
       "_view_module": "jupyter-js-widgets",
       "_view_module_version": "~2.1.4",
       "layout": "IPY_MODEL_34f6d1afe9e74c489556498d9226d9c3",
       "msg_throttle": 1
      }
     },
     "09a71b4ae34f4075851ffc90cb82e1aa": {
      "model_module": "jupyter-js-widgets",
      "model_module_version": "~2.1.4",
      "model_name": "VBoxModel",
      "state": {
       "_dom_classes": [
        "widget-interact"
       ],
       "_model_module_version": "~2.1.4",
       "_view_module_version": "~2.1.4",
       "children": [
        "IPY_MODEL_1144f46bdbe34f7fa7e477fc0acc9882",
        "IPY_MODEL_22eeb96534544944b84e5cbdd2e25714",
        "IPY_MODEL_8a5b7511c220495eb315b7e292e4041f",
        "IPY_MODEL_5335ae0aee834ac68fd7b071352b6256",
        "IPY_MODEL_370edc2f0a1449ac9c0eb2ac7cad2a79",
        "IPY_MODEL_3a6df8d114bb402ebba07b34074f7a91"
       ],
       "layout": "IPY_MODEL_66b0770ac90945518059bdd6f608229d"
      }
     },
     "0a1f7ed9335948a3a8548f653fde58b5": {
      "model_module": "jupyter-js-widgets",
      "model_module_version": "~2.1.4",
      "model_name": "FloatSliderModel",
      "state": {
       "_model_module_version": "~2.1.4",
       "_view_module_version": "~2.1.4",
       "description": "$f\\ \\left(dt = 10^f \\cdot r_0 / v\\right)$",
       "layout": "IPY_MODEL_63ed6f6f8a4d43ba99b545ac33412530",
       "max": 2,
       "min": -3,
       "value": -2
      }
     },
     "0b7b96301832424092b4b82693c27fdf": {
      "model_module": "jupyter-js-widgets",
      "model_module_version": "~2.1.4",
      "model_name": "LayoutModel",
      "state": {
       "_model_module_version": "~2.1.4",
       "_view_module_version": "~2.1.4"
      }
     },
     "0c078f3ce1f54c449cae7c2a234eb518": {
      "model_module": "jupyter-js-widgets",
      "model_module_version": "~2.1.4",
      "model_name": "FloatSliderModel",
      "state": {
       "_model_module_version": "~2.1.4",
       "_view_module_version": "~2.1.4",
       "description": "$T$ / $1\\ year$",
       "layout": "IPY_MODEL_1247f1ef69ca4069a74c66473dab15b9",
       "max": 5,
       "min": 0.1,
       "step": 0.01,
       "value": 0.83
      }
     },
     "0c4d7368dda54ee4a6f55002b4ddedd0": {
      "model_module": "jupyter-js-widgets",
      "model_module_version": "~2.1.4",
      "model_name": "LayoutModel",
      "state": {
       "_model_module_version": "~2.1.4",
       "_view_module_version": "~2.1.4"
      }
     },
     "0d2ea3e7c066424bbbdd9e3e13de123a": {
      "model_module": "jupyter-js-widgets",
      "model_module_version": "~2.1.4",
      "model_name": "FloatSliderModel",
      "state": {
       "_model_module_version": "~2.1.4",
       "_view_module_version": "~2.1.4",
       "description": "$T$ / $1\\ year$",
       "layout": "IPY_MODEL_540e3362a46248fc843a246d6a386161",
       "max": 5,
       "min": 0.1,
       "step": 0.01,
       "value": 1
      }
     },
     "0d330abbde1e42e7bf758100cb2d559b": {
      "model_module": "jupyter-js-widgets",
      "model_module_version": "~2.1.4",
      "model_name": "LayoutModel",
      "state": {
       "_model_module_version": "~2.1.4",
       "_view_module_version": "~2.1.4"
      }
     },
     "0da51c446baf43b488dcee03a5f02ae5": {
      "model_module": "jupyter-js-widgets",
      "model_module_version": "~2.1.4",
      "model_name": "LayoutModel",
      "state": {
       "_model_module_version": "~2.1.4",
       "_view_module_version": "~2.1.4"
      }
     },
     "0e1b0c13cd9d4fa3994517c1e8a25452": {
      "model_module": "jupyter-js-widgets",
      "model_module_version": "~2.1.4",
      "model_name": "LayoutModel",
      "state": {
       "_model_module_version": "~2.1.4",
       "_view_module_version": "~2.1.4",
       "display": "inline-flex",
       "flex_flow": "row wrap",
       "justify_content": "flex-start"
      }
     },
     "0e41ba8e74d041a48828c76fc95f0726": {
      "model_module": "jupyter-js-widgets",
      "model_module_version": "~2.1.4",
      "model_name": "LayoutModel",
      "state": {
       "_model_module_version": "~2.1.4",
       "_view_module_version": "~2.1.4"
      }
     },
     "0e6df5fc81304652b8e931e8bd1da92a": {
      "model_module": "jupyter-js-widgets",
      "model_module_version": "~2.1.4",
      "model_name": "FloatSliderModel",
      "state": {
       "_model_module_version": "~2.1.4",
       "_view_module_version": "~2.1.4",
       "description": "$T$ / $1\\ year$",
       "layout": "IPY_MODEL_6f08443b8d5d4041b2eda825fd47b1a1",
       "max": 5,
       "min": 0.1,
       "step": 0.01,
       "value": 1
      }
     },
     "0e971255c5df46c4819e5e4da0dd9bef": {
      "model_module": "jupyter-js-widgets",
      "model_module_version": "~2.1.4",
      "model_name": "LayoutModel",
      "state": {
       "_model_module_version": "~2.1.4",
       "_view_module_version": "~2.1.4"
      }
     },
     "0f0424541f934042bdc8f07c5e352cdd": {
      "model_module": "jupyter-js-widgets",
      "model_module_version": "~2.1.4",
      "model_name": "LayoutModel",
      "state": {
       "_model_module_version": "~2.1.4",
       "_view_module_version": "~2.1.4",
       "display": "inline-flex",
       "flex_flow": "row wrap",
       "justify_content": "flex-start"
      }
     },
     "0f1ed8b08ab64d5b888700fca0b7f422": {
      "model_module": "jupyter-js-widgets",
      "model_module_version": "~2.1.4",
      "model_name": "LayoutModel",
      "state": {
       "_model_module_version": "~2.1.4",
       "_view_module_version": "~2.1.4"
      }
     },
     "0f442812050249178901d6a81a2f4d1d": {
      "model_module": "jupyter-js-widgets",
      "model_module_version": "~2.1.4",
      "model_name": "VBoxModel",
      "state": {
       "_dom_classes": [
        "widget-interact"
       ],
       "_model_module_version": "~2.1.4",
       "_view_module_version": "~2.1.4",
       "children": [
        "IPY_MODEL_494f6a9e47aa4f52ab9b3628c9d9fa4c",
        "IPY_MODEL_a7d8604be511490f92f8347452bd8a3a",
        "IPY_MODEL_7eaa4f71ffb3440780ea0822e218f55a",
        "IPY_MODEL_0c078f3ce1f54c449cae7c2a234eb518",
        "IPY_MODEL_f79dc74358524af098044a883f588c0d",
        "IPY_MODEL_724a73121a364c2e8b0d2276f05e4e8e"
       ],
       "layout": "IPY_MODEL_798499895a494c7fb88c700a9da2d1e2"
      }
     },
     "102ae5e51e1e4f1f8164c6975d70d498": {
      "model_module": "jupyter-js-widgets",
      "model_module_version": "~2.1.4",
      "model_name": "OutputModel",
      "state": {
       "_dom_classes": [],
       "_model_module": "jupyter-js-widgets",
       "_model_module_version": "~2.1.4",
       "_view_module": "jupyter-js-widgets",
       "_view_module_version": "~2.1.4",
       "layout": "IPY_MODEL_1816ca8e8aa24270ab28752f053ffd6e",
       "msg_throttle": 1
      }
     },
     "1136d3bb257d47cb99919f822d4944f2": {
      "model_module": "jupyter-js-widgets",
      "model_module_version": "~2.1.4",
      "model_name": "LayoutModel",
      "state": {
       "_model_module_version": "~2.1.4",
       "_view_module_version": "~2.1.4"
      }
     },
     "11376b15e24649149563dc2f60f9e664": {
      "model_module": "jupyter-js-widgets",
      "model_module_version": "~2.1.4",
      "model_name": "LayoutModel",
      "state": {
       "_model_module_version": "~2.1.4",
       "_view_module_version": "~2.1.4"
      }
     },
     "1144f46bdbe34f7fa7e477fc0acc9882": {
      "model_module": "jupyter-js-widgets",
      "model_module_version": "~2.1.4",
      "model_name": "FloatSliderModel",
      "state": {
       "_model_module_version": "~2.1.4",
       "_view_module_version": "~2.1.4",
       "description": "$-r_x / 1$ $AU$",
       "layout": "IPY_MODEL_6247f90217fa4ed4bc36589467cc5400",
       "max": 2,
       "min": 0.1,
       "step": 0.01,
       "value": 1
      }
     },
     "11c3df5fabf34232b6d9e7356c71257e": {
      "model_module": "jupyter-js-widgets",
      "model_module_version": "~2.1.4",
      "model_name": "LayoutModel",
      "state": {
       "_model_module_version": "~2.1.4",
       "_view_module_version": "~2.1.4"
      }
     },
     "120cc2e997c644a9ae5841bc91a6a594": {
      "model_module": "jupyter-js-widgets",
      "model_module_version": "~2.1.4",
      "model_name": "LayoutModel",
      "state": {
       "_model_module_version": "~2.1.4",
       "_view_module_version": "~2.1.4"
      }
     },
     "122fdd93f3074fb2888803a78b8246e8": {
      "model_module": "jupyter-js-widgets",
      "model_module_version": "~2.1.4",
      "model_name": "LayoutModel",
      "state": {
       "_model_module_version": "~2.1.4",
       "_view_module_version": "~2.1.4",
       "display": "inline-flex",
       "flex_flow": "row wrap",
       "justify_content": "flex-start"
      }
     },
     "1247f1ef69ca4069a74c66473dab15b9": {
      "model_module": "jupyter-js-widgets",
      "model_module_version": "~2.1.4",
      "model_name": "LayoutModel",
      "state": {
       "_model_module_version": "~2.1.4",
       "_view_module_version": "~2.1.4"
      }
     },
     "1391c0da989f43a5a4d0bb7fb401b9c5": {
      "model_module": "jupyter-js-widgets",
      "model_module_version": "~2.1.4",
      "model_name": "LayoutModel",
      "state": {
       "_model_module_version": "~2.1.4",
       "_view_module_version": "~2.1.4"
      }
     },
     "13e15a0862184eba8a25acb8968033c5": {
      "model_module": "jupyter-js-widgets",
      "model_module_version": "~2.1.4",
      "model_name": "LayoutModel",
      "state": {
       "_model_module_version": "~2.1.4",
       "_view_module_version": "~2.1.4"
      }
     },
     "13e38dcd971e4d62846a576641df5521": {
      "model_module": "jupyter-js-widgets",
      "model_module_version": "~2.1.4",
      "model_name": "FloatSliderModel",
      "state": {
       "_model_module_version": "~2.1.4",
       "_view_module_version": "~2.1.4",
       "description": "$-v_y / v_c$",
       "layout": "IPY_MODEL_1ddc64baa50d4e538e6ae581723de412",
       "max": 2,
       "min": -2,
       "step": 0.01,
       "value": 1
      }
     },
     "140932a9569b4fe3b798aa68567db87f": {
      "model_module": "jupyter-js-widgets",
      "model_module_version": "~2.1.4",
      "model_name": "LayoutModel",
      "state": {
       "_model_module_version": "~2.1.4",
       "_view_module_version": "~2.1.4"
      }
     },
     "141308e5b7d446ab81dd070088932b6a": {
      "model_module": "jupyter-js-widgets",
      "model_module_version": "~2.1.4",
      "model_name": "FloatSliderModel",
      "state": {
       "_model_module_version": "~2.1.4",
       "_view_module_version": "~2.1.4",
       "description": "$-v_y / v_c$",
       "layout": "IPY_MODEL_e5bb0b5591c64d0b8d20473026633938",
       "max": 2,
       "min": -2,
       "step": 0.01,
       "value": 1
      }
     },
     "142d938f26e34bbb9adb837d39ba4824": {
      "model_module": "jupyter-js-widgets",
      "model_module_version": "~2.1.4",
      "model_name": "FloatSliderModel",
      "state": {
       "_model_module_version": "~2.1.4",
       "_view_module_version": "~2.1.4",
       "description": "$-v_y / v_c$",
       "layout": "IPY_MODEL_11c3df5fabf34232b6d9e7356c71257e",
       "max": 2,
       "min": -2,
       "step": 0.01,
       "value": -0.14
      }
     },
     "143bd5218a354ddea6c51a618795f0e4": {
      "model_module": "jupyter-js-widgets",
      "model_module_version": "~2.1.4",
      "model_name": "LayoutModel",
      "state": {
       "_model_module_version": "~2.1.4",
       "_view_module_version": "~2.1.4"
      }
     },
     "1643a7667d1a4d32b654e477be764f84": {
      "model_module": "jupyter-js-widgets",
      "model_module_version": "~2.1.4",
      "model_name": "FloatSliderModel",
      "state": {
       "_model_module_version": "~2.1.4",
       "_view_module_version": "~2.1.4",
       "description": "$f\\ \\left(dt = 10^f \\cdot r_0 / v\\right)$",
       "layout": "IPY_MODEL_75d72b6bfe184bb38083811dc2c41239",
       "max": 2,
       "min": -3,
       "value": -2
      }
     },
     "164b49d3258547fd9e4ddf8bd6e212f4": {
      "model_module": "jupyter-js-widgets",
      "model_module_version": "~2.1.4",
      "model_name": "FloatSliderModel",
      "state": {
       "_model_module_version": "~2.1.4",
       "_view_module_version": "~2.1.4",
       "description": "$v_x / v_c$",
       "layout": "IPY_MODEL_95d674b3f42f46ba886d6ff58861aea8",
       "max": 2,
       "min": -2,
       "step": 0.01
      }
     },
     "16659364b3ef4ac8937f9523d56ff209": {
      "model_module": "jupyter-js-widgets",
      "model_module_version": "~2.1.4",
      "model_name": "LayoutModel",
      "state": {
       "_model_module_version": "~2.1.4",
       "_view_module_version": "~2.1.4"
      }
     },
     "177ca4c524e34c138259f44ec6d7ab4c": {
      "model_module": "jupyter-js-widgets",
      "model_module_version": "~2.1.4",
      "model_name": "FloatSliderModel",
      "state": {
       "_model_module_version": "~2.1.4",
       "_view_module_version": "~2.1.4",
       "description": "$v_x / v_c$",
       "layout": "IPY_MODEL_698c38027017413b833f91f7d1a83b19",
       "max": 2,
       "min": -2,
       "step": 0.01
      }
     },
     "17fc145a2e1843f781e54871cfb7f4e0": {
      "model_module": "jupyter-js-widgets",
      "model_module_version": "~2.1.4",
      "model_name": "FloatSliderModel",
      "state": {
       "_model_module_version": "~2.1.4",
       "_view_module_version": "~2.1.4",
       "description": "$-r_x / 1$ $AU$",
       "layout": "IPY_MODEL_61f0a78fe27341f8a87ee5593f814e58",
       "max": 2,
       "min": 0.1,
       "step": 0.01,
       "value": 1
      }
     },
     "1816ca8e8aa24270ab28752f053ffd6e": {
      "model_module": "jupyter-js-widgets",
      "model_module_version": "~2.1.4",
      "model_name": "LayoutModel",
      "state": {
       "_model_module_version": "~2.1.4",
       "_view_module_version": "~2.1.4"
      }
     },
     "1839f14130cb4c8b9c687e58583ee56a": {
      "model_module": "jupyter-js-widgets",
      "model_module_version": "~2.1.4",
      "model_name": "LayoutModel",
      "state": {
       "_model_module_version": "~2.1.4",
       "_view_module_version": "~2.1.4"
      }
     },
     "1882a60d84304271aee6be5bfcfead7f": {
      "model_module": "jupyter-js-widgets",
      "model_module_version": "~2.1.4",
      "model_name": "FloatSliderModel",
      "state": {
       "_model_module_version": "~2.1.4",
       "_view_module_version": "~2.1.4",
       "description": "$-r_x / 1$ $AU$",
       "layout": "IPY_MODEL_826a03d7e4294a008fd880c0588fb440",
       "max": 2,
       "min": 0.1,
       "step": 0.01,
       "value": 1
      }
     },
     "18a42571a372455e8ee8004575423aa5": {
      "model_module": "jupyter-js-widgets",
      "model_module_version": "~2.1.4",
      "model_name": "FloatSliderModel",
      "state": {
       "_model_module_version": "~2.1.4",
       "_view_module_version": "~2.1.4",
       "description": "$v_x / v_c$",
       "layout": "IPY_MODEL_ea4733b9c7cb472d8c72e3a62a1e0804",
       "max": 2,
       "min": -2,
       "step": 0.01,
       "value": 0.39
      }
     },
     "19434c9479fc48339b954cbb64b70035": {
      "model_module": "jupyter-js-widgets",
      "model_module_version": "~2.1.4",
      "model_name": "LayoutModel",
      "state": {
       "_model_module_version": "~2.1.4",
       "_view_module_version": "~2.1.4"
      }
     },
     "19aab5aca54c4f079b13bb183499fbff": {
      "model_module": "jupyter-js-widgets",
      "model_module_version": "~2.1.4",
      "model_name": "LayoutModel",
      "state": {
       "_model_module_version": "~2.1.4",
       "_view_module_version": "~2.1.4"
      }
     },
     "1a217c4e44dd4c06b3965ff551669b8d": {
      "model_module": "jupyter-js-widgets",
      "model_module_version": "~2.1.4",
      "model_name": "FloatSliderModel",
      "state": {
       "_model_module_version": "~2.1.4",
       "_view_module_version": "~2.1.4",
       "description": "$T$ / $1\\ year$",
       "layout": "IPY_MODEL_1f0ff810e3e74c85bfd76442cfb5951b",
       "max": 5,
       "min": 0.1,
       "step": 0.01,
       "value": 1
      }
     },
     "1a71dcfe595c4e38945ca232b51ae234": {
      "model_module": "jupyter-js-widgets",
      "model_module_version": "~2.1.4",
      "model_name": "VBoxModel",
      "state": {
       "_dom_classes": [
        "widget-interact"
       ],
       "_model_module_version": "~2.1.4",
       "_view_module_version": "~2.1.4",
       "children": [
        "IPY_MODEL_b9dbad2150ba4a7897baeb5cc70d5602",
        "IPY_MODEL_5830ca6f2c954604a4a8e36e54ad6de7",
        "IPY_MODEL_d876b29fce4c44d4bbb2e144d6314b6d",
        "IPY_MODEL_e88761f7a3724348b47c8bd77cf987ae",
        "IPY_MODEL_9967d9b827ee4ec89c25c3bdd0c68481",
        "IPY_MODEL_38ea4fc825764f259c0502e67d193840"
       ],
       "layout": "IPY_MODEL_cd26bada379041c08f57a2c1eedf8493"
      }
     },
     "1aa70a08527b4a738d25f992e540929f": {
      "model_module": "jupyter-js-widgets",
      "model_module_version": "~2.1.4",
      "model_name": "LayoutModel",
      "state": {
       "_model_module_version": "~2.1.4",
       "_view_module_version": "~2.1.4"
      }
     },
     "1b3f9d2b6d784d759b412f6934be0d1e": {
      "model_module": "jupyter-js-widgets",
      "model_module_version": "~2.1.4",
      "model_name": "LayoutModel",
      "state": {
       "_model_module_version": "~2.1.4",
       "_view_module_version": "~2.1.4"
      }
     },
     "1be8220192824987a293da74219d11dd": {
      "model_module": "jupyter-js-widgets",
      "model_module_version": "~2.1.4",
      "model_name": "LayoutModel",
      "state": {
       "_model_module_version": "~2.1.4",
       "_view_module_version": "~2.1.4"
      }
     },
     "1c350460f3ff4f50a1bd1dfd0627c470": {
      "model_module": "jupyter-js-widgets",
      "model_module_version": "~2.1.4",
      "model_name": "LayoutModel",
      "state": {
       "_model_module_version": "~2.1.4",
       "_view_module_version": "~2.1.4"
      }
     },
     "1c668f2e317749cb9a52a0d3469bef46": {
      "model_module": "jupyter-js-widgets",
      "model_module_version": "~2.1.4",
      "model_name": "LayoutModel",
      "state": {
       "_model_module_version": "~2.1.4",
       "_view_module_version": "~2.1.4"
      }
     },
     "1d7445e811b14dcd9a4b693067b517f0": {
      "model_module": "jupyter-js-widgets",
      "model_module_version": "~2.1.4",
      "model_name": "LayoutModel",
      "state": {
       "_model_module_version": "~2.1.4",
       "_view_module_version": "~2.1.4"
      }
     },
     "1daf5cabb5b64a4fbd9f124e2f777541": {
      "model_module": "jupyter-js-widgets",
      "model_module_version": "~2.1.4",
      "model_name": "LayoutModel",
      "state": {
       "_model_module_version": "~2.1.4",
       "_view_module_version": "~2.1.4"
      }
     },
     "1dceeb519e6146ef9a02b45748589523": {
      "model_module": "jupyter-js-widgets",
      "model_module_version": "~2.1.4",
      "model_name": "FloatSliderModel",
      "state": {
       "_model_module_version": "~2.1.4",
       "_view_module_version": "~2.1.4",
       "description": "$v_x / v_c$",
       "layout": "IPY_MODEL_cf93a3dbd9764c60b820bdf42bc90ee1",
       "max": 2,
       "min": -2,
       "step": 0.01
      }
     },
     "1ddc64baa50d4e538e6ae581723de412": {
      "model_module": "jupyter-js-widgets",
      "model_module_version": "~2.1.4",
      "model_name": "LayoutModel",
      "state": {
       "_model_module_version": "~2.1.4",
       "_view_module_version": "~2.1.4"
      }
     },
     "1ef79da825a4471b9a0e22a6f33059cd": {
      "model_module": "jupyter-js-widgets",
      "model_module_version": "~2.1.4",
      "model_name": "LayoutModel",
      "state": {
       "_model_module_version": "~2.1.4",
       "_view_module_version": "~2.1.4"
      }
     },
     "1f0e64b5bc85473592dd1840fee91fb2": {
      "model_module": "jupyter-js-widgets",
      "model_module_version": "~2.1.4",
      "model_name": "LayoutModel",
      "state": {
       "_model_module_version": "~2.1.4",
       "_view_module_version": "~2.1.4",
       "display": "inline-flex",
       "flex_flow": "row wrap",
       "justify_content": "flex-start"
      }
     },
     "1f0ff810e3e74c85bfd76442cfb5951b": {
      "model_module": "jupyter-js-widgets",
      "model_module_version": "~2.1.4",
      "model_name": "LayoutModel",
      "state": {
       "_model_module_version": "~2.1.4",
       "_view_module_version": "~2.1.4"
      }
     },
     "1f772a82b1ab4f86a8eed63243daaeb2": {
      "model_module": "jupyter-js-widgets",
      "model_module_version": "~2.1.4",
      "model_name": "LayoutModel",
      "state": {
       "_model_module_version": "~2.1.4",
       "_view_module_version": "~2.1.4"
      }
     },
     "1f778f0966844874a95e1c105164227d": {
      "model_module": "jupyter-js-widgets",
      "model_module_version": "~2.1.4",
      "model_name": "OutputModel",
      "state": {
       "_dom_classes": [],
       "_model_module": "jupyter-js-widgets",
       "_model_module_version": "~2.1.4",
       "_view_module": "jupyter-js-widgets",
       "_view_module_version": "~2.1.4",
       "layout": "IPY_MODEL_143bd5218a354ddea6c51a618795f0e4",
       "msg_throttle": 1
      }
     },
     "20568285163148e6965fa4ff3be45012": {
      "model_module": "jupyter-js-widgets",
      "model_module_version": "~2.1.4",
      "model_name": "LayoutModel",
      "state": {
       "_model_module_version": "~2.1.4",
       "_view_module_version": "~2.1.4"
      }
     },
     "2061b5b970734a15a77f017ba2440467": {
      "model_module": "jupyter-js-widgets",
      "model_module_version": "~2.1.4",
      "model_name": "VBoxModel",
      "state": {
       "_dom_classes": [
        "widget-interact"
       ],
       "_model_module_version": "~2.1.4",
       "_view_module_version": "~2.1.4",
       "children": [
        "IPY_MODEL_b4740fa3d0a242c4bdbf5493740f9372",
        "IPY_MODEL_25812efcce044aa1bc63f00caa2b2757",
        "IPY_MODEL_aeb58c3b248044c796740e7377195ab7",
        "IPY_MODEL_b4d3c1957f98499a882a6d87fe1ce2c9",
        "IPY_MODEL_71fc51dedf054970af61e766fc6fa71b",
        "IPY_MODEL_aff78c1dbfa444b690339c26fca9ee74"
       ],
       "layout": "IPY_MODEL_b899bee510a34e6fade9bbe71377f963"
      }
     },
     "207cea7524fa464898010bf54576ae97": {
      "model_module": "jupyter-js-widgets",
      "model_module_version": "~2.1.4",
      "model_name": "LayoutModel",
      "state": {
       "_model_module_version": "~2.1.4",
       "_view_module_version": "~2.1.4"
      }
     },
     "21260cf0ce6048d4982942d7debba91b": {
      "model_module": "jupyter-js-widgets",
      "model_module_version": "~2.1.4",
      "model_name": "OutputModel",
      "state": {
       "_dom_classes": [],
       "_model_module": "jupyter-js-widgets",
       "_model_module_version": "~2.1.4",
       "_view_module": "jupyter-js-widgets",
       "_view_module_version": "~2.1.4",
       "layout": "IPY_MODEL_96158478ffdd491fa2b7317d8d6e12ff",
       "msg_throttle": 1
      }
     },
     "21541234497843f5922879b80feba389": {
      "model_module": "jupyter-js-widgets",
      "model_module_version": "~2.1.4",
      "model_name": "VBoxModel",
      "state": {
       "_dom_classes": [
        "widget-interact"
       ],
       "_model_module_version": "~2.1.4",
       "_view_module_version": "~2.1.4",
       "children": [
        "IPY_MODEL_97dfbd6119864ddd88b488973e634f90",
        "IPY_MODEL_4fc60063f0254485af67b66946b25bab",
        "IPY_MODEL_4edf3237821842aa9bac78ab0c57ae51",
        "IPY_MODEL_6dd40f79afee4850ba8ccd84c1920bba",
        "IPY_MODEL_5efd5af4854b4130830db47520dc74c3",
        "IPY_MODEL_6dedc1c2791f4f429142f7946e0c2a74"
       ],
       "layout": "IPY_MODEL_4dffa57aeb7348ffa7ef315fe9fc631b"
      }
     },
     "2233fc7222bc406b9627e2da1d90adcc": {
      "model_module": "jupyter-js-widgets",
      "model_module_version": "~2.1.4",
      "model_name": "VBoxModel",
      "state": {
       "_dom_classes": [
        "widget-interact"
       ],
       "_model_module_version": "~2.1.4",
       "_view_module_version": "~2.1.4",
       "children": [
        "IPY_MODEL_db07ffd42c7f4f5eb5ad21b0702d79e4",
        "IPY_MODEL_8ed64ddf01804f08ad3a79da8410f41c",
        "IPY_MODEL_30b5869a3d694205885351f508025b25",
        "IPY_MODEL_c0e99ceca08e403eab18597e6ca535d9",
        "IPY_MODEL_d29c67d467a948c1ae548f57360d2f86",
        "IPY_MODEL_64b48ec6901042dbb4c4cb3799588ebf"
       ],
       "layout": "IPY_MODEL_88036ec46fff461e88f1e14f99182a14"
      }
     },
     "22592f28193347aca7811d59f96cbefd": {
      "model_module": "jupyter-js-widgets",
      "model_module_version": "~2.1.4",
      "model_name": "LayoutModel",
      "state": {
       "_model_module_version": "~2.1.4",
       "_view_module_version": "~2.1.4"
      }
     },
     "22eeb96534544944b84e5cbdd2e25714": {
      "model_module": "jupyter-js-widgets",
      "model_module_version": "~2.1.4",
      "model_name": "FloatSliderModel",
      "state": {
       "_model_module_version": "~2.1.4",
       "_view_module_version": "~2.1.4",
       "description": "$v_x / v_c$",
       "layout": "IPY_MODEL_22592f28193347aca7811d59f96cbefd",
       "max": 2,
       "min": -2,
       "step": 0.01
      }
     },
     "2418d54b758a4e37ac5d3128932b25af": {
      "model_module": "jupyter-js-widgets",
      "model_module_version": "~2.1.4",
      "model_name": "LayoutModel",
      "state": {
       "_model_module_version": "~2.1.4",
       "_view_module_version": "~2.1.4"
      }
     },
     "24260ed243d443528c458f59b2b01bbe": {
      "model_module": "jupyter-js-widgets",
      "model_module_version": "~2.1.4",
      "model_name": "LayoutModel",
      "state": {
       "_model_module_version": "~2.1.4",
       "_view_module_version": "~2.1.4",
       "display": "inline-flex",
       "flex_flow": "row wrap",
       "justify_content": "flex-start"
      }
     },
     "24b06fd53b374cf2bd2713308baa74cb": {
      "model_module": "jupyter-js-widgets",
      "model_module_version": "~2.1.4",
      "model_name": "LayoutModel",
      "state": {
       "_model_module_version": "~2.1.4",
       "_view_module_version": "~2.1.4"
      }
     },
     "25812efcce044aa1bc63f00caa2b2757": {
      "model_module": "jupyter-js-widgets",
      "model_module_version": "~2.1.4",
      "model_name": "FloatSliderModel",
      "state": {
       "_model_module_version": "~2.1.4",
       "_view_module_version": "~2.1.4",
       "description": "$v_x / v_c$",
       "layout": "IPY_MODEL_82d8ef000cf44068b351083fd42839da",
       "max": 2,
       "min": -2,
       "step": 0.01
      }
     },
     "25cc8a1b9ce44eeebab5d0f3b52054cb": {
      "model_module": "jupyter-js-widgets",
      "model_module_version": "~2.1.4",
      "model_name": "FloatSliderModel",
      "state": {
       "_model_module_version": "~2.1.4",
       "_view_module_version": "~2.1.4",
       "description": "$-v_y / v_c$",
       "layout": "IPY_MODEL_9966ec6798bb4167a937be54e59e5192",
       "max": 2,
       "min": -2,
       "step": 0.01,
       "value": 0.42
      }
     },
     "262dc26a53044c27adeac35a30112c21": {
      "model_module": "jupyter-js-widgets",
      "model_module_version": "~2.1.4",
      "model_name": "FloatSliderModel",
      "state": {
       "_model_module_version": "~2.1.4",
       "_view_module_version": "~2.1.4",
       "description": "$T$ / $1\\ year$",
       "layout": "IPY_MODEL_f2e30a7b4db540bb89ff44430e273f8a",
       "max": 5,
       "min": 0.1,
       "step": 0.01,
       "value": 1
      }
     },
     "266c3f90944c48e6bb2af50cdf6244de": {
      "model_module": "jupyter-js-widgets",
      "model_module_version": "~2.1.4",
      "model_name": "LayoutModel",
      "state": {
       "_model_module_version": "~2.1.4",
       "_view_module_version": "~2.1.4"
      }
     },
     "26ec2e1566cc4d8a9b672a13367ef6bb": {
      "model_module": "jupyter-js-widgets",
      "model_module_version": "~2.1.4",
      "model_name": "LayoutModel",
      "state": {
       "_model_module_version": "~2.1.4",
       "_view_module_version": "~2.1.4"
      }
     },
     "28750fa4735d4c0b83bdf501edb6b062": {
      "model_module": "jupyter-js-widgets",
      "model_module_version": "~2.1.4",
      "model_name": "FloatSliderModel",
      "state": {
       "_model_module_version": "~2.1.4",
       "_view_module_version": "~2.1.4",
       "description": "$f\\ \\left(dt = 10^f \\cdot r_0 / v\\right)$",
       "layout": "IPY_MODEL_657a587b4b604792a028cb5d97797553",
       "max": 2,
       "min": -3,
       "value": -2
      }
     },
     "29253c89b3c5423bb4921bdaa6a04d02": {
      "model_module": "jupyter-js-widgets",
      "model_module_version": "~2.1.4",
      "model_name": "FloatSliderModel",
      "state": {
       "_model_module_version": "~2.1.4",
       "_view_module_version": "~2.1.4",
       "description": "$v_x / v_c$",
       "layout": "IPY_MODEL_2a5b630e4b1845229c529850dc65b504",
       "max": 2,
       "min": -2,
       "step": 0.01
      }
     },
     "29461613518743ebac153548828033f7": {
      "model_module": "jupyter-js-widgets",
      "model_module_version": "~2.1.4",
      "model_name": "LayoutModel",
      "state": {
       "_model_module_version": "~2.1.4",
       "_view_module_version": "~2.1.4"
      }
     },
     "29623f3a34a443e5a95add58ef11564c": {
      "model_module": "jupyter-js-widgets",
      "model_module_version": "~2.1.4",
      "model_name": "FloatSliderModel",
      "state": {
       "_model_module_version": "~2.1.4",
       "_view_module_version": "~2.1.4",
       "description": "$-r_x / 1$ $AU$",
       "layout": "IPY_MODEL_79260389c4dc40b88e3145c057f8422b",
       "max": 2,
       "min": 0.1,
       "step": 0.01,
       "value": 1
      }
     },
     "2a5b630e4b1845229c529850dc65b504": {
      "model_module": "jupyter-js-widgets",
      "model_module_version": "~2.1.4",
      "model_name": "LayoutModel",
      "state": {
       "_model_module_version": "~2.1.4",
       "_view_module_version": "~2.1.4"
      }
     },
     "2a8ada88d8d9441fa49be1019c4d1543": {
      "model_module": "jupyter-js-widgets",
      "model_module_version": "~2.1.4",
      "model_name": "FloatSliderModel",
      "state": {
       "_model_module_version": "~2.1.4",
       "_view_module_version": "~2.1.4",
       "description": "$v_x / v_c$",
       "layout": "IPY_MODEL_ad785cc986694f49900981bae573a444",
       "max": 2,
       "min": -2,
       "step": 0.01,
       "value": 0.17
      }
     },
     "2b0d448681ed47ecab918df261857114": {
      "model_module": "jupyter-js-widgets",
      "model_module_version": "~2.1.4",
      "model_name": "LayoutModel",
      "state": {
       "_model_module_version": "~2.1.4",
       "_view_module_version": "~2.1.4"
      }
     },
     "2c2e683c3a36439188d07520a4891a15": {
      "model_module": "jupyter-js-widgets",
      "model_module_version": "~2.1.4",
      "model_name": "LayoutModel",
      "state": {
       "_model_module_version": "~2.1.4",
       "_view_module_version": "~2.1.4"
      }
     },
     "2d1e45ece4c04be3af7bc33dfb9af053": {
      "model_module": "jupyter-js-widgets",
      "model_module_version": "~2.1.4",
      "model_name": "FloatSliderModel",
      "state": {
       "_model_module_version": "~2.1.4",
       "_view_module_version": "~2.1.4",
       "description": "$T$ / $1\\ year$",
       "layout": "IPY_MODEL_1daf5cabb5b64a4fbd9f124e2f777541",
       "max": 5,
       "min": 0.1,
       "step": 0.01,
       "value": 1
      }
     },
     "2f47b13c3a004cc18c6612bc6b0914b0": {
      "model_module": "jupyter-js-widgets",
      "model_module_version": "~2.1.4",
      "model_name": "LayoutModel",
      "state": {
       "_model_module_version": "~2.1.4",
       "_view_module_version": "~2.1.4"
      }
     },
     "3007b351490d4327b331d1e50bbf3a83": {
      "model_module": "jupyter-js-widgets",
      "model_module_version": "~2.1.4",
      "model_name": "LayoutModel",
      "state": {
       "_model_module_version": "~2.1.4",
       "_view_module_version": "~2.1.4"
      }
     },
     "305db6948e3b4296afc7398aacff383b": {
      "model_module": "jupyter-js-widgets",
      "model_module_version": "~2.1.4",
      "model_name": "FloatSliderModel",
      "state": {
       "_model_module_version": "~2.1.4",
       "_view_module_version": "~2.1.4",
       "description": "$f\\ \\left(dt = 10^f \\cdot r_0 / v\\right)$",
       "layout": "IPY_MODEL_57fe69a6d23748f98ac5a10881c7c79a",
       "max": 2,
       "min": -3,
       "value": -2
      }
     },
     "30940b5f0b3c47219bba2af03bc53aa0": {
      "model_module": "jupyter-js-widgets",
      "model_module_version": "~2.1.4",
      "model_name": "FloatSliderModel",
      "state": {
       "_model_module_version": "~2.1.4",
       "_view_module_version": "~2.1.4",
       "description": "$f\\ \\left(dt = 10^f \\cdot r_0 / v\\right)$",
       "layout": "IPY_MODEL_6c3441a7a33c4ad88ca04ba0397ce8ee",
       "max": 2,
       "min": -3,
       "value": -1
      }
     },
     "30b5869a3d694205885351f508025b25": {
      "model_module": "jupyter-js-widgets",
      "model_module_version": "~2.1.4",
      "model_name": "FloatSliderModel",
      "state": {
       "_model_module_version": "~2.1.4",
       "_view_module_version": "~2.1.4",
       "description": "$-v_y / v_c$",
       "layout": "IPY_MODEL_c23d369b8e2e4fe581095a4b808131a8",
       "max": 2,
       "min": -2,
       "step": 0.01,
       "value": 1
      }
     },
     "30e6447851ef4129a7495b21111c4ee1": {
      "model_module": "jupyter-js-widgets",
      "model_module_version": "~2.1.4",
      "model_name": "FloatSliderModel",
      "state": {
       "_model_module_version": "~2.1.4",
       "_view_module_version": "~2.1.4",
       "description": "$v_x / v_c$",
       "layout": "IPY_MODEL_6cebdfee190d43938775d0b92d3596d2",
       "max": 2,
       "min": -2,
       "step": 0.01,
       "value": 0.37
      }
     },
     "311352910d6d437f835a977eff565606": {
      "model_module": "jupyter-js-widgets",
      "model_module_version": "~2.1.4",
      "model_name": "LayoutModel",
      "state": {
       "_model_module_version": "~2.1.4",
       "_view_module_version": "~2.1.4"
      }
     },
     "319a50a777fb46248e1720b0949595fa": {
      "model_module": "jupyter-js-widgets",
      "model_module_version": "~2.1.4",
      "model_name": "LayoutModel",
      "state": {
       "_model_module_version": "~2.1.4",
       "_view_module_version": "~2.1.4"
      }
     },
     "31e2960eb33a455b839e6cfc8cb7cb7b": {
      "model_module": "jupyter-js-widgets",
      "model_module_version": "~2.1.4",
      "model_name": "LayoutModel",
      "state": {
       "_model_module_version": "~2.1.4",
       "_view_module_version": "~2.1.4"
      }
     },
     "31ee87e394bc4fc79bcd301a536b401e": {
      "model_module": "jupyter-js-widgets",
      "model_module_version": "~2.1.4",
      "model_name": "OutputModel",
      "state": {
       "_dom_classes": [],
       "_model_module": "jupyter-js-widgets",
       "_model_module_version": "~2.1.4",
       "_view_module": "jupyter-js-widgets",
       "_view_module_version": "~2.1.4",
       "layout": "IPY_MODEL_87ce987b266e4a4fad11ea94d34680b7",
       "msg_throttle": 1
      }
     },
     "32ec856e1d59492d8689362925065176": {
      "model_module": "jupyter-js-widgets",
      "model_module_version": "~2.1.4",
      "model_name": "LayoutModel",
      "state": {
       "_model_module_version": "~2.1.4",
       "_view_module_version": "~2.1.4"
      }
     },
     "3335a919ca834806ad27e3debb612563": {
      "model_module": "jupyter-js-widgets",
      "model_module_version": "~2.1.4",
      "model_name": "LayoutModel",
      "state": {
       "_model_module_version": "~2.1.4",
       "_view_module_version": "~2.1.4"
      }
     },
     "3367b469aae94007868cf65a70f69f14": {
      "model_module": "jupyter-js-widgets",
      "model_module_version": "~2.1.4",
      "model_name": "LayoutModel",
      "state": {
       "_model_module_version": "~2.1.4",
       "_view_module_version": "~2.1.4",
       "display": "inline-flex",
       "flex_flow": "row wrap",
       "justify_content": "flex-start"
      }
     },
     "33689ff7de2b427296cbf70e1c1fff0c": {
      "model_module": "jupyter-js-widgets",
      "model_module_version": "~2.1.4",
      "model_name": "LayoutModel",
      "state": {
       "_model_module_version": "~2.1.4",
       "_view_module_version": "~2.1.4"
      }
     },
     "34418abdeb4c49cf8e8865629bcd048f": {
      "model_module": "jupyter-js-widgets",
      "model_module_version": "~2.1.4",
      "model_name": "LayoutModel",
      "state": {
       "_model_module_version": "~2.1.4",
       "_view_module_version": "~2.1.4"
      }
     },
     "34f6d1afe9e74c489556498d9226d9c3": {
      "model_module": "jupyter-js-widgets",
      "model_module_version": "~2.1.4",
      "model_name": "LayoutModel",
      "state": {
       "_model_module_version": "~2.1.4",
       "_view_module_version": "~2.1.4"
      }
     },
     "3514e7ebcbdd41548a26347766ecfe3f": {
      "model_module": "jupyter-js-widgets",
      "model_module_version": "~2.1.4",
      "model_name": "LayoutModel",
      "state": {
       "_model_module_version": "~2.1.4",
       "_view_module_version": "~2.1.4"
      }
     },
     "358ac6c02fb44dacac4b18aaf2ae077f": {
      "model_module": "jupyter-js-widgets",
      "model_module_version": "~2.1.4",
      "model_name": "VBoxModel",
      "state": {
       "_dom_classes": [
        "widget-interact"
       ],
       "_model_module_version": "~2.1.4",
       "_view_module_version": "~2.1.4",
       "children": [
        "IPY_MODEL_a54cfa61a54d4e7c83a8b604808cb601",
        "IPY_MODEL_30e6447851ef4129a7495b21111c4ee1",
        "IPY_MODEL_3e8c232743dc459a844947490de38a5a",
        "IPY_MODEL_688899a021be4ffeb7409e042320277d",
        "IPY_MODEL_60e6b6626852440b9768ad404054c655",
        "IPY_MODEL_f35b2e5a2df247eb8aaf8a730c93d2fb"
       ],
       "layout": "IPY_MODEL_d602147e6b754574ba6fa3deb5cc21f1"
      }
     },
     "359371894628439d92c18969901c9305": {
      "model_module": "jupyter-js-widgets",
      "model_module_version": "~2.1.4",
      "model_name": "VBoxModel",
      "state": {
       "_dom_classes": [
        "widget-interact"
       ],
       "_model_module_version": "~2.1.4",
       "_view_module_version": "~2.1.4",
       "children": [
        "IPY_MODEL_92a2c8dd4be448f1a40346012d6ca0a4",
        "IPY_MODEL_29253c89b3c5423bb4921bdaa6a04d02",
        "IPY_MODEL_6e045622100242ed9571bb9c47b999ed",
        "IPY_MODEL_09a233cabde54a07a6548b5767eb79d8",
        "IPY_MODEL_c8bf3ca0d47844829b2da5019077f475",
        "IPY_MODEL_04e0fe0c54f241a4824e137e78b8a2f7"
       ],
       "layout": "IPY_MODEL_c153e4f3bc5e48c9b17e46d6723f92bf"
      }
     },
     "36c605fbaa3b4228a4632c5bc949c98f": {
      "model_module": "jupyter-js-widgets",
      "model_module_version": "~2.1.4",
      "model_name": "LayoutModel",
      "state": {
       "_model_module_version": "~2.1.4",
       "_view_module_version": "~2.1.4"
      }
     },
     "370edc2f0a1449ac9c0eb2ac7cad2a79": {
      "model_module": "jupyter-js-widgets",
      "model_module_version": "~2.1.4",
      "model_name": "FloatSliderModel",
      "state": {
       "_model_module_version": "~2.1.4",
       "_view_module_version": "~2.1.4",
       "description": "$f\\ \\left(dt = 10^f \\cdot r_0 / v\\right)$",
       "layout": "IPY_MODEL_681f4570c24f40fab51fb4b1d55fca3b",
       "max": 2,
       "min": -3,
       "value": -2
      }
     },
     "379da2e42e8443559098ffdf3ab99378": {
      "model_module": "jupyter-js-widgets",
      "model_module_version": "~2.1.4",
      "model_name": "LayoutModel",
      "state": {
       "_model_module_version": "~2.1.4",
       "_view_module_version": "~2.1.4"
      }
     },
     "381a4dcb61e746e181fe841ae8916893": {
      "model_module": "jupyter-js-widgets",
      "model_module_version": "~2.1.4",
      "model_name": "LayoutModel",
      "state": {
       "_model_module_version": "~2.1.4",
       "_view_module_version": "~2.1.4"
      }
     },
     "381c3faaff404d399d0bd442966ff288": {
      "model_module": "jupyter-js-widgets",
      "model_module_version": "~2.1.4",
      "model_name": "LayoutModel",
      "state": {
       "_model_module_version": "~2.1.4",
       "_view_module_version": "~2.1.4"
      }
     },
     "3860bb6819db4791ba6fcb1dde286721": {
      "model_module": "jupyter-js-widgets",
      "model_module_version": "~2.1.4",
      "model_name": "FloatSliderModel",
      "state": {
       "_model_module_version": "~2.1.4",
       "_view_module_version": "~2.1.4",
       "description": "$-v_y / v_c$",
       "layout": "IPY_MODEL_379da2e42e8443559098ffdf3ab99378",
       "max": 2,
       "min": -2,
       "step": 0.01,
       "value": 1
      }
     },
     "3870588e339a4de2a05bad789b5ebde8": {
      "model_module": "jupyter-js-widgets",
      "model_module_version": "~2.1.4",
      "model_name": "VBoxModel",
      "state": {
       "_dom_classes": [
        "widget-interact"
       ],
       "_model_module_version": "~2.1.4",
       "_view_module_version": "~2.1.4",
       "children": [
        "IPY_MODEL_606a4728296c4ae5afc700a67acdb593",
        "IPY_MODEL_ba8b9d67e87f40668858fbd953a46259",
        "IPY_MODEL_a7c40abd5f03473a84da5d0e5b5b406d",
        "IPY_MODEL_0991457ba73345d5b121912013c2b468",
        "IPY_MODEL_521a8dd4b7124158b736a35490564dbf",
        "IPY_MODEL_102ae5e51e1e4f1f8164c6975d70d498"
       ],
       "layout": "IPY_MODEL_f3c8c97d66c34da7bfd125cd3b6bf63b"
      }
     },
     "38e66f1aa47e4821956127bdb6b74ae4": {
      "model_module": "jupyter-js-widgets",
      "model_module_version": "~2.1.4",
      "model_name": "OutputModel",
      "state": {
       "_dom_classes": [],
       "_model_module": "jupyter-js-widgets",
       "_model_module_version": "~2.1.4",
       "_view_module": "jupyter-js-widgets",
       "_view_module_version": "~2.1.4",
       "layout": "IPY_MODEL_19434c9479fc48339b954cbb64b70035",
       "msg_throttle": 1
      }
     },
     "38ea4fc825764f259c0502e67d193840": {
      "model_module": "jupyter-js-widgets",
      "model_module_version": "~2.1.4",
      "model_name": "OutputModel",
      "state": {
       "_dom_classes": [],
       "_model_module": "jupyter-js-widgets",
       "_model_module_version": "~2.1.4",
       "_view_module": "jupyter-js-widgets",
       "_view_module_version": "~2.1.4",
       "layout": "IPY_MODEL_90d829cd6d214e0bbfa2898d66063abe",
       "msg_throttle": 1
      }
     },
     "38fbee86f77348c997806c83199198c6": {
      "model_module": "jupyter-js-widgets",
      "model_module_version": "~2.1.4",
      "model_name": "OutputModel",
      "state": {
       "_dom_classes": [],
       "_model_module": "jupyter-js-widgets",
       "_model_module_version": "~2.1.4",
       "_view_module": "jupyter-js-widgets",
       "_view_module_version": "~2.1.4",
       "layout": "IPY_MODEL_a9c0aad0a91d4232bc4dadd10c4c8dc0",
       "msg_throttle": 1
      }
     },
     "38fe71493dab4f64b8bcf5eabaf086a4": {
      "model_module": "jupyter-js-widgets",
      "model_module_version": "~2.1.4",
      "model_name": "LayoutModel",
      "state": {
       "_model_module_version": "~2.1.4",
       "_view_module_version": "~2.1.4"
      }
     },
     "394c7a26a5d34d7d96dc338cbc0d06f6": {
      "model_module": "jupyter-js-widgets",
      "model_module_version": "~2.1.4",
      "model_name": "LayoutModel",
      "state": {
       "_model_module_version": "~2.1.4",
       "_view_module_version": "~2.1.4"
      }
     },
     "3950a553b433406db17db96993223832": {
      "model_module": "jupyter-js-widgets",
      "model_module_version": "~2.1.4",
      "model_name": "VBoxModel",
      "state": {
       "_dom_classes": [
        "widget-interact"
       ],
       "_model_module_version": "~2.1.4",
       "_view_module_version": "~2.1.4",
       "children": [
        "IPY_MODEL_a84bc5b143c54ac98fc871d0bb6253c0",
        "IPY_MODEL_68fc08c2f002493a8d0755f8b5b94668",
        "IPY_MODEL_ad4d5154a8ec42b2935af24882a8a664",
        "IPY_MODEL_e69e75379dbb47779993a5a07dc76a85",
        "IPY_MODEL_4ff1a3a427344c0baf4565ce0bc883af",
        "IPY_MODEL_d4292a9e70ea468ab8ed79ddbdf9b98d"
       ],
       "layout": "IPY_MODEL_c6e6b64f87fe4ac7b37bb8ee9c681ac1"
      }
     },
     "39c00e1123764133b0004d1da557f828": {
      "model_module": "jupyter-js-widgets",
      "model_module_version": "~2.1.4",
      "model_name": "FloatSliderModel",
      "state": {
       "_model_module_version": "~2.1.4",
       "_view_module_version": "~2.1.4",
       "description": "$T$ / $1\\ year$",
       "layout": "IPY_MODEL_6333c46f053345289b4a22191988e492",
       "max": 5,
       "min": 0.1,
       "step": 0.01,
       "value": 1
      }
     },
     "39c1855c7b6b49e3b5c0ca1ceb49b188": {
      "model_module": "jupyter-js-widgets",
      "model_module_version": "~2.1.4",
      "model_name": "LayoutModel",
      "state": {
       "_model_module_version": "~2.1.4",
       "_view_module_version": "~2.1.4"
      }
     },
     "3a1a1ae490394390a3a6426adc4338f9": {
      "model_module": "jupyter-js-widgets",
      "model_module_version": "~2.1.4",
      "model_name": "FloatSliderModel",
      "state": {
       "_model_module_version": "~2.1.4",
       "_view_module_version": "~2.1.4",
       "description": "$v_x / v_c$",
       "layout": "IPY_MODEL_3e66eeb5df7741b19bde737c9b1eae71",
       "max": 2,
       "min": -2,
       "step": 0.01
      }
     },
     "3a6df8d114bb402ebba07b34074f7a91": {
      "model_module": "jupyter-js-widgets",
      "model_module_version": "~2.1.4",
      "model_name": "OutputModel",
      "state": {
       "_dom_classes": [],
       "_model_module": "jupyter-js-widgets",
       "_model_module_version": "~2.1.4",
       "_view_module": "jupyter-js-widgets",
       "_view_module_version": "~2.1.4",
       "layout": "IPY_MODEL_947a6798247046df8540e2195c7ec50e",
       "msg_throttle": 1
      }
     },
     "3b2ea62fbf9343bf8b2c819bbdcd1f88": {
      "model_module": "jupyter-js-widgets",
      "model_module_version": "~2.1.4",
      "model_name": "FloatSliderModel",
      "state": {
       "_model_module_version": "~2.1.4",
       "_view_module_version": "~2.1.4",
       "description": "$-v_y / v_c$",
       "layout": "IPY_MODEL_140932a9569b4fe3b798aa68567db87f",
       "max": 2,
       "min": -2,
       "step": 0.01,
       "value": -0.38
      }
     },
     "3b372500ca4145bb8fdae627a856cb83": {
      "model_module": "jupyter-js-widgets",
      "model_module_version": "~2.1.4",
      "model_name": "FloatSliderModel",
      "state": {
       "_model_module_version": "~2.1.4",
       "_view_module_version": "~2.1.4",
       "description": "$f\\ \\left(dt = 10^f \\cdot r_0 / v\\right)$",
       "layout": "IPY_MODEL_19aab5aca54c4f079b13bb183499fbff",
       "max": 2,
       "min": -3,
       "value": -2
      }
     },
     "3c0c64614cd74ba8a5354793f26c4e66": {
      "model_module": "jupyter-js-widgets",
      "model_module_version": "~2.1.4",
      "model_name": "VBoxModel",
      "state": {
       "_dom_classes": [
        "widget-interact"
       ],
       "_model_module_version": "~2.1.4",
       "_view_module_version": "~2.1.4",
       "children": [
        "IPY_MODEL_f096066103ee4de9b0140e73a85e0bae",
        "IPY_MODEL_5a5b8786e7164c25a4fbcc2a244ebd9d",
        "IPY_MODEL_c8a68cce9b904b648451e6b486eed6b7",
        "IPY_MODEL_2d1e45ece4c04be3af7bc33dfb9af053",
        "IPY_MODEL_305db6948e3b4296afc7398aacff383b",
        "IPY_MODEL_d2984839c46f4c81b0f1682bcb18c946"
       ],
       "layout": "IPY_MODEL_0e1b0c13cd9d4fa3994517c1e8a25452"
      }
     },
     "3c16a7544691473fbedb46828cd09282": {
      "model_module": "jupyter-js-widgets",
      "model_module_version": "~2.1.4",
      "model_name": "LayoutModel",
      "state": {
       "_model_module_version": "~2.1.4",
       "_view_module_version": "~2.1.4"
      }
     },
     "3d01f2dddd1049ba86475e4f3e75c1ff": {
      "model_module": "jupyter-js-widgets",
      "model_module_version": "~2.1.4",
      "model_name": "OutputModel",
      "state": {
       "_dom_classes": [],
       "_model_module": "jupyter-js-widgets",
       "_model_module_version": "~2.1.4",
       "_view_module": "jupyter-js-widgets",
       "_view_module_version": "~2.1.4",
       "layout": "IPY_MODEL_a18285931b9d4b94a5844581f54871e3",
       "msg_throttle": 1
      }
     },
     "3db7da391cbc4e3dbbb36e2ec5ea80fe": {
      "model_module": "jupyter-js-widgets",
      "model_module_version": "~2.1.4",
      "model_name": "LayoutModel",
      "state": {
       "_model_module_version": "~2.1.4",
       "_view_module_version": "~2.1.4",
       "display": "inline-flex",
       "flex_flow": "row wrap",
       "justify_content": "flex-start"
      }
     },
     "3e3920aee77e40128fed6f8efca9414b": {
      "model_module": "jupyter-js-widgets",
      "model_module_version": "~2.1.4",
      "model_name": "LayoutModel",
      "state": {
       "_model_module_version": "~2.1.4",
       "_view_module_version": "~2.1.4"
      }
     },
     "3e66eeb5df7741b19bde737c9b1eae71": {
      "model_module": "jupyter-js-widgets",
      "model_module_version": "~2.1.4",
      "model_name": "LayoutModel",
      "state": {
       "_model_module_version": "~2.1.4",
       "_view_module_version": "~2.1.4"
      }
     },
     "3e8c232743dc459a844947490de38a5a": {
      "model_module": "jupyter-js-widgets",
      "model_module_version": "~2.1.4",
      "model_name": "FloatSliderModel",
      "state": {
       "_model_module_version": "~2.1.4",
       "_view_module_version": "~2.1.4",
       "description": "$-v_y / v_c$",
       "layout": "IPY_MODEL_b9d2112f40b04d5e83453bda595673fa",
       "max": 2,
       "min": -2,
       "step": 0.01,
       "value": 1
      }
     },
     "3ed8e3fdba244c28968ab9db56196156": {
      "model_module": "jupyter-js-widgets",
      "model_module_version": "~2.1.4",
      "model_name": "FloatSliderModel",
      "state": {
       "_model_module_version": "~2.1.4",
       "_view_module_version": "~2.1.4",
       "description": "$-r_x / 1$ $AU$",
       "layout": "IPY_MODEL_42f395c07067485385467fb3f0c46865",
       "max": 2,
       "min": 0.1,
       "step": 0.01,
       "value": 1
      }
     },
     "3f04a6cfaed44b57a71d377ac7f58af5": {
      "model_module": "jupyter-js-widgets",
      "model_module_version": "~2.1.4",
      "model_name": "LayoutModel",
      "state": {
       "_model_module_version": "~2.1.4",
       "_view_module_version": "~2.1.4"
      }
     },
     "411af46441164bbd8c0f9801a507d7fb": {
      "model_module": "jupyter-js-widgets",
      "model_module_version": "~2.1.4",
      "model_name": "LayoutModel",
      "state": {
       "_model_module_version": "~2.1.4",
       "_view_module_version": "~2.1.4"
      }
     },
     "416894707293454eab8284915fa9771c": {
      "model_module": "jupyter-js-widgets",
      "model_module_version": "~2.1.4",
      "model_name": "FloatSliderModel",
      "state": {
       "_model_module_version": "~2.1.4",
       "_view_module_version": "~2.1.4",
       "description": "$f\\ \\left(dt = 10^f \\cdot r_0 / v\\right)$",
       "layout": "IPY_MODEL_47a7be8535cb4c0b9e1c6f81de45e6e3",
       "max": 2,
       "min": -3,
       "value": -2
      }
     },
     "41bd0e78108c432285a55ba3ed73fcd6": {
      "model_module": "jupyter-js-widgets",
      "model_module_version": "~2.1.4",
      "model_name": "FloatSliderModel",
      "state": {
       "_model_module_version": "~2.1.4",
       "_view_module_version": "~2.1.4",
       "description": "$-r_x / 1$ $AU$",
       "layout": "IPY_MODEL_e8a7a63a1494442e8240a69f7f8da322",
       "max": 2,
       "min": 0.1,
       "step": 0.01,
       "value": 1
      }
     },
     "4234c14040a34bf7b89239311817c494": {
      "model_module": "jupyter-js-widgets",
      "model_module_version": "~2.1.4",
      "model_name": "VBoxModel",
      "state": {
       "_dom_classes": [
        "widget-interact"
       ],
       "_model_module_version": "~2.1.4",
       "_view_module_version": "~2.1.4",
       "children": [
        "IPY_MODEL_1882a60d84304271aee6be5bfcfead7f",
        "IPY_MODEL_f7df60d9ddfa4829b2f8a46e18c698e6",
        "IPY_MODEL_773d219d9a7b49dab91017886d9b60ef",
        "IPY_MODEL_62dec5f6a1bf4cb9aa01af8bb7cb1e30",
        "IPY_MODEL_4937d0ee52504622addc310817dbf797",
        "IPY_MODEL_3d01f2dddd1049ba86475e4f3e75c1ff"
       ],
       "layout": "IPY_MODEL_122fdd93f3074fb2888803a78b8246e8"
      }
     },
     "42f395c07067485385467fb3f0c46865": {
      "model_module": "jupyter-js-widgets",
      "model_module_version": "~2.1.4",
      "model_name": "LayoutModel",
      "state": {
       "_model_module_version": "~2.1.4",
       "_view_module_version": "~2.1.4"
      }
     },
     "4373c4673f7c43bf906d870bb624ab38": {
      "model_module": "jupyter-js-widgets",
      "model_module_version": "~2.1.4",
      "model_name": "LayoutModel",
      "state": {
       "_model_module_version": "~2.1.4",
       "_view_module_version": "~2.1.4"
      }
     },
     "43a71598e7444426b03e6561da9fef0a": {
      "model_module": "jupyter-js-widgets",
      "model_module_version": "~2.1.4",
      "model_name": "LayoutModel",
      "state": {
       "_model_module_version": "~2.1.4",
       "_view_module_version": "~2.1.4"
      }
     },
     "45d1911a9e2b40a2a92e1ac533bff31b": {
      "model_module": "jupyter-js-widgets",
      "model_module_version": "~2.1.4",
      "model_name": "FloatSliderModel",
      "state": {
       "_model_module_version": "~2.1.4",
       "_view_module_version": "~2.1.4",
       "description": "$-r_x / 1$ $AU$",
       "layout": "IPY_MODEL_eb1f3dcf0c5c4fca96c2e80ca791398a",
       "max": 2,
       "min": 0.1,
       "step": 0.01,
       "value": 1
      }
     },
     "45fe4e18864e43c3a9ef4c6d004dfa65": {
      "model_module": "jupyter-js-widgets",
      "model_module_version": "~2.1.4",
      "model_name": "VBoxModel",
      "state": {
       "_dom_classes": [
        "widget-interact"
       ],
       "_model_module_version": "~2.1.4",
       "_view_module_version": "~2.1.4",
       "children": [
        "IPY_MODEL_d04072ca8ee243af84d943fe71d22b11",
        "IPY_MODEL_6458381c021f40a1bb31d70c20aaf486",
        "IPY_MODEL_58af958a300948f8864c2ed7dc72cbce",
        "IPY_MODEL_09001ad688084d8b85b7ea80edbd0e56",
        "IPY_MODEL_0a1f7ed9335948a3a8548f653fde58b5",
        "IPY_MODEL_31ee87e394bc4fc79bcd301a536b401e"
       ],
       "layout": "IPY_MODEL_3367b469aae94007868cf65a70f69f14"
      }
     },
     "465ebf43e40a463fb34a45b2dd0eb3f7": {
      "model_module": "jupyter-js-widgets",
      "model_module_version": "~2.1.4",
      "model_name": "LayoutModel",
      "state": {
       "_model_module_version": "~2.1.4",
       "_view_module_version": "~2.1.4"
      }
     },
     "46c15434cc514cb190d6be1f6547c5f3": {
      "model_module": "jupyter-js-widgets",
      "model_module_version": "~2.1.4",
      "model_name": "FloatSliderModel",
      "state": {
       "_model_module_version": "~2.1.4",
       "_view_module_version": "~2.1.4",
       "description": "$-r_x / 1$ $AU$",
       "layout": "IPY_MODEL_a83793ae63d9416c824f9920ff64e3c0",
       "max": 2,
       "min": 0.1,
       "step": 0.01,
       "value": 1
      }
     },
     "47742c1363cb4aaab33b950f8e0068fe": {
      "model_module": "jupyter-js-widgets",
      "model_module_version": "~2.1.4",
      "model_name": "LayoutModel",
      "state": {
       "_model_module_version": "~2.1.4",
       "_view_module_version": "~2.1.4"
      }
     },
     "47a7be8535cb4c0b9e1c6f81de45e6e3": {
      "model_module": "jupyter-js-widgets",
      "model_module_version": "~2.1.4",
      "model_name": "LayoutModel",
      "state": {
       "_model_module_version": "~2.1.4",
       "_view_module_version": "~2.1.4"
      }
     },
     "48e9ab2857a6407fbb4069181f2e5881": {
      "model_module": "jupyter-js-widgets",
      "model_module_version": "~2.1.4",
      "model_name": "FloatSliderModel",
      "state": {
       "_model_module_version": "~2.1.4",
       "_view_module_version": "~2.1.4",
       "description": "$f\\ \\left(dt = 10^f \\cdot r_0 / v\\right)$",
       "layout": "IPY_MODEL_95cd0c8557f842b5a7023de1a9d8fad2",
       "max": 2,
       "min": -3,
       "value": -2
      }
     },
     "4937d0ee52504622addc310817dbf797": {
      "model_module": "jupyter-js-widgets",
      "model_module_version": "~2.1.4",
      "model_name": "FloatSliderModel",
      "state": {
       "_model_module_version": "~2.1.4",
       "_view_module_version": "~2.1.4",
       "description": "$f\\ \\left(dt = 10^f \\cdot r_0 / v\\right)$",
       "layout": "IPY_MODEL_32ec856e1d59492d8689362925065176",
       "max": 2,
       "min": -3,
       "value": -2
      }
     },
     "494f6a9e47aa4f52ab9b3628c9d9fa4c": {
      "model_module": "jupyter-js-widgets",
      "model_module_version": "~2.1.4",
      "model_name": "FloatSliderModel",
      "state": {
       "_model_module_version": "~2.1.4",
       "_view_module_version": "~2.1.4",
       "description": "$-r_x / 1$ $AU$",
       "layout": "IPY_MODEL_bda13c2fd3454f32be363f552664e33a",
       "max": 2,
       "min": 0.1,
       "step": 0.01,
       "value": 0.87
      }
     },
     "49548f2da53842899838a2013ef4d19c": {
      "model_module": "jupyter-js-widgets",
      "model_module_version": "~2.1.4",
      "model_name": "LayoutModel",
      "state": {
       "_model_module_version": "~2.1.4",
       "_view_module_version": "~2.1.4"
      }
     },
     "4acba0aac026438c99e44c7a9820ca1c": {
      "model_module": "jupyter-js-widgets",
      "model_module_version": "~2.1.4",
      "model_name": "FloatSliderModel",
      "state": {
       "_model_module_version": "~2.1.4",
       "_view_module_version": "~2.1.4",
       "description": "$v_x / v_c$",
       "layout": "IPY_MODEL_fdf9ad677594461ea3a181a331243989",
       "max": 2,
       "min": -2,
       "step": 0.01
      }
     },
     "4b4621ccb0b1485ebb652612cd739781": {
      "model_module": "jupyter-js-widgets",
      "model_module_version": "~2.1.4",
      "model_name": "VBoxModel",
      "state": {
       "_dom_classes": [
        "widget-interact"
       ],
       "_model_module_version": "~2.1.4",
       "_view_module_version": "~2.1.4",
       "children": [
        "IPY_MODEL_6ecdea35559841eeaf5f252ca6868f6c",
        "IPY_MODEL_5652320332ef46f79cf340430a7f84c7",
        "IPY_MODEL_f9036a1a10544f418178e1413d606508",
        "IPY_MODEL_e559af30748e488fa9a82f3ae02a059a",
        "IPY_MODEL_d5d5ca51f46e4482b668c3f78d6378d1",
        "IPY_MODEL_b378c75b25754862aad459c1802702b8"
       ],
       "layout": "IPY_MODEL_cb680920a0a44a9e849dc9bf3385e084"
      }
     },
     "4b65ac5f4e8a4cb5966b7a11436311ca": {
      "model_module": "jupyter-js-widgets",
      "model_module_version": "~2.1.4",
      "model_name": "FloatSliderModel",
      "state": {
       "_model_module_version": "~2.1.4",
       "_view_module_version": "~2.1.4",
       "description": "$-v_y / v_c$",
       "layout": "IPY_MODEL_c7251307491f4e738a64f8e95bcae47d",
       "max": 2,
       "min": -2,
       "step": 0.01,
       "value": 1
      }
     },
     "4b683c460fca495ab52a017cd87fd05f": {
      "model_module": "jupyter-js-widgets",
      "model_module_version": "~2.1.4",
      "model_name": "FloatSliderModel",
      "state": {
       "_model_module_version": "~2.1.4",
       "_view_module_version": "~2.1.4",
       "description": "$-v_y / v_c$",
       "layout": "IPY_MODEL_9d3e77fb240e4d65ae0962589e378b12",
       "max": 2,
       "min": -2,
       "step": 0.01,
       "value": 1
      }
     },
     "4c921c45d7cb4a02a03686e16834a415": {
      "model_module": "jupyter-js-widgets",
      "model_module_version": "~2.1.4",
      "model_name": "VBoxModel",
      "state": {
       "_dom_classes": [
        "widget-interact"
       ],
       "_model_module_version": "~2.1.4",
       "_view_module_version": "~2.1.4",
       "children": [
        "IPY_MODEL_46c15434cc514cb190d6be1f6547c5f3",
        "IPY_MODEL_8c320c0755a347c6b24421eb7f2e968b",
        "IPY_MODEL_eb33841437fe4c679c6a68fe2782a1e1",
        "IPY_MODEL_86726aeb2e5542cfbd0dad6372a6ee63",
        "IPY_MODEL_e98c0d2cec354647af939868e91bc190",
        "IPY_MODEL_6182a04fea7b440fad2594e580c29444"
       ],
       "layout": "IPY_MODEL_8cd10a8c9b944df38aa5f8d16326f631"
      }
     },
     "4cc69bf32ec4492c810fd4588835ac39": {
      "model_module": "jupyter-js-widgets",
      "model_module_version": "~2.1.4",
      "model_name": "LayoutModel",
      "state": {
       "_model_module_version": "~2.1.4",
       "_view_module_version": "~2.1.4"
      }
     },
     "4dffa57aeb7348ffa7ef315fe9fc631b": {
      "model_module": "jupyter-js-widgets",
      "model_module_version": "~2.1.4",
      "model_name": "LayoutModel",
      "state": {
       "_model_module_version": "~2.1.4",
       "_view_module_version": "~2.1.4",
       "display": "inline-flex",
       "flex_flow": "row wrap",
       "justify_content": "flex-start"
      }
     },
     "4e530c59aaec441ba118485327ad548c": {
      "model_module": "jupyter-js-widgets",
      "model_module_version": "~2.1.4",
      "model_name": "FloatSliderModel",
      "state": {
       "_model_module_version": "~2.1.4",
       "_view_module_version": "~2.1.4",
       "description": "$-v_y / v_c$",
       "layout": "IPY_MODEL_411af46441164bbd8c0f9801a507d7fb",
       "max": 2,
       "min": -2,
       "step": 0.01,
       "value": 0.97
      }
     },
     "4edf3237821842aa9bac78ab0c57ae51": {
      "model_module": "jupyter-js-widgets",
      "model_module_version": "~2.1.4",
      "model_name": "FloatSliderModel",
      "state": {
       "_model_module_version": "~2.1.4",
       "_view_module_version": "~2.1.4",
       "description": "$-v_y / v_c$",
       "layout": "IPY_MODEL_381a4dcb61e746e181fe841ae8916893",
       "max": 2,
       "min": -2,
       "step": 0.01,
       "value": 1.03
      }
     },
     "4fc60063f0254485af67b66946b25bab": {
      "model_module": "jupyter-js-widgets",
      "model_module_version": "~2.1.4",
      "model_name": "FloatSliderModel",
      "state": {
       "_model_module_version": "~2.1.4",
       "_view_module_version": "~2.1.4",
       "description": "$v_x / v_c$",
       "layout": "IPY_MODEL_a50222c105354c84b870f34449aa6364",
       "max": 2,
       "min": -2,
       "step": 0.01,
       "value": 0.29
      }
     },
     "4ff1a3a427344c0baf4565ce0bc883af": {
      "model_module": "jupyter-js-widgets",
      "model_module_version": "~2.1.4",
      "model_name": "FloatSliderModel",
      "state": {
       "_model_module_version": "~2.1.4",
       "_view_module_version": "~2.1.4",
       "description": "$f\\ \\left(dt = 10^f \\cdot r_0 / v\\right)$",
       "layout": "IPY_MODEL_7c3b4221f6d64ce5bd81bcb4bf653d78",
       "max": 2,
       "min": -3
      }
     },
     "50334d40b9da436fb679892660d6bc1f": {
      "model_module": "jupyter-js-widgets",
      "model_module_version": "~2.1.4",
      "model_name": "VBoxModel",
      "state": {
       "_dom_classes": [
        "widget-interact"
       ],
       "_model_module_version": "~2.1.4",
       "_view_module_version": "~2.1.4",
       "children": [
        "IPY_MODEL_85e711ee7c7c4a9c8feb9d011068129b",
        "IPY_MODEL_4acba0aac026438c99e44c7a9820ca1c",
        "IPY_MODEL_3860bb6819db4791ba6fcb1dde286721",
        "IPY_MODEL_8aec087e849446d98455ad39a9a50a1e",
        "IPY_MODEL_950cd3b210d9464a84af3cdeeb724fc2",
        "IPY_MODEL_f853a2e0756c4319a2bd5383981c6bed"
       ],
       "layout": "IPY_MODEL_01995ccd8d2e47e4a9ed9160e49d1a71"
      }
     },
     "50a6d533ca534e9ba810fe7b95e7680e": {
      "model_module": "jupyter-js-widgets",
      "model_module_version": "~2.1.4",
      "model_name": "FloatSliderModel",
      "state": {
       "_model_module_version": "~2.1.4",
       "_view_module_version": "~2.1.4",
       "description": "$f\\ \\left(dt = 10^f \\cdot x_0 / v\\right)$",
       "layout": "IPY_MODEL_7c696291136d48c6ad3c44d7147c92ac",
       "max": 2,
       "min": -3,
       "value": -2
      }
     },
     "513af6753ada44c387c2f24220039924": {
      "model_module": "jupyter-js-widgets",
      "model_module_version": "~2.1.4",
      "model_name": "FloatSliderModel",
      "state": {
       "_model_module_version": "~2.1.4",
       "_view_module_version": "~2.1.4",
       "description": "$-r_x / 1$ $AU$",
       "layout": "IPY_MODEL_207cea7524fa464898010bf54576ae97",
       "max": 2,
       "min": 0.1,
       "step": 0.01,
       "value": 1
      }
     },
     "51ea436f2beb4b97a1ea2b865be2bdce": {
      "model_module": "jupyter-js-widgets",
      "model_module_version": "~2.1.4",
      "model_name": "LayoutModel",
      "state": {
       "_model_module_version": "~2.1.4",
       "_view_module_version": "~2.1.4"
      }
     },
     "521a8dd4b7124158b736a35490564dbf": {
      "model_module": "jupyter-js-widgets",
      "model_module_version": "~2.1.4",
      "model_name": "FloatSliderModel",
      "state": {
       "_model_module_version": "~2.1.4",
       "_view_module_version": "~2.1.4",
       "description": "$f\\ \\left(dt = 10^f \\cdot x_0 / v\\right)$",
       "layout": "IPY_MODEL_fa87c2447b5c4d71aaeb1a53e7b75e0f",
       "max": 2,
       "min": -3,
       "value": -1
      }
     },
     "52866efed1c94f6e9bf92c3cbe62a51f": {
      "model_module": "jupyter-js-widgets",
      "model_module_version": "~2.1.4",
      "model_name": "LayoutModel",
      "state": {
       "_model_module_version": "~2.1.4",
       "_view_module_version": "~2.1.4"
      }
     },
     "52eab43b5a9f4378ad2b632535e0cda4": {
      "model_module": "jupyter-js-widgets",
      "model_module_version": "~2.1.4",
      "model_name": "LayoutModel",
      "state": {
       "_model_module_version": "~2.1.4",
       "_view_module_version": "~2.1.4"
      }
     },
     "5335ae0aee834ac68fd7b071352b6256": {
      "model_module": "jupyter-js-widgets",
      "model_module_version": "~2.1.4",
      "model_name": "FloatSliderModel",
      "state": {
       "_model_module_version": "~2.1.4",
       "_view_module_version": "~2.1.4",
       "description": "$T$ / $1\\ year$",
       "layout": "IPY_MODEL_e001da65749c4df68ede83586a809498",
       "max": 5,
       "min": 0.1,
       "step": 0.01,
       "value": 1
      }
     },
     "540e3362a46248fc843a246d6a386161": {
      "model_module": "jupyter-js-widgets",
      "model_module_version": "~2.1.4",
      "model_name": "LayoutModel",
      "state": {
       "_model_module_version": "~2.1.4",
       "_view_module_version": "~2.1.4"
      }
     },
     "55ccd611ab084bbd8d9cb11211d42b3a": {
      "model_module": "jupyter-js-widgets",
      "model_module_version": "~2.1.4",
      "model_name": "LayoutModel",
      "state": {
       "_model_module_version": "~2.1.4",
       "_view_module_version": "~2.1.4"
      }
     },
     "5652320332ef46f79cf340430a7f84c7": {
      "model_module": "jupyter-js-widgets",
      "model_module_version": "~2.1.4",
      "model_name": "FloatSliderModel",
      "state": {
       "_model_module_version": "~2.1.4",
       "_view_module_version": "~2.1.4",
       "description": "$v_x / v_c$",
       "layout": "IPY_MODEL_5d9ebeb655ed46928b0d0456e0a7f34a",
       "max": 2,
       "min": -2,
       "step": 0.01
      }
     },
     "566c66dd322c463d94452526c603aa1a": {
      "model_module": "jupyter-js-widgets",
      "model_module_version": "~2.1.4",
      "model_name": "LayoutModel",
      "state": {
       "_model_module_version": "~2.1.4",
       "_view_module_version": "~2.1.4"
      }
     },
     "56d4e7c156f443e7acc1a0631def0167": {
      "model_module": "jupyter-js-widgets",
      "model_module_version": "~2.1.4",
      "model_name": "LayoutModel",
      "state": {
       "_model_module_version": "~2.1.4",
       "_view_module_version": "~2.1.4"
      }
     },
     "5737b901c5604dcfbef822f8c723d736": {
      "model_module": "jupyter-js-widgets",
      "model_module_version": "~2.1.4",
      "model_name": "LayoutModel",
      "state": {
       "_model_module_version": "~2.1.4",
       "_view_module_version": "~2.1.4"
      }
     },
     "57ce37a04cf844beaebfa23f51a6b682": {
      "model_module": "jupyter-js-widgets",
      "model_module_version": "~2.1.4",
      "model_name": "FloatSliderModel",
      "state": {
       "_model_module_version": "~2.1.4",
       "_view_module_version": "~2.1.4",
       "description": "$v_x / v_c$",
       "layout": "IPY_MODEL_f1040412c84f4f299678b48c79a0ce30",
       "max": 2,
       "min": -2,
       "step": 0.01,
       "value": 0.42
      }
     },
     "57fe69a6d23748f98ac5a10881c7c79a": {
      "model_module": "jupyter-js-widgets",
      "model_module_version": "~2.1.4",
      "model_name": "LayoutModel",
      "state": {
       "_model_module_version": "~2.1.4",
       "_view_module_version": "~2.1.4"
      }
     },
     "5830ca6f2c954604a4a8e36e54ad6de7": {
      "model_module": "jupyter-js-widgets",
      "model_module_version": "~2.1.4",
      "model_name": "FloatSliderModel",
      "state": {
       "_model_module_version": "~2.1.4",
       "_view_module_version": "~2.1.4",
       "description": "$v_x / v_c$",
       "layout": "IPY_MODEL_b8b6623c556b4bc29316395838c8f964",
       "max": 2,
       "min": -2,
       "step": 0.01
      }
     },
     "5847f6baff1849c3a7a22761340520f9": {
      "model_module": "jupyter-js-widgets",
      "model_module_version": "~2.1.4",
      "model_name": "LayoutModel",
      "state": {
       "_model_module_version": "~2.1.4",
       "_view_module_version": "~2.1.4"
      }
     },
     "58af958a300948f8864c2ed7dc72cbce": {
      "model_module": "jupyter-js-widgets",
      "model_module_version": "~2.1.4",
      "model_name": "FloatSliderModel",
      "state": {
       "_model_module_version": "~2.1.4",
       "_view_module_version": "~2.1.4",
       "description": "$-v_y / v_c$",
       "layout": "IPY_MODEL_7e8887085ce841d183e371b769ea85d4",
       "max": 2,
       "min": -2,
       "step": 0.01,
       "value": 1
      }
     },
     "58fcfda40df048638ffef6f7ee8ca160": {
      "model_module": "jupyter-js-widgets",
      "model_module_version": "~2.1.4",
      "model_name": "LayoutModel",
      "state": {
       "_model_module_version": "~2.1.4",
       "_view_module_version": "~2.1.4"
      }
     },
     "59ef189b04fc45c49a636e136a120008": {
      "model_module": "jupyter-js-widgets",
      "model_module_version": "~2.1.4",
      "model_name": "FloatSliderModel",
      "state": {
       "_model_module_version": "~2.1.4",
       "_view_module_version": "~2.1.4",
       "description": "$v_x / v_c$",
       "layout": "IPY_MODEL_d14559d2deb64a4eb1621236df932f57",
       "max": 2,
       "min": -2,
       "step": 0.01,
       "value": 0.22
      }
     },
     "5a5b8786e7164c25a4fbcc2a244ebd9d": {
      "model_module": "jupyter-js-widgets",
      "model_module_version": "~2.1.4",
      "model_name": "FloatSliderModel",
      "state": {
       "_model_module_version": "~2.1.4",
       "_view_module_version": "~2.1.4",
       "description": "$v_x / v_c$",
       "layout": "IPY_MODEL_d2f8aa49bb124ef199541c1ebaf4b584",
       "max": 2,
       "min": -2,
       "step": 0.01,
       "value": 0.36
      }
     },
     "5a72032d044747c3bdcc4f78c505102c": {
      "model_module": "jupyter-js-widgets",
      "model_module_version": "~2.1.4",
      "model_name": "FloatSliderModel",
      "state": {
       "_model_module_version": "~2.1.4",
       "_view_module_version": "~2.1.4",
       "description": "$-v_y / v_c$",
       "layout": "IPY_MODEL_3c16a7544691473fbedb46828cd09282",
       "max": 2,
       "min": -2,
       "step": 0.01,
       "value": 1
      }
     },
     "5a87971c4402453dac1d007ae6bdf2c9": {
      "model_module": "jupyter-js-widgets",
      "model_module_version": "~2.1.4",
      "model_name": "FloatSliderModel",
      "state": {
       "_model_module_version": "~2.1.4",
       "_view_module_version": "~2.1.4",
       "description": "$T$ / $1\\ year$",
       "layout": "IPY_MODEL_8f3f678f3d094658a84bd5c5c71b5f53",
       "max": 5,
       "min": 0.1,
       "step": 0.01,
       "value": 1
      }
     },
     "5c8c4eb0ebf84185b111df94d2cdebf1": {
      "model_module": "jupyter-js-widgets",
      "model_module_version": "~2.1.4",
      "model_name": "LayoutModel",
      "state": {
       "_model_module_version": "~2.1.4",
       "_view_module_version": "~2.1.4"
      }
     },
     "5d9ebeb655ed46928b0d0456e0a7f34a": {
      "model_module": "jupyter-js-widgets",
      "model_module_version": "~2.1.4",
      "model_name": "LayoutModel",
      "state": {
       "_model_module_version": "~2.1.4",
       "_view_module_version": "~2.1.4"
      }
     },
     "5df743e0dfe948b78d1595c319f342d2": {
      "model_module": "jupyter-js-widgets",
      "model_module_version": "~2.1.4",
      "model_name": "VBoxModel",
      "state": {
       "_dom_classes": [
        "widget-interact"
       ],
       "_model_module_version": "~2.1.4",
       "_view_module_version": "~2.1.4",
       "children": [
        "IPY_MODEL_01915560a13a45f8905ba6fa28bf5fd7",
        "IPY_MODEL_efffe583b33342b6a928ed9d1e408124",
        "IPY_MODEL_e9a09c17abb34f2393c3c0f6cc9b9de3",
        "IPY_MODEL_feba41dea2a34c5bbfaa7a9771791534",
        "IPY_MODEL_e2acd18c07b447c7b68da1f4951772f5",
        "IPY_MODEL_38fbee86f77348c997806c83199198c6"
       ],
       "layout": "IPY_MODEL_e592daeb6bc34d4cae7f4f4b6b353777"
      }
     },
     "5e28489ff9af49b7a1cefbad222434ec": {
      "model_module": "jupyter-js-widgets",
      "model_module_version": "~2.1.4",
      "model_name": "LayoutModel",
      "state": {
       "_model_module_version": "~2.1.4",
       "_view_module_version": "~2.1.4"
      }
     },
     "5e40d840ffc64472b548eca6919b8eee": {
      "model_module": "jupyter-js-widgets",
      "model_module_version": "~2.1.4",
      "model_name": "LayoutModel",
      "state": {
       "_model_module_version": "~2.1.4",
       "_view_module_version": "~2.1.4"
      }
     },
     "5e5adabc287042a8b7f07b2fc565b154": {
      "model_module": "jupyter-js-widgets",
      "model_module_version": "~2.1.4",
      "model_name": "FloatSliderModel",
      "state": {
       "_model_module_version": "~2.1.4",
       "_view_module_version": "~2.1.4",
       "description": "$T$ / $1\\ year$",
       "layout": "IPY_MODEL_2b0d448681ed47ecab918df261857114",
       "max": 5,
       "min": 0.1,
       "step": 0.01,
       "value": 1
      }
     },
     "5efd5af4854b4130830db47520dc74c3": {
      "model_module": "jupyter-js-widgets",
      "model_module_version": "~2.1.4",
      "model_name": "FloatSliderModel",
      "state": {
       "_model_module_version": "~2.1.4",
       "_view_module_version": "~2.1.4",
       "description": "$f\\ \\left(dt = 10^f \\cdot r_0 / v\\right)$",
       "layout": "IPY_MODEL_bb13d3895fdf49e79e44b394f4fada4d",
       "max": 2,
       "min": -3,
       "value": -2
      }
     },
     "5f9c987f131e4088ab62382441e79875": {
      "model_module": "jupyter-js-widgets",
      "model_module_version": "~2.1.4",
      "model_name": "FloatSliderModel",
      "state": {
       "_model_module_version": "~2.1.4",
       "_view_module_version": "~2.1.4",
       "description": "$-r_x / 1$ $AU$",
       "layout": "IPY_MODEL_05843fdaca1f4eaeace9c299d462d27b",
       "max": 2,
       "min": 0.1,
       "step": 0.01,
       "value": 1
      }
     },
     "60124596f93f4aaf89b7a045b46a8d09": {
      "model_module": "jupyter-js-widgets",
      "model_module_version": "~2.1.4",
      "model_name": "FloatSliderModel",
      "state": {
       "_model_module_version": "~2.1.4",
       "_view_module_version": "~2.1.4",
       "description": "$f\\ \\left(dt = 10^f \\cdot r_0 / v\\right)$",
       "layout": "IPY_MODEL_dac0c1e00fa542e989d7985d50b5dc70",
       "max": 2,
       "min": -3,
       "value": -2
      }
     },
     "601cd926926344e19dc4ab7e4d5fdb02": {
      "model_module": "jupyter-js-widgets",
      "model_module_version": "~2.1.4",
      "model_name": "LayoutModel",
      "state": {
       "_model_module_version": "~2.1.4",
       "_view_module_version": "~2.1.4"
      }
     },
     "606a4728296c4ae5afc700a67acdb593": {
      "model_module": "jupyter-js-widgets",
      "model_module_version": "~2.1.4",
      "model_name": "FloatSliderModel",
      "state": {
       "_model_module_version": "~2.1.4",
       "_view_module_version": "~2.1.4",
       "description": "$-r_x / 1$ $AU$",
       "layout": "IPY_MODEL_0d330abbde1e42e7bf758100cb2d559b",
       "max": 2,
       "min": 0.1,
       "step": 0.01,
       "value": 1
      }
     },
     "609702ad83944d76b25c822a3999469a": {
      "model_module": "jupyter-js-widgets",
      "model_module_version": "~2.1.4",
      "model_name": "LayoutModel",
      "state": {
       "_model_module_version": "~2.1.4",
       "_view_module_version": "~2.1.4"
      }
     },
     "60cb4a60825e4e7ba1ef531d13a3716b": {
      "model_module": "jupyter-js-widgets",
      "model_module_version": "~2.1.4",
      "model_name": "FloatSliderModel",
      "state": {
       "_model_module_version": "~2.1.4",
       "_view_module_version": "~2.1.4",
       "description": "$v_x / v_c$",
       "layout": "IPY_MODEL_9657dc6294cd4a1f8673cebcce434573",
       "max": 2,
       "min": -2,
       "step": 0.01
      }
     },
     "60e6b6626852440b9768ad404054c655": {
      "model_module": "jupyter-js-widgets",
      "model_module_version": "~2.1.4",
      "model_name": "FloatSliderModel",
      "state": {
       "_model_module_version": "~2.1.4",
       "_view_module_version": "~2.1.4",
       "description": "$f\\ \\left(dt = 10^f \\cdot r_0 / v\\right)$",
       "layout": "IPY_MODEL_5c8c4eb0ebf84185b111df94d2cdebf1",
       "max": 2,
       "min": -3,
       "value": -2
      }
     },
     "61419cbfa92e469eac6d0175f6832089": {
      "model_module": "jupyter-js-widgets",
      "model_module_version": "~2.1.4",
      "model_name": "LayoutModel",
      "state": {
       "_model_module_version": "~2.1.4",
       "_view_module_version": "~2.1.4"
      }
     },
     "61463b1996cd40ca8b1dfff32813b26b": {
      "model_module": "jupyter-js-widgets",
      "model_module_version": "~2.1.4",
      "model_name": "LayoutModel",
      "state": {
       "_model_module_version": "~2.1.4",
       "_view_module_version": "~2.1.4"
      }
     },
     "616689ff296643a6a868f99e200b56c1": {
      "model_module": "jupyter-js-widgets",
      "model_module_version": "~2.1.4",
      "model_name": "LayoutModel",
      "state": {
       "_model_module_version": "~2.1.4",
       "_view_module_version": "~2.1.4"
      }
     },
     "6167427b9b5d4a948cf31740eb3a138e": {
      "model_module": "jupyter-js-widgets",
      "model_module_version": "~2.1.4",
      "model_name": "FloatSliderModel",
      "state": {
       "_model_module_version": "~2.1.4",
       "_view_module_version": "~2.1.4",
       "description": "$-r_x / 1$ $AU$",
       "layout": "IPY_MODEL_d64a9fe7a44640af896aac5b7e5bf1a8",
       "max": 2,
       "min": 0.1,
       "step": 0.01,
       "value": 1.65
      }
     },
     "6182a04fea7b440fad2594e580c29444": {
      "model_module": "jupyter-js-widgets",
      "model_module_version": "~2.1.4",
      "model_name": "OutputModel",
      "state": {
       "_dom_classes": [],
       "_model_module": "jupyter-js-widgets",
       "_model_module_version": "~2.1.4",
       "_view_module": "jupyter-js-widgets",
       "_view_module_version": "~2.1.4",
       "layout": "IPY_MODEL_9d135f9ec72d40c7a78bec012e6f30b7",
       "msg_throttle": 1
      }
     },
     "61c7473bb70e451a9897f6a70a4a39ed": {
      "model_module": "jupyter-js-widgets",
      "model_module_version": "~2.1.4",
      "model_name": "FloatSliderModel",
      "state": {
       "_model_module_version": "~2.1.4",
       "_view_module_version": "~2.1.4",
       "description": "$v_x / v_c$",
       "layout": "IPY_MODEL_120cc2e997c644a9ae5841bc91a6a594",
       "max": 2,
       "min": -2,
       "step": 0.01,
       "value": 0.62
      }
     },
     "61f0a78fe27341f8a87ee5593f814e58": {
      "model_module": "jupyter-js-widgets",
      "model_module_version": "~2.1.4",
      "model_name": "LayoutModel",
      "state": {
       "_model_module_version": "~2.1.4",
       "_view_module_version": "~2.1.4"
      }
     },
     "6247f90217fa4ed4bc36589467cc5400": {
      "model_module": "jupyter-js-widgets",
      "model_module_version": "~2.1.4",
      "model_name": "LayoutModel",
      "state": {
       "_model_module_version": "~2.1.4",
       "_view_module_version": "~2.1.4"
      }
     },
     "62dec5f6a1bf4cb9aa01af8bb7cb1e30": {
      "model_module": "jupyter-js-widgets",
      "model_module_version": "~2.1.4",
      "model_name": "FloatSliderModel",
      "state": {
       "_model_module_version": "~2.1.4",
       "_view_module_version": "~2.1.4",
       "description": "$T$ / $1\\ year$",
       "layout": "IPY_MODEL_8c02f318d9254355b77daf4ed8eef997",
       "max": 5,
       "min": 0.1,
       "step": 0.01,
       "value": 1
      }
     },
     "630789b00b3a4332912bc96a79d553e7": {
      "model_module": "jupyter-js-widgets",
      "model_module_version": "~2.1.4",
      "model_name": "LayoutModel",
      "state": {
       "_model_module_version": "~2.1.4",
       "_view_module_version": "~2.1.4"
      }
     },
     "6333c46f053345289b4a22191988e492": {
      "model_module": "jupyter-js-widgets",
      "model_module_version": "~2.1.4",
      "model_name": "LayoutModel",
      "state": {
       "_model_module_version": "~2.1.4",
       "_view_module_version": "~2.1.4"
      }
     },
     "63ed6f6f8a4d43ba99b545ac33412530": {
      "model_module": "jupyter-js-widgets",
      "model_module_version": "~2.1.4",
      "model_name": "LayoutModel",
      "state": {
       "_model_module_version": "~2.1.4",
       "_view_module_version": "~2.1.4"
      }
     },
     "6414e51e15e2459b8a33c29c7245ef32": {
      "model_module": "jupyter-js-widgets",
      "model_module_version": "~2.1.4",
      "model_name": "LayoutModel",
      "state": {
       "_model_module_version": "~2.1.4",
       "_view_module_version": "~2.1.4",
       "display": "inline-flex",
       "flex_flow": "row wrap",
       "justify_content": "flex-start"
      }
     },
     "6458381c021f40a1bb31d70c20aaf486": {
      "model_module": "jupyter-js-widgets",
      "model_module_version": "~2.1.4",
      "model_name": "FloatSliderModel",
      "state": {
       "_model_module_version": "~2.1.4",
       "_view_module_version": "~2.1.4",
       "description": "$v_x / v_c$",
       "layout": "IPY_MODEL_8171b7cd896443fea856f889919b908a",
       "max": 2,
       "min": -2,
       "step": 0.01,
       "value": 0.43
      }
     },
     "64b48ec6901042dbb4c4cb3799588ebf": {
      "model_module": "jupyter-js-widgets",
      "model_module_version": "~2.1.4",
      "model_name": "OutputModel",
      "state": {
       "_dom_classes": [],
       "_model_module": "jupyter-js-widgets",
       "_model_module_version": "~2.1.4",
       "_view_module": "jupyter-js-widgets",
       "_view_module_version": "~2.1.4",
       "layout": "IPY_MODEL_630789b00b3a4332912bc96a79d553e7",
       "msg_throttle": 1
      }
     },
     "657a587b4b604792a028cb5d97797553": {
      "model_module": "jupyter-js-widgets",
      "model_module_version": "~2.1.4",
      "model_name": "LayoutModel",
      "state": {
       "_model_module_version": "~2.1.4",
       "_view_module_version": "~2.1.4"
      }
     },
     "6592d08f5834408bafcf71b0e44bba73": {
      "model_module": "jupyter-js-widgets",
      "model_module_version": "~2.1.4",
      "model_name": "LayoutModel",
      "state": {
       "_model_module_version": "~2.1.4",
       "_view_module_version": "~2.1.4"
      }
     },
     "6599ee1ddf224561adc7cd25ec637312": {
      "model_module": "jupyter-js-widgets",
      "model_module_version": "~2.1.4",
      "model_name": "LayoutModel",
      "state": {
       "_model_module_version": "~2.1.4",
       "_view_module_version": "~2.1.4"
      }
     },
     "66947ed58b3446fe81a5838e5e6209c7": {
      "model_module": "jupyter-js-widgets",
      "model_module_version": "~2.1.4",
      "model_name": "LayoutModel",
      "state": {
       "_model_module_version": "~2.1.4",
       "_view_module_version": "~2.1.4"
      }
     },
     "66b0770ac90945518059bdd6f608229d": {
      "model_module": "jupyter-js-widgets",
      "model_module_version": "~2.1.4",
      "model_name": "LayoutModel",
      "state": {
       "_model_module_version": "~2.1.4",
       "_view_module_version": "~2.1.4",
       "display": "inline-flex",
       "flex_flow": "row wrap",
       "justify_content": "flex-start"
      }
     },
     "681f4570c24f40fab51fb4b1d55fca3b": {
      "model_module": "jupyter-js-widgets",
      "model_module_version": "~2.1.4",
      "model_name": "LayoutModel",
      "state": {
       "_model_module_version": "~2.1.4",
       "_view_module_version": "~2.1.4"
      }
     },
     "685e511092594a31917fa639225032ab": {
      "model_module": "jupyter-js-widgets",
      "model_module_version": "~2.1.4",
      "model_name": "OutputModel",
      "state": {
       "_dom_classes": [],
       "_model_module": "jupyter-js-widgets",
       "_model_module_version": "~2.1.4",
       "_view_module": "jupyter-js-widgets",
       "_view_module_version": "~2.1.4",
       "layout": "IPY_MODEL_7a6dd1ae7c1c415691a3e3f5587c3512",
       "msg_throttle": 1
      }
     },
     "688899a021be4ffeb7409e042320277d": {
      "model_module": "jupyter-js-widgets",
      "model_module_version": "~2.1.4",
      "model_name": "FloatSliderModel",
      "state": {
       "_model_module_version": "~2.1.4",
       "_view_module_version": "~2.1.4",
       "description": "$T$ / $1\\ year$",
       "layout": "IPY_MODEL_cd3abe6b33cc4295a6511723c208416f",
       "max": 5,
       "min": 0.1,
       "step": 0.01,
       "value": 1
      }
     },
     "68eada21dc464db8ba8de6acbd23fa3a": {
      "model_module": "jupyter-js-widgets",
      "model_module_version": "~2.1.4",
      "model_name": "VBoxModel",
      "state": {
       "_dom_classes": [
        "widget-interact"
       ],
       "_model_module_version": "~2.1.4",
       "_view_module_version": "~2.1.4",
       "children": [
        "IPY_MODEL_90ec152c0c604b15a01cedf390e72ba3",
        "IPY_MODEL_fe3039e7f9ac42a481ec4fd1a7fb5979",
        "IPY_MODEL_feec0057f9b2410ab5d775a7a420012d",
        "IPY_MODEL_262dc26a53044c27adeac35a30112c21",
        "IPY_MODEL_30940b5f0b3c47219bba2af03bc53aa0",
        "IPY_MODEL_685e511092594a31917fa639225032ab"
       ],
       "layout": "IPY_MODEL_d5f8e78c5a1742a38ff03406b830d0a4"
      }
     },
     "68fc08c2f002493a8d0755f8b5b94668": {
      "model_module": "jupyter-js-widgets",
      "model_module_version": "~2.1.4",
      "model_name": "FloatSliderModel",
      "state": {
       "_model_module_version": "~2.1.4",
       "_view_module_version": "~2.1.4",
       "description": "$v_x / v_c$",
       "layout": "IPY_MODEL_fb3e030f77ae45c098277494ed825b3d",
       "max": 2,
       "min": -2,
       "step": 0.01,
       "value": 0.32
      }
     },
     "698c38027017413b833f91f7d1a83b19": {
      "model_module": "jupyter-js-widgets",
      "model_module_version": "~2.1.4",
      "model_name": "LayoutModel",
      "state": {
       "_model_module_version": "~2.1.4",
       "_view_module_version": "~2.1.4"
      }
     },
     "69cd7a71ab994d9490174b8b85f1fd4d": {
      "model_module": "jupyter-js-widgets",
      "model_module_version": "~2.1.4",
      "model_name": "VBoxModel",
      "state": {
       "_dom_classes": [
        "widget-interact"
       ],
       "_model_module_version": "~2.1.4",
       "_view_module_version": "~2.1.4",
       "children": [
        "IPY_MODEL_6167427b9b5d4a948cf31740eb3a138e",
        "IPY_MODEL_2a8ada88d8d9441fa49be1019c4d1543",
        "IPY_MODEL_3b2ea62fbf9343bf8b2c819bbdcd1f88",
        "IPY_MODEL_c58f67b849c44a94a80c490c048d9825",
        "IPY_MODEL_9fe38584174f4125a47b5ad3afb224f9",
        "IPY_MODEL_a35e07a82a3b4e66a1b4ebda813a26e2"
       ],
       "layout": "IPY_MODEL_a39e59583f1f4f99b134c51ac9535407"
      }
     },
     "6acd7d81c0804d20bc17ab3f3a678591": {
      "model_module": "jupyter-js-widgets",
      "model_module_version": "~2.1.4",
      "model_name": "FloatSliderModel",
      "state": {
       "_model_module_version": "~2.1.4",
       "_view_module_version": "~2.1.4",
       "description": "$T$ / $1\\ year$",
       "layout": "IPY_MODEL_ce6e8783c502459e9b62c6d810b496b8",
       "max": 5,
       "min": 0.1,
       "step": 0.01,
       "value": 1
      }
     },
     "6b6559b07f294f1eb774d0ae77256748": {
      "model_module": "jupyter-js-widgets",
      "model_module_version": "~2.1.4",
      "model_name": "LayoutModel",
      "state": {
       "_model_module_version": "~2.1.4",
       "_view_module_version": "~2.1.4"
      }
     },
     "6bd786f4f6704a9c98f0dede99c4ae13": {
      "model_module": "jupyter-js-widgets",
      "model_module_version": "~2.1.4",
      "model_name": "LayoutModel",
      "state": {
       "_model_module_version": "~2.1.4",
       "_view_module_version": "~2.1.4"
      }
     },
     "6beeec4d6f7346d8862f9f30437823bd": {
      "model_module": "jupyter-js-widgets",
      "model_module_version": "~2.1.4",
      "model_name": "LayoutModel",
      "state": {
       "_model_module_version": "~2.1.4",
       "_view_module_version": "~2.1.4"
      }
     },
     "6c3441a7a33c4ad88ca04ba0397ce8ee": {
      "model_module": "jupyter-js-widgets",
      "model_module_version": "~2.1.4",
      "model_name": "LayoutModel",
      "state": {
       "_model_module_version": "~2.1.4",
       "_view_module_version": "~2.1.4"
      }
     },
     "6cebdfee190d43938775d0b92d3596d2": {
      "model_module": "jupyter-js-widgets",
      "model_module_version": "~2.1.4",
      "model_name": "LayoutModel",
      "state": {
       "_model_module_version": "~2.1.4",
       "_view_module_version": "~2.1.4"
      }
     },
     "6db425857df84d87baa43c002e33edbf": {
      "model_module": "jupyter-js-widgets",
      "model_module_version": "~2.1.4",
      "model_name": "FloatSliderModel",
      "state": {
       "_model_module_version": "~2.1.4",
       "_view_module_version": "~2.1.4",
       "description": "$T$ / $1\\ year$",
       "layout": "IPY_MODEL_1b3f9d2b6d784d759b412f6934be0d1e",
       "max": 5,
       "min": 0.1,
       "step": 0.01,
       "value": 1
      }
     },
     "6dd40f79afee4850ba8ccd84c1920bba": {
      "model_module": "jupyter-js-widgets",
      "model_module_version": "~2.1.4",
      "model_name": "FloatSliderModel",
      "state": {
       "_model_module_version": "~2.1.4",
       "_view_module_version": "~2.1.4",
       "description": "$T$ / $1\\ year$",
       "layout": "IPY_MODEL_c5e651b3b5cd4bfb8774a595a06d8330",
       "max": 5,
       "min": 0.1,
       "step": 0.01,
       "value": 1
      }
     },
     "6dedc1c2791f4f429142f7946e0c2a74": {
      "model_module": "jupyter-js-widgets",
      "model_module_version": "~2.1.4",
      "model_name": "OutputModel",
      "state": {
       "_dom_classes": [],
       "_model_module": "jupyter-js-widgets",
       "_model_module_version": "~2.1.4",
       "_view_module": "jupyter-js-widgets",
       "_view_module_version": "~2.1.4",
       "layout": "IPY_MODEL_13e15a0862184eba8a25acb8968033c5",
       "msg_throttle": 1
      }
     },
     "6e045622100242ed9571bb9c47b999ed": {
      "model_module": "jupyter-js-widgets",
      "model_module_version": "~2.1.4",
      "model_name": "FloatSliderModel",
      "state": {
       "_model_module_version": "~2.1.4",
       "_view_module_version": "~2.1.4",
       "description": "$-v_y / v_c$",
       "layout": "IPY_MODEL_c268aa5dd48a463faa06672fb3e49491",
       "max": 2,
       "min": -2,
       "step": 0.01,
       "value": 1
      }
     },
     "6ecdea35559841eeaf5f252ca6868f6c": {
      "model_module": "jupyter-js-widgets",
      "model_module_version": "~2.1.4",
      "model_name": "FloatSliderModel",
      "state": {
       "_model_module_version": "~2.1.4",
       "_view_module_version": "~2.1.4",
       "description": "$-r_x / 1$ $AU$",
       "layout": "IPY_MODEL_00fdfd1ddaf444209fd10102541e9961",
       "max": 2,
       "min": 0.1,
       "step": 0.01,
       "value": 1
      }
     },
     "6f08443b8d5d4041b2eda825fd47b1a1": {
      "model_module": "jupyter-js-widgets",
      "model_module_version": "~2.1.4",
      "model_name": "LayoutModel",
      "state": {
       "_model_module_version": "~2.1.4",
       "_view_module_version": "~2.1.4"
      }
     },
     "6fc1ac66015f47ee80fdd82dd0acf0e8": {
      "model_module": "jupyter-js-widgets",
      "model_module_version": "~2.1.4",
      "model_name": "LayoutModel",
      "state": {
       "_model_module_version": "~2.1.4",
       "_view_module_version": "~2.1.4"
      }
     },
     "704be43d39b54f5185ba44544f2c291d": {
      "model_module": "jupyter-js-widgets",
      "model_module_version": "~2.1.4",
      "model_name": "OutputModel",
      "state": {
       "_dom_classes": [],
       "_model_module": "jupyter-js-widgets",
       "_model_module_version": "~2.1.4",
       "_view_module": "jupyter-js-widgets",
       "_view_module_version": "~2.1.4",
       "layout": "IPY_MODEL_31e2960eb33a455b839e6cfc8cb7cb7b",
       "msg_throttle": 1
      }
     },
     "7149b9de3039462486151351133db59c": {
      "model_module": "jupyter-js-widgets",
      "model_module_version": "~2.1.4",
      "model_name": "LayoutModel",
      "state": {
       "_model_module_version": "~2.1.4",
       "_view_module_version": "~2.1.4"
      }
     },
     "71fc51dedf054970af61e766fc6fa71b": {
      "model_module": "jupyter-js-widgets",
      "model_module_version": "~2.1.4",
      "model_name": "FloatSliderModel",
      "state": {
       "_model_module_version": "~2.1.4",
       "_view_module_version": "~2.1.4",
       "description": "$f\\ \\left(dt = 10^f \\cdot x_0 / v\\right)$",
       "layout": "IPY_MODEL_f58e8236d52a4a019ececfad35c45d55",
       "max": 2,
       "min": -3,
       "value": -2
      }
     },
     "724a73121a364c2e8b0d2276f05e4e8e": {
      "model_module": "jupyter-js-widgets",
      "model_module_version": "~2.1.4",
      "model_name": "OutputModel",
      "state": {
       "_dom_classes": [],
       "_model_module": "jupyter-js-widgets",
       "_model_module_version": "~2.1.4",
       "_view_module": "jupyter-js-widgets",
       "_view_module_version": "~2.1.4",
       "layout": "IPY_MODEL_fc97adc281b94c64b6463d022615f5ef",
       "msg_throttle": 1
      }
     },
     "7328d6cf9b5046d6bce3ebfa57ae114f": {
      "model_module": "jupyter-js-widgets",
      "model_module_version": "~2.1.4",
      "model_name": "VBoxModel",
      "state": {
       "_dom_classes": [
        "widget-interact"
       ],
       "_model_module_version": "~2.1.4",
       "_view_module_version": "~2.1.4",
       "children": [
        "IPY_MODEL_05d065bc6fc44e809119bce984c84728",
        "IPY_MODEL_d87eda43e7954d039a5321b3062a7f09",
        "IPY_MODEL_5a72032d044747c3bdcc4f78c505102c",
        "IPY_MODEL_6db425857df84d87baa43c002e33edbf",
        "IPY_MODEL_416894707293454eab8284915fa9771c",
        "IPY_MODEL_09a64ef04c41443ea09732b326232b8f"
       ],
       "layout": "IPY_MODEL_3db7da391cbc4e3dbbb36e2ec5ea80fe"
      }
     },
     "73b0f970f29a4b2f800fa000586b754d": {
      "model_module": "jupyter-js-widgets",
      "model_module_version": "~2.1.4",
      "model_name": "LayoutModel",
      "state": {
       "_model_module_version": "~2.1.4",
       "_view_module_version": "~2.1.4"
      }
     },
     "74a380a61f134ebc9d16768ea859ae38": {
      "model_module": "jupyter-js-widgets",
      "model_module_version": "~2.1.4",
      "model_name": "LayoutModel",
      "state": {
       "_model_module_version": "~2.1.4",
       "_view_module_version": "~2.1.4",
       "display": "inline-flex",
       "flex_flow": "row wrap",
       "justify_content": "flex-start"
      }
     },
     "7548959e10c04de191b468b2db1b0759": {
      "model_module": "jupyter-js-widgets",
      "model_module_version": "~2.1.4",
      "model_name": "FloatSliderModel",
      "state": {
       "_model_module_version": "~2.1.4",
       "_view_module_version": "~2.1.4",
       "description": "$f\\ \\left(dt = 10^f \\cdot r_0 / v\\right)$",
       "layout": "IPY_MODEL_20568285163148e6965fa4ff3be45012",
       "max": 2,
       "min": -3,
       "value": -2
      }
     },
     "757b570e33bd4324b3497f10d9488355": {
      "model_module": "jupyter-js-widgets",
      "model_module_version": "~2.1.4",
      "model_name": "LayoutModel",
      "state": {
       "_model_module_version": "~2.1.4",
       "_view_module_version": "~2.1.4"
      }
     },
     "75d72b6bfe184bb38083811dc2c41239": {
      "model_module": "jupyter-js-widgets",
      "model_module_version": "~2.1.4",
      "model_name": "LayoutModel",
      "state": {
       "_model_module_version": "~2.1.4",
       "_view_module_version": "~2.1.4"
      }
     },
     "75f5152926da466da33d7a2a50477793": {
      "model_module": "jupyter-js-widgets",
      "model_module_version": "~2.1.4",
      "model_name": "LayoutModel",
      "state": {
       "_model_module_version": "~2.1.4",
       "_view_module_version": "~2.1.4"
      }
     },
     "76174eaddf7c4588997d2b04e57de490": {
      "model_module": "jupyter-js-widgets",
      "model_module_version": "~2.1.4",
      "model_name": "LayoutModel",
      "state": {
       "_model_module_version": "~2.1.4",
       "_view_module_version": "~2.1.4"
      }
     },
     "76634647b7334fc8b57601fb759263d0": {
      "model_module": "jupyter-js-widgets",
      "model_module_version": "~2.1.4",
      "model_name": "LayoutModel",
      "state": {
       "_model_module_version": "~2.1.4",
       "_view_module_version": "~2.1.4"
      }
     },
     "76718267f63848b8ac939c9a465857c0": {
      "model_module": "jupyter-js-widgets",
      "model_module_version": "~2.1.4",
      "model_name": "FloatSliderModel",
      "state": {
       "_model_module_version": "~2.1.4",
       "_view_module_version": "~2.1.4",
       "description": "$-v_y / v_c$",
       "layout": "IPY_MODEL_f90376a44371492992c93cfb05db5dd3",
       "max": 2,
       "min": -2,
       "step": 0.01,
       "value": 1
      }
     },
     "773d219d9a7b49dab91017886d9b60ef": {
      "model_module": "jupyter-js-widgets",
      "model_module_version": "~2.1.4",
      "model_name": "FloatSliderModel",
      "state": {
       "_model_module_version": "~2.1.4",
       "_view_module_version": "~2.1.4",
       "description": "$-v_y / v_c$",
       "layout": "IPY_MODEL_26ec2e1566cc4d8a9b672a13367ef6bb",
       "max": 2,
       "min": -2,
       "step": 0.01,
       "value": 1
      }
     },
     "77659305bfed42079908814c63b24bac": {
      "model_module": "jupyter-js-widgets",
      "model_module_version": "~2.1.4",
      "model_name": "FloatSliderModel",
      "state": {
       "_model_module_version": "~2.1.4",
       "_view_module_version": "~2.1.4",
       "description": "$-v_y / v_c$",
       "layout": "IPY_MODEL_a0981997d78d4a05949569e1aee4453a",
       "max": 2,
       "min": -2,
       "step": 0.01,
       "value": 1
      }
     },
     "77ba3ed95b644160af18bba46c9d6501": {
      "model_module": "jupyter-js-widgets",
      "model_module_version": "~2.1.4",
      "model_name": "LayoutModel",
      "state": {
       "_model_module_version": "~2.1.4",
       "_view_module_version": "~2.1.4"
      }
     },
     "77c7e417bfbb4d4194fac15576fbfad9": {
      "model_module": "jupyter-js-widgets",
      "model_module_version": "~2.1.4",
      "model_name": "LayoutModel",
      "state": {
       "_model_module_version": "~2.1.4",
       "_view_module_version": "~2.1.4"
      }
     },
     "78e89b17428641899dc5e1d218c967ff": {
      "model_module": "jupyter-js-widgets",
      "model_module_version": "~2.1.4",
      "model_name": "LayoutModel",
      "state": {
       "_model_module_version": "~2.1.4",
       "_view_module_version": "~2.1.4"
      }
     },
     "79260389c4dc40b88e3145c057f8422b": {
      "model_module": "jupyter-js-widgets",
      "model_module_version": "~2.1.4",
      "model_name": "LayoutModel",
      "state": {
       "_model_module_version": "~2.1.4",
       "_view_module_version": "~2.1.4"
      }
     },
     "795cfc0f288244f88352a48df10f6ee6": {
      "model_module": "jupyter-js-widgets",
      "model_module_version": "~2.1.4",
      "model_name": "LayoutModel",
      "state": {
       "_model_module_version": "~2.1.4",
       "_view_module_version": "~2.1.4"
      }
     },
     "798499895a494c7fb88c700a9da2d1e2": {
      "model_module": "jupyter-js-widgets",
      "model_module_version": "~2.1.4",
      "model_name": "LayoutModel",
      "state": {
       "_model_module_version": "~2.1.4",
       "_view_module_version": "~2.1.4",
       "display": "inline-flex",
       "flex_flow": "row wrap",
       "justify_content": "flex-start"
      }
     },
     "7998486ee1b742d09cf84bf37232f7c0": {
      "model_module": "jupyter-js-widgets",
      "model_module_version": "~2.1.4",
      "model_name": "FloatSliderModel",
      "state": {
       "_model_module_version": "~2.1.4",
       "_view_module_version": "~2.1.4",
       "description": "$f\\ \\left(dt = 10^f \\cdot r_0 / v\\right)$",
       "layout": "IPY_MODEL_7f10e3742db94227b4790b4d5975d0e4",
       "max": 2,
       "min": -3,
       "value": -2
      }
     },
     "7a6dd1ae7c1c415691a3e3f5587c3512": {
      "model_module": "jupyter-js-widgets",
      "model_module_version": "~2.1.4",
      "model_name": "LayoutModel",
      "state": {
       "_model_module_version": "~2.1.4",
       "_view_module_version": "~2.1.4"
      }
     },
     "7b5d0e30bd2c4d729951084106315fa7": {
      "model_module": "jupyter-js-widgets",
      "model_module_version": "~2.1.4",
      "model_name": "LayoutModel",
      "state": {
       "_model_module_version": "~2.1.4",
       "_view_module_version": "~2.1.4"
      }
     },
     "7b696d0b042f497584a3c7f97dfd5445": {
      "model_module": "jupyter-js-widgets",
      "model_module_version": "~2.1.4",
      "model_name": "FloatSliderModel",
      "state": {
       "_model_module_version": "~2.1.4",
       "_view_module_version": "~2.1.4",
       "description": "$f\\ \\left(dt = 10^f \\cdot r_0 / v\\right)$",
       "layout": "IPY_MODEL_be4fb56df6ef4cb4acfd7681afa2bf30",
       "max": 2,
       "min": -3,
       "value": -2
      }
     },
     "7c3b4221f6d64ce5bd81bcb4bf653d78": {
      "model_module": "jupyter-js-widgets",
      "model_module_version": "~2.1.4",
      "model_name": "LayoutModel",
      "state": {
       "_model_module_version": "~2.1.4",
       "_view_module_version": "~2.1.4"
      }
     },
     "7c6151c84ca640f1ac730a5dd2ec3e64": {
      "model_module": "jupyter-js-widgets",
      "model_module_version": "~2.1.4",
      "model_name": "VBoxModel",
      "state": {
       "_dom_classes": [
        "widget-interact"
       ],
       "_model_module_version": "~2.1.4",
       "_view_module_version": "~2.1.4",
       "children": [
        "IPY_MODEL_aef82d52c3d4415290740e9b28746950",
        "IPY_MODEL_84de4251fb924f98ab7b26cd8a5182ed",
        "IPY_MODEL_13e38dcd971e4d62846a576641df5521",
        "IPY_MODEL_c1cf1298919c4650b34fe6c1484cc470",
        "IPY_MODEL_f75be5578e4c4adb98d374dacc1f1233",
        "IPY_MODEL_9a4b18b8b87b465292b24aa8dbfa340b"
       ],
       "layout": "IPY_MODEL_d8ff755fe1a54be082cd5004aab67a85"
      }
     },
     "7c696291136d48c6ad3c44d7147c92ac": {
      "model_module": "jupyter-js-widgets",
      "model_module_version": "~2.1.4",
      "model_name": "LayoutModel",
      "state": {
       "_model_module_version": "~2.1.4",
       "_view_module_version": "~2.1.4"
      }
     },
     "7d8a001e75a640aebfd629b1f813a38c": {
      "model_module": "jupyter-js-widgets",
      "model_module_version": "~2.1.4",
      "model_name": "FloatSliderModel",
      "state": {
       "_model_module_version": "~2.1.4",
       "_view_module_version": "~2.1.4",
       "description": "$v_x / v_c$",
       "layout": "IPY_MODEL_6beeec4d6f7346d8862f9f30437823bd",
       "max": 2,
       "min": -2,
       "step": 0.01,
       "value": 0.12
      }
     },
     "7e64c86de0494a1c999de08ded19ee6b": {
      "model_module": "jupyter-js-widgets",
      "model_module_version": "~2.1.4",
      "model_name": "LayoutModel",
      "state": {
       "_model_module_version": "~2.1.4",
       "_view_module_version": "~2.1.4"
      }
     },
     "7e8887085ce841d183e371b769ea85d4": {
      "model_module": "jupyter-js-widgets",
      "model_module_version": "~2.1.4",
      "model_name": "LayoutModel",
      "state": {
       "_model_module_version": "~2.1.4",
       "_view_module_version": "~2.1.4"
      }
     },
     "7eaa4f71ffb3440780ea0822e218f55a": {
      "model_module": "jupyter-js-widgets",
      "model_module_version": "~2.1.4",
      "model_name": "FloatSliderModel",
      "state": {
       "_model_module_version": "~2.1.4",
       "_view_module_version": "~2.1.4",
       "description": "$-v_y / v_c$",
       "layout": "IPY_MODEL_795cfc0f288244f88352a48df10f6ee6",
       "max": 2,
       "min": -2,
       "step": 0.01,
       "value": 0.84
      }
     },
     "7eda509d3ad145688e311949359e61cc": {
      "model_module": "jupyter-js-widgets",
      "model_module_version": "~2.1.4",
      "model_name": "LayoutModel",
      "state": {
       "_model_module_version": "~2.1.4",
       "_view_module_version": "~2.1.4"
      }
     },
     "7f10e3742db94227b4790b4d5975d0e4": {
      "model_module": "jupyter-js-widgets",
      "model_module_version": "~2.1.4",
      "model_name": "LayoutModel",
      "state": {
       "_model_module_version": "~2.1.4",
       "_view_module_version": "~2.1.4"
      }
     },
     "7f6effe96e384407a14867d08d55ca50": {
      "model_module": "jupyter-js-widgets",
      "model_module_version": "~2.1.4",
      "model_name": "FloatSliderModel",
      "state": {
       "_model_module_version": "~2.1.4",
       "_view_module_version": "~2.1.4",
       "description": "$T$ / $1\\ year$",
       "layout": "IPY_MODEL_b1bdef3ed5f643f999cf4d48501d812e",
       "max": 5,
       "min": 0.1,
       "step": 0.01,
       "value": 1
      }
     },
     "7feaecc82a644ed1932ba0f6d5769545": {
      "model_module": "jupyter-js-widgets",
      "model_module_version": "~2.1.4",
      "model_name": "LayoutModel",
      "state": {
       "_model_module_version": "~2.1.4",
       "_view_module_version": "~2.1.4"
      }
     },
     "80a6bce18d7c4b48b4dd077c32a379c3": {
      "model_module": "jupyter-js-widgets",
      "model_module_version": "~2.1.4",
      "model_name": "LayoutModel",
      "state": {
       "_model_module_version": "~2.1.4",
       "_view_module_version": "~2.1.4"
      }
     },
     "8171b7cd896443fea856f889919b908a": {
      "model_module": "jupyter-js-widgets",
      "model_module_version": "~2.1.4",
      "model_name": "LayoutModel",
      "state": {
       "_model_module_version": "~2.1.4",
       "_view_module_version": "~2.1.4"
      }
     },
     "826a03d7e4294a008fd880c0588fb440": {
      "model_module": "jupyter-js-widgets",
      "model_module_version": "~2.1.4",
      "model_name": "LayoutModel",
      "state": {
       "_model_module_version": "~2.1.4",
       "_view_module_version": "~2.1.4"
      }
     },
     "8287d98bb1c1432e8b757b47f6994bfc": {
      "model_module": "jupyter-js-widgets",
      "model_module_version": "~2.1.4",
      "model_name": "FloatSliderModel",
      "state": {
       "_model_module_version": "~2.1.4",
       "_view_module_version": "~2.1.4",
       "description": "$T$ / $1\\ year$",
       "layout": "IPY_MODEL_36c605fbaa3b4228a4632c5bc949c98f",
       "max": 5,
       "min": 0.1,
       "step": 0.01,
       "value": 1
      }
     },
     "828db9b38b5f4c40889b4e4c61fbd867": {
      "model_module": "jupyter-js-widgets",
      "model_module_version": "~2.1.4",
      "model_name": "FloatSliderModel",
      "state": {
       "_model_module_version": "~2.1.4",
       "_view_module_version": "~2.1.4",
       "description": "$-r_x / 1$ $AU$",
       "layout": "IPY_MODEL_94fd62ca8b694a1fbdd6ad77c1f8c6bf",
       "max": 2,
       "min": 0.1,
       "step": 0.01,
       "value": 1
      }
     },
     "828f2aef28aa4b58879c25394a9b84ac": {
      "model_module": "jupyter-js-widgets",
      "model_module_version": "~2.1.4",
      "model_name": "LayoutModel",
      "state": {
       "_model_module_version": "~2.1.4",
       "_view_module_version": "~2.1.4"
      }
     },
     "82d8ef000cf44068b351083fd42839da": {
      "model_module": "jupyter-js-widgets",
      "model_module_version": "~2.1.4",
      "model_name": "LayoutModel",
      "state": {
       "_model_module_version": "~2.1.4",
       "_view_module_version": "~2.1.4"
      }
     },
     "82f4adc8fefe445598d86d1dfea30695": {
      "model_module": "jupyter-js-widgets",
      "model_module_version": "~2.1.4",
      "model_name": "LayoutModel",
      "state": {
       "_model_module_version": "~2.1.4",
       "_view_module_version": "~2.1.4",
       "display": "inline-flex",
       "flex_flow": "row wrap",
       "justify_content": "flex-start"
      }
     },
     "834b187a28a84fcfbad57cf25d0de88e": {
      "model_module": "jupyter-js-widgets",
      "model_module_version": "~2.1.4",
      "model_name": "LayoutModel",
      "state": {
       "_model_module_version": "~2.1.4",
       "_view_module_version": "~2.1.4"
      }
     },
     "83621bb1b3dc4d4aa184229f2422d8bb": {
      "model_module": "jupyter-js-widgets",
      "model_module_version": "~2.1.4",
      "model_name": "FloatSliderModel",
      "state": {
       "_model_module_version": "~2.1.4",
       "_view_module_version": "~2.1.4",
       "description": "$v_x / v_c$",
       "layout": "IPY_MODEL_f1980b2826d74cd281289309ce2d2d88",
       "max": 2,
       "min": -2,
       "step": 0.01
      }
     },
     "846e72eb3ea34cb99c5299a90e220890": {
      "model_module": "jupyter-js-widgets",
      "model_module_version": "~2.1.4",
      "model_name": "LayoutModel",
      "state": {
       "_model_module_version": "~2.1.4",
       "_view_module_version": "~2.1.4"
      }
     },
     "84de4251fb924f98ab7b26cd8a5182ed": {
      "model_module": "jupyter-js-widgets",
      "model_module_version": "~2.1.4",
      "model_name": "FloatSliderModel",
      "state": {
       "_model_module_version": "~2.1.4",
       "_view_module_version": "~2.1.4",
       "description": "$v_x / v_c$",
       "layout": "IPY_MODEL_3e3920aee77e40128fed6f8efca9414b",
       "max": 2,
       "min": -2,
       "step": 0.01
      }
     },
     "850df3dbb2cf49819920d151c9d5b872": {
      "model_module": "jupyter-js-widgets",
      "model_module_version": "~2.1.4",
      "model_name": "OutputModel",
      "state": {
       "_dom_classes": [],
       "_model_module": "jupyter-js-widgets",
       "_model_module_version": "~2.1.4",
       "_view_module": "jupyter-js-widgets",
       "_view_module_version": "~2.1.4",
       "layout": "IPY_MODEL_828f2aef28aa4b58879c25394a9b84ac",
       "msg_throttle": 1
      }
     },
     "8558c76747a946a694ba51a39a58df3a": {
      "model_module": "jupyter-js-widgets",
      "model_module_version": "~2.1.4",
      "model_name": "LayoutModel",
      "state": {
       "_model_module_version": "~2.1.4",
       "_view_module_version": "~2.1.4"
      }
     },
     "85e711ee7c7c4a9c8feb9d011068129b": {
      "model_module": "jupyter-js-widgets",
      "model_module_version": "~2.1.4",
      "model_name": "FloatSliderModel",
      "state": {
       "_model_module_version": "~2.1.4",
       "_view_module_version": "~2.1.4",
       "description": "$-r_x / 1$ $AU$",
       "layout": "IPY_MODEL_8a65e155b0494507862903a3861eccf6",
       "max": 2,
       "min": 0.1,
       "step": 0.01,
       "value": 1
      }
     },
     "86726aeb2e5542cfbd0dad6372a6ee63": {
      "model_module": "jupyter-js-widgets",
      "model_module_version": "~2.1.4",
      "model_name": "FloatSliderModel",
      "state": {
       "_model_module_version": "~2.1.4",
       "_view_module_version": "~2.1.4",
       "description": "$T$ / $1\\ year$",
       "layout": "IPY_MODEL_77ba3ed95b644160af18bba46c9d6501",
       "max": 5,
       "min": 0.1,
       "step": 0.01,
       "value": 1
      }
     },
     "8730e9d0962d4c92a91348541ef3fef2": {
      "model_module": "jupyter-js-widgets",
      "model_module_version": "~2.1.4",
      "model_name": "FloatSliderModel",
      "state": {
       "_model_module_version": "~2.1.4",
       "_view_module_version": "~2.1.4",
       "description": "$v_x / v_c$",
       "layout": "IPY_MODEL_d7d42b29da614eec9ad6ad8471b5c037",
       "max": 2,
       "min": -2,
       "step": 0.01
      }
     },
     "87ce987b266e4a4fad11ea94d34680b7": {
      "model_module": "jupyter-js-widgets",
      "model_module_version": "~2.1.4",
      "model_name": "LayoutModel",
      "state": {
       "_model_module_version": "~2.1.4",
       "_view_module_version": "~2.1.4"
      }
     },
     "88036ec46fff461e88f1e14f99182a14": {
      "model_module": "jupyter-js-widgets",
      "model_module_version": "~2.1.4",
      "model_name": "LayoutModel",
      "state": {
       "_model_module_version": "~2.1.4",
       "_view_module_version": "~2.1.4",
       "display": "inline-flex",
       "flex_flow": "row wrap",
       "justify_content": "flex-start"
      }
     },
     "8846bd75a3aa48eb8299597831317605": {
      "model_module": "jupyter-js-widgets",
      "model_module_version": "~2.1.4",
      "model_name": "LayoutModel",
      "state": {
       "_model_module_version": "~2.1.4",
       "_view_module_version": "~2.1.4"
      }
     },
     "88aeb5a55a0543ca9ffde6602f4cddfe": {
      "model_module": "jupyter-js-widgets",
      "model_module_version": "~2.1.4",
      "model_name": "OutputModel",
      "state": {
       "_dom_classes": [],
       "_model_module": "jupyter-js-widgets",
       "_model_module_version": "~2.1.4",
       "_view_module": "jupyter-js-widgets",
       "_view_module_version": "~2.1.4",
       "layout": "IPY_MODEL_3335a919ca834806ad27e3debb612563",
       "msg_throttle": 1
      }
     },
     "88f5c2f73ef4430bb12363d47b3893bb": {
      "model_module": "jupyter-js-widgets",
      "model_module_version": "~2.1.4",
      "model_name": "LayoutModel",
      "state": {
       "_model_module_version": "~2.1.4",
       "_view_module_version": "~2.1.4"
      }
     },
     "8a2c61688cea45d0bf8b6c9e918b17a6": {
      "model_module": "jupyter-js-widgets",
      "model_module_version": "~2.1.4",
      "model_name": "FloatSliderModel",
      "state": {
       "_model_module_version": "~2.1.4",
       "_view_module_version": "~2.1.4",
       "description": "$-r_x / 1$ $AU$",
       "layout": "IPY_MODEL_a8eebfc036644072b576fcccf45da997",
       "max": 2,
       "min": 0.1,
       "step": 0.01,
       "value": 1
      }
     },
     "8a5b7511c220495eb315b7e292e4041f": {
      "model_module": "jupyter-js-widgets",
      "model_module_version": "~2.1.4",
      "model_name": "FloatSliderModel",
      "state": {
       "_model_module_version": "~2.1.4",
       "_view_module_version": "~2.1.4",
       "description": "$-v_y / v_c$",
       "layout": "IPY_MODEL_0e971255c5df46c4819e5e4da0dd9bef",
       "max": 2,
       "min": -2,
       "step": 0.01,
       "value": 1
      }
     },
     "8a65e155b0494507862903a3861eccf6": {
      "model_module": "jupyter-js-widgets",
      "model_module_version": "~2.1.4",
      "model_name": "LayoutModel",
      "state": {
       "_model_module_version": "~2.1.4",
       "_view_module_version": "~2.1.4"
      }
     },
     "8aec087e849446d98455ad39a9a50a1e": {
      "model_module": "jupyter-js-widgets",
      "model_module_version": "~2.1.4",
      "model_name": "FloatSliderModel",
      "state": {
       "_model_module_version": "~2.1.4",
       "_view_module_version": "~2.1.4",
       "description": "$T$ / $1\\ year$",
       "layout": "IPY_MODEL_c8cea670e3dc442e8e099dd7661d7c0a",
       "max": 5,
       "min": 0.1,
       "step": 0.01,
       "value": 1
      }
     },
     "8b8ee1f566504bdb96e6a2cdba925e84": {
      "model_module": "jupyter-js-widgets",
      "model_module_version": "~2.1.4",
      "model_name": "FloatSliderModel",
      "state": {
       "_model_module_version": "~2.1.4",
       "_view_module_version": "~2.1.4",
       "description": "$f\\ \\left(dt = 10^f \\cdot r_0 / v\\right)$",
       "layout": "IPY_MODEL_6599ee1ddf224561adc7cd25ec637312",
       "max": 2,
       "min": -3
      }
     },
     "8c02f318d9254355b77daf4ed8eef997": {
      "model_module": "jupyter-js-widgets",
      "model_module_version": "~2.1.4",
      "model_name": "LayoutModel",
      "state": {
       "_model_module_version": "~2.1.4",
       "_view_module_version": "~2.1.4"
      }
     },
     "8c320c0755a347c6b24421eb7f2e968b": {
      "model_module": "jupyter-js-widgets",
      "model_module_version": "~2.1.4",
      "model_name": "FloatSliderModel",
      "state": {
       "_model_module_version": "~2.1.4",
       "_view_module_version": "~2.1.4",
       "description": "$v_x / v_c$",
       "layout": "IPY_MODEL_77c7e417bfbb4d4194fac15576fbfad9",
       "max": 2,
       "min": -2,
       "step": 0.01,
       "value": 0.43
      }
     },
     "8c7b608428c4496e85085b08791687d7": {
      "model_module": "jupyter-js-widgets",
      "model_module_version": "~2.1.4",
      "model_name": "LayoutModel",
      "state": {
       "_model_module_version": "~2.1.4",
       "_view_module_version": "~2.1.4"
      }
     },
     "8cd10a8c9b944df38aa5f8d16326f631": {
      "model_module": "jupyter-js-widgets",
      "model_module_version": "~2.1.4",
      "model_name": "LayoutModel",
      "state": {
       "_model_module_version": "~2.1.4",
       "_view_module_version": "~2.1.4",
       "display": "inline-flex",
       "flex_flow": "row wrap",
       "justify_content": "flex-start"
      }
     },
     "8d20679ba42141049d2e71df3e20f259": {
      "model_module": "jupyter-js-widgets",
      "model_module_version": "~2.1.4",
      "model_name": "VBoxModel",
      "state": {
       "_dom_classes": [
        "widget-interact"
       ],
       "_model_module_version": "~2.1.4",
       "_view_module_version": "~2.1.4",
       "children": [
        "IPY_MODEL_45d1911a9e2b40a2a92e1ac533bff31b",
        "IPY_MODEL_aa9b56f860e041f78d0f41745f15f411",
        "IPY_MODEL_91db79808bdf451ba0e86f199f6f6be6",
        "IPY_MODEL_acbc43e359e140989a7f17dc657dd980",
        "IPY_MODEL_d3b22afedbfc4c89974267a15c49ba53",
        "IPY_MODEL_a9e43bf70f644082aab1a594209fadfa"
       ],
       "layout": "IPY_MODEL_e15f52efdeeb441bbcfdc6013c8d9304"
      }
     },
     "8d4907942a2b4373b386ea47b098a4d6": {
      "model_module": "jupyter-js-widgets",
      "model_module_version": "~2.1.4",
      "model_name": "LayoutModel",
      "state": {
       "_model_module_version": "~2.1.4",
       "_view_module_version": "~2.1.4"
      }
     },
     "8e8bb3fbf3de4d3db3f52811f38f9fc0": {
      "model_module": "jupyter-js-widgets",
      "model_module_version": "~2.1.4",
      "model_name": "VBoxModel",
      "state": {
       "_dom_classes": [
        "widget-interact"
       ],
       "_model_module_version": "~2.1.4",
       "_view_module_version": "~2.1.4",
       "children": [
        "IPY_MODEL_fdf42c51d512433ebb8f22b02b2d8cde",
        "IPY_MODEL_164b49d3258547fd9e4ddf8bd6e212f4",
        "IPY_MODEL_a754c8ed282945518c312a507b45e5f9",
        "IPY_MODEL_edff28acc1194125bff9afb2c11b291f",
        "IPY_MODEL_3b372500ca4145bb8fdae627a856cb83",
        "IPY_MODEL_f44e7cd8cbdc4db38388abcec7b140e2"
       ],
       "layout": "IPY_MODEL_0f0424541f934042bdc8f07c5e352cdd"
      }
     },
     "8ed64ddf01804f08ad3a79da8410f41c": {
      "model_module": "jupyter-js-widgets",
      "model_module_version": "~2.1.4",
      "model_name": "FloatSliderModel",
      "state": {
       "_model_module_version": "~2.1.4",
       "_view_module_version": "~2.1.4",
       "description": "$v_x / v_c$",
       "layout": "IPY_MODEL_55ccd611ab084bbd8d9cb11211d42b3a",
       "max": 2,
       "min": -2,
       "step": 0.01
      }
     },
     "8eef67f3ac55492a90af3bae89f88a2b": {
      "model_module": "jupyter-js-widgets",
      "model_module_version": "~2.1.4",
      "model_name": "OutputModel",
      "state": {
       "_dom_classes": [],
       "_model_module": "jupyter-js-widgets",
       "_model_module_version": "~2.1.4",
       "_view_module": "jupyter-js-widgets",
       "_view_module_version": "~2.1.4",
       "layout": "IPY_MODEL_0277090c10d94c769cf5554409c4cf26",
       "msg_throttle": 1
      }
     },
     "8f3f678f3d094658a84bd5c5c71b5f53": {
      "model_module": "jupyter-js-widgets",
      "model_module_version": "~2.1.4",
      "model_name": "LayoutModel",
      "state": {
       "_model_module_version": "~2.1.4",
       "_view_module_version": "~2.1.4"
      }
     },
     "901a46adde0b43c8bb76de8259ebc22b": {
      "model_module": "jupyter-js-widgets",
      "model_module_version": "~2.1.4",
      "model_name": "FloatSliderModel",
      "state": {
       "_model_module_version": "~2.1.4",
       "_view_module_version": "~2.1.4",
       "description": "$T$ / $1\\ year$",
       "layout": "IPY_MODEL_76174eaddf7c4588997d2b04e57de490",
       "max": 5,
       "min": 0.1,
       "step": 0.01,
       "value": 2.28
      }
     },
     "90a23acdb9a94947b15283baf371f25c": {
      "model_module": "jupyter-js-widgets",
      "model_module_version": "~2.1.4",
      "model_name": "LayoutModel",
      "state": {
       "_model_module_version": "~2.1.4",
       "_view_module_version": "~2.1.4"
      }
     },
     "90ab63938737478abe0fe6360d5da1e9": {
      "model_module": "jupyter-js-widgets",
      "model_module_version": "~2.1.4",
      "model_name": "LayoutModel",
      "state": {
       "_model_module_version": "~2.1.4",
       "_view_module_version": "~2.1.4"
      }
     },
     "90d829cd6d214e0bbfa2898d66063abe": {
      "model_module": "jupyter-js-widgets",
      "model_module_version": "~2.1.4",
      "model_name": "LayoutModel",
      "state": {
       "_model_module_version": "~2.1.4",
       "_view_module_version": "~2.1.4"
      }
     },
     "90ec152c0c604b15a01cedf390e72ba3": {
      "model_module": "jupyter-js-widgets",
      "model_module_version": "~2.1.4",
      "model_name": "FloatSliderModel",
      "state": {
       "_model_module_version": "~2.1.4",
       "_view_module_version": "~2.1.4",
       "description": "$-r_x / 1$ $AU$",
       "layout": "IPY_MODEL_4cc69bf32ec4492c810fd4588835ac39",
       "max": 2,
       "min": 0.1,
       "step": 0.01,
       "value": 1
      }
     },
     "91db79808bdf451ba0e86f199f6f6be6": {
      "model_module": "jupyter-js-widgets",
      "model_module_version": "~2.1.4",
      "model_name": "FloatSliderModel",
      "state": {
       "_model_module_version": "~2.1.4",
       "_view_module_version": "~2.1.4",
       "description": "$-v_y / v_c$",
       "layout": "IPY_MODEL_d44ac5e2a60a43d9b66bbbb602da94e6",
       "max": 2,
       "min": -2,
       "step": 0.01,
       "value": 1
      }
     },
     "91f88d22955743e4ad463d62a309bd00": {
      "model_module": "jupyter-js-widgets",
      "model_module_version": "~2.1.4",
      "model_name": "LayoutModel",
      "state": {
       "_model_module_version": "~2.1.4",
       "_view_module_version": "~2.1.4"
      }
     },
     "926a8684151344d7bf23341a578e4ce1": {
      "model_module": "jupyter-js-widgets",
      "model_module_version": "~2.1.4",
      "model_name": "FloatSliderModel",
      "state": {
       "_model_module_version": "~2.1.4",
       "_view_module_version": "~2.1.4",
       "description": "$-r_x / 1$ $AU$",
       "layout": "IPY_MODEL_bb44561505414ea0a761361293914a2f",
       "max": 2,
       "min": 0.1,
       "step": 0.01,
       "value": 1
      }
     },
     "92a2c8dd4be448f1a40346012d6ca0a4": {
      "model_module": "jupyter-js-widgets",
      "model_module_version": "~2.1.4",
      "model_name": "FloatSliderModel",
      "state": {
       "_model_module_version": "~2.1.4",
       "_view_module_version": "~2.1.4",
       "description": "$-r_x / 1$ $AU$",
       "layout": "IPY_MODEL_f606f9eaa9a645f68514f3a47decff77",
       "max": 2,
       "min": 0.1,
       "step": 0.01,
       "value": 1
      }
     },
     "94423b0ebc224ce38ad1f5419a3ad168": {
      "model_module": "jupyter-js-widgets",
      "model_module_version": "~2.1.4",
      "model_name": "OutputModel",
      "state": {
       "_dom_classes": [],
       "_model_module": "jupyter-js-widgets",
       "_model_module_version": "~2.1.4",
       "_view_module": "jupyter-js-widgets",
       "_view_module_version": "~2.1.4",
       "layout": "IPY_MODEL_babd389a615b4171af210f75f576fb7c",
       "msg_throttle": 1
      }
     },
     "947a6798247046df8540e2195c7ec50e": {
      "model_module": "jupyter-js-widgets",
      "model_module_version": "~2.1.4",
      "model_name": "LayoutModel",
      "state": {
       "_model_module_version": "~2.1.4",
       "_view_module_version": "~2.1.4"
      }
     },
     "94bb5bbfea1c41a9b19660b788449e21": {
      "model_module": "jupyter-js-widgets",
      "model_module_version": "~2.1.4",
      "model_name": "VBoxModel",
      "state": {
       "_dom_classes": [
        "widget-interact"
       ],
       "_model_module_version": "~2.1.4",
       "_view_module_version": "~2.1.4",
       "children": [
        "IPY_MODEL_926a8684151344d7bf23341a578e4ce1",
        "IPY_MODEL_9df5bc8f12cb4cfe8e39ec59170379b6",
        "IPY_MODEL_96d32fdccf464afb92501545a095951f",
        "IPY_MODEL_7f6effe96e384407a14867d08d55ca50",
        "IPY_MODEL_950acb08a51244eabfe51853d3d99086",
        "IPY_MODEL_a632b76ea7e84a8aaa67eb28523ba418"
       ],
       "layout": "IPY_MODEL_055e8fec03714b3db2fc814401a8946b"
      }
     },
     "94fd62ca8b694a1fbdd6ad77c1f8c6bf": {
      "model_module": "jupyter-js-widgets",
      "model_module_version": "~2.1.4",
      "model_name": "LayoutModel",
      "state": {
       "_model_module_version": "~2.1.4",
       "_view_module_version": "~2.1.4"
      }
     },
     "950acb08a51244eabfe51853d3d99086": {
      "model_module": "jupyter-js-widgets",
      "model_module_version": "~2.1.4",
      "model_name": "FloatSliderModel",
      "state": {
       "_model_module_version": "~2.1.4",
       "_view_module_version": "~2.1.4",
       "description": "$f\\ \\left(dt = 10^f \\cdot x_0 / v\\right)$",
       "layout": "IPY_MODEL_47742c1363cb4aaab33b950f8e0068fe",
       "max": 2,
       "min": -3,
       "value": -2
      }
     },
     "950cd3b210d9464a84af3cdeeb724fc2": {
      "model_module": "jupyter-js-widgets",
      "model_module_version": "~2.1.4",
      "model_name": "FloatSliderModel",
      "state": {
       "_model_module_version": "~2.1.4",
       "_view_module_version": "~2.1.4",
       "description": "$f\\ \\left(dt = 10^f \\cdot r_0 / v\\right)$",
       "layout": "IPY_MODEL_5847f6baff1849c3a7a22761340520f9",
       "max": 2,
       "min": -3,
       "value": -2
      }
     },
     "957a5e5ae5204f91b39d6f19ecc9aac1": {
      "model_module": "jupyter-js-widgets",
      "model_module_version": "~2.1.4",
      "model_name": "FloatSliderModel",
      "state": {
       "_model_module_version": "~2.1.4",
       "_view_module_version": "~2.1.4",
       "description": "$T$ / $1\\ year$",
       "layout": "IPY_MODEL_33689ff7de2b427296cbf70e1c1fff0c",
       "max": 5,
       "min": 0.1,
       "step": 0.01,
       "value": 2.12
      }
     },
     "95cd0c8557f842b5a7023de1a9d8fad2": {
      "model_module": "jupyter-js-widgets",
      "model_module_version": "~2.1.4",
      "model_name": "LayoutModel",
      "state": {
       "_model_module_version": "~2.1.4",
       "_view_module_version": "~2.1.4"
      }
     },
     "95d674b3f42f46ba886d6ff58861aea8": {
      "model_module": "jupyter-js-widgets",
      "model_module_version": "~2.1.4",
      "model_name": "LayoutModel",
      "state": {
       "_model_module_version": "~2.1.4",
       "_view_module_version": "~2.1.4"
      }
     },
     "96158478ffdd491fa2b7317d8d6e12ff": {
      "model_module": "jupyter-js-widgets",
      "model_module_version": "~2.1.4",
      "model_name": "LayoutModel",
      "state": {
       "_model_module_version": "~2.1.4",
       "_view_module_version": "~2.1.4"
      }
     },
     "9657dc6294cd4a1f8673cebcce434573": {
      "model_module": "jupyter-js-widgets",
      "model_module_version": "~2.1.4",
      "model_name": "LayoutModel",
      "state": {
       "_model_module_version": "~2.1.4",
       "_view_module_version": "~2.1.4"
      }
     },
     "96d32fdccf464afb92501545a095951f": {
      "model_module": "jupyter-js-widgets",
      "model_module_version": "~2.1.4",
      "model_name": "FloatSliderModel",
      "state": {
       "_model_module_version": "~2.1.4",
       "_view_module_version": "~2.1.4",
       "description": "$-v_y / v_c$",
       "layout": "IPY_MODEL_c7c56b8509584bd2b665a1a5a1567e72",
       "max": 2,
       "min": -2,
       "step": 0.01,
       "value": 1
      }
     },
     "97b4949fa2524b83accde7eb76f2c87e": {
      "model_module": "jupyter-js-widgets",
      "model_module_version": "~2.1.4",
      "model_name": "LayoutModel",
      "state": {
       "_model_module_version": "~2.1.4",
       "_view_module_version": "~2.1.4"
      }
     },
     "97dfbd6119864ddd88b488973e634f90": {
      "model_module": "jupyter-js-widgets",
      "model_module_version": "~2.1.4",
      "model_name": "FloatSliderModel",
      "state": {
       "_model_module_version": "~2.1.4",
       "_view_module_version": "~2.1.4",
       "description": "$-r_x / 1$ $AU$",
       "layout": "IPY_MODEL_39c1855c7b6b49e3b5c0ca1ceb49b188",
       "max": 2,
       "min": 0.1,
       "step": 0.01,
       "value": 1
      }
     },
     "994f2c5d8dbd41ee81b86c2f609e9525": {
      "model_module": "jupyter-js-widgets",
      "model_module_version": "~2.1.4",
      "model_name": "FloatSliderModel",
      "state": {
       "_model_module_version": "~2.1.4",
       "_view_module_version": "~2.1.4",
       "description": "$f\\ \\left(dt = 10^f \\cdot x_0 / v\\right)$",
       "layout": "IPY_MODEL_11376b15e24649149563dc2f60f9e664",
       "max": 2,
       "min": -3,
       "value": -1
      }
     },
     "9966ec6798bb4167a937be54e59e5192": {
      "model_module": "jupyter-js-widgets",
      "model_module_version": "~2.1.4",
      "model_name": "LayoutModel",
      "state": {
       "_model_module_version": "~2.1.4",
       "_view_module_version": "~2.1.4"
      }
     },
     "9967d9b827ee4ec89c25c3bdd0c68481": {
      "model_module": "jupyter-js-widgets",
      "model_module_version": "~2.1.4",
      "model_name": "FloatSliderModel",
      "state": {
       "_model_module_version": "~2.1.4",
       "_view_module_version": "~2.1.4",
       "description": "$f\\ \\left(dt = 10^f \\cdot r_0 / v\\right)$",
       "layout": "IPY_MODEL_2418d54b758a4e37ac5d3128932b25af",
       "max": 2,
       "min": -3,
       "value": -2
      }
     },
     "99f6cdf21a4e4da2ae06356ea9eb0bb1": {
      "model_module": "jupyter-js-widgets",
      "model_module_version": "~2.1.4",
      "model_name": "FloatSliderModel",
      "state": {
       "_model_module_version": "~2.1.4",
       "_view_module_version": "~2.1.4",
       "description": "$-v_y / v_c$",
       "layout": "IPY_MODEL_61463b1996cd40ca8b1dfff32813b26b",
       "max": 2,
       "min": -2,
       "step": 0.01,
       "value": 1
      }
     },
     "9a419a6c33a8471c8a06c84e0ae1085a": {
      "model_module": "jupyter-js-widgets",
      "model_module_version": "~2.1.4",
      "model_name": "LayoutModel",
      "state": {
       "_model_module_version": "~2.1.4",
       "_view_module_version": "~2.1.4"
      }
     },
     "9a4b18b8b87b465292b24aa8dbfa340b": {
      "model_module": "jupyter-js-widgets",
      "model_module_version": "~2.1.4",
      "model_name": "OutputModel",
      "state": {
       "_dom_classes": [],
       "_model_module": "jupyter-js-widgets",
       "_model_module_version": "~2.1.4",
       "_view_module": "jupyter-js-widgets",
       "_view_module_version": "~2.1.4",
       "layout": "IPY_MODEL_88f5c2f73ef4430bb12363d47b3893bb",
       "msg_throttle": 1
      }
     },
     "9ad04e5cbdc7432ab37a9777fe6b035b": {
      "model_module": "jupyter-js-widgets",
      "model_module_version": "~2.1.4",
      "model_name": "LayoutModel",
      "state": {
       "_model_module_version": "~2.1.4",
       "_view_module_version": "~2.1.4"
      }
     },
     "9cff98bec6e34513a472521d1ab720bd": {
      "model_module": "jupyter-js-widgets",
      "model_module_version": "~2.1.4",
      "model_name": "LayoutModel",
      "state": {
       "_model_module_version": "~2.1.4",
       "_view_module_version": "~2.1.4"
      }
     },
     "9d135f9ec72d40c7a78bec012e6f30b7": {
      "model_module": "jupyter-js-widgets",
      "model_module_version": "~2.1.4",
      "model_name": "LayoutModel",
      "state": {
       "_model_module_version": "~2.1.4",
       "_view_module_version": "~2.1.4"
      }
     },
     "9d3e77fb240e4d65ae0962589e378b12": {
      "model_module": "jupyter-js-widgets",
      "model_module_version": "~2.1.4",
      "model_name": "LayoutModel",
      "state": {
       "_model_module_version": "~2.1.4",
       "_view_module_version": "~2.1.4"
      }
     },
     "9dd6090b641f4d51972a216ac4da3800": {
      "model_module": "jupyter-js-widgets",
      "model_module_version": "~2.1.4",
      "model_name": "FloatSliderModel",
      "state": {
       "_model_module_version": "~2.1.4",
       "_view_module_version": "~2.1.4",
       "description": "$f\\ \\left(dt = 10^f \\cdot r_0 / v\\right)$",
       "layout": "IPY_MODEL_90a23acdb9a94947b15283baf371f25c",
       "max": 2,
       "min": -3,
       "value": -2
      }
     },
     "9df5bc8f12cb4cfe8e39ec59170379b6": {
      "model_module": "jupyter-js-widgets",
      "model_module_version": "~2.1.4",
      "model_name": "FloatSliderModel",
      "state": {
       "_model_module_version": "~2.1.4",
       "_view_module_version": "~2.1.4",
       "description": "$v_x / v_c$",
       "layout": "IPY_MODEL_d7d36d1edf604af0acb6f49699d7a008",
       "max": 2,
       "min": -2,
       "step": 0.01
      }
     },
     "9fe38584174f4125a47b5ad3afb224f9": {
      "model_module": "jupyter-js-widgets",
      "model_module_version": "~2.1.4",
      "model_name": "FloatSliderModel",
      "state": {
       "_model_module_version": "~2.1.4",
       "_view_module_version": "~2.1.4",
       "description": "$f\\ \\left(dt = 10^f \\cdot r_0 / v\\right)$",
       "layout": "IPY_MODEL_1f772a82b1ab4f86a8eed63243daaeb2",
       "max": 2,
       "min": -3,
       "value": -1
      }
     },
     "a0981997d78d4a05949569e1aee4453a": {
      "model_module": "jupyter-js-widgets",
      "model_module_version": "~2.1.4",
      "model_name": "LayoutModel",
      "state": {
       "_model_module_version": "~2.1.4",
       "_view_module_version": "~2.1.4"
      }
     },
     "a169c3393bab4141ba201e2d84aa430a": {
      "model_module": "jupyter-js-widgets",
      "model_module_version": "~2.1.4",
      "model_name": "LayoutModel",
      "state": {
       "_model_module_version": "~2.1.4",
       "_view_module_version": "~2.1.4"
      }
     },
     "a18285931b9d4b94a5844581f54871e3": {
      "model_module": "jupyter-js-widgets",
      "model_module_version": "~2.1.4",
      "model_name": "LayoutModel",
      "state": {
       "_model_module_version": "~2.1.4",
       "_view_module_version": "~2.1.4"
      }
     },
     "a23d9278e37840a4b4642a417bf925bc": {
      "model_module": "jupyter-js-widgets",
      "model_module_version": "~2.1.4",
      "model_name": "FloatSliderModel",
      "state": {
       "_model_module_version": "~2.1.4",
       "_view_module_version": "~2.1.4",
       "description": "$-v_y / v_c$",
       "layout": "IPY_MODEL_6592d08f5834408bafcf71b0e44bba73",
       "max": 2,
       "min": -2,
       "step": 0.01,
       "value": 1
      }
     },
     "a35e07a82a3b4e66a1b4ebda813a26e2": {
      "model_module": "jupyter-js-widgets",
      "model_module_version": "~2.1.4",
      "model_name": "OutputModel",
      "state": {
       "_dom_classes": [],
       "_model_module": "jupyter-js-widgets",
       "_model_module_version": "~2.1.4",
       "_view_module": "jupyter-js-widgets",
       "_view_module_version": "~2.1.4",
       "layout": "IPY_MODEL_16659364b3ef4ac8937f9523d56ff209",
       "msg_throttle": 1
      }
     },
     "a39e59583f1f4f99b134c51ac9535407": {
      "model_module": "jupyter-js-widgets",
      "model_module_version": "~2.1.4",
      "model_name": "LayoutModel",
      "state": {
       "_model_module_version": "~2.1.4",
       "_view_module_version": "~2.1.4",
       "display": "inline-flex",
       "flex_flow": "row wrap",
       "justify_content": "flex-start"
      }
     },
     "a50222c105354c84b870f34449aa6364": {
      "model_module": "jupyter-js-widgets",
      "model_module_version": "~2.1.4",
      "model_name": "LayoutModel",
      "state": {
       "_model_module_version": "~2.1.4",
       "_view_module_version": "~2.1.4"
      }
     },
     "a54cfa61a54d4e7c83a8b604808cb601": {
      "model_module": "jupyter-js-widgets",
      "model_module_version": "~2.1.4",
      "model_name": "FloatSliderModel",
      "state": {
       "_model_module_version": "~2.1.4",
       "_view_module_version": "~2.1.4",
       "description": "$-r_x / 1$ $AU$",
       "layout": "IPY_MODEL_616689ff296643a6a868f99e200b56c1",
       "max": 2,
       "min": 0.1,
       "step": 0.01,
       "value": 1
      }
     },
     "a632b76ea7e84a8aaa67eb28523ba418": {
      "model_module": "jupyter-js-widgets",
      "model_module_version": "~2.1.4",
      "model_name": "OutputModel",
      "state": {
       "_dom_classes": [],
       "_model_module": "jupyter-js-widgets",
       "_model_module_version": "~2.1.4",
       "_view_module": "jupyter-js-widgets",
       "_view_module_version": "~2.1.4",
       "layout": "IPY_MODEL_fd0d6a50751147c396a4d148a9255689",
       "msg_throttle": 1
      }
     },
     "a6d904fc3ac04d31829b3536e7562be4": {
      "model_module": "jupyter-js-widgets",
      "model_module_version": "~2.1.4",
      "model_name": "LayoutModel",
      "state": {
       "_model_module_version": "~2.1.4",
       "_view_module_version": "~2.1.4"
      }
     },
     "a6eebca21fa44741b73ab4fdc5cb1e93": {
      "model_module": "jupyter-js-widgets",
      "model_module_version": "~2.1.4",
      "model_name": "VBoxModel",
      "state": {
       "_dom_classes": [
        "widget-interact"
       ],
       "_model_module_version": "~2.1.4",
       "_view_module_version": "~2.1.4",
       "children": [
        "IPY_MODEL_e86ca36a68c0457088979f23cd81868e",
        "IPY_MODEL_60cb4a60825e4e7ba1ef531d13a3716b",
        "IPY_MODEL_0552eae71ca14ebaa64b904a2db70802",
        "IPY_MODEL_8287d98bb1c1432e8b757b47f6994bfc",
        "IPY_MODEL_9dd6090b641f4d51972a216ac4da3800",
        "IPY_MODEL_1f778f0966844874a95e1c105164227d"
       ],
       "layout": "IPY_MODEL_af7437663f104649bea9c8f1506ed04b"
      }
     },
     "a754c8ed282945518c312a507b45e5f9": {
      "model_module": "jupyter-js-widgets",
      "model_module_version": "~2.1.4",
      "model_name": "FloatSliderModel",
      "state": {
       "_model_module_version": "~2.1.4",
       "_view_module_version": "~2.1.4",
       "description": "$-v_y / v_c$",
       "layout": "IPY_MODEL_2c2e683c3a36439188d07520a4891a15",
       "max": 2,
       "min": -2,
       "step": 0.01,
       "value": 1
      }
     },
     "a7c40abd5f03473a84da5d0e5b5b406d": {
      "model_module": "jupyter-js-widgets",
      "model_module_version": "~2.1.4",
      "model_name": "FloatSliderModel",
      "state": {
       "_model_module_version": "~2.1.4",
       "_view_module_version": "~2.1.4",
       "description": "$-v_y / v_c$",
       "layout": "IPY_MODEL_1136d3bb257d47cb99919f822d4944f2",
       "max": 2,
       "min": -2,
       "step": 0.01,
       "value": 1
      }
     },
     "a7d8604be511490f92f8347452bd8a3a": {
      "model_module": "jupyter-js-widgets",
      "model_module_version": "~2.1.4",
      "model_name": "FloatSliderModel",
      "state": {
       "_model_module_version": "~2.1.4",
       "_view_module_version": "~2.1.4",
       "description": "$v_x / v_c$",
       "layout": "IPY_MODEL_b516b775d0964fd48bf95667babc89af",
       "max": 2,
       "min": -2,
       "step": 0.01,
       "value": 0.11
      }
     },
     "a8090c2346fd44a6a93652cc58382ad6": {
      "model_module": "jupyter-js-widgets",
      "model_module_version": "~2.1.4",
      "model_name": "LayoutModel",
      "state": {
       "_model_module_version": "~2.1.4",
       "_view_module_version": "~2.1.4"
      }
     },
     "a83793ae63d9416c824f9920ff64e3c0": {
      "model_module": "jupyter-js-widgets",
      "model_module_version": "~2.1.4",
      "model_name": "LayoutModel",
      "state": {
       "_model_module_version": "~2.1.4",
       "_view_module_version": "~2.1.4"
      }
     },
     "a84bc5b143c54ac98fc871d0bb6253c0": {
      "model_module": "jupyter-js-widgets",
      "model_module_version": "~2.1.4",
      "model_name": "FloatSliderModel",
      "state": {
       "_model_module_version": "~2.1.4",
       "_view_module_version": "~2.1.4",
       "description": "$-r_x / 1$ $AU$",
       "layout": "IPY_MODEL_cd65ec9d27374f188e3bc042d55dc995",
       "max": 2,
       "min": 0.1,
       "step": 0.01,
       "value": 0.64
      }
     },
     "a8a0e64f53d842488782dcb201e3ff96": {
      "model_module": "jupyter-js-widgets",
      "model_module_version": "~2.1.4",
      "model_name": "LayoutModel",
      "state": {
       "_model_module_version": "~2.1.4",
       "_view_module_version": "~2.1.4"
      }
     },
     "a8eebfc036644072b576fcccf45da997": {
      "model_module": "jupyter-js-widgets",
      "model_module_version": "~2.1.4",
      "model_name": "LayoutModel",
      "state": {
       "_model_module_version": "~2.1.4",
       "_view_module_version": "~2.1.4"
      }
     },
     "a9746f91725b4ed68ae9136be921310a": {
      "model_module": "jupyter-js-widgets",
      "model_module_version": "~2.1.4",
      "model_name": "LayoutModel",
      "state": {
       "_model_module_version": "~2.1.4",
       "_view_module_version": "~2.1.4"
      }
     },
     "a9c0aad0a91d4232bc4dadd10c4c8dc0": {
      "model_module": "jupyter-js-widgets",
      "model_module_version": "~2.1.4",
      "model_name": "LayoutModel",
      "state": {
       "_model_module_version": "~2.1.4",
       "_view_module_version": "~2.1.4"
      }
     },
     "a9e43bf70f644082aab1a594209fadfa": {
      "model_module": "jupyter-js-widgets",
      "model_module_version": "~2.1.4",
      "model_name": "OutputModel",
      "state": {
       "_dom_classes": [],
       "_model_module": "jupyter-js-widgets",
       "_model_module_version": "~2.1.4",
       "_view_module": "jupyter-js-widgets",
       "_view_module_version": "~2.1.4",
       "layout": "IPY_MODEL_58fcfda40df048638ffef6f7ee8ca160",
       "msg_id": "10B19A44896A407284455AE3D9715026",
       "msg_throttle": 1
      }
     },
     "aa9b56f860e041f78d0f41745f15f411": {
      "model_module": "jupyter-js-widgets",
      "model_module_version": "~2.1.4",
      "model_name": "FloatSliderModel",
      "state": {
       "_model_module_version": "~2.1.4",
       "_view_module_version": "~2.1.4",
       "description": "$v_x / v_c$",
       "layout": "IPY_MODEL_34418abdeb4c49cf8e8865629bcd048f",
       "max": 2,
       "min": -2,
       "step": 0.01
      }
     },
     "ac08a476f1694d17a1af37c556fe4736": {
      "model_module": "jupyter-js-widgets",
      "model_module_version": "~2.1.4",
      "model_name": "LayoutModel",
      "state": {
       "_model_module_version": "~2.1.4",
       "_view_module_version": "~2.1.4"
      }
     },
     "acbc43e359e140989a7f17dc657dd980": {
      "model_module": "jupyter-js-widgets",
      "model_module_version": "~2.1.4",
      "model_name": "FloatSliderModel",
      "state": {
       "_model_module_version": "~2.1.4",
       "_view_module_version": "~2.1.4",
       "description": "$T$ / $1\\ year$",
       "layout": "IPY_MODEL_c9cd46e283bf45f7af88ac5daf459da1",
       "max": 5,
       "min": 0.1,
       "step": 0.01,
       "value": 1
      }
     },
     "acd10f7e99564c6fa1187dd947d6a798": {
      "model_module": "jupyter-js-widgets",
      "model_module_version": "~2.1.4",
      "model_name": "FloatSliderModel",
      "state": {
       "_model_module_version": "~2.1.4",
       "_view_module_version": "~2.1.4",
       "description": "$-r_x / 1$ $AU$",
       "layout": "IPY_MODEL_52866efed1c94f6e9bf92c3cbe62a51f",
       "max": 2,
       "min": 0.1,
       "step": 0.01,
       "value": 1
      }
     },
     "ad4d5154a8ec42b2935af24882a8a664": {
      "model_module": "jupyter-js-widgets",
      "model_module_version": "~2.1.4",
      "model_name": "FloatSliderModel",
      "state": {
       "_model_module_version": "~2.1.4",
       "_view_module_version": "~2.1.4",
       "description": "$-v_y / v_c$",
       "layout": "IPY_MODEL_834b187a28a84fcfbad57cf25d0de88e",
       "max": 2,
       "min": -2,
       "step": 0.01,
       "value": -1.06
      }
     },
     "ad785cc986694f49900981bae573a444": {
      "model_module": "jupyter-js-widgets",
      "model_module_version": "~2.1.4",
      "model_name": "LayoutModel",
      "state": {
       "_model_module_version": "~2.1.4",
       "_view_module_version": "~2.1.4"
      }
     },
     "ad8095b8304e4819b8257d05a4264db0": {
      "model_module": "jupyter-js-widgets",
      "model_module_version": "~2.1.4",
      "model_name": "LayoutModel",
      "state": {
       "_model_module_version": "~2.1.4",
       "_view_module_version": "~2.1.4"
      }
     },
     "aeb58c3b248044c796740e7377195ab7": {
      "model_module": "jupyter-js-widgets",
      "model_module_version": "~2.1.4",
      "model_name": "FloatSliderModel",
      "state": {
       "_model_module_version": "~2.1.4",
       "_view_module_version": "~2.1.4",
       "description": "$-v_y / v_c$",
       "layout": "IPY_MODEL_757b570e33bd4324b3497f10d9488355",
       "max": 2,
       "min": -2,
       "step": 0.01,
       "value": 1
      }
     },
     "aef82d52c3d4415290740e9b28746950": {
      "model_module": "jupyter-js-widgets",
      "model_module_version": "~2.1.4",
      "model_name": "FloatSliderModel",
      "state": {
       "_model_module_version": "~2.1.4",
       "_view_module_version": "~2.1.4",
       "description": "$-r_x / 1$ $AU$",
       "layout": "IPY_MODEL_3007b351490d4327b331d1e50bbf3a83",
       "max": 2,
       "min": 0.1,
       "step": 0.01,
       "value": 1
      }
     },
     "af682254f5f64530b2abeaa84749e6b6": {
      "model_module": "jupyter-js-widgets",
      "model_module_version": "~2.1.4",
      "model_name": "LayoutModel",
      "state": {
       "_model_module_version": "~2.1.4",
       "_view_module_version": "~2.1.4"
      }
     },
     "af7437663f104649bea9c8f1506ed04b": {
      "model_module": "jupyter-js-widgets",
      "model_module_version": "~2.1.4",
      "model_name": "LayoutModel",
      "state": {
       "_model_module_version": "~2.1.4",
       "_view_module_version": "~2.1.4",
       "display": "inline-flex",
       "flex_flow": "row wrap",
       "justify_content": "flex-start"
      }
     },
     "af9f3eb1a25743e0a80d0a034634bdf4": {
      "model_module": "jupyter-js-widgets",
      "model_module_version": "~2.1.4",
      "model_name": "FloatSliderModel",
      "state": {
       "_model_module_version": "~2.1.4",
       "_view_module_version": "~2.1.4",
       "description": "$-r_x / 1$ $AU$",
       "layout": "IPY_MODEL_b62b1a10797742ecae2c022031759d7a",
       "max": 2,
       "min": 0.1,
       "step": 0.01,
       "value": 1.02
      }
     },
     "aff78c1dbfa444b690339c26fca9ee74": {
      "model_module": "jupyter-js-widgets",
      "model_module_version": "~2.1.4",
      "model_name": "OutputModel",
      "state": {
       "_dom_classes": [],
       "_model_module": "jupyter-js-widgets",
       "_model_module_version": "~2.1.4",
       "_view_module": "jupyter-js-widgets",
       "_view_module_version": "~2.1.4",
       "layout": "IPY_MODEL_38fe71493dab4f64b8bcf5eabaf086a4",
       "msg_throttle": 1
      }
     },
     "b08fa8286dad4ce69a2753f3368ba0e3": {
      "model_module": "jupyter-js-widgets",
      "model_module_version": "~2.1.4",
      "model_name": "LayoutModel",
      "state": {
       "_model_module_version": "~2.1.4",
       "_view_module_version": "~2.1.4"
      }
     },
     "b1bdef3ed5f643f999cf4d48501d812e": {
      "model_module": "jupyter-js-widgets",
      "model_module_version": "~2.1.4",
      "model_name": "LayoutModel",
      "state": {
       "_model_module_version": "~2.1.4",
       "_view_module_version": "~2.1.4"
      }
     },
     "b275588735f74c51a7c5739c6ceeed07": {
      "model_module": "jupyter-js-widgets",
      "model_module_version": "~2.1.4",
      "model_name": "LayoutModel",
      "state": {
       "_model_module_version": "~2.1.4",
       "_view_module_version": "~2.1.4",
       "display": "inline-flex",
       "flex_flow": "row wrap",
       "justify_content": "flex-start"
      }
     },
     "b2f5dd7f5b3949369b4e91650431e364": {
      "model_module": "jupyter-js-widgets",
      "model_module_version": "~2.1.4",
      "model_name": "LayoutModel",
      "state": {
       "_model_module_version": "~2.1.4",
       "_view_module_version": "~2.1.4"
      }
     },
     "b34f0cf298054e3bb1e7383d7450915e": {
      "model_module": "jupyter-js-widgets",
      "model_module_version": "~2.1.4",
      "model_name": "VBoxModel",
      "state": {
       "_dom_classes": [
        "widget-interact"
       ],
       "_model_module_version": "~2.1.4",
       "_view_module_version": "~2.1.4",
       "children": [
        "IPY_MODEL_01822ad9f18049d894dcbadc6d73e615",
        "IPY_MODEL_18a42571a372455e8ee8004575423aa5",
        "IPY_MODEL_4e530c59aaec441ba118485327ad548c",
        "IPY_MODEL_39c00e1123764133b0004d1da557f828",
        "IPY_MODEL_d24e17c5382c4bd380e6fd7696dcb3b5",
        "IPY_MODEL_ccafa2c5f6da43afb83d0c61f4213f4c"
       ],
       "layout": "IPY_MODEL_1f0e64b5bc85473592dd1840fee91fb2"
      }
     },
     "b378c75b25754862aad459c1802702b8": {
      "model_module": "jupyter-js-widgets",
      "model_module_version": "~2.1.4",
      "model_name": "OutputModel",
      "state": {
       "_dom_classes": [],
       "_model_module": "jupyter-js-widgets",
       "_model_module_version": "~2.1.4",
       "_view_module": "jupyter-js-widgets",
       "_view_module_version": "~2.1.4",
       "layout": "IPY_MODEL_7eda509d3ad145688e311949359e61cc",
       "msg_throttle": 1
      }
     },
     "b42ee0b5fc764e859b9a39156c911140": {
      "model_module": "jupyter-js-widgets",
      "model_module_version": "~2.1.4",
      "model_name": "LayoutModel",
      "state": {
       "_model_module_version": "~2.1.4",
       "_view_module_version": "~2.1.4"
      }
     },
     "b431f3927f60418d8f0aa77d8be059aa": {
      "model_module": "jupyter-js-widgets",
      "model_module_version": "~2.1.4",
      "model_name": "LayoutModel",
      "state": {
       "_model_module_version": "~2.1.4",
       "_view_module_version": "~2.1.4"
      }
     },
     "b4740fa3d0a242c4bdbf5493740f9372": {
      "model_module": "jupyter-js-widgets",
      "model_module_version": "~2.1.4",
      "model_name": "FloatSliderModel",
      "state": {
       "_model_module_version": "~2.1.4",
       "_view_module_version": "~2.1.4",
       "description": "$-r_x / 1$ $AU$",
       "layout": "IPY_MODEL_e1a3e88596e948aba35e593ef024cead",
       "max": 2,
       "min": 0.1,
       "step": 0.01,
       "value": 1
      }
     },
     "b4d3c1957f98499a882a6d87fe1ce2c9": {
      "model_module": "jupyter-js-widgets",
      "model_module_version": "~2.1.4",
      "model_name": "FloatSliderModel",
      "state": {
       "_model_module_version": "~2.1.4",
       "_view_module_version": "~2.1.4",
       "description": "$T$ / $1\\ year$",
       "layout": "IPY_MODEL_0e41ba8e74d041a48828c76fc95f0726",
       "max": 5,
       "min": 0.1,
       "step": 0.01,
       "value": 1
      }
     },
     "b50221f2d9914e14a0f6542f49ee56e0": {
      "model_module": "jupyter-js-widgets",
      "model_module_version": "~2.1.4",
      "model_name": "LayoutModel",
      "state": {
       "_model_module_version": "~2.1.4",
       "_view_module_version": "~2.1.4"
      }
     },
     "b516b775d0964fd48bf95667babc89af": {
      "model_module": "jupyter-js-widgets",
      "model_module_version": "~2.1.4",
      "model_name": "LayoutModel",
      "state": {
       "_model_module_version": "~2.1.4",
       "_view_module_version": "~2.1.4"
      }
     },
     "b518b84d12574018909ac2661632188a": {
      "model_module": "jupyter-js-widgets",
      "model_module_version": "~2.1.4",
      "model_name": "FloatSliderModel",
      "state": {
       "_model_module_version": "~2.1.4",
       "_view_module_version": "~2.1.4",
       "description": "$v_x / v_c$",
       "layout": "IPY_MODEL_c3c94bb4ab4a41b3b677ed11509291fc",
       "max": 2,
       "min": -2,
       "step": 0.01
      }
     },
     "b62b1a10797742ecae2c022031759d7a": {
      "model_module": "jupyter-js-widgets",
      "model_module_version": "~2.1.4",
      "model_name": "LayoutModel",
      "state": {
       "_model_module_version": "~2.1.4",
       "_view_module_version": "~2.1.4"
      }
     },
     "b899bee510a34e6fade9bbe71377f963": {
      "model_module": "jupyter-js-widgets",
      "model_module_version": "~2.1.4",
      "model_name": "LayoutModel",
      "state": {
       "_model_module_version": "~2.1.4",
       "_view_module_version": "~2.1.4",
       "display": "inline-flex",
       "flex_flow": "row wrap",
       "justify_content": "flex-start"
      }
     },
     "b8b6623c556b4bc29316395838c8f964": {
      "model_module": "jupyter-js-widgets",
      "model_module_version": "~2.1.4",
      "model_name": "LayoutModel",
      "state": {
       "_model_module_version": "~2.1.4",
       "_view_module_version": "~2.1.4"
      }
     },
     "b8ff9594df7e41fe8dcb0ecef07f5150": {
      "model_module": "jupyter-js-widgets",
      "model_module_version": "~2.1.4",
      "model_name": "VBoxModel",
      "state": {
       "_dom_classes": [
        "widget-interact"
       ],
       "_model_module_version": "~2.1.4",
       "_view_module_version": "~2.1.4",
       "children": [
        "IPY_MODEL_5f9c987f131e4088ab62382441e79875",
        "IPY_MODEL_61c7473bb70e451a9897f6a70a4a39ed",
        "IPY_MODEL_141308e5b7d446ab81dd070088932b6a",
        "IPY_MODEL_5e5adabc287042a8b7f07b2fc565b154",
        "IPY_MODEL_e88a2dba21214a8bbeb46414bc91943f",
        "IPY_MODEL_704be43d39b54f5185ba44544f2c291d"
       ],
       "layout": "IPY_MODEL_82f4adc8fefe445598d86d1dfea30695"
      }
     },
     "b9d2112f40b04d5e83453bda595673fa": {
      "model_module": "jupyter-js-widgets",
      "model_module_version": "~2.1.4",
      "model_name": "LayoutModel",
      "state": {
       "_model_module_version": "~2.1.4",
       "_view_module_version": "~2.1.4"
      }
     },
     "b9dbad2150ba4a7897baeb5cc70d5602": {
      "model_module": "jupyter-js-widgets",
      "model_module_version": "~2.1.4",
      "model_name": "FloatSliderModel",
      "state": {
       "_model_module_version": "~2.1.4",
       "_view_module_version": "~2.1.4",
       "description": "$-r_x / 1$ $AU$",
       "layout": "IPY_MODEL_66947ed58b3446fe81a5838e5e6209c7",
       "max": 2,
       "min": 0.1,
       "step": 0.01,
       "value": 0.75
      }
     },
     "ba5cb4c657bb40f9b7fb3c50fafd5bd1": {
      "model_module": "jupyter-js-widgets",
      "model_module_version": "~2.1.4",
      "model_name": "FloatSliderModel",
      "state": {
       "_model_module_version": "~2.1.4",
       "_view_module_version": "~2.1.4",
       "description": "$T$ / $1\\ year$",
       "layout": "IPY_MODEL_80a6bce18d7c4b48b4dd077c32a379c3",
       "max": 5,
       "min": 0.1,
       "step": 0.01,
       "value": 1
      }
     },
     "ba8b9d67e87f40668858fbd953a46259": {
      "model_module": "jupyter-js-widgets",
      "model_module_version": "~2.1.4",
      "model_name": "FloatSliderModel",
      "state": {
       "_model_module_version": "~2.1.4",
       "_view_module_version": "~2.1.4",
       "description": "$v_x / v_c$",
       "layout": "IPY_MODEL_e2751648ea9e4d68aaf650d84b819b86",
       "max": 2,
       "min": -2,
       "step": 0.01
      }
     },
     "babd389a615b4171af210f75f576fb7c": {
      "model_module": "jupyter-js-widgets",
      "model_module_version": "~2.1.4",
      "model_name": "LayoutModel",
      "state": {
       "_model_module_version": "~2.1.4",
       "_view_module_version": "~2.1.4"
      }
     },
     "baf6c04de64c426da135f75511183a94": {
      "model_module": "jupyter-js-widgets",
      "model_module_version": "~2.1.4",
      "model_name": "LayoutModel",
      "state": {
       "_model_module_version": "~2.1.4",
       "_view_module_version": "~2.1.4"
      }
     },
     "bb13d3895fdf49e79e44b394f4fada4d": {
      "model_module": "jupyter-js-widgets",
      "model_module_version": "~2.1.4",
      "model_name": "LayoutModel",
      "state": {
       "_model_module_version": "~2.1.4",
       "_view_module_version": "~2.1.4"
      }
     },
     "bb44561505414ea0a761361293914a2f": {
      "model_module": "jupyter-js-widgets",
      "model_module_version": "~2.1.4",
      "model_name": "LayoutModel",
      "state": {
       "_model_module_version": "~2.1.4",
       "_view_module_version": "~2.1.4"
      }
     },
     "bc4c006c0380401aa6ae97654121a36a": {
      "model_module": "jupyter-js-widgets",
      "model_module_version": "~2.1.4",
      "model_name": "LayoutModel",
      "state": {
       "_model_module_version": "~2.1.4",
       "_view_module_version": "~2.1.4"
      }
     },
     "bd00094ac4204e80839ea6b0b12ace59": {
      "model_module": "jupyter-js-widgets",
      "model_module_version": "~2.1.4",
      "model_name": "LayoutModel",
      "state": {
       "_model_module_version": "~2.1.4",
       "_view_module_version": "~2.1.4"
      }
     },
     "bd7a5f6ec756421983d921d330f149b7": {
      "model_module": "jupyter-js-widgets",
      "model_module_version": "~2.1.4",
      "model_name": "LayoutModel",
      "state": {
       "_model_module_version": "~2.1.4",
       "_view_module_version": "~2.1.4"
      }
     },
     "bda13c2fd3454f32be363f552664e33a": {
      "model_module": "jupyter-js-widgets",
      "model_module_version": "~2.1.4",
      "model_name": "LayoutModel",
      "state": {
       "_model_module_version": "~2.1.4",
       "_view_module_version": "~2.1.4"
      }
     },
     "be4fb56df6ef4cb4acfd7681afa2bf30": {
      "model_module": "jupyter-js-widgets",
      "model_module_version": "~2.1.4",
      "model_name": "LayoutModel",
      "state": {
       "_model_module_version": "~2.1.4",
       "_view_module_version": "~2.1.4"
      }
     },
     "be6024f89a3848e1ac3bf0f898a174d6": {
      "model_module": "jupyter-js-widgets",
      "model_module_version": "~2.1.4",
      "model_name": "OutputModel",
      "state": {
       "_dom_classes": [],
       "_model_module": "jupyter-js-widgets",
       "_model_module_version": "~2.1.4",
       "_view_module": "jupyter-js-widgets",
       "_view_module_version": "~2.1.4",
       "layout": "IPY_MODEL_8846bd75a3aa48eb8299597831317605",
       "msg_throttle": 1
      }
     },
     "be79ed786aec4828a69b203f66901b48": {
      "model_module": "jupyter-js-widgets",
      "model_module_version": "~2.1.4",
      "model_name": "LayoutModel",
      "state": {
       "_model_module_version": "~2.1.4",
       "_view_module_version": "~2.1.4"
      }
     },
     "bf035584b596447e9e93dee96e409d35": {
      "model_module": "jupyter-js-widgets",
      "model_module_version": "~2.1.4",
      "model_name": "VBoxModel",
      "state": {
       "_dom_classes": [
        "widget-interact"
       ],
       "_model_module_version": "~2.1.4",
       "_view_module_version": "~2.1.4",
       "children": [
        "IPY_MODEL_17fc145a2e1843f781e54871cfb7f4e0",
        "IPY_MODEL_b518b84d12574018909ac2661632188a",
        "IPY_MODEL_76718267f63848b8ac939c9a465857c0",
        "IPY_MODEL_c3df81d56e0841218d0b043650c2bebb",
        "IPY_MODEL_7998486ee1b742d09cf84bf37232f7c0",
        "IPY_MODEL_fbbbf346e3ee42c0a87d4d2f4f4e73ed"
       ],
       "layout": "IPY_MODEL_e9ba675954bd43c990a414e6d2ec3043"
      }
     },
     "c0e99ceca08e403eab18597e6ca535d9": {
      "model_module": "jupyter-js-widgets",
      "model_module_version": "~2.1.4",
      "model_name": "FloatSliderModel",
      "state": {
       "_model_module_version": "~2.1.4",
       "_view_module_version": "~2.1.4",
       "description": "$T$ / $1\\ year$",
       "layout": "IPY_MODEL_9cff98bec6e34513a472521d1ab720bd",
       "max": 5,
       "min": 0.1,
       "step": 0.01,
       "value": 1
      }
     },
     "c153e4f3bc5e48c9b17e46d6723f92bf": {
      "model_module": "jupyter-js-widgets",
      "model_module_version": "~2.1.4",
      "model_name": "LayoutModel",
      "state": {
       "_model_module_version": "~2.1.4",
       "_view_module_version": "~2.1.4",
       "display": "inline-flex",
       "flex_flow": "row wrap",
       "justify_content": "flex-start"
      }
     },
     "c1cf1298919c4650b34fe6c1484cc470": {
      "model_module": "jupyter-js-widgets",
      "model_module_version": "~2.1.4",
      "model_name": "FloatSliderModel",
      "state": {
       "_model_module_version": "~2.1.4",
       "_view_module_version": "~2.1.4",
       "description": "$T$ / $1\\ year$",
       "layout": "IPY_MODEL_319a50a777fb46248e1720b0949595fa",
       "max": 5,
       "min": 0.1,
       "step": 0.01,
       "value": 1
      }
     },
     "c23d369b8e2e4fe581095a4b808131a8": {
      "model_module": "jupyter-js-widgets",
      "model_module_version": "~2.1.4",
      "model_name": "LayoutModel",
      "state": {
       "_model_module_version": "~2.1.4",
       "_view_module_version": "~2.1.4"
      }
     },
     "c268aa5dd48a463faa06672fb3e49491": {
      "model_module": "jupyter-js-widgets",
      "model_module_version": "~2.1.4",
      "model_name": "LayoutModel",
      "state": {
       "_model_module_version": "~2.1.4",
       "_view_module_version": "~2.1.4"
      }
     },
     "c359b098c8e74447ab4840e3bbb077a5": {
      "model_module": "jupyter-js-widgets",
      "model_module_version": "~2.1.4",
      "model_name": "VBoxModel",
      "state": {
       "_dom_classes": [
        "widget-interact"
       ],
       "_model_module_version": "~2.1.4",
       "_view_module_version": "~2.1.4",
       "children": [
        "IPY_MODEL_41bd0e78108c432285a55ba3ed73fcd6",
        "IPY_MODEL_7d8a001e75a640aebfd629b1f813a38c",
        "IPY_MODEL_142d938f26e34bbb9adb837d39ba4824",
        "IPY_MODEL_901a46adde0b43c8bb76de8259ebc22b",
        "IPY_MODEL_8b8ee1f566504bdb96e6a2cdba925e84",
        "IPY_MODEL_38e66f1aa47e4821956127bdb6b74ae4"
       ],
       "layout": "IPY_MODEL_24260ed243d443528c458f59b2b01bbe"
      }
     },
     "c3c94bb4ab4a41b3b677ed11509291fc": {
      "model_module": "jupyter-js-widgets",
      "model_module_version": "~2.1.4",
      "model_name": "LayoutModel",
      "state": {
       "_model_module_version": "~2.1.4",
       "_view_module_version": "~2.1.4"
      }
     },
     "c3df81d56e0841218d0b043650c2bebb": {
      "model_module": "jupyter-js-widgets",
      "model_module_version": "~2.1.4",
      "model_name": "FloatSliderModel",
      "state": {
       "_model_module_version": "~2.1.4",
       "_view_module_version": "~2.1.4",
       "description": "$T$ / $1\\ year$",
       "layout": "IPY_MODEL_bd00094ac4204e80839ea6b0b12ace59",
       "max": 5,
       "min": 0.1,
       "step": 0.01,
       "value": 1
      }
     },
     "c5870e3983554f03be2b65afdfd75273": {
      "model_module": "jupyter-js-widgets",
      "model_module_version": "~2.1.4",
      "model_name": "LayoutModel",
      "state": {
       "_model_module_version": "~2.1.4",
       "_view_module_version": "~2.1.4"
      }
     },
     "c58f67b849c44a94a80c490c048d9825": {
      "model_module": "jupyter-js-widgets",
      "model_module_version": "~2.1.4",
      "model_name": "FloatSliderModel",
      "state": {
       "_model_module_version": "~2.1.4",
       "_view_module_version": "~2.1.4",
       "description": "$T$ / $1\\ year$",
       "layout": "IPY_MODEL_1c350460f3ff4f50a1bd1dfd0627c470",
       "max": 5,
       "min": 0.1,
       "step": 0.01,
       "value": 2.66
      }
     },
     "c59da8a263ab42939d63b94f60185ff0": {
      "model_module": "jupyter-js-widgets",
      "model_module_version": "~2.1.4",
      "model_name": "LayoutModel",
      "state": {
       "_model_module_version": "~2.1.4",
       "_view_module_version": "~2.1.4"
      }
     },
     "c5e651b3b5cd4bfb8774a595a06d8330": {
      "model_module": "jupyter-js-widgets",
      "model_module_version": "~2.1.4",
      "model_name": "LayoutModel",
      "state": {
       "_model_module_version": "~2.1.4",
       "_view_module_version": "~2.1.4"
      }
     },
     "c6e6b64f87fe4ac7b37bb8ee9c681ac1": {
      "model_module": "jupyter-js-widgets",
      "model_module_version": "~2.1.4",
      "model_name": "LayoutModel",
      "state": {
       "_model_module_version": "~2.1.4",
       "_view_module_version": "~2.1.4",
       "display": "inline-flex",
       "flex_flow": "row wrap",
       "justify_content": "flex-start"
      }
     },
     "c7251307491f4e738a64f8e95bcae47d": {
      "model_module": "jupyter-js-widgets",
      "model_module_version": "~2.1.4",
      "model_name": "LayoutModel",
      "state": {
       "_model_module_version": "~2.1.4",
       "_view_module_version": "~2.1.4"
      }
     },
     "c7c56b8509584bd2b665a1a5a1567e72": {
      "model_module": "jupyter-js-widgets",
      "model_module_version": "~2.1.4",
      "model_name": "LayoutModel",
      "state": {
       "_model_module_version": "~2.1.4",
       "_view_module_version": "~2.1.4"
      }
     },
     "c8a68cce9b904b648451e6b486eed6b7": {
      "model_module": "jupyter-js-widgets",
      "model_module_version": "~2.1.4",
      "model_name": "FloatSliderModel",
      "state": {
       "_model_module_version": "~2.1.4",
       "_view_module_version": "~2.1.4",
       "description": "$-v_y / v_c$",
       "layout": "IPY_MODEL_6b6559b07f294f1eb774d0ae77256748",
       "max": 2,
       "min": -2,
       "step": 0.01,
       "value": 1
      }
     },
     "c8bf3ca0d47844829b2da5019077f475": {
      "model_module": "jupyter-js-widgets",
      "model_module_version": "~2.1.4",
      "model_name": "FloatSliderModel",
      "state": {
       "_model_module_version": "~2.1.4",
       "_view_module_version": "~2.1.4",
       "description": "$f\\ \\left(dt = 10^f \\cdot r_0 / v\\right)$",
       "layout": "IPY_MODEL_fd575fcffaf546c2acf74ee79ca751e5",
       "max": 2,
       "min": -3,
       "value": -2
      }
     },
     "c8cea670e3dc442e8e099dd7661d7c0a": {
      "model_module": "jupyter-js-widgets",
      "model_module_version": "~2.1.4",
      "model_name": "LayoutModel",
      "state": {
       "_model_module_version": "~2.1.4",
       "_view_module_version": "~2.1.4"
      }
     },
     "c9cd46e283bf45f7af88ac5daf459da1": {
      "model_module": "jupyter-js-widgets",
      "model_module_version": "~2.1.4",
      "model_name": "LayoutModel",
      "state": {
       "_model_module_version": "~2.1.4",
       "_view_module_version": "~2.1.4"
      }
     },
     "c9e73dcfd1bf48e28c2038b095cbb4e3": {
      "model_module": "jupyter-js-widgets",
      "model_module_version": "~2.1.4",
      "model_name": "VBoxModel",
      "state": {
       "_dom_classes": [
        "widget-interact"
       ],
       "_model_module_version": "~2.1.4",
       "_view_module_version": "~2.1.4",
       "children": [
        "IPY_MODEL_828db9b38b5f4c40889b4e4c61fbd867",
        "IPY_MODEL_8730e9d0962d4c92a91348541ef3fef2",
        "IPY_MODEL_4b65ac5f4e8a4cb5966b7a11436311ca",
        "IPY_MODEL_0d2ea3e7c066424bbbdd9e3e13de123a",
        "IPY_MODEL_50a6d533ca534e9ba810fe7b95e7680e",
        "IPY_MODEL_0672887186f4495dae14c1037475d21f"
       ],
       "layout": "IPY_MODEL_d8371dceccae4f1babc069a07eafa4fd"
      }
     },
     "cb2b6e9518424ce4a9f44005c4624854": {
      "model_module": "jupyter-js-widgets",
      "model_module_version": "~2.1.4",
      "model_name": "LayoutModel",
      "state": {
       "_model_module_version": "~2.1.4",
       "_view_module_version": "~2.1.4",
       "display": "inline-flex",
       "flex_flow": "row wrap",
       "justify_content": "flex-start"
      }
     },
     "cb680920a0a44a9e849dc9bf3385e084": {
      "model_module": "jupyter-js-widgets",
      "model_module_version": "~2.1.4",
      "model_name": "LayoutModel",
      "state": {
       "_model_module_version": "~2.1.4",
       "_view_module_version": "~2.1.4",
       "display": "inline-flex",
       "flex_flow": "row wrap",
       "justify_content": "flex-start"
      }
     },
     "ccafa2c5f6da43afb83d0c61f4213f4c": {
      "model_module": "jupyter-js-widgets",
      "model_module_version": "~2.1.4",
      "model_name": "OutputModel",
      "state": {
       "_dom_classes": [],
       "_model_module": "jupyter-js-widgets",
       "_model_module_version": "~2.1.4",
       "_view_module": "jupyter-js-widgets",
       "_view_module_version": "~2.1.4",
       "layout": "IPY_MODEL_2f47b13c3a004cc18c6612bc6b0914b0",
       "msg_throttle": 1
      }
     },
     "cd26bada379041c08f57a2c1eedf8493": {
      "model_module": "jupyter-js-widgets",
      "model_module_version": "~2.1.4",
      "model_name": "LayoutModel",
      "state": {
       "_model_module_version": "~2.1.4",
       "_view_module_version": "~2.1.4",
       "display": "inline-flex",
       "flex_flow": "row wrap",
       "justify_content": "flex-start"
      }
     },
     "cd2cfe7fe1bd441b87cc8aa51c02fbda": {
      "model_module": "jupyter-js-widgets",
      "model_module_version": "~2.1.4",
      "model_name": "VBoxModel",
      "state": {
       "_dom_classes": [
        "widget-interact"
       ],
       "_model_module_version": "~2.1.4",
       "_view_module_version": "~2.1.4",
       "children": [
        "IPY_MODEL_3ed8e3fdba244c28968ab9db56196156",
        "IPY_MODEL_d34bf10110954e79be61bf70af786729",
        "IPY_MODEL_003edfcfd28c44578e9adbb06bbe702e",
        "IPY_MODEL_1a217c4e44dd4c06b3965ff551669b8d",
        "IPY_MODEL_60124596f93f4aaf89b7a045b46a8d09",
        "IPY_MODEL_94423b0ebc224ce38ad1f5419a3ad168"
       ],
       "layout": "IPY_MODEL_e6c92f77f2264eb39bb03a3ebea2a36f"
      }
     },
     "cd3abe6b33cc4295a6511723c208416f": {
      "model_module": "jupyter-js-widgets",
      "model_module_version": "~2.1.4",
      "model_name": "LayoutModel",
      "state": {
       "_model_module_version": "~2.1.4",
       "_view_module_version": "~2.1.4"
      }
     },
     "cd65ec9d27374f188e3bc042d55dc995": {
      "model_module": "jupyter-js-widgets",
      "model_module_version": "~2.1.4",
      "model_name": "LayoutModel",
      "state": {
       "_model_module_version": "~2.1.4",
       "_view_module_version": "~2.1.4"
      }
     },
     "ce6e8783c502459e9b62c6d810b496b8": {
      "model_module": "jupyter-js-widgets",
      "model_module_version": "~2.1.4",
      "model_name": "LayoutModel",
      "state": {
       "_model_module_version": "~2.1.4",
       "_view_module_version": "~2.1.4"
      }
     },
     "ceb071156fe945c9ad54999399c4dbe3": {
      "model_module": "jupyter-js-widgets",
      "model_module_version": "~2.1.4",
      "model_name": "LayoutModel",
      "state": {
       "_model_module_version": "~2.1.4",
       "_view_module_version": "~2.1.4"
      }
     },
     "cf93a3dbd9764c60b820bdf42bc90ee1": {
      "model_module": "jupyter-js-widgets",
      "model_module_version": "~2.1.4",
      "model_name": "LayoutModel",
      "state": {
       "_model_module_version": "~2.1.4",
       "_view_module_version": "~2.1.4"
      }
     },
     "cf9635010aba4b8eb641e98c8273e6cd": {
      "model_module": "jupyter-js-widgets",
      "model_module_version": "~2.1.4",
      "model_name": "LayoutModel",
      "state": {
       "_model_module_version": "~2.1.4",
       "_view_module_version": "~2.1.4"
      }
     },
     "d0070cd48c934a44a8d7db245d606a6e": {
      "model_module": "jupyter-js-widgets",
      "model_module_version": "~2.1.4",
      "model_name": "LayoutModel",
      "state": {
       "_model_module_version": "~2.1.4",
       "_view_module_version": "~2.1.4"
      }
     },
     "d04072ca8ee243af84d943fe71d22b11": {
      "model_module": "jupyter-js-widgets",
      "model_module_version": "~2.1.4",
      "model_name": "FloatSliderModel",
      "state": {
       "_model_module_version": "~2.1.4",
       "_view_module_version": "~2.1.4",
       "description": "$-r_x / 1$ $AU$",
       "layout": "IPY_MODEL_b50221f2d9914e14a0f6542f49ee56e0",
       "max": 2,
       "min": 0.1,
       "step": 0.01,
       "value": 1
      }
     },
     "d14559d2deb64a4eb1621236df932f57": {
      "model_module": "jupyter-js-widgets",
      "model_module_version": "~2.1.4",
      "model_name": "LayoutModel",
      "state": {
       "_model_module_version": "~2.1.4",
       "_view_module_version": "~2.1.4"
      }
     },
     "d24e17c5382c4bd380e6fd7696dcb3b5": {
      "model_module": "jupyter-js-widgets",
      "model_module_version": "~2.1.4",
      "model_name": "FloatSliderModel",
      "state": {
       "_model_module_version": "~2.1.4",
       "_view_module_version": "~2.1.4",
       "description": "$f\\ \\left(dt = 10^f \\cdot r_0 / v\\right)$",
       "layout": "IPY_MODEL_c59da8a263ab42939d63b94f60185ff0",
       "max": 2,
       "min": -3,
       "value": -2
      }
     },
     "d2984839c46f4c81b0f1682bcb18c946": {
      "model_module": "jupyter-js-widgets",
      "model_module_version": "~2.1.4",
      "model_name": "OutputModel",
      "state": {
       "_dom_classes": [],
       "_model_module": "jupyter-js-widgets",
       "_model_module_version": "~2.1.4",
       "_view_module": "jupyter-js-widgets",
       "_view_module_version": "~2.1.4",
       "layout": "IPY_MODEL_b431f3927f60418d8f0aa77d8be059aa",
       "msg_throttle": 1
      }
     },
     "d29c67d467a948c1ae548f57360d2f86": {
      "model_module": "jupyter-js-widgets",
      "model_module_version": "~2.1.4",
      "model_name": "FloatSliderModel",
      "state": {
       "_model_module_version": "~2.1.4",
       "_view_module_version": "~2.1.4",
       "description": "$f\\ \\left(dt = 10^f \\cdot x_0 / v\\right)$",
       "layout": "IPY_MODEL_3f04a6cfaed44b57a71d377ac7f58af5",
       "max": 2,
       "min": -3,
       "value": -2
      }
     },
     "d2f8aa49bb124ef199541c1ebaf4b584": {
      "model_module": "jupyter-js-widgets",
      "model_module_version": "~2.1.4",
      "model_name": "LayoutModel",
      "state": {
       "_model_module_version": "~2.1.4",
       "_view_module_version": "~2.1.4"
      }
     },
     "d34bf10110954e79be61bf70af786729": {
      "model_module": "jupyter-js-widgets",
      "model_module_version": "~2.1.4",
      "model_name": "FloatSliderModel",
      "state": {
       "_model_module_version": "~2.1.4",
       "_view_module_version": "~2.1.4",
       "description": "$v_x / v_c$",
       "layout": "IPY_MODEL_5e28489ff9af49b7a1cefbad222434ec",
       "max": 2,
       "min": -2,
       "step": 0.01
      }
     },
     "d3b22afedbfc4c89974267a15c49ba53": {
      "model_module": "jupyter-js-widgets",
      "model_module_version": "~2.1.4",
      "model_name": "FloatSliderModel",
      "state": {
       "_model_module_version": "~2.1.4",
       "_view_module_version": "~2.1.4",
       "description": "$f\\ \\left(dt = 10^f \\cdot x_0 / v\\right)$",
       "layout": "IPY_MODEL_846e72eb3ea34cb99c5299a90e220890",
       "max": 2,
       "min": -3,
       "value": -2
      }
     },
     "d407368a1e8f4c6bbacd300c59cbd931": {
      "model_module": "jupyter-js-widgets",
      "model_module_version": "~2.1.4",
      "model_name": "FloatSliderModel",
      "state": {
       "_model_module_version": "~2.1.4",
       "_view_module_version": "~2.1.4",
       "description": "$f\\ \\left(dt = 10^f \\cdot r_0 / v\\right)$",
       "layout": "IPY_MODEL_1839f14130cb4c8b9c687e58583ee56a",
       "max": 2,
       "min": -3,
       "value": -2
      }
     },
     "d4292a9e70ea468ab8ed79ddbdf9b98d": {
      "model_module": "jupyter-js-widgets",
      "model_module_version": "~2.1.4",
      "model_name": "OutputModel",
      "state": {
       "_dom_classes": [],
       "_model_module": "jupyter-js-widgets",
       "_model_module_version": "~2.1.4",
       "_view_module": "jupyter-js-widgets",
       "_view_module_version": "~2.1.4",
       "layout": "IPY_MODEL_a9746f91725b4ed68ae9136be921310a",
       "msg_throttle": 1
      }
     },
     "d44ac5e2a60a43d9b66bbbb602da94e6": {
      "model_module": "jupyter-js-widgets",
      "model_module_version": "~2.1.4",
      "model_name": "LayoutModel",
      "state": {
       "_model_module_version": "~2.1.4",
       "_view_module_version": "~2.1.4"
      }
     },
     "d44e16c95d9546d3835d8ffbff961884": {
      "model_module": "jupyter-js-widgets",
      "model_module_version": "~2.1.4",
      "model_name": "LayoutModel",
      "state": {
       "_model_module_version": "~2.1.4",
       "_view_module_version": "~2.1.4"
      }
     },
     "d465ef7bc60f4b50bb5845b1a6c46ae1": {
      "model_module": "jupyter-js-widgets",
      "model_module_version": "~2.1.4",
      "model_name": "LayoutModel",
      "state": {
       "_model_module_version": "~2.1.4",
       "_view_module_version": "~2.1.4",
       "display": "inline-flex",
       "flex_flow": "row wrap",
       "justify_content": "flex-start"
      }
     },
     "d5d5ca51f46e4482b668c3f78d6378d1": {
      "model_module": "jupyter-js-widgets",
      "model_module_version": "~2.1.4",
      "model_name": "FloatSliderModel",
      "state": {
       "_model_module_version": "~2.1.4",
       "_view_module_version": "~2.1.4",
       "description": "$f\\ \\left(dt = 10^f \\cdot r_0 / v\\right)$",
       "layout": "IPY_MODEL_266c3f90944c48e6bb2af50cdf6244de",
       "max": 2,
       "min": -3,
       "value": -2
      }
     },
     "d5f18e680ca14873bd41d4944525d0d6": {
      "model_module": "jupyter-js-widgets",
      "model_module_version": "~2.1.4",
      "model_name": "LayoutModel",
      "state": {
       "_model_module_version": "~2.1.4",
       "_view_module_version": "~2.1.4"
      }
     },
     "d5f8e78c5a1742a38ff03406b830d0a4": {
      "model_module": "jupyter-js-widgets",
      "model_module_version": "~2.1.4",
      "model_name": "LayoutModel",
      "state": {
       "_model_module_version": "~2.1.4",
       "_view_module_version": "~2.1.4",
       "display": "inline-flex",
       "flex_flow": "row wrap",
       "justify_content": "flex-start"
      }
     },
     "d602147e6b754574ba6fa3deb5cc21f1": {
      "model_module": "jupyter-js-widgets",
      "model_module_version": "~2.1.4",
      "model_name": "LayoutModel",
      "state": {
       "_model_module_version": "~2.1.4",
       "_view_module_version": "~2.1.4",
       "display": "inline-flex",
       "flex_flow": "row wrap",
       "justify_content": "flex-start"
      }
     },
     "d64a9fe7a44640af896aac5b7e5bf1a8": {
      "model_module": "jupyter-js-widgets",
      "model_module_version": "~2.1.4",
      "model_name": "LayoutModel",
      "state": {
       "_model_module_version": "~2.1.4",
       "_view_module_version": "~2.1.4"
      }
     },
     "d7d36d1edf604af0acb6f49699d7a008": {
      "model_module": "jupyter-js-widgets",
      "model_module_version": "~2.1.4",
      "model_name": "LayoutModel",
      "state": {
       "_model_module_version": "~2.1.4",
       "_view_module_version": "~2.1.4"
      }
     },
     "d7d42b29da614eec9ad6ad8471b5c037": {
      "model_module": "jupyter-js-widgets",
      "model_module_version": "~2.1.4",
      "model_name": "LayoutModel",
      "state": {
       "_model_module_version": "~2.1.4",
       "_view_module_version": "~2.1.4"
      }
     },
     "d8371dceccae4f1babc069a07eafa4fd": {
      "model_module": "jupyter-js-widgets",
      "model_module_version": "~2.1.4",
      "model_name": "LayoutModel",
      "state": {
       "_model_module_version": "~2.1.4",
       "_view_module_version": "~2.1.4",
       "display": "inline-flex",
       "flex_flow": "row wrap",
       "justify_content": "flex-start"
      }
     },
     "d876b29fce4c44d4bbb2e144d6314b6d": {
      "model_module": "jupyter-js-widgets",
      "model_module_version": "~2.1.4",
      "model_name": "FloatSliderModel",
      "state": {
       "_model_module_version": "~2.1.4",
       "_view_module_version": "~2.1.4",
       "description": "$-v_y / v_c$",
       "layout": "IPY_MODEL_0f1ed8b08ab64d5b888700fca0b7f422",
       "max": 2,
       "min": -2,
       "step": 0.01,
       "value": 1
      }
     },
     "d87eda43e7954d039a5321b3062a7f09": {
      "model_module": "jupyter-js-widgets",
      "model_module_version": "~2.1.4",
      "model_name": "FloatSliderModel",
      "state": {
       "_model_module_version": "~2.1.4",
       "_view_module_version": "~2.1.4",
       "description": "$v_x / v_c$",
       "layout": "IPY_MODEL_e869c806e9024f85989bf4768915a49e",
       "max": 2,
       "min": -2,
       "step": 0.01
      }
     },
     "d8ff755fe1a54be082cd5004aab67a85": {
      "model_module": "jupyter-js-widgets",
      "model_module_version": "~2.1.4",
      "model_name": "LayoutModel",
      "state": {
       "_model_module_version": "~2.1.4",
       "_view_module_version": "~2.1.4",
       "display": "inline-flex",
       "flex_flow": "row wrap",
       "justify_content": "flex-start"
      }
     },
     "dac0c1e00fa542e989d7985d50b5dc70": {
      "model_module": "jupyter-js-widgets",
      "model_module_version": "~2.1.4",
      "model_name": "LayoutModel",
      "state": {
       "_model_module_version": "~2.1.4",
       "_view_module_version": "~2.1.4"
      }
     },
     "db07ffd42c7f4f5eb5ad21b0702d79e4": {
      "model_module": "jupyter-js-widgets",
      "model_module_version": "~2.1.4",
      "model_name": "FloatSliderModel",
      "state": {
       "_model_module_version": "~2.1.4",
       "_view_module_version": "~2.1.4",
       "description": "$-r_x / 1$ $AU$",
       "layout": "IPY_MODEL_08c00d9a0e1d49b5964d9911f9af16ce",
       "max": 2,
       "min": 0.1,
       "step": 0.01,
       "value": 1
      }
     },
     "ddc4ff5c40204f48996022d368fea416": {
      "model_module": "jupyter-js-widgets",
      "model_module_version": "~2.1.4",
      "model_name": "VBoxModel",
      "state": {
       "_dom_classes": [
        "widget-interact"
       ],
       "_model_module_version": "~2.1.4",
       "_view_module_version": "~2.1.4",
       "children": [
        "IPY_MODEL_8a2c61688cea45d0bf8b6c9e918b17a6",
        "IPY_MODEL_3a1a1ae490394390a3a6426adc4338f9",
        "IPY_MODEL_99f6cdf21a4e4da2ae06356ea9eb0bb1",
        "IPY_MODEL_ec33b4b67523444f9ba61ae8be7d49d6",
        "IPY_MODEL_7548959e10c04de191b468b2db1b0759",
        "IPY_MODEL_be6024f89a3848e1ac3bf0f898a174d6"
       ],
       "layout": "IPY_MODEL_01b1773d32d749d8a544be0be6d6e624"
      }
     },
     "df7a7d118d9542a284fbca605e5f7501": {
      "model_module": "jupyter-js-widgets",
      "model_module_version": "~2.1.4",
      "model_name": "VBoxModel",
      "state": {
       "_dom_classes": [
        "widget-interact"
       ],
       "_model_module_version": "~2.1.4",
       "_view_module_version": "~2.1.4",
       "children": [
        "IPY_MODEL_af9f3eb1a25743e0a80d0a034634bdf4",
        "IPY_MODEL_1dceeb519e6146ef9a02b45748589523",
        "IPY_MODEL_0558269abec445708d579f5b16fbb287",
        "IPY_MODEL_0e6df5fc81304652b8e931e8bd1da92a",
        "IPY_MODEL_28750fa4735d4c0b83bdf501edb6b062",
        "IPY_MODEL_21260cf0ce6048d4982942d7debba91b"
       ],
       "layout": "IPY_MODEL_74a380a61f134ebc9d16768ea859ae38"
      }
     },
     "e001da65749c4df68ede83586a809498": {
      "model_module": "jupyter-js-widgets",
      "model_module_version": "~2.1.4",
      "model_name": "LayoutModel",
      "state": {
       "_model_module_version": "~2.1.4",
       "_view_module_version": "~2.1.4"
      }
     },
     "e1435175d37d48eaa7636bb314dd2a80": {
      "model_module": "jupyter-js-widgets",
      "model_module_version": "~2.1.4",
      "model_name": "LayoutModel",
      "state": {
       "_model_module_version": "~2.1.4",
       "_view_module_version": "~2.1.4"
      }
     },
     "e15f52efdeeb441bbcfdc6013c8d9304": {
      "model_module": "jupyter-js-widgets",
      "model_module_version": "~2.1.4",
      "model_name": "LayoutModel",
      "state": {
       "_model_module_version": "~2.1.4",
       "_view_module_version": "~2.1.4",
       "display": "inline-flex",
       "flex_flow": "row wrap",
       "justify_content": "flex-start"
      }
     },
     "e1a3e88596e948aba35e593ef024cead": {
      "model_module": "jupyter-js-widgets",
      "model_module_version": "~2.1.4",
      "model_name": "LayoutModel",
      "state": {
       "_model_module_version": "~2.1.4",
       "_view_module_version": "~2.1.4"
      }
     },
     "e2751648ea9e4d68aaf650d84b819b86": {
      "model_module": "jupyter-js-widgets",
      "model_module_version": "~2.1.4",
      "model_name": "LayoutModel",
      "state": {
       "_model_module_version": "~2.1.4",
       "_view_module_version": "~2.1.4"
      }
     },
     "e2acd18c07b447c7b68da1f4951772f5": {
      "model_module": "jupyter-js-widgets",
      "model_module_version": "~2.1.4",
      "model_name": "FloatSliderModel",
      "state": {
       "_model_module_version": "~2.1.4",
       "_view_module_version": "~2.1.4",
       "description": "$f\\ \\left(dt = 10^f \\cdot x_0 / v\\right)$",
       "layout": "IPY_MODEL_b2f5dd7f5b3949369b4e91650431e364",
       "max": 2,
       "min": -3,
       "value": -1
      }
     },
     "e33faa89a09b412f9f0a665142f1e8b4": {
      "model_module": "jupyter-js-widgets",
      "model_module_version": "~2.1.4",
      "model_name": "LayoutModel",
      "state": {
       "_model_module_version": "~2.1.4",
       "_view_module_version": "~2.1.4"
      }
     },
     "e392c78b63284d37be7cff6f6f44b157": {
      "model_module": "jupyter-js-widgets",
      "model_module_version": "~2.1.4",
      "model_name": "OutputModel",
      "state": {
       "_dom_classes": [],
       "_model_module": "jupyter-js-widgets",
       "_model_module_version": "~2.1.4",
       "_view_module": "jupyter-js-widgets",
       "_view_module_version": "~2.1.4",
       "layout": "IPY_MODEL_baf6c04de64c426da135f75511183a94",
       "msg_throttle": 1
      }
     },
     "e48507dd23fd4e37bae9899046256863": {
      "model_module": "jupyter-js-widgets",
      "model_module_version": "~2.1.4",
      "model_name": "LayoutModel",
      "state": {
       "_model_module_version": "~2.1.4",
       "_view_module_version": "~2.1.4"
      }
     },
     "e559af30748e488fa9a82f3ae02a059a": {
      "model_module": "jupyter-js-widgets",
      "model_module_version": "~2.1.4",
      "model_name": "FloatSliderModel",
      "state": {
       "_model_module_version": "~2.1.4",
       "_view_module_version": "~2.1.4",
       "description": "$T$ / $1\\ year$",
       "layout": "IPY_MODEL_601cd926926344e19dc4ab7e4d5fdb02",
       "max": 5,
       "min": 0.1,
       "step": 0.01,
       "value": 1
      }
     },
     "e592daeb6bc34d4cae7f4f4b6b353777": {
      "model_module": "jupyter-js-widgets",
      "model_module_version": "~2.1.4",
      "model_name": "LayoutModel",
      "state": {
       "_model_module_version": "~2.1.4",
       "_view_module_version": "~2.1.4",
       "display": "inline-flex",
       "flex_flow": "row wrap",
       "justify_content": "flex-start"
      }
     },
     "e5bb0b5591c64d0b8d20473026633938": {
      "model_module": "jupyter-js-widgets",
      "model_module_version": "~2.1.4",
      "model_name": "LayoutModel",
      "state": {
       "_model_module_version": "~2.1.4",
       "_view_module_version": "~2.1.4"
      }
     },
     "e69e75379dbb47779993a5a07dc76a85": {
      "model_module": "jupyter-js-widgets",
      "model_module_version": "~2.1.4",
      "model_name": "FloatSliderModel",
      "state": {
       "_model_module_version": "~2.1.4",
       "_view_module_version": "~2.1.4",
       "description": "$T$ / $1\\ year$",
       "layout": "IPY_MODEL_fce6668277a74929ab9ec5fbaa00b538",
       "max": 5,
       "min": 0.1,
       "step": 0.01,
       "value": 0.96
      }
     },
     "e6b2f1c9c92844c2ab601e2c5b77e725": {
      "model_module": "jupyter-js-widgets",
      "model_module_version": "~2.1.4",
      "model_name": "LayoutModel",
      "state": {
       "_model_module_version": "~2.1.4",
       "_view_module_version": "~2.1.4"
      }
     },
     "e6c92f77f2264eb39bb03a3ebea2a36f": {
      "model_module": "jupyter-js-widgets",
      "model_module_version": "~2.1.4",
      "model_name": "LayoutModel",
      "state": {
       "_model_module_version": "~2.1.4",
       "_view_module_version": "~2.1.4",
       "display": "inline-flex",
       "flex_flow": "row wrap",
       "justify_content": "flex-start"
      }
     },
     "e703ff07630f4312bfb7c107d901a2eb": {
      "model_module": "jupyter-js-widgets",
      "model_module_version": "~2.1.4",
      "model_name": "LayoutModel",
      "state": {
       "_model_module_version": "~2.1.4",
       "_view_module_version": "~2.1.4"
      }
     },
     "e78a988a74d34a75a9aa9d92e2660809": {
      "model_module": "jupyter-js-widgets",
      "model_module_version": "~2.1.4",
      "model_name": "VBoxModel",
      "state": {
       "_dom_classes": [
        "widget-interact"
       ],
       "_model_module_version": "~2.1.4",
       "_view_module_version": "~2.1.4",
       "children": [
        "IPY_MODEL_513af6753ada44c387c2f24220039924",
        "IPY_MODEL_57ce37a04cf844beaebfa23f51a6b682",
        "IPY_MODEL_a23d9278e37840a4b4642a417bf925bc",
        "IPY_MODEL_6acd7d81c0804d20bc17ab3f3a678591",
        "IPY_MODEL_7b696d0b042f497584a3c7f97dfd5445",
        "IPY_MODEL_850df3dbb2cf49819920d151c9d5b872"
       ],
       "layout": "IPY_MODEL_d465ef7bc60f4b50bb5845b1a6c46ae1"
      }
     },
     "e869c806e9024f85989bf4768915a49e": {
      "model_module": "jupyter-js-widgets",
      "model_module_version": "~2.1.4",
      "model_name": "LayoutModel",
      "state": {
       "_model_module_version": "~2.1.4",
       "_view_module_version": "~2.1.4"
      }
     },
     "e86ca36a68c0457088979f23cd81868e": {
      "model_module": "jupyter-js-widgets",
      "model_module_version": "~2.1.4",
      "model_name": "FloatSliderModel",
      "state": {
       "_model_module_version": "~2.1.4",
       "_view_module_version": "~2.1.4",
       "description": "$-r_x / 1$ $AU$",
       "layout": "IPY_MODEL_0804d5f071d548ecb777b62ce863554e",
       "max": 2,
       "min": 0.1,
       "step": 0.01,
       "value": 1
      }
     },
     "e88761f7a3724348b47c8bd77cf987ae": {
      "model_module": "jupyter-js-widgets",
      "model_module_version": "~2.1.4",
      "model_name": "FloatSliderModel",
      "state": {
       "_model_module_version": "~2.1.4",
       "_view_module_version": "~2.1.4",
       "description": "$T$ / $1\\ year$",
       "layout": "IPY_MODEL_7e64c86de0494a1c999de08ded19ee6b",
       "max": 5,
       "min": 0.1,
       "step": 0.01,
       "value": 1
      }
     },
     "e88a2dba21214a8bbeb46414bc91943f": {
      "model_module": "jupyter-js-widgets",
      "model_module_version": "~2.1.4",
      "model_name": "FloatSliderModel",
      "state": {
       "_model_module_version": "~2.1.4",
       "_view_module_version": "~2.1.4",
       "description": "$f\\ \\left(dt = 10^f \\cdot r_0 / v\\right)$",
       "layout": "IPY_MODEL_be79ed786aec4828a69b203f66901b48",
       "max": 2,
       "min": -3,
       "value": -2
      }
     },
     "e8a7a63a1494442e8240a69f7f8da322": {
      "model_module": "jupyter-js-widgets",
      "model_module_version": "~2.1.4",
      "model_name": "LayoutModel",
      "state": {
       "_model_module_version": "~2.1.4",
       "_view_module_version": "~2.1.4"
      }
     },
     "e98c0d2cec354647af939868e91bc190": {
      "model_module": "jupyter-js-widgets",
      "model_module_version": "~2.1.4",
      "model_name": "FloatSliderModel",
      "state": {
       "_model_module_version": "~2.1.4",
       "_view_module_version": "~2.1.4",
       "description": "$f\\ \\left(dt = 10^f \\cdot r_0 / v\\right)$",
       "layout": "IPY_MODEL_ad8095b8304e4819b8257d05a4264db0",
       "max": 2,
       "min": -3,
       "value": -2
      }
     },
     "e9a09c17abb34f2393c3c0f6cc9b9de3": {
      "model_module": "jupyter-js-widgets",
      "model_module_version": "~2.1.4",
      "model_name": "FloatSliderModel",
      "state": {
       "_model_module_version": "~2.1.4",
       "_view_module_version": "~2.1.4",
       "description": "$-v_y / v_c$",
       "layout": "IPY_MODEL_465ebf43e40a463fb34a45b2dd0eb3f7",
       "max": 2,
       "min": -2,
       "step": 0.01,
       "value": 0.25
      }
     },
     "e9ba675954bd43c990a414e6d2ec3043": {
      "model_module": "jupyter-js-widgets",
      "model_module_version": "~2.1.4",
      "model_name": "LayoutModel",
      "state": {
       "_model_module_version": "~2.1.4",
       "_view_module_version": "~2.1.4",
       "display": "inline-flex",
       "flex_flow": "row wrap",
       "justify_content": "flex-start"
      }
     },
     "ea4733b9c7cb472d8c72e3a62a1e0804": {
      "model_module": "jupyter-js-widgets",
      "model_module_version": "~2.1.4",
      "model_name": "LayoutModel",
      "state": {
       "_model_module_version": "~2.1.4",
       "_view_module_version": "~2.1.4"
      }
     },
     "eb1f3dcf0c5c4fca96c2e80ca791398a": {
      "model_module": "jupyter-js-widgets",
      "model_module_version": "~2.1.4",
      "model_name": "LayoutModel",
      "state": {
       "_model_module_version": "~2.1.4",
       "_view_module_version": "~2.1.4"
      }
     },
     "eb33841437fe4c679c6a68fe2782a1e1": {
      "model_module": "jupyter-js-widgets",
      "model_module_version": "~2.1.4",
      "model_name": "FloatSliderModel",
      "state": {
       "_model_module_version": "~2.1.4",
       "_view_module_version": "~2.1.4",
       "description": "$-v_y / v_c$",
       "layout": "IPY_MODEL_1c668f2e317749cb9a52a0d3469bef46",
       "max": 2,
       "min": -2,
       "step": 0.01,
       "value": 1
      }
     },
     "ec33b4b67523444f9ba61ae8be7d49d6": {
      "model_module": "jupyter-js-widgets",
      "model_module_version": "~2.1.4",
      "model_name": "FloatSliderModel",
      "state": {
       "_model_module_version": "~2.1.4",
       "_view_module_version": "~2.1.4",
       "description": "$T$ / $1\\ year$",
       "layout": "IPY_MODEL_6fc1ac66015f47ee80fdd82dd0acf0e8",
       "max": 5,
       "min": 0.1,
       "step": 0.01,
       "value": 1
      }
     },
     "edff28acc1194125bff9afb2c11b291f": {
      "model_module": "jupyter-js-widgets",
      "model_module_version": "~2.1.4",
      "model_name": "FloatSliderModel",
      "state": {
       "_model_module_version": "~2.1.4",
       "_view_module_version": "~2.1.4",
       "description": "$T$ / $1\\ year$",
       "layout": "IPY_MODEL_01ec51484a884adcb98ffe434defd569",
       "max": 5,
       "min": 0.1,
       "step": 0.01,
       "value": 1
      }
     },
     "efffe583b33342b6a928ed9d1e408124": {
      "model_module": "jupyter-js-widgets",
      "model_module_version": "~2.1.4",
      "model_name": "FloatSliderModel",
      "state": {
       "_model_module_version": "~2.1.4",
       "_view_module_version": "~2.1.4",
       "description": "$v_x / v_c$",
       "layout": "IPY_MODEL_a6d904fc3ac04d31829b3536e7562be4",
       "max": 2,
       "min": -2,
       "step": 0.01,
       "value": 0.49
      }
     },
     "f096066103ee4de9b0140e73a85e0bae": {
      "model_module": "jupyter-js-widgets",
      "model_module_version": "~2.1.4",
      "model_name": "FloatSliderModel",
      "state": {
       "_model_module_version": "~2.1.4",
       "_view_module_version": "~2.1.4",
       "description": "$-r_x / 1$ $AU$",
       "layout": "IPY_MODEL_1be8220192824987a293da74219d11dd",
       "max": 2,
       "min": 0.1,
       "step": 0.01,
       "value": 1
      }
     },
     "f1040412c84f4f299678b48c79a0ce30": {
      "model_module": "jupyter-js-widgets",
      "model_module_version": "~2.1.4",
      "model_name": "LayoutModel",
      "state": {
       "_model_module_version": "~2.1.4",
       "_view_module_version": "~2.1.4"
      }
     },
     "f106e9e1d9a545708099006584d8e4d1": {
      "model_module": "jupyter-js-widgets",
      "model_module_version": "~2.1.4",
      "model_name": "VBoxModel",
      "state": {
       "_dom_classes": [
        "widget-interact"
       ],
       "_model_module_version": "~2.1.4",
       "_view_module_version": "~2.1.4",
       "children": [
        "IPY_MODEL_acd10f7e99564c6fa1187dd947d6a798",
        "IPY_MODEL_03e1826fe81e427aa467eb2796427f6c",
        "IPY_MODEL_25cc8a1b9ce44eeebab5d0f3b52054cb",
        "IPY_MODEL_957a5e5ae5204f91b39d6f19ecc9aac1",
        "IPY_MODEL_994f2c5d8dbd41ee81b86c2f609e9525",
        "IPY_MODEL_88aeb5a55a0543ca9ffde6602f4cddfe"
       ],
       "layout": "IPY_MODEL_f736a5ea48c846188b5ee7198e441f34"
      }
     },
     "f1980b2826d74cd281289309ce2d2d88": {
      "model_module": "jupyter-js-widgets",
      "model_module_version": "~2.1.4",
      "model_name": "LayoutModel",
      "state": {
       "_model_module_version": "~2.1.4",
       "_view_module_version": "~2.1.4"
      }
     },
     "f1e3e442ab0a4ff49a54d1668a79761b": {
      "model_module": "jupyter-js-widgets",
      "model_module_version": "~2.1.4",
      "model_name": "FloatSliderModel",
      "state": {
       "_model_module_version": "~2.1.4",
       "_view_module_version": "~2.1.4",
       "description": "$T$ / $1\\ year$",
       "layout": "IPY_MODEL_3514e7ebcbdd41548a26347766ecfe3f",
       "max": 5,
       "min": 0.1,
       "step": 0.01,
       "value": 1
      }
     },
     "f2e30a7b4db540bb89ff44430e273f8a": {
      "model_module": "jupyter-js-widgets",
      "model_module_version": "~2.1.4",
      "model_name": "LayoutModel",
      "state": {
       "_model_module_version": "~2.1.4",
       "_view_module_version": "~2.1.4"
      }
     },
     "f35b2e5a2df247eb8aaf8a730c93d2fb": {
      "model_module": "jupyter-js-widgets",
      "model_module_version": "~2.1.4",
      "model_name": "OutputModel",
      "state": {
       "_dom_classes": [],
       "_model_module": "jupyter-js-widgets",
       "_model_module_version": "~2.1.4",
       "_view_module": "jupyter-js-widgets",
       "_view_module_version": "~2.1.4",
       "layout": "IPY_MODEL_b08fa8286dad4ce69a2753f3368ba0e3",
       "msg_throttle": 1
      }
     },
     "f3c8c97d66c34da7bfd125cd3b6bf63b": {
      "model_module": "jupyter-js-widgets",
      "model_module_version": "~2.1.4",
      "model_name": "LayoutModel",
      "state": {
       "_model_module_version": "~2.1.4",
       "_view_module_version": "~2.1.4",
       "display": "inline-flex",
       "flex_flow": "row wrap",
       "justify_content": "flex-start"
      }
     },
     "f44e7cd8cbdc4db38388abcec7b140e2": {
      "model_module": "jupyter-js-widgets",
      "model_module_version": "~2.1.4",
      "model_name": "OutputModel",
      "state": {
       "_dom_classes": [],
       "_model_module": "jupyter-js-widgets",
       "_model_module_version": "~2.1.4",
       "_view_module": "jupyter-js-widgets",
       "_view_module_version": "~2.1.4",
       "layout": "IPY_MODEL_49548f2da53842899838a2013ef4d19c",
       "msg_throttle": 1
      }
     },
     "f48b162868954f689f1feba68778f741": {
      "model_module": "jupyter-js-widgets",
      "model_module_version": "~2.1.4",
      "model_name": "LayoutModel",
      "state": {
       "_model_module_version": "~2.1.4",
       "_view_module_version": "~2.1.4"
      }
     },
     "f58e8236d52a4a019ececfad35c45d55": {
      "model_module": "jupyter-js-widgets",
      "model_module_version": "~2.1.4",
      "model_name": "LayoutModel",
      "state": {
       "_model_module_version": "~2.1.4",
       "_view_module_version": "~2.1.4"
      }
     },
     "f5b77fefd5484c50b06485b35bcb83c0": {
      "model_module": "jupyter-js-widgets",
      "model_module_version": "~2.1.4",
      "model_name": "LayoutModel",
      "state": {
       "_model_module_version": "~2.1.4",
       "_view_module_version": "~2.1.4"
      }
     },
     "f606f9eaa9a645f68514f3a47decff77": {
      "model_module": "jupyter-js-widgets",
      "model_module_version": "~2.1.4",
      "model_name": "LayoutModel",
      "state": {
       "_model_module_version": "~2.1.4",
       "_view_module_version": "~2.1.4"
      }
     },
     "f736a5ea48c846188b5ee7198e441f34": {
      "model_module": "jupyter-js-widgets",
      "model_module_version": "~2.1.4",
      "model_name": "LayoutModel",
      "state": {
       "_model_module_version": "~2.1.4",
       "_view_module_version": "~2.1.4",
       "display": "inline-flex",
       "flex_flow": "row wrap",
       "justify_content": "flex-start"
      }
     },
     "f75be5578e4c4adb98d374dacc1f1233": {
      "model_module": "jupyter-js-widgets",
      "model_module_version": "~2.1.4",
      "model_name": "FloatSliderModel",
      "state": {
       "_model_module_version": "~2.1.4",
       "_view_module_version": "~2.1.4",
       "description": "$f\\ \\left(dt = 10^f \\cdot x_0 / v\\right)$",
       "layout": "IPY_MODEL_24b06fd53b374cf2bd2713308baa74cb",
       "max": 2,
       "min": -3,
       "value": -2
      }
     },
     "f79dc74358524af098044a883f588c0d": {
      "model_module": "jupyter-js-widgets",
      "model_module_version": "~2.1.4",
      "model_name": "FloatSliderModel",
      "state": {
       "_model_module_version": "~2.1.4",
       "_view_module_version": "~2.1.4",
       "description": "$f\\ \\left(dt = 10^f \\cdot r_0 / v\\right)$",
       "layout": "IPY_MODEL_73b0f970f29a4b2f800fa000586b754d",
       "max": 2,
       "min": -3,
       "value": -1
      }
     },
     "f7df60d9ddfa4829b2f8a46e18c698e6": {
      "model_module": "jupyter-js-widgets",
      "model_module_version": "~2.1.4",
      "model_name": "FloatSliderModel",
      "state": {
       "_model_module_version": "~2.1.4",
       "_view_module_version": "~2.1.4",
       "description": "$v_x / v_c$",
       "layout": "IPY_MODEL_75f5152926da466da33d7a2a50477793",
       "max": 2,
       "min": -2,
       "step": 0.01,
       "value": 0.62
      }
     },
     "f853a2e0756c4319a2bd5383981c6bed": {
      "model_module": "jupyter-js-widgets",
      "model_module_version": "~2.1.4",
      "model_name": "OutputModel",
      "state": {
       "_dom_classes": [],
       "_model_module": "jupyter-js-widgets",
       "_model_module_version": "~2.1.4",
       "_view_module": "jupyter-js-widgets",
       "_view_module_version": "~2.1.4",
       "layout": "IPY_MODEL_af682254f5f64530b2abeaa84749e6b6",
       "msg_throttle": 1
      }
     },
     "f9036a1a10544f418178e1413d606508": {
      "model_module": "jupyter-js-widgets",
      "model_module_version": "~2.1.4",
      "model_name": "FloatSliderModel",
      "state": {
       "_model_module_version": "~2.1.4",
       "_view_module_version": "~2.1.4",
       "description": "$-v_y / v_c$",
       "layout": "IPY_MODEL_e33faa89a09b412f9f0a665142f1e8b4",
       "max": 2,
       "min": -2,
       "step": 0.01,
       "value": 1
      }
     },
     "f90376a44371492992c93cfb05db5dd3": {
      "model_module": "jupyter-js-widgets",
      "model_module_version": "~2.1.4",
      "model_name": "LayoutModel",
      "state": {
       "_model_module_version": "~2.1.4",
       "_view_module_version": "~2.1.4"
      }
     },
     "fa2cb5ec373a47e1b514cf10edd76788": {
      "model_module": "jupyter-js-widgets",
      "model_module_version": "~2.1.4",
      "model_name": "FloatSliderModel",
      "state": {
       "_model_module_version": "~2.1.4",
       "_view_module_version": "~2.1.4",
       "description": "$-r_x / 1$ $AU$",
       "layout": "IPY_MODEL_566c66dd322c463d94452526c603aa1a",
       "max": 2,
       "min": 0.1,
       "step": 0.01,
       "value": 0.83
      }
     },
     "fa87c2447b5c4d71aaeb1a53e7b75e0f": {
      "model_module": "jupyter-js-widgets",
      "model_module_version": "~2.1.4",
      "model_name": "LayoutModel",
      "state": {
       "_model_module_version": "~2.1.4",
       "_view_module_version": "~2.1.4"
      }
     },
     "fb325d62d43942e7add9e87381d13740": {
      "model_module": "jupyter-js-widgets",
      "model_module_version": "~2.1.4",
      "model_name": "VBoxModel",
      "state": {
       "_dom_classes": [
        "widget-interact"
       ],
       "_model_module_version": "~2.1.4",
       "_view_module_version": "~2.1.4",
       "children": [
        "IPY_MODEL_07a1a69cee704944a240ed2bc36affce",
        "IPY_MODEL_59ef189b04fc45c49a636e136a120008",
        "IPY_MODEL_4b683c460fca495ab52a017cd87fd05f",
        "IPY_MODEL_f1e3e442ab0a4ff49a54d1668a79761b",
        "IPY_MODEL_48e9ab2857a6407fbb4069181f2e5881",
        "IPY_MODEL_8eef67f3ac55492a90af3bae89f88a2b"
       ],
       "layout": "IPY_MODEL_b275588735f74c51a7c5739c6ceeed07"
      }
     },
     "fb3e030f77ae45c098277494ed825b3d": {
      "model_module": "jupyter-js-widgets",
      "model_module_version": "~2.1.4",
      "model_name": "LayoutModel",
      "state": {
       "_model_module_version": "~2.1.4",
       "_view_module_version": "~2.1.4"
      }
     },
     "fb6d1ca915344f5da46cbf499d22a3d6": {
      "model_module": "jupyter-js-widgets",
      "model_module_version": "~2.1.4",
      "model_name": "LayoutModel",
      "state": {
       "_model_module_version": "~2.1.4",
       "_view_module_version": "~2.1.4"
      }
     },
     "fbbbf346e3ee42c0a87d4d2f4f4e73ed": {
      "model_module": "jupyter-js-widgets",
      "model_module_version": "~2.1.4",
      "model_name": "OutputModel",
      "state": {
       "_dom_classes": [],
       "_model_module": "jupyter-js-widgets",
       "_model_module_version": "~2.1.4",
       "_view_module": "jupyter-js-widgets",
       "_view_module_version": "~2.1.4",
       "layout": "IPY_MODEL_d5f18e680ca14873bd41d4944525d0d6",
       "msg_throttle": 1
      }
     },
     "fbdd5fa0fef94e3bbadeea5a40a28628": {
      "model_module": "jupyter-js-widgets",
      "model_module_version": "~2.1.4",
      "model_name": "LayoutModel",
      "state": {
       "_model_module_version": "~2.1.4",
       "_view_module_version": "~2.1.4"
      }
     },
     "fc3c2fe7577d4b96a5fc2a05d90c9941": {
      "model_module": "jupyter-js-widgets",
      "model_module_version": "~2.1.4",
      "model_name": "LayoutModel",
      "state": {
       "_model_module_version": "~2.1.4",
       "_view_module_version": "~2.1.4"
      }
     },
     "fc97adc281b94c64b6463d022615f5ef": {
      "model_module": "jupyter-js-widgets",
      "model_module_version": "~2.1.4",
      "model_name": "LayoutModel",
      "state": {
       "_model_module_version": "~2.1.4",
       "_view_module_version": "~2.1.4"
      }
     },
     "fce6668277a74929ab9ec5fbaa00b538": {
      "model_module": "jupyter-js-widgets",
      "model_module_version": "~2.1.4",
      "model_name": "LayoutModel",
      "state": {
       "_model_module_version": "~2.1.4",
       "_view_module_version": "~2.1.4"
      }
     },
     "fd0d6a50751147c396a4d148a9255689": {
      "model_module": "jupyter-js-widgets",
      "model_module_version": "~2.1.4",
      "model_name": "LayoutModel",
      "state": {
       "_model_module_version": "~2.1.4",
       "_view_module_version": "~2.1.4"
      }
     },
     "fd575fcffaf546c2acf74ee79ca751e5": {
      "model_module": "jupyter-js-widgets",
      "model_module_version": "~2.1.4",
      "model_name": "LayoutModel",
      "state": {
       "_model_module_version": "~2.1.4",
       "_view_module_version": "~2.1.4"
      }
     },
     "fdf42c51d512433ebb8f22b02b2d8cde": {
      "model_module": "jupyter-js-widgets",
      "model_module_version": "~2.1.4",
      "model_name": "FloatSliderModel",
      "state": {
       "_model_module_version": "~2.1.4",
       "_view_module_version": "~2.1.4",
       "description": "$-r_x / 1$ $AU$",
       "layout": "IPY_MODEL_a8a0e64f53d842488782dcb201e3ff96",
       "max": 2,
       "min": 0.1,
       "step": 0.01,
       "value": 1
      }
     },
     "fdf9ad677594461ea3a181a331243989": {
      "model_module": "jupyter-js-widgets",
      "model_module_version": "~2.1.4",
      "model_name": "LayoutModel",
      "state": {
       "_model_module_version": "~2.1.4",
       "_view_module_version": "~2.1.4"
      }
     },
     "fe3039e7f9ac42a481ec4fd1a7fb5979": {
      "model_module": "jupyter-js-widgets",
      "model_module_version": "~2.1.4",
      "model_name": "FloatSliderModel",
      "state": {
       "_model_module_version": "~2.1.4",
       "_view_module_version": "~2.1.4",
       "description": "$v_x / v_c$",
       "layout": "IPY_MODEL_0c4d7368dda54ee4a6f55002b4ddedd0",
       "max": 2,
       "min": -2,
       "step": 0.01
      }
     },
     "feba41dea2a34c5bbfaa7a9771791534": {
      "model_module": "jupyter-js-widgets",
      "model_module_version": "~2.1.4",
      "model_name": "FloatSliderModel",
      "state": {
       "_model_module_version": "~2.1.4",
       "_view_module_version": "~2.1.4",
       "description": "$T$ / $1\\ year$",
       "layout": "IPY_MODEL_fbdd5fa0fef94e3bbadeea5a40a28628",
       "max": 5,
       "min": 0.1,
       "step": 0.01,
       "value": 0.38
      }
     },
     "feec0057f9b2410ab5d775a7a420012d": {
      "model_module": "jupyter-js-widgets",
      "model_module_version": "~2.1.4",
      "model_name": "FloatSliderModel",
      "state": {
       "_model_module_version": "~2.1.4",
       "_view_module_version": "~2.1.4",
       "description": "$-v_y / v_c$",
       "layout": "IPY_MODEL_1ef79da825a4471b9a0e22a6f33059cd",
       "max": 2,
       "min": -2,
       "step": 0.01,
       "value": 1
      }
     }
    },
    "version_major": 1,
    "version_minor": 0
   }
  }
 },
 "nbformat": 4,
 "nbformat_minor": 2
}
