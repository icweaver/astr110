{
 "cells": [
  {
   "cell_type": "code",
   "execution_count": 1,
   "metadata": {
    "collapsed": true
   },
   "outputs": [],
   "source": [
    "import matplotlib.pylab as plt\n",
    "import numpy as np\n",
    "import seaborn as sns\n",
    "\n",
    "from astropy import units as u\n",
    "from astropy import constants as c\n",
    "from astropy.io import ascii\n",
    "from matplotlib.ticker import FormatStrFormatter\n",
    "\n",
    "import ipywidgets as widgets\n",
    "\n",
    "%matplotlib inline"
   ]
  },
  {
   "cell_type": "code",
   "execution_count": 2,
   "metadata": {
    "collapsed": true
   },
   "outputs": [],
   "source": [
    "dark_style = {'axes.labelcolor': 'white',\n",
    "                'xtick.color': 'white',\n",
    "                'ytick.color': 'white',\n",
    "                'axes.facecolor': '#384151',\n",
    "                'axes.edgecolor': 'white'}\n",
    "\n",
    "sns.set_style(dark_style)"
   ]
  },
  {
   "cell_type": "code",
   "execution_count": 3,
   "metadata": {
    "collapsed": true
   },
   "outputs": [],
   "source": [
    "G = (1 * c.G).cgs.value\n",
    "M = (1 * u.solMass).cgs.value\n",
    "au = (1 * u.AU).cgs.value"
   ]
  },
  {
   "cell_type": "code",
   "execution_count": 4,
   "metadata": {
    "collapsed": true
   },
   "outputs": [],
   "source": [
    "def sho_func(t, uin): # calculates derivatives for RK4\n",
    "    # position and velocity\n",
    "    r = uin[:2]\n",
    "    v = uin[2:]\n",
    "    \n",
    "    # distance of point mass from each M\n",
    "    d = np.linalg.norm(0 - r)\n",
    "\n",
    "    # calulating accelerations\n",
    "    g = (G*M/d**3) * (0 - r)\n",
    "    \n",
    "    derivs = np.ndarray(4)\n",
    "    derivs[:2] = v\n",
    "    derivs[2:] = g\n",
    "    \n",
    "    return derivs"
   ]
  },
  {
   "cell_type": "code",
   "execution_count": 5,
   "metadata": {
    "collapsed": true
   },
   "outputs": [],
   "source": [
    "def sho_RK4(t, u_old, dt):\n",
    "    K1 = sho_func(t, u_old)\n",
    "    K2 = sho_func(t + dt/2, u_old + K1*dt/2)\n",
    "    K3 = sho_func(t + dt/2, u_old + K2*dt/2)\n",
    "    K4 = sho_func(t + dt, u_old + K3*dt)\n",
    "    \n",
    "    u_new = u_old + (dt/6)*(K1 + 2*(K2 + K3) + K4)\n",
    "    return u_new"
   ]
  },
  {
   "cell_type": "code",
   "execution_count": 10,
   "metadata": {},
   "outputs": [
    {
     "data": {
      "text/plain": [
       "array([0, 1, 2, 3, 4, 5, 6, 7, 8, 9])"
      ]
     },
     "execution_count": 10,
     "metadata": {},
     "output_type": "execute_result"
    }
   ],
   "source": [
    "mx = np.arange(10)\n",
    "mx"
   ]
  },
  {
   "cell_type": "code",
   "execution_count": 17,
   "metadata": {},
   "outputs": [
    {
     "data": {
      "text/plain": [
       "array([0, 3, 6, 9])"
      ]
     },
     "execution_count": 17,
     "metadata": {},
     "output_type": "execute_result"
    }
   ],
   "source": [
    "mx[::3]"
   ]
  },
  {
   "cell_type": "code",
   "execution_count": 22,
   "metadata": {
    "collapsed": true
   },
   "outputs": [],
   "source": [
    "def orb_plot(x_pos, x_vel, y_vel, T, dt_int):\n",
    "    # Initial conditions\n",
    "    x = -x_pos*au\n",
    "    y = 0\n",
    "    a0 = np.sqrt(x**2 + y**2)\n",
    "    v_circ = np.sqrt(G * M / a0)\n",
    "\n",
    "    vx = x_vel*v_circ\n",
    "    vy = -y_vel*v_circ\n",
    "    T0 = (1 * u.year).cgs.value\n",
    "\n",
    "    tmax  =  T*T0\n",
    "    dt = tmax/dt_int\n",
    "\n",
    "    pos_0 = np.array([x, y])\n",
    "    vel_0 = np.array([vx, vy])\n",
    "\n",
    "    uold = np.zeros(4)\n",
    "    uold[:2] = pos_0\n",
    "    uold[2:] = vel_0\n",
    "\n",
    "    x = []\n",
    "    y = []\n",
    "    vx = []\n",
    "    vy = []\n",
    "    \n",
    "    x.append(uold[0])\n",
    "    y.append(uold[1])\n",
    "    vx.append(uold[2])\n",
    "    vy.append(uold[3])\n",
    "\n",
    "    # Integrate orbit\n",
    "    for t in np.arange(0, tmax+dt, dt):\n",
    "        unew = sho_RK4(t, uold, dt)\n",
    "\n",
    "        x.append(unew[0])\n",
    "        y.append(unew[1])\n",
    "        vx.append(unew[2])\n",
    "        vy.append(unew[3])\n",
    "\n",
    "        uold = unew # step forward\n",
    "\n",
    "    # write to file\n",
    "    ascii.write([x,y,vx,vy], './orb.dat', names=['x', 'y', 'vx', 'vy'],\n",
    "               overwrite=True)\n",
    "    \n",
    "    x = np.array(x) / au\n",
    "    y = np.array(y) / au\n",
    "\n",
    "    fig, ax = plt.subplots(figsize=(6,6))\n",
    "    ax.set_aspect(aspect='equal')\n",
    "    lim = 2.5\n",
    "    ax.set_xlim(-lim, lim)\n",
    "    ax.set_ylim(-lim, lim)\n",
    "\n",
    "    ax.xaxis.set_major_formatter(FormatStrFormatter('%.2f'))\n",
    "    ax.yaxis.set_major_formatter(FormatStrFormatter('%.2f'))\n",
    "\n",
    "    # plot trajectory\n",
    "    ax.plot(x, y, color='orange')\n",
    "    ax.plot(x[::10], y[::10], 'w.') # for visualizing dt spacing\n",
    "    \n",
    "    # overplot circular orbit\n",
    "    theta = np.linspace(0, 2*np.pi, 100)\n",
    "    plt.plot(np.cos(theta), np.sin(theta), ls='--', color='cyan')\n",
    "    \n",
    "    # plot starting and ending points\n",
    "    plt.plot(x[0], y[0], 'go', ms=10)\n",
    "    plt.plot(x[-1], y[-1], 'ro', ms=10)\n",
    "    \n",
    "    fig.tight_layout()\n",
    "    plt.show()"
   ]
  },
  {
   "cell_type": "code",
   "execution_count": 23,
   "metadata": {},
   "outputs": [
    {
     "data": {
      "application/vnd.jupyter.widget-view+json": {
       "model_id": "81d265cbda0440379ba44760e7788e7a"
      }
     },
     "metadata": {},
     "output_type": "display_data"
    }
   ],
   "source": [
    "sns.set_style(dark_style)\n",
    "sns.set_color_codes('deep')\n",
    "\n",
    "box_layout = widgets.Layout(\n",
    "    display='inline-flex',\n",
    "    flex_flow='row wrap',\n",
    "    justify_content='flex-start'\n",
    ")\n",
    "\n",
    "items = [\n",
    "    widgets.FloatSlider(value=1, min=0.1, max=2, step=0.01, \n",
    "                        description='$-r_x / 1$ $AU$'),\n",
    "    widgets.FloatSlider(value=0, min=-2, max=2, step=0.01, \n",
    "                        description='$v_x / v_c$'),\n",
    "    widgets.FloatSlider(value=1, min=-2, max=2, step=0.01, \n",
    "                        description='$-v_y / v_c$'),\n",
    "    widgets.FloatSlider(value=1, min=0.1, max=5, step=0.01, \n",
    "                        description='$T$ / $1\\ year$'),\n",
    "    widgets.FloatSlider(value=(1E3+1E2)/2, min=1E2, max=1E3, step=1E1, \n",
    "                        description='$dt\\ \\ (T\\ / \\ dt)$')\n",
    "        ]\n",
    "\n",
    "w = widgets.interactive(orb_plot, x_pos=items[0], x_vel=items[1], \n",
    "                        y_vel=items[2], T = items[3], dt_int = items[4])\n",
    "\n",
    "w.layout = box_layout\n",
    "w"
   ]
  },
  {
   "cell_type": "markdown",
   "metadata": {},
   "source": [
    "# Taking a look at the data"
   ]
  },
  {
   "cell_type": "code",
   "execution_count": 24,
   "metadata": {
    "scrolled": true
   },
   "outputs": [
    {
     "data": {
      "text/html": [
       "&lt;Table length=532&gt;\n",
       "<table id=\"table4715577920\" class=\"table-striped table-bordered table-condensed\">\n",
       "<thead><tr><th>x</th><th>y</th><th>vx</th><th>vy</th></tr></thead>\n",
       "<thead><tr><th>float64</th><th>float64</th><th>float64</th><th>float64</th></tr></thead>\n",
       "<tr><td>-1.495978707e+13</td><td>0.0</td><td>2204067.1954</td><td>-2889115.10748</td></tr>\n",
       "<tr><td>-1.48965509193e+13</td><td>-82571813220.6</td><td>2221087.2442</td><td>-2889067.93664</td></tr>\n",
       "<tr><td>-1.48328262718e+13</td><td>-165140912944.0</td><td>2238251.38063</td><td>-2888924.81897</td></tr>\n",
       "<tr><td>-1.47686089901e+13</td><td>-247704522058.0</td><td>2255560.95982</td><td>-2888683.3017</td></tr>\n",
       "<tr><td>-1.4703894898e+13</td><td>-330259792478.0</td><td>2273017.33839</td><td>-2888340.87082</td></tr>\n",
       "<tr><td>-1.46386797804e+13</td><td>-412803803376.0</td><td>2290621.87364</td><td>-2887894.94963</td></tr>\n",
       "<tr><td>-1.45729593836e+13</td><td>-495333559364.0</td><td>2308375.92275</td><td>-2887342.89713</td></tr>\n",
       "<tr><td>-1.45067294151e+13</td><td>-577845988637.0</td><td>2326280.84184</td><td>-2886682.00651</td></tr>\n",
       "<tr><td>-1.44399855434e+13</td><td>-660337941069.0</td><td>2344337.98504</td><td>-2885909.50351</td></tr>\n",
       "<tr><td>-1.43727233988e+13</td><td>-742806186261.0</td><td>2362548.7035</td><td>-2885022.54484</td></tr>\n",
       "<tr><td>...</td><td>...</td><td>...</td><td>...</td></tr>\n",
       "<tr><td>1.86019722776e+13</td><td>2.08643132513e+13</td><td>-87865.4258905</td><td>2224887.4711</td></tr>\n",
       "<tr><td>1.85994149557e+13</td><td>2.09278498295e+13</td><td>-91087.7839457</td><td>2221267.46797</td></tr>\n",
       "<tr><td>1.8596765769e+13</td><td>2.09912830428e+13</td><td>-94293.9448268</td><td>2217654.21231</td></tr>\n",
       "<tr><td>1.85940251788e+13</td><td>2.10546130838e+13</td><td>-97484.0230764</td><td>2214047.68707</td></tr>\n",
       "<tr><td>1.85911936431e+13</td><td>2.11178401445e+13</td><td>-100658.132168</td><td>2210447.87508</td></tr>\n",
       "<tr><td>1.85882716168e+13</td><td>2.11809644167e+13</td><td>-103816.384516</td><td>2206854.75914</td></tr>\n",
       "<tr><td>1.85852595514e+13</td><td>2.12439860915e+13</td><td>-106958.89149</td><td>2203268.32195</td></tr>\n",
       "<tr><td>1.85821578954e+13</td><td>2.13069053594e+13</td><td>-110085.763427</td><td>2199688.54615</td></tr>\n",
       "<tr><td>1.85789670941e+13</td><td>2.13697224107e+13</td><td>-113197.109641</td><td>2196115.41431</td></tr>\n",
       "<tr><td>1.85756875896e+13</td><td>2.14324374349e+13</td><td>-116293.038436</td><td>2192548.90896</td></tr>\n",
       "</table>"
      ],
      "text/plain": [
       "<Table length=532>\n",
       "        x                  y               vx             vy      \n",
       "     float64            float64         float64        float64    \n",
       "------------------ ----------------- -------------- --------------\n",
       "  -1.495978707e+13               0.0   2204067.1954 -2889115.10748\n",
       "-1.48965509193e+13    -82571813220.6   2221087.2442 -2889067.93664\n",
       "-1.48328262718e+13   -165140912944.0  2238251.38063 -2888924.81897\n",
       "-1.47686089901e+13   -247704522058.0  2255560.95982  -2888683.3017\n",
       " -1.4703894898e+13   -330259792478.0  2273017.33839 -2888340.87082\n",
       "-1.46386797804e+13   -412803803376.0  2290621.87364 -2887894.94963\n",
       "-1.45729593836e+13   -495333559364.0  2308375.92275 -2887342.89713\n",
       "-1.45067294151e+13   -577845988637.0  2326280.84184 -2886682.00651\n",
       "-1.44399855434e+13   -660337941069.0  2344337.98504 -2885909.50351\n",
       "-1.43727233988e+13   -742806186261.0   2362548.7035 -2885022.54484\n",
       "               ...               ...            ...            ...\n",
       " 1.86019722776e+13 2.08643132513e+13 -87865.4258905   2224887.4711\n",
       " 1.85994149557e+13 2.09278498295e+13 -91087.7839457  2221267.46797\n",
       "  1.8596765769e+13 2.09912830428e+13 -94293.9448268  2217654.21231\n",
       " 1.85940251788e+13 2.10546130838e+13 -97484.0230764  2214047.68707\n",
       " 1.85911936431e+13 2.11178401445e+13 -100658.132168  2210447.87508\n",
       " 1.85882716168e+13 2.11809644167e+13 -103816.384516  2206854.75914\n",
       " 1.85852595514e+13 2.12439860915e+13  -106958.89149  2203268.32195\n",
       " 1.85821578954e+13 2.13069053594e+13 -110085.763427  2199688.54615\n",
       " 1.85789670941e+13 2.13697224107e+13 -113197.109641  2196115.41431\n",
       " 1.85756875896e+13 2.14324374349e+13 -116293.038436  2192548.90896"
      ]
     },
     "execution_count": 24,
     "metadata": {},
     "output_type": "execute_result"
    }
   ],
   "source": [
    "t = ascii.read('./orb.dat')\n",
    "t"
   ]
  },
  {
   "cell_type": "code",
   "execution_count": 25,
   "metadata": {
    "collapsed": true
   },
   "outputs": [],
   "source": [
    "dist = np.sqrt(t['x']**2 + t['y']**2) # distance\n",
    "\n",
    "speed = np.sqrt(t['vx']**2 + t['vy']**2) # speed\n",
    "speed_0 = np.sqrt(t['vx'][0]**2 + t['vy'][0]**2)\n",
    "\n",
    "spec_E = 0.5*speed**2 - G*M/dist # specific energy\n",
    "spec_E0 = 0.5*speed[0]**2 - G*M/dist[0]\n",
    "\n",
    "spec_L = []\n",
    "for i in range(len(t['x'])):\n",
    "    r = np.array([t['x'][i], t['y'][i], 0])\n",
    "    v = np.array([t['vx'][i], t['vy'][i], 0])\n",
    "    spec_L_i = np.linalg.norm(np.cross(r, v))\n",
    "    spec_L.append(spec_L_i)\n",
    "r0 = np.array([t['x'][0], t['y'][0], 0])\n",
    "v0 = np.array([t['vx'][0], t['vy'][0], 0])\n",
    "spec_L0 = np.linalg.norm(np.cross(r0, v0))"
   ]
  },
  {
   "cell_type": "code",
   "execution_count": 31,
   "metadata": {},
   "outputs": [
    {
     "data": {
      "image/png": "[encoded data removed]",
      "text/plain": [
       "<matplotlib.figure.Figure at 0x118fe6080>"
      ]
     },
     "metadata": {},
     "output_type": "display_data"
    }
   ],
   "source": [
    "dark_style = {'axes.labelcolor': 'white',\n",
    "                'xtick.color': 'white',\n",
    "                'ytick.color': 'white',\n",
    "                'axes.facecolor': '#384151',\n",
    "                'grid.color' : 'grey'\n",
    "              }\n",
    "\n",
    "sns.set_style(dark_style)\n",
    "fig, ax = plt.subplots(1, 3, figsize=(10,3))\n",
    "\n",
    "# speed\n",
    "ax[0].plot(speed / speed_0, 'r')\n",
    "ax[0].set_xlabel('step')\n",
    "ax[0].set_ylabel('$v/v_0$')\n",
    "\n",
    "# specific energy\n",
    "ax[1].plot(spec_E / spec_E0, 'g')\n",
    "ax[1].set_xlabel('step')\n",
    "ax[1].set_ylabel('$E/E_0$')\n",
    "\n",
    "# specific angular momentum\n",
    "ax[2].plot(spec_L / spec_L0, 'b')\n",
    "ax[2].set_xlabel('step')\n",
    "ax[2].set_ylabel('$L/L_0$')\n",
    "fig.tight_layout()"
   ]
  },
  {
   "cell_type": "code",
   "execution_count": 91,
   "metadata": {
    "collapsed": true
   },
   "outputs": [],
   "source": [
    "from matplotlib import animation, rc\n",
    "from IPython.display import HTML"
   ]
  },
  {
   "cell_type": "code",
   "execution_count": 181,
   "metadata": {},
   "outputs": [
    {
     "data": {
      "text/html": [
       "<video width=\"432\" height=\"288\" controls autoplay loop>\n",
       "  <source type=\"video/mp4\" src=\"data:video/mp4;base64,AAAAHGZ0eXBNNFYgAAACAGlzb21pc28yYXZjMQAAAAhmcmVlAAAR9W1kYXQAAAKhBgX//53cRem9\n",
       "5tlIt5Ys2CDZI+7veDI2NCAtIGNvcmUgMTM4IC0gSC4yNjQvTVBFRy00IEFWQyBjb2RlYyAtIENv\n",
       "cHlsZWZ0IDIwMDMtMjAxMyAtIGh0dHA6Ly93d3cudmlkZW9sYW4ub3JnL3gyNjQuaHRtbCAtIG9w\n",
       "dGlvbnM6IGNhYmFjPTEgcmVmPTMgZGVibG9jaz0xOjA6MCBhbmFseXNlPTB4MzoweDExMyBtZT1o\n",
       "ZXggc3VibWU9NyBwc3k9MSBwc3lfcmQ9MS4wMDowLjAwIG1peGVkX3JlZj0xIG1lX3JhbmdlPTE2\n",
       "IGNocm9tYV9tZT0xIHRyZWxsaXM9MSA4eDhkY3Q9MSBjcW09MCBkZWFkem9uZT0yMSwxMSBmYXN0\n",
       "X3Bza2lwPTEgY2hyb21hX3FwX29mZnNldD0tMiB0aHJlYWRzPTEyIGxvb2thaGVhZF90aHJlYWRz\n",
       "PTIgc2xpY2VkX3RocmVhZHM9MCBucj0wIGRlY2ltYXRlPTEgaW50ZXJsYWNlZD0wIGJsdXJheV9j\n",
       "b21wYXQ9MCBjb25zdHJhaW5lZF9pbnRyYT0wIGJmcmFtZXM9MyBiX3B5cmFtaWQ9MiBiX2FkYXB0\n",
       "PTEgYl9iaWFzPTAgZGlyZWN0PTEgd2VpZ2h0Yj0xIG9wZW5fZ29wPTAgd2VpZ2h0cD0yIGtleWlu\n",
       "dD0yNTAga2V5aW50X21pbj0yNSBzY2VuZWN1dD00MCBpbnRyYV9yZWZyZXNoPTAgcmNfbG9va2Fo\n",
       "ZWFkPTQwIHJjPWNyZiBtYnRyZWU9MSBjcmY9MjMuMCBxY29tcD0wLjYwIHFwbWluPTAgcXBtYXg9\n",
       "NjkgcXBzdGVwPTQgaXBfcmF0aW89MS40MCBhcT0xOjEuMDAAgAAABClliIQAJ//+9bF8CmrJ84oM\n",
       "6DIu4Zckya62IuJtAMAAAAMABVBKtF84N/34zgAA7ZsVPCS/oAAqd5Mgqddo5ITIbwTrbyospuok\n",
       "B//9yx9/ZJ25F30+5jNme8Q6xV4BqrMURrGLiJCYwbzmao8/ubHFt0jTfB26h2I5R3s2qMbuDMgO\n",
       "vreyhjgd8zTWsX6OJ+/GjFQy+RKcFr50p81QvIEfdvuywm9Ysq6rTqGxvtePQ377pt9m3VfdYqNx\n",
       "iYK3EYVZl1zfXJ+hyOr/WzF/pEcL7F+wSGQ3M1hvMiRKHulHRrsnoXuA2gWxTvTDlRsrz95TlPXU\n",
       "mhALY/pLOGW2FJdn0KllSqvW5VBqtk3SBI+naM0bTpR0wkeyVJ4+Qdgo7+hVWcR/jslBqlsYPlzo\n",
       "lLp8XUNcHd5aHgkUfNbDfCfyaxUM5Zo7BZNZmspFK/ONoDBfH+/LxH/s7AVccNIhlWNVysTpi/Og\n",
       "6s7J2N8PgJJQcdyiGWBl06fiIFgeqoJgHr80kfZeb0OVEqgvJbzVV72F3wB2lUOGqVn/cnXb/IeE\n",
       "XSAWCci39zuo7GkhZFyp+7gNUgE2QN5AFDMluRsFK1/Z6lM6UIGPcRuXszktR+CCO6HnnekbtEtg\n",
       "jw4+dzL57YLlGHDbLZnA81V1GuT3OVy0cL/mO0laK0644aI10CDvlkwKi+zSHshteJ5SOm6pQ4CS\n",
       "ImQPux4PHE1ATVy5KY3bsZhcOlQawhJMUNEOSuWYiOTugbmyprsi83t10CSndMn+NXvX3+GK1oeb\n",
       "6SIPoQOMgLvLbNPqKltU37CvP93VVRjQM3H4Karz4AK4ka6/7peQwYNCGBffsNTv7jM3M+Wub6RF\n",
       "UQKISgz9fLFOJCPdYO6bD+sssBpGlPasegvStuDUfm5Jx9LocXDPwdbYwJTdnbbZbibeMTzY+5PO\n",
       "vcPUVx4L3jRU9x+/B6ILHQ3G4QxpeFpOCgo7TCgVr2Q0UxYgPDI3SUdojvp8ZYsHrbt8TucERex7\n",
       "rhvUXOIU/p8y/FhlpCgHT+n9yhUhqr1/T+68j5AHGG4f0DB+Nj1yZ9xU2e9iRWOCAfcU0VZjhru8\n",
       "94iBKyyBRrOVb3C5MC+mg+WiJqCjaGPz9mYzOZ7u+DCvtsm5GX0zYDPfYhq+h+DpP6mRSjDx+ggC\n",
       "E3+t66QMfhVnuAnhjXRYti0JtEz2K5C52cjmBJvtAKWmAAAOCGiVXF0Cl/QiStNrzc8E+y0E0lQi\n",
       "9GOLfN2+xldYLg4gADXNN6VmxW0Jpxemg5+9K3TfFUFb1YQ6M5+yOMvIJ4utf8dFQLY+e66l68S4\n",
       "ZPtvYxnCfoxNO/uVZbIkmouYqsdLiN2xKp4yWogpyN8EU4RAM/v7Mlq+QMEknqCsCH1lACyTBPQw\n",
       "To05NqkHCmivaJ8mQkAAXvJFlliAZsEAAACVQZokbEJ//fECiYBjeJ4mA4c1Ld+qnQeVoAbbMe6D\n",
       "ArZ2dCRlRkWyVc86rxirBJn/wdb5ciltHPnVgJZI9pyWrSiTaltri425C7uCyqvieFwYQ3F5GpUK\n",
       "vPXCdHi46Bw5lvki6715+H/0QiyCtisoabvW05cX7gJg9ekQvB/CucQ3pp0Fh+X740Izn36a4BYc\n",
       "dwP1YqQAAAAkQZ5CeI3/COMiD9xCmeaUxaeBpt8AEIQGvdxWnR9va8SktlJBAAAAFAGeYXRF/wsi\n",
       "ajqL3PQNkC92iQasAAAAEgGeY2pF/waqO02he5wEg1upgQAAAIlBmmhJqEFomUwIT//98QBu+Tpj\n",
       "SgJ10AKj2DdgbwqGjW4/8cL4D3IuMqY6fgfQ2QKt2PVHGqyPq640+efv4GmKfFpWenyL428GYb8m\n",
       "RGa0/5d+k2PnJPlKI4Vnd2aQYObb4+YC6TlkkaeLIzRTKVRdHA7SDKXPKkyWBuBVyszAsytDBmOH\n",
       "/flG+QAAACZBnoZFESxvACOudg4Tn1gA2Y3u/rqlyrZvWiXyPQsr31i5SMA7oQAAABABnqV0Rf8A\n",
       "LVwMaB12Ub0hAAAACgGep2pF/wAABgQAAAB0QZqsSahBbJlMCE///fEAJ/eOzUwBwukhx3HhNm9g\n",
       "n2uYkh/j3b/G9WAzdkqZbxGfwbhvEuu69vv1ReDNNs0NN27ItWMFn1h+Tmv/CrOEOW5L8Uodrp7o\n",
       "2DqVcSWVXNbEIY5J6p3IH5rUVtuuglWGByelTeAAAAAjQZ7KRRUsbwKsYRCjgcADWXlwnwD93V4m\n",
       "A5Ct2XN1vFt7x8EAAAAOAZ7pdEX/Bqo7Rm9oDegAAAAOAZ7rakX/AAkpT0N0PaAAAABaQZrwSahB\n",
       "bJlMCE///fEAAGxVd8ept4AexCBBOqOsqMCWb584A9wbMntQ17dqGSXNdvLsawKAvQp1n0kF1LHH\n",
       "Ptw0wdFNMhZVE9PVULVET+hPlc2cZff8EauBAAAAK0GfDkUVLG8ABymCLsAFnzk5jMmp/xD0K4gm\n",
       "yucYks1ibjDrfR3nPTqv/5UAAAAWAZ8tdEX/AAk1ZwANkvhsBwavzlh20QAAABgBny9qRf8ACTVn\n",
       "AArX7pgeF3Ubm4QKlTAAAABqQZs0SahBbJlMCE///fEAAGu0g6cax3gGKZkKQKQoQBqXqqGNwXDJ\n",
       "aXtiv0OD0IhuvzbNfNnVPlrMaUcy3bh009zsfNFke5PZzDdeo2+0FIePJ/lNIjUBGv5aq5FaIJDt\n",
       "f/HaCKl+OiUAGwAAADFBn1JFFSxvAAc+49gAlpK/ih/uC+rdihMG+XleYI/PGVSmRCc2w8+CC0V8\n",
       "PmzfovmBAAAAGwGfcXRF/wAJNWcACtXoXDCkeyGfyPh2NWKRpgAAABABn3NqRf8ACSq1BFsBGhb0\n",
       "AAAAaUGbeEmoQWyZTAhP//3xAABp8FvuiCmNtgBaRx8lx6k89n2EInob+rPs3uBjOippsO//oCWe\n",
       "I+bcYAb+l5j3h+jl+TuL7e/XY1FItuRzaOCcl9F4VysclJFWGMufxb8ww9aBpQ6ScQaV4QAAADpB\n",
       "n5ZFFSxvAAcS49gAtaggK6U9Y9MAxNtj0hQQUwME0jeIql4RBlXMLxT9EJYkk2xPO0Z+F86fAXrY\n",
       "AAAAJAGftXRF/wAI5lziswAsdPYByqBE+3jFSS3B7YPaUEgrnhybaQAAACYBn7dqRf8ACKi2j4AH\n",
       "+ewRnqxQQaQpV/RhppVBeI9myuN29j68aQAAAHZBm7xJqEFsmUwIR//94QAApGd/4EiwgGqfKdSw\n",
       "COQpuGlSzDA413lhBm0oSZKxGy6jGr+6C+bZ9ysnBGuiKi6JEj8MN+iaSTK//Cz6IA1UUM3uwyK8\n",
       "f1yuxrHiIXCP14wIw3KZSTe5yf2JPGO0lixkcNyqztWAAAAAMEGf2kUVLG8ABtPmVZsl/0AIwH3b\n",
       "dyCKwNeyavQaElKlkP9l1YLUtP7wk+WN39UG6QAAACUBn/l0Rf8ACK93AQAFnNxtF/3E5s+Rl2MU\n",
       "yiJ2q9rQT4y2YgumAAAAIgGf+2pF/wAIqtmIBkANhpo5OO98M7NNiMgIvyWS2OElCSUAAAB1QZv9\n",
       "SahBbJlMCE///fEAAGu0Cbt4Bjj/AC8x9WnO7olW+vmXFnwnlqNCjSGRgSVxoJuBZxPfpvhYy3oP\n",
       "Pvg0R50vkgpyUSe1JX2K4pf9FZZgYpbQmh7bSRpVoVwQ9jmN0aG2oqHMYpJE+/tQX2cu/GXGVMqB\n",
       "AAAA0EGaAUnhClJlMCE//fEAAMixoMAFdC4mUreIqY/m08yM+T9BvLX+uZ7yp6fWp40TdYK8jVxw\n",
       "ZJZcFm4MG5pV1mtoQoJLyepEOhiuA9RMRC9Ed3sEIsG7rZ721qUzndm7a2pURWYjazuTUCmggbhH\n",
       "eW5eE4Y9JPTPjECkiPd96JqxyoVQ7vC6+NtYvMRqorJ+OAff4vSfsJRNZt8XpKOxKR1LFfylessL\n",
       "3uHARpk8EdU4QNPZR0KWIkAJj3dVdFbfNkT2LB+TGGf9+D/NsuwfNwgAAAAvQZ4/RTRMbwANhLTQ\n",
       "Ap+xQZnDL4eqyomrzWu3JqTAzL2mgu2D8DlgDHG9kAAzRxwAAAA2AZ5edEX/ABBtLNABGMndKHwA\n",
       "U1KWVqAqCEpqsVmwqOgfsrox3CCwa8aZxv7IDf4vVglnTlbBAAAAKQGeQGpF/wAQ4DTcAFsGkl8t\n",
       "XYlyBdpkY7K/ynj9/ZVax3Z6Cz0yqi2gAAAAgUGaRUmoQWiZTAhP//3xAADO6a61lhfvbMAQ9gAn\n",
       "dhxfqbIItd0s/dEc70EmwqITFfcPtYYS/Mr/pTREj5cFsynqu1zbKubO8QjxXDoYZFHw+jKGlcUm\n",
       "d1Cypv89mnYL1KNXJD0JcyXVU7goizQ9fKBYJdiOqlcwEJ2D2mje85ZU0QAAABxBnmNFESxvAA3M\n",
       "08AsAIVrDVy/hn7zmWp8xCz4AAAAJQGegnRF/wAiw+mF4AZztKJDWr68w2RxvfuF3h7cZzXAMmRa\n",
       "lYEAAAAcAZ6EakX/ABFRwjHAAuvjtNZkzFjhQQlqjrakgQAAAGRBmolJqEFsmUwIT//98QAA0+ps\n",
       "O8igzAC2+iXuDrigw7tIiXv6z91NT1hgvUJ7TGB6NpHD79XA6xyrtRs93pSLJbPPbpzqfxTjtir6\n",
       "pcDjonP+op8drZBCasKBQz5ZcwavdYdBAAAAJkGep0UVLG8ADiJdHLABchtwk+T6o4P3lAuantpi\n",
       "EvJnAaQi5bhPAAAAGAGexnRF/wAR6s4AIUhFDQCKrROcmiorYAAAAB0BnshqRf8AIqvSb1AenxgA\n",
       "LMTitWDOF2xbnQ2rpgAAAFBBms1JqEFsmUwIR//94QABUdz8dl+O7HvAAcWRu2Yy7e+T3ir21czO\n",
       "Lh5s1yrBh6CRCGxuBmm6aN9N+pBMwKEu1xRA7X0tEaT3PcQMYwIPSQAAAClBnutFFSxvAA32eBGN\n",
       "p2ACzhNA+2wHYWOq1PBB23hkA8mkDsWuU6vf3QAAAAoBnwp0Rf8AAAYEAAAACgGfDGpF/wAABgUA\n",
       "AABGQZsRSahBbJlMCN/6WAAJ/BdTnnYALZkhlwVaARzQCnLihf8/2wk2TuhYEyOYCIbOMeGUw7EJ\n",
       "FfHCjoWcnP8BTCIDYr47PwAAACtBny9FFSxvAA4SkGnKAFo6VTBNN1YxT+AF+byVdKx1Xl6Y72+X\n",
       "11fekDnxAAAACgGfTnRF/wAABgQAAAAKAZ9QakX/AAAGBAAAACNBm1JJqEFsmUwIv/pYAAUIf8Ta\n",
       "ABb3jb8PA2wL3/dnKXIMCQAABZJtb292AAAAbG12aGQAAAAAAAAAAAAAAAAAAAPoAAAB/gABAAAB\n",
       "AAAAAAAAAAAAAAAAAQAAAAAAAAAAAAAAAAAAAAEAAAAAAAAAAAAAAAAAAEAAAAAAAAAAAAAAAAAA\n",
       "AAAAAAAAAAAAAAAAAAAAAAACAAAEvHRyYWsAAABcdGtoZAAAAAMAAAAAAAAAAAAAAAEAAAAAAAAB\n",
       "/gAAAAAAAAAAAAAAAAAAAAAAAQAAAAAAAAAAAAAAAAAAAAEAAAAAAAAAAAAAAAAAAEAAAAABsAAA\n",
       "ASAAAAAAACRlZHRzAAAAHGVsc3QAAAAAAAAAAQAAAf4AAAEAAAEAAAAABDRtZGlhAAAAIG1kaGQA\n",
       "AAAAAAAAAAAAAAAAADIAAAAZgFXEAAAAAAAtaGRscgAAAAAAAAAAdmlkZQAAAAAAAAAAAAAAAFZp\n",
       "ZGVvSGFuZGxlcgAAAAPfbWluZgAAABR2bWhkAAAAAQAAAAAAAAAAAAAAJGRpbmYAAAAcZHJlZgAA\n",
       "AAAAAAABAAAADHVybCAAAAABAAADn3N0YmwAAACzc3RzZAAAAAAAAAABAAAAo2F2YzEAAAAAAAAA\n",
       "AQAAAAAAAAAAAAAAAAAAAAABsAEgAEgAAABIAAAAAAAAAAEAAAAAAAAAAAAAAAAAAAAAAAAAAAAA\n",
       "AAAAAAAAAAAAAAAY//8AAAAxYXZjQwFkAB//4QAYZ2QAH6zZQbCWhAAAAwAEAAADAyA8YMZYAQAG\n",
       "aOvjyyLAAAAAHHV1aWRraEDyXyRPxbo5pRvPAyPzAAAAAAAAABhzdHRzAAAAAAAAAAEAAAAzAAAA\n",
       "gAAAABRzdHNzAAAAAAAAAAEAAAABAAABqGN0dHMAAAAAAAAAMwAAAAEAAAEAAAAAAQAAAoAAAAAB\n",
       "AAABAAAAAAEAAAAAAAAAAQAAAIAAAAABAAACgAAAAAEAAAEAAAAAAQAAAAAAAAABAAAAgAAAAAEA\n",
       "AAKAAAAAAQAAAQAAAAABAAAAAAAAAAEAAACAAAAAAQAAAoAAAAABAAABAAAAAAEAAAAAAAAAAQAA\n",
       "AIAAAAABAAACgAAAAAEAAAEAAAAAAQAAAAAAAAABAAAAgAAAAAEAAAKAAAAAAQAAAQAAAAABAAAA\n",
       "AAAAAAEAAACAAAAAAQAAAoAAAAABAAABAAAAAAEAAAAAAAAAAQAAAIAAAAABAAABAAAAAAEAAAKA\n",
       "AAAAAQAAAQAAAAABAAAAAAAAAAEAAACAAAAAAQAAAoAAAAABAAABAAAAAAEAAAAAAAAAAQAAAIAA\n",
       "AAABAAACgAAAAAEAAAEAAAAAAQAAAAAAAAABAAAAgAAAAAEAAAKAAAAAAQAAAQAAAAABAAAAAAAA\n",
       "AAEAAACAAAAAAQAAAoAAAAABAAABAAAAAAEAAAAAAAAAAQAAAIAAAAABAAABAAAAABxzdHNjAAAA\n",
       "AAAAAAEAAAABAAAAMwAAAAEAAADgc3RzegAAAAAAAAAAAAAAMwAABtIAAACZAAAAKAAAABgAAAAW\n",
       "AAAAjQAAACoAAAAUAAAADgAAAHgAAAAnAAAAEgAAABIAAABeAAAALwAAABoAAAAcAAAAbgAAADUA\n",
       "AAAfAAAAFAAAAG0AAAA+AAAAKAAAACoAAAB6AAAANAAAACkAAAAmAAAAeQAAANQAAAAzAAAAOgAA\n",
       "AC0AAACFAAAAIAAAACkAAAAgAAAAaAAAACoAAAAcAAAAIQAAAFQAAAAtAAAADgAAAA4AAABKAAAA\n",
       "LwAAAA4AAAAOAAAAJwAAABRzdGNvAAAAAAAAAAEAAAAsAAAAYnVkdGEAAABabWV0YQAAAAAAAAAh\n",
       "aGRscgAAAAAAAAAAbWRpcmFwcGwAAAAAAAAAAAAAAAAtaWxzdAAAACWpdG9vAAAAHWRhdGEAAAAB\n",
       "AAAAAExhdmY1Ny41Ni4xMDE=\n",
       "\">\n",
       "  Your browser does not support the video tag.\n",
       "</video>"
      ],
      "text/plain": [
       "<IPython.core.display.HTML object>"
      ]
     },
     "execution_count": 181,
     "metadata": {},
     "output_type": "execute_result"
    },
    {
     "data": {
      "image/png": "[encoded data removed]",
      "text/plain": [
       "<matplotlib.figure.Figure at 0x11e3c4e48>"
      ]
     },
     "metadata": {},
     "output_type": "display_data"
    }
   ],
   "source": [
    "fig, ax = plt.subplots()\n",
    "\n",
    "lim = 2.5\n",
    "ax.set_xlim(( -lim, lim))\n",
    "ax.set_ylim((-lim, lim))\n",
    "\n",
    "line, = ax.plot([], [], lw=2)\n",
    "line2, = ax.plot([], [], lw=2)\n",
    "\n",
    "# initialization function: plot the background of each frame\n",
    "def init():\n",
    "    line.set_data([], [])\n",
    "    line2.set_data([], [])\n",
    "    return (line,)\n",
    "\n",
    "# animation function. This is called sequentially\n",
    "def animate(i):\n",
    "    x = t['x'][i] / au\n",
    "    y = t['y'][i] / au\n",
    "    line.set_data(x, y)\n",
    "    line.set_marker('o')\n",
    "    line.set_color('red')\n",
    "    \n",
    "    line2.set_data(t['x'][:i] / au, t['y'][:i] / au)\n",
    "    line2.set_color('orange')\n",
    "    return (line,)\n",
    "\n",
    "# call the animator. blit=True means only re-draw the parts that have changed.\n",
    "N = len(t['x'])\n",
    "anim = animation.FuncAnimation(fig, animate, init_func=init, frames=int(N/2), interval=10, blit=True)\n",
    "HTML(anim.to_html5_video())"
   ]
  }
 ],
 "metadata": {
  "kernelspec": {
   "display_name": "Python 3",
   "language": "python",
   "name": "python3"
  },
  "language_info": {
   "codemirror_mode": {
    "name": "ipython",
    "version": 3
   },
   "file_extension": ".py",
   "mimetype": "text/x-python",
   "name": "python",
   "nbconvert_exporter": "python",
   "pygments_lexer": "ipython3",
   "version": "3.6.1"
  },
  "toc": {
   "colors": {
    "hover_highlight": "#ffffff",
    "navigate_num": "#000000",
    "navigate_text": "#ffffff",
    "running_highlight": "#4dff05",
    "selected_highlight": "#FFD700",
    "sidebar_border": "#EEEEEE",
    "wrapper_background": "#000000"
   },
   "moveMenuLeft": true,
   "nav_menu": {
    "height": "4px",
    "width": "254px"
   },
   "navigate_menu": true,
   "number_sections": false,
   "sideBar": true,
   "threshold": 4,
   "toc_cell": false,
   "toc_section_display": "block",
   "toc_window_display": false,
   "widenNotebook": false
  },
  "widgets": {
   "application/vnd.jupyter.widget-state+json": {
    "state": {
     "000700190a2d4cfd818162ffc2c2a997": {
      "model_module": "jupyter-js-widgets",
      "model_module_version": "~2.1.4",
      "model_name": "FloatSliderModel",
      "state": {
       "_model_module_version": "~2.1.4",
       "_view_module_version": "~2.1.4",
       "description": "$dt\\ \\ (T\\ / \\ dt)$",
       "layout": "IPY_MODEL_9c46b3dab76d4672901c660f199882d2",
       "max": 1000,
       "min": 100,
       "step": 10,
       "value": 100
      }
     },
     "02d463794f8b47a9848e68ff6440f91e": {
      "model_module": "jupyter-js-widgets",
      "model_module_version": "~2.1.4",
      "model_name": "LayoutModel",
      "state": {
       "_model_module_version": "~2.1.4",
       "_view_module_version": "~2.1.4"
      }
     },
     "046194e58c374059a35150770f15d5df": {
      "model_module": "jupyter-js-widgets",
      "model_module_version": "~2.1.4",
      "model_name": "LayoutModel",
      "state": {
       "_model_module_version": "~2.1.4",
       "_view_module_version": "~2.1.4"
      }
     },
     "0891b0c3ed064fe487fa42ac8e1b9561": {
      "model_module": "jupyter-js-widgets",
      "model_module_version": "~2.1.4",
      "model_name": "LayoutModel",
      "state": {
       "_model_module_version": "~2.1.4",
       "_view_module_version": "~2.1.4"
      }
     },
     "0cd8bfaa921f4e0ab890bd62e0423aba": {
      "model_module": "jupyter-js-widgets",
      "model_module_version": "~2.1.4",
      "model_name": "LayoutModel",
      "state": {
       "_model_module_version": "~2.1.4",
       "_view_module_version": "~2.1.4"
      }
     },
     "0fe2f56540b84e93812ba02425b4d105": {
      "model_module": "jupyter-js-widgets",
      "model_module_version": "~2.1.4",
      "model_name": "LayoutModel",
      "state": {
       "_model_module_version": "~2.1.4",
       "_view_module_version": "~2.1.4"
      }
     },
     "11bb3eb9dbfa4a8db4ac38c0069e8555": {
      "model_module": "jupyter-js-widgets",
      "model_module_version": "~2.1.4",
      "model_name": "LayoutModel",
      "state": {
       "_model_module_version": "~2.1.4",
       "_view_module_version": "~2.1.4"
      }
     },
     "1356238ebf554f7dba2b1972032224f4": {
      "model_module": "jupyter-js-widgets",
      "model_module_version": "~2.1.4",
      "model_name": "FloatSliderModel",
      "state": {
       "_model_module_version": "~2.1.4",
       "_view_module_version": "~2.1.4",
       "description": "$-v_y / v_c$",
       "layout": "IPY_MODEL_27c5fe966ebc4262b5036d444743548c",
       "max": 2,
       "min": -2,
       "step": 0.01,
       "value": 1
      }
     },
     "14d98a54c36f443fa8aad7dd48fa845b": {
      "model_module": "jupyter-js-widgets",
      "model_module_version": "~2.1.4",
      "model_name": "LayoutModel",
      "state": {
       "_model_module_version": "~2.1.4",
       "_view_module_version": "~2.1.4"
      }
     },
     "1ed153cc4fd3481ea9abb348fff7a909": {
      "model_module": "jupyter-js-widgets",
      "model_module_version": "~2.1.4",
      "model_name": "LayoutModel",
      "state": {
       "_model_module_version": "~2.1.4",
       "_view_module_version": "~2.1.4",
       "display": "inline-flex",
       "flex_flow": "row wrap",
       "justify_content": "flex-start"
      }
     },
     "1f9152faa57d4166a2a4e7b6e8ee2371": {
      "model_module": "jupyter-js-widgets",
      "model_module_version": "~2.1.4",
      "model_name": "FloatSliderModel",
      "state": {
       "_model_module_version": "~2.1.4",
       "_view_module_version": "~2.1.4",
       "description": "$T$ / $1\\ year$",
       "layout": "IPY_MODEL_ae7eaceb61034bada6c9961a56d9bad8",
       "max": 5,
       "min": 0.1,
       "step": 0.01,
       "value": 0.48
      }
     },
     "2079686cd73f4ddcb6d86500070e1d38": {
      "model_module": "jupyter-js-widgets",
      "model_module_version": "~2.1.4",
      "model_name": "LayoutModel",
      "state": {
       "_model_module_version": "~2.1.4",
       "_view_module_version": "~2.1.4"
      }
     },
     "27c5fe966ebc4262b5036d444743548c": {
      "model_module": "jupyter-js-widgets",
      "model_module_version": "~2.1.4",
      "model_name": "LayoutModel",
      "state": {
       "_model_module_version": "~2.1.4",
       "_view_module_version": "~2.1.4"
      }
     },
     "2e668e134d4e433084482797095b0d85": {
      "model_module": "jupyter-js-widgets",
      "model_module_version": "~2.1.4",
      "model_name": "LayoutModel",
      "state": {
       "_model_module_version": "~2.1.4",
       "_view_module_version": "~2.1.4"
      }
     },
     "2e74615c505d4eac85096dc73101e135": {
      "model_module": "jupyter-js-widgets",
      "model_module_version": "~2.1.4",
      "model_name": "OutputModel",
      "state": {
       "_dom_classes": [],
       "_model_module": "jupyter-js-widgets",
       "_model_module_version": "~2.1.4",
       "_view_module": "jupyter-js-widgets",
       "_view_module_version": "~2.1.4",
       "layout": "IPY_MODEL_65a54d7de3184e52aaa71d244255cf06",
       "msg_throttle": 1
      }
     },
     "36098105186e4f06b00d1ff5e77ca91f": {
      "model_module": "jupyter-js-widgets",
      "model_module_version": "~2.1.4",
      "model_name": "FloatSliderModel",
      "state": {
       "_model_module_version": "~2.1.4",
       "_view_module_version": "~2.1.4",
       "description": "$dt\\ \\ (T\\ / \\ dt)$",
       "layout": "IPY_MODEL_b0a7d6f46c3945ffb657f262ea3af589",
       "max": 1000,
       "min": 100,
       "step": 10,
       "value": 510
      }
     },
     "39f12d571e2d44e59bf7952a2e183164": {
      "model_module": "jupyter-js-widgets",
      "model_module_version": "~2.1.4",
      "model_name": "FloatSliderModel",
      "state": {
       "_model_module_version": "~2.1.4",
       "_view_module_version": "~2.1.4",
       "description": "$v_x / v_c$",
       "layout": "IPY_MODEL_0cd8bfaa921f4e0ab890bd62e0423aba",
       "max": 2,
       "min": -2,
       "step": 0.01,
       "value": -0.58
      }
     },
     "43eba3dbf119478da7eb47a4dd797c2a": {
      "model_module": "jupyter-js-widgets",
      "model_module_version": "~2.1.4",
      "model_name": "LayoutModel",
      "state": {
       "_model_module_version": "~2.1.4",
       "_view_module_version": "~2.1.4"
      }
     },
     "45de87ebbeef4a8cb74b3854f7ebd8c9": {
      "model_module": "jupyter-js-widgets",
      "model_module_version": "~2.1.4",
      "model_name": "FloatSliderModel",
      "state": {
       "_model_module_version": "~2.1.4",
       "_view_module_version": "~2.1.4",
       "description": "$-r_x / 1$ $AU$",
       "layout": "IPY_MODEL_43eba3dbf119478da7eb47a4dd797c2a",
       "max": 2,
       "min": 0.1,
       "step": 0.01,
       "value": 1
      }
     },
     "4725f9147e454fb881f9e7c5ef2e35f9": {
      "model_module": "jupyter-js-widgets",
      "model_module_version": "~2.1.4",
      "model_name": "LayoutModel",
      "state": {
       "_model_module_version": "~2.1.4",
       "_view_module_version": "~2.1.4"
      }
     },
     "4773b027c80b4fc3b1116a62eb432ece": {
      "model_module": "jupyter-js-widgets",
      "model_module_version": "~2.1.4",
      "model_name": "VBoxModel",
      "state": {
       "_dom_classes": [
        "widget-interact"
       ],
       "_model_module_version": "~2.1.4",
       "_view_module_version": "~2.1.4",
       "children": [
        "IPY_MODEL_ace1496b56d94ab5b5a0eb812edfaecc",
        "IPY_MODEL_39f12d571e2d44e59bf7952a2e183164",
        "IPY_MODEL_4ff70a7efa9e4b8eb625a52f3c36a43d",
        "IPY_MODEL_d397d31aec4048ed9a061d77a694ac3b",
        "IPY_MODEL_92694a99c19c430d8e90806828325350",
        "IPY_MODEL_2e74615c505d4eac85096dc73101e135"
       ],
       "layout": "IPY_MODEL_a9c78ea7657541ea8c25bb62e81c16cf"
      }
     },
     "4a009eba0ce24daba305b8ba2048bb3b": {
      "model_module": "jupyter-js-widgets",
      "model_module_version": "~2.1.4",
      "model_name": "FloatSliderModel",
      "state": {
       "_model_module_version": "~2.1.4",
       "_view_module_version": "~2.1.4",
       "description": "$dt\\ \\ (T\\ / \\ dt)$",
       "layout": "IPY_MODEL_c7b42552fbd64bb6b6bc00f887d49f3f",
       "max": 1000,
       "min": 100,
       "step": 10,
       "value": 530
      }
     },
     "4ff70a7efa9e4b8eb625a52f3c36a43d": {
      "model_module": "jupyter-js-widgets",
      "model_module_version": "~2.1.4",
      "model_name": "FloatSliderModel",
      "state": {
       "_model_module_version": "~2.1.4",
       "_view_module_version": "~2.1.4",
       "description": "$-v_y / v_c$",
       "layout": "IPY_MODEL_9b033edff3ef4beb9d44682dc42f4488",
       "max": 2,
       "min": -2,
       "step": 0.01,
       "value": 0.35
      }
     },
     "51d64597f9ff48ae898439ed461f406a": {
      "model_module": "jupyter-js-widgets",
      "model_module_version": "~2.1.4",
      "model_name": "LayoutModel",
      "state": {
       "_model_module_version": "~2.1.4",
       "_view_module_version": "~2.1.4"
      }
     },
     "544a23bd04a94de593ce63ba18a55265": {
      "model_module": "jupyter-js-widgets",
      "model_module_version": "~2.1.4",
      "model_name": "FloatSliderModel",
      "state": {
       "_model_module_version": "~2.1.4",
       "_view_module_version": "~2.1.4",
       "description": "$T$ / $1\\ year$",
       "layout": "IPY_MODEL_c69f0d7a59664d56b835c33cfa14ddf0",
       "max": 5,
       "min": 0.1,
       "step": 0.01,
       "value": 1
      }
     },
     "5577986d5a354c26b5ce0cf481e83866": {
      "model_module": "jupyter-js-widgets",
      "model_module_version": "~2.1.4",
      "model_name": "LayoutModel",
      "state": {
       "_model_module_version": "~2.1.4",
       "_view_module_version": "~2.1.4",
       "display": "inline-flex",
       "flex_flow": "row wrap",
       "justify_content": "flex-start"
      }
     },
     "595a484a29be4c608117c35050c331b5": {
      "model_module": "jupyter-js-widgets",
      "model_module_version": "~2.1.4",
      "model_name": "FloatSliderModel",
      "state": {
       "_model_module_version": "~2.1.4",
       "_view_module_version": "~2.1.4",
       "description": "$-v_y / v_c$",
       "layout": "IPY_MODEL_0fe2f56540b84e93812ba02425b4d105",
       "max": 2,
       "min": -2,
       "step": 0.01,
       "value": 0.97
      }
     },
     "5df8ec6d30f0465eac84f086f1e50733": {
      "model_module": "jupyter-js-widgets",
      "model_module_version": "~2.1.4",
      "model_name": "LayoutModel",
      "state": {
       "_model_module_version": "~2.1.4",
       "_view_module_version": "~2.1.4"
      }
     },
     "627ce7135d6f4dd3a79e21eb2d1671aa": {
      "model_module": "jupyter-js-widgets",
      "model_module_version": "~2.1.4",
      "model_name": "VBoxModel",
      "state": {
       "_dom_classes": [
        "widget-interact"
       ],
       "_model_module_version": "~2.1.4",
       "_view_module_version": "~2.1.4",
       "children": [
        "IPY_MODEL_f8013af78adc4ca68dd41a006ac674c8",
        "IPY_MODEL_ee4cba83255343b4b45bd7c07488fed6",
        "IPY_MODEL_ed45ba00f8be40b9896cb10957a79b12",
        "IPY_MODEL_ecb756e9b89243bcbcb06136790ad50a",
        "IPY_MODEL_36098105186e4f06b00d1ff5e77ca91f",
        "IPY_MODEL_720aac94b0b54415b0570c5ad27b92da"
       ],
       "layout": "IPY_MODEL_1ed153cc4fd3481ea9abb348fff7a909"
      }
     },
     "65a54d7de3184e52aaa71d244255cf06": {
      "model_module": "jupyter-js-widgets",
      "model_module_version": "~2.1.4",
      "model_name": "LayoutModel",
      "state": {
       "_model_module_version": "~2.1.4",
       "_view_module_version": "~2.1.4"
      }
     },
     "65fbeda2ddf04019bd0c2135d2443eb7": {
      "model_module": "jupyter-js-widgets",
      "model_module_version": "~2.1.4",
      "model_name": "LayoutModel",
      "state": {
       "_model_module_version": "~2.1.4",
       "_view_module_version": "~2.1.4"
      }
     },
     "720aac94b0b54415b0570c5ad27b92da": {
      "model_module": "jupyter-js-widgets",
      "model_module_version": "~2.1.4",
      "model_name": "OutputModel",
      "state": {
       "_dom_classes": [],
       "_model_module": "jupyter-js-widgets",
       "_model_module_version": "~2.1.4",
       "_view_module": "jupyter-js-widgets",
       "_view_module_version": "~2.1.4",
       "layout": "IPY_MODEL_65fbeda2ddf04019bd0c2135d2443eb7",
       "msg_throttle": 1
      }
     },
     "721ab865e2384ab7b37066416c07d9fb": {
      "model_module": "jupyter-js-widgets",
      "model_module_version": "~2.1.4",
      "model_name": "FloatSliderModel",
      "state": {
       "_model_module_version": "~2.1.4",
       "_view_module_version": "~2.1.4",
       "description": "$v_x / v_c$",
       "layout": "IPY_MODEL_c39d34203cd242fcbd2ba9594b6aa705",
       "max": 2,
       "min": -2,
       "step": 0.01,
       "value": 0.74
      }
     },
     "729d5a126c8944dc89440d7f0a5988f0": {
      "model_module": "jupyter-js-widgets",
      "model_module_version": "~2.1.4",
      "model_name": "LayoutModel",
      "state": {
       "_model_module_version": "~2.1.4",
       "_view_module_version": "~2.1.4",
       "display": "inline-flex",
       "flex_flow": "row wrap",
       "justify_content": "flex-start"
      }
     },
     "749cc084faea4e438d2044157088d303": {
      "model_module": "jupyter-js-widgets",
      "model_module_version": "~2.1.4",
      "model_name": "LayoutModel",
      "state": {
       "_model_module_version": "~2.1.4",
       "_view_module_version": "~2.1.4"
      }
     },
     "78705bd9b7b94331a33d3316c8db97d8": {
      "model_module": "jupyter-js-widgets",
      "model_module_version": "~2.1.4",
      "model_name": "LayoutModel",
      "state": {
       "_model_module_version": "~2.1.4",
       "_view_module_version": "~2.1.4"
      }
     },
     "7d51a7f5ae864616b19a6f202e12ca95": {
      "model_module": "jupyter-js-widgets",
      "model_module_version": "~2.1.4",
      "model_name": "LayoutModel",
      "state": {
       "_model_module_version": "~2.1.4",
       "_view_module_version": "~2.1.4"
      }
     },
     "81d265cbda0440379ba44760e7788e7a": {
      "model_module": "jupyter-js-widgets",
      "model_module_version": "~2.1.4",
      "model_name": "VBoxModel",
      "state": {
       "_dom_classes": [
        "widget-interact"
       ],
       "_model_module_version": "~2.1.4",
       "_view_module_version": "~2.1.4",
       "children": [
        "IPY_MODEL_45de87ebbeef4a8cb74b3854f7ebd8c9",
        "IPY_MODEL_721ab865e2384ab7b37066416c07d9fb",
        "IPY_MODEL_595a484a29be4c608117c35050c331b5",
        "IPY_MODEL_1f9152faa57d4166a2a4e7b6e8ee2371",
        "IPY_MODEL_4a009eba0ce24daba305b8ba2048bb3b",
        "IPY_MODEL_a48909fccf2d473997a19d6abe8a3a8f"
       ],
       "layout": "IPY_MODEL_5577986d5a354c26b5ce0cf481e83866"
      }
     },
     "84caed609e5849d9aa5f750a14e1aad7": {
      "model_module": "jupyter-js-widgets",
      "model_module_version": "~2.1.4",
      "model_name": "FloatSliderModel",
      "state": {
       "_model_module_version": "~2.1.4",
       "_view_module_version": "~2.1.4",
       "description": "$v_x / v_c$",
       "layout": "IPY_MODEL_7d51a7f5ae864616b19a6f202e12ca95",
       "max": 2,
       "min": -2,
       "step": 0.01
      }
     },
     "912ca864dad3499ab6d28fbdf3f2ea35": {
      "model_module": "jupyter-js-widgets",
      "model_module_version": "~2.1.4",
      "model_name": "FloatSliderModel",
      "state": {
       "_model_module_version": "~2.1.4",
       "_view_module_version": "~2.1.4",
       "description": "$T$ / $1\\ year$",
       "layout": "IPY_MODEL_ae381309c97249df8b97471041ff984f",
       "max": 5,
       "min": 0.1,
       "step": 0.01,
       "value": 1
      }
     },
     "92694a99c19c430d8e90806828325350": {
      "model_module": "jupyter-js-widgets",
      "model_module_version": "~2.1.4",
      "model_name": "FloatSliderModel",
      "state": {
       "_model_module_version": "~2.1.4",
       "_view_module_version": "~2.1.4",
       "description": "$dt\\ \\ (T\\ / \\ dt)$",
       "layout": "IPY_MODEL_046194e58c374059a35150770f15d5df",
       "max": 1000,
       "min": 100,
       "step": 10,
       "value": 190
      }
     },
     "97baf7aaf357489ab8be75fffcce9bd0": {
      "model_module": "jupyter-js-widgets",
      "model_module_version": "~2.1.4",
      "model_name": "FloatSliderModel",
      "state": {
       "_model_module_version": "~2.1.4",
       "_view_module_version": "~2.1.4",
       "description": "$-v_y / v_c$",
       "layout": "IPY_MODEL_5df8ec6d30f0465eac84f086f1e50733",
       "max": 2,
       "min": -2,
       "step": 0.01,
       "value": 1
      }
     },
     "983b97ca0aad400aaad8868d5354797d": {
      "model_module": "jupyter-js-widgets",
      "model_module_version": "~2.1.4",
      "model_name": "FloatSliderModel",
      "state": {
       "_model_module_version": "~2.1.4",
       "_view_module_version": "~2.1.4",
       "description": "$v_x / v_c$",
       "layout": "IPY_MODEL_749cc084faea4e438d2044157088d303",
       "max": 2,
       "min": -2,
       "step": 0.01
      }
     },
     "98417e14b9aa4a5cb3ea02085725ae50": {
      "model_module": "jupyter-js-widgets",
      "model_module_version": "~2.1.4",
      "model_name": "LayoutModel",
      "state": {
       "_model_module_version": "~2.1.4",
       "_view_module_version": "~2.1.4",
       "display": "inline-flex",
       "flex_flow": "row wrap",
       "justify_content": "flex-start"
      }
     },
     "9b033edff3ef4beb9d44682dc42f4488": {
      "model_module": "jupyter-js-widgets",
      "model_module_version": "~2.1.4",
      "model_name": "LayoutModel",
      "state": {
       "_model_module_version": "~2.1.4",
       "_view_module_version": "~2.1.4"
      }
     },
     "9b7d359444754f8397a95cbb5a49761f": {
      "model_module": "jupyter-js-widgets",
      "model_module_version": "~2.1.4",
      "model_name": "LayoutModel",
      "state": {
       "_model_module_version": "~2.1.4",
       "_view_module_version": "~2.1.4"
      }
     },
     "9c46b3dab76d4672901c660f199882d2": {
      "model_module": "jupyter-js-widgets",
      "model_module_version": "~2.1.4",
      "model_name": "LayoutModel",
      "state": {
       "_model_module_version": "~2.1.4",
       "_view_module_version": "~2.1.4"
      }
     },
     "9c5da216de42448381ba2332950d8ede": {
      "model_module": "jupyter-js-widgets",
      "model_module_version": "~2.1.4",
      "model_name": "LayoutModel",
      "state": {
       "_model_module_version": "~2.1.4",
       "_view_module_version": "~2.1.4"
      }
     },
     "a48909fccf2d473997a19d6abe8a3a8f": {
      "model_module": "jupyter-js-widgets",
      "model_module_version": "~2.1.4",
      "model_name": "OutputModel",
      "state": {
       "_dom_classes": [],
       "_model_module": "jupyter-js-widgets",
       "_model_module_version": "~2.1.4",
       "_view_module": "jupyter-js-widgets",
       "_view_module_version": "~2.1.4",
       "layout": "IPY_MODEL_2e668e134d4e433084482797095b0d85",
       "msg_throttle": 1
      }
     },
     "a9c78ea7657541ea8c25bb62e81c16cf": {
      "model_module": "jupyter-js-widgets",
      "model_module_version": "~2.1.4",
      "model_name": "LayoutModel",
      "state": {
       "_model_module_version": "~2.1.4",
       "_view_module_version": "~2.1.4",
       "display": "inline-flex",
       "flex_flow": "row wrap",
       "justify_content": "flex-start"
      }
     },
     "ab6178513aac41bd8642494d587d952c": {
      "model_module": "jupyter-js-widgets",
      "model_module_version": "~2.1.4",
      "model_name": "LayoutModel",
      "state": {
       "_model_module_version": "~2.1.4",
       "_view_module_version": "~2.1.4"
      }
     },
     "ace1496b56d94ab5b5a0eb812edfaecc": {
      "model_module": "jupyter-js-widgets",
      "model_module_version": "~2.1.4",
      "model_name": "FloatSliderModel",
      "state": {
       "_model_module_version": "~2.1.4",
       "_view_module_version": "~2.1.4",
       "description": "$-r_x / 1$ $AU$",
       "layout": "IPY_MODEL_4725f9147e454fb881f9e7c5ef2e35f9",
       "max": 2,
       "min": 0.1,
       "step": 0.01,
       "value": 0.43
      }
     },
     "ae381309c97249df8b97471041ff984f": {
      "model_module": "jupyter-js-widgets",
      "model_module_version": "~2.1.4",
      "model_name": "LayoutModel",
      "state": {
       "_model_module_version": "~2.1.4",
       "_view_module_version": "~2.1.4"
      }
     },
     "ae652fa8781f4fc3be722f03788e9794": {
      "model_module": "jupyter-js-widgets",
      "model_module_version": "~2.1.4",
      "model_name": "LayoutModel",
      "state": {
       "_model_module_version": "~2.1.4",
       "_view_module_version": "~2.1.4"
      }
     },
     "ae7eaceb61034bada6c9961a56d9bad8": {
      "model_module": "jupyter-js-widgets",
      "model_module_version": "~2.1.4",
      "model_name": "LayoutModel",
      "state": {
       "_model_module_version": "~2.1.4",
       "_view_module_version": "~2.1.4"
      }
     },
     "b0a7d6f46c3945ffb657f262ea3af589": {
      "model_module": "jupyter-js-widgets",
      "model_module_version": "~2.1.4",
      "model_name": "LayoutModel",
      "state": {
       "_model_module_version": "~2.1.4",
       "_view_module_version": "~2.1.4"
      }
     },
     "b8316ec7f8d14d0392752dc8d3ef4667": {
      "model_module": "jupyter-js-widgets",
      "model_module_version": "~2.1.4",
      "model_name": "OutputModel",
      "state": {
       "_dom_classes": [],
       "_model_module": "jupyter-js-widgets",
       "_model_module_version": "~2.1.4",
       "_view_module": "jupyter-js-widgets",
       "_view_module_version": "~2.1.4",
       "layout": "IPY_MODEL_da34dcf9a5874b2eb35cde66dcc5f59a",
       "msg_throttle": 1
      }
     },
     "be0271ea4389469f9a506ae502d07f71": {
      "model_module": "jupyter-js-widgets",
      "model_module_version": "~2.1.4",
      "model_name": "FloatSliderModel",
      "state": {
       "_model_module_version": "~2.1.4",
       "_view_module_version": "~2.1.4",
       "description": "$-r_x / 1$ $AU$",
       "layout": "IPY_MODEL_78705bd9b7b94331a33d3316c8db97d8",
       "max": 2,
       "min": 0.1,
       "step": 0.01,
       "value": 1
      }
     },
     "c39d34203cd242fcbd2ba9594b6aa705": {
      "model_module": "jupyter-js-widgets",
      "model_module_version": "~2.1.4",
      "model_name": "LayoutModel",
      "state": {
       "_model_module_version": "~2.1.4",
       "_view_module_version": "~2.1.4"
      }
     },
     "c69f0d7a59664d56b835c33cfa14ddf0": {
      "model_module": "jupyter-js-widgets",
      "model_module_version": "~2.1.4",
      "model_name": "LayoutModel",
      "state": {
       "_model_module_version": "~2.1.4",
       "_view_module_version": "~2.1.4"
      }
     },
     "c6b555845e0c4876a947dfae697a0796": {
      "model_module": "jupyter-js-widgets",
      "model_module_version": "~2.1.4",
      "model_name": "FloatSliderModel",
      "state": {
       "_model_module_version": "~2.1.4",
       "_view_module_version": "~2.1.4",
       "description": "$dt\\ \\ (T\\ / \\ dt)$",
       "layout": "IPY_MODEL_11bb3eb9dbfa4a8db4ac38c0069e8555",
       "max": 1000,
       "min": 100,
       "step": 10,
       "value": 550
      }
     },
     "c7b42552fbd64bb6b6bc00f887d49f3f": {
      "model_module": "jupyter-js-widgets",
      "model_module_version": "~2.1.4",
      "model_name": "LayoutModel",
      "state": {
       "_model_module_version": "~2.1.4",
       "_view_module_version": "~2.1.4"
      }
     },
     "d2d58a58c8e1419085749baa80f68bd3": {
      "model_module": "jupyter-js-widgets",
      "model_module_version": "~2.1.4",
      "model_name": "LayoutModel",
      "state": {
       "_model_module_version": "~2.1.4",
       "_view_module_version": "~2.1.4"
      }
     },
     "d397d31aec4048ed9a061d77a694ac3b": {
      "model_module": "jupyter-js-widgets",
      "model_module_version": "~2.1.4",
      "model_name": "FloatSliderModel",
      "state": {
       "_model_module_version": "~2.1.4",
       "_view_module_version": "~2.1.4",
       "description": "$T$ / $1\\ year$",
       "layout": "IPY_MODEL_2079686cd73f4ddcb6d86500070e1d38",
       "max": 5,
       "min": 0.1,
       "step": 0.01,
       "value": 2.29
      }
     },
     "da34dcf9a5874b2eb35cde66dcc5f59a": {
      "model_module": "jupyter-js-widgets",
      "model_module_version": "~2.1.4",
      "model_name": "LayoutModel",
      "state": {
       "_model_module_version": "~2.1.4",
       "_view_module_version": "~2.1.4"
      }
     },
     "e87183b0da27452abed20b74e98072db": {
      "model_module": "jupyter-js-widgets",
      "model_module_version": "~2.1.4",
      "model_name": "LayoutModel",
      "state": {
       "_model_module_version": "~2.1.4",
       "_view_module_version": "~2.1.4"
      }
     },
     "ecb756e9b89243bcbcb06136790ad50a": {
      "model_module": "jupyter-js-widgets",
      "model_module_version": "~2.1.4",
      "model_name": "FloatSliderModel",
      "state": {
       "_model_module_version": "~2.1.4",
       "_view_module_version": "~2.1.4",
       "description": "$T$ / $1\\ year$",
       "layout": "IPY_MODEL_0891b0c3ed064fe487fa42ac8e1b9561",
       "max": 5,
       "min": 0.1,
       "step": 0.01,
       "value": 1
      }
     },
     "ed45ba00f8be40b9896cb10957a79b12": {
      "model_module": "jupyter-js-widgets",
      "model_module_version": "~2.1.4",
      "model_name": "FloatSliderModel",
      "state": {
       "_model_module_version": "~2.1.4",
       "_view_module_version": "~2.1.4",
       "description": "$-v_y / v_c$",
       "layout": "IPY_MODEL_ab6178513aac41bd8642494d587d952c",
       "max": 2,
       "min": -2,
       "step": 0.01,
       "value": 1
      }
     },
     "edeafc6ddd8b4ed1bfb13466d97b6fee": {
      "model_module": "jupyter-js-widgets",
      "model_module_version": "~2.1.4",
      "model_name": "VBoxModel",
      "state": {
       "_dom_classes": [
        "widget-interact"
       ],
       "_model_module_version": "~2.1.4",
       "_view_module_version": "~2.1.4",
       "children": [
        "IPY_MODEL_be0271ea4389469f9a506ae502d07f71",
        "IPY_MODEL_84caed609e5849d9aa5f750a14e1aad7",
        "IPY_MODEL_97baf7aaf357489ab8be75fffcce9bd0",
        "IPY_MODEL_912ca864dad3499ab6d28fbdf3f2ea35",
        "IPY_MODEL_c6b555845e0c4876a947dfae697a0796",
        "IPY_MODEL_b8316ec7f8d14d0392752dc8d3ef4667"
       ],
       "layout": "IPY_MODEL_98417e14b9aa4a5cb3ea02085725ae50"
      }
     },
     "ee4cba83255343b4b45bd7c07488fed6": {
      "model_module": "jupyter-js-widgets",
      "model_module_version": "~2.1.4",
      "model_name": "FloatSliderModel",
      "state": {
       "_model_module_version": "~2.1.4",
       "_view_module_version": "~2.1.4",
       "description": "$v_x / v_c$",
       "layout": "IPY_MODEL_9c5da216de42448381ba2332950d8ede",
       "max": 2,
       "min": -2,
       "step": 0.01,
       "value": -0.53
      }
     },
     "ef4e4139071e49b0bdf557d4c31f79bd": {
      "model_module": "jupyter-js-widgets",
      "model_module_version": "~2.1.4",
      "model_name": "OutputModel",
      "state": {
       "_dom_classes": [],
       "_model_module": "jupyter-js-widgets",
       "_model_module_version": "~2.1.4",
       "_view_module": "jupyter-js-widgets",
       "_view_module_version": "~2.1.4",
       "layout": "IPY_MODEL_51d64597f9ff48ae898439ed461f406a",
       "msg_throttle": 1
      }
     },
     "f8013af78adc4ca68dd41a006ac674c8": {
      "model_module": "jupyter-js-widgets",
      "model_module_version": "~2.1.4",
      "model_name": "FloatSliderModel",
      "state": {
       "_model_module_version": "~2.1.4",
       "_view_module_version": "~2.1.4",
       "description": "$-r_x / 1$ $AU$",
       "layout": "IPY_MODEL_f9ea5d7f2b29485bb100e2fabbbae8b0",
       "max": 2,
       "min": 0.1,
       "step": 0.01,
       "value": 0.74
      }
     },
     "f967351f71744433b4297386e72e7e4f": {
      "model_module": "jupyter-js-widgets",
      "model_module_version": "~2.1.4",
      "model_name": "VBoxModel",
      "state": {
       "_dom_classes": [
        "widget-interact"
       ],
       "_model_module_version": "~2.1.4",
       "_view_module_version": "~2.1.4",
       "children": [
        "IPY_MODEL_fc581c0f7cfa40b8bf5400c0cf03fc24",
        "IPY_MODEL_983b97ca0aad400aaad8868d5354797d",
        "IPY_MODEL_1356238ebf554f7dba2b1972032224f4",
        "IPY_MODEL_544a23bd04a94de593ce63ba18a55265",
        "IPY_MODEL_000700190a2d4cfd818162ffc2c2a997",
        "IPY_MODEL_ef4e4139071e49b0bdf557d4c31f79bd"
       ],
       "layout": "IPY_MODEL_729d5a126c8944dc89440d7f0a5988f0"
      }
     },
     "f9ea5d7f2b29485bb100e2fabbbae8b0": {
      "model_module": "jupyter-js-widgets",
      "model_module_version": "~2.1.4",
      "model_name": "LayoutModel",
      "state": {
       "_model_module_version": "~2.1.4",
       "_view_module_version": "~2.1.4"
      }
     },
     "fc581c0f7cfa40b8bf5400c0cf03fc24": {
      "model_module": "jupyter-js-widgets",
      "model_module_version": "~2.1.4",
      "model_name": "FloatSliderModel",
      "state": {
       "_model_module_version": "~2.1.4",
       "_view_module_version": "~2.1.4",
       "description": "$-r_x / 1$ $AU$",
       "layout": "IPY_MODEL_e87183b0da27452abed20b74e98072db",
       "max": 2,
       "min": 0.1,
       "step": 0.01,
       "value": 1.15
      }
     }
    },
    "version_major": 1,
    "version_minor": 0
   }
  }
 },
 "nbformat": 4,
 "nbformat_minor": 2
}
